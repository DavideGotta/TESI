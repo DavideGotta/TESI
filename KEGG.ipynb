{
 "cells": [
  {
   "cell_type": "code",
   "execution_count": 1,
   "id": "initial_id",
   "metadata": {
    "collapsed": true,
    "ExecuteTime": {
     "end_time": "2024-04-04T09:01:24.724373Z",
     "start_time": "2024-04-04T09:01:24.531421Z"
    }
   },
   "outputs": [
    {
     "data": {
      "text/plain": "      WP_009632395.1  K04751\n0     WP_041548398.1  K02518\n1     WP_073591590.1  K08696\n2     WP_190736661.1  K00355\n3     WP_250121152.1     NaN\n4     WP_250121153.1     NaN\n...              ...     ...\n5300  WP_275983394.1  K02708\n5301  WP_275983395.1  K02003\n5302  WP_275983396.1  K21498\n5303  WP_275983397.1     NaN\n5304  WP_275983398.1     NaN\n\n[5305 rows x 2 columns]",
      "text/html": "<div>\n<style scoped>\n    .dataframe tbody tr th:only-of-type {\n        vertical-align: middle;\n    }\n\n    .dataframe tbody tr th {\n        vertical-align: top;\n    }\n\n    .dataframe thead th {\n        text-align: right;\n    }\n</style>\n<table border=\"1\" class=\"dataframe\">\n  <thead>\n    <tr style=\"text-align: right;\">\n      <th></th>\n      <th>WP_009632395.1</th>\n      <th>K04751</th>\n    </tr>\n  </thead>\n  <tbody>\n    <tr>\n      <th>0</th>\n      <td>WP_041548398.1</td>\n      <td>K02518</td>\n    </tr>\n    <tr>\n      <th>1</th>\n      <td>WP_073591590.1</td>\n      <td>K08696</td>\n    </tr>\n    <tr>\n      <th>2</th>\n      <td>WP_190736661.1</td>\n      <td>K00355</td>\n    </tr>\n    <tr>\n      <th>3</th>\n      <td>WP_250121152.1</td>\n      <td>NaN</td>\n    </tr>\n    <tr>\n      <th>4</th>\n      <td>WP_250121153.1</td>\n      <td>NaN</td>\n    </tr>\n    <tr>\n      <th>...</th>\n      <td>...</td>\n      <td>...</td>\n    </tr>\n    <tr>\n      <th>5300</th>\n      <td>WP_275983394.1</td>\n      <td>K02708</td>\n    </tr>\n    <tr>\n      <th>5301</th>\n      <td>WP_275983395.1</td>\n      <td>K02003</td>\n    </tr>\n    <tr>\n      <th>5302</th>\n      <td>WP_275983396.1</td>\n      <td>K21498</td>\n    </tr>\n    <tr>\n      <th>5303</th>\n      <td>WP_275983397.1</td>\n      <td>NaN</td>\n    </tr>\n    <tr>\n      <th>5304</th>\n      <td>WP_275983398.1</td>\n      <td>NaN</td>\n    </tr>\n  </tbody>\n</table>\n<p>5305 rows × 2 columns</p>\n</div>"
     },
     "execution_count": 1,
     "metadata": {},
     "output_type": "execute_result"
    }
   ],
   "source": [
    "import pandas as pd\n",
    "df=pd.read_csv('/home/davide/Downloads/user_ko.txt',sep='\\t')\n",
    "df"
   ]
  },
  {
   "cell_type": "code",
   "outputs": [
    {
     "data": {
      "text/plain": "      WP_009632395.1  K04751\n0     WP_041548398.1  K02518\n1     WP_073591590.1  K08696\n2     WP_190736661.1  K00355\n5     WP_250121154.1  K02851\n6     WP_250121155.1  K02706\n...              ...     ...\n5294  WP_275983388.1  K05516\n5296  WP_275983390.1  K09767\n5300  WP_275983394.1  K02708\n5301  WP_275983395.1  K02003\n5302  WP_275983396.1  K21498\n\n[2105 rows x 2 columns]",
      "text/html": "<div>\n<style scoped>\n    .dataframe tbody tr th:only-of-type {\n        vertical-align: middle;\n    }\n\n    .dataframe tbody tr th {\n        vertical-align: top;\n    }\n\n    .dataframe thead th {\n        text-align: right;\n    }\n</style>\n<table border=\"1\" class=\"dataframe\">\n  <thead>\n    <tr style=\"text-align: right;\">\n      <th></th>\n      <th>WP_009632395.1</th>\n      <th>K04751</th>\n    </tr>\n  </thead>\n  <tbody>\n    <tr>\n      <th>0</th>\n      <td>WP_041548398.1</td>\n      <td>K02518</td>\n    </tr>\n    <tr>\n      <th>1</th>\n      <td>WP_073591590.1</td>\n      <td>K08696</td>\n    </tr>\n    <tr>\n      <th>2</th>\n      <td>WP_190736661.1</td>\n      <td>K00355</td>\n    </tr>\n    <tr>\n      <th>5</th>\n      <td>WP_250121154.1</td>\n      <td>K02851</td>\n    </tr>\n    <tr>\n      <th>6</th>\n      <td>WP_250121155.1</td>\n      <td>K02706</td>\n    </tr>\n    <tr>\n      <th>...</th>\n      <td>...</td>\n      <td>...</td>\n    </tr>\n    <tr>\n      <th>5294</th>\n      <td>WP_275983388.1</td>\n      <td>K05516</td>\n    </tr>\n    <tr>\n      <th>5296</th>\n      <td>WP_275983390.1</td>\n      <td>K09767</td>\n    </tr>\n    <tr>\n      <th>5300</th>\n      <td>WP_275983394.1</td>\n      <td>K02708</td>\n    </tr>\n    <tr>\n      <th>5301</th>\n      <td>WP_275983395.1</td>\n      <td>K02003</td>\n    </tr>\n    <tr>\n      <th>5302</th>\n      <td>WP_275983396.1</td>\n      <td>K21498</td>\n    </tr>\n  </tbody>\n</table>\n<p>2105 rows × 2 columns</p>\n</div>"
     },
     "execution_count": 3,
     "metadata": {},
     "output_type": "execute_result"
    }
   ],
   "source": [
    "#drop NaN\n",
    "df.dropna(inplace=True)\n",
    "df"
   ],
   "metadata": {
    "collapsed": false,
    "ExecuteTime": {
     "end_time": "2024-04-04T09:01:52.600583Z",
     "start_time": "2024-04-04T09:01:52.592335Z"
    }
   },
   "id": "538b4ad14904ffe6",
   "execution_count": 3
  },
  {
   "cell_type": "code",
   "outputs": [],
   "source": [
    "#save as txt\n",
    "df.to_csv('/home/davide/Downloads/user_ko_filtered.txt',sep='\\t',index=False)"
   ],
   "metadata": {
    "collapsed": false,
    "ExecuteTime": {
     "end_time": "2024-04-04T09:02:27.650349Z",
     "start_time": "2024-04-04T09:02:27.645107Z"
    }
   },
   "id": "9e421d244e46d8fb",
   "execution_count": 4
  },
  {
   "cell_type": "code",
   "outputs": [],
   "source": [],
   "metadata": {
    "collapsed": false
   },
   "id": "5fb702fdbe6b852d"
  }
 ],
 "metadata": {
  "kernelspec": {
   "display_name": "Python 3",
   "language": "python",
   "name": "python3"
  },
  "language_info": {
   "codemirror_mode": {
    "name": "ipython",
    "version": 2
   },
   "file_extension": ".py",
   "mimetype": "text/x-python",
   "name": "python",
   "nbconvert_exporter": "python",
   "pygments_lexer": "ipython2",
   "version": "2.7.6"
  }
 },
 "nbformat": 4,
 "nbformat_minor": 5
}
