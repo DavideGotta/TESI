{
 "cells": [
  {
   "cell_type": "code",
   "outputs": [],
   "source": [
    "from scipy.stats import hypergeom\n",
    "from collections import Counter\n",
    "from statsmodels.stats.multitest import multipletests\n",
    "\n",
    "\n",
    "def kegg_brite_enrichment(pvalue,df, refined=True,filtered=[]):\n",
    "    col = \"pvalue_refined\" if refined else \"pvalue\"\n",
    "    df_cut = df[df[col] < pvalue]\n",
    "    kegg_brite = df_cut[\"KEGG_brite\"].str.split(\", \").tolist()\n",
    "    KEGG_brite_terms = [item for sublist in kegg_brite for item in sublist if not any(f in item for f in filtered)]\n",
    "    KEGG_brite_background = df[\"KEGG_brite\"].str.split(\", \").tolist()\n",
    "    KEGG_brite_background = [item.strip() for sublist in KEGG_brite_background for item in sublist]\n",
    "    KEGG_BRITE_counts = Counter(KEGG_brite_terms)\n",
    "    KEGG_BRITE_background_counts = Counter(KEGG_brite_background)\n",
    "    M = len(dati)  # Total number of genes\n",
    "    n = len(dati[dati[col]<pvalue])  # Number of genes with the motif at p-value < pvalue\n",
    "\n",
    "    p_values = {}\n",
    "    enrichments = {}\n",
    "    genes = {}\n",
    "    # Ensure KEGG_BRITE column is of string type\n",
    "    df['KEGG_brite'] = df['KEGG_brite'].astype(str)\n",
    "    print(n,M)\n",
    "    # Continue with your code...\n",
    "    for term in KEGG_BRITE_counts:\n",
    "        N = KEGG_BRITE_background_counts[term]\n",
    "        x = KEGG_BRITE_counts[term]\n",
    "        print(f\"Term: {term}, x: {x}, n: {n}, N: {N}, M: {M}\")\n",
    "        enrichments[term] = (x / n) / (N / M)\n",
    "        p_values[term] = hypergeom.sf(x - 1, M, N, n)\n",
    "        mask = df_cut['KEGG_brite'].str.contains(term)\n",
    "        filtered_df = df_cut[mask][['protein_id', 'product']]\n",
    "        filtered_df['combined'] = filtered_df.apply(lambda row: f\"{str(row['protein_id'])}({str(row['product'])})\", axis=1)\n",
    "        genes[term] = filtered_df['combined'].str.cat(sep=', ')\n",
    "\n",
    "    # Correct p-values for multiple testing\n",
    "    terms = list(p_values.keys())\n",
    "    pvals = list(p_values.values())\n",
    "    corrected_pvals_bonferroni = multipletests(pvals, method='bonferroni')[\n",
    "        1]  # Change 'bonferroni' to the method you prefer\n",
    "    corrected_pvals_fdr = multipletests(pvals, method='fdr_bh')[1]  # Change 'fdr_bh' to the method you prefer\n",
    "\n",
    "    data = {'KEGG BRITE term': terms, 'p-value': pvals, 'corrected p-value Bonferroni': corrected_pvals_bonferroni,\n",
    "            'corrected p-value FDR Benjamini/Hochberg': corrected_pvals_fdr}\n",
    "    dfKEGG_BRITE = pd.DataFrame(data)\n",
    "    dfKEGG_BRITE['enrichment'] = dfKEGG_BRITE['KEGG BRITE term'].map(enrichments)\n",
    "    dfKEGG_BRITE[\"genes\"] = dfKEGG_BRITE[\"KEGG BRITE term\"].map(genes)\n",
    "    dfKEGG_BRITE = dfKEGG_BRITE.sort_values(by='p-value', ascending=True)\n",
    "    return dfKEGG_BRITE\n"
   ],
   "metadata": {
    "collapsed": false,
    "ExecuteTime": {
     "end_time": "2024-09-30T09:48:37.972120Z",
     "start_time": "2024-09-30T09:48:37.956254Z"
    }
   },
   "id": "ad386d74f9811240",
   "execution_count": 1
  },
  {
   "cell_type": "code",
   "outputs": [],
   "source": [
    "import pandas as pd\n",
    "from scipy.stats import hypergeom\n",
    "from collections import Counter\n",
    "from statsmodels.stats.multitest import multipletests\n",
    "\n",
    "def kegg_brite_enrichment2(pvalue,df, refined=True, filtered=[]):\n",
    "    col = \"pvalue_refined\" if refined else \"pvalue\"\n",
    "    df_cut = df[df[col] < pvalue]\n",
    "\n",
    "    # Process KEGG BRITE terms\n",
    "    kegg_brite = df_cut[\"KEGG_brite\"].str.split(\", \").explode()\n",
    "    kegg_brite = kegg_brite[~kegg_brite.isin(filtered)].str.replace(\"\\n\", \"\")\n",
    "    KEGG_brite_terms = kegg_brite.tolist()\n",
    "\n",
    "    KEGG_brite_background = df[\"KEGG_brite\"].str.split(\", \").explode()\n",
    "    KEGG_brite_background = KEGG_brite_background[~KEGG_brite_background.isin(filtered)].str.replace(\"\\n\", \"\")\n",
    "    KEGG_brite_background = KEGG_brite_background.tolist()\n",
    "\n",
    "    # Count occurrences\n",
    "    KEGG_brite_counts = Counter(KEGG_brite_terms)\n",
    "    KEGG_brite_background_counts = Counter(KEGG_brite_background)\n",
    "\n",
    "    M = len(dati)\n",
    "    n = len(df_cut)\n",
    "\n",
    "    p_values = {}\n",
    "    enrichments = {}\n",
    "    genes = {}\n",
    "\n",
    "    # Ensure KEGG_brite column is of string type\n",
    "    df['KEGG_brite'] = df['KEGG_brite'].astype(str)\n",
    "\n",
    "    for term, x in KEGG_brite_counts.items():\n",
    "        N = KEGG_brite_background_counts[term]\n",
    "        print(f\"Term: {term}, x: {x}, n: {n}, N: {N}, M: {M}\")\n",
    "        enrichments[term] = (x / n) / (N / M)\n",
    "        p_values[term] = hypergeom.sf(x - 1, M, N, n)\n",
    "\n",
    "        mask = df_cut['KEGG_brite'].str.contains(term)\n",
    "        filtered_df = df_cut[mask][['protein_id', 'product']]\n",
    "        filtered_df['combined'] = filtered_df.apply(lambda row: f\"{row['protein_id']}({row['product']})\", axis=1)\n",
    "        genes[term] = ', '.join(filtered_df['combined'].astype(str))\n",
    "\n",
    "    # Correct p-values for multiple testing\n",
    "    terms = list(p_values.keys())\n",
    "    pvals = list(p_values.values())\n",
    "    corrected_pvals_bonferroni = multipletests(pvals, method='bonferroni')[1]\n",
    "    corrected_pvals_fdr = multipletests(pvals, method='fdr_bh')[1]\n",
    "\n",
    "    data = {\n",
    "        'KEGG BRITE term': terms,\n",
    "        'p-value': pvals,\n",
    "        'corrected p-value Bonferroni': corrected_pvals_bonferroni,\n",
    "        'corrected p-value FDR Benjamini/Hochberg': corrected_pvals_fdr\n",
    "    }\n",
    "\n",
    "    dfKEGG_brite = pd.DataFrame(data)\n",
    "    dfKEGG_brite['enrichment'] = dfKEGG_brite['KEGG BRITE term'].map(enrichments)\n",
    "    dfKEGG_brite['genes'] = dfKEGG_brite['KEGG BRITE term'].map(genes)\n",
    "    dfKEGG_brite = dfKEGG_brite.sort_values(by='p-value', ascending=True)\n",
    "\n",
    "    return dfKEGG_brite"
   ],
   "metadata": {
    "collapsed": false,
    "ExecuteTime": {
     "end_time": "2024-09-29T11:38:56.994152Z",
     "start_time": "2024-09-29T11:38:56.989082Z"
    }
   },
   "id": "935620ae40281061",
   "execution_count": 15
  },
  {
   "cell_type": "code",
   "outputs": [],
   "source": [
    "import pandas as pd\n",
    "dati=pd.read_csv(\"/home/davide/Desktop/operoniscorenew.csv\")\n",
    "dfKEGG=dati.dropna(subset=[\"KEGG_brite\"]).copy()\n",
    "dfpathways=dati.dropna(subset=[\"pathways\"]).copy()"
   ],
   "metadata": {
    "collapsed": false,
    "ExecuteTime": {
     "end_time": "2024-09-30T09:48:43.848608Z",
     "start_time": "2024-09-30T09:48:43.806344Z"
    }
   },
   "id": "f243e8db34797be3",
   "execution_count": 2
  },
  {
   "cell_type": "code",
   "outputs": [],
   "source": [
    "\n",
    "from scipy.stats import hypergeom\n",
    "from collections import Counter\n",
    "from statsmodels.stats.multitest import multipletests\n",
    "from scipy.stats import false_discovery_control\n",
    "\n",
    "def kegg_pathways_enrichment(pvalue,df,refined=True,filtered=[]):\n",
    "\n",
    "    col=\"pvalue_refined\" if refined else \"pvalue\"\n",
    "    df_cut=df[df[col]<pvalue]\n",
    "    kegg_pathways = df_cut[\"pathways\"].str.split(\", \").tolist()\n",
    "    kegg_pathways = [item for sublist in kegg_pathways for item in sublist if not any(f in item for f in filtered)]\n",
    "    kegg_pathways=[p.replace(\"\\n\",\"\") for p in kegg_pathways]\n",
    "    KEGG_pathways_terms = kegg_pathways\n",
    "    KEGG_pathways_background = df[\"pathways\"].str.split(\", \").tolist()\n",
    "    KEGG_pathways_background = [item for sublist in KEGG_pathways_background for item in sublist if not any(f in item for f in filtered) and item!=\"None\"]\n",
    "    KEGG_pathways_background=[p.replace(\"\\n\",\"\") for p in KEGG_pathways_background]\n",
    "    \n",
    "    KEGG_pathways_counts = Counter(KEGG_pathways_terms)\n",
    "    KEGG_pathways_background_counts = Counter(KEGG_pathways_background)\n",
    "    M=len(dati)\n",
    "    n=len(dati[dati[col]<pvalue])\n",
    "    p_values = {}\n",
    "    enrichments = {}\n",
    "    genes = {}\n",
    "    # Ensure KEGG_pathways column is of string type\n",
    "    df['pathways'] = df['pathways'].astype(str)\n",
    "    print(M,n)\n",
    "    for term in KEGG_pathways_counts:\n",
    "        x=KEGG_pathways_counts[term]\n",
    "        N=KEGG_pathways_background_counts[term]\n",
    "        enrichments[term] = (x/n)/(N/M)\n",
    "        p_values[term] = hypergeom.sf(x-1, M, N, n)\n",
    "        mask = df_cut['pathways'].str.contains(term)\n",
    "        filtered_df = df_cut[mask][['protein_id', 'product']]\n",
    "        filtered_df['combined'] = filtered_df.apply(lambda row: f\"{str(row['protein_id'])}({str(row['product'])})\", axis=1)\n",
    "        filtered_df['combined'] = filtered_df['combined'].astype(str)\n",
    "        genes[term] = filtered_df['combined'].str.cat(sep=', ')\n",
    "    \n",
    "    # Correct p-values for multiple testing\n",
    "    terms = list(p_values.keys())\n",
    "    pvals = list(p_values.values())\n",
    "    corrected_pvals_bonferroni = multipletests(pvals, method='bonferroni')[1]\n",
    "    corrected_pvals_fdr = multipletests(pvals, method='fdr_bh')[1]\n",
    "    \n",
    "    data = {'KEGG Pathway term': terms, 'p-value': pvals, 'corrected p-value Bonferroni': corrected_pvals_bonferroni, 'corrected p-value FDR Benjamini/Hochberg': corrected_pvals_fdr}\n",
    "    dfKEGG_pathways = pd.DataFrame(data)\n",
    "    dfKEGG_pathways['enrichment'] = dfKEGG_pathways['KEGG Pathway term'].map(enrichments)\n",
    "    dfKEGG_pathways[\"genes\"] = dfKEGG_pathways[\"KEGG Pathway term\"].map(genes)\n",
    "    dfKEGG_pathways = dfKEGG_pathways.sort_values(by='p-value', ascending=True)\n",
    "    return (dfKEGG_pathways,KEGG_pathways_background)"
   ],
   "metadata": {
    "collapsed": false,
    "ExecuteTime": {
     "end_time": "2024-09-29T12:19:12.252397Z",
     "start_time": "2024-09-29T12:19:12.242264Z"
    }
   },
   "id": "af9e5b33fd9c613a",
   "execution_count": 31
  },
  {
   "cell_type": "code",
   "outputs": [
    {
     "name": "stdout",
     "output_type": "stream",
     "text": [
      "4635 88\n"
     ]
    },
    {
     "data": {
      "text/plain": "                                    KEGG Pathway term   p-value  \\\n0                            Homologous recombination  0.000466   \n3                                     DNA replication  0.001285   \n6                                 Thiamine metabolism  0.020788   \n4                                     Mismatch repair  0.044781   \n10            Carbon fixation pathways in prokaryotes  0.064407   \n12                 Taurine and hypotaurine metabolism  0.073832   \n20                 Cysteine and methionine metabolism  0.075117   \n25                              Coumarin biosynthesis  0.091431   \n24                               Gramine biosynthesis  0.091431   \n23                         Benzoxazinoid biosynthesis  0.091431   \n22  Biosynthesis of various plant secondary metabo...  0.091431   \n26                        Furanocoumarin biosynthesis  0.091431   \n27                             Hordatine biosynthesis  0.091431   \n13                            Carotenoid biosynthesis  0.190294   \n8                                   Carbon metabolism  0.213267   \n14                              Arginine biosynthesis  0.220823   \n2                     Terpenoid backbone biosynthesis  0.220823   \n5                           Biosynthesis of cofactors  0.339514   \n15                    Arginine and proline metabolism  0.381508   \n11                                 Methane metabolism  0.381508   \n17                       Glycolysis / Gluconeogenesis  0.449085   \n9                                 Pyruvate metabolism  0.459615   \n18        Amino sugar and nucleotide sugar metabolism  0.563095   \n7        Microbial metabolism in diverse environments  0.569568   \n19                               Porphyrin metabolism  0.618475   \n16                  Biosynthesis of nucleotide sugars  0.685750   \n1               Biosynthesis of secondary metabolites  0.782301   \n21                        Biosynthesis of amino acids  0.871966   \n\n    corrected p-value Bonferroni  corrected p-value FDR Benjamini/Hochberg  \\\n0                       0.013047                                  0.013047   \n3                       0.035993                                  0.017996   \n6                       0.582058                                  0.194019   \n4                       1.000000                                  0.196928   \n10                      1.000000                                  0.196928   \n12                      1.000000                                  0.196928   \n20                      1.000000                                  0.196928   \n25                      1.000000                                  0.196928   \n24                      1.000000                                  0.196928   \n23                      1.000000                                  0.196928   \n22                      1.000000                                  0.196928   \n26                      1.000000                                  0.196928   \n27                      1.000000                                  0.196928   \n13                      1.000000                                  0.363709   \n8                       1.000000                                  0.363709   \n14                      1.000000                                  0.363709   \n2                       1.000000                                  0.363709   \n5                       1.000000                                  0.528133   \n15                      1.000000                                  0.534111   \n11                      1.000000                                  0.534111   \n17                      1.000000                                  0.584964   \n9                       1.000000                                  0.584964   \n18                      1.000000                                  0.664497   \n7                       1.000000                                  0.664497   \n19                      1.000000                                  0.692692   \n16                      1.000000                                  0.738500   \n1                       1.000000                                  0.811275   \n21                      1.000000                                  0.871966   \n\n    enrichment                                              genes  \n0    10.534091  WP_250121493.1(recombinase RecA), WP_250122517...  \n3    13.167614  WP_250122517.1(single-stranded DNA-binding pro...  \n6     8.778409  WP_250123667.1(thiamine-phosphate kinase), WP_...  \n4     5.852273  WP_250122517.1(single-stranded DNA-binding pro...  \n10    4.788223  WP_250121210.1(acetate kinase), WP_250125001.1...  \n12   13.167614                     WP_250121210.1(acetate kinase)  \n20    4.389205  WP_250125000.1(adenosylhomocysteinase), WP_250...  \n25   10.534091     WP_250125002.1(methionine adenosyltransferase)  \n24   10.534091                                                     \n23   10.534091     WP_250125002.1(methionine adenosyltransferase)  \n22   10.534091                                                     \n26   10.534091     WP_250125002.1(methionine adenosyltransferase)  \n27   10.534091     WP_250125002.1(methionine adenosyltransferase)  \n13    4.788223              WP_250122752.1(fatty acid desaturase)  \n8     1.881088  WP_250121210.1(acetate kinase), WP_250122087.1...  \n14    4.051573    WP_250123472.1(nitric oxide synthase oxygenase)  \n2     4.051573  WP_250121247.1(4-(cytidine 5'-diphospho)-2-C-m...  \n5     1.359238  WP_250123667.1(thiamine-phosphate kinase), WP_...  \n15    2.106818    WP_250123472.1(nitric oxide synthase oxygenase)  \n11    2.106818                     WP_250121210.1(acetate kinase)  \n17    1.699047                 WP_250122087.1(ROK family protein)  \n9     1.645952                     WP_250121210.1(acetate kinase)  \n18    1.224894                 WP_250122087.1(ROK family protein)  \n7     1.019428  WP_250121210.1(acetate kinase), WP_250122087.1...  \n19    1.053409         WP_250122089.1(sirohydrochlorin chelatase)  \n16    0.877841                 WP_250122087.1(ROK family protein)  \n1     0.776850  WP_250121247.1(4-(cytidine 5'-diphospho)-2-C-m...  \n21    0.496891     WP_250125002.1(methionine adenosyltransferase)  ",
      "text/html": "<div>\n<style scoped>\n    .dataframe tbody tr th:only-of-type {\n        vertical-align: middle;\n    }\n\n    .dataframe tbody tr th {\n        vertical-align: top;\n    }\n\n    .dataframe thead th {\n        text-align: right;\n    }\n</style>\n<table border=\"1\" class=\"dataframe\">\n  <thead>\n    <tr style=\"text-align: right;\">\n      <th></th>\n      <th>KEGG Pathway term</th>\n      <th>p-value</th>\n      <th>corrected p-value Bonferroni</th>\n      <th>corrected p-value FDR Benjamini/Hochberg</th>\n      <th>enrichment</th>\n      <th>genes</th>\n    </tr>\n  </thead>\n  <tbody>\n    <tr>\n      <th>0</th>\n      <td>Homologous recombination</td>\n      <td>0.000466</td>\n      <td>0.013047</td>\n      <td>0.013047</td>\n      <td>10.534091</td>\n      <td>WP_250121493.1(recombinase RecA), WP_250122517...</td>\n    </tr>\n    <tr>\n      <th>3</th>\n      <td>DNA replication</td>\n      <td>0.001285</td>\n      <td>0.035993</td>\n      <td>0.017996</td>\n      <td>13.167614</td>\n      <td>WP_250122517.1(single-stranded DNA-binding pro...</td>\n    </tr>\n    <tr>\n      <th>6</th>\n      <td>Thiamine metabolism</td>\n      <td>0.020788</td>\n      <td>0.582058</td>\n      <td>0.194019</td>\n      <td>8.778409</td>\n      <td>WP_250123667.1(thiamine-phosphate kinase), WP_...</td>\n    </tr>\n    <tr>\n      <th>4</th>\n      <td>Mismatch repair</td>\n      <td>0.044781</td>\n      <td>1.000000</td>\n      <td>0.196928</td>\n      <td>5.852273</td>\n      <td>WP_250122517.1(single-stranded DNA-binding pro...</td>\n    </tr>\n    <tr>\n      <th>10</th>\n      <td>Carbon fixation pathways in prokaryotes</td>\n      <td>0.064407</td>\n      <td>1.000000</td>\n      <td>0.196928</td>\n      <td>4.788223</td>\n      <td>WP_250121210.1(acetate kinase), WP_250125001.1...</td>\n    </tr>\n    <tr>\n      <th>12</th>\n      <td>Taurine and hypotaurine metabolism</td>\n      <td>0.073832</td>\n      <td>1.000000</td>\n      <td>0.196928</td>\n      <td>13.167614</td>\n      <td>WP_250121210.1(acetate kinase)</td>\n    </tr>\n    <tr>\n      <th>20</th>\n      <td>Cysteine and methionine metabolism</td>\n      <td>0.075117</td>\n      <td>1.000000</td>\n      <td>0.196928</td>\n      <td>4.389205</td>\n      <td>WP_250125000.1(adenosylhomocysteinase), WP_250...</td>\n    </tr>\n    <tr>\n      <th>25</th>\n      <td>Coumarin biosynthesis</td>\n      <td>0.091431</td>\n      <td>1.000000</td>\n      <td>0.196928</td>\n      <td>10.534091</td>\n      <td>WP_250125002.1(methionine adenosyltransferase)</td>\n    </tr>\n    <tr>\n      <th>24</th>\n      <td>Gramine biosynthesis</td>\n      <td>0.091431</td>\n      <td>1.000000</td>\n      <td>0.196928</td>\n      <td>10.534091</td>\n      <td></td>\n    </tr>\n    <tr>\n      <th>23</th>\n      <td>Benzoxazinoid biosynthesis</td>\n      <td>0.091431</td>\n      <td>1.000000</td>\n      <td>0.196928</td>\n      <td>10.534091</td>\n      <td>WP_250125002.1(methionine adenosyltransferase)</td>\n    </tr>\n    <tr>\n      <th>22</th>\n      <td>Biosynthesis of various plant secondary metabo...</td>\n      <td>0.091431</td>\n      <td>1.000000</td>\n      <td>0.196928</td>\n      <td>10.534091</td>\n      <td></td>\n    </tr>\n    <tr>\n      <th>26</th>\n      <td>Furanocoumarin biosynthesis</td>\n      <td>0.091431</td>\n      <td>1.000000</td>\n      <td>0.196928</td>\n      <td>10.534091</td>\n      <td>WP_250125002.1(methionine adenosyltransferase)</td>\n    </tr>\n    <tr>\n      <th>27</th>\n      <td>Hordatine biosynthesis</td>\n      <td>0.091431</td>\n      <td>1.000000</td>\n      <td>0.196928</td>\n      <td>10.534091</td>\n      <td>WP_250125002.1(methionine adenosyltransferase)</td>\n    </tr>\n    <tr>\n      <th>13</th>\n      <td>Carotenoid biosynthesis</td>\n      <td>0.190294</td>\n      <td>1.000000</td>\n      <td>0.363709</td>\n      <td>4.788223</td>\n      <td>WP_250122752.1(fatty acid desaturase)</td>\n    </tr>\n    <tr>\n      <th>8</th>\n      <td>Carbon metabolism</td>\n      <td>0.213267</td>\n      <td>1.000000</td>\n      <td>0.363709</td>\n      <td>1.881088</td>\n      <td>WP_250121210.1(acetate kinase), WP_250122087.1...</td>\n    </tr>\n    <tr>\n      <th>14</th>\n      <td>Arginine biosynthesis</td>\n      <td>0.220823</td>\n      <td>1.000000</td>\n      <td>0.363709</td>\n      <td>4.051573</td>\n      <td>WP_250123472.1(nitric oxide synthase oxygenase)</td>\n    </tr>\n    <tr>\n      <th>2</th>\n      <td>Terpenoid backbone biosynthesis</td>\n      <td>0.220823</td>\n      <td>1.000000</td>\n      <td>0.363709</td>\n      <td>4.051573</td>\n      <td>WP_250121247.1(4-(cytidine 5'-diphospho)-2-C-m...</td>\n    </tr>\n    <tr>\n      <th>5</th>\n      <td>Biosynthesis of cofactors</td>\n      <td>0.339514</td>\n      <td>1.000000</td>\n      <td>0.528133</td>\n      <td>1.359238</td>\n      <td>WP_250123667.1(thiamine-phosphate kinase), WP_...</td>\n    </tr>\n    <tr>\n      <th>15</th>\n      <td>Arginine and proline metabolism</td>\n      <td>0.381508</td>\n      <td>1.000000</td>\n      <td>0.534111</td>\n      <td>2.106818</td>\n      <td>WP_250123472.1(nitric oxide synthase oxygenase)</td>\n    </tr>\n    <tr>\n      <th>11</th>\n      <td>Methane metabolism</td>\n      <td>0.381508</td>\n      <td>1.000000</td>\n      <td>0.534111</td>\n      <td>2.106818</td>\n      <td>WP_250121210.1(acetate kinase)</td>\n    </tr>\n    <tr>\n      <th>17</th>\n      <td>Glycolysis / Gluconeogenesis</td>\n      <td>0.449085</td>\n      <td>1.000000</td>\n      <td>0.584964</td>\n      <td>1.699047</td>\n      <td>WP_250122087.1(ROK family protein)</td>\n    </tr>\n    <tr>\n      <th>9</th>\n      <td>Pyruvate metabolism</td>\n      <td>0.459615</td>\n      <td>1.000000</td>\n      <td>0.584964</td>\n      <td>1.645952</td>\n      <td>WP_250121210.1(acetate kinase)</td>\n    </tr>\n    <tr>\n      <th>18</th>\n      <td>Amino sugar and nucleotide sugar metabolism</td>\n      <td>0.563095</td>\n      <td>1.000000</td>\n      <td>0.664497</td>\n      <td>1.224894</td>\n      <td>WP_250122087.1(ROK family protein)</td>\n    </tr>\n    <tr>\n      <th>7</th>\n      <td>Microbial metabolism in diverse environments</td>\n      <td>0.569568</td>\n      <td>1.000000</td>\n      <td>0.664497</td>\n      <td>1.019428</td>\n      <td>WP_250121210.1(acetate kinase), WP_250122087.1...</td>\n    </tr>\n    <tr>\n      <th>19</th>\n      <td>Porphyrin metabolism</td>\n      <td>0.618475</td>\n      <td>1.000000</td>\n      <td>0.692692</td>\n      <td>1.053409</td>\n      <td>WP_250122089.1(sirohydrochlorin chelatase)</td>\n    </tr>\n    <tr>\n      <th>16</th>\n      <td>Biosynthesis of nucleotide sugars</td>\n      <td>0.685750</td>\n      <td>1.000000</td>\n      <td>0.738500</td>\n      <td>0.877841</td>\n      <td>WP_250122087.1(ROK family protein)</td>\n    </tr>\n    <tr>\n      <th>1</th>\n      <td>Biosynthesis of secondary metabolites</td>\n      <td>0.782301</td>\n      <td>1.000000</td>\n      <td>0.811275</td>\n      <td>0.776850</td>\n      <td>WP_250121247.1(4-(cytidine 5'-diphospho)-2-C-m...</td>\n    </tr>\n    <tr>\n      <th>21</th>\n      <td>Biosynthesis of amino acids</td>\n      <td>0.871966</td>\n      <td>1.000000</td>\n      <td>0.871966</td>\n      <td>0.496891</td>\n      <td>WP_250125002.1(methionine adenosyltransferase)</td>\n    </tr>\n  </tbody>\n</table>\n</div>"
     },
     "execution_count": 32,
     "metadata": {},
     "output_type": "execute_result"
    }
   ],
   "source": [
    "with open(\"/home/davide/Desktop/filteredpathways.txt\", \"r\") as f:\n",
    "    filtered = f.readlines()\n",
    "filtered= [x.strip() for x in filtered]\n",
    "dfKEGG_pathways,back=kegg_pathways_enrichment(0.01,dfpathways,refined=True,filtered=filtered)\n",
    "dfKEGG_pathways"
   ],
   "metadata": {
    "collapsed": false,
    "ExecuteTime": {
     "end_time": "2024-09-29T12:19:45.402131Z",
     "start_time": "2024-09-29T12:19:45.305456Z"
    }
   },
   "id": "fea1346ccfa21aee",
   "execution_count": 32
  },
  {
   "cell_type": "code",
   "outputs": [
    {
     "name": "stdout",
     "output_type": "stream",
     "text": [
      "4635 86\n",
      "4635 281\n",
      "4635 88\n",
      "4635 235\n"
     ]
    }
   ],
   "source": [
    "#open /home/davide/Desktop/filteredpathways.txt and make a list of the string for every line\n",
    "with open(\"/home/davide/Desktop/filteredpathways.txt\", \"r\") as f:\n",
    "    filtered = f.readlines()\n",
    "filtered= [x.strip() for x in filtered]\n",
    "dfKEGG_pathways,back=kegg_pathways_enrichment(0.01,dfpathways,refined=False,filtered=filtered)\n",
    "dfKEGG_pathways.round(6).to_excel(\"/home/davide/Desktop/KEGG_pathways_enrichment01new.xlsx\",index=False)\n",
    "dfKEGG_pathways,back=kegg_pathways_enrichment(0.05,dfpathways,refined=False,filtered=filtered)\n",
    "dfKEGG_pathways.round(6).to_excel(\"/home/davide/Desktop/KEGG_pathways_enrichment05new.xlsx\",index=False)\n",
    "dfKEGG_pathways,back=kegg_pathways_enrichment(0.01,dfpathways,refined=True,filtered=filtered)\n",
    "dfKEGG_pathways.round(6).to_excel(\"/home/davide/Desktop/KEGG_pathways_enrichment01refinednew.xlsx\",index=False)\n",
    "dfKEGG_pathways,back=kegg_pathways_enrichment(0.05,dfpathways,refined=True,filtered=filtered)\n",
    "dfKEGG_pathways.round(6).to_excel(\"/home/davide/Desktop/KEGG_pathways_enrichment05refinednew.xlsx\",index=False)\n"
   ],
   "metadata": {
    "collapsed": false,
    "ExecuteTime": {
     "end_time": "2024-09-29T12:21:07.167259Z",
     "start_time": "2024-09-29T12:21:06.821020Z"
    }
   },
   "id": "c6f521eaebd66e5c",
   "execution_count": 33
  },
  {
   "cell_type": "code",
   "outputs": [
    {
     "name": "stdout",
     "output_type": "stream",
     "text": [
      "235 4635\n",
      "Term: ko03400 DNA repair and recombination proteins, x: 9, n: 235, N: 57, M: 4635\n",
      "Term: ko01002 Peptidases and inhibitors, x: 6, n: 235, N: 59, M: 4635\n",
      "Term: ko03009 Ribosome biogenesis, x: 2, n: 235, N: 37, M: 4635\n",
      "Term: ko03032 DNA replication proteins, x: 5, n: 235, N: 19, M: 4635\n",
      "Term: ko01504 Antimicrobial resistance genes, x: 1, n: 235, N: 6, M: 4635\n",
      "Term: ko03016 Transfer RNA biogenesis, x: 2, n: 235, N: 66, M: 4635\n",
      "Term: ko02048 Prokaryotic defense system, x: 3, n: 235, N: 38, M: 4635\n",
      "Term: ko03036 Chromosome and associated proteins, x: 3, n: 235, N: 39, M: 4635\n",
      "Term: ko01009 Protein phosphatases and associated proteins, x: 1, n: 235, N: 3, M: 4635\n",
      "Term: ko04147 Exosome, x: 2, n: 235, N: 43, M: 4635\n",
      "Term: ko02000 Transporters, x: 10, n: 235, N: 305, M: 4635\n",
      "Term: ko01005 Lipopolysaccharide biosynthesis proteins, x: 1, n: 235, N: 16, M: 4635\n",
      "Term: ko03011 Ribosome, x: 2, n: 235, N: 54, M: 4635\n",
      "Term: ko03019 Messenger RNA biogenesis, x: 1, n: 235, N: 17, M: 4635\n",
      "Term: ko03021 Transcription machinery, x: 1, n: 235, N: 19, M: 4635\n",
      "Term: ko03000 Transcription factors, x: 1, n: 235, N: 37, M: 4635\n",
      "Term: ko00194 Photosynthesis proteins, x: 2, n: 235, N: 75, M: 4635\n",
      "Term: ko03110 Chaperones and folding catalysts, x: 1, n: 235, N: 38, M: 4635\n",
      "Term: ko01001 Protein kinases, x: 1, n: 235, N: 22, M: 4635\n",
      "Term: ko02022 Two-component system, x: 1, n: 235, N: 26, M: 4635\n",
      "Term: ko03012 Translation factors, x: 1, n: 235, N: 14, M: 4635\n",
      "Term: ko01007 Amino acid related enzymes, x: 1, n: 235, N: 33, M: 4635\n",
      "88 4635\n",
      "Term: ko03400 DNA repair and recombination proteins, x: 6, n: 88, N: 57, M: 4635\n",
      "Term: ko01002 Peptidases and inhibitors, x: 4, n: 88, N: 59, M: 4635\n",
      "Term: ko03009 Ribosome biogenesis, x: 2, n: 88, N: 37, M: 4635\n",
      "Term: ko03032 DNA replication proteins, x: 3, n: 88, N: 19, M: 4635\n",
      "Term: ko01504 Antimicrobial resistance genes, x: 1, n: 88, N: 6, M: 4635\n",
      "Term: ko03016 Transfer RNA biogenesis, x: 1, n: 88, N: 66, M: 4635\n",
      "Term: ko02048 Prokaryotic defense system, x: 1, n: 88, N: 38, M: 4635\n",
      "Term: ko03036 Chromosome and associated proteins, x: 1, n: 88, N: 39, M: 4635\n",
      "Term: ko01009 Protein phosphatases and associated proteins, x: 1, n: 88, N: 3, M: 4635\n",
      "Term: ko04147 Exosome, x: 1, n: 88, N: 43, M: 4635\n",
      "Term: ko02000 Transporters, x: 1, n: 88, N: 305, M: 4635\n"
     ]
    }
   ],
   "source": [
    "KEGGbrite05=kegg_brite_enrichment(0.05,dfKEGG,refined=True,filtered=[\"Mitochondrial\"])\n",
    "KEGGbrite01=kegg_brite_enrichment(0.01,dfKEGG,refined=True,filtered=[\"Mitochondrial\"])\n",
    "#transform all values to at max 6 decimal places\n",
    "KEGGbrite05=KEGGbrite05.round(6)\n",
    "KEGGbrite01=KEGGbrite01.round(6)\n",
    "KEGGbrite05.to_csv(\"/home/davide/Desktop/KEGGbrite_enrichment05new.csv\",index=False)\n",
    "KEGGbrite01.to_csv(\"/home/davide/Desktop/KEGGbrite_enrichment01new.csv\",index=False)"
   ],
   "metadata": {
    "collapsed": false,
    "ExecuteTime": {
     "end_time": "2024-09-30T09:50:35.345027Z",
     "start_time": "2024-09-30T09:50:35.296874Z"
    }
   },
   "id": "814597bd556599a3",
   "execution_count": 7
  },
  {
   "cell_type": "code",
   "outputs": [
    {
     "data": {
      "text/plain": "                                      KEGG BRITE term   p-value  \\\n0       ko03400 DNA repair and recombination proteins  0.002020   \n3                    ko03032 DNA replication proteins  0.002079   \n1                   ko01002 Peptidases and inhibitors  0.076500   \n8   ko01009 Protein phosphatases and associated pr...  0.144552   \n4              ko01504 Antimicrobial resistance genes  0.268284   \n6                  ko02048 Prokaryotic defense system  0.302748   \n7          ko03036 Chromosome and associated proteins  0.316881   \n20                        ko03012 Translation factors  0.517847   \n11   ko01005 Lipopolysaccharide biosynthesis proteins  0.565645   \n2                         ko03009 Ribosome biogenesis  0.566905   \n13                   ko03019 Messenger RNA biogenesis  0.587743   \n14                    ko03021 Transcription machinery  0.628638   \n9                                     ko04147 Exosome  0.649450   \n18                            ko01001 Protein kinases  0.682528   \n19                       ko02022 Two-component system  0.742461   \n12                                   ko03011 Ribosome  0.767863   \n21                 ko01007 Amino acid related enzymes  0.821498   \n15                      ko03000 Transcription factors  0.855270   \n5                     ko03016 Transfer RNA biogenesis  0.855982   \n17           ko03110 Chaperones and folding catalysts  0.862667   \n16                    ko00194 Photosynthesis proteins  0.900792   \n10                               ko02000 Transporters  0.953705   \n\n    corrected p-value Bonferroni  corrected p-value FDR Benjamini/Hochberg  \\\n0                       0.044440                                  0.022864   \n3                       0.045727                                  0.022864   \n1                       1.000000                                  0.560999   \n8                       1.000000                                  0.795034   \n4                       1.000000                                  0.943687   \n6                       1.000000                                  0.943687   \n7                       1.000000                                  0.943687   \n20                      1.000000                                  0.943687   \n11                      1.000000                                  0.943687   \n2                       1.000000                                  0.943687   \n13                      1.000000                                  0.943687   \n14                      1.000000                                  0.943687   \n9                       1.000000                                  0.943687   \n18                      1.000000                                  0.943687   \n19                      1.000000                                  0.943687   \n12                      1.000000                                  0.943687   \n21                      1.000000                                  0.943687   \n15                      1.000000                                  0.943687   \n5                       1.000000                                  0.943687   \n17                      1.000000                                  0.943687   \n16                      1.000000                                  0.943687   \n10                      1.000000                                  0.953705   \n\n    enrichment                                              genes  \n0     3.114222  WP_250121493.1(recombinase RecA), WP_250121220...  \n3     5.190370  WP_250122517.1(single-stranded DNA-binding pro...  \n1     2.005770  WP_250121220.1(transcriptional repressor LexA)...  \n8     6.574468             WP_250125000.1(adenosylhomocysteinase)  \n4     3.287234                 WP_250121209.1(phosphotransferase)  \n6     1.557111  WP_250125134.1(cysteine desulfurase family pro...  \n7     1.517185  WP_250124608.1(Dps family protein), WP_2501216...  \n20    1.408815          WP_250123877.1(ribosome recycling factor)  \n11    1.232713  WP_250123003.1(glycosyltransferase family 2 pr...  \n2     1.066130  WP_250121246.1(16S rRNA (adenine(1518)-N(6)/ad...  \n13    1.160200                     WP_250124262.1(ribonuclease R)  \n14    1.038074     WP_250122950.1(STAS domain-containing protein)  \n9     0.917368  WP_250125000.1(adenosylhomocysteinase), WP_250...  \n18    0.896518                WP_250121534.1(ATP-binding protein)  \n19    0.758592                WP_250121534.1(ATP-binding protein)  \n12    0.730496  WP_250121290.1(30S ribosomal protein S10), WP_...  \n21    0.597679  WP_250122576.1(histidinol-phosphate transaminase)  \n15    0.533065     WP_250121676.1(DNA cytosine methyltransferase)  \n5     0.597679  WP_250125134.1(cysteine desulfurase family pro...  \n17    0.519037                        WP_250122233.1(thioredoxin)  \n16    0.525957  WP_250124533.1(PetM family cytochrome b6-f com...  \n10    0.646669  WP_250125819.1(AEC family transporter), WP_250...  ",
      "text/html": "<div>\n<style scoped>\n    .dataframe tbody tr th:only-of-type {\n        vertical-align: middle;\n    }\n\n    .dataframe tbody tr th {\n        vertical-align: top;\n    }\n\n    .dataframe thead th {\n        text-align: right;\n    }\n</style>\n<table border=\"1\" class=\"dataframe\">\n  <thead>\n    <tr style=\"text-align: right;\">\n      <th></th>\n      <th>KEGG BRITE term</th>\n      <th>p-value</th>\n      <th>corrected p-value Bonferroni</th>\n      <th>corrected p-value FDR Benjamini/Hochberg</th>\n      <th>enrichment</th>\n      <th>genes</th>\n    </tr>\n  </thead>\n  <tbody>\n    <tr>\n      <th>0</th>\n      <td>ko03400 DNA repair and recombination proteins</td>\n      <td>0.002020</td>\n      <td>0.044440</td>\n      <td>0.022864</td>\n      <td>3.114222</td>\n      <td>WP_250121493.1(recombinase RecA), WP_250121220...</td>\n    </tr>\n    <tr>\n      <th>3</th>\n      <td>ko03032 DNA replication proteins</td>\n      <td>0.002079</td>\n      <td>0.045727</td>\n      <td>0.022864</td>\n      <td>5.190370</td>\n      <td>WP_250122517.1(single-stranded DNA-binding pro...</td>\n    </tr>\n    <tr>\n      <th>1</th>\n      <td>ko01002 Peptidases and inhibitors</td>\n      <td>0.076500</td>\n      <td>1.000000</td>\n      <td>0.560999</td>\n      <td>2.005770</td>\n      <td>WP_250121220.1(transcriptional repressor LexA)...</td>\n    </tr>\n    <tr>\n      <th>8</th>\n      <td>ko01009 Protein phosphatases and associated pr...</td>\n      <td>0.144552</td>\n      <td>1.000000</td>\n      <td>0.795034</td>\n      <td>6.574468</td>\n      <td>WP_250125000.1(adenosylhomocysteinase)</td>\n    </tr>\n    <tr>\n      <th>4</th>\n      <td>ko01504 Antimicrobial resistance genes</td>\n      <td>0.268284</td>\n      <td>1.000000</td>\n      <td>0.943687</td>\n      <td>3.287234</td>\n      <td>WP_250121209.1(phosphotransferase)</td>\n    </tr>\n    <tr>\n      <th>6</th>\n      <td>ko02048 Prokaryotic defense system</td>\n      <td>0.302748</td>\n      <td>1.000000</td>\n      <td>0.943687</td>\n      <td>1.557111</td>\n      <td>WP_250125134.1(cysteine desulfurase family pro...</td>\n    </tr>\n    <tr>\n      <th>7</th>\n      <td>ko03036 Chromosome and associated proteins</td>\n      <td>0.316881</td>\n      <td>1.000000</td>\n      <td>0.943687</td>\n      <td>1.517185</td>\n      <td>WP_250124608.1(Dps family protein), WP_2501216...</td>\n    </tr>\n    <tr>\n      <th>20</th>\n      <td>ko03012 Translation factors</td>\n      <td>0.517847</td>\n      <td>1.000000</td>\n      <td>0.943687</td>\n      <td>1.408815</td>\n      <td>WP_250123877.1(ribosome recycling factor)</td>\n    </tr>\n    <tr>\n      <th>11</th>\n      <td>ko01005 Lipopolysaccharide biosynthesis proteins</td>\n      <td>0.565645</td>\n      <td>1.000000</td>\n      <td>0.943687</td>\n      <td>1.232713</td>\n      <td>WP_250123003.1(glycosyltransferase family 2 pr...</td>\n    </tr>\n    <tr>\n      <th>2</th>\n      <td>ko03009 Ribosome biogenesis</td>\n      <td>0.566905</td>\n      <td>1.000000</td>\n      <td>0.943687</td>\n      <td>1.066130</td>\n      <td>WP_250121246.1(16S rRNA (adenine(1518)-N(6)/ad...</td>\n    </tr>\n    <tr>\n      <th>13</th>\n      <td>ko03019 Messenger RNA biogenesis</td>\n      <td>0.587743</td>\n      <td>1.000000</td>\n      <td>0.943687</td>\n      <td>1.160200</td>\n      <td>WP_250124262.1(ribonuclease R)</td>\n    </tr>\n    <tr>\n      <th>14</th>\n      <td>ko03021 Transcription machinery</td>\n      <td>0.628638</td>\n      <td>1.000000</td>\n      <td>0.943687</td>\n      <td>1.038074</td>\n      <td>WP_250122950.1(STAS domain-containing protein)</td>\n    </tr>\n    <tr>\n      <th>9</th>\n      <td>ko04147 Exosome</td>\n      <td>0.649450</td>\n      <td>1.000000</td>\n      <td>0.943687</td>\n      <td>0.917368</td>\n      <td>WP_250125000.1(adenosylhomocysteinase), WP_250...</td>\n    </tr>\n    <tr>\n      <th>18</th>\n      <td>ko01001 Protein kinases</td>\n      <td>0.682528</td>\n      <td>1.000000</td>\n      <td>0.943687</td>\n      <td>0.896518</td>\n      <td>WP_250121534.1(ATP-binding protein)</td>\n    </tr>\n    <tr>\n      <th>19</th>\n      <td>ko02022 Two-component system</td>\n      <td>0.742461</td>\n      <td>1.000000</td>\n      <td>0.943687</td>\n      <td>0.758592</td>\n      <td>WP_250121534.1(ATP-binding protein)</td>\n    </tr>\n    <tr>\n      <th>12</th>\n      <td>ko03011 Ribosome</td>\n      <td>0.767863</td>\n      <td>1.000000</td>\n      <td>0.943687</td>\n      <td>0.730496</td>\n      <td>WP_250121290.1(30S ribosomal protein S10), WP_...</td>\n    </tr>\n    <tr>\n      <th>21</th>\n      <td>ko01007 Amino acid related enzymes</td>\n      <td>0.821498</td>\n      <td>1.000000</td>\n      <td>0.943687</td>\n      <td>0.597679</td>\n      <td>WP_250122576.1(histidinol-phosphate transaminase)</td>\n    </tr>\n    <tr>\n      <th>15</th>\n      <td>ko03000 Transcription factors</td>\n      <td>0.855270</td>\n      <td>1.000000</td>\n      <td>0.943687</td>\n      <td>0.533065</td>\n      <td>WP_250121676.1(DNA cytosine methyltransferase)</td>\n    </tr>\n    <tr>\n      <th>5</th>\n      <td>ko03016 Transfer RNA biogenesis</td>\n      <td>0.855982</td>\n      <td>1.000000</td>\n      <td>0.943687</td>\n      <td>0.597679</td>\n      <td>WP_250125134.1(cysteine desulfurase family pro...</td>\n    </tr>\n    <tr>\n      <th>17</th>\n      <td>ko03110 Chaperones and folding catalysts</td>\n      <td>0.862667</td>\n      <td>1.000000</td>\n      <td>0.943687</td>\n      <td>0.519037</td>\n      <td>WP_250122233.1(thioredoxin)</td>\n    </tr>\n    <tr>\n      <th>16</th>\n      <td>ko00194 Photosynthesis proteins</td>\n      <td>0.900792</td>\n      <td>1.000000</td>\n      <td>0.943687</td>\n      <td>0.525957</td>\n      <td>WP_250124533.1(PetM family cytochrome b6-f com...</td>\n    </tr>\n    <tr>\n      <th>10</th>\n      <td>ko02000 Transporters</td>\n      <td>0.953705</td>\n      <td>1.000000</td>\n      <td>0.953705</td>\n      <td>0.646669</td>\n      <td>WP_250125819.1(AEC family transporter), WP_250...</td>\n    </tr>\n  </tbody>\n</table>\n</div>"
     },
     "execution_count": 6,
     "metadata": {},
     "output_type": "execute_result"
    }
   ],
   "source": [
    "KEGGbrite05"
   ],
   "metadata": {
    "collapsed": false,
    "ExecuteTime": {
     "end_time": "2024-09-30T09:49:35.867277Z",
     "start_time": "2024-09-30T09:49:35.860035Z"
    }
   },
   "id": "921bfc1801cbff79",
   "execution_count": 6
  },
  {
   "cell_type": "code",
   "outputs": [],
   "source": [],
   "metadata": {
    "collapsed": false
   },
   "id": "79912d7c0ab885e"
  }
 ],
 "metadata": {
  "kernelspec": {
   "name": "python3",
   "language": "python",
   "display_name": "Python 3 (ipykernel)"
  },
  "language_info": {
   "codemirror_mode": {
    "name": "ipython",
    "version": 2
   },
   "file_extension": ".py",
   "mimetype": "text/x-python",
   "name": "python",
   "nbconvert_exporter": "python",
   "pygments_lexer": "ipython2",
   "version": "2.7.6"
  }
 },
 "nbformat": 4,
 "nbformat_minor": 5
}
