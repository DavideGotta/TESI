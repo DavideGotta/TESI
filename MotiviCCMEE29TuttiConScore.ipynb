{
 "cells": [
  {
   "cell_type": "code",
   "execution_count": 9,
   "metadata": {
    "collapsed": true
   },
   "outputs": [],
   "source": [
    "import re\n",
    "file=\"/home/davide/Documents/intergeniche_RefSeq/Chroococcidiopsis_sp._CCMEE_29_GCF_023558375_intergen.fasta\"\n",
    "import re\n",
    "\n",
    "# Define the motifs\n",
    "motivi= [\n",
    "    \".{4}AG[ATCG].{4,11}ACT.{4}\",\n",
    "    \".{4}AGT.{4,11}A[AT]T.{4}\",\n",
    "    \".{4}AGT.{4,11}AC[AT].{4}\",\n",
    "    \".{4}AGT.{4,11}[TG]CT.{4}\",\n",
    "    \".{4}TGT.{4,11}AC[AT].{4}\"\n",
    "]\n",
    "from Bio import SeqIO\n",
    "#parse the fasta file\n",
    "diz={}\n",
    "j=0\n",
    "for record in SeqIO.parse(file, \"fasta\"):\n",
    "    seq=str(record.seq)\n",
    "    #use the finditer method to find all the matches of the regular expression\n",
    "    for m in motivi:\n",
    "        for match in re.finditer(m, str(seq)):\n",
    "            x=match.group()\n",
    "            s,e=match.start(),match.end()\n",
    "            x=x[:4].lower()+x[4:-4]+x[-4:].lower()\n",
    "            # print(x,s,e,seq[s],seq[e-1])\n",
    "            #store the match in a dictionary\n",
    "            if record.id in diz:\n",
    "                diz[record.id].append(x)\n",
    "            else:\n",
    "                diz[record.id]=[x]\n",
    "import pandas as pd\n",
    "df=pd.Series(diz,name=\"motivi\")"
   ]
  },
  {
   "cell_type": "code",
   "execution_count": 10,
   "outputs": [
    {
     "data": {
      "text/plain": "LAU37_RS00015    [aaacAGTACAAAACCCAATTtggc, catcAGTGTCTGCATCCAA...\nLAU37_RS00030    [atgtAGAATTCGGACTtata, atcaAGAAAATACCTGAACTtag...\nLAU37_RS00035                           [taacAGCTTAATGAGGGACTttaa]\nLAU37_RS00055    [tatgAGTTCAATACTaagg, taatAGTGAGTATTTACCAATcca...\nLAU37_RS00060    [ctgtAGAGCAGCCCATACTtttt, tgttAGTTTTGCTTTACTga...\n                                       ...                        \nLAU37_RS31375                            [tcgcTGTAGCAGAAGTACAaaaa]\nLAU37_RS31380    [ttgaAGACAGCGCTAAACTttga, atcaAGTTGTTGAATagca,...\nLAU37_RS31390    [ccatAGGCCAGCCCACTcgtg, tcgtAGACTACTGCCCTCACTg...\nLAU37_RS31405                             [gttgAGTTTTTCTGGAATgcat]\nLAU37_RS31410    [tgcgAGAAACTGTCAGAACTggct, gttgAGGGGAGAACCCAAC...\nName: motivi, Length: 4610, dtype: object"
     },
     "execution_count": 10,
     "metadata": {},
     "output_type": "execute_result"
    }
   ],
   "source": [
    "df"
   ],
   "metadata": {
    "collapsed": false
   }
  },
  {
   "cell_type": "code",
   "execution_count": null,
   "outputs": [],
   "source": [],
   "metadata": {
    "collapsed": false
   }
  }
 ],
 "metadata": {
  "kernelspec": {
   "display_name": "Python 3",
   "language": "python",
   "name": "python3"
  },
  "language_info": {
   "codemirror_mode": {
    "name": "ipython",
    "version": 2
   },
   "file_extension": ".py",
   "mimetype": "text/x-python",
   "name": "python",
   "nbconvert_exporter": "python",
   "pygments_lexer": "ipython2",
   "version": "2.7.6"
  }
 },
 "nbformat": 4,
 "nbformat_minor": 0
}
