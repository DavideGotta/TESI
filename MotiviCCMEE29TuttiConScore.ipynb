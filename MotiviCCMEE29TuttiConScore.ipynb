{
 "cells": [
  {
   "cell_type": "code",
   "outputs": [],
   "source": [
    "import pandas as pd\n",
    "\n",
    "\n",
    "def revcomp(seq):\n",
    "    \"\"\"Compute the reverse complement of a sequence\n",
    "    ::param seq: the sequence\n",
    "    ::return: the reverse complement of the sequence\n",
    "    \"\"\"\n",
    "    seq=seq.upper()\n",
    "    seq=seq[::-1]\n",
    "    diz={'A':'T','T':'A','C':'G','G':'C'}\n",
    "    seq=\"\".join([diz[x] for x in seq])\n",
    "    return seq\n",
    "def get_score(s1,lat=4):\n",
    "    \"\"\"Compute the score of the motif using alignment between sequence and reverse complement of the sequence to find palindromes and use gaps\n",
    "    between the two sequences\n",
    "    ::param s1: the motif\n",
    "    ::return: alignment, number of matches, gap, info, score\n",
    "    \"\"\"\n",
    "    s1=s1.upper()\n",
    "    s2=revcomp(s1)\n",
    "    score=0\n",
    "    info=\"\"\n",
    "    if s1[lat:lat+3]==\"AGT\":\n",
    "        info+=\"1 pt: per AGT, \"\n",
    "        score+=1\n",
    "    if s1[-lat-3:-lat]==\"ACT\":\n",
    "        info+=\"1 pt: per ACT, \"\n",
    "        score+=1\n",
    "    elif s1[-lat-2:-lat+1]==\"CTA\" or s1[-lat-2:]==\"CTA\":\n",
    "        info+=\"1 pt: per CTA, \"\n",
    "        score+=1\n",
    "    pali=0\n",
    "    al=\"\"\n",
    "    for i,j in zip(s1,s2):\n",
    "        if i==j:\n",
    "            pali+=1\n",
    "            al+=i\n",
    "        else:\n",
    "            al+=\"-\"\n",
    "    info+=f\"0.2*{pali}/2={round(0.2*pali/2,2)} pts: {pali}  basi palindrome, \"\n",
    "    score+=0.2*pali/2\n",
    "    #score the gap between s1[7] and s1[-7]\n",
    "    gap=len(s1[lat+3:-lat-3])\n",
    "    #if the gap is  8 give max score else igive less considering the distance from 8 for example if it is 7 or 9 give hte same score but less\n",
    "    if gap==8:\n",
    "        info+=\"1 pt: per 8 bp gap\"\n",
    "        score+=1\n",
    "    elif gap==7 or gap==9:\n",
    "        info+=f\"0.5 pt: per {gap} bp gap\"\n",
    "        score+=0.5\n",
    "    else:\n",
    "        info+=f\"0.2 pt: per {gap} bp gap\"\n",
    "        score+=0.2\n",
    "    return al,pali,gap,info,score\n",
    "\n",
    "df_ann=pd.read_csv(\"/home/davide/Desktop/CCMEE29Annotazioni.csv\")\n",
    "#rename column sequence_name to locus_tag\n",
    "df_ann=df_ann.rename(columns={\"sequence_name\":\"locus_tag\"})\n"
   ],
   "metadata": {
    "collapsed": false,
    "ExecuteTime": {
     "end_time": "2024-05-31T10:39:10.156782Z",
     "start_time": "2024-05-31T10:39:10.134396Z"
    }
   },
   "execution_count": 139
  },
  {
   "cell_type": "code",
   "outputs": [
    {
     "data": {
      "text/plain": "          locus_tag                                             motivi  \\\n4073  LAU37_RS29025  [(cAGGAGGTACTg, -11, 2.0), (cAGCTTTTCTAATACTa,...   \n2498  LAU37_RS07130  [(gAGATAAGACTc, -11, 1.8), (tAGGAGATAAGACTc, -...   \n2136  LAU37_RS02330  [(aAGCTATCACTg, -11, 1.8), (aTGTCCACCAGTGCCACT...   \n3020  LAU37_RS14090  [(aAGTTGAAATTt, -11, 2.0), (cAGTTAAGTTGAAATTt,...   \n1466  LAU37_RS20500  [(aAGTTTCCAATt, -11, 1.8), (cAGTTAAGTTTCCAATt,...   \n...             ...                                                ...   \n563   LAU37_RS08560                     [(aAGTTGTTTTTGCTg, -271, 1.9)]   \n1264  LAU37_RS17985  [(gAGTAGCCAAACAACAa, -276, 2.1), (cAGCAGTGAACT...   \n4217  LAU37_RS27705                       [(cAGTAGTTAACTg, -280, 3.0)]   \n3491  LAU37_RS20835                    [(tAGGGTTGGATAACTc, -293, 2.6)]   \n917   LAU37_RS13315                      [(cAGATTAGCAACTc, -297, 1.8)]   \n\n                                   info_score_variabile  max_score  \n4073  [(1 pt: per ACT, 0.2*8/2=0.8 pts: 8  basi pali...        -11  \n2498  [(1 pt: per ACT, 0.2*6/2=0.6 pts: 6  basi pali...        -11  \n2136  [(1 pt: per ACT, 0.2*6/2=0.6 pts: 6  basi pali...        -11  \n3020  [(1 pt: per AGT, 0.2*8/2=0.8 pts: 8  basi pali...        -11  \n1466  [(1 pt: per AGT, 0.2*6/2=0.6 pts: 6  basi pali...        -11  \n...                                                 ...        ...  \n563   [(1 pt: per AGT, 0.2*4/2=0.4 pts: 4  basi pali...       -271  \n1264  [(1 pt: per AGT, 0.2*6/2=0.6 pts: 6  basi pali...       -276  \n4217  [(1 pt: per AGT, 1 pt: per ACT, 0.2*8/2=0.8 pt...       -280  \n3491  [(1 pt: per ACT, 0.2*6/2=0.6 pts: 6  basi pali...       -293  \n917   [(1 pt: per ACT, 0.2*6/2=0.6 pts: 6  basi pali...       -297  \n\n[4462 rows x 4 columns]",
      "text/html": "<div>\n<style scoped>\n    .dataframe tbody tr th:only-of-type {\n        vertical-align: middle;\n    }\n\n    .dataframe tbody tr th {\n        vertical-align: top;\n    }\n\n    .dataframe thead th {\n        text-align: right;\n    }\n</style>\n<table border=\"1\" class=\"dataframe\">\n  <thead>\n    <tr style=\"text-align: right;\">\n      <th></th>\n      <th>locus_tag</th>\n      <th>motivi</th>\n      <th>info_score_variabile</th>\n      <th>max_score</th>\n    </tr>\n  </thead>\n  <tbody>\n    <tr>\n      <th>4073</th>\n      <td>LAU37_RS29025</td>\n      <td>[(cAGGAGGTACTg, -11, 2.0), (cAGCTTTTCTAATACTa,...</td>\n      <td>[(1 pt: per ACT, 0.2*8/2=0.8 pts: 8  basi pali...</td>\n      <td>-11</td>\n    </tr>\n    <tr>\n      <th>2498</th>\n      <td>LAU37_RS07130</td>\n      <td>[(gAGATAAGACTc, -11, 1.8), (tAGGAGATAAGACTc, -...</td>\n      <td>[(1 pt: per ACT, 0.2*6/2=0.6 pts: 6  basi pali...</td>\n      <td>-11</td>\n    </tr>\n    <tr>\n      <th>2136</th>\n      <td>LAU37_RS02330</td>\n      <td>[(aAGCTATCACTg, -11, 1.8), (aTGTCCACCAGTGCCACT...</td>\n      <td>[(1 pt: per ACT, 0.2*6/2=0.6 pts: 6  basi pali...</td>\n      <td>-11</td>\n    </tr>\n    <tr>\n      <th>3020</th>\n      <td>LAU37_RS14090</td>\n      <td>[(aAGTTGAAATTt, -11, 2.0), (cAGTTAAGTTGAAATTt,...</td>\n      <td>[(1 pt: per AGT, 0.2*8/2=0.8 pts: 8  basi pali...</td>\n      <td>-11</td>\n    </tr>\n    <tr>\n      <th>1466</th>\n      <td>LAU37_RS20500</td>\n      <td>[(aAGTTTCCAATt, -11, 1.8), (cAGTTAAGTTTCCAATt,...</td>\n      <td>[(1 pt: per AGT, 0.2*6/2=0.6 pts: 6  basi pali...</td>\n      <td>-11</td>\n    </tr>\n    <tr>\n      <th>...</th>\n      <td>...</td>\n      <td>...</td>\n      <td>...</td>\n      <td>...</td>\n    </tr>\n    <tr>\n      <th>563</th>\n      <td>LAU37_RS08560</td>\n      <td>[(aAGTTGTTTTTGCTg, -271, 1.9)]</td>\n      <td>[(1 pt: per AGT, 0.2*4/2=0.4 pts: 4  basi pali...</td>\n      <td>-271</td>\n    </tr>\n    <tr>\n      <th>1264</th>\n      <td>LAU37_RS17985</td>\n      <td>[(gAGTAGCCAAACAACAa, -276, 2.1), (cAGCAGTGAACT...</td>\n      <td>[(1 pt: per AGT, 0.2*6/2=0.6 pts: 6  basi pali...</td>\n      <td>-276</td>\n    </tr>\n    <tr>\n      <th>4217</th>\n      <td>LAU37_RS27705</td>\n      <td>[(cAGTAGTTAACTg, -280, 3.0)]</td>\n      <td>[(1 pt: per AGT, 1 pt: per ACT, 0.2*8/2=0.8 pt...</td>\n      <td>-280</td>\n    </tr>\n    <tr>\n      <th>3491</th>\n      <td>LAU37_RS20835</td>\n      <td>[(tAGGGTTGGATAACTc, -293, 2.6)]</td>\n      <td>[(1 pt: per ACT, 0.2*6/2=0.6 pts: 6  basi pali...</td>\n      <td>-293</td>\n    </tr>\n    <tr>\n      <th>917</th>\n      <td>LAU37_RS13315</td>\n      <td>[(cAGATTAGCAACTc, -297, 1.8)]</td>\n      <td>[(1 pt: per ACT, 0.2*6/2=0.6 pts: 6  basi pali...</td>\n      <td>-297</td>\n    </tr>\n  </tbody>\n</table>\n<p>4462 rows × 4 columns</p>\n</div>"
     },
     "execution_count": 147,
     "metadata": {},
     "output_type": "execute_result"
    }
   ],
   "source": [
    "\n",
    "file=\"/home/davide/PycharmProjects/TESI2/intergeniche_RefSeq/ortologhi/Chroococcidiopsis_sp._CCMEE_29_GCF_023558375_intergen.fasta\"\n",
    "import regex as re\n",
    "i=1\n",
    "# Define the motifs\n",
    "motivi= [\n",
    "    f\".{{{i}}}AG[ATCG].{{4,11}}ACT.{{{i}}}\",\n",
    "f\".{{{i}}}AGT.{{4,11}}A[AT]T.{{{i}}}\",\n",
    "f\".{{{i}}}AGT.{{4,11}}AC[AT].{{{i}}}\",\n",
    "f\".{{{i}}}AGT.{{4,11}}[TG]CT.{{{i}}}\",\n",
    "f\".{{{i}}}TGT.{{4,11}}ACT.{{{i}}}\"\n",
    "]\n",
    "from Bio import SeqIO\n",
    "#parse the fasta file\n",
    "diz={}\n",
    "infos={}\n",
    "for record in SeqIO.parse(file, \"fasta\"):\n",
    "    seq=str(record.seq)\n",
    "    #use the finditer method to find all the matches of the regular expression\n",
    "    for m in motivi:\n",
    "        for match in re.finditer(m, str(seq), overlapped=True):\n",
    "            x=match.group()\n",
    "            s,e=match.start(),match.end()\n",
    "            scores=get_score(x,i)\n",
    "            x=x[:i].lower()+x[i:-i]+x[-i:].lower()\n",
    "            # print(x,s,e,seq[s],seq[e-1])\n",
    "            #store the match in a dictionary\n",
    "            pos=s-len(seq)+i\n",
    "            if record.id in diz:\n",
    "                diz[record.id].append((x,pos,round(scores[-1],2),scores[-2]))\n",
    "                infos[record.id].append((scores[-2],))\n",
    "            else:\n",
    "                diz[record.id]=[(x,pos,round(scores[-1],2),scores[-2])]\n",
    "                infos[record.id]=[(scores[-2],)]\n",
    "df=pd.DataFrame(diz.items(),columns=[\"locus_tag\",\"motivi\"])\n",
    "#remove duplicates from the list of motifs\n",
    "df[\"motivi\"]=df[\"motivi\"].apply(lambda x:list(set(x)))\n",
    "df[\"motivi\"]=df[\"motivi\"].apply(lambda x:sorted(x,key=lambda y:y[1],reverse=True))\n",
    "#extract the fourth element for every tuple in the list motivi annd make new column info_score\n",
    "df[\"info_score_variabile\"]=df[\"motivi\"].apply(lambda x:[(y[3],) for y in x])\n",
    "#delete the fourth element from the list motivi\n",
    "df[\"motivi\"]=df[\"motivi\"].apply(lambda x:[y[:3] for y in x])\n",
    "df[\"max_score\"]=df[\"motivi\"].apply(lambda x:x[0][1])\n",
    "df=df.sort_values(\"max_score\",ascending=False)\n",
    "df"
   ],
   "metadata": {
    "collapsed": true,
    "ExecuteTime": {
     "end_time": "2024-05-31T10:44:36.578642Z",
     "start_time": "2024-05-31T10:44:36.108142Z"
    }
   },
   "execution_count": 147
  },
  {
   "cell_type": "code",
   "outputs": [],
   "source": [
    "#merge df with df_ann on the locus_tag and index\n",
    "df_score4=pd.read_csv(\"/home/davide/PycharmProjects/TESI2/scorerefined4.txt\",sep=\"\\t\",header=None,skiprows=1)\n",
    "df_score4.columns=[\"locus_tag\",\"score\",\"score_refined\",\"motivo\",\"posizione\"]\n",
    "df=pd.merge(df,df_score4,on=\"locus_tag\",how=\"outer\")\n",
    "df=pd.merge(df,df_ann,on=\"locus_tag\")\n",
    "df.set_index(\"locus_tag\",inplace=True)\n",
    "#dropna for posizione column\n",
    "df.dropna(subset=[\"posizione\"],inplace=True)    "
   ],
   "metadata": {
    "collapsed": false,
    "ExecuteTime": {
     "end_time": "2024-05-31T10:44:43.948379Z",
     "start_time": "2024-05-31T10:44:43.921783Z"
    }
   },
   "execution_count": 148
  },
  {
   "cell_type": "code",
   "outputs": [],
   "source": [
    "dfeviPCC7120=pd.read_csv(\"/home/davide/Desktop/eviPCC7120.csv\")\n",
    "dfeviPCC6803=pd.read_csv(\"/home/davide/Desktop/eviPCC6803.csv\")\n",
    "dfeviPCC7120[\"species\"]=\"PCC7120\"\n",
    "dfeviPCC6803[\"species\"]=\"PCC6803\"\n",
    "dfevi=pd.concat([dfeviPCC7120,dfeviPCC6803])\n",
    "#rename the column score to info_blastp\n",
    "dfevi=dfevi.rename(columns={\"score\":\"info_blastp\"})\n",
    "df=pd.merge(df,dfevi,left_on=\"protein_id\",right_on=\"qseqid\",how=\"left\")\n",
    "df.drop(columns=[\"max_score\",\"qseqid\"],inplace=True)\n",
    "#sort the dataframe by score\n",
    "df=df.sort_values(\"score_refined\",ascending=False)\n",
    "# df.to_excel(\"/home/davide/Desktop/CCMEE29MotiviEvi.xlsx\",index=False)"
   ],
   "metadata": {
    "collapsed": false,
    "ExecuteTime": {
     "end_time": "2024-05-31T10:35:21.179091Z",
     "start_time": "2024-05-31T10:35:21.164250Z"
    }
   },
   "execution_count": 129
  },
  {
   "cell_type": "code",
   "outputs": [
    {
     "data": {
      "text/plain": "                                                          motivi  \\\nlocus_tag                                                          \nLAU37_RS16010  [(TAGTATATCTGCACTA, -67, 10.52, 21.03), (tAGTC...   \nLAU37_RS14470  [(TAGTACGAATGTTCTA, -48, 10.21, 20.21), (tAGTA...   \nLAU37_RS14595  [(TAGTACATATGTACTA, -208, 10.42, 19.28), (tAGT...   \nLAU37_RS21505  [(GAGTACACTTGTACTG, -29, 9.18, 17.92), (gAGTAC...   \nLAU37_RS30680  [(CAGTACATTTGTACTA, -137, 10.16, 17.83), (tAGC...   \n...                                                          ...   \nLAU37_RS13085          [(ATTTTTAAGAGGAAAC, -17, -10.63, -15.87)]   \nLAU37_RS26905          [(TCAACCCACAGCAAAG, -18, -10.74, -15.88)]   \nLAU37_RS02120          [(CTTAAAGGAATAGAAG, -16, -17.29, -17.29)]   \nLAU37_RS22000           [(TCTAAGGAATTAAGCT, -16, -11.85, -17.7)]   \nLAU37_RS14060          [(AGTATAGAACTCAAAT, -16, -16.56, -19.59)]   \n\n                                            info_score_variabile  \\\nlocus_tag                                                          \nLAU37_RS16010  [(1 pt: per AGT, 1 pt: per ACT, 0.2*10/2=1.0 p...   \nLAU37_RS14470  [(1 pt: per AGT, 1 pt: per CTA, 0.2*10/2=1.0 p...   \nLAU37_RS14595  [(1 pt: per AGT, 0.2*10/2=1.0 pts: 10  basi pa...   \nLAU37_RS21505  [(1 pt: per AGT, 1 pt: per ACT, 0.2*12/2=1.2 p...   \nLAU37_RS30680  [(1 pt: per ACT, 0.2*6/2=0.6 pts: 6  basi pali...   \n...                                                          ...   \nLAU37_RS13085                                                NaN   \nLAU37_RS26905                                                NaN   \nLAU37_RS02120                                                NaN   \nLAU37_RS22000                                                NaN   \nLAU37_RS14060                                                NaN   \n\n                   protein_id                              product  gene  \\\nlocus_tag                                                                  \nLAU37_RS16010  WP_250121493.1                     recombinase RecA  recA   \nLAU37_RS14470  WP_250121220.1       transcriptional repressor LexA  lexA   \nLAU37_RS14595  WP_250121243.1                   ERF family protein   NaN   \nLAU37_RS21505  WP_250122517.1  single-stranded DNA-binding protein   NaN   \nLAU37_RS30680  WP_250126418.1                   VOC family protein   NaN   \n...                       ...                                  ...   ...   \nLAU37_RS13085  WP_250125981.1             30S ribosomal protein S8  rpsH   \nLAU37_RS26905  WP_250123482.1               DUF1822 family protein   NaN   \nLAU37_RS02120  WP_250123991.1            SDR family oxidoreductase   NaN   \nLAU37_RS22000  WP_250122606.1            50S ribosomal protein L20  rplT   \nLAU37_RS14060  WP_250126160.1               DUF3007 family protein   NaN   \n\n                                                      GO_process  \\\nlocus_tag                                                          \nLAU37_RS16010  ['GO:0006281 - DNA repair [Evidence IEA]', 'GO...   \nLAU37_RS14470  ['GO:0006282 - regulation of DNA repair [Evide...   \nLAU37_RS14595                                                NaN   \nLAU37_RS21505                                                NaN   \nLAU37_RS30680                                                NaN   \n...                                                          ...   \nLAU37_RS13085        ['GO:0006412 - translation [Evidence IEA]']   \nLAU37_RS26905                                                NaN   \nLAU37_RS02120                                                NaN   \nLAU37_RS22000        ['GO:0006412 - translation [Evidence IEA]']   \nLAU37_RS14060                                                NaN   \n\n                                            GO_component  \\\nlocus_tag                                                  \nLAU37_RS16010  ['GO:0005737 - cytoplasm [Evidence IEA]']   \nLAU37_RS14470                                        NaN   \nLAU37_RS14595                                        NaN   \nLAU37_RS21505                                        NaN   \nLAU37_RS30680                                        NaN   \n...                                                  ...   \nLAU37_RS13085   ['GO:0005840 - ribosome [Evidence IEA]']   \nLAU37_RS26905                                        NaN   \nLAU37_RS02120                                        NaN   \nLAU37_RS22000   ['GO:0005840 - ribosome [Evidence IEA]']   \nLAU37_RS14060                                        NaN   \n\n                                                     GO_function  \\\nlocus_tag                                                          \nLAU37_RS16010  ['GO:0003677 - DNA binding [Evidence IEA]', 'G...   \nLAU37_RS14470  ['GO:0004252 - serine-type endopeptidase activ...   \nLAU37_RS14595                                                NaN   \nLAU37_RS21505                                                NaN   \nLAU37_RS30680                                                NaN   \n...                                                          ...   \nLAU37_RS13085  ['GO:0003735 - structural constituent of ribos...   \nLAU37_RS26905                                                NaN   \nLAU37_RS02120                                                NaN   \nLAU37_RS22000  ['GO:0003735 - structural constituent of ribos...   \nLAU37_RS14060                                                NaN   \n\n                                             GO_process_pannzer2  \\\nlocus_tag                                                          \nLAU37_RS16010  ['GO:0009432 - SOS response', 'GO:0006310 - DN...   \nLAU37_RS14470                                                NaN   \nLAU37_RS14595                                                NaN   \nLAU37_RS21505                       GO:0006260 - DNA replication   \nLAU37_RS30680                                                NaN   \n...                                                          ...   \nLAU37_RS13085                                                NaN   \nLAU37_RS26905                                                NaN   \nLAU37_RS02120                                                NaN   \nLAU37_RS22000  ['GO:0000027 - ribosomal large subunit assembl...   \nLAU37_RS14060                                                NaN   \n\n                                                      KEGG_brite  \\\nlocus_tag                                                          \nLAU37_RS16010      ko03400 DNA repair and recombination proteins   \nLAU37_RS14470  ko01002 Peptidases and inhibitors, ko03400 DNA...   \nLAU37_RS14595                                                NaN   \nLAU37_RS21505  ko03032 DNA replication proteins, ko03400 DNA ...   \nLAU37_RS30680                                                NaN   \n...                                                          ...   \nLAU37_RS13085                                   ko03011 Ribosome   \nLAU37_RS26905                                                NaN   \nLAU37_RS02120                                                NaN   \nLAU37_RS22000                                   ko03011 Ribosome   \nLAU37_RS14060                                                NaN   \n\n                                                   KEGG_pathways  \nlocus_tag                                                         \nLAU37_RS16010                     03440 Homologous recombination  \nLAU37_RS14470                                                NaN  \nLAU37_RS14595                                                NaN  \nLAU37_RS21505  03030 DNA replication, 03430 Mismatch repair, ...  \nLAU37_RS30680                                                NaN  \n...                                                          ...  \nLAU37_RS13085                                     03010 Ribosome  \nLAU37_RS26905                                                NaN  \nLAU37_RS02120                                                NaN  \nLAU37_RS22000                                     03010 Ribosome  \nLAU37_RS14060                                                NaN  \n\n[5191 rows x 11 columns]",
      "text/html": "<div>\n<style scoped>\n    .dataframe tbody tr th:only-of-type {\n        vertical-align: middle;\n    }\n\n    .dataframe tbody tr th {\n        vertical-align: top;\n    }\n\n    .dataframe thead th {\n        text-align: right;\n    }\n</style>\n<table border=\"1\" class=\"dataframe\">\n  <thead>\n    <tr style=\"text-align: right;\">\n      <th></th>\n      <th>motivi</th>\n      <th>info_score_variabile</th>\n      <th>protein_id</th>\n      <th>product</th>\n      <th>gene</th>\n      <th>GO_process</th>\n      <th>GO_component</th>\n      <th>GO_function</th>\n      <th>GO_process_pannzer2</th>\n      <th>KEGG_brite</th>\n      <th>KEGG_pathways</th>\n    </tr>\n    <tr>\n      <th>locus_tag</th>\n      <th></th>\n      <th></th>\n      <th></th>\n      <th></th>\n      <th></th>\n      <th></th>\n      <th></th>\n      <th></th>\n      <th></th>\n      <th></th>\n      <th></th>\n    </tr>\n  </thead>\n  <tbody>\n    <tr>\n      <th>LAU37_RS16010</th>\n      <td>[(TAGTATATCTGCACTA, -67, 10.52, 21.03), (tAGTC...</td>\n      <td>[(1 pt: per AGT, 1 pt: per ACT, 0.2*10/2=1.0 p...</td>\n      <td>WP_250121493.1</td>\n      <td>recombinase RecA</td>\n      <td>recA</td>\n      <td>['GO:0006281 - DNA repair [Evidence IEA]', 'GO...</td>\n      <td>['GO:0005737 - cytoplasm [Evidence IEA]']</td>\n      <td>['GO:0003677 - DNA binding [Evidence IEA]', 'G...</td>\n      <td>['GO:0009432 - SOS response', 'GO:0006310 - DN...</td>\n      <td>ko03400 DNA repair and recombination proteins</td>\n      <td>03440 Homologous recombination</td>\n    </tr>\n    <tr>\n      <th>LAU37_RS14470</th>\n      <td>[(TAGTACGAATGTTCTA, -48, 10.21, 20.21), (tAGTA...</td>\n      <td>[(1 pt: per AGT, 1 pt: per CTA, 0.2*10/2=1.0 p...</td>\n      <td>WP_250121220.1</td>\n      <td>transcriptional repressor LexA</td>\n      <td>lexA</td>\n      <td>['GO:0006282 - regulation of DNA repair [Evide...</td>\n      <td>NaN</td>\n      <td>['GO:0004252 - serine-type endopeptidase activ...</td>\n      <td>NaN</td>\n      <td>ko01002 Peptidases and inhibitors, ko03400 DNA...</td>\n      <td>NaN</td>\n    </tr>\n    <tr>\n      <th>LAU37_RS14595</th>\n      <td>[(TAGTACATATGTACTA, -208, 10.42, 19.28), (tAGT...</td>\n      <td>[(1 pt: per AGT, 0.2*10/2=1.0 pts: 10  basi pa...</td>\n      <td>WP_250121243.1</td>\n      <td>ERF family protein</td>\n      <td>NaN</td>\n      <td>NaN</td>\n      <td>NaN</td>\n      <td>NaN</td>\n      <td>NaN</td>\n      <td>NaN</td>\n      <td>NaN</td>\n    </tr>\n    <tr>\n      <th>LAU37_RS21505</th>\n      <td>[(GAGTACACTTGTACTG, -29, 9.18, 17.92), (gAGTAC...</td>\n      <td>[(1 pt: per AGT, 1 pt: per ACT, 0.2*12/2=1.2 p...</td>\n      <td>WP_250122517.1</td>\n      <td>single-stranded DNA-binding protein</td>\n      <td>NaN</td>\n      <td>NaN</td>\n      <td>NaN</td>\n      <td>NaN</td>\n      <td>GO:0006260 - DNA replication</td>\n      <td>ko03032 DNA replication proteins, ko03400 DNA ...</td>\n      <td>03030 DNA replication, 03430 Mismatch repair, ...</td>\n    </tr>\n    <tr>\n      <th>LAU37_RS30680</th>\n      <td>[(CAGTACATTTGTACTA, -137, 10.16, 17.83), (tAGC...</td>\n      <td>[(1 pt: per ACT, 0.2*6/2=0.6 pts: 6  basi pali...</td>\n      <td>WP_250126418.1</td>\n      <td>VOC family protein</td>\n      <td>NaN</td>\n      <td>NaN</td>\n      <td>NaN</td>\n      <td>NaN</td>\n      <td>NaN</td>\n      <td>NaN</td>\n      <td>NaN</td>\n    </tr>\n    <tr>\n      <th>...</th>\n      <td>...</td>\n      <td>...</td>\n      <td>...</td>\n      <td>...</td>\n      <td>...</td>\n      <td>...</td>\n      <td>...</td>\n      <td>...</td>\n      <td>...</td>\n      <td>...</td>\n      <td>...</td>\n    </tr>\n    <tr>\n      <th>LAU37_RS13085</th>\n      <td>[(ATTTTTAAGAGGAAAC, -17, -10.63, -15.87)]</td>\n      <td>NaN</td>\n      <td>WP_250125981.1</td>\n      <td>30S ribosomal protein S8</td>\n      <td>rpsH</td>\n      <td>['GO:0006412 - translation [Evidence IEA]']</td>\n      <td>['GO:0005840 - ribosome [Evidence IEA]']</td>\n      <td>['GO:0003735 - structural constituent of ribos...</td>\n      <td>NaN</td>\n      <td>ko03011 Ribosome</td>\n      <td>03010 Ribosome</td>\n    </tr>\n    <tr>\n      <th>LAU37_RS26905</th>\n      <td>[(TCAACCCACAGCAAAG, -18, -10.74, -15.88)]</td>\n      <td>NaN</td>\n      <td>WP_250123482.1</td>\n      <td>DUF1822 family protein</td>\n      <td>NaN</td>\n      <td>NaN</td>\n      <td>NaN</td>\n      <td>NaN</td>\n      <td>NaN</td>\n      <td>NaN</td>\n      <td>NaN</td>\n    </tr>\n    <tr>\n      <th>LAU37_RS02120</th>\n      <td>[(CTTAAAGGAATAGAAG, -16, -17.29, -17.29)]</td>\n      <td>NaN</td>\n      <td>WP_250123991.1</td>\n      <td>SDR family oxidoreductase</td>\n      <td>NaN</td>\n      <td>NaN</td>\n      <td>NaN</td>\n      <td>NaN</td>\n      <td>NaN</td>\n      <td>NaN</td>\n      <td>NaN</td>\n    </tr>\n    <tr>\n      <th>LAU37_RS22000</th>\n      <td>[(TCTAAGGAATTAAGCT, -16, -11.85, -17.7)]</td>\n      <td>NaN</td>\n      <td>WP_250122606.1</td>\n      <td>50S ribosomal protein L20</td>\n      <td>rplT</td>\n      <td>['GO:0006412 - translation [Evidence IEA]']</td>\n      <td>['GO:0005840 - ribosome [Evidence IEA]']</td>\n      <td>['GO:0003735 - structural constituent of ribos...</td>\n      <td>['GO:0000027 - ribosomal large subunit assembl...</td>\n      <td>ko03011 Ribosome</td>\n      <td>03010 Ribosome</td>\n    </tr>\n    <tr>\n      <th>LAU37_RS14060</th>\n      <td>[(AGTATAGAACTCAAAT, -16, -16.56, -19.59)]</td>\n      <td>NaN</td>\n      <td>WP_250126160.1</td>\n      <td>DUF3007 family protein</td>\n      <td>NaN</td>\n      <td>NaN</td>\n      <td>NaN</td>\n      <td>NaN</td>\n      <td>NaN</td>\n      <td>NaN</td>\n      <td>NaN</td>\n    </tr>\n  </tbody>\n</table>\n<p>5191 rows × 11 columns</p>\n</div>"
     },
     "execution_count": 149,
     "metadata": {},
     "output_type": "execute_result"
    }
   ],
   "source": [
    "def add_tuple(row):\n",
    "    # Define the tuple you want to add\n",
    "    new_tuple = (row[\"motivo\"], int(row[\"posizione\"]), round(row[\"score\"],2), round(row[\"score_refined\"],2))\n",
    "\n",
    "\n",
    "    if type(row[\"motivi\"]) is list:\n",
    "        # If \"motivi\" is not NaN, append the new tuple to the existing list\n",
    "        row[\"motivi\"].insert(0,new_tuple)\n",
    "    else:\n",
    "        row[\"motivi\"] = [new_tuple]\n",
    "\n",
    "    return row\n",
    "\n",
    "# Apply the function to each row in the DataFrame\n",
    "df = df.apply(add_tuple, axis=1)\n",
    "df=df.sort_values(\"score_refined\",ascending=False)\n",
    "df.drop(columns=[\"score\",\"score_refined\",\"motivo\",\"posizione\",\"max_score\"],inplace=True)\n",
    "df"
   ],
   "metadata": {
    "collapsed": false,
    "ExecuteTime": {
     "end_time": "2024-05-31T10:44:47.120764Z",
     "start_time": "2024-05-31T10:44:46.948207Z"
    }
   },
   "execution_count": 149
  },
  {
   "cell_type": "code",
   "outputs": [],
   "source": [
    "df.to_excel(\"/home/davide/Desktop/CCMEE29MotiviTutticonScore.xlsx\",index=True)\n"
   ],
   "metadata": {
    "collapsed": false,
    "ExecuteTime": {
     "end_time": "2024-05-31T10:45:30.457975Z",
     "start_time": "2024-05-31T10:45:29.721010Z"
    }
   },
   "execution_count": 150
  },
  {
   "cell_type": "code",
   "outputs": [],
   "source": [
    "#add to the list of df[\"motivi\"] for every row a tuple motivo,score,score_refined,pos"
   ],
   "metadata": {
    "collapsed": false
   }
  },
  {
   "cell_type": "code",
   "outputs": [
    {
     "name": "stdout",
     "output_type": "stream",
     "text": [
      "('TAG-AC----GT-CTA', 10, 8, '1 pt: per AGT, 0.2*10/2=1.0 pts: 10  basi palindrome, 1 pt: per 8 bp gap', 3.0)\n"
     ]
    }
   ],
   "source": [
    "s=\"tAGTACGAATGTTCTa\"\n",
    "print(get_score(s,1))\n",
    "print(s[-2:0])"
   ],
   "metadata": {
    "collapsed": false,
    "ExecuteTime": {
     "end_time": "2024-05-31T08:55:31.447988Z",
     "start_time": "2024-05-31T08:55:31.445626Z"
    }
   },
   "execution_count": 37
  },
  {
   "cell_type": "code",
   "outputs": [
    {
     "name": "stdout",
     "output_type": "stream",
     "text": []
    }
   ],
   "source": [
    "print(s[-3:-0])"
   ],
   "metadata": {
    "collapsed": false,
    "ExecuteTime": {
     "end_time": "2024-05-31T08:57:59.312340Z",
     "start_time": "2024-05-31T08:57:59.310328Z"
    }
   },
   "execution_count": 46
  },
  {
   "cell_type": "code",
   "outputs": [
    {
     "name": "stdout",
     "output_type": "stream",
     "text": [
      "ATTTCAACTTCCGTTGTGTGTCCTTGATCACCTGCGTGTGCCTGCAACGGTCTTGGGGTATTGAACTGTCTAGAAACGATTTAGAACAACTTCAACACGCTTTGTGGTCTTTCTTAAGATAGATTTTGCCAGTCAGCAGATGGGTTGCAGTACATTTGTACTACTGCCGGGTTCTGAGTAGTCCCATCATGTCACGCGGTTCCTAGTCCCTTGGGACGGCTTCGCCTAAGGAGTAGCAATCCGCACTAATCGCATTCCTCAATCCTTTATTCAAGGAGTACACC\n"
     ]
    }
   ],
   "source": [
    "#parse the fasta file and find the sequence for id LAU37_RS30680\n",
    "for record in SeqIO.parse(file, \"fasta\"):\n",
    "    if record.id==\"LAU37_RS30680\":\n",
    "        print(record.seq)\n",
    "        seq=str(record.seq)\n",
    "        break\n",
    "        "
   ],
   "metadata": {
    "collapsed": false,
    "ExecuteTime": {
     "end_time": "2024-05-31T09:30:26.862461Z",
     "start_time": "2024-05-31T09:30:26.842023Z"
    }
   },
   "execution_count": 62
  },
  {
   "cell_type": "code",
   "outputs": [
    {
     "name": "stdout",
     "output_type": "stream",
     "text": [
      "2.0\n",
      "[('aGTAAAAACTACTACt', 0, 2.0)]\n",
      "{('aGTAAAAACTACTACt', 0, 2.0)}\n",
      "['AGTAAAAACTACTACT']\n"
     ]
    }
   ],
   "source": [
    "motifs=[]\n",
    "seq=\"AGTAAAAACTACTACTACT\"\n",
    "import regex as re\n",
    "motivi= [\n",
    "    \"AGT.{4,10}ACT\"]\n",
    "for m in motivi:\n",
    "    for match in re.finditer(m, seq, overlapped=True):\n",
    "        x=match.group()\n",
    "        s,e=match.start(),match.end()\n",
    "        scores=get_score(x,1)\n",
    "        x=x[:1].lower()+x[1:-1]+x[-1:].lower()\n",
    "        motifs.append((x,s,scores[-1]))\n",
    "        print(scores[-1])\n",
    "print(motifs)\n",
    "print(set(motifs))\n",
    "matches=re.findall(motivi[0],seq,overlapped=True)\n",
    "print(matches)"
   ],
   "metadata": {
    "collapsed": false,
    "ExecuteTime": {
     "end_time": "2024-05-31T09:55:57.706019Z",
     "start_time": "2024-05-31T09:55:57.700647Z"
    }
   },
   "execution_count": 75
  },
  {
   "cell_type": "code",
   "outputs": [],
   "source": [],
   "metadata": {
    "collapsed": false
   }
  }
 ],
 "metadata": {
  "kernelspec": {
   "display_name": "Python 3",
   "language": "python",
   "name": "python3"
  },
  "language_info": {
   "codemirror_mode": {
    "name": "ipython",
    "version": 2
   },
   "file_extension": ".py",
   "mimetype": "text/x-python",
   "name": "python",
   "nbconvert_exporter": "python",
   "pygments_lexer": "ipython2",
   "version": "2.7.6"
  }
 },
 "nbformat": 4,
 "nbformat_minor": 0
}
