{
 "cells": [
  {
   "cell_type": "code",
   "execution_count": 44,
   "metadata": {
    "collapsed": true,
    "ExecuteTime": {
     "end_time": "2024-04-29T20:13:23.928061Z",
     "start_time": "2024-04-29T20:13:23.787490Z"
    }
   },
   "outputs": [],
   "source": [
    "import re\n",
    "file=\"/home/davide/Desktop/genomiChro/intergeniche_RefSeq/Chroococcidiopsis_sp._CCMEE_29_GCF_023558375_intergen.fasta\"\n",
    "import re\n",
    "\n",
    "# Define the motifs\n",
    "motivi= [\n",
    "    \".{4}AG[ATCG].{4,11}ACT.{4}\",\n",
    "    \".{4}AGT.{4,11}A[AT]T.{4}\",\n",
    "    \".{4}AGT.{4,11}AC[AT].{4}\",\n",
    "    \".{4}AGT.{4,11}[TG]CT.{4}\",\n",
    "    \".{4}TGT.{4,11}AC[AT].{4}\"\n",
    "]\n",
    "from Bio import SeqIO\n",
    "#parse the fasta file\n",
    "diz={}\n",
    "j=0\n",
    "for record in SeqIO.parse(file, \"fasta\"):\n",
    "    seq=str(record.seq)\n",
    "    #use the finditer method to find all the matches of the regular expression\n",
    "    for m in motivi:\n",
    "        for match in re.finditer(m, str(seq)):\n",
    "            x=match.group()\n",
    "            s,e=match.start(),match.end()\n",
    "            #x=x[:4].lower()+x[4:-4]+x[-4:].lower()\n",
    "            # print(x,s,e,seq[s],seq[e-1])\n",
    "            #store the match in a dictionary\n",
    "            if record.id in diz:\n",
    "                diz[record.id].append(x)\n",
    "            else:\n",
    "                diz[record.id]=[x]\n",
    "import pandas as pd\n",
    "df=pd.Series(diz,name=\"motivi\")"
   ]
  },
  {
   "cell_type": "code",
   "execution_count": 45,
   "outputs": [
    {
     "data": {
      "text/plain": "LAU37_RS00015    [AAACAGTACAAAACCCAATTTGGC, CATCAGTGTCTGCATCCAA...\nLAU37_RS00030    [ATGTAGAATTCGGACTTATA, ATCAAGAAAATACCTGAACTTAG...\nLAU37_RS00035                           [TAACAGCTTAATGAGGGACTTTAA]\nLAU37_RS00055    [TATGAGTTCAATACTAAGG, TAATAGTGAGTATTTACCAATCCA...\nLAU37_RS00060    [CTGTAGAGCAGCCCATACTTTTT, TGTTAGTTTTGCTTTACTGA...\n                                       ...                        \nLAU37_RS31375                            [TCGCTGTAGCAGAAGTACAAAAA]\nLAU37_RS31380    [TTGAAGACAGCGCTAAACTTTGA, ATCAAGTTGTTGAATAGCA,...\nLAU37_RS31390    [CCATAGGCCAGCCCACTCGTG, TCGTAGACTACTGCCCTCACTG...\nLAU37_RS31405                             [GTTGAGTTTTTCTGGAATGCAT]\nLAU37_RS31410    [TGCGAGAAACTGTCAGAACTGGCT, GTTGAGGGGAGAACCCAAC...\nName: motivi, Length: 4610, dtype: object"
     },
     "execution_count": 45,
     "metadata": {},
     "output_type": "execute_result"
    }
   ],
   "source": [
    "df"
   ],
   "metadata": {
    "collapsed": false,
    "ExecuteTime": {
     "end_time": "2024-04-29T20:13:24.702502Z",
     "start_time": "2024-04-29T20:13:24.698080Z"
    }
   }
  },
  {
   "cell_type": "code",
   "execution_count": 46,
   "outputs": [],
   "source": [
    "def revcomp(seq):\n",
    "    seq=seq[::-1]\n",
    "    diz={'a':'t','t':'a','c':'g','g':'c','A':'T','T':'A','C':'G','G':'C'}\n",
    "    seq=\"\".join([diz[x] for x in seq])\n",
    "    return seq\n"
   ],
   "metadata": {
    "collapsed": false,
    "ExecuteTime": {
     "end_time": "2024-04-29T20:13:25.952997Z",
     "start_time": "2024-04-29T20:13:25.950405Z"
    }
   }
  },
  {
   "cell_type": "code",
   "outputs": [],
   "source": [
    "s=\"tatcTGTTTCGCACAaata\"\n",
    "rev=revcomp(s)\n",
    "#find best alignment between s and revcomp(s) where the alignment is done by shifting the two sequences and computing the number of matches\n",
    "\n",
    "def best_alignment(s1, s2):\n",
    "    best = 0\n",
    "    best_alignment = \"\"\n",
    "    shift=0\n",
    "    for i in range(len(s1)):\n",
    "        matches = 0\n",
    "        temp_alignment = \"\"\n",
    "        for j in range(len(s2)):\n",
    "            if i + j < len(s1):\n",
    "                if s1[i + j] == s2[j]:\n",
    "                    matches += 1\n",
    "                    temp_alignment += s1[i + j]\n",
    "                else:\n",
    "                    temp_alignment += '-'\n",
    "        if matches > best:\n",
    "            best = matches\n",
    "            best_alignment = temp_alignment\n",
    "            shift=i\n",
    "    return best, best_alignment,shift\n"
   ],
   "metadata": {
    "collapsed": false,
    "ExecuteTime": {
     "end_time": "2024-04-29T20:13:26.847656Z",
     "start_time": "2024-04-29T20:13:26.844623Z"
    }
   },
   "execution_count": 47
  },
  {
   "cell_type": "code",
   "outputs": [
    {
     "data": {
      "text/plain": "(12, 'tat-TGT-----ACA-ata', 0)"
     },
     "execution_count": 48,
     "metadata": {},
     "output_type": "execute_result"
    }
   ],
   "source": [
    "best_alignment(s,rev)\n",
    "#now make a score for the alignment and print the clusters of aignment considering at most one mismatch and at least 3 matches for cluster, at least 2 clusters"
   ],
   "metadata": {
    "collapsed": false,
    "ExecuteTime": {
     "end_time": "2024-04-29T20:13:27.765179Z",
     "start_time": "2024-04-29T20:13:27.762214Z"
    }
   },
   "execution_count": 48
  },
  {
   "cell_type": "code",
   "outputs": [
    {
     "data": {
      "text/plain": "                                                          motivi\nLAU37_RS24005  [ATTGAGGCTTGATTAACTACTTCAG, TATAAGAAATTTCTGAGA...\nLAU37_RS24030  [TTTTAGTATTATTTGCTGACTACTT, AGTTAGCCAATCGCTGCT...\nLAU37_RS00155  [TGACAGTACAGATACACAACTCTTC, GGCTAGGTGTCTACAACT...\nLAU37_RS11065  [ATGCAGCGCAGTAAAACTCTAT, CTTCAGTTGTTATTTAACTTC...\nLAU37_RS12260  [CGTTAGTTTTTATTACTAGAT, CTAAAGGTTCAAAAACTCGGC,...\n...                                                          ...\nLAU37_RS04180                            [CACTTGTTTTGGAGACTGAAT]\nLAU37_RS27305                            [GCCAAGACACCTAAACTTGGC]\nLAU37_RS09050                            [TGACAGGAAATAGCACTAATA]\nLAU37_RS27350                              [CGATAGTTGAAGGCTAAGA]\nLAU37_RS12965                        [CACTAGTGGTTTTTTGATACAATTA]\n\n[4610 rows x 1 columns]",
      "text/html": "<div>\n<style scoped>\n    .dataframe tbody tr th:only-of-type {\n        vertical-align: middle;\n    }\n\n    .dataframe tbody tr th {\n        vertical-align: top;\n    }\n\n    .dataframe thead th {\n        text-align: right;\n    }\n</style>\n<table border=\"1\" class=\"dataframe\">\n  <thead>\n    <tr style=\"text-align: right;\">\n      <th></th>\n      <th>motivi</th>\n    </tr>\n  </thead>\n  <tbody>\n    <tr>\n      <th>LAU37_RS24005</th>\n      <td>[ATTGAGGCTTGATTAACTACTTCAG, TATAAGAAATTTCTGAGA...</td>\n    </tr>\n    <tr>\n      <th>LAU37_RS24030</th>\n      <td>[TTTTAGTATTATTTGCTGACTACTT, AGTTAGCCAATCGCTGCT...</td>\n    </tr>\n    <tr>\n      <th>LAU37_RS00155</th>\n      <td>[TGACAGTACAGATACACAACTCTTC, GGCTAGGTGTCTACAACT...</td>\n    </tr>\n    <tr>\n      <th>LAU37_RS11065</th>\n      <td>[ATGCAGCGCAGTAAAACTCTAT, CTTCAGTTGTTATTTAACTTC...</td>\n    </tr>\n    <tr>\n      <th>LAU37_RS12260</th>\n      <td>[CGTTAGTTTTTATTACTAGAT, CTAAAGGTTCAAAAACTCGGC,...</td>\n    </tr>\n    <tr>\n      <th>...</th>\n      <td>...</td>\n    </tr>\n    <tr>\n      <th>LAU37_RS04180</th>\n      <td>[CACTTGTTTTGGAGACTGAAT]</td>\n    </tr>\n    <tr>\n      <th>LAU37_RS27305</th>\n      <td>[GCCAAGACACCTAAACTTGGC]</td>\n    </tr>\n    <tr>\n      <th>LAU37_RS09050</th>\n      <td>[TGACAGGAAATAGCACTAATA]</td>\n    </tr>\n    <tr>\n      <th>LAU37_RS27350</th>\n      <td>[CGATAGTTGAAGGCTAAGA]</td>\n    </tr>\n    <tr>\n      <th>LAU37_RS12965</th>\n      <td>[CACTAGTGGTTTTTTGATACAATTA]</td>\n    </tr>\n  </tbody>\n</table>\n<p>4610 rows × 1 columns</p>\n</div>"
     },
     "execution_count": 49,
     "metadata": {},
     "output_type": "execute_result"
    }
   ],
   "source": [
    "#order df for the number of motifs df is a pandas series\n",
    "#transform df in a pandas dataframe\n",
    "df=pd.DataFrame(df)\n",
    "#add a column with the number of motifs\n",
    "df[\"n_motivi\"]=df[\"motivi\"].apply(len)\n",
    "#order the dataframe\n",
    "df=df.sort_values(\"n_motivi\",ascending=False)\n",
    "#drop the column with the number of motifs\n",
    "df=df.drop(\"n_motivi\",axis=1)\n",
    "df"
   ],
   "metadata": {
    "collapsed": false,
    "ExecuteTime": {
     "end_time": "2024-04-29T20:13:29.458076Z",
     "start_time": "2024-04-29T20:13:29.446498Z"
    }
   },
   "execution_count": 49
  },
  {
   "cell_type": "code",
   "outputs": [
    {
     "name": "stdout",
     "output_type": "stream",
     "text": [
      "TGCCAGTGGGGGCATTTTTG\n",
      "CAAAAATGCCCCCACTGGCA\n",
      "6\n",
      "----A-TG----CA-T----\n",
      "0\n",
      "\n",
      "TTGTAGTACGAATGTTCTATAG\n",
      "CTATAGAACATTCGTACTACAA\n",
      "12\n",
      "-T-TAG-AC----GT-CTA-A-\n",
      "0\n",
      "\n",
      "TTTGTGTGTCACCTGACGACAAATT\n",
      "AATTTGTCGTCAGGTGACACACAAA\n",
      "12\n",
      "--T-TGTC--C-G--GACA-A--\n",
      "2\n"
     ]
    }
   ],
   "source": [
    "seqs=df.loc[\"LAU37_RS14470\"]\n",
    "for s in seqs.iloc[0]:\n",
    "    rev=revcomp(s)\n",
    "    score,alignment,shift=best_alignment(s,rev)\n",
    "    print(s,rev,score,alignment,shift,sep=\"\\n\")\n",
    "    print()"
   ],
   "metadata": {
    "collapsed": false,
    "ExecuteTime": {
     "end_time": "2024-04-29T20:13:30.896690Z",
     "start_time": "2024-04-29T20:13:30.893134Z"
    }
   },
   "execution_count": 50
  },
  {
   "cell_type": "code",
   "outputs": [
    {
     "name": "stdout",
     "output_type": "stream",
     "text": [
      "['T', 'T', 'A', 'G', 'A', 'C'] [['T', 'T', 'A', 'G', 'A', 'C']]\n",
      "[] [['T', 'T', 'A', 'G', 'A', 'C'], []]\n",
      "[] [['T', 'T', 'A', 'G', 'A', 'C'], [], []]\n",
      "['G', 'T', 'C', 'T', 'A', 'A'] [['T', 'T', 'A', 'G', 'A', 'C'], [], [], ['G', 'T', 'C', 'T', 'A', 'A']]\n"
     ]
    },
    {
     "data": {
      "text/plain": "[['T', 'T', 'A', 'G', 'A', 'C'], ['G', 'T', 'C', 'T', 'A', 'A']]"
     },
     "execution_count": 66,
     "metadata": {},
     "output_type": "execute_result"
    }
   ],
   "source": [
    "def clusters(alignment):\n",
    "    clusters=[]\n",
    "    cluster=[]\n",
    "    for i,x in enumerate(alignment):\n",
    "        # print(cluster)\n",
    "        if x!=\"-\":\n",
    "            cluster.append(x)\n",
    "        elif (i != len(alignment) - 1 and alignment[i+1]==\"-\") or i==len(alignment)-1:\n",
    "            clusters.append(cluster)\n",
    "            print(cluster,clusters)\n",
    "            cluster=[]\n",
    "        else:\n",
    "            pass\n",
    "    clusters=[x for x in clusters if len(x)>=3]\n",
    "    return clusters\n",
    "\n",
    "alignment=\"-T-TAG-AC----GT-CTA-A-\"\n",
    "clusters(alignment)\n",
    "        "
   ],
   "metadata": {
    "collapsed": false,
    "ExecuteTime": {
     "end_time": "2024-04-29T20:50:00.072412Z",
     "start_time": "2024-04-29T20:50:00.059876Z"
    }
   },
   "execution_count": 66
  },
  {
   "cell_type": "code",
   "outputs": [],
   "source": [],
   "metadata": {
    "collapsed": false
   }
  }
 ],
 "metadata": {
  "kernelspec": {
   "display_name": "Python 3",
   "language": "python",
   "name": "python3"
  },
  "language_info": {
   "codemirror_mode": {
    "name": "ipython",
    "version": 2
   },
   "file_extension": ".py",
   "mimetype": "text/x-python",
   "name": "python",
   "nbconvert_exporter": "python",
   "pygments_lexer": "ipython2",
   "version": "2.7.6"
  }
 },
 "nbformat": 4,
 "nbformat_minor": 0
}
