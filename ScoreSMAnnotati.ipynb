{
 "cells": [
  {
   "cell_type": "code",
   "execution_count": 8,
   "id": "initial_id",
   "metadata": {
    "collapsed": true,
    "ExecuteTime": {
     "end_time": "2024-05-23T07:11:56.142762Z",
     "start_time": "2024-05-23T07:11:56.129872Z"
    }
   },
   "outputs": [],
   "source": [
    "import pandas as pd\n",
    "df_ann=pd.read_csv(\"/home/davide/Desktop/CCMEE29Annotazioni.csv\")"
   ]
  },
  {
   "cell_type": "code",
   "outputs": [],
   "source": [
    "df_score=pd.read_csv(\"/home/davide/PycharmProjects/TESI2/scorerefined.txt\",sep=\"\\t\",header=None)"
   ],
   "metadata": {
    "collapsed": false,
    "ExecuteTime": {
     "end_time": "2024-05-23T07:11:56.895698Z",
     "start_time": "2024-05-23T07:11:56.885740Z"
    }
   },
   "id": "5428f1c89f909dd5",
   "execution_count": 9
  },
  {
   "cell_type": "code",
   "outputs": [],
   "source": [
    "df_score.columns=[\"sequence_name\",\"protein_id\",\"score\",\"motivo\",\"posizione\"]\n",
    "df_score.drop(columns=[\"protein_id\"],axis=1,inplace=True)"
   ],
   "metadata": {
    "collapsed": false,
    "ExecuteTime": {
     "end_time": "2024-05-23T07:11:57.472556Z",
     "start_time": "2024-05-23T07:11:57.469553Z"
    }
   },
   "id": "c923f89ed434dfc5",
   "execution_count": 10
  },
  {
   "cell_type": "code",
   "outputs": [
    {
     "data": {
      "text/plain": "      sequence_name      score            motivo  posizione\n1617  LAU37_RS19450  14.646453  TAGTTCATTTGTACTA        -67\n1300  LAU37_RS16010  14.621214  TAGTATATCTGCACTA        -67\n1179  LAU37_RS14595  14.039516  TAGTACATATGTACTA       -208\n32    LAU37_RS00385  13.949933  CAGTGCAAATGTACTG        -61\n2918  LAU37_RS07180  13.696897  TAGTTAAAAAGCACTA        -80\n...             ...        ...               ...        ...\n4586  LAU37_RS26905 -15.255242  CAACCCACAGCAAAGC        -17\n4877  LAU37_RS31160 -15.712613  CAAACCACAATAAAAC        -17\n3438  LAU37_RS13085 -15.981318  TTTTTAAGAGGAAACG        -16\n2464  LAU37_RS02120 -16.662662  CTTAAAGGAATAGAAG        -16\n1121  LAU37_RS14060 -18.843537  AGTATAGAACTCAAAT        -16\n\n[5191 rows x 4 columns]",
      "text/html": "<div>\n<style scoped>\n    .dataframe tbody tr th:only-of-type {\n        vertical-align: middle;\n    }\n\n    .dataframe tbody tr th {\n        vertical-align: top;\n    }\n\n    .dataframe thead th {\n        text-align: right;\n    }\n</style>\n<table border=\"1\" class=\"dataframe\">\n  <thead>\n    <tr style=\"text-align: right;\">\n      <th></th>\n      <th>sequence_name</th>\n      <th>score</th>\n      <th>motivo</th>\n      <th>posizione</th>\n    </tr>\n  </thead>\n  <tbody>\n    <tr>\n      <th>1617</th>\n      <td>LAU37_RS19450</td>\n      <td>14.646453</td>\n      <td>TAGTTCATTTGTACTA</td>\n      <td>-67</td>\n    </tr>\n    <tr>\n      <th>1300</th>\n      <td>LAU37_RS16010</td>\n      <td>14.621214</td>\n      <td>TAGTATATCTGCACTA</td>\n      <td>-67</td>\n    </tr>\n    <tr>\n      <th>1179</th>\n      <td>LAU37_RS14595</td>\n      <td>14.039516</td>\n      <td>TAGTACATATGTACTA</td>\n      <td>-208</td>\n    </tr>\n    <tr>\n      <th>32</th>\n      <td>LAU37_RS00385</td>\n      <td>13.949933</td>\n      <td>CAGTGCAAATGTACTG</td>\n      <td>-61</td>\n    </tr>\n    <tr>\n      <th>2918</th>\n      <td>LAU37_RS07180</td>\n      <td>13.696897</td>\n      <td>TAGTTAAAAAGCACTA</td>\n      <td>-80</td>\n    </tr>\n    <tr>\n      <th>...</th>\n      <td>...</td>\n      <td>...</td>\n      <td>...</td>\n      <td>...</td>\n    </tr>\n    <tr>\n      <th>4586</th>\n      <td>LAU37_RS26905</td>\n      <td>-15.255242</td>\n      <td>CAACCCACAGCAAAGC</td>\n      <td>-17</td>\n    </tr>\n    <tr>\n      <th>4877</th>\n      <td>LAU37_RS31160</td>\n      <td>-15.712613</td>\n      <td>CAAACCACAATAAAAC</td>\n      <td>-17</td>\n    </tr>\n    <tr>\n      <th>3438</th>\n      <td>LAU37_RS13085</td>\n      <td>-15.981318</td>\n      <td>TTTTTAAGAGGAAACG</td>\n      <td>-16</td>\n    </tr>\n    <tr>\n      <th>2464</th>\n      <td>LAU37_RS02120</td>\n      <td>-16.662662</td>\n      <td>CTTAAAGGAATAGAAG</td>\n      <td>-16</td>\n    </tr>\n    <tr>\n      <th>1121</th>\n      <td>LAU37_RS14060</td>\n      <td>-18.843537</td>\n      <td>AGTATAGAACTCAAAT</td>\n      <td>-16</td>\n    </tr>\n  </tbody>\n</table>\n<p>5191 rows × 4 columns</p>\n</div>"
     },
     "execution_count": 11,
     "metadata": {},
     "output_type": "execute_result"
    }
   ],
   "source": [
    "#sort by score\n",
    "df_score=df_score.sort_values(by=\"score\",ascending=False)\n",
    "df_score"
   ],
   "metadata": {
    "collapsed": false,
    "ExecuteTime": {
     "end_time": "2024-05-23T07:11:58.112254Z",
     "start_time": "2024-05-23T07:11:58.104733Z"
    }
   },
   "id": "2dca36707c3bf52d",
   "execution_count": 11
  },
  {
   "cell_type": "code",
   "outputs": [],
   "source": [
    "df_score2=pd.read_csv(\"/home/davide/PycharmProjects/TESI2/scorerefined2.txt\",sep=\"\\t\",header=None,skiprows=1)\n",
    "df_score2.columns=[\"sequence_name\",\"score\",\"score_refined\",\"motivo\",\"posizione\"]\n",
    "df_score3=pd.read_csv(\"/home/davide/PycharmProjects/TESI2/scorerefined3.txt\",sep=\"\\t\",header=None,skiprows=1)\n",
    "df_score3.columns=[\"sequence_name\",\"score\",\"score_refined\",\"motivo\",\"posizione\"]\n",
    "df_score4=pd.read_csv(\"/home/davide/PycharmProjects/TESI2/scorerefined4.txt\",sep=\"\\t\",header=None,skiprows=1)\n",
    "df_score4.columns=[\"sequence_name\",\"score\",\"score_refined\",\"motivo\",\"posizione\"]"
   ],
   "metadata": {
    "collapsed": false,
    "ExecuteTime": {
     "end_time": "2024-05-23T07:12:00.576502Z",
     "start_time": "2024-05-23T07:12:00.556068Z"
    }
   },
   "id": "944ad5df499623cc",
   "execution_count": 12
  },
  {
   "cell_type": "code",
   "outputs": [
    {
     "data": {
      "text/plain": "      sequence_name    score_1          motivo_1  posizione_1      protein_id  \\\n0     LAU37_RS19450  14.646453  TAGTTCATTTGTACTA          -67  WP_250122141.1   \n1     LAU37_RS16010  14.621214  TAGTATATCTGCACTA          -67  WP_250121493.1   \n2     LAU37_RS14595  14.039516  TAGTACATATGTACTA         -208  WP_250121243.1   \n3     LAU37_RS00385  13.949933  CAGTGCAAATGTACTG          -61  WP_250123666.1   \n4     LAU37_RS07180  13.696897  TAGTTAAAAAGCACTA          -80  WP_250124908.1   \n...             ...        ...               ...          ...             ...   \n5116  LAU37_RS11200  -8.821129  AACTCGAAAAGGCGGA          -22  WP_250125641.1   \n5117  LAU37_RS28140  -9.001260  CAATCCAGGGAGCAGA          -19  WP_250126602.1   \n5118  LAU37_RS15135  -9.819599  AACTGGAACGGAAAAG          -26  WP_250121343.1   \n5119  LAU37_RS04790 -11.079162  GTTCATCAAAGAATTT          -20  WP_250124483.1   \n5120  LAU37_RS09385 -11.491430  GAGATACCGACAGAAG          -18  WP_250125314.1   \n\n                                    product  gene  \\\n0                      hypothetical protein   NaN   \n1                          recombinase RecA  recA   \n2                        ERF family protein   NaN   \n3                         SMC family ATPase   NaN   \n4     antibiotic biosynthesis monooxygenase   NaN   \n...                                     ...   ...   \n5116                    MbtH family protein   NaN   \n5117                   hypothetical protein   NaN   \n5118                    AMP-binding protein   NaN   \n5119                   hypothetical protein   NaN   \n5120                   alpha/beta hydrolase   NaN   \n\n                                             GO_process  \\\n0                                                   NaN   \n1     ['GO:0006281 - DNA repair [Evidence IEA]', 'GO...   \n2                                                   NaN   \n3                                                   NaN   \n4                                                   NaN   \n...                                                 ...   \n5116                                                NaN   \n5117                                                NaN   \n5118                                                NaN   \n5119                                                NaN   \n5120                                                NaN   \n\n                                   GO_component  \\\n0                                           NaN   \n1     ['GO:0005737 - cytoplasm [Evidence IEA]']   \n2                                           NaN   \n3                                           NaN   \n4                                           NaN   \n...                                         ...   \n5116                                        NaN   \n5117                                        NaN   \n5118                                        NaN   \n5119                                        NaN   \n5120                                        NaN   \n\n                                            GO_function  ...  \\\n0                                                   NaN  ...   \n1     ['GO:0003677 - DNA binding [Evidence IEA]', 'G...  ...   \n2                                                   NaN  ...   \n3                                                   NaN  ...   \n4                                                   NaN  ...   \n...                                                 ...  ...   \n5116                                                NaN  ...   \n5117                                                NaN  ...   \n5118                                                NaN  ...   \n5119                                                NaN  ...   \n5120                                                NaN  ...   \n\n                  motivo_2 posizione_2   score_3  score_refined_3  \\\n0     TTATAGTTCATTTGTACTAC         -70  6.812899        13.025953   \n1     AAATAGTATATCTGCACTAG         -70  7.557351        15.114703   \n2     TACTAGTACATATGTACTAT        -211  6.540543        11.895822   \n3     CAACAGTGCAAATGTACTGT         -64  4.371643         8.553356   \n4     TCCTAGTTAAAAAGCACTAC         -83  2.475564         4.951127   \n...                    ...         ...       ...              ...   \n5116  AAAAACTCGAAAAGGCGGAA         -25 -5.128728        -7.538168   \n5117  TGCAATCCAGGGAGCAGAAG         -21 -5.472303        -5.361910   \n5118  TGGAACGGAAAAGGAGGTAA         -23 -4.641535        -4.764257   \n5119  GTTCATCAAAGAATTTAGGT         -20 -7.516773        -7.050456   \n5120  TTGAGATACCGACAGAAGAA         -20 -8.832357        -8.627575   \n\n                  motivo_3 posizione_3    score_4  score_refined  \\\n0     TTATAGTTCATTTGTACTAC         -70   8.347742      15.615763   \n1     AAATAGTATATCTGCACTAG         -70  10.516146      21.032292   \n2     TACTAGTACATATGTACTAT        -211  10.422293      19.279943   \n3     CAACAGTGCAAATGTACTGT         -64   6.619719      12.984127   \n4     TCCTAGTTAAAAAGCACTAC         -83   3.614973       7.229946   \n...                    ...         ...        ...            ...   \n5116  CAAAACAAAAACTCGAAAAG         -31  -5.470470      -8.003203   \n5117  ATGCAATCCAGGGAGCAGAA         -22  -8.991549      -9.094845   \n5118  TGGAACGGAAAAGGAGGTAA         -23  -7.206694      -9.728158   \n5119  GTTCATCAAAGAATTTAGGT         -20  -8.884343      -9.066804   \n5120  TTGAGATACCGACAGAAGAA         -20  -7.596242      -9.546731   \n\n              motivo_4 posizione_4  \n0     TAGTTCATTTGTACTA         -67  \n1     TAGTATATCTGCACTA         -67  \n2     TAGTACATATGTACTA        -208  \n3     CAGTGCAAATGTACTG         -61  \n4     TAGTTAAAAAGCACTA         -80  \n...                ...         ...  \n5116  CAAAACAAAAACTCGA         -31  \n5117  TGCAATCCAGGGAGCA         -21  \n5118  AACTGGAACGGAAAAG         -26  \n5119  GTTCATCAAAGAATTT         -20  \n5120  GATACCGACAGAAGAA         -16  \n\n[5121 rows x 25 columns]",
      "text/html": "<div>\n<style scoped>\n    .dataframe tbody tr th:only-of-type {\n        vertical-align: middle;\n    }\n\n    .dataframe tbody tr th {\n        vertical-align: top;\n    }\n\n    .dataframe thead th {\n        text-align: right;\n    }\n</style>\n<table border=\"1\" class=\"dataframe\">\n  <thead>\n    <tr style=\"text-align: right;\">\n      <th></th>\n      <th>sequence_name</th>\n      <th>score_1</th>\n      <th>motivo_1</th>\n      <th>posizione_1</th>\n      <th>protein_id</th>\n      <th>product</th>\n      <th>gene</th>\n      <th>GO_process</th>\n      <th>GO_component</th>\n      <th>GO_function</th>\n      <th>...</th>\n      <th>motivo_2</th>\n      <th>posizione_2</th>\n      <th>score_3</th>\n      <th>score_refined_3</th>\n      <th>motivo_3</th>\n      <th>posizione_3</th>\n      <th>score_4</th>\n      <th>score_refined</th>\n      <th>motivo_4</th>\n      <th>posizione_4</th>\n    </tr>\n  </thead>\n  <tbody>\n    <tr>\n      <th>0</th>\n      <td>LAU37_RS19450</td>\n      <td>14.646453</td>\n      <td>TAGTTCATTTGTACTA</td>\n      <td>-67</td>\n      <td>WP_250122141.1</td>\n      <td>hypothetical protein</td>\n      <td>NaN</td>\n      <td>NaN</td>\n      <td>NaN</td>\n      <td>NaN</td>\n      <td>...</td>\n      <td>TTATAGTTCATTTGTACTAC</td>\n      <td>-70</td>\n      <td>6.812899</td>\n      <td>13.025953</td>\n      <td>TTATAGTTCATTTGTACTAC</td>\n      <td>-70</td>\n      <td>8.347742</td>\n      <td>15.615763</td>\n      <td>TAGTTCATTTGTACTA</td>\n      <td>-67</td>\n    </tr>\n    <tr>\n      <th>1</th>\n      <td>LAU37_RS16010</td>\n      <td>14.621214</td>\n      <td>TAGTATATCTGCACTA</td>\n      <td>-67</td>\n      <td>WP_250121493.1</td>\n      <td>recombinase RecA</td>\n      <td>recA</td>\n      <td>['GO:0006281 - DNA repair [Evidence IEA]', 'GO...</td>\n      <td>['GO:0005737 - cytoplasm [Evidence IEA]']</td>\n      <td>['GO:0003677 - DNA binding [Evidence IEA]', 'G...</td>\n      <td>...</td>\n      <td>AAATAGTATATCTGCACTAG</td>\n      <td>-70</td>\n      <td>7.557351</td>\n      <td>15.114703</td>\n      <td>AAATAGTATATCTGCACTAG</td>\n      <td>-70</td>\n      <td>10.516146</td>\n      <td>21.032292</td>\n      <td>TAGTATATCTGCACTA</td>\n      <td>-67</td>\n    </tr>\n    <tr>\n      <th>2</th>\n      <td>LAU37_RS14595</td>\n      <td>14.039516</td>\n      <td>TAGTACATATGTACTA</td>\n      <td>-208</td>\n      <td>WP_250121243.1</td>\n      <td>ERF family protein</td>\n      <td>NaN</td>\n      <td>NaN</td>\n      <td>NaN</td>\n      <td>NaN</td>\n      <td>...</td>\n      <td>TACTAGTACATATGTACTAT</td>\n      <td>-211</td>\n      <td>6.540543</td>\n      <td>11.895822</td>\n      <td>TACTAGTACATATGTACTAT</td>\n      <td>-211</td>\n      <td>10.422293</td>\n      <td>19.279943</td>\n      <td>TAGTACATATGTACTA</td>\n      <td>-208</td>\n    </tr>\n    <tr>\n      <th>3</th>\n      <td>LAU37_RS00385</td>\n      <td>13.949933</td>\n      <td>CAGTGCAAATGTACTG</td>\n      <td>-61</td>\n      <td>WP_250123666.1</td>\n      <td>SMC family ATPase</td>\n      <td>NaN</td>\n      <td>NaN</td>\n      <td>NaN</td>\n      <td>NaN</td>\n      <td>...</td>\n      <td>CAACAGTGCAAATGTACTGT</td>\n      <td>-64</td>\n      <td>4.371643</td>\n      <td>8.553356</td>\n      <td>CAACAGTGCAAATGTACTGT</td>\n      <td>-64</td>\n      <td>6.619719</td>\n      <td>12.984127</td>\n      <td>CAGTGCAAATGTACTG</td>\n      <td>-61</td>\n    </tr>\n    <tr>\n      <th>4</th>\n      <td>LAU37_RS07180</td>\n      <td>13.696897</td>\n      <td>TAGTTAAAAAGCACTA</td>\n      <td>-80</td>\n      <td>WP_250124908.1</td>\n      <td>antibiotic biosynthesis monooxygenase</td>\n      <td>NaN</td>\n      <td>NaN</td>\n      <td>NaN</td>\n      <td>NaN</td>\n      <td>...</td>\n      <td>TCCTAGTTAAAAAGCACTAC</td>\n      <td>-83</td>\n      <td>2.475564</td>\n      <td>4.951127</td>\n      <td>TCCTAGTTAAAAAGCACTAC</td>\n      <td>-83</td>\n      <td>3.614973</td>\n      <td>7.229946</td>\n      <td>TAGTTAAAAAGCACTA</td>\n      <td>-80</td>\n    </tr>\n    <tr>\n      <th>...</th>\n      <td>...</td>\n      <td>...</td>\n      <td>...</td>\n      <td>...</td>\n      <td>...</td>\n      <td>...</td>\n      <td>...</td>\n      <td>...</td>\n      <td>...</td>\n      <td>...</td>\n      <td>...</td>\n      <td>...</td>\n      <td>...</td>\n      <td>...</td>\n      <td>...</td>\n      <td>...</td>\n      <td>...</td>\n      <td>...</td>\n      <td>...</td>\n      <td>...</td>\n      <td>...</td>\n    </tr>\n    <tr>\n      <th>5116</th>\n      <td>LAU37_RS11200</td>\n      <td>-8.821129</td>\n      <td>AACTCGAAAAGGCGGA</td>\n      <td>-22</td>\n      <td>WP_250125641.1</td>\n      <td>MbtH family protein</td>\n      <td>NaN</td>\n      <td>NaN</td>\n      <td>NaN</td>\n      <td>NaN</td>\n      <td>...</td>\n      <td>AAAAACTCGAAAAGGCGGAA</td>\n      <td>-25</td>\n      <td>-5.128728</td>\n      <td>-7.538168</td>\n      <td>CAAAACAAAAACTCGAAAAG</td>\n      <td>-31</td>\n      <td>-5.470470</td>\n      <td>-8.003203</td>\n      <td>CAAAACAAAAACTCGA</td>\n      <td>-31</td>\n    </tr>\n    <tr>\n      <th>5117</th>\n      <td>LAU37_RS28140</td>\n      <td>-9.001260</td>\n      <td>CAATCCAGGGAGCAGA</td>\n      <td>-19</td>\n      <td>WP_250126602.1</td>\n      <td>hypothetical protein</td>\n      <td>NaN</td>\n      <td>NaN</td>\n      <td>NaN</td>\n      <td>NaN</td>\n      <td>...</td>\n      <td>TGCAATCCAGGGAGCAGAAG</td>\n      <td>-21</td>\n      <td>-5.472303</td>\n      <td>-5.361910</td>\n      <td>ATGCAATCCAGGGAGCAGAA</td>\n      <td>-22</td>\n      <td>-8.991549</td>\n      <td>-9.094845</td>\n      <td>TGCAATCCAGGGAGCA</td>\n      <td>-21</td>\n    </tr>\n    <tr>\n      <th>5118</th>\n      <td>LAU37_RS15135</td>\n      <td>-9.819599</td>\n      <td>AACTGGAACGGAAAAG</td>\n      <td>-26</td>\n      <td>WP_250121343.1</td>\n      <td>AMP-binding protein</td>\n      <td>NaN</td>\n      <td>NaN</td>\n      <td>NaN</td>\n      <td>NaN</td>\n      <td>...</td>\n      <td>TGGAACGGAAAAGGAGGTAA</td>\n      <td>-23</td>\n      <td>-4.641535</td>\n      <td>-4.764257</td>\n      <td>TGGAACGGAAAAGGAGGTAA</td>\n      <td>-23</td>\n      <td>-7.206694</td>\n      <td>-9.728158</td>\n      <td>AACTGGAACGGAAAAG</td>\n      <td>-26</td>\n    </tr>\n    <tr>\n      <th>5119</th>\n      <td>LAU37_RS04790</td>\n      <td>-11.079162</td>\n      <td>GTTCATCAAAGAATTT</td>\n      <td>-20</td>\n      <td>WP_250124483.1</td>\n      <td>hypothetical protein</td>\n      <td>NaN</td>\n      <td>NaN</td>\n      <td>NaN</td>\n      <td>NaN</td>\n      <td>...</td>\n      <td>GTTCATCAAAGAATTTAGGT</td>\n      <td>-20</td>\n      <td>-7.516773</td>\n      <td>-7.050456</td>\n      <td>GTTCATCAAAGAATTTAGGT</td>\n      <td>-20</td>\n      <td>-8.884343</td>\n      <td>-9.066804</td>\n      <td>GTTCATCAAAGAATTT</td>\n      <td>-20</td>\n    </tr>\n    <tr>\n      <th>5120</th>\n      <td>LAU37_RS09385</td>\n      <td>-11.491430</td>\n      <td>GAGATACCGACAGAAG</td>\n      <td>-18</td>\n      <td>WP_250125314.1</td>\n      <td>alpha/beta hydrolase</td>\n      <td>NaN</td>\n      <td>NaN</td>\n      <td>NaN</td>\n      <td>NaN</td>\n      <td>...</td>\n      <td>TTGAGATACCGACAGAAGAA</td>\n      <td>-20</td>\n      <td>-8.832357</td>\n      <td>-8.627575</td>\n      <td>TTGAGATACCGACAGAAGAA</td>\n      <td>-20</td>\n      <td>-7.596242</td>\n      <td>-9.546731</td>\n      <td>GATACCGACAGAAGAA</td>\n      <td>-16</td>\n    </tr>\n  </tbody>\n</table>\n<p>5121 rows × 25 columns</p>\n</div>"
     },
     "execution_count": 13,
     "metadata": {},
     "output_type": "execute_result"
    }
   ],
   "source": [
    "df=pd.merge(df_score,df_ann,on=\"sequence_name\")\n",
    "df=pd.merge(df,df_score2,on=\"sequence_name\",suffixes=('_1','_2'))\n",
    "df=pd.merge(df,df_score3,on=\"sequence_name\",suffixes=('_2','_3'))\n",
    "df=pd.merge(df,df_score4,on=\"sequence_name\",suffixes=('_3','_4'))\n",
    "df"
   ],
   "metadata": {
    "collapsed": false,
    "ExecuteTime": {
     "end_time": "2024-05-23T07:12:01.868169Z",
     "start_time": "2024-05-23T07:12:01.831886Z"
    }
   },
   "id": "e345c5fbb203f82e",
   "execution_count": 13
  },
  {
   "cell_type": "code",
   "outputs": [
    {
     "data": {
      "text/plain": "    sequence_name    score_1          motivo_1  posizione_1      protein_id  \\\n0   LAU37_RS19450  14.646453  TAGTTCATTTGTACTA          -67  WP_250122141.1   \n1   LAU37_RS16010  14.621214  TAGTATATCTGCACTA          -67  WP_250121493.1   \n3   LAU37_RS00385  13.949933  CAGTGCAAATGTACTG          -61  WP_250123666.1   \n6   LAU37_RS14470  13.444187  TAGTACGAATGTTCTA          -48  WP_250121220.1   \n7   LAU37_RS21505  12.884706  GAGTACACTTGTACTG          -29  WP_250122517.1   \n9   LAU37_RS09400  12.466422  TAGTTATTTTTGCCTA         -242  WP_250125317.1   \n11  LAU37_RS18910  11.366247  TAGTACATTGTTACTA          -41  WP_250122036.1   \n13  LAU37_RS04740  11.012677  CAGTCGTTATGAACTG         -137  WP_250124474.1   \n48  LAU37_RS21830   8.593918  TAGTCAGCAACGACTA         -141  WP_250122575.1   \n76  LAU37_RS13890   7.970388  GAGTAAATTCTCCCTG          -59  WP_250126127.1   \n\n                                              product  gene  \\\n0                                hypothetical protein   NaN   \n1                                    recombinase RecA  recA   \n3                                   SMC family ATPase   NaN   \n6                      transcriptional repressor LexA  lexA   \n7                 single-stranded DNA-binding protein   NaN   \n9                                  threonine synthase  thrC   \n11                  deoxyribodipyrimidine photo-lyase   NaN   \n13  pyruvate dehydrogenase (acetyl-transferring) E...  pdhA   \n48                               hypothetical protein   NaN   \n76                                glycosyltransferase   NaN   \n\n                                           GO_process  \\\n0                                                 NaN   \n1   ['GO:0006281 - DNA repair [Evidence IEA]', 'GO...   \n3                                                 NaN   \n6   ['GO:0006282 - regulation of DNA repair [Evide...   \n7                                                 NaN   \n9   ['GO:0009088 - threonine biosynthetic process ...   \n11                                                NaN   \n13  ['GO:0006086 - acetyl-CoA biosynthetic process...   \n48                                                NaN   \n76                                                NaN   \n\n                                         GO_component  \\\n0                                                 NaN   \n1           ['GO:0005737 - cytoplasm [Evidence IEA]']   \n3                                                 NaN   \n6                                                 NaN   \n7                                                 NaN   \n9                                                 NaN   \n11                                                NaN   \n13  ['GO:0045250 - cytosolic pyruvate dehydrogenas...   \n48                                                NaN   \n76                                                NaN   \n\n                                          GO_function  ...  \\\n0                                                 NaN  ...   \n1   ['GO:0003677 - DNA binding [Evidence IEA]', 'G...  ...   \n3                                                 NaN  ...   \n6   ['GO:0004252 - serine-type endopeptidase activ...  ...   \n7                                                 NaN  ...   \n9   ['GO:0004795 - threonine synthase activity [Ev...  ...   \n11                                                NaN  ...   \n13  ['GO:0004739 - pyruvate dehydrogenase (acetyl-...  ...   \n48                                                NaN  ...   \n76                                                NaN  ...   \n\n                motivo_2 posizione_2   score_3  score_refined_3  \\\n0   TTATAGTTCATTTGTACTAC         -70  6.812899        13.025953   \n1   AAATAGTATATCTGCACTAG         -70  7.557351        15.114703   \n3   CAACAGTGCAAATGTACTGT         -64  4.371643         8.553356   \n6   TTGTAGTACGAATGTTCTAT         -51  6.542134        13.770736   \n7   ATAGAGTACACTTGTACTGA         -32  7.490178        14.060290   \n9   CAACTGTAAAATTGACCTAA         -35  1.540271         2.078772   \n11  TTATAGTACATTGTTACTAC         -44  5.068966         7.902295   \n13  GTTCAGTCGTTATGAACTGA        -140  1.382546         1.760067   \n48  TACCAATAAAATTGCTATAT        -278  2.144937         2.636656   \n76  ACAGAGTAAATTCTCCCTGA         -62  1.962795         2.566989   \n\n                motivo_3 posizione_3    score_4  score_refined  \\\n0   TTATAGTTCATTTGTACTAC         -70   8.347742      15.615763   \n1   AAATAGTATATCTGCACTAG         -70  10.516146      21.032292   \n3   CAACAGTGCAAATGTACTGT         -64   6.619719      12.984127   \n6   TTGTAGTACGAATGTTCTAT         -51  10.210154      20.212213   \n7   ATAGAGTACACTTGTACTGA         -32   9.179889      17.917018   \n9   TAAAAGTATAAATCTGCCTT        -105   3.897240       4.165638   \n11  TTATAGTACATTGTTACTAC         -44   4.773717      10.320421   \n13  TAATGGTTCAGTCGTTATGA        -145   2.447807       2.839550   \n48  TAGTAGTTAAACTTTATTAA        -230   0.661024       0.754176   \n76  ACAGAGTAAATTCTCCCTGA         -62   0.779172       1.175910   \n\n            motivo_4 posizione_4  \n0   TAGTTCATTTGTACTA         -67  \n1   TAGTATATCTGCACTA         -67  \n3   CAGTGCAAATGTACTG         -61  \n6   TAGTACGAATGTTCTA         -48  \n7   GAGTACACTTGTACTG         -29  \n9   CTGTAAAATTGACCTA         -32  \n11  TAGTACATTGTTACTA         -41  \n13  CAGTCGTTATGAACTG        -137  \n48  CAATAAAATTGCTATA        -275  \n76  GAGTAAATTCTCCCTG         -59  \n\n[10 rows x 25 columns]",
      "text/html": "<div>\n<style scoped>\n    .dataframe tbody tr th:only-of-type {\n        vertical-align: middle;\n    }\n\n    .dataframe tbody tr th {\n        vertical-align: top;\n    }\n\n    .dataframe thead th {\n        text-align: right;\n    }\n</style>\n<table border=\"1\" class=\"dataframe\">\n  <thead>\n    <tr style=\"text-align: right;\">\n      <th></th>\n      <th>sequence_name</th>\n      <th>score_1</th>\n      <th>motivo_1</th>\n      <th>posizione_1</th>\n      <th>protein_id</th>\n      <th>product</th>\n      <th>gene</th>\n      <th>GO_process</th>\n      <th>GO_component</th>\n      <th>GO_function</th>\n      <th>...</th>\n      <th>motivo_2</th>\n      <th>posizione_2</th>\n      <th>score_3</th>\n      <th>score_refined_3</th>\n      <th>motivo_3</th>\n      <th>posizione_3</th>\n      <th>score_4</th>\n      <th>score_refined</th>\n      <th>motivo_4</th>\n      <th>posizione_4</th>\n    </tr>\n  </thead>\n  <tbody>\n    <tr>\n      <th>0</th>\n      <td>LAU37_RS19450</td>\n      <td>14.646453</td>\n      <td>TAGTTCATTTGTACTA</td>\n      <td>-67</td>\n      <td>WP_250122141.1</td>\n      <td>hypothetical protein</td>\n      <td>NaN</td>\n      <td>NaN</td>\n      <td>NaN</td>\n      <td>NaN</td>\n      <td>...</td>\n      <td>TTATAGTTCATTTGTACTAC</td>\n      <td>-70</td>\n      <td>6.812899</td>\n      <td>13.025953</td>\n      <td>TTATAGTTCATTTGTACTAC</td>\n      <td>-70</td>\n      <td>8.347742</td>\n      <td>15.615763</td>\n      <td>TAGTTCATTTGTACTA</td>\n      <td>-67</td>\n    </tr>\n    <tr>\n      <th>1</th>\n      <td>LAU37_RS16010</td>\n      <td>14.621214</td>\n      <td>TAGTATATCTGCACTA</td>\n      <td>-67</td>\n      <td>WP_250121493.1</td>\n      <td>recombinase RecA</td>\n      <td>recA</td>\n      <td>['GO:0006281 - DNA repair [Evidence IEA]', 'GO...</td>\n      <td>['GO:0005737 - cytoplasm [Evidence IEA]']</td>\n      <td>['GO:0003677 - DNA binding [Evidence IEA]', 'G...</td>\n      <td>...</td>\n      <td>AAATAGTATATCTGCACTAG</td>\n      <td>-70</td>\n      <td>7.557351</td>\n      <td>15.114703</td>\n      <td>AAATAGTATATCTGCACTAG</td>\n      <td>-70</td>\n      <td>10.516146</td>\n      <td>21.032292</td>\n      <td>TAGTATATCTGCACTA</td>\n      <td>-67</td>\n    </tr>\n    <tr>\n      <th>3</th>\n      <td>LAU37_RS00385</td>\n      <td>13.949933</td>\n      <td>CAGTGCAAATGTACTG</td>\n      <td>-61</td>\n      <td>WP_250123666.1</td>\n      <td>SMC family ATPase</td>\n      <td>NaN</td>\n      <td>NaN</td>\n      <td>NaN</td>\n      <td>NaN</td>\n      <td>...</td>\n      <td>CAACAGTGCAAATGTACTGT</td>\n      <td>-64</td>\n      <td>4.371643</td>\n      <td>8.553356</td>\n      <td>CAACAGTGCAAATGTACTGT</td>\n      <td>-64</td>\n      <td>6.619719</td>\n      <td>12.984127</td>\n      <td>CAGTGCAAATGTACTG</td>\n      <td>-61</td>\n    </tr>\n    <tr>\n      <th>6</th>\n      <td>LAU37_RS14470</td>\n      <td>13.444187</td>\n      <td>TAGTACGAATGTTCTA</td>\n      <td>-48</td>\n      <td>WP_250121220.1</td>\n      <td>transcriptional repressor LexA</td>\n      <td>lexA</td>\n      <td>['GO:0006282 - regulation of DNA repair [Evide...</td>\n      <td>NaN</td>\n      <td>['GO:0004252 - serine-type endopeptidase activ...</td>\n      <td>...</td>\n      <td>TTGTAGTACGAATGTTCTAT</td>\n      <td>-51</td>\n      <td>6.542134</td>\n      <td>13.770736</td>\n      <td>TTGTAGTACGAATGTTCTAT</td>\n      <td>-51</td>\n      <td>10.210154</td>\n      <td>20.212213</td>\n      <td>TAGTACGAATGTTCTA</td>\n      <td>-48</td>\n    </tr>\n    <tr>\n      <th>7</th>\n      <td>LAU37_RS21505</td>\n      <td>12.884706</td>\n      <td>GAGTACACTTGTACTG</td>\n      <td>-29</td>\n      <td>WP_250122517.1</td>\n      <td>single-stranded DNA-binding protein</td>\n      <td>NaN</td>\n      <td>NaN</td>\n      <td>NaN</td>\n      <td>NaN</td>\n      <td>...</td>\n      <td>ATAGAGTACACTTGTACTGA</td>\n      <td>-32</td>\n      <td>7.490178</td>\n      <td>14.060290</td>\n      <td>ATAGAGTACACTTGTACTGA</td>\n      <td>-32</td>\n      <td>9.179889</td>\n      <td>17.917018</td>\n      <td>GAGTACACTTGTACTG</td>\n      <td>-29</td>\n    </tr>\n    <tr>\n      <th>9</th>\n      <td>LAU37_RS09400</td>\n      <td>12.466422</td>\n      <td>TAGTTATTTTTGCCTA</td>\n      <td>-242</td>\n      <td>WP_250125317.1</td>\n      <td>threonine synthase</td>\n      <td>thrC</td>\n      <td>['GO:0009088 - threonine biosynthetic process ...</td>\n      <td>NaN</td>\n      <td>['GO:0004795 - threonine synthase activity [Ev...</td>\n      <td>...</td>\n      <td>CAACTGTAAAATTGACCTAA</td>\n      <td>-35</td>\n      <td>1.540271</td>\n      <td>2.078772</td>\n      <td>TAAAAGTATAAATCTGCCTT</td>\n      <td>-105</td>\n      <td>3.897240</td>\n      <td>4.165638</td>\n      <td>CTGTAAAATTGACCTA</td>\n      <td>-32</td>\n    </tr>\n    <tr>\n      <th>11</th>\n      <td>LAU37_RS18910</td>\n      <td>11.366247</td>\n      <td>TAGTACATTGTTACTA</td>\n      <td>-41</td>\n      <td>WP_250122036.1</td>\n      <td>deoxyribodipyrimidine photo-lyase</td>\n      <td>NaN</td>\n      <td>NaN</td>\n      <td>NaN</td>\n      <td>NaN</td>\n      <td>...</td>\n      <td>TTATAGTACATTGTTACTAC</td>\n      <td>-44</td>\n      <td>5.068966</td>\n      <td>7.902295</td>\n      <td>TTATAGTACATTGTTACTAC</td>\n      <td>-44</td>\n      <td>4.773717</td>\n      <td>10.320421</td>\n      <td>TAGTACATTGTTACTA</td>\n      <td>-41</td>\n    </tr>\n    <tr>\n      <th>13</th>\n      <td>LAU37_RS04740</td>\n      <td>11.012677</td>\n      <td>CAGTCGTTATGAACTG</td>\n      <td>-137</td>\n      <td>WP_250124474.1</td>\n      <td>pyruvate dehydrogenase (acetyl-transferring) E...</td>\n      <td>pdhA</td>\n      <td>['GO:0006086 - acetyl-CoA biosynthetic process...</td>\n      <td>['GO:0045250 - cytosolic pyruvate dehydrogenas...</td>\n      <td>['GO:0004739 - pyruvate dehydrogenase (acetyl-...</td>\n      <td>...</td>\n      <td>GTTCAGTCGTTATGAACTGA</td>\n      <td>-140</td>\n      <td>1.382546</td>\n      <td>1.760067</td>\n      <td>TAATGGTTCAGTCGTTATGA</td>\n      <td>-145</td>\n      <td>2.447807</td>\n      <td>2.839550</td>\n      <td>CAGTCGTTATGAACTG</td>\n      <td>-137</td>\n    </tr>\n    <tr>\n      <th>48</th>\n      <td>LAU37_RS21830</td>\n      <td>8.593918</td>\n      <td>TAGTCAGCAACGACTA</td>\n      <td>-141</td>\n      <td>WP_250122575.1</td>\n      <td>hypothetical protein</td>\n      <td>NaN</td>\n      <td>NaN</td>\n      <td>NaN</td>\n      <td>NaN</td>\n      <td>...</td>\n      <td>TACCAATAAAATTGCTATAT</td>\n      <td>-278</td>\n      <td>2.144937</td>\n      <td>2.636656</td>\n      <td>TAGTAGTTAAACTTTATTAA</td>\n      <td>-230</td>\n      <td>0.661024</td>\n      <td>0.754176</td>\n      <td>CAATAAAATTGCTATA</td>\n      <td>-275</td>\n    </tr>\n    <tr>\n      <th>76</th>\n      <td>LAU37_RS13890</td>\n      <td>7.970388</td>\n      <td>GAGTAAATTCTCCCTG</td>\n      <td>-59</td>\n      <td>WP_250126127.1</td>\n      <td>glycosyltransferase</td>\n      <td>NaN</td>\n      <td>NaN</td>\n      <td>NaN</td>\n      <td>NaN</td>\n      <td>...</td>\n      <td>ACAGAGTAAATTCTCCCTGA</td>\n      <td>-62</td>\n      <td>1.962795</td>\n      <td>2.566989</td>\n      <td>ACAGAGTAAATTCTCCCTGA</td>\n      <td>-62</td>\n      <td>0.779172</td>\n      <td>1.175910</td>\n      <td>GAGTAAATTCTCCCTG</td>\n      <td>-59</td>\n    </tr>\n  </tbody>\n</table>\n<p>10 rows × 25 columns</p>\n</div>"
     },
     "execution_count": 7,
     "metadata": {},
     "output_type": "execute_result"
    }
   ],
   "source": [
    "lista=\"\"\"WP_250122517.1\n",
    "WP_250123666.1\n",
    "WP_250124474.1\n",
    "WP_250121220.1\n",
    "WP_250122141.1\n",
    "WP_250122036.1\n",
    "WP_250121493.1\n",
    "WP_250126127.1\n",
    "WP_250125317.1\n",
    "WP_250122575.1\"\"\".split(\"\\n\")\n",
    "#find rows with protein_id in lista\n",
    "df[df[\"protein_id\"].isin(lista)]"
   ],
   "metadata": {
    "collapsed": false,
    "ExecuteTime": {
     "end_time": "2024-05-23T07:10:47.908712Z",
     "start_time": "2024-05-23T07:10:47.896618Z"
    }
   },
   "id": "d4a1c87c37898a81",
   "execution_count": 7
  },
  {
   "cell_type": "code",
   "outputs": [
    {
     "ename": "ValueError",
     "evalue": "Improper MEME XML input file. XML root tag should start with <MEME version= ...",
     "output_type": "error",
     "traceback": [
      "\u001B[0;31m---------------------------------------------------------------------------\u001B[0m",
      "\u001B[0;31mParseError\u001B[0m                                Traceback (most recent call last)",
      "File \u001B[0;32m~/miniconda3/lib/python3.12/site-packages/Bio/motifs/meme.py:45\u001B[0m, in \u001B[0;36mread\u001B[0;34m(handle)\u001B[0m\n\u001B[1;32m     44\u001B[0m \u001B[38;5;28;01mtry\u001B[39;00m:\n\u001B[0;32m---> 45\u001B[0m     xml_tree \u001B[38;5;241m=\u001B[39m \u001B[43mET\u001B[49m\u001B[38;5;241;43m.\u001B[39;49m\u001B[43mparse\u001B[49m\u001B[43m(\u001B[49m\u001B[43mhandle\u001B[49m\u001B[43m)\u001B[49m\n\u001B[1;32m     46\u001B[0m \u001B[38;5;28;01mexcept\u001B[39;00m ET\u001B[38;5;241m.\u001B[39mParseError:\n",
      "File \u001B[0;32m~/miniconda3/lib/python3.12/xml/etree/ElementTree.py:1204\u001B[0m, in \u001B[0;36mparse\u001B[0;34m(source, parser)\u001B[0m\n\u001B[1;32m   1203\u001B[0m tree \u001B[38;5;241m=\u001B[39m ElementTree()\n\u001B[0;32m-> 1204\u001B[0m \u001B[43mtree\u001B[49m\u001B[38;5;241;43m.\u001B[39;49m\u001B[43mparse\u001B[49m\u001B[43m(\u001B[49m\u001B[43msource\u001B[49m\u001B[43m,\u001B[49m\u001B[43m \u001B[49m\u001B[43mparser\u001B[49m\u001B[43m)\u001B[49m\n\u001B[1;32m   1205\u001B[0m \u001B[38;5;28;01mreturn\u001B[39;00m tree\n",
      "File \u001B[0;32m~/miniconda3/lib/python3.12/xml/etree/ElementTree.py:569\u001B[0m, in \u001B[0;36mElementTree.parse\u001B[0;34m(self, source, parser)\u001B[0m\n\u001B[1;32m    564\u001B[0m \u001B[38;5;28;01mif\u001B[39;00m \u001B[38;5;28mhasattr\u001B[39m(parser, \u001B[38;5;124m'\u001B[39m\u001B[38;5;124m_parse_whole\u001B[39m\u001B[38;5;124m'\u001B[39m):\n\u001B[1;32m    565\u001B[0m     \u001B[38;5;66;03m# The default XMLParser, when it comes from an accelerator,\u001B[39;00m\n\u001B[1;32m    566\u001B[0m     \u001B[38;5;66;03m# can define an internal _parse_whole API for efficiency.\u001B[39;00m\n\u001B[1;32m    567\u001B[0m     \u001B[38;5;66;03m# It can be used to parse the whole source without feeding\u001B[39;00m\n\u001B[1;32m    568\u001B[0m     \u001B[38;5;66;03m# it with chunks.\u001B[39;00m\n\u001B[0;32m--> 569\u001B[0m     \u001B[38;5;28mself\u001B[39m\u001B[38;5;241m.\u001B[39m_root \u001B[38;5;241m=\u001B[39m \u001B[43mparser\u001B[49m\u001B[38;5;241;43m.\u001B[39;49m\u001B[43m_parse_whole\u001B[49m\u001B[43m(\u001B[49m\u001B[43msource\u001B[49m\u001B[43m)\u001B[49m\n\u001B[1;32m    570\u001B[0m     \u001B[38;5;28;01mreturn\u001B[39;00m \u001B[38;5;28mself\u001B[39m\u001B[38;5;241m.\u001B[39m_root\n",
      "\u001B[0;31mParseError\u001B[0m: syntax error: line 1, column 0",
      "\nDuring handling of the above exception, another exception occurred:\n",
      "\u001B[0;31mValueError\u001B[0m                                Traceback (most recent call last)",
      "Cell \u001B[0;32mIn[34], line 2\u001B[0m\n\u001B[1;32m      1\u001B[0m \u001B[38;5;28;01mfrom\u001B[39;00m \u001B[38;5;21;01mBio\u001B[39;00m\u001B[38;5;21;01m.\u001B[39;00m\u001B[38;5;21;01mmotifs\u001B[39;00m \u001B[38;5;28;01mimport\u001B[39;00m meme\n\u001B[0;32m----> 2\u001B[0m motif \u001B[38;5;241m=\u001B[39m \u001B[43mmeme\u001B[49m\u001B[38;5;241;43m.\u001B[39;49m\u001B[43mread\u001B[49m\u001B[43m(\u001B[49m\u001B[38;5;28;43mopen\u001B[39;49m\u001B[43m(\u001B[49m\u001B[38;5;124;43m\"\u001B[39;49m\u001B[38;5;124;43m/home/davide/Downloads/motivo16.meme\u001B[39;49m\u001B[38;5;124;43m\"\u001B[39;49m\u001B[43m)\u001B[49m\u001B[43m)\u001B[49m\n",
      "File \u001B[0;32m~/miniconda3/lib/python3.12/site-packages/Bio/motifs/meme.py:47\u001B[0m, in \u001B[0;36mread\u001B[0;34m(handle)\u001B[0m\n\u001B[1;32m     45\u001B[0m     xml_tree \u001B[38;5;241m=\u001B[39m ET\u001B[38;5;241m.\u001B[39mparse(handle)\n\u001B[1;32m     46\u001B[0m \u001B[38;5;28;01mexcept\u001B[39;00m ET\u001B[38;5;241m.\u001B[39mParseError:\n\u001B[0;32m---> 47\u001B[0m     \u001B[38;5;28;01mraise\u001B[39;00m \u001B[38;5;167;01mValueError\u001B[39;00m(\n\u001B[1;32m     48\u001B[0m         \u001B[38;5;124m\"\u001B[39m\u001B[38;5;124mImproper MEME XML input file. XML root tag should start with <MEME version= ...\u001B[39m\u001B[38;5;124m\"\u001B[39m\n\u001B[1;32m     49\u001B[0m     )\n\u001B[1;32m     50\u001B[0m __read_metadata(record, xml_tree)\n\u001B[1;32m     51\u001B[0m __read_alphabet(record, xml_tree)\n",
      "\u001B[0;31mValueError\u001B[0m: Improper MEME XML input file. XML root tag should start with <MEME version= ..."
     ]
    }
   ],
   "source": [
    "from Bio.motifs import meme\n",
    "motif = meme.read(open(\"/home/davide/Downloads/motivo16.meme\"))"
   ],
   "metadata": {
    "collapsed": false,
    "ExecuteTime": {
     "end_time": "2024-05-22T15:50:43.521941Z",
     "start_time": "2024-05-22T15:50:43.378081Z"
    }
   },
   "id": "c500b0fd98712df9",
   "execution_count": 34
  },
  {
   "cell_type": "code",
   "outputs": [],
   "source": [],
   "metadata": {
    "collapsed": false
   },
   "id": "6411d57483381217"
  }
 ],
 "metadata": {
  "kernelspec": {
   "display_name": "Python 3",
   "language": "python",
   "name": "python3"
  },
  "language_info": {
   "codemirror_mode": {
    "name": "ipython",
    "version": 2
   },
   "file_extension": ".py",
   "mimetype": "text/x-python",
   "name": "python",
   "nbconvert_exporter": "python",
   "pygments_lexer": "ipython2",
   "version": "2.7.6"
  }
 },
 "nbformat": 4,
 "nbformat_minor": 5
}
