{
 "cells": [
  {
   "cell_type": "code",
   "execution_count": 6,
   "id": "initial_id",
   "metadata": {
    "collapsed": true,
    "ExecuteTime": {
     "end_time": "2024-04-09T17:06:35.500853Z",
     "start_time": "2024-04-09T17:06:19.582935Z"
    }
   },
   "outputs": [],
   "source": [
    "sito=\"http://www.softberry.com/berry.phtml?topic=bprom&group=programs&subgroup=gfindb\"\n",
    "import time\n",
    "from selenium import webdriver\n",
    "from selenium.webdriver.common.keys import Keys\n",
    "from selenium.webdriver.common.by import By\n",
    "\n",
    "driver = webdriver.Chrome()\n",
    "driver.get(sito)\n",
    "time.sleep(5)\n",
    "text=\"\"\"CCTGAATTTATAGTGTAGCGCCTCTCGCCTCTTGCCTCTTTCCTACCTAAAAAAATAGGG\n",
    "ATCAGTCTGCCGACCAATCCCGTCTGCCGATCCTTAAAGAGAGGAGAACACTGAAAGCCA\n",
    "ATATAAACTTGATTGAGAATATCTGTCAATAGTTATCGAAAATTATTTTCAACTTTCCAA\n",
    "GTTTTCTAACAATCAGACCTGTTTGGAGCAACAACAATGACCAGAGATTAAAAATGTTCT\n",
    "ATTCCCTCGCCCCTCAAAAGAGTATGATGATTCAGACCAATGACCTCGCTATCATAGGAT\"\"\"\n",
    "driver.find_element(By.NAME, \"DATA\").send_keys(text)\n",
    "submit_button = driver.find_element(By.XPATH,'//input[@type=\"submit\"]')\n",
    "submit_button.click()\n",
    "#read the output and put as text in file\n",
    "time.sleep(5)\n",
    "output=driver.find_element(By.XPATH,'/html/body/pre').text\n",
    "page_source = driver.page_source\n",
    "\n",
    "# Write the page source to a file\n",
    "with open(\"output.txt\", \"w\") as f:\n",
    "    f.write(page_source)"
   ]
  },
  {
   "cell_type": "code",
   "outputs": [],
   "source": [],
   "metadata": {
    "collapsed": false
   },
   "id": "52406b2a4c556295"
  }
 ],
 "metadata": {
  "kernelspec": {
   "display_name": "Python 3",
   "language": "python",
   "name": "python3"
  },
  "language_info": {
   "codemirror_mode": {
    "name": "ipython",
    "version": 2
   },
   "file_extension": ".py",
   "mimetype": "text/x-python",
   "name": "python",
   "nbconvert_exporter": "python",
   "pygments_lexer": "ipython2",
   "version": "2.7.6"
  }
 },
 "nbformat": 4,
 "nbformat_minor": 5
}
