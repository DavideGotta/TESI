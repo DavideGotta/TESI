{
 "cells": [
  {
   "cell_type": "code",
   "execution_count": 3,
   "id": "initial_id",
   "metadata": {
    "collapsed": true,
    "ExecuteTime": {
     "end_time": "2024-06-05T15:37:34.736964Z",
     "start_time": "2024-06-05T15:37:34.729682Z"
    }
   },
   "outputs": [
    {
     "data": {
      "text/plain": "{'A': (0.9454545454545454,\n  0.18181818181818182,\n  0.01818181818181818,\n  0.4727272727272727,\n  0.07272727272727272,\n  0.41818181818181815,\n  0.2545454545454545,\n  0.18181818181818182,\n  0.34545454545454546,\n  0.36363636363636365,\n  0.43636363636363634,\n  0.43636363636363634,\n  0.03636363636363636,\n  0.05454545454545454),\n 'C': (0.01818181818181818,\n  0.0,\n  0.0,\n  0.03636363636363636,\n  0.36363636363636365,\n  0.18181818181818182,\n  0.0,\n  0.5454545454545454,\n  0.05454545454545454,\n  0.05454545454545454,\n  0.23636363636363636,\n  0.36363636363636365,\n  0.5818181818181818,\n  0.05454545454545454),\n 'G': (0.01818181818181818,\n  0.8181818181818182,\n  0.16363636363636364,\n  0.2,\n  0.21818181818181817,\n  0.16363636363636364,\n  0.18181818181818182,\n  0.0,\n  0.07272727272727272,\n  0.5636363636363636,\n  0.01818181818181818,\n  0.0,\n  0.0,\n  0.0),\n 'T': (0.01818181818181818,\n  0.0,\n  0.8181818181818182,\n  0.2909090909090909,\n  0.34545454545454546,\n  0.23636363636363636,\n  0.5636363636363636,\n  0.2727272727272727,\n  0.5272727272727272,\n  0.01818181818181818,\n  0.3090909090909091,\n  0.2,\n  0.38181818181818183,\n  0.8909090909090909)}"
     },
     "execution_count": 3,
     "metadata": {},
     "output_type": "execute_result"
    }
   ],
   "source": [
    "from Bio import motifs\n",
    "from Bio import SeqIO\n",
    "fasta_file = \"/home/davide/Downloads/motivi_per_profilo.fa\"\n",
    "#extract all the sequences from the fasta file and create a list\n",
    "istanze = [str(record.seq) for record in SeqIO.parse(fasta_file, \"fasta\")]\n",
    "motivo=motifs.create(istanze)"
   ]
  },
  {
   "cell_type": "code",
   "outputs": [],
   "source": [
    "intergeniche=\"intergeniche_RefSeq/ortologhi/Chroococcidiopsis_sp._CCMEE_29_GCF_023558375_intergen.fasta\"\n",
    "for record in SeqIO.parse(intergeniche, \"fasta\"):\n",
    "    if \"lexA\" in record.description:\n",
    "        lexa=str(record.seq)\n",
    "    if \"recA\" in record.description:\n",
    "        reca=str(record.seq)"
   ],
   "metadata": {
    "collapsed": false,
    "ExecuteTime": {
     "end_time": "2024-06-05T15:40:30.798444Z",
     "start_time": "2024-06-05T15:40:30.776122Z"
    }
   },
   "id": "8793f2d3e7ef0be",
   "execution_count": 5
  },
  {
   "cell_type": "code",
   "outputs": [],
   "source": [
    "import math\n",
    "def read_profile(profile_file):\n",
    "    profile = []\n",
    "    bases = ['A', 'C', 'G', 'T']\n",
    "    \n",
    "    with open(profile_file, 'r') as handle:\n",
    "        # Saltare la prima riga con il titolo \">PWM\"\n",
    "        next(handle)\n",
    "        \n",
    "        for base, line in zip(bases, handle):\n",
    "            frequencies = list(map(float, line.split()))\n",
    "            for i, freq in enumerate(frequencies):\n",
    "                if len(profile) <= i:\n",
    "                    profile.append({})\n",
    "                profile[i][base] = freq\n",
    "    \n",
    "    #print(f\"Profile PWM: {profile}\")\n",
    "    return profile\n",
    "\n",
    "def calculate_p_ih(profile, i, base):\n",
    "    p_ih = profile[i][base]\n",
    "    #print(f\"p({i}, {base}): {p_ih}\")\n",
    "    return p_ih\n",
    "def calculate_q_bases(inter_TU_file):\n",
    "    q_bases = {'A': 0, 'C': 0, 'G': 0, 'T': 0}\n",
    "    total_bases = 0\n",
    "    with open(inter_TU_file, 'r') as inter_TU_handle:\n",
    "        for record in SeqIO.parse(inter_TU_handle, 'fasta'):\n",
    "            sequence = record.seq.upper()\n",
    "            for base in sequence:\n",
    "                if base in q_bases:\n",
    "                    q_bases[base] += 1\n",
    "                    total_bases += 1\n",
    "    for base in q_bases:\n",
    "        q_bases[base] /= total_bases\n",
    "    #print(f\"Base frequencies: {q_bases}\")\n",
    "    return q_bases\n",
    "\n",
    "\n",
    "def normalization_factor(n, q_bases):\n",
    "    ln_n_plus_1 = math.log(n + 1)\n",
    "    ln_n_plus_4 = math.log(n + 4)\n",
    "    \n",
    "    sum_ln_q_b = sum(math.log(q_b) for q_b in q_bases.values())\n",
    "    min_ln_q_b = math.log(min(q_bases.values()))\n",
    "    \n",
    "    normalization_factor = ((n + 1) / (n + 4)) * ln_n_plus_1 - ln_n_plus_4 - (1 / (n + 4)) * sum_ln_q_b - (n / (n + 4)) * min_ln_q_b\n",
    "    \n",
    "    #print(f\"Normalization factor: {normalization_factor}\")\n",
    "    return normalization_factor\n",
    "def information_i_all_columns(profile, q_bases, a):\n",
    "    info_contents = []\n",
    "    normalization_factor = a\n",
    "    for column in profile:\n",
    "        info_content = 0\n",
    "        for base, frequency in column.items():\n",
    "            if frequency > 0:\n",
    "                info_content += frequency * math.log(frequency / q_bases[base])\n",
    "        info_content /= normalization_factor\n",
    "        info_contents.append(info_content)\n",
    "    #print(f\"Information contents for all columns: {info_contents}\")\n",
    "    return info_contents\n",
    "def SM_score_Antonio(sequence, profile, q_bases, a):\n",
    "    sequence_length = len(sequence)\n",
    "    if sequence_length < len(profile):\n",
    "        return float('-inf'), \"\"\n",
    "\n",
    "    info_contents = information_i_all_columns(profile, q_bases, a)\n",
    "\n",
    "    max_score = float('-inf')\n",
    "    best_substring = \"\"\n",
    "    \n",
    "    for i in range(sequence_length - len(profile) + 1):\n",
    "        substring = sequence[i:i + len(profile)]\n",
    "        score = 0\n",
    "        for j, base in enumerate(substring):\n",
    "            p_ih = calculate_p_ih(profile, j, base)\n",
    "            q_base = q_bases.get(base, 0)  # Utilizza get per gestire il caso in cui la base non sia presente\n",
    "            if p_ih == 0 or q_base == 0:\n",
    "                # Aggiungi un piccolo valore per evitare log(0)\n",
    "                epsilon = 1e-9\n",
    "                p_ih += epsilon\n",
    "                q_base += epsilon\n",
    "            I_i = info_contents[j]\n",
    "            score += I_i * math.log(p_ih / q_base)\n",
    "            #print(f\"p_ih: {p_ih}, q_base: {q_base}\")  # Stampa i valori per debug\n",
    "        if score > max_score:\n",
    "            max_score = score\n",
    "            best_substring = substring\n",
    "    #print(f\"SM score for single sequence {sequence}: {max_score}, Best substring: {best_substring}\")\n",
    "    return max_score, best_substring,info_contents"
   ],
   "metadata": {
    "collapsed": false,
    "ExecuteTime": {
     "end_time": "2024-06-05T16:04:26.376386Z",
     "start_time": "2024-06-05T16:04:26.369783Z"
    }
   },
   "id": "8503e87c61f18dbb",
   "execution_count": 32
  },
  {
   "cell_type": "code",
   "outputs": [
    {
     "name": "stdout",
     "output_type": "stream",
     "text": [
      "SM score Antonio per lexA: 4.103938476362669, Best substring: AGTACGAATGTTCT\n"
     ]
    }
   ],
   "source": [
    "pwm_file = \"/home/davide/Downloads/profile.fasta\"\n",
    "profile = read_profile(pwm_file)\n",
    "q_bases = calculate_q_bases(intergeniche)\n",
    "a = normalization_factor(n, q_bases)\n",
    "score, substring, entropyAnto = SM_score_Antonio(lexa, profile, q_bases, a)\n",
    "print(f\"SM score Antonio per lexA: {score}, Best substring: {substring}\")"
   ],
   "metadata": {
    "collapsed": false,
    "ExecuteTime": {
     "end_time": "2024-06-05T16:04:41.484810Z",
     "start_time": "2024-06-05T16:04:41.363539Z"
    }
   },
   "id": "143c3e3d2ecdcffb",
   "execution_count": 33
  },
  {
   "cell_type": "code",
   "outputs": [
    {
     "name": "stdout",
     "output_type": "stream",
     "text": [
      "SM score Davide per lexA: 4.104102571906228, Best substring: AGTACGAATGTTCT, Posizione: -47\n"
     ]
    }
   ],
   "source": [
    "import Bio\n",
    "from math import log\n",
    "motivo.background=q_bases\n",
    "motivo.pseudocounts=1e-9\n",
    "def relative_entropy(motivo: Bio.motifs) -> list[float]:\n",
    "    \"\"\"\n",
    "    Calcola l'entropia relativa per ogni posizione del motivo\n",
    "    :param motivo:  il motivo in formato Bio.motifs\n",
    "    :return:    la lista delle entropie relative per ogni posizione del motivo\n",
    "    \"\"\"\n",
    "    q = motivo.background  # frequenze delle basi in tutte le sequenze intergeniche\n",
    "    pwm = motivo.pwm  # matrice di probabilità delle basi per ogni posizione del motivo\n",
    "    n = len(motivo.instances) # numero di sequenze con cui è stato costruito il motivo\n",
    "    a = (n + 1) / (n + 4) * log(n + 1) - log(n + 4) - 1 / (n + 4) * sum(log(q[b]) for b in \"ACGT\") - n / (\n",
    "            n + 4) * log(min(q.values()))\n",
    "    entropy = []\n",
    "    for i in range(motivo.length):\n",
    "        entropy.append(sum(pwm[b, i] * log(pwm[b, i] / q[b]) for b in \"ACGT\") / a)\n",
    "    return entropy,a\n",
    "\n",
    "\n",
    "def sm(motivo: Bio.motifs, seq: str, rel_entropy: list, pwm) -> tuple:\n",
    "    \"\"\"\n",
    "    Calcola lo score SM di una sequenza rispetto ad un motivo :param motivo:  il motivo in formato Bio.motifs :param\n",
    "    seq:     la sequenza su cui calcolare lo score :return:    lo score migliore nella sequenza intergenica rispetto\n",
    "    al motivo, la sottosequenza a cui corrisponde e la usa poszione rispetto a inizio trascrizione\n",
    "    \"\"\"\n",
    "    q = motivo.background  # frequenze delle basi in tutte le sequenze intergeniche\n",
    "    max = -float(\"inf\")\n",
    "    max_i = 0\n",
    "    for i in range(len(seq) - motivo.length + 1):\n",
    "        h = seq[i:i + motivo.length]  # sottosequenza di lunghezza del motivo(l-mero della sequenza intergenica)\n",
    "        score = sum(rel_entropy[i] * log(pwm[h[i], i] / q[h[i]]) for i in range(len(h)))  # score della sottosequenza\n",
    "        if score > max:\n",
    "            max = score\n",
    "            max_i = i\n",
    "    return max, seq[max_i:max_i + motivo.length], max_i - len(seq)\n",
    "entropy,normDavide=relative_entropy(motivo)\n",
    "pwm=motivo.pwm\n",
    "score, substring, pos = sm(motivo, lexa, entropy, pwm)\n",
    "print(f\"SM score Davide per lexA: {score}, Best substring: {substring}, Posizione: {pos}\")"
   ],
   "metadata": {
    "collapsed": false,
    "ExecuteTime": {
     "end_time": "2024-06-05T16:19:15.318016Z",
     "start_time": "2024-06-05T16:19:15.310370Z"
    }
   },
   "id": "ae0b78f46ff5bca2",
   "execution_count": 45
  },
  {
   "cell_type": "code",
   "outputs": [
    {
     "data": {
      "text/plain": "[0.7334545025023469,\n 0.7867277364393388,\n 0.583125167673809,\n 0.11620315376881432,\n 0.13396677651334132,\n 0.026133644248409554,\n 0.24016523156243205,\n 0.3252702116718817,\n 0.16982951102066912,\n 0.39120604500341133,\n 0.13612429037340432,\n 0.23054632405544337,\n 0.4840198927302151,\n 0.642311522071406]"
     },
     "execution_count": 46,
     "metadata": {},
     "output_type": "execute_result"
    }
   ],
   "source": [
    "entropy"
   ],
   "metadata": {
    "collapsed": false,
    "ExecuteTime": {
     "end_time": "2024-06-05T16:19:15.765345Z",
     "start_time": "2024-06-05T16:19:15.762640Z"
    }
   },
   "id": "3621294337c25ba2",
   "execution_count": 46
  },
  {
   "cell_type": "code",
   "outputs": [
    {
     "data": {
      "text/plain": "[0.7334651892900362,\n 0.7867535051210478,\n 0.5831076618197489,\n 0.11614501530222203,\n 0.1339872412551263,\n 0.026141485470669183,\n 0.24007729904352462,\n 0.3253118865055721,\n 0.1699158013862432,\n 0.39110414025003587,\n 0.13618183312074197,\n 0.23054141285195787,\n 0.4839433035928533,\n 0.6423323484983088]"
     },
     "execution_count": 47,
     "metadata": {},
     "output_type": "execute_result"
    }
   ],
   "source": [
    "entropyAnto"
   ],
   "metadata": {
    "collapsed": false,
    "ExecuteTime": {
     "end_time": "2024-06-05T16:19:16.685366Z",
     "start_time": "2024-06-05T16:19:16.682962Z"
    }
   },
   "id": "b56974086471699e",
   "execution_count": 47
  },
  {
   "cell_type": "code",
   "outputs": [],
   "source": [],
   "metadata": {
    "collapsed": false
   },
   "id": "211ca4f1cad815c"
  }
 ],
 "metadata": {
  "kernelspec": {
   "display_name": "Python 3",
   "language": "python",
   "name": "python3"
  },
  "language_info": {
   "codemirror_mode": {
    "name": "ipython",
    "version": 2
   },
   "file_extension": ".py",
   "mimetype": "text/x-python",
   "name": "python",
   "nbconvert_exporter": "python",
   "pygments_lexer": "ipython2",
   "version": "2.7.6"
  }
 },
 "nbformat": 4,
 "nbformat_minor": 5
}
