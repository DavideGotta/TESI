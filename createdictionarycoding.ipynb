{
 "cells": [
  {
   "cell_type": "code",
   "execution_count": 12,
   "id": "initial_id",
   "metadata": {
    "collapsed": true,
    "ExecuteTime": {
     "end_time": "2024-09-10T15:10:07.723888Z",
     "start_time": "2024-09-10T15:10:07.634721Z"
    }
   },
   "outputs": [
    {
     "data": {
      "text/plain": "                  ID      FACHB-1243          CCNUC1        CCMEE_29  \\\n0     WP_009632395.1  WP_039717719.1  WP_039717719.1  WP_009632395.1   \n1     WP_041548398.1  WP_006196724.1  WP_006196724.1  WP_041548398.1   \n2     WP_073591590.1  WP_015153091.1  WP_015153091.1  WP_073591590.1   \n3     WP_190736661.1  WP_199317029.1             NaN  WP_190736661.1   \n4     WP_250121152.1             NaN             NaN  WP_250121152.1   \n...              ...             ...             ...             ...   \n5780  WP_275983394.1  WP_015154006.1  WP_015154006.1  WP_275983394.1   \n5781  WP_275983395.1             NaN             NaN  WP_275983395.1   \n5782  WP_275983396.1  WP_192156346.1  WP_250017462.1  WP_275983396.1   \n5783  WP_275983397.1             NaN             NaN  WP_275983397.1   \n5784  WP_275983398.1             NaN             NaN  WP_275983398.1   \n\n            PCC_7203       SAG_39.79       CCALA_051          TS-821  \\\n0     WP_039717719.1  WP_039717719.1  WP_039717719.1  WP_104545246.1   \n1     WP_006196724.1  WP_006196724.1  WP_006196724.1  WP_006276978.1   \n2     WP_015153091.1  WP_015153091.1  WP_015153091.1  WP_104546135.1   \n3                NaN  WP_106168925.1  WP_106218980.1             NaN   \n4                NaN             NaN             NaN             NaN   \n...              ...             ...             ...             ...   \n5780  WP_015154006.1  WP_015154006.1  WP_015154006.1  WP_104546721.1   \n5781             NaN             NaN             NaN             NaN   \n5782  WP_015163153.1  WP_199755664.1  WP_106545471.1  WP_104545432.1   \n5783             NaN             NaN             NaN             NaN   \n5784             NaN             NaN             NaN  WP_210404159.1   \n\n           CCALA_043        SAG_2025  \n0     WP_039717719.1  WP_039717719.1  \n1     WP_006196724.1  WP_006196724.1  \n2     WP_015153091.1  WP_015153091.1  \n3     WP_106168925.1  WP_317112279.1  \n4                NaN             NaN  \n...              ...             ...  \n5780  WP_015154006.1  WP_015154006.1  \n5781             NaN             NaN  \n5782  WP_199755664.1  WP_039719372.1  \n5783             NaN             NaN  \n5784             NaN             NaN  \n\n[5785 rows x 10 columns]",
      "text/html": "<div>\n<style scoped>\n    .dataframe tbody tr th:only-of-type {\n        vertical-align: middle;\n    }\n\n    .dataframe tbody tr th {\n        vertical-align: top;\n    }\n\n    .dataframe thead th {\n        text-align: right;\n    }\n</style>\n<table border=\"1\" class=\"dataframe\">\n  <thead>\n    <tr style=\"text-align: right;\">\n      <th></th>\n      <th>ID</th>\n      <th>FACHB-1243</th>\n      <th>CCNUC1</th>\n      <th>CCMEE_29</th>\n      <th>PCC_7203</th>\n      <th>SAG_39.79</th>\n      <th>CCALA_051</th>\n      <th>TS-821</th>\n      <th>CCALA_043</th>\n      <th>SAG_2025</th>\n    </tr>\n  </thead>\n  <tbody>\n    <tr>\n      <th>0</th>\n      <td>WP_009632395.1</td>\n      <td>WP_039717719.1</td>\n      <td>WP_039717719.1</td>\n      <td>WP_009632395.1</td>\n      <td>WP_039717719.1</td>\n      <td>WP_039717719.1</td>\n      <td>WP_039717719.1</td>\n      <td>WP_104545246.1</td>\n      <td>WP_039717719.1</td>\n      <td>WP_039717719.1</td>\n    </tr>\n    <tr>\n      <th>1</th>\n      <td>WP_041548398.1</td>\n      <td>WP_006196724.1</td>\n      <td>WP_006196724.1</td>\n      <td>WP_041548398.1</td>\n      <td>WP_006196724.1</td>\n      <td>WP_006196724.1</td>\n      <td>WP_006196724.1</td>\n      <td>WP_006276978.1</td>\n      <td>WP_006196724.1</td>\n      <td>WP_006196724.1</td>\n    </tr>\n    <tr>\n      <th>2</th>\n      <td>WP_073591590.1</td>\n      <td>WP_015153091.1</td>\n      <td>WP_015153091.1</td>\n      <td>WP_073591590.1</td>\n      <td>WP_015153091.1</td>\n      <td>WP_015153091.1</td>\n      <td>WP_015153091.1</td>\n      <td>WP_104546135.1</td>\n      <td>WP_015153091.1</td>\n      <td>WP_015153091.1</td>\n    </tr>\n    <tr>\n      <th>3</th>\n      <td>WP_190736661.1</td>\n      <td>WP_199317029.1</td>\n      <td>NaN</td>\n      <td>WP_190736661.1</td>\n      <td>NaN</td>\n      <td>WP_106168925.1</td>\n      <td>WP_106218980.1</td>\n      <td>NaN</td>\n      <td>WP_106168925.1</td>\n      <td>WP_317112279.1</td>\n    </tr>\n    <tr>\n      <th>4</th>\n      <td>WP_250121152.1</td>\n      <td>NaN</td>\n      <td>NaN</td>\n      <td>WP_250121152.1</td>\n      <td>NaN</td>\n      <td>NaN</td>\n      <td>NaN</td>\n      <td>NaN</td>\n      <td>NaN</td>\n      <td>NaN</td>\n    </tr>\n    <tr>\n      <th>...</th>\n      <td>...</td>\n      <td>...</td>\n      <td>...</td>\n      <td>...</td>\n      <td>...</td>\n      <td>...</td>\n      <td>...</td>\n      <td>...</td>\n      <td>...</td>\n      <td>...</td>\n    </tr>\n    <tr>\n      <th>5780</th>\n      <td>WP_275983394.1</td>\n      <td>WP_015154006.1</td>\n      <td>WP_015154006.1</td>\n      <td>WP_275983394.1</td>\n      <td>WP_015154006.1</td>\n      <td>WP_015154006.1</td>\n      <td>WP_015154006.1</td>\n      <td>WP_104546721.1</td>\n      <td>WP_015154006.1</td>\n      <td>WP_015154006.1</td>\n    </tr>\n    <tr>\n      <th>5781</th>\n      <td>WP_275983395.1</td>\n      <td>NaN</td>\n      <td>NaN</td>\n      <td>WP_275983395.1</td>\n      <td>NaN</td>\n      <td>NaN</td>\n      <td>NaN</td>\n      <td>NaN</td>\n      <td>NaN</td>\n      <td>NaN</td>\n    </tr>\n    <tr>\n      <th>5782</th>\n      <td>WP_275983396.1</td>\n      <td>WP_192156346.1</td>\n      <td>WP_250017462.1</td>\n      <td>WP_275983396.1</td>\n      <td>WP_015163153.1</td>\n      <td>WP_199755664.1</td>\n      <td>WP_106545471.1</td>\n      <td>WP_104545432.1</td>\n      <td>WP_199755664.1</td>\n      <td>WP_039719372.1</td>\n    </tr>\n    <tr>\n      <th>5783</th>\n      <td>WP_275983397.1</td>\n      <td>NaN</td>\n      <td>NaN</td>\n      <td>WP_275983397.1</td>\n      <td>NaN</td>\n      <td>NaN</td>\n      <td>NaN</td>\n      <td>NaN</td>\n      <td>NaN</td>\n      <td>NaN</td>\n    </tr>\n    <tr>\n      <th>5784</th>\n      <td>WP_275983398.1</td>\n      <td>NaN</td>\n      <td>NaN</td>\n      <td>WP_275983398.1</td>\n      <td>NaN</td>\n      <td>NaN</td>\n      <td>NaN</td>\n      <td>WP_210404159.1</td>\n      <td>NaN</td>\n      <td>NaN</td>\n    </tr>\n  </tbody>\n</table>\n<p>5785 rows × 10 columns</p>\n</div>"
     },
     "execution_count": 12,
     "metadata": {},
     "output_type": "execute_result"
    }
   ],
   "source": [
    "from pathlib import Path\n",
    "dir=Path(\"/home/davide/Desktop/genomiChro/proteine_RefSeq/ortologhiCCMEE29\")\n",
    "dir_annotati=Path(\"/home/davide/Desktop/genomiChro/annotati_Refseq\")\n",
    "#extract the name of the files without the extension from dir_annotati\n",
    "files=[file.stem for file in dir_annotati.iterdir() if file.is_file() and file.suffix==\".gbff\"]\n",
    "#iterate over all files in the directory and make a read_csv with \"\\t\" separator and make merge with the previous one on the first column\n",
    "import pandas as pd\n",
    "import numpy as np\n",
    "import os\n",
    "\n",
    "dfs=[]\n",
    "for file in dir.iterdir():\n",
    "    if file.is_file():\n",
    "        df=pd.read_csv(file, sep=\"\\t\", header=None)\n",
    "        #pick only the first two columns\n",
    "        df=df.iloc[:,0:2]\n",
    "        #rename columns\n",
    "        #get the name of the file without the extension but extracting before _GCF and after sp._\n",
    "        name=[name for name in files if name in file.stem][0]\n",
    "\n",
    "        df.columns=[\"ID\", name]\n",
    "        #find duplicated in ID column and keep only the first one\n",
    "        df=df[~df.duplicated(subset=\"ID\", keep=\"first\")]\n",
    "        dfs.append(df)\n",
    "#merge all the dataframes on ID\n",
    "df_final=dfs[0]\n",
    "for df in dfs[1:]:\n",
    "    df_final=pd.merge(df_final, df, on=\"ID\", how=\"outer\")\n",
    "#save the final dataframe\n",
    "df_final\n"
   ]
  },
  {
   "cell_type": "code",
   "outputs": [],
   "source": [
    "#now for file in dir_annotati use seqio to extract the coding sequence of all pids in the final dataframe of column with the name of the file\n",
    "from Bio import SeqIO\n",
    "diz={}\n",
    "for file in dir_annotati.iterdir():\n",
    "    if file.is_file():\n",
    "        if file.stem==\"CCMEE_29\":\n",
    "            continue\n",
    "        for record in SeqIO.parse(file, \"genbank\"):\n",
    "            for feature in record.features:\n",
    "                if feature.type==\"CDS\" and feature.qualifiers.get(\"protein_id\",[\"\"])[0] in df_final[file.stem].values:\n",
    "                    ID=df_final[df_final[file.stem]==feature.qualifiers[\"protein_id\"][0]][\"ID\"].values[0]\n",
    "                    #diz[ID]=feature.location.extract(record).seq if ID not in diz else append to list\n",
    "                    if ID not in diz:\n",
    "                        diz[ID]=[str(feature.location.extract(record).seq)]\n",
    "                    else:\n",
    "                        diz[ID].append(str(feature.location.extract(record).seq))\n"
   ],
   "metadata": {
    "collapsed": false,
    "ExecuteTime": {
     "end_time": "2024-09-10T15:27:28.025053Z",
     "start_time": "2024-09-10T15:26:55.416536Z"
    }
   },
   "id": "cb13303b7dfb4e7b",
   "execution_count": 21
  },
  {
   "cell_type": "code",
   "outputs": [
    {
     "name": "stdout",
     "output_type": "stream",
     "text": [
      "4256\n"
     ]
    }
   ],
   "source": [
    "print(len(diz))"
   ],
   "metadata": {
    "collapsed": false,
    "ExecuteTime": {
     "end_time": "2024-09-10T15:28:02.024102Z",
     "start_time": "2024-09-10T15:28:02.022059Z"
    }
   },
   "id": "313849061b5ddd5a",
   "execution_count": 23
  },
  {
   "cell_type": "code",
   "outputs": [
    {
     "name": "stdout",
     "output_type": "stream",
     "text": [
      "Counter({8: 2352, 7: 688, 1: 456, 2: 182, 6: 165, 3: 145, 4: 139, 5: 114, 9: 8, 15: 2, 17: 2, 10: 1, 19: 1, 11: 1})\n"
     ]
    }
   ],
   "source": [
    "from collections import Counter\n",
    "counts=Counter([len(value) for value in diz.values()])\n",
    "#plot the distribution of counts\n",
    "print(counts)\n"
   ],
   "metadata": {
    "collapsed": false,
    "ExecuteTime": {
     "end_time": "2024-09-10T15:31:49.403325Z",
     "start_time": "2024-09-10T15:31:49.398895Z"
    }
   },
   "id": "7bef8c7b9ad7050a",
   "execution_count": 26
  },
  {
   "cell_type": "code",
   "outputs": [],
   "source": [
    "#export the dictionary to a file\n",
    "import pickle\n",
    "with open(\"dizcdsortologhi.pkl\", \"wb\") as f:\n",
    "    pickle.dump(diz, f)"
   ],
   "metadata": {
    "collapsed": false,
    "ExecuteTime": {
     "end_time": "2024-09-10T15:58:05.090887Z",
     "start_time": "2024-09-10T15:58:05.071917Z"
    }
   },
   "id": "a413593f080fcce",
   "execution_count": 27
  },
  {
   "cell_type": "code",
   "outputs": [
    {
     "data": {
      "text/plain": "4256"
     },
     "execution_count": 2,
     "metadata": {},
     "output_type": "execute_result"
    }
   ],
   "source": [
    "#read scorescoding.pkl\n",
    "import pickle\n",
    "with open(\"scorescoding.pkl\", \"rb\") as f:\n",
    "    scores=pickle.load(f)\n",
    "len(scores)"
   ],
   "metadata": {
    "collapsed": false,
    "ExecuteTime": {
     "end_time": "2024-09-28T15:07:37.803751Z",
     "start_time": "2024-09-28T15:07:37.775997Z"
    }
   },
   "id": "db33e9f6753338f3",
   "execution_count": 2
  },
  {
   "cell_type": "code",
   "outputs": [],
   "source": [
    "len(scores)"
   ],
   "metadata": {
    "collapsed": false
   },
   "id": "c32cd69c0687c907"
  }
 ],
 "metadata": {
  "kernelspec": {
   "display_name": "Python 3",
   "language": "python",
   "name": "python3"
  },
  "language_info": {
   "codemirror_mode": {
    "name": "ipython",
    "version": 2
   },
   "file_extension": ".py",
   "mimetype": "text/x-python",
   "name": "python",
   "nbconvert_exporter": "python",
   "pygments_lexer": "ipython2",
   "version": "2.7.6"
  }
 },
 "nbformat": 4,
 "nbformat_minor": 5
}
