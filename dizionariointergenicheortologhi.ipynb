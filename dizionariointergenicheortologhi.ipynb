{
 "cells": [
  {
   "cell_type": "code",
   "execution_count": 39,
   "id": "initial_id",
   "metadata": {
    "collapsed": true,
    "ExecuteTime": {
     "end_time": "2024-05-28T09:53:31.388300Z",
     "start_time": "2024-05-28T09:53:31.364359Z"
    }
   },
   "outputs": [],
   "source": [
    "from Bio import SeqIO\n",
    "file=\"/home/davide/Desktop/genomiChro/intergeniche_RefSeq/ortologhi/Chroococcidiopsis_sp._CCMEE_29_GCF_023558375_intergen.fasta\"\n",
    "seqs = SeqIO.parse(file, \"fasta\")\n",
    "pidsCCMEE29 = []\n",
    "for record in seqs:\n",
    "    start = record.description.find(\"WP_\")\n",
    "    end = record.description.find(\"'\", start)\n",
    "    pid = record.description[start:end]\n",
    "    pidsCCMEE29.append(pid)"
   ]
  },
  {
   "cell_type": "code",
   "outputs": [],
   "source": [
    "proteine = \"/home/davide/Desktop/genomiChro/proteine_RefSeq/Chroococcidiopsis_sp._CCMEE_29_GCF_023558375.1.faa\"\n",
    "seqs = SeqIO.parse(proteine, \"fasta\")\n",
    "pids_proteine = []\n",
    "for record in seqs:\n",
    "    pids_proteine.append(record.id)"
   ],
   "metadata": {
    "collapsed": false,
    "ExecuteTime": {
     "end_time": "2024-05-28T09:28:56.419058Z",
     "start_time": "2024-05-28T09:28:56.394541Z"
    }
   },
   "id": "cd88bc07165e2b4f",
   "execution_count": 5
  },
  {
   "cell_type": "code",
   "outputs": [
    {
     "name": "stdout",
     "output_type": "stream",
     "text": [
      "5785\n"
     ]
    }
   ],
   "source": [
    "print(len(pids_proteine))"
   ],
   "metadata": {
    "collapsed": false,
    "ExecuteTime": {
     "end_time": "2024-05-28T09:29:04.016471Z",
     "start_time": "2024-05-28T09:29:04.014132Z"
    }
   },
   "id": "ed75dc105cd92c35",
   "execution_count": 6
  },
  {
   "cell_type": "code",
   "outputs": [
    {
     "name": "stdout",
     "output_type": "stream",
     "text": [
      "5339\n"
     ]
    }
   ],
   "source": [
    "print(len(pids))"
   ],
   "metadata": {
    "collapsed": false,
    "ExecuteTime": {
     "end_time": "2024-05-28T09:29:08.282290Z",
     "start_time": "2024-05-28T09:29:08.280189Z"
    }
   },
   "id": "b6715fd9545a6999",
   "execution_count": 7
  },
  {
   "cell_type": "code",
   "outputs": [
    {
     "name": "stdout",
     "output_type": "stream",
     "text": [
      "['WP_250121163.1', 'WP_250121169.1', 'WP_250121174.1', 'WP_250121182.1', 'WP_250121201.1', 'WP_250121210.1', 'WP_250121223.1', 'WP_250121232.1', 'WP_250121245.1', 'WP_250121251.1', 'WP_250121298.1', 'WP_250121301.1', 'WP_250121302.1', 'WP_250121304.1', 'WP_250121305.1', 'WP_250121322.1', 'WP_250121328.1', 'WP_250121332.1', 'WP_250121344.1', 'WP_250121350.1', 'WP_250121373.1', 'WP_250121412.1', 'WP_250121431.1', 'WP_250121434.1', 'WP_250121450.1', 'WP_250121466.1', 'WP_250121471.1', 'WP_250121475.1', 'WP_250121483.1', 'WP_250121491.1', 'WP_250121507.1', 'WP_250121508.1', 'WP_250121509.1', 'WP_250121511.1', 'WP_250121513.1', 'WP_250121524.1', 'WP_250121543.1', 'WP_250121553.1', 'WP_250121580.1', 'WP_250121584.1', 'WP_250121585.1', 'WP_250121587.1', 'WP_250121591.1', 'WP_250121611.1', 'WP_250121614.1', 'WP_250121618.1', 'WP_250121622.1', 'WP_250121631.1', 'WP_250121645.1', 'WP_250121660.1', 'WP_250121682.1', 'WP_250121683.1', 'WP_250121721.1', 'WP_250121745.1', 'WP_250121747.1', 'WP_250121753.1', 'WP_250121754.1', 'WP_250121765.1', 'WP_250121776.1', 'WP_250121800.1', 'WP_250121805.1', 'WP_250121810.1', 'WP_250121818.1', 'WP_250121832.1', 'WP_250121833.1', 'WP_250121834.1', 'WP_250121835.1', 'WP_250121836.1', 'WP_250121837.1', 'WP_250121838.1', 'WP_250121862.1', 'WP_250121872.1', 'WP_250121875.1', 'WP_250121901.1', 'WP_250121920.1', 'WP_250121967.1', 'WP_250121973.1', 'WP_250121975.1', 'WP_250121986.1', 'WP_250122001.1', 'WP_250122013.1', 'WP_250122018.1', 'WP_250122019.1', 'WP_250122022.1', 'WP_250122026.1', 'WP_250122028.1', 'WP_250122048.1', 'WP_250122051.1', 'WP_250122052.1', 'WP_250122085.1', 'WP_250122092.1', 'WP_250122099.1', 'WP_250122106.1', 'WP_250122109.1', 'WP_250122117.1', 'WP_250122129.1', 'WP_250122134.1', 'WP_250122140.1', 'WP_250122169.1', 'WP_250122179.1', 'WP_250122186.1', 'WP_250122199.1', 'WP_250122221.1', 'WP_250122222.1', 'WP_250122237.1', 'WP_250122255.1', 'WP_250122283.1', 'WP_250122289.1', 'WP_250122319.1', 'WP_250122351.1', 'WP_250122359.1', 'WP_250122363.1', 'WP_250122372.1', 'WP_250122375.1', 'WP_250122394.1', 'WP_250122415.1', 'WP_250122439.1', 'WP_250122440.1', 'WP_250122443.1', 'WP_250122460.1', 'WP_250122465.1', 'WP_250122467.1', 'WP_250122468.1', 'WP_250122470.1', 'WP_250122473.1', 'WP_250122487.1', 'WP_250122529.1', 'WP_250122537.1', 'WP_250122557.1', 'WP_250122562.1', 'WP_250122570.1', 'WP_250122590.1', 'WP_250122633.1', 'WP_250122645.1', 'WP_250122646.1', 'WP_250122647.1', 'WP_250122657.1', 'WP_250122659.1', 'WP_250122683.1', 'WP_250122689.1', 'WP_250122709.1', 'WP_250122742.1', 'WP_250122763.1', 'WP_250122765.1', 'WP_250122771.1', 'WP_250122777.1', 'WP_250122785.1', 'WP_250122802.1', 'WP_250122805.1', 'WP_250122806.1', 'WP_250122808.1', 'WP_250122809.1', 'WP_250122816.1', 'WP_250122820.1', 'WP_250122822.1', 'WP_250122823.1', 'WP_250122825.1', 'WP_250122832.1', 'WP_250122835.1', 'WP_250122859.1', 'WP_250122882.1', 'WP_250122883.1', 'WP_250122884.1', 'WP_250122893.1', 'WP_250122896.1', 'WP_250122917.1', 'WP_250122978.1', 'WP_250122992.1', 'WP_250122994.1', 'WP_250123002.1', 'WP_250123004.1', 'WP_250123005.1', 'WP_250123010.1', 'WP_250123013.1', 'WP_250123017.1', 'WP_250123018.1', 'WP_250123019.1', 'WP_250123043.1', 'WP_250123053.1', 'WP_250123077.1', 'WP_250123083.1', 'WP_250123098.1', 'WP_250123110.1', 'WP_250123115.1', 'WP_250123117.1', 'WP_250123123.1', 'WP_250123125.1', 'WP_250123136.1', 'WP_250123138.1', 'WP_250123144.1', 'WP_250123151.1', 'WP_250123152.1', 'WP_250123159.1', 'WP_250123160.1', 'WP_250123161.1', 'WP_250123166.1', 'WP_250123167.1', 'WP_250123202.1', 'WP_250123214.1', 'WP_250123223.1', 'WP_250123225.1', 'WP_250123227.1', 'WP_250123246.1', 'WP_250123279.1', 'WP_250123291.1', 'WP_250123294.1', 'WP_250123307.1', 'WP_250123332.1', 'WP_250123337.1', 'WP_250123371.1', 'WP_250123407.1', 'WP_250123414.1', 'WP_250123421.1', 'WP_250123422.1', 'WP_250123432.1', 'WP_250123434.1', 'WP_250123465.1', 'WP_250123472.1', 'WP_250123475.1', 'WP_250123476.1', 'WP_250123479.1', 'WP_250123491.1', 'WP_250123497.1', 'WP_250123503.1', 'WP_250123507.1', 'WP_250123515.1', 'WP_250123518.1', 'WP_250123519.1', 'WP_250123527.1', 'WP_250123571.1', 'WP_250123603.1', 'WP_250123623.1', 'WP_250123624.1', 'WP_250123625.1', 'WP_250123626.1', 'WP_250123627.1', 'WP_250123628.1', 'WP_250123629.1', 'WP_250123638.1', 'WP_250123647.1', 'WP_250123662.1', 'WP_250123664.1', 'WP_250123716.1', 'WP_250123737.1', 'WP_250123741.1', 'WP_250123751.1', 'WP_250123753.1', 'WP_250123756.1', 'WP_250123783.1', 'WP_250123788.1', 'WP_250123789.1', 'WP_250123790.1', 'WP_250123795.1', 'WP_250123796.1', 'WP_250123800.1', 'WP_250123801.1', 'WP_250123813.1', 'WP_250123817.1', 'WP_250123828.1', 'WP_250123830.1', 'WP_250123847.1', 'WP_250123852.1', 'WP_250123864.1', 'WP_250123877.1', 'WP_250123884.1', 'WP_250123896.1', 'WP_250123905.1', 'WP_250123907.1', 'WP_250123912.1', 'WP_250123920.1', 'WP_250123952.1', 'WP_250123953.1', 'WP_250123959.1', 'WP_250123960.1', 'WP_250123961.1', 'WP_250123962.1', 'WP_250123965.1', 'WP_250123966.1', 'WP_250123976.1', 'WP_250123979.1', 'WP_250123981.1', 'WP_250123985.1', 'WP_250123989.1', 'WP_250124015.1', 'WP_250124019.1', 'WP_250124023.1', 'WP_250124043.1', 'WP_250124049.1', 'WP_250124076.1', 'WP_250124080.1', 'WP_250124095.1', 'WP_250124099.1', 'WP_250124133.1', 'WP_250124147.1', 'WP_250124149.1', 'WP_250124161.1', 'WP_250124163.1', 'WP_250124169.1', 'WP_250124172.1', 'WP_250124192.1', 'WP_250124197.1', 'WP_250124201.1', 'WP_250124206.1', 'WP_250124207.1', 'WP_250124211.1', 'WP_250124219.1', 'WP_250124220.1', 'WP_250124223.1', 'WP_250124228.1', 'WP_250124230.1', 'WP_250124239.1', 'WP_250124261.1', 'WP_250124268.1', 'WP_250124272.1', 'WP_250124273.1', 'WP_250124280.1', 'WP_250124287.1', 'WP_250124294.1', 'WP_250124295.1', 'WP_250124302.1', 'WP_250124305.1', 'WP_250124317.1', 'WP_250124323.1', 'WP_250124361.1', 'WP_250124364.1', 'WP_250124366.1', 'WP_250124387.1', 'WP_250124408.1', 'WP_250124424.1', 'WP_250124461.1', 'WP_250124465.1', 'WP_250124484.1', 'WP_250124486.1', 'WP_250124487.1', 'WP_250124490.1', 'WP_250124498.1', 'WP_250124517.1', 'WP_250124556.1', 'WP_250124560.1', 'WP_250124561.1', 'WP_250124562.1', 'WP_250124576.1', 'WP_250124578.1', 'WP_250124584.1', 'WP_250124589.1', 'WP_250124674.1', 'WP_250124677.1', 'WP_250124695.1', 'WP_250124732.1', 'WP_250124736.1', 'WP_250124745.1', 'WP_250124762.1', 'WP_250124771.1', 'WP_250124785.1', 'WP_250124786.1', 'WP_250124805.1', 'WP_250124813.1', 'WP_250124825.1', 'WP_250124832.1', 'WP_250124833.1', 'WP_250124834.1', 'WP_250124837.1', 'WP_250124848.1', 'WP_250124849.1', 'WP_250124851.1', 'WP_250124873.1', 'WP_250124875.1', 'WP_250124879.1', 'WP_250124880.1', 'WP_250124882.1', 'WP_250124883.1', 'WP_250124891.1', 'WP_250124894.1', 'WP_250124919.1', 'WP_250124922.1', 'WP_250124928.1', 'WP_250124930.1', 'WP_250124939.1', 'WP_250124941.1', 'WP_250124943.1', 'WP_250124945.1', 'WP_250124946.1', 'WP_250124947.1', 'WP_250124948.1', 'WP_250124950.1', 'WP_250124952.1', 'WP_250124958.1', 'WP_250124965.1', 'WP_250124969.1', 'WP_250124971.1', 'WP_250124973.1', 'WP_250124980.1', 'WP_250124992.1', 'WP_250124993.1', 'WP_250125001.1', 'WP_250125004.1', 'WP_250125019.1', 'WP_250125023.1', 'WP_250125024.1', 'WP_250125044.1', 'WP_250125050.1', 'WP_250125070.1', 'WP_250125072.1', 'WP_250125081.1', 'WP_250125082.1', 'WP_250125098.1', 'WP_250125138.1', 'WP_250125140.1', 'WP_250125199.1', 'WP_250125211.1', 'WP_250125237.1', 'WP_250125239.1', 'WP_250125240.1', 'WP_250125253.1', 'WP_250125254.1', 'WP_250125262.1', 'WP_250125266.1', 'WP_250125267.1', 'WP_250125275.1', 'WP_250125279.1', 'WP_250125297.1', 'WP_250125301.1', 'WP_250125309.1', 'WP_250125310.1', 'WP_250125341.1', 'WP_250125349.1', 'WP_250125350.1', 'WP_250125353.1', 'WP_250125354.1', 'WP_250125373.1', 'WP_250125409.1', 'WP_250125416.1', 'WP_250125418.1', 'WP_250125428.1', 'WP_250125437.1', 'WP_250125448.1', 'WP_250125455.1', 'WP_250125481.1', 'WP_250125486.1', 'WP_250125494.1', 'WP_250125498.1', 'WP_250125502.1', 'WP_250125503.1', 'WP_250125506.1', 'WP_250125509.1', 'WP_250125511.1', 'WP_250125520.1', 'WP_250125524.1', 'WP_250125525.1', 'WP_250125538.1', 'WP_250125548.1', 'WP_250125568.1', 'WP_250125569.1', 'WP_250125570.1', 'WP_250125576.1', 'WP_250125609.1', 'WP_250125610.1', 'WP_250125611.1', 'WP_250125612.1', 'WP_250125613.1', 'WP_250125621.1', 'WP_250125624.1', 'WP_250125630.1', 'WP_250125634.1', 'WP_250125637.1', 'WP_250125638.1', 'WP_250125639.1', 'WP_250125685.1', 'WP_250125736.1', 'WP_250125743.1', 'WP_250125750.1', 'WP_250125752.1', 'WP_250125753.1', 'WP_250125757.1', 'WP_250125771.1', 'WP_250125772.1', 'WP_250125782.1', 'WP_250125783.1', 'WP_250125792.1', 'WP_250125810.1', 'WP_250125841.1', 'WP_250125860.1', 'WP_250125864.1', 'WP_250125870.1', 'WP_250125878.1', 'WP_250125891.1', 'WP_250125907.1', 'WP_250125920.1', 'WP_250125926.1', 'WP_250125930.1', 'WP_250125944.1', 'WP_250125947.1', 'WP_250125953.1', 'WP_250125967.1', 'WP_250125975.1', 'WP_250125979.1', 'WP_250125984.1', 'WP_250125985.1', 'WP_250125991.1', 'WP_250126007.1', 'WP_250126009.1', 'WP_250126010.1', 'WP_250126026.1', 'WP_250126027.1', 'WP_250126028.1', 'WP_250126029.1', 'WP_250126030.1', 'WP_250126039.1', 'WP_250126053.1', 'WP_250126055.1', 'WP_250126075.1', 'WP_250126077.1', 'WP_250126089.1', 'WP_250126094.1', 'WP_250126100.1', 'WP_250126120.1', 'WP_250126136.1', 'WP_250126137.1', 'WP_250126148.1', 'WP_250126156.1', 'WP_250126175.1', 'WP_250126178.1', 'WP_250126179.1', 'WP_250126183.1', 'WP_250126190.1', 'WP_250126210.1', 'WP_250126223.1', 'WP_250126236.1', 'WP_250126241.1', 'WP_250126244.1', 'WP_250126264.1', 'WP_250126281.1', 'WP_250126292.1', 'WP_250126305.1', 'WP_250126309.1', 'WP_250126310.1', 'WP_250126314.1', 'WP_250126315.1', 'WP_250126324.1', 'WP_250126326.1', 'WP_250126327.1', 'WP_250126332.1', 'WP_250126333.1', 'WP_250126334.1', 'WP_250126335.1', 'WP_250126344.1', 'WP_250126358.1', 'WP_250126360.1', 'WP_250126362.1', 'WP_250126363.1', 'WP_250126366.1', 'WP_250126373.1', 'WP_250126374.1', 'WP_250126390.1', 'WP_250126407.1', 'WP_250126412.1', 'WP_250126419.1', 'WP_250126425.1', 'WP_250126426.1', 'WP_250126430.1', 'WP_250126438.1', 'WP_250126441.1', 'WP_250126451.1', 'WP_250126470.1', 'WP_250126476.1', 'WP_250126480.1', 'WP_250126484.1', 'WP_250126495.1', 'WP_250126504.1', 'WP_250126521.1', 'WP_250126524.1', 'WP_250126525.1', 'WP_250126532.1', 'WP_250126554.1', 'WP_250126559.1', 'WP_250126570.1', 'WP_250126571.1', 'WP_250126584.1', 'WP_250126586.1', 'WP_250126590.1', 'WP_250126622.1', 'WP_250126628.1', 'WP_250126644.1', 'WP_250126646.1', 'WP_250126656.1', 'WP_250126659.1', 'WP_250126664.1', 'WP_250126670.1', 'WP_250126689.1', 'WP_250126694.1', 'WP_250126701.1', 'WP_250126703.1', 'WP_250126718.1', 'WP_250126724.1', 'WP_250126745.1', 'WP_250126748.1', 'WP_250126750.1', 'WP_250126752.1', 'WP_250126755.1', 'WP_250126757.1', 'WP_250126775.1', 'WP_250126811.1', 'WP_250126818.1', 'WP_250126824.1', 'WP_250126832.1', 'WP_250126841.1', 'WP_250126847.1', 'WP_250126848.1', 'WP_256478615.1', 'WP_256478645.1', 'WP_256478682.1', 'WP_256478713.1', 'WP_256478736.1', 'WP_256478783.1', 'WP_256478819.1', 'WP_256478912.1', 'WP_256478913.1', 'WP_256478935.1', 'WP_256478939.1', 'WP_256478947.1', 'WP_256478949.1', 'WP_256478963.1', 'WP_256478968.1', 'WP_256478970.1', 'WP_256478990.1', 'WP_256478995.1', 'WP_256478998.1', 'WP_275983370.1', 'WP_275983380.1', 'WP_275983394.1', 'WP_275983395.1']\n"
     ]
    }
   ],
   "source": [
    "print([x for x in pids_proteine if x not in pids])"
   ],
   "metadata": {
    "collapsed": false,
    "ExecuteTime": {
     "end_time": "2024-05-28T09:29:46.187333Z",
     "start_time": "2024-05-28T09:29:46.059641Z"
    }
   },
   "id": "8f2ba1afe9df9029",
   "execution_count": 9
  },
  {
   "cell_type": "code",
   "outputs": [
    {
     "name": "stdout",
     "output_type": "stream",
     "text": [
      "[]\n"
     ]
    }
   ],
   "source": [
    "print([x for x in pids if x not in pids_proteine])"
   ],
   "metadata": {
    "collapsed": false,
    "ExecuteTime": {
     "end_time": "2024-05-28T09:32:22.437750Z",
     "start_time": "2024-05-28T09:32:22.308309Z"
    }
   },
   "id": "e5541d0d56eac3de",
   "execution_count": 10
  },
  {
   "cell_type": "code",
   "outputs": [],
   "source": [
    "from pathlib import Path\n",
    "intergen_dir = Path(\"/home/davide/Desktop/genomiChro/intergeniche_RefSeq/ortologhi/\")\n",
    "diz={}\n",
    "for file in intergen_dir.iterdir():\n",
    "    pids=[]\n",
    "\n",
    "    seqs = SeqIO.parse(file, \"fasta\")\n",
    "    for record in seqs:\n",
    "        start = record.description.find(\"WP_\")\n",
    "        end = record.description.find(\"'\", start)\n",
    "        pid = record.description[start:end]\n",
    "        if pid in diz and pid not in pids:\n",
    "            diz[pid].append(str(record.seq))\n",
    "        elif pid in pidsCCMEE29:\n",
    "            diz[pid] = [str(record.seq)]\n",
    "        pids.append(pid)\n"
   ],
   "metadata": {
    "collapsed": false,
    "ExecuteTime": {
     "end_time": "2024-05-28T10:21:51.218539Z",
     "start_time": "2024-05-28T10:21:50.253413Z"
    }
   },
   "id": "c3556dc5bbe7fe08",
   "execution_count": 97
  },
  {
   "cell_type": "code",
   "outputs": [
    {
     "name": "stdout",
     "output_type": "stream",
     "text": [
      "5154\n"
     ]
    }
   ],
   "source": [
    "print(len(diz))"
   ],
   "metadata": {
    "collapsed": false,
    "ExecuteTime": {
     "end_time": "2024-05-28T10:21:51.221474Z",
     "start_time": "2024-05-28T10:21:51.219335Z"
    }
   },
   "id": "bb5bfb75380c1c2b",
   "execution_count": 98
  },
  {
   "cell_type": "code",
   "outputs": [
    {
     "data": {
      "text/plain": "(array([ 608.,    0.,    0.,    0.,    0.,    0.,    0.,    0.,    0.,\n           0.,    0.,    0.,  550.,    0.,    0.,    0.,    0.,    0.,\n           0.,    0.,    0.,    0.,    0.,    0.,    0.,  311.,    0.,\n           0.,    0.,    0.,    0.,    0.,    0.,    0.,    0.,    0.,\n           0.,  279.,    0.,    0.,    0.,    0.,    0.,    0.,    0.,\n           0.,    0.,    0.,    0.,    0.,  211.,    0.,    0.,    0.,\n           0.,    0.,    0.,    0.,    0.,    0.,    0.,    0.,  196.,\n           0.,    0.,    0.,    0.,    0.,    0.,    0.,    0.,    0.,\n           0.,    0.,    0.,  290.,    0.,    0.,    0.,    0.,    0.,\n           0.,    0.,    0.,    0.,    0.,    0.,  761.,    0.,    0.,\n           0.,    0.,    0.,    0.,    0.,    0.,    0.,    0.,    0.,\n        1948.]),\n array([1.  , 1.08, 1.16, 1.24, 1.32, 1.4 , 1.48, 1.56, 1.64, 1.72, 1.8 ,\n        1.88, 1.96, 2.04, 2.12, 2.2 , 2.28, 2.36, 2.44, 2.52, 2.6 , 2.68,\n        2.76, 2.84, 2.92, 3.  , 3.08, 3.16, 3.24, 3.32, 3.4 , 3.48, 3.56,\n        3.64, 3.72, 3.8 , 3.88, 3.96, 4.04, 4.12, 4.2 , 4.28, 4.36, 4.44,\n        4.52, 4.6 , 4.68, 4.76, 4.84, 4.92, 5.  , 5.08, 5.16, 5.24, 5.32,\n        5.4 , 5.48, 5.56, 5.64, 5.72, 5.8 , 5.88, 5.96, 6.04, 6.12, 6.2 ,\n        6.28, 6.36, 6.44, 6.52, 6.6 , 6.68, 6.76, 6.84, 6.92, 7.  , 7.08,\n        7.16, 7.24, 7.32, 7.4 , 7.48, 7.56, 7.64, 7.72, 7.8 , 7.88, 7.96,\n        8.04, 8.12, 8.2 , 8.28, 8.36, 8.44, 8.52, 8.6 , 8.68, 8.76, 8.84,\n        8.92, 9.  ]),\n <BarContainer object of 100 artists>)"
     },
     "execution_count": 99,
     "metadata": {},
     "output_type": "execute_result"
    },
    {
     "data": {
      "text/plain": "<Figure size 640x480 with 1 Axes>",
      "image/png": "[encoded data removed]"
     },
     "metadata": {},
     "output_type": "display_data"
    }
   ],
   "source": [
    "#make a plot of lenght of pids[pid] for each pid\n",
    "import matplotlib.pyplot as plt\n",
    "lenghts = [len(x) for x in diz.values()]\n",
    "plt.hist(lenghts, bins=100)\n"
   ],
   "metadata": {
    "collapsed": false,
    "ExecuteTime": {
     "end_time": "2024-05-28T10:21:55.316984Z",
     "start_time": "2024-05-28T10:21:55.077295Z"
    }
   },
   "id": "cd1595a2f5cdb208",
   "execution_count": 99
  },
  {
   "cell_type": "code",
   "outputs": [
    {
     "name": "stdout",
     "output_type": "stream",
     "text": [
      "['WP_250126516.1', 'WP_250126247.1', 'WP_250126319.1']\n"
     ]
    }
   ],
   "source": [
    "#print duplicated of pids\n",
    "from collections import Counter\n",
    "print([pid for pid, count in Counter(pids).items() if count > 1])"
   ],
   "metadata": {
    "collapsed": false,
    "ExecuteTime": {
     "end_time": "2024-05-28T09:51:40.206618Z",
     "start_time": "2024-05-28T09:51:40.203652Z"
    }
   },
   "id": "7e9d893b3ec86615",
   "execution_count": 34
  },
  {
   "cell_type": "code",
   "outputs": [
    {
     "data": {
      "text/plain": "          pidCCMEE29             pid  \\\n3894  WP_250121164.1  WP_250121164.1   \n4668  WP_250122517.1  WP_250122517.1   \n\n                                                   info  pident  length  \\\n3894  WP_250121164.1 single-stranded DNA-binding pro...   100.0     168   \n4668  WP_250122517.1 single-stranded DNA-binding pro...   100.0     122   \n\n             evalue          locus  \n3894  2.020000e-126  LAU37_RS14180  \n4668   2.470000e-87  LAU37_RS21505  ",
      "text/html": "<div>\n<style scoped>\n    .dataframe tbody tr th:only-of-type {\n        vertical-align: middle;\n    }\n\n    .dataframe tbody tr th {\n        vertical-align: top;\n    }\n\n    .dataframe thead th {\n        text-align: right;\n    }\n</style>\n<table border=\"1\" class=\"dataframe\">\n  <thead>\n    <tr style=\"text-align: right;\">\n      <th></th>\n      <th>pidCCMEE29</th>\n      <th>pid</th>\n      <th>info</th>\n      <th>pident</th>\n      <th>length</th>\n      <th>evalue</th>\n      <th>locus</th>\n    </tr>\n  </thead>\n  <tbody>\n    <tr>\n      <th>3894</th>\n      <td>WP_250121164.1</td>\n      <td>WP_250121164.1</td>\n      <td>WP_250121164.1 single-stranded DNA-binding pro...</td>\n      <td>100.0</td>\n      <td>168</td>\n      <td>2.020000e-126</td>\n      <td>LAU37_RS14180</td>\n    </tr>\n    <tr>\n      <th>4668</th>\n      <td>WP_250122517.1</td>\n      <td>WP_250122517.1</td>\n      <td>WP_250122517.1 single-stranded DNA-binding pro...</td>\n      <td>100.0</td>\n      <td>122</td>\n      <td>2.470000e-87</td>\n      <td>LAU37_RS21505</td>\n    </tr>\n  </tbody>\n</table>\n</div>"
     },
     "execution_count": 101,
     "metadata": {},
     "output_type": "execute_result"
    }
   ],
   "source": [
    "csv=\"/home/davide/Desktop/genomiChro/blastpcsv/Chroococcidiopsis_sp._CCMEE_29_GCF_023558375.csv\"\n",
    "import pandas as pd\n",
    "df = pd.read_csv(csv)\n",
    "df\n",
    "#find duplicated in df of pidCCMEE29\\\n",
    "df[df.duplicated(subset=\"pidCCMEE29\", keep=False)]\n",
    "#find rows with lexA in info column\n",
    "df[df[\"info\"].str.contains(\"single-stranded DNA-binding protein\")]"
   ],
   "metadata": {
    "collapsed": false,
    "ExecuteTime": {
     "end_time": "2024-05-28T10:25:14.298038Z",
     "start_time": "2024-05-28T10:25:14.281208Z"
    }
   },
   "id": "233499a2611a1f87",
   "execution_count": 101
  },
  {
   "cell_type": "code",
   "outputs": [],
   "source": [
    "dizlexa=diz[\"WP_250121220.1\"]\n",
    "dizrecA=diz[\"WP_250121493.1\"]"
   ],
   "metadata": {
    "collapsed": false,
    "ExecuteTime": {
     "end_time": "2024-05-28T10:11:50.030553Z",
     "start_time": "2024-05-28T10:11:50.028412Z"
    }
   },
   "id": "13c418c0da6fb6fa",
   "execution_count": 80
  },
  {
   "cell_type": "code",
   "outputs": [
    {
     "name": "stdout",
     "output_type": "stream",
     "text": [
      "<re.Match object; span=(76, 105), match='TTTGTAGTACGAATGTTCTATAGACCTTT'>\n",
      "<re.Match object; span=(98, 127), match='TTTGTAGTACGACTGTTCTAAGAGGTCTA'>\n",
      "None\n",
      "<re.Match object; span=(89, 118), match='TTTGTAGTACGACTGTTCTAAGAGGTCTA'>\n",
      "<re.Match object; span=(112, 141), match='TTTGTAGTACGACTGTTCTAAGAGGTCTA'>\n",
      "<re.Match object; span=(194, 223), match='TTTGTAGTACGACTGTTCTAAGAGGTTTA'>\n",
      "<re.Match object; span=(27, 56), match='TTTGTAGTACGACTGTTCTAAGAGGTCTA'>\n",
      "<re.Match object; span=(112, 141), match='TTTGTAGTACGACTGTTCTAAGAGGTCTA'>\n",
      "<re.Match object; span=(112, 141), match='TTTGTAGTACGACTGTTCTAAGAGGTCTA'>\n"
     ]
    }
   ],
   "source": [
    "#find AGT.{8}ACT in all sequences of dizlexa\n",
    "import re\n",
    "for seq in dizlexa:\n",
    "    print(re.search(\".....AGT.{9}CTA.........\", seq))"
   ],
   "metadata": {
    "collapsed": false,
    "ExecuteTime": {
     "end_time": "2024-05-28T10:11:50.469247Z",
     "start_time": "2024-05-28T10:11:50.464575Z"
    }
   },
   "id": "fcd14cefbd59ae47",
   "execution_count": 81
  },
  {
   "cell_type": "code",
   "outputs": [
    {
     "data": {
      "text/plain": "<IPython.core.display.Markdown object>",
      "text/markdown": "CTAAAA**TAGT**ATATCTGC**ACTA**GTC"
     },
     "metadata": {},
     "output_type": "display_data"
    },
    {
     "data": {
      "text/plain": "<IPython.core.display.Markdown object>",
      "text/markdown": "CTAAAA**TAGT**ATATCTGC**ACTA**GTT"
     },
     "metadata": {},
     "output_type": "display_data"
    },
    {
     "data": {
      "text/plain": "<IPython.core.display.Markdown object>",
      "text/markdown": "TTAAAA**TAGT**ATATCTGC**ACTA**GTC"
     },
     "metadata": {},
     "output_type": "display_data"
    },
    {
     "data": {
      "text/plain": "<IPython.core.display.Markdown object>",
      "text/markdown": "CTAAAA**TAGT**ATATCTGC**ACTA**GTT"
     },
     "metadata": {},
     "output_type": "display_data"
    },
    {
     "data": {
      "text/plain": "<IPython.core.display.Markdown object>",
      "text/markdown": "CTAAAA**TAGT**ATATCTGC**ACTA**GTT"
     },
     "metadata": {},
     "output_type": "display_data"
    },
    {
     "data": {
      "text/plain": "<IPython.core.display.Markdown object>",
      "text/markdown": "CTAAAA**TAGT**ATATCTGC**ACTA**GTT"
     },
     "metadata": {},
     "output_type": "display_data"
    },
    {
     "data": {
      "text/plain": "<IPython.core.display.Markdown object>",
      "text/markdown": "CTAAAA**TAGT**ATATCTGC**ACTA**GTT"
     },
     "metadata": {},
     "output_type": "display_data"
    },
    {
     "data": {
      "text/plain": "<IPython.core.display.Markdown object>",
      "text/markdown": "CTAAAA**TAGT**ATATCTGC**ACTA**GTT"
     },
     "metadata": {},
     "output_type": "display_data"
    },
    {
     "data": {
      "text/plain": "<IPython.core.display.Markdown object>",
      "text/markdown": "CTAAAA**TAGT**ATATCTGC**ACTA**GTT"
     },
     "metadata": {},
     "output_type": "display_data"
    }
   ],
   "source": [
    "from IPython.display import Markdown, display\n",
    "for seq in dizrecA:\n",
    "    s=re.search(\".......AGT.{8}ACT....\", seq).group(0)\n",
    "    #put * before AGT after AGT and before ACT after ACT\n",
    "    s=s[:6]+\"**\"+s[6:10]+\"**\"+s[10:18]+\"**\"+s[18:22]+\"**\"+s[22:]\n",
    "    display(Markdown(s))\n",
    "    #how pri"
   ],
   "metadata": {
    "collapsed": false,
    "ExecuteTime": {
     "end_time": "2024-05-28T10:18:45.371166Z",
     "start_time": "2024-05-28T10:18:45.363548Z"
    }
   },
   "id": "2c9486f81a50f0a2",
   "execution_count": 96
  },
  {
   "cell_type": "code",
   "outputs": [],
   "source": [
    "#use pickle to save diz\n",
    "import pickle\n",
    "with open(\"diz.pickle\", \"wb\") as f:\n",
    "    pickle.dump(diz, f)"
   ],
   "metadata": {
    "collapsed": false,
    "ExecuteTime": {
     "end_time": "2024-05-28T10:22:57.392554Z",
     "start_time": "2024-05-28T10:22:57.380762Z"
    }
   },
   "id": "cac1e66a0762cef3",
   "execution_count": 100
  },
  {
   "cell_type": "code",
   "outputs": [],
   "source": [
    "ssb1=diz[\"WP_250121164.1\"]\n",
    "ssb2=diz[\"WP_250122517.1\"]\n"
   ],
   "metadata": {
    "collapsed": false,
    "ExecuteTime": {
     "end_time": "2024-05-28T10:26:14.067077Z",
     "start_time": "2024-05-28T10:26:14.065135Z"
    }
   },
   "id": "652e552126e16c12",
   "execution_count": 102
  },
  {
   "cell_type": "code",
   "outputs": [
    {
     "name": "stdout",
     "output_type": "stream",
     "text": [
      "None\n",
      "None\n",
      "<re.Match object; span=(12, 29), match='TAGTGATTAGTGGCTAG'>\n",
      "None\n",
      "None\n",
      "None\n",
      "None\n",
      "None\n",
      "None\n"
     ]
    }
   ],
   "source": [
    "#find AGT.{8}ACT in all sequences of ssb1\n",
    "import re\n",
    "for seq in ssb1:\n",
    "    print(re.search(\".AGT.{9}CTA.\", seq))"
   ],
   "metadata": {
    "collapsed": false,
    "ExecuteTime": {
     "end_time": "2024-05-28T10:27:12.164563Z",
     "start_time": "2024-05-28T10:27:12.161611Z"
    }
   },
   "id": "9c2a980e7d6e4d32",
   "execution_count": 105
  },
  {
   "cell_type": "code",
   "outputs": [
    {
     "name": "stdout",
     "output_type": "stream",
     "text": [
      "<re.Match object; span=(175, 191), match='GAGTAGCCCTACACTT'>\n",
      "<re.Match object; span=(272, 288), match='AAGTACAATTGTACTA'>\n",
      "<re.Match object; span=(161, 177), match='GAGTACATTTGTACTG'>\n",
      "<re.Match object; span=(190, 206), match='TAGTCACCAGCCACTG'>\n",
      "<re.Match object; span=(272, 288), match='AAGTACAATTGTACTA'>\n",
      "<re.Match object; span=(272, 288), match='AAGTACAATTGTACTA'>\n",
      "<re.Match object; span=(272, 288), match='GAGTACAATTGTACTA'>\n",
      "<re.Match object; span=(272, 288), match='AAGTACAATTGTACTA'>\n",
      "<re.Match object; span=(272, 288), match='AAGTACAATTGTACTA'>\n"
     ]
    }
   ],
   "source": [
    "#find AGT.{8}ACT in all sequences of ssb2\n",
    "import re\n",
    "for seq in ssb2:\n",
    "    print(re.search(\".AGT.{8}ACT.\", seq))\n",
    "    "
   ],
   "metadata": {
    "collapsed": false,
    "ExecuteTime": {
     "end_time": "2024-05-28T10:26:55.602048Z",
     "start_time": "2024-05-28T10:26:55.599599Z"
    }
   },
   "id": "1caa80ba7f84354",
   "execution_count": 104
  },
  {
   "cell_type": "code",
   "outputs": [],
   "source": [],
   "metadata": {
    "collapsed": false
   },
   "id": "ea26ee4818abb5c8"
  }
 ],
 "metadata": {
  "kernelspec": {
   "display_name": "Python 3",
   "language": "python",
   "name": "python3"
  },
  "language_info": {
   "codemirror_mode": {
    "name": "ipython",
    "version": 2
   },
   "file_extension": ".py",
   "mimetype": "text/x-python",
   "name": "python",
   "nbconvert_exporter": "python",
   "pygments_lexer": "ipython2",
   "version": "2.7.6"
  }
 },
 "nbformat": 4,
 "nbformat_minor": 5
}
