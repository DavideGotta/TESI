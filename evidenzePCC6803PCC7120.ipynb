{
 "cells": [
  {
   "cell_type": "code",
   "outputs": [],
   "source": [
    "import pandas as pd\n",
    "blastpPCC7120=\"/home/davide/Desktop/genomiChro/blastvsPCC7120/CCMEE_29.txt\"\n",
    "blastpPCC6803=\"/home/davide/Desktop/genomiChro/blastpvsPCC6803/Chroococcidiopsis_sp._CCMEE_29_GCF_023558375.1vsPCC6803.txt\"\n",
    "dfPCC7120=pd.read_csv(blastpPCC7120,sep=\"\\t\",header=None)\n",
    "dfPCC6803=pd.read_csv(blastpPCC6803,sep=\"\\t\",header=None)\n"
   ],
   "metadata": {
    "collapsed": false,
    "ExecuteTime": {
     "end_time": "2024-05-15T14:41:13.259536Z",
     "start_time": "2024-05-15T14:41:13.101502Z"
    }
   },
   "id": "e8be512922dba98b",
   "execution_count": 9
  },
  {
   "cell_type": "code",
   "outputs": [
    {
     "data": {
      "text/plain": "               qseqid                                             sseqid  \\\n0      WP_009632395.1  BAL29708.1 nitrogen regulatory protein P-II gl...   \n7      WP_041548398.1  BAL28502.1 translation initiation factor IF-1 ...   \n18     WP_073591590.1  BAL27946.1 carbon dioxide concentrating mechan...   \n32     WP_190736661.1  BAL27827.1 ribonuclease E rne SYNGTI_0080(ORF_...   \n38     WP_250121152.1  BAL27767.1 hypothetical protein sll1202 SYNGTI...   \n...               ...                                                ...   \n82206  WP_275983394.1  BAL28265.1 cytochrome b559 b subunit psbF SYNG...   \n82211  WP_275983395.1  BAL30622.1 ABC transporter slr0544 SYNGTI_2875...   \n82292  WP_275983396.1  BAL27839.1 hypothetical protein slr0723 SYNGTI...   \n82298  WP_275983397.1  BAL30377.1 hypothetical protein slr0516 SYNGTI...   \n82398  WP_275983398.1  BAL30370.1 transposase ssr0871 SYNGTI_2623(ORF...   \n\n      old_locus_tag                                        score  \n0           ssl0707  identity:88.393%|length:112|evalue:9.86e-70  \n7           ssl3441     identity:96.0%|length:75|evalue:1.32e-50  \n18          sll1029  identity:88.571%|length:105|evalue:3.74e-65  \n32          slr1129     identity:30.0%|length:40|evalue:1.40e+00  \n38          sll1202   identity:30.986%|length:71|evalue:4.40e-01  \n...             ...                                          ...  \n82206       smr0006   identity:84.091%|length:44|evalue:1.04e-22  \n82211       slr0544  identity:55.556%|length:216|evalue:9.47e-90  \n82292       slr0723   identity:30.159%|length:63|evalue:5.70e-02  \n82298       slr0516  identity:44.915%|length:118|evalue:2.21e-17  \n82398       ssr0871   identity:37.838%|length:37|evalue:1.30e+00  \n\n[5783 rows x 4 columns]",
      "text/html": "<div>\n<style scoped>\n    .dataframe tbody tr th:only-of-type {\n        vertical-align: middle;\n    }\n\n    .dataframe tbody tr th {\n        vertical-align: top;\n    }\n\n    .dataframe thead th {\n        text-align: right;\n    }\n</style>\n<table border=\"1\" class=\"dataframe\">\n  <thead>\n    <tr style=\"text-align: right;\">\n      <th></th>\n      <th>qseqid</th>\n      <th>sseqid</th>\n      <th>old_locus_tag</th>\n      <th>score</th>\n    </tr>\n  </thead>\n  <tbody>\n    <tr>\n      <th>0</th>\n      <td>WP_009632395.1</td>\n      <td>BAL29708.1 nitrogen regulatory protein P-II gl...</td>\n      <td>ssl0707</td>\n      <td>identity:88.393%|length:112|evalue:9.86e-70</td>\n    </tr>\n    <tr>\n      <th>7</th>\n      <td>WP_041548398.1</td>\n      <td>BAL28502.1 translation initiation factor IF-1 ...</td>\n      <td>ssl3441</td>\n      <td>identity:96.0%|length:75|evalue:1.32e-50</td>\n    </tr>\n    <tr>\n      <th>18</th>\n      <td>WP_073591590.1</td>\n      <td>BAL27946.1 carbon dioxide concentrating mechan...</td>\n      <td>sll1029</td>\n      <td>identity:88.571%|length:105|evalue:3.74e-65</td>\n    </tr>\n    <tr>\n      <th>32</th>\n      <td>WP_190736661.1</td>\n      <td>BAL27827.1 ribonuclease E rne SYNGTI_0080(ORF_...</td>\n      <td>slr1129</td>\n      <td>identity:30.0%|length:40|evalue:1.40e+00</td>\n    </tr>\n    <tr>\n      <th>38</th>\n      <td>WP_250121152.1</td>\n      <td>BAL27767.1 hypothetical protein sll1202 SYNGTI...</td>\n      <td>sll1202</td>\n      <td>identity:30.986%|length:71|evalue:4.40e-01</td>\n    </tr>\n    <tr>\n      <th>...</th>\n      <td>...</td>\n      <td>...</td>\n      <td>...</td>\n      <td>...</td>\n    </tr>\n    <tr>\n      <th>82206</th>\n      <td>WP_275983394.1</td>\n      <td>BAL28265.1 cytochrome b559 b subunit psbF SYNG...</td>\n      <td>smr0006</td>\n      <td>identity:84.091%|length:44|evalue:1.04e-22</td>\n    </tr>\n    <tr>\n      <th>82211</th>\n      <td>WP_275983395.1</td>\n      <td>BAL30622.1 ABC transporter slr0544 SYNGTI_2875...</td>\n      <td>slr0544</td>\n      <td>identity:55.556%|length:216|evalue:9.47e-90</td>\n    </tr>\n    <tr>\n      <th>82292</th>\n      <td>WP_275983396.1</td>\n      <td>BAL27839.1 hypothetical protein slr0723 SYNGTI...</td>\n      <td>slr0723</td>\n      <td>identity:30.159%|length:63|evalue:5.70e-02</td>\n    </tr>\n    <tr>\n      <th>82298</th>\n      <td>WP_275983397.1</td>\n      <td>BAL30377.1 hypothetical protein slr0516 SYNGTI...</td>\n      <td>slr0516</td>\n      <td>identity:44.915%|length:118|evalue:2.21e-17</td>\n    </tr>\n    <tr>\n      <th>82398</th>\n      <td>WP_275983398.1</td>\n      <td>BAL30370.1 transposase ssr0871 SYNGTI_2623(ORF...</td>\n      <td>ssr0871</td>\n      <td>identity:37.838%|length:37|evalue:1.30e+00</td>\n    </tr>\n  </tbody>\n</table>\n<p>5783 rows × 4 columns</p>\n</div>"
     },
     "execution_count": 10,
     "metadata": {},
     "output_type": "execute_result"
    }
   ],
   "source": [
    "dfPCC6803.columns=[\"qseqid\",\"sseqid\",\"pident\",\"length\",\"evalue\"]\n",
    "dfPCC6803[\"old_locus_tag\"]=dfPCC6803[\"sseqid\"].str.extract(r\"ORF_ID:(\\w+)\")\n",
    "dfPCC6803[\"evalue\"]=dfPCC6803[\"evalue\"].apply(lambda x: \"{:.2e}\".format(x))\n",
    "dfPCC6803[\"score\"]=\"identity:\"+dfPCC6803[\"pident\"].astype(str)+\"%|length:\"+dfPCC6803[\"length\"].astype(str)+\"|evalue:\"+dfPCC6803[\"evalue\"].astype(str)\n",
    "dfPCC6803.drop(columns=[\"pident\",\"length\",\"evalue\"],inplace=True)\n",
    "#drop duplicates for qseqid keeping the one with the lowest evalue\n",
    "dfPCC6803=dfPCC6803.drop_duplicates(\"qseqid\",keep=\"first\")\n",
    "dfPCC6803\n"
   ],
   "metadata": {
    "collapsed": false,
    "ExecuteTime": {
     "end_time": "2024-05-15T14:41:13.971060Z",
     "start_time": "2024-05-15T14:41:13.777312Z"
    }
   },
   "id": "69500c1ff2a0c3b6",
   "execution_count": 10
  },
  {
   "cell_type": "code",
   "outputs": [
    {
     "data": {
      "text/plain": "                qseqid                                             sseqid  \\\n0       WP_009632395.1  WP_010996475.1,gene:(all2319),locus_tag:PCC712...   \n12      WP_041548398.1  WP_006276978.1,gene:infA(asl4195),locus_tag:PC...   \n25      WP_073591590.1  WP_010995041.1,gene:(),locus_tag:PCC7120DELTA_...   \n43      WP_190736661.1  WP_010996194.1,gene:(all2033),locus_tag:PCC712...   \n49      WP_250121152.1  WP_044520844.1,gene:(all1188),locus_tag:PCC712...   \n...                ...                                                ...   \n120286  WP_275983394.1  WP_010997987.1,gene:psbF(),locus_tag:PCC7120DE...   \n120297  WP_275983395.1  WP_044520633.1,gene:(alr0447),locus_tag:PCC712...   \n120424  WP_275983396.1  WP_010997074.1,gene:(asl2923),locus_tag:PCC712...   \n120439  WP_275983397.1  WP_010995914.1,gene:(alr1746),locus_tag:PCC712...   \n120607  WP_275983398.1  WP_010998996.1,gene:(alr4870),locus_tag:PCC712...   \n\n       old_locus_tag                                        score  \n0            all2319  identity:97.321%|length:112|evalue:1.02e-74  \n12           asl4195   identity:97.297%|length:74|evalue:3.39e-50  \n25               NaN  identity:91.071%|length:112|evalue:5.09e-71  \n43           all2033   identity:25.882%|length:85|evalue:1.70e-01  \n49           all1188   identity:32.877%|length:73|evalue:1.80e+00  \n...              ...                                          ...  \n120286           NaN   identity:82.222%|length:45|evalue:4.29e-23  \n120297       alr0447  identity:57.798%|length:218|evalue:1.89e-92  \n120424       asl2923   identity:68.478%|length:92|evalue:5.19e-46  \n120439       alr1746  identity:43.925%|length:107|evalue:6.35e-18  \n120607       alr4870    identity:38.71%|length:62|evalue:1.08e-07  \n\n[5784 rows x 4 columns]",
      "text/html": "<div>\n<style scoped>\n    .dataframe tbody tr th:only-of-type {\n        vertical-align: middle;\n    }\n\n    .dataframe tbody tr th {\n        vertical-align: top;\n    }\n\n    .dataframe thead th {\n        text-align: right;\n    }\n</style>\n<table border=\"1\" class=\"dataframe\">\n  <thead>\n    <tr style=\"text-align: right;\">\n      <th></th>\n      <th>qseqid</th>\n      <th>sseqid</th>\n      <th>old_locus_tag</th>\n      <th>score</th>\n    </tr>\n  </thead>\n  <tbody>\n    <tr>\n      <th>0</th>\n      <td>WP_009632395.1</td>\n      <td>WP_010996475.1,gene:(all2319),locus_tag:PCC712...</td>\n      <td>all2319</td>\n      <td>identity:97.321%|length:112|evalue:1.02e-74</td>\n    </tr>\n    <tr>\n      <th>12</th>\n      <td>WP_041548398.1</td>\n      <td>WP_006276978.1,gene:infA(asl4195),locus_tag:PC...</td>\n      <td>asl4195</td>\n      <td>identity:97.297%|length:74|evalue:3.39e-50</td>\n    </tr>\n    <tr>\n      <th>25</th>\n      <td>WP_073591590.1</td>\n      <td>WP_010995041.1,gene:(),locus_tag:PCC7120DELTA_...</td>\n      <td>NaN</td>\n      <td>identity:91.071%|length:112|evalue:5.09e-71</td>\n    </tr>\n    <tr>\n      <th>43</th>\n      <td>WP_190736661.1</td>\n      <td>WP_010996194.1,gene:(all2033),locus_tag:PCC712...</td>\n      <td>all2033</td>\n      <td>identity:25.882%|length:85|evalue:1.70e-01</td>\n    </tr>\n    <tr>\n      <th>49</th>\n      <td>WP_250121152.1</td>\n      <td>WP_044520844.1,gene:(all1188),locus_tag:PCC712...</td>\n      <td>all1188</td>\n      <td>identity:32.877%|length:73|evalue:1.80e+00</td>\n    </tr>\n    <tr>\n      <th>...</th>\n      <td>...</td>\n      <td>...</td>\n      <td>...</td>\n      <td>...</td>\n    </tr>\n    <tr>\n      <th>120286</th>\n      <td>WP_275983394.1</td>\n      <td>WP_010997987.1,gene:psbF(),locus_tag:PCC7120DE...</td>\n      <td>NaN</td>\n      <td>identity:82.222%|length:45|evalue:4.29e-23</td>\n    </tr>\n    <tr>\n      <th>120297</th>\n      <td>WP_275983395.1</td>\n      <td>WP_044520633.1,gene:(alr0447),locus_tag:PCC712...</td>\n      <td>alr0447</td>\n      <td>identity:57.798%|length:218|evalue:1.89e-92</td>\n    </tr>\n    <tr>\n      <th>120424</th>\n      <td>WP_275983396.1</td>\n      <td>WP_010997074.1,gene:(asl2923),locus_tag:PCC712...</td>\n      <td>asl2923</td>\n      <td>identity:68.478%|length:92|evalue:5.19e-46</td>\n    </tr>\n    <tr>\n      <th>120439</th>\n      <td>WP_275983397.1</td>\n      <td>WP_010995914.1,gene:(alr1746),locus_tag:PCC712...</td>\n      <td>alr1746</td>\n      <td>identity:43.925%|length:107|evalue:6.35e-18</td>\n    </tr>\n    <tr>\n      <th>120607</th>\n      <td>WP_275983398.1</td>\n      <td>WP_010998996.1,gene:(alr4870),locus_tag:PCC712...</td>\n      <td>alr4870</td>\n      <td>identity:38.71%|length:62|evalue:1.08e-07</td>\n    </tr>\n  </tbody>\n</table>\n<p>5784 rows × 4 columns</p>\n</div>"
     },
     "execution_count": 11,
     "metadata": {},
     "output_type": "execute_result"
    }
   ],
   "source": [
    "dfPCC7120.columns=[\"qseqid\",\"sseqid\",\"pident\",\"length\",\"mismatch\",\"gapopen\",\"qstart\",\"qend\",\"sstart\",\"send\",\"evalue\",\"bitscore\"]\n",
    "#extract from sseqid old locus tag that is in string gene:{gene_id}({old_locus_tag}) with gene_id can be empty\n",
    "dfPCC7120[\"old_locus_tag\"]=dfPCC7120[\"sseqid\"].str.extract(r\"gene:\\w*\\((\\w+)\\)\")\n",
    "dfPCC7120 = dfPCC7120[[\"qseqid\", \"sseqid\", \"pident\", \"length\", \"evalue\", \"old_locus_tag\"]]\n",
    "dfPCC7120[\"evalue\"]=dfPCC7120[\"evalue\"].apply(lambda x: \"{:.2e}\".format(x))\n",
    "dfPCC7120[\"score\"]=\"identity:\"+dfPCC7120[\"pident\"].astype(str)+\"%|length:\"+dfPCC7120[\"length\"].astype(str)+\"|evalue:\"+dfPCC7120[\"evalue\"].astype(str)\n",
    "dfPCC7120.drop(columns=[\"pident\",\"length\",\"evalue\"],inplace=True)\n",
    "#drop duplicates for qseqid keeping the one with the lowest evalue\n",
    "dfPCC7120=dfPCC7120.drop_duplicates(\"qseqid\",keep=\"first\")\n",
    "dfPCC7120"
   ],
   "metadata": {
    "collapsed": false,
    "ExecuteTime": {
     "end_time": "2024-05-15T14:41:14.713986Z",
     "start_time": "2024-05-15T14:41:14.406695Z"
    }
   },
   "id": "ead72c963ea3f064",
   "execution_count": 11
  },
  {
   "cell_type": "code",
   "outputs": [],
   "source": [
    "eviPCC7120=\"/home/davide/Downloads/PCC7120_genregdaLexA(2).xlsx\"\n",
    "eviPCC6803=\"/home/davide/Downloads/PCC6803_genregdaLexA(2).xlsx\"\n",
    "dfEviPCC7120=pd.read_excel(eviPCC7120)\n",
    "dfEviPCC6803=pd.read_excel(eviPCC6803)"
   ],
   "metadata": {
    "collapsed": false,
    "ExecuteTime": {
     "end_time": "2024-05-15T14:41:15.375173Z",
     "start_time": "2024-05-15T14:41:15.345124Z"
    }
   },
   "id": "77fcf3c6fd2b18a0",
   "execution_count": 12
  },
  {
   "cell_type": "code",
   "outputs": [
    {
     "data": {
      "text/plain": "             qseqid                                             sseqid  \\\n0    WP_250121155.1  WP_010998428.1,gene:psbD(alr4548),locus_tag:PC...   \n1    WP_250121195.1  WP_010999164.1,gene:atpC(all5038),locus_tag:PC...   \n2    WP_250121196.1  WP_010999165.1,gene:atpD(all5039),locus_tag:PC...   \n3    WP_250121205.1  WP_010994436.1,gene:psbV(all0259),locus_tag:PC...   \n4    WP_250121206.1  WP_010994436.1,gene:psbV(all0259),locus_tag:PC...   \n..              ...                                                ...   \n202  WP_256478945.1  WP_010995215.1,gene:glpX(alr1041),locus_tag:PC...   \n203  WP_256478997.1  WP_010999438.1,gene:psaB(alr5314),locus_tag:PC...   \n204  WP_275983378.1  WP_231865573.1,gene:(alr4267),locus_tag:PCC712...   \n205  WP_275983382.1  WP_010994830.1,gene:(asr0654),locus_tag:PCC712...   \n206  WP_275983385.1  WP_010995005.1,gene:(alr0831),locus_tag:PCC712...   \n\n    old_locus_tag                                        score  \\\n0         alr4548  identity:90.341%|length:352|evalue:0.00e+00   \n1         all5038  identity:78.676%|length:136|evalue:2.41e-76   \n2         all5039   identity:88.15%|length:481|evalue:0.00e+00   \n3         all0259   identity:75.46%|length:163|evalue:2.95e-93   \n4         all0259   identity:42.667%|length:75|evalue:5.97e-17   \n..            ...                                          ...   \n202       alr1041     identity:34.0%|length:50|evalue:5.60e-02   \n203       alr5314   identity:33.333%|length:33|evalue:3.60e-01   \n204       alr4267   identity:54.545%|length:33|evalue:1.37e-08   \n205       asr0654   identity:77.273%|length:66|evalue:1.45e-34   \n206       alr0831  identity:69.444%|length:108|evalue:2.23e-51   \n\n                       Reference  \\\n0    Srivastava et al., EEB 2022   \n1    Srivastava et al., EEB 2022   \n2    Srivastava et al., EEB 2022   \n3    Srivastava et al., EEB 2022   \n4    Srivastava et al., EEB 2022   \n..                           ...   \n202       Kumar et al., BBA 2018   \n203  Srivastava et al., EEB 2022   \n204  Srivastava et al., BBA 2023   \n205  Srivastava et al., EEB 2022   \n206       Kumar et al., BBA 2018   \n\n                                                  Note  \n0    Genes whose regulation by LexA has been predic...  \n1    Genes whose regulation by LexA has been valida...  \n2    Genes whose regulation by LexA has been valida...  \n3    Genes whose regulation by LexA has been predic...  \n4    Genes whose regulation by LexA has been predic...  \n..                                                 ...  \n202  Genes whose regulation by LexA has been predic...  \n203  Genes whose regulation by LexA has been predic...  \n204  Genes whose regulation by LexA has been valida...  \n205  Genes whose regulation by LexA has been predic...  \n206  Genes whose regulation by LexA has been predic...  \n\n[207 rows x 6 columns]",
      "text/html": "<div>\n<style scoped>\n    .dataframe tbody tr th:only-of-type {\n        vertical-align: middle;\n    }\n\n    .dataframe tbody tr th {\n        vertical-align: top;\n    }\n\n    .dataframe thead th {\n        text-align: right;\n    }\n</style>\n<table border=\"1\" class=\"dataframe\">\n  <thead>\n    <tr style=\"text-align: right;\">\n      <th></th>\n      <th>qseqid</th>\n      <th>sseqid</th>\n      <th>old_locus_tag</th>\n      <th>score</th>\n      <th>Reference</th>\n      <th>Note</th>\n    </tr>\n  </thead>\n  <tbody>\n    <tr>\n      <th>0</th>\n      <td>WP_250121155.1</td>\n      <td>WP_010998428.1,gene:psbD(alr4548),locus_tag:PC...</td>\n      <td>alr4548</td>\n      <td>identity:90.341%|length:352|evalue:0.00e+00</td>\n      <td>Srivastava et al., EEB 2022</td>\n      <td>Genes whose regulation by LexA has been predic...</td>\n    </tr>\n    <tr>\n      <th>1</th>\n      <td>WP_250121195.1</td>\n      <td>WP_010999164.1,gene:atpC(all5038),locus_tag:PC...</td>\n      <td>all5038</td>\n      <td>identity:78.676%|length:136|evalue:2.41e-76</td>\n      <td>Srivastava et al., EEB 2022</td>\n      <td>Genes whose regulation by LexA has been valida...</td>\n    </tr>\n    <tr>\n      <th>2</th>\n      <td>WP_250121196.1</td>\n      <td>WP_010999165.1,gene:atpD(all5039),locus_tag:PC...</td>\n      <td>all5039</td>\n      <td>identity:88.15%|length:481|evalue:0.00e+00</td>\n      <td>Srivastava et al., EEB 2022</td>\n      <td>Genes whose regulation by LexA has been valida...</td>\n    </tr>\n    <tr>\n      <th>3</th>\n      <td>WP_250121205.1</td>\n      <td>WP_010994436.1,gene:psbV(all0259),locus_tag:PC...</td>\n      <td>all0259</td>\n      <td>identity:75.46%|length:163|evalue:2.95e-93</td>\n      <td>Srivastava et al., EEB 2022</td>\n      <td>Genes whose regulation by LexA has been predic...</td>\n    </tr>\n    <tr>\n      <th>4</th>\n      <td>WP_250121206.1</td>\n      <td>WP_010994436.1,gene:psbV(all0259),locus_tag:PC...</td>\n      <td>all0259</td>\n      <td>identity:42.667%|length:75|evalue:5.97e-17</td>\n      <td>Srivastava et al., EEB 2022</td>\n      <td>Genes whose regulation by LexA has been predic...</td>\n    </tr>\n    <tr>\n      <th>...</th>\n      <td>...</td>\n      <td>...</td>\n      <td>...</td>\n      <td>...</td>\n      <td>...</td>\n      <td>...</td>\n    </tr>\n    <tr>\n      <th>202</th>\n      <td>WP_256478945.1</td>\n      <td>WP_010995215.1,gene:glpX(alr1041),locus_tag:PC...</td>\n      <td>alr1041</td>\n      <td>identity:34.0%|length:50|evalue:5.60e-02</td>\n      <td>Kumar et al., BBA 2018</td>\n      <td>Genes whose regulation by LexA has been predic...</td>\n    </tr>\n    <tr>\n      <th>203</th>\n      <td>WP_256478997.1</td>\n      <td>WP_010999438.1,gene:psaB(alr5314),locus_tag:PC...</td>\n      <td>alr5314</td>\n      <td>identity:33.333%|length:33|evalue:3.60e-01</td>\n      <td>Srivastava et al., EEB 2022</td>\n      <td>Genes whose regulation by LexA has been predic...</td>\n    </tr>\n    <tr>\n      <th>204</th>\n      <td>WP_275983378.1</td>\n      <td>WP_231865573.1,gene:(alr4267),locus_tag:PCC712...</td>\n      <td>alr4267</td>\n      <td>identity:54.545%|length:33|evalue:1.37e-08</td>\n      <td>Srivastava et al., BBA 2023</td>\n      <td>Genes whose regulation by LexA has been valida...</td>\n    </tr>\n    <tr>\n      <th>205</th>\n      <td>WP_275983382.1</td>\n      <td>WP_010994830.1,gene:(asr0654),locus_tag:PCC712...</td>\n      <td>asr0654</td>\n      <td>identity:77.273%|length:66|evalue:1.45e-34</td>\n      <td>Srivastava et al., EEB 2022</td>\n      <td>Genes whose regulation by LexA has been predic...</td>\n    </tr>\n    <tr>\n      <th>206</th>\n      <td>WP_275983385.1</td>\n      <td>WP_010995005.1,gene:(alr0831),locus_tag:PCC712...</td>\n      <td>alr0831</td>\n      <td>identity:69.444%|length:108|evalue:2.23e-51</td>\n      <td>Kumar et al., BBA 2018</td>\n      <td>Genes whose regulation by LexA has been predic...</td>\n    </tr>\n  </tbody>\n</table>\n<p>207 rows × 6 columns</p>\n</div>"
     },
     "execution_count": 13,
     "metadata": {},
     "output_type": "execute_result"
    }
   ],
   "source": [
    "#join dfPCC7120 with dfEviPCC7120 inner join on old_locus_tag\n",
    "dfPCC7120=dfPCC7120.merge(dfEviPCC7120,how=\"inner\",on=\"old_locus_tag\")\n",
    "dfPCC7120.to_csv(\"/home/davide/Desktop/eviPCC7120.csv\",index=False)\n",
    "dfPCC7120"
   ],
   "metadata": {
    "collapsed": false,
    "ExecuteTime": {
     "end_time": "2024-05-15T14:41:17.268209Z",
     "start_time": "2024-05-15T14:41:17.256627Z"
    }
   },
   "id": "8148ee728d668829",
   "execution_count": 13
  },
  {
   "cell_type": "code",
   "outputs": [
    {
     "data": {
      "text/plain": "             qseqid                                             sseqid  \\\n0    WP_250121186.1  BAL29117.1 hypothetical protein sll0249 SYNGTI...   \n1    WP_250121200.1  BAL27974.1 hypothetical protein slr1788 SYNGTI...   \n2    WP_250121208.1  BAL28527.1 cytochrome c553 petJ SYNGTI_0780(OR...   \n3    WP_250121220.1  BAL28941.1 SOS function regulatory protein Lex...   \n4    WP_250121221.1  BAL30340.1 ATP-dependent RNA helicase DeaD dea...   \n..              ...                                                ...   \n329  WP_256478936.1  BAL30895.1 hypothetical protein slr0592 SYNGTI...   \n330  WP_275983361.1  BAL28558.1 serine protease htrA SYNGTI_0811(OR...   \n331  WP_275983375.1  BAL28922.1 general secretion pathway protein G...   \n332  WP_275983376.1  BAL28922.1 general secretion pathway protein G...   \n333  WP_275983382.1  BAL30206.1 hypothetical protein ssl0352 SYNGTI...   \n\n    old_locus_tag                                        score  \\\n0         sll0249   identity:35.556%|length:45|evalue:1.70e-01   \n1         slr1788   identity:32.432%|length:37|evalue:2.00e+00   \n2         sll1796   identity:53.191%|length:94|evalue:4.98e-29   \n3         sll1626    identity:50.0%|length:202|evalue:1.76e-71   \n4         slr0083   identity:27.059%|length:85|evalue:5.00e-03   \n..            ...                                          ...   \n329       slr0592   identity:44.444%|length:18|evalue:1.60e-01   \n330       slr1204   identity:67.213%|length:61|evalue:9.93e-23   \n331       sll1694  identity:41.818%|length:165|evalue:6.10e-31   \n332       sll1694  identity:43.103%|length:174|evalue:3.25e-36   \n333       ssl0352   identity:68.421%|length:57|evalue:3.16e-24   \n\n                                            Reference  \\\n0               Kizawa et al., Front. microbiol. 2016   \n1               Kizawa et al., Front. microbiol. 2016   \n2                 Domain et al., Mol. Microbiol. 2004   \n3                              Kamei, A. et al., 2001   \n4    Patterson-Fortin et al., Nucleic Acids Res. 2006   \n..                                                ...   \n329               Domain et al., Mol. Microbiol. 2004   \n330             Kizawa et al., Front. microbiol. 2016   \n331                            Kamei, A. et al., 2001   \n332                            Kamei, A. et al., 2001   \n333               Domain et al., Mol. Microbiol. 2004   \n\n                                                  Note  \n0    Genes whose regulation by LexA has been valida...  \n1    Genes whose regulation by LexA has been valida...  \n2    Genes whose regulation by LexA has been valida...  \n3    Genes whose regulation by LexA has been valida...  \n4    Genes whose regulation by LexA has been valida...  \n..                                                 ...  \n329  Genes whose regulation by LexA has been valida...  \n330  Genes whose regulation by LexA has been valida...  \n331  Genes whose regulation by LexA has been valida...  \n332  Genes whose regulation by LexA has been valida...  \n333  Genes whose regulation by LexA has been valida...  \n\n[334 rows x 6 columns]",
      "text/html": "<div>\n<style scoped>\n    .dataframe tbody tr th:only-of-type {\n        vertical-align: middle;\n    }\n\n    .dataframe tbody tr th {\n        vertical-align: top;\n    }\n\n    .dataframe thead th {\n        text-align: right;\n    }\n</style>\n<table border=\"1\" class=\"dataframe\">\n  <thead>\n    <tr style=\"text-align: right;\">\n      <th></th>\n      <th>qseqid</th>\n      <th>sseqid</th>\n      <th>old_locus_tag</th>\n      <th>score</th>\n      <th>Reference</th>\n      <th>Note</th>\n    </tr>\n  </thead>\n  <tbody>\n    <tr>\n      <th>0</th>\n      <td>WP_250121186.1</td>\n      <td>BAL29117.1 hypothetical protein sll0249 SYNGTI...</td>\n      <td>sll0249</td>\n      <td>identity:35.556%|length:45|evalue:1.70e-01</td>\n      <td>Kizawa et al., Front. microbiol. 2016</td>\n      <td>Genes whose regulation by LexA has been valida...</td>\n    </tr>\n    <tr>\n      <th>1</th>\n      <td>WP_250121200.1</td>\n      <td>BAL27974.1 hypothetical protein slr1788 SYNGTI...</td>\n      <td>slr1788</td>\n      <td>identity:32.432%|length:37|evalue:2.00e+00</td>\n      <td>Kizawa et al., Front. microbiol. 2016</td>\n      <td>Genes whose regulation by LexA has been valida...</td>\n    </tr>\n    <tr>\n      <th>2</th>\n      <td>WP_250121208.1</td>\n      <td>BAL28527.1 cytochrome c553 petJ SYNGTI_0780(OR...</td>\n      <td>sll1796</td>\n      <td>identity:53.191%|length:94|evalue:4.98e-29</td>\n      <td>Domain et al., Mol. Microbiol. 2004</td>\n      <td>Genes whose regulation by LexA has been valida...</td>\n    </tr>\n    <tr>\n      <th>3</th>\n      <td>WP_250121220.1</td>\n      <td>BAL28941.1 SOS function regulatory protein Lex...</td>\n      <td>sll1626</td>\n      <td>identity:50.0%|length:202|evalue:1.76e-71</td>\n      <td>Kamei, A. et al., 2001</td>\n      <td>Genes whose regulation by LexA has been valida...</td>\n    </tr>\n    <tr>\n      <th>4</th>\n      <td>WP_250121221.1</td>\n      <td>BAL30340.1 ATP-dependent RNA helicase DeaD dea...</td>\n      <td>slr0083</td>\n      <td>identity:27.059%|length:85|evalue:5.00e-03</td>\n      <td>Patterson-Fortin et al., Nucleic Acids Res. 2006</td>\n      <td>Genes whose regulation by LexA has been valida...</td>\n    </tr>\n    <tr>\n      <th>...</th>\n      <td>...</td>\n      <td>...</td>\n      <td>...</td>\n      <td>...</td>\n      <td>...</td>\n      <td>...</td>\n    </tr>\n    <tr>\n      <th>329</th>\n      <td>WP_256478936.1</td>\n      <td>BAL30895.1 hypothetical protein slr0592 SYNGTI...</td>\n      <td>slr0592</td>\n      <td>identity:44.444%|length:18|evalue:1.60e-01</td>\n      <td>Domain et al., Mol. Microbiol. 2004</td>\n      <td>Genes whose regulation by LexA has been valida...</td>\n    </tr>\n    <tr>\n      <th>330</th>\n      <td>WP_275983361.1</td>\n      <td>BAL28558.1 serine protease htrA SYNGTI_0811(OR...</td>\n      <td>slr1204</td>\n      <td>identity:67.213%|length:61|evalue:9.93e-23</td>\n      <td>Kizawa et al., Front. microbiol. 2016</td>\n      <td>Genes whose regulation by LexA has been valida...</td>\n    </tr>\n    <tr>\n      <th>331</th>\n      <td>WP_275983375.1</td>\n      <td>BAL28922.1 general secretion pathway protein G...</td>\n      <td>sll1694</td>\n      <td>identity:41.818%|length:165|evalue:6.10e-31</td>\n      <td>Kamei, A. et al., 2001</td>\n      <td>Genes whose regulation by LexA has been valida...</td>\n    </tr>\n    <tr>\n      <th>332</th>\n      <td>WP_275983376.1</td>\n      <td>BAL28922.1 general secretion pathway protein G...</td>\n      <td>sll1694</td>\n      <td>identity:43.103%|length:174|evalue:3.25e-36</td>\n      <td>Kamei, A. et al., 2001</td>\n      <td>Genes whose regulation by LexA has been valida...</td>\n    </tr>\n    <tr>\n      <th>333</th>\n      <td>WP_275983382.1</td>\n      <td>BAL30206.1 hypothetical protein ssl0352 SYNGTI...</td>\n      <td>ssl0352</td>\n      <td>identity:68.421%|length:57|evalue:3.16e-24</td>\n      <td>Domain et al., Mol. Microbiol. 2004</td>\n      <td>Genes whose regulation by LexA has been valida...</td>\n    </tr>\n  </tbody>\n</table>\n<p>334 rows × 6 columns</p>\n</div>"
     },
     "execution_count": 14,
     "metadata": {},
     "output_type": "execute_result"
    }
   ],
   "source": [
    "dfPCC6803=dfPCC6803.merge(dfEviPCC6803,how=\"inner\",on=\"old_locus_tag\")\n",
    "dfPCC6803.to_csv(\"/home/davide/Desktop/eviPCC6803.csv\",index=False)\n",
    "dfPCC6803"
   ],
   "metadata": {
    "collapsed": false,
    "ExecuteTime": {
     "end_time": "2024-05-15T14:41:20.673380Z",
     "start_time": "2024-05-15T14:41:20.661461Z"
    }
   },
   "id": "34be4b57e3acc867",
   "execution_count": 14
  },
  {
   "cell_type": "code",
   "outputs": [],
   "source": [
    "#find duplicates in sseqid\n",
    "duplicatesPCC7120=dfPCC7120[dfPCC7120.duplicated(\"sseqid\",keep=False)]\n",
    "duplicatesPCC6803=dfPCC6803[dfPCC6803.duplicated(\"sseqid\",keep=False)]\n"
   ],
   "metadata": {
    "collapsed": false,
    "ExecuteTime": {
     "end_time": "2024-05-15T14:39:38.369645Z",
     "start_time": "2024-05-15T14:39:38.366615Z"
    }
   },
   "id": "a5f9ca58fac02e3",
   "execution_count": 7
  },
  {
   "cell_type": "code",
   "outputs": [
    {
     "data": {
      "text/plain": "             qseqid                                             sseqid  \\\n0    WP_250121186.1  BAL29117.1 hypothetical protein sll0249 SYNGTI...   \n2    WP_250121208.1  BAL28527.1 cytochrome c553 petJ SYNGTI_0780(OR...   \n4    WP_250121221.1  BAL30340.1 ATP-dependent RNA helicase DeaD dea...   \n6    WP_250121252.1  BAL28787.1 3-oxoacyl-[acyl-carrier protein] re...   \n7    WP_250121315.1  BAL27771.1 ferrichrome-iron receptor fhuA SYNG...   \n..              ...                                                ...   \n328  WP_256478925.1  BAL30895.1 hypothetical protein slr0592 SYNGTI...   \n329  WP_256478936.1  BAL30895.1 hypothetical protein slr0592 SYNGTI...   \n330  WP_275983361.1  BAL28558.1 serine protease htrA SYNGTI_0811(OR...   \n331  WP_275983375.1  BAL28922.1 general secretion pathway protein G...   \n332  WP_275983376.1  BAL28922.1 general secretion pathway protein G...   \n\n    old_locus_tag                                        score  \\\n0         sll0249   identity:35.556%|length:45|evalue:1.70e-01   \n2         sll1796   identity:53.191%|length:94|evalue:4.98e-29   \n4         slr0083   identity:27.059%|length:85|evalue:5.00e-03   \n6         slr0886   identity:31.89%|length:254|evalue:2.82e-26   \n7         sll1406   identity:23.711%|length:97|evalue:2.70e-01   \n..            ...                                          ...   \n328       slr0592   identity:44.444%|length:18|evalue:2.30e-01   \n329       slr0592   identity:44.444%|length:18|evalue:1.60e-01   \n330       slr1204   identity:67.213%|length:61|evalue:9.93e-23   \n331       sll1694  identity:41.818%|length:165|evalue:6.10e-31   \n332       sll1694  identity:43.103%|length:174|evalue:3.25e-36   \n\n                                            Reference  \\\n0               Kizawa et al., Front. microbiol. 2016   \n2                 Domain et al., Mol. Microbiol. 2004   \n4    Patterson-Fortin et al., Nucleic Acids Res. 2006   \n6                              Kizawa et al. TPJ 2017   \n7               Kizawa et al., Front. microbiol. 2016   \n..                                                ...   \n328               Domain et al., Mol. Microbiol. 2004   \n329               Domain et al., Mol. Microbiol. 2004   \n330             Kizawa et al., Front. microbiol. 2016   \n331                            Kamei, A. et al., 2001   \n332                            Kamei, A. et al., 2001   \n\n                                                  Note  \n0    Genes whose regulation by LexA has been valida...  \n2    Genes whose regulation by LexA has been valida...  \n4    Genes whose regulation by LexA has been valida...  \n6    Genes whose regulation by LexA has been valida...  \n7    Genes whose regulation by LexA has been valida...  \n..                                                 ...  \n328  Genes whose regulation by LexA has been valida...  \n329  Genes whose regulation by LexA has been valida...  \n330  Genes whose regulation by LexA has been valida...  \n331  Genes whose regulation by LexA has been valida...  \n332  Genes whose regulation by LexA has been valida...  \n\n[264 rows x 6 columns]",
      "text/html": "<div>\n<style scoped>\n    .dataframe tbody tr th:only-of-type {\n        vertical-align: middle;\n    }\n\n    .dataframe tbody tr th {\n        vertical-align: top;\n    }\n\n    .dataframe thead th {\n        text-align: right;\n    }\n</style>\n<table border=\"1\" class=\"dataframe\">\n  <thead>\n    <tr style=\"text-align: right;\">\n      <th></th>\n      <th>qseqid</th>\n      <th>sseqid</th>\n      <th>old_locus_tag</th>\n      <th>score</th>\n      <th>Reference</th>\n      <th>Note</th>\n    </tr>\n  </thead>\n  <tbody>\n    <tr>\n      <th>0</th>\n      <td>WP_250121186.1</td>\n      <td>BAL29117.1 hypothetical protein sll0249 SYNGTI...</td>\n      <td>sll0249</td>\n      <td>identity:35.556%|length:45|evalue:1.70e-01</td>\n      <td>Kizawa et al., Front. microbiol. 2016</td>\n      <td>Genes whose regulation by LexA has been valida...</td>\n    </tr>\n    <tr>\n      <th>2</th>\n      <td>WP_250121208.1</td>\n      <td>BAL28527.1 cytochrome c553 petJ SYNGTI_0780(OR...</td>\n      <td>sll1796</td>\n      <td>identity:53.191%|length:94|evalue:4.98e-29</td>\n      <td>Domain et al., Mol. Microbiol. 2004</td>\n      <td>Genes whose regulation by LexA has been valida...</td>\n    </tr>\n    <tr>\n      <th>4</th>\n      <td>WP_250121221.1</td>\n      <td>BAL30340.1 ATP-dependent RNA helicase DeaD dea...</td>\n      <td>slr0083</td>\n      <td>identity:27.059%|length:85|evalue:5.00e-03</td>\n      <td>Patterson-Fortin et al., Nucleic Acids Res. 2006</td>\n      <td>Genes whose regulation by LexA has been valida...</td>\n    </tr>\n    <tr>\n      <th>6</th>\n      <td>WP_250121252.1</td>\n      <td>BAL28787.1 3-oxoacyl-[acyl-carrier protein] re...</td>\n      <td>slr0886</td>\n      <td>identity:31.89%|length:254|evalue:2.82e-26</td>\n      <td>Kizawa et al. TPJ 2017</td>\n      <td>Genes whose regulation by LexA has been valida...</td>\n    </tr>\n    <tr>\n      <th>7</th>\n      <td>WP_250121315.1</td>\n      <td>BAL27771.1 ferrichrome-iron receptor fhuA SYNG...</td>\n      <td>sll1406</td>\n      <td>identity:23.711%|length:97|evalue:2.70e-01</td>\n      <td>Kizawa et al., Front. microbiol. 2016</td>\n      <td>Genes whose regulation by LexA has been valida...</td>\n    </tr>\n    <tr>\n      <th>...</th>\n      <td>...</td>\n      <td>...</td>\n      <td>...</td>\n      <td>...</td>\n      <td>...</td>\n      <td>...</td>\n    </tr>\n    <tr>\n      <th>328</th>\n      <td>WP_256478925.1</td>\n      <td>BAL30895.1 hypothetical protein slr0592 SYNGTI...</td>\n      <td>slr0592</td>\n      <td>identity:44.444%|length:18|evalue:2.30e-01</td>\n      <td>Domain et al., Mol. Microbiol. 2004</td>\n      <td>Genes whose regulation by LexA has been valida...</td>\n    </tr>\n    <tr>\n      <th>329</th>\n      <td>WP_256478936.1</td>\n      <td>BAL30895.1 hypothetical protein slr0592 SYNGTI...</td>\n      <td>slr0592</td>\n      <td>identity:44.444%|length:18|evalue:1.60e-01</td>\n      <td>Domain et al., Mol. Microbiol. 2004</td>\n      <td>Genes whose regulation by LexA has been valida...</td>\n    </tr>\n    <tr>\n      <th>330</th>\n      <td>WP_275983361.1</td>\n      <td>BAL28558.1 serine protease htrA SYNGTI_0811(OR...</td>\n      <td>slr1204</td>\n      <td>identity:67.213%|length:61|evalue:9.93e-23</td>\n      <td>Kizawa et al., Front. microbiol. 2016</td>\n      <td>Genes whose regulation by LexA has been valida...</td>\n    </tr>\n    <tr>\n      <th>331</th>\n      <td>WP_275983375.1</td>\n      <td>BAL28922.1 general secretion pathway protein G...</td>\n      <td>sll1694</td>\n      <td>identity:41.818%|length:165|evalue:6.10e-31</td>\n      <td>Kamei, A. et al., 2001</td>\n      <td>Genes whose regulation by LexA has been valida...</td>\n    </tr>\n    <tr>\n      <th>332</th>\n      <td>WP_275983376.1</td>\n      <td>BAL28922.1 general secretion pathway protein G...</td>\n      <td>sll1694</td>\n      <td>identity:43.103%|length:174|evalue:3.25e-36</td>\n      <td>Kamei, A. et al., 2001</td>\n      <td>Genes whose regulation by LexA has been valida...</td>\n    </tr>\n  </tbody>\n</table>\n<p>264 rows × 6 columns</p>\n</div>"
     },
     "execution_count": 8,
     "metadata": {},
     "output_type": "execute_result"
    }
   ],
   "source": [
    "duplicatesPCC6803"
   ],
   "metadata": {
    "collapsed": false,
    "ExecuteTime": {
     "end_time": "2024-05-15T14:39:39.449048Z",
     "start_time": "2024-05-15T14:39:39.441247Z"
    }
   },
   "id": "5cfddbc6279adf3c",
   "execution_count": 8
  },
  {
   "cell_type": "code",
   "outputs": [
    {
     "data": {
      "text/plain": "             qseqid                                             sseqid  \\\n0    WP_250121155.1  WP_010998428.1,gene:psbD(alr4548),locus_tag:PC...   \n1    WP_250121195.1  WP_010999164.1,gene:atpC(all5038),locus_tag:PC...   \n2    WP_250121196.1  WP_010999165.1,gene:atpD(all5039),locus_tag:PC...   \n3    WP_250121205.1  WP_010994436.1,gene:psbV(all0259),locus_tag:PC...   \n4    WP_250121206.1  WP_010994436.1,gene:psbV(all0259),locus_tag:PC...   \n..              ...                                                ...   \n202  WP_256478945.1  WP_010995215.1,gene:glpX(alr1041),locus_tag:PC...   \n203  WP_256478997.1  WP_010999438.1,gene:psaB(alr5314),locus_tag:PC...   \n204  WP_275983378.1  WP_231865573.1,gene:(alr4267),locus_tag:PCC712...   \n205  WP_275983382.1  WP_010994830.1,gene:(asr0654),locus_tag:PCC712...   \n206  WP_275983385.1  WP_010995005.1,gene:(alr0831),locus_tag:PCC712...   \n\n    old_locus_tag                                        score  \\\n0         alr4548  identity:90.341%|length:352|evalue:0.00e+00   \n1         all5038  identity:78.676%|length:136|evalue:2.41e-76   \n2         all5039   identity:88.15%|length:481|evalue:0.00e+00   \n3         all0259   identity:75.46%|length:163|evalue:2.95e-93   \n4         all0259   identity:42.667%|length:75|evalue:5.97e-17   \n..            ...                                          ...   \n202       alr1041     identity:34.0%|length:50|evalue:5.60e-02   \n203       alr5314   identity:33.333%|length:33|evalue:3.60e-01   \n204       alr4267   identity:54.545%|length:33|evalue:1.37e-08   \n205       asr0654   identity:77.273%|length:66|evalue:1.45e-34   \n206       alr0831  identity:69.444%|length:108|evalue:2.23e-51   \n\n                       Reference  \\\n0    Srivastava et al., EEB 2022   \n1    Srivastava et al., EEB 2022   \n2    Srivastava et al., EEB 2022   \n3    Srivastava et al., EEB 2022   \n4    Srivastava et al., EEB 2022   \n..                           ...   \n202       Kumar et al., BBA 2018   \n203  Srivastava et al., EEB 2022   \n204  Srivastava et al., BBA 2023   \n205  Srivastava et al., EEB 2022   \n206       Kumar et al., BBA 2018   \n\n                                                  Note        evalue  \n0    Genes whose regulation by LexA has been predic...           NaN  \n1    Genes whose regulation by LexA has been valida...  2.410000e-76  \n2    Genes whose regulation by LexA has been valida...           NaN  \n3    Genes whose regulation by LexA has been predic...  2.950000e-93  \n4    Genes whose regulation by LexA has been predic...  5.970000e-17  \n..                                                 ...           ...  \n202  Genes whose regulation by LexA has been predic...  5.600000e-02  \n203  Genes whose regulation by LexA has been predic...  3.600000e-01  \n204  Genes whose regulation by LexA has been valida...  1.370000e-08  \n205  Genes whose regulation by LexA has been predic...  1.450000e-34  \n206  Genes whose regulation by LexA has been predic...  2.230000e-51  \n\n[207 rows x 7 columns]",
      "text/html": "<div>\n<style scoped>\n    .dataframe tbody tr th:only-of-type {\n        vertical-align: middle;\n    }\n\n    .dataframe tbody tr th {\n        vertical-align: top;\n    }\n\n    .dataframe thead th {\n        text-align: right;\n    }\n</style>\n<table border=\"1\" class=\"dataframe\">\n  <thead>\n    <tr style=\"text-align: right;\">\n      <th></th>\n      <th>qseqid</th>\n      <th>sseqid</th>\n      <th>old_locus_tag</th>\n      <th>score</th>\n      <th>Reference</th>\n      <th>Note</th>\n      <th>evalue</th>\n    </tr>\n  </thead>\n  <tbody>\n    <tr>\n      <th>0</th>\n      <td>WP_250121155.1</td>\n      <td>WP_010998428.1,gene:psbD(alr4548),locus_tag:PC...</td>\n      <td>alr4548</td>\n      <td>identity:90.341%|length:352|evalue:0.00e+00</td>\n      <td>Srivastava et al., EEB 2022</td>\n      <td>Genes whose regulation by LexA has been predic...</td>\n      <td>NaN</td>\n    </tr>\n    <tr>\n      <th>1</th>\n      <td>WP_250121195.1</td>\n      <td>WP_010999164.1,gene:atpC(all5038),locus_tag:PC...</td>\n      <td>all5038</td>\n      <td>identity:78.676%|length:136|evalue:2.41e-76</td>\n      <td>Srivastava et al., EEB 2022</td>\n      <td>Genes whose regulation by LexA has been valida...</td>\n      <td>2.410000e-76</td>\n    </tr>\n    <tr>\n      <th>2</th>\n      <td>WP_250121196.1</td>\n      <td>WP_010999165.1,gene:atpD(all5039),locus_tag:PC...</td>\n      <td>all5039</td>\n      <td>identity:88.15%|length:481|evalue:0.00e+00</td>\n      <td>Srivastava et al., EEB 2022</td>\n      <td>Genes whose regulation by LexA has been valida...</td>\n      <td>NaN</td>\n    </tr>\n    <tr>\n      <th>3</th>\n      <td>WP_250121205.1</td>\n      <td>WP_010994436.1,gene:psbV(all0259),locus_tag:PC...</td>\n      <td>all0259</td>\n      <td>identity:75.46%|length:163|evalue:2.95e-93</td>\n      <td>Srivastava et al., EEB 2022</td>\n      <td>Genes whose regulation by LexA has been predic...</td>\n      <td>2.950000e-93</td>\n    </tr>\n    <tr>\n      <th>4</th>\n      <td>WP_250121206.1</td>\n      <td>WP_010994436.1,gene:psbV(all0259),locus_tag:PC...</td>\n      <td>all0259</td>\n      <td>identity:42.667%|length:75|evalue:5.97e-17</td>\n      <td>Srivastava et al., EEB 2022</td>\n      <td>Genes whose regulation by LexA has been predic...</td>\n      <td>5.970000e-17</td>\n    </tr>\n    <tr>\n      <th>...</th>\n      <td>...</td>\n      <td>...</td>\n      <td>...</td>\n      <td>...</td>\n      <td>...</td>\n      <td>...</td>\n      <td>...</td>\n    </tr>\n    <tr>\n      <th>202</th>\n      <td>WP_256478945.1</td>\n      <td>WP_010995215.1,gene:glpX(alr1041),locus_tag:PC...</td>\n      <td>alr1041</td>\n      <td>identity:34.0%|length:50|evalue:5.60e-02</td>\n      <td>Kumar et al., BBA 2018</td>\n      <td>Genes whose regulation by LexA has been predic...</td>\n      <td>5.600000e-02</td>\n    </tr>\n    <tr>\n      <th>203</th>\n      <td>WP_256478997.1</td>\n      <td>WP_010999438.1,gene:psaB(alr5314),locus_tag:PC...</td>\n      <td>alr5314</td>\n      <td>identity:33.333%|length:33|evalue:3.60e-01</td>\n      <td>Srivastava et al., EEB 2022</td>\n      <td>Genes whose regulation by LexA has been predic...</td>\n      <td>3.600000e-01</td>\n    </tr>\n    <tr>\n      <th>204</th>\n      <td>WP_275983378.1</td>\n      <td>WP_231865573.1,gene:(alr4267),locus_tag:PCC712...</td>\n      <td>alr4267</td>\n      <td>identity:54.545%|length:33|evalue:1.37e-08</td>\n      <td>Srivastava et al., BBA 2023</td>\n      <td>Genes whose regulation by LexA has been valida...</td>\n      <td>1.370000e-08</td>\n    </tr>\n    <tr>\n      <th>205</th>\n      <td>WP_275983382.1</td>\n      <td>WP_010994830.1,gene:(asr0654),locus_tag:PCC712...</td>\n      <td>asr0654</td>\n      <td>identity:77.273%|length:66|evalue:1.45e-34</td>\n      <td>Srivastava et al., EEB 2022</td>\n      <td>Genes whose regulation by LexA has been predic...</td>\n      <td>1.450000e-34</td>\n    </tr>\n    <tr>\n      <th>206</th>\n      <td>WP_275983385.1</td>\n      <td>WP_010995005.1,gene:(alr0831),locus_tag:PCC712...</td>\n      <td>alr0831</td>\n      <td>identity:69.444%|length:108|evalue:2.23e-51</td>\n      <td>Kumar et al., BBA 2018</td>\n      <td>Genes whose regulation by LexA has been predic...</td>\n      <td>2.230000e-51</td>\n    </tr>\n  </tbody>\n</table>\n<p>207 rows × 7 columns</p>\n</div>"
     },
     "execution_count": 9,
     "metadata": {},
     "output_type": "execute_result"
    }
   ],
   "source": [
    "#sort by e-values\n",
    "dfPCC7120[\"evalue\"]=dfPCC7120[\"score\"].str.extract(r\"evalue:(\\d+.\\d+e-\\d+)\")\n",
    "dfPCC7120[\"evalue\"]=dfPCC7120[\"evalue\"].astype(float)\n",
    "dfPCC7120"
   ],
   "metadata": {
    "collapsed": false,
    "ExecuteTime": {
     "end_time": "2024-05-13T12:19:03.060918Z",
     "start_time": "2024-05-13T12:19:03.049432Z"
    }
   },
   "id": "61436242d00c6146",
   "execution_count": 9
  },
  {
   "cell_type": "code",
   "outputs": [
    {
     "name": "stderr",
     "output_type": "stream",
     "text": [
      "/tmp/ipykernel_10118/1954096790.py:2: FutureWarning: A value is trying to be set on a copy of a DataFrame or Series through chained assignment using an inplace method.\n",
      "The behavior will change in pandas 3.0. This inplace method will never work because the intermediate object on which we are setting values always behaves as a copy.\n",
      "\n",
      "For example, when doing 'df[col].method(value, inplace=True)', try using 'df.method({col: value}, inplace=True)' or df[col] = df[col].method(value) instead, to perform the operation inplace on the original object.\n",
      "\n",
      "\n",
      "  dfPCC7120['evalue'].fillna(0, inplace=True)\n"
     ]
    },
    {
     "data": {
      "text/plain": "             qseqid                                             sseqid  \\\n167  WP_250125929.1  WP_010994182.1,gene:atpA(all0005),locus_tag:PC...   \n197  WP_250126590.1  WP_010994182.1,gene:atpA(all0005),locus_tag:PC...   \n168  WP_250125931.1  WP_010994184.1,gene:(all0007),locus_tag:PCC712...   \n169  WP_250125932.1  WP_010994185.1,gene:(all0008),locus_tag:PCC712...   \n170  WP_250125938.1  WP_010994197.1,gene:(alr0020),locus_tag:PCC712...   \n..              ...                                                ...   \n35   WP_250121759.1  WP_044522071.1,gene:(all4050),locus_tag:PCC712...   \n58   WP_250122411.1  WP_044522071.1,gene:(all4050),locus_tag:PCC712...   \n47   WP_250122203.1  WP_044522383.1,gene:(all4894),locus_tag:PCC712...   \n82   WP_250122982.1  WP_044522799.1,gene:psbU(alr1216),locus_tag:PC...   \n204  WP_275983378.1  WP_231865573.1,gene:(alr4267),locus_tag:PCC712...   \n\n    old_locus_tag                                         score  \\\n167       all0005   identity:84.493%|length:503|evalue:0.00e+00   \n197       all0005    identity:42.857%|length:28|evalue:2.20e-02   \n168       all0007   identity:64.865%|length:185|evalue:1.99e-63   \n169       all0008   identity:82.209%|length:163|evalue:6.41e-85   \n170       alr0020  identity:79.628%|length:1129|evalue:0.00e+00   \n..            ...                                           ...   \n35        all4050  identity:62.662%|length:308|evalue:2.98e-131   \n58        all4050    identity:46.13%|length:323|evalue:1.14e-91   \n47        all4894   identity:83.333%|length:132|evalue:6.18e-75   \n82        alr1216   identity:67.347%|length:147|evalue:1.43e-68   \n204       alr4267    identity:54.545%|length:33|evalue:1.37e-08   \n\n                              Reference  \\\n167  Srivastava et al., Plant Sci. 2023   \n197  Srivastava et al., Plant Sci. 2023   \n168         Srivastava et al., EEB 2022   \n169         Srivastava et al., EEB 2022   \n170              Kumar et al., BBA 2018   \n..                                  ...   \n35          Srivastava et al., BBA 2023   \n58          Srivastava et al., BBA 2023   \n47          Srivastava et al., BBA 2023   \n82          Srivastava et al., EEB 2022   \n204         Srivastava et al., BBA 2023   \n\n                                                  Note         evalue  \n167  Genes whose regulation by LexA has been valida...   0.000000e+00  \n197  Genes whose regulation by LexA has been valida...   2.200000e-02  \n168  Genes whose regulation by LexA has been predic...   1.990000e-63  \n169  Genes whose regulation by LexA has been predic...   6.410000e-85  \n170  Genes whose regulation by LexA has been valida...   0.000000e+00  \n..                                                 ...            ...  \n35   Genes whose regulation by LexA has been valida...  2.980000e-131  \n58   Genes whose regulation by LexA has been valida...   1.140000e-91  \n47   Genes whose regulation by LexA has been valida...   6.180000e-75  \n82   Genes whose regulation by LexA has been valida...   1.430000e-68  \n204  Genes whose regulation by LexA has been valida...   1.370000e-08  \n\n[207 rows x 7 columns]",
      "text/html": "<div>\n<style scoped>\n    .dataframe tbody tr th:only-of-type {\n        vertical-align: middle;\n    }\n\n    .dataframe tbody tr th {\n        vertical-align: top;\n    }\n\n    .dataframe thead th {\n        text-align: right;\n    }\n</style>\n<table border=\"1\" class=\"dataframe\">\n  <thead>\n    <tr style=\"text-align: right;\">\n      <th></th>\n      <th>qseqid</th>\n      <th>sseqid</th>\n      <th>old_locus_tag</th>\n      <th>score</th>\n      <th>Reference</th>\n      <th>Note</th>\n      <th>evalue</th>\n    </tr>\n  </thead>\n  <tbody>\n    <tr>\n      <th>167</th>\n      <td>WP_250125929.1</td>\n      <td>WP_010994182.1,gene:atpA(all0005),locus_tag:PC...</td>\n      <td>all0005</td>\n      <td>identity:84.493%|length:503|evalue:0.00e+00</td>\n      <td>Srivastava et al., Plant Sci. 2023</td>\n      <td>Genes whose regulation by LexA has been valida...</td>\n      <td>0.000000e+00</td>\n    </tr>\n    <tr>\n      <th>197</th>\n      <td>WP_250126590.1</td>\n      <td>WP_010994182.1,gene:atpA(all0005),locus_tag:PC...</td>\n      <td>all0005</td>\n      <td>identity:42.857%|length:28|evalue:2.20e-02</td>\n      <td>Srivastava et al., Plant Sci. 2023</td>\n      <td>Genes whose regulation by LexA has been valida...</td>\n      <td>2.200000e-02</td>\n    </tr>\n    <tr>\n      <th>168</th>\n      <td>WP_250125931.1</td>\n      <td>WP_010994184.1,gene:(all0007),locus_tag:PCC712...</td>\n      <td>all0007</td>\n      <td>identity:64.865%|length:185|evalue:1.99e-63</td>\n      <td>Srivastava et al., EEB 2022</td>\n      <td>Genes whose regulation by LexA has been predic...</td>\n      <td>1.990000e-63</td>\n    </tr>\n    <tr>\n      <th>169</th>\n      <td>WP_250125932.1</td>\n      <td>WP_010994185.1,gene:(all0008),locus_tag:PCC712...</td>\n      <td>all0008</td>\n      <td>identity:82.209%|length:163|evalue:6.41e-85</td>\n      <td>Srivastava et al., EEB 2022</td>\n      <td>Genes whose regulation by LexA has been predic...</td>\n      <td>6.410000e-85</td>\n    </tr>\n    <tr>\n      <th>170</th>\n      <td>WP_250125938.1</td>\n      <td>WP_010994197.1,gene:(alr0020),locus_tag:PCC712...</td>\n      <td>alr0020</td>\n      <td>identity:79.628%|length:1129|evalue:0.00e+00</td>\n      <td>Kumar et al., BBA 2018</td>\n      <td>Genes whose regulation by LexA has been valida...</td>\n      <td>0.000000e+00</td>\n    </tr>\n    <tr>\n      <th>...</th>\n      <td>...</td>\n      <td>...</td>\n      <td>...</td>\n      <td>...</td>\n      <td>...</td>\n      <td>...</td>\n      <td>...</td>\n    </tr>\n    <tr>\n      <th>35</th>\n      <td>WP_250121759.1</td>\n      <td>WP_044522071.1,gene:(all4050),locus_tag:PCC712...</td>\n      <td>all4050</td>\n      <td>identity:62.662%|length:308|evalue:2.98e-131</td>\n      <td>Srivastava et al., BBA 2023</td>\n      <td>Genes whose regulation by LexA has been valida...</td>\n      <td>2.980000e-131</td>\n    </tr>\n    <tr>\n      <th>58</th>\n      <td>WP_250122411.1</td>\n      <td>WP_044522071.1,gene:(all4050),locus_tag:PCC712...</td>\n      <td>all4050</td>\n      <td>identity:46.13%|length:323|evalue:1.14e-91</td>\n      <td>Srivastava et al., BBA 2023</td>\n      <td>Genes whose regulation by LexA has been valida...</td>\n      <td>1.140000e-91</td>\n    </tr>\n    <tr>\n      <th>47</th>\n      <td>WP_250122203.1</td>\n      <td>WP_044522383.1,gene:(all4894),locus_tag:PCC712...</td>\n      <td>all4894</td>\n      <td>identity:83.333%|length:132|evalue:6.18e-75</td>\n      <td>Srivastava et al., BBA 2023</td>\n      <td>Genes whose regulation by LexA has been valida...</td>\n      <td>6.180000e-75</td>\n    </tr>\n    <tr>\n      <th>82</th>\n      <td>WP_250122982.1</td>\n      <td>WP_044522799.1,gene:psbU(alr1216),locus_tag:PC...</td>\n      <td>alr1216</td>\n      <td>identity:67.347%|length:147|evalue:1.43e-68</td>\n      <td>Srivastava et al., EEB 2022</td>\n      <td>Genes whose regulation by LexA has been valida...</td>\n      <td>1.430000e-68</td>\n    </tr>\n    <tr>\n      <th>204</th>\n      <td>WP_275983378.1</td>\n      <td>WP_231865573.1,gene:(alr4267),locus_tag:PCC712...</td>\n      <td>alr4267</td>\n      <td>identity:54.545%|length:33|evalue:1.37e-08</td>\n      <td>Srivastava et al., BBA 2023</td>\n      <td>Genes whose regulation by LexA has been valida...</td>\n      <td>1.370000e-08</td>\n    </tr>\n  </tbody>\n</table>\n<p>207 rows × 7 columns</p>\n</div>"
     },
     "execution_count": 12,
     "metadata": {},
     "output_type": "execute_result"
    }
   ],
   "source": [
    "# Replace NaN values with a very small number\n",
    "dfPCC7120['evalue'].fillna(0, inplace=True)\n",
    "dfPCC7120=dfPCC7120.sort_values(by=[\"sseqid\",\"evalue\"],ascending=True)\n",
    "dfPCC7120"
   ],
   "metadata": {
    "collapsed": false,
    "ExecuteTime": {
     "end_time": "2024-05-13T12:22:38.848016Z",
     "start_time": "2024-05-13T12:22:38.834818Z"
    }
   },
   "id": "392916aab6df8248",
   "execution_count": 12
  },
  {
   "cell_type": "code",
   "outputs": [],
   "source": [],
   "metadata": {
    "collapsed": false
   },
   "id": "3d99387dafc8305c"
  }
 ],
 "metadata": {
  "kernelspec": {
   "display_name": "Python 3",
   "language": "python",
   "name": "python3"
  },
  "language_info": {
   "codemirror_mode": {
    "name": "ipython",
    "version": 2
   },
   "file_extension": ".py",
   "mimetype": "text/x-python",
   "name": "python",
   "nbconvert_exporter": "python",
   "pygments_lexer": "ipython2",
   "version": "2.7.6"
  }
 },
 "nbformat": 4,
 "nbformat_minor": 5
}
