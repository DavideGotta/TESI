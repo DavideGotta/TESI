{
 "cells": [
  {
   "cell_type": "code",
   "execution_count": 10,
   "id": "initial_id",
   "metadata": {
    "collapsed": true,
    "ExecuteTime": {
     "end_time": "2024-04-04T07:02:25.392159Z",
     "start_time": "2024-04-04T07:02:20.962875Z"
    }
   },
   "outputs": [
    {
     "name": "stdout",
     "output_type": "stream",
     "text": [
      "Numero di geni con il motivo a monte: 426\n",
      "Numero di geni senza il motivo a monte: 14364\n",
      "Numero di geni totale: 14790\n"
     ]
    },
    {
     "data": {
      "text/plain": "                                              GO term       p-value  \\\n12  GO:0006282 - regulation of DNA repair [Evidenc...  1.256269e-14   \n10           GO:0009432 - SOS response [Evidence IEA]  1.256269e-14   \n25       GO:0007623 - circadian rhythm [Evidence IEA]  5.366380e-10   \n26  GO:0046777 - protein autophosphorylation [Evid...  5.366380e-10   \n17  GO:0006793 - phosphorus metabolic process [Evi...  5.366380e-10   \n11  GO:0005978 - glycogen biosynthetic process [Ev...  4.304338e-08   \n14  GO:0006265 - DNA topological change [Evidence ...  6.140755e-08   \n18        GO:0006260 - DNA replication [Evidence IEA]  8.515331e-08   \n19  GO:0008295 - spermidine biosynthetic process [...  3.786026e-07   \n9       GO:0006310 - DNA recombination [Evidence IEA]  6.620199e-07   \n8              GO:0006281 - DNA repair [Evidence IEA]  2.614549e-06   \n24  GO:0009099 - valine biosynthetic process [Evid...  7.625413e-06   \n3   GO:0006289 - nucleotide-excision repair [Evide...  1.097345e-05   \n29  GO:0009116 - nucleoside metabolic process [Evi...  7.775877e-05   \n28  GO:0016117 - carotenoid biosynthetic process [...  1.211806e-04   \n7   GO:0006308 - DNA catabolic process [Evidence IEA]  1.216465e-04   \n13  GO:0006355 - regulation of DNA-templated trans...  2.148729e-04   \n23  GO:0009097 - isoleucine biosynthetic process [...  5.156742e-04   \n22  GO:0006465 - signal peptide processing [Eviden...  1.194486e-03   \n0   GO:0036211 - protein modification process [Evi...  2.652912e-03   \n15      GO:0006400 - tRNA modification [Evidence IEA]  9.217205e-03   \n21  GO:0018189 - pyrroloquinoline quinone biosynth...  1.028007e-02   \n1       GO:0009399 - nitrogen fixation [Evidence IEA]  1.658743e-02   \n27  GO:0005980 - glycogen catabolic process [Evide...  3.210490e-02   \n61  GO:0008652 - amino acid biosynthetic process [...  5.677876e-02   \n57   GO:0090529 - cell septum assembly [Evidence IEA]  8.395026e-02   \n4   GO:0015995 - chlorophyll biosynthetic process ...  1.078100e-01   \n16  GO:0051235 - maintenance of location [Evidence...  1.311583e-01   \n33  GO:0019264 - glycine biosynthetic process from...  1.850476e-01   \n37   GO:0032508 - DNA duplex unwinding [Evidence IEA]  2.085320e-01   \n20  GO:0019243 - methylglyoxal catabolic process t...  2.313411e-01   \n46  GO:0006419 - alanyl-tRNA aminoacylation [Evide...  2.313411e-01   \n41  GO:0009401 - phosphoenolpyruvate-dependent sug...  2.313411e-01   \n39  GO:0006529 - asparagine biosynthetic process [...  2.313411e-01   \n36  GO:0006799 - polyphosphate biosynthetic proces...  2.313411e-01   \n35        GO:0006298 - mismatch repair [Evidence IEA]  2.313411e-01   \n65  GO:0009240 - isopentenyl diphosphate biosynthe...  2.313411e-01   \n66  GO:0006420 - arginyl-tRNA aminoacylation [Evid...  2.313411e-01   \n67  GO:0006177 - GMP biosynthetic process [Evidenc...  2.313411e-01   \n51  GO:0051068 - dihydrolipoamide metabolic proces...  2.313411e-01   \n53  GO:0006423 - cysteinyl-tRNA aminoacylation [Ev...  2.534945e-01   \n62  GO:0009086 - methionine biosynthetic process [...  2.750108e-01   \n2   GO:0015940 - pantothenate biosynthetic process...  2.750108e-01   \n44  GO:0006790 - sulfur compound metabolic process...  2.959084e-01   \n56  GO:0009228 - thiamine biosynthetic process [Ev...  3.630762e-01   \n32  GO:0009220 - pyrimidine ribonucleotide biosynt...  4.092596e-01   \n64  GO:0008615 - pyridoxine biosynthetic process [...  4.092596e-01   \n40  GO:0006808 - regulation of nitrogen utilizatio...  4.092596e-01   \n59  GO:0002098 - tRNA wobble uridine modification ...  4.092596e-01   \n6         GO:0006094 - gluconeogenesis [Evidence IEA]  4.092596e-01   \n48  GO:0042450 - arginine biosynthetic process via...  4.092596e-01   \n68  GO:0008360 - regulation of cell shape [Evidenc...  4.262956e-01   \n54          GO:0051301 - cell division [Evidence IEA]  4.745184e-01   \n30  GO:0009088 - threonine biosynthetic process [E...  5.460699e-01   \n63  GO:0006592 - ornithine biosynthetic process [E...  5.460699e-01   \n42  GO:0006424 - glutamyl-tRNA aminoacylation [Evi...  5.460699e-01   \n50  GO:0045454 - cell redox homeostasis [Evidence ...  5.718900e-01   \n5             GO:0006412 - translation [Evidence IEA]  5.850421e-01   \n55  GO:0009102 - biotin biosynthetic process [Evid...  6.512530e-01   \n52  GO:0006750 - glutathione biosynthetic process ...  7.546635e-01   \n60        GO:0008033 - tRNA processing [Evidence IEA]  7.753247e-01   \n45            GO:0006508 - proteolysis [Evidence IEA]  7.830018e-01   \n38  GO:0006189 - 'de novo' IMP biosynthetic proces...  7.881249e-01   \n43  GO:0006779 - porphyrin-containing compound bio...  7.942496e-01   \n49     GO:0006096 - glycolytic process [Evidence IEA]  8.465731e-01   \n58  GO:0000105 - histidine biosynthetic process [E...  8.553218e-01   \n34  GO:0006633 - fatty acid biosynthetic process [...  8.675204e-01   \n31         GO:0015979 - photosynthesis [Evidence IEA]  9.147373e-01   \n47        GO:0006457 - protein folding [Evidence IEA]  9.285260e-01   \n\n   enrichment                                   Genes with Motif  \n12   positive  lexA, lexA, lexA, lexA, lexA, lexA, lexA, lexA...  \n10   positive  recA, recA, recA, recA, recA, recA, recA, recA...  \n25   positive           kaiC, kaiC, kaiC, kaiC, kaiC, kaiC, kaiC  \n26   positive           kaiC, kaiC, kaiC, kaiC, kaiC, kaiC, kaiC  \n17   positive           ppk2, ppk2, ppk2, ppk2, ppk2, ppk2, ppk2  \n11   positive                 glgB, glgB, glgB, glgB, glgB, glgB  \n14   positive  gyrB, gyrB, gyrB, gyrB, gyrB, topA, gyrB, topA...  \n18   positive  sbcC, sbcC, ligA, holA, priA, ligA, sbcC, ligA...  \n19   positive           speB, speB, speB, speB, speB, speB, speB  \n9    positive  recA, sbcC, recA, sbcC, recA, recA, recA, sbcC...  \n8    positive  recA, recA, ligA, recA, nfi, recA, ligA, recA,...  \n24   positive                 ilvB, ilvB, ilvB, ilvB, ilvB, ilvB  \n3    positive           uvrB, uvrB, uvrB, uvrB, uvrB, uvrB, uvrB  \n29   positive                       upp, upp, upp, upp, upp, upp  \n28   positive                 crtH, crtH, crtH, crtH, crtH, crtH  \n7    positive                       xseA, xseA, xseA, xseA, xseA  \n13   positive  lexA, lexA, lexA, rppA, lexA, lexA, lexA, lexA...  \n23   positive                 ilvB, ilvB, ilvB, ilvB, ilvB, ilvB  \n22   positive           sppA, sppA, sppA, sppA, sppA, sppA, sppA  \n0    positive             def, def, def, def, def, def, def, def  \n15   positive     miaA, miaA, miaA, miaA, miaA, miaA, miaB, miaA  \n21   positive                             pqqA, pqqA, pqqA, pqqA  \n1    positive                       nifB, nifB, nifB, nifB, nifB  \n27   positive                             malQ, malQ, malQ, malQ  \n61   positive                                               metE  \n57   positive                                               sepF  \n4    positive                             bchB, bchB, bchB, bchB  \n16   positive                                         cphA, cphA  \n33   positive                                               glyA  \n37   positive                                               priA  \n20   positive                                               gloB  \n46   positive                                               alaS  \n41   positive                                               ptsP  \n39   positive                                               asnB  \n36   positive                                               ppk1  \n35   positive                                               mutS  \n65   positive                                                dxs  \n66   positive                                               argS  \n67   positive                                               guaA  \n51   positive                                               lpdA  \n53   positive                                               cysS  \n62   positive                                               metE  \n2    positive                                               panB  \n44   positive                                               cysC  \n56   positive                                          thiD, dxs  \n32   positive                                               pyrE  \n64   positive                                                dxs  \n40   positive                                               ptsP  \n59   positive                                               mnmG  \n6    positive                                               glpX  \n48   positive                                               argH  \n68   positive                                               rodA  \n54   positive                                               ftsH  \n30   positive                                               thrC  \n63   positive                                               argB  \n42   positive                                               gltX  \n50   positive                                               lpdA  \n5    negative  rplJ, rplI, rplJ, rpmJ, rplJ, rplJ, rplI, rplJ...  \n55   negative                                               bioA  \n52   negative                                                ggt  \n60   negative                                               mnmG  \n45   negative                                          aat, ftsH  \n38   negative                                               larB  \n43   negative                                               hemW  \n49   negative                                               lpdA  \n58   negative                                               hisD  \n34   negative                                               accC  \n31   negative                                              psbV2  \n47   negative                                               hslO  ",
      "text/html": "<div>\n<style scoped>\n    .dataframe tbody tr th:only-of-type {\n        vertical-align: middle;\n    }\n\n    .dataframe tbody tr th {\n        vertical-align: top;\n    }\n\n    .dataframe thead th {\n        text-align: right;\n    }\n</style>\n<table border=\"1\" class=\"dataframe\">\n  <thead>\n    <tr style=\"text-align: right;\">\n      <th></th>\n      <th>GO term</th>\n      <th>p-value</th>\n      <th>enrichment</th>\n      <th>Genes with Motif</th>\n    </tr>\n  </thead>\n  <tbody>\n    <tr>\n      <th>12</th>\n      <td>GO:0006282 - regulation of DNA repair [Evidenc...</td>\n      <td>1.256269e-14</td>\n      <td>positive</td>\n      <td>lexA, lexA, lexA, lexA, lexA, lexA, lexA, lexA...</td>\n    </tr>\n    <tr>\n      <th>10</th>\n      <td>GO:0009432 - SOS response [Evidence IEA]</td>\n      <td>1.256269e-14</td>\n      <td>positive</td>\n      <td>recA, recA, recA, recA, recA, recA, recA, recA...</td>\n    </tr>\n    <tr>\n      <th>25</th>\n      <td>GO:0007623 - circadian rhythm [Evidence IEA]</td>\n      <td>5.366380e-10</td>\n      <td>positive</td>\n      <td>kaiC, kaiC, kaiC, kaiC, kaiC, kaiC, kaiC</td>\n    </tr>\n    <tr>\n      <th>26</th>\n      <td>GO:0046777 - protein autophosphorylation [Evid...</td>\n      <td>5.366380e-10</td>\n      <td>positive</td>\n      <td>kaiC, kaiC, kaiC, kaiC, kaiC, kaiC, kaiC</td>\n    </tr>\n    <tr>\n      <th>17</th>\n      <td>GO:0006793 - phosphorus metabolic process [Evi...</td>\n      <td>5.366380e-10</td>\n      <td>positive</td>\n      <td>ppk2, ppk2, ppk2, ppk2, ppk2, ppk2, ppk2</td>\n    </tr>\n    <tr>\n      <th>11</th>\n      <td>GO:0005978 - glycogen biosynthetic process [Ev...</td>\n      <td>4.304338e-08</td>\n      <td>positive</td>\n      <td>glgB, glgB, glgB, glgB, glgB, glgB</td>\n    </tr>\n    <tr>\n      <th>14</th>\n      <td>GO:0006265 - DNA topological change [Evidence ...</td>\n      <td>6.140755e-08</td>\n      <td>positive</td>\n      <td>gyrB, gyrB, gyrB, gyrB, gyrB, topA, gyrB, topA...</td>\n    </tr>\n    <tr>\n      <th>18</th>\n      <td>GO:0006260 - DNA replication [Evidence IEA]</td>\n      <td>8.515331e-08</td>\n      <td>positive</td>\n      <td>sbcC, sbcC, ligA, holA, priA, ligA, sbcC, ligA...</td>\n    </tr>\n    <tr>\n      <th>19</th>\n      <td>GO:0008295 - spermidine biosynthetic process [...</td>\n      <td>3.786026e-07</td>\n      <td>positive</td>\n      <td>speB, speB, speB, speB, speB, speB, speB</td>\n    </tr>\n    <tr>\n      <th>9</th>\n      <td>GO:0006310 - DNA recombination [Evidence IEA]</td>\n      <td>6.620199e-07</td>\n      <td>positive</td>\n      <td>recA, sbcC, recA, sbcC, recA, recA, recA, sbcC...</td>\n    </tr>\n    <tr>\n      <th>8</th>\n      <td>GO:0006281 - DNA repair [Evidence IEA]</td>\n      <td>2.614549e-06</td>\n      <td>positive</td>\n      <td>recA, recA, ligA, recA, nfi, recA, ligA, recA,...</td>\n    </tr>\n    <tr>\n      <th>24</th>\n      <td>GO:0009099 - valine biosynthetic process [Evid...</td>\n      <td>7.625413e-06</td>\n      <td>positive</td>\n      <td>ilvB, ilvB, ilvB, ilvB, ilvB, ilvB</td>\n    </tr>\n    <tr>\n      <th>3</th>\n      <td>GO:0006289 - nucleotide-excision repair [Evide...</td>\n      <td>1.097345e-05</td>\n      <td>positive</td>\n      <td>uvrB, uvrB, uvrB, uvrB, uvrB, uvrB, uvrB</td>\n    </tr>\n    <tr>\n      <th>29</th>\n      <td>GO:0009116 - nucleoside metabolic process [Evi...</td>\n      <td>7.775877e-05</td>\n      <td>positive</td>\n      <td>upp, upp, upp, upp, upp, upp</td>\n    </tr>\n    <tr>\n      <th>28</th>\n      <td>GO:0016117 - carotenoid biosynthetic process [...</td>\n      <td>1.211806e-04</td>\n      <td>positive</td>\n      <td>crtH, crtH, crtH, crtH, crtH, crtH</td>\n    </tr>\n    <tr>\n      <th>7</th>\n      <td>GO:0006308 - DNA catabolic process [Evidence IEA]</td>\n      <td>1.216465e-04</td>\n      <td>positive</td>\n      <td>xseA, xseA, xseA, xseA, xseA</td>\n    </tr>\n    <tr>\n      <th>13</th>\n      <td>GO:0006355 - regulation of DNA-templated trans...</td>\n      <td>2.148729e-04</td>\n      <td>positive</td>\n      <td>lexA, lexA, lexA, rppA, lexA, lexA, lexA, lexA...</td>\n    </tr>\n    <tr>\n      <th>23</th>\n      <td>GO:0009097 - isoleucine biosynthetic process [...</td>\n      <td>5.156742e-04</td>\n      <td>positive</td>\n      <td>ilvB, ilvB, ilvB, ilvB, ilvB, ilvB</td>\n    </tr>\n    <tr>\n      <th>22</th>\n      <td>GO:0006465 - signal peptide processing [Eviden...</td>\n      <td>1.194486e-03</td>\n      <td>positive</td>\n      <td>sppA, sppA, sppA, sppA, sppA, sppA, sppA</td>\n    </tr>\n    <tr>\n      <th>0</th>\n      <td>GO:0036211 - protein modification process [Evi...</td>\n      <td>2.652912e-03</td>\n      <td>positive</td>\n      <td>def, def, def, def, def, def, def, def</td>\n    </tr>\n    <tr>\n      <th>15</th>\n      <td>GO:0006400 - tRNA modification [Evidence IEA]</td>\n      <td>9.217205e-03</td>\n      <td>positive</td>\n      <td>miaA, miaA, miaA, miaA, miaA, miaA, miaB, miaA</td>\n    </tr>\n    <tr>\n      <th>21</th>\n      <td>GO:0018189 - pyrroloquinoline quinone biosynth...</td>\n      <td>1.028007e-02</td>\n      <td>positive</td>\n      <td>pqqA, pqqA, pqqA, pqqA</td>\n    </tr>\n    <tr>\n      <th>1</th>\n      <td>GO:0009399 - nitrogen fixation [Evidence IEA]</td>\n      <td>1.658743e-02</td>\n      <td>positive</td>\n      <td>nifB, nifB, nifB, nifB, nifB</td>\n    </tr>\n    <tr>\n      <th>27</th>\n      <td>GO:0005980 - glycogen catabolic process [Evide...</td>\n      <td>3.210490e-02</td>\n      <td>positive</td>\n      <td>malQ, malQ, malQ, malQ</td>\n    </tr>\n    <tr>\n      <th>61</th>\n      <td>GO:0008652 - amino acid biosynthetic process [...</td>\n      <td>5.677876e-02</td>\n      <td>positive</td>\n      <td>metE</td>\n    </tr>\n    <tr>\n      <th>57</th>\n      <td>GO:0090529 - cell septum assembly [Evidence IEA]</td>\n      <td>8.395026e-02</td>\n      <td>positive</td>\n      <td>sepF</td>\n    </tr>\n    <tr>\n      <th>4</th>\n      <td>GO:0015995 - chlorophyll biosynthetic process ...</td>\n      <td>1.078100e-01</td>\n      <td>positive</td>\n      <td>bchB, bchB, bchB, bchB</td>\n    </tr>\n    <tr>\n      <th>16</th>\n      <td>GO:0051235 - maintenance of location [Evidence...</td>\n      <td>1.311583e-01</td>\n      <td>positive</td>\n      <td>cphA, cphA</td>\n    </tr>\n    <tr>\n      <th>33</th>\n      <td>GO:0019264 - glycine biosynthetic process from...</td>\n      <td>1.850476e-01</td>\n      <td>positive</td>\n      <td>glyA</td>\n    </tr>\n    <tr>\n      <th>37</th>\n      <td>GO:0032508 - DNA duplex unwinding [Evidence IEA]</td>\n      <td>2.085320e-01</td>\n      <td>positive</td>\n      <td>priA</td>\n    </tr>\n    <tr>\n      <th>20</th>\n      <td>GO:0019243 - methylglyoxal catabolic process t...</td>\n      <td>2.313411e-01</td>\n      <td>positive</td>\n      <td>gloB</td>\n    </tr>\n    <tr>\n      <th>46</th>\n      <td>GO:0006419 - alanyl-tRNA aminoacylation [Evide...</td>\n      <td>2.313411e-01</td>\n      <td>positive</td>\n      <td>alaS</td>\n    </tr>\n    <tr>\n      <th>41</th>\n      <td>GO:0009401 - phosphoenolpyruvate-dependent sug...</td>\n      <td>2.313411e-01</td>\n      <td>positive</td>\n      <td>ptsP</td>\n    </tr>\n    <tr>\n      <th>39</th>\n      <td>GO:0006529 - asparagine biosynthetic process [...</td>\n      <td>2.313411e-01</td>\n      <td>positive</td>\n      <td>asnB</td>\n    </tr>\n    <tr>\n      <th>36</th>\n      <td>GO:0006799 - polyphosphate biosynthetic proces...</td>\n      <td>2.313411e-01</td>\n      <td>positive</td>\n      <td>ppk1</td>\n    </tr>\n    <tr>\n      <th>35</th>\n      <td>GO:0006298 - mismatch repair [Evidence IEA]</td>\n      <td>2.313411e-01</td>\n      <td>positive</td>\n      <td>mutS</td>\n    </tr>\n    <tr>\n      <th>65</th>\n      <td>GO:0009240 - isopentenyl diphosphate biosynthe...</td>\n      <td>2.313411e-01</td>\n      <td>positive</td>\n      <td>dxs</td>\n    </tr>\n    <tr>\n      <th>66</th>\n      <td>GO:0006420 - arginyl-tRNA aminoacylation [Evid...</td>\n      <td>2.313411e-01</td>\n      <td>positive</td>\n      <td>argS</td>\n    </tr>\n    <tr>\n      <th>67</th>\n      <td>GO:0006177 - GMP biosynthetic process [Evidenc...</td>\n      <td>2.313411e-01</td>\n      <td>positive</td>\n      <td>guaA</td>\n    </tr>\n    <tr>\n      <th>51</th>\n      <td>GO:0051068 - dihydrolipoamide metabolic proces...</td>\n      <td>2.313411e-01</td>\n      <td>positive</td>\n      <td>lpdA</td>\n    </tr>\n    <tr>\n      <th>53</th>\n      <td>GO:0006423 - cysteinyl-tRNA aminoacylation [Ev...</td>\n      <td>2.534945e-01</td>\n      <td>positive</td>\n      <td>cysS</td>\n    </tr>\n    <tr>\n      <th>62</th>\n      <td>GO:0009086 - methionine biosynthetic process [...</td>\n      <td>2.750108e-01</td>\n      <td>positive</td>\n      <td>metE</td>\n    </tr>\n    <tr>\n      <th>2</th>\n      <td>GO:0015940 - pantothenate biosynthetic process...</td>\n      <td>2.750108e-01</td>\n      <td>positive</td>\n      <td>panB</td>\n    </tr>\n    <tr>\n      <th>44</th>\n      <td>GO:0006790 - sulfur compound metabolic process...</td>\n      <td>2.959084e-01</td>\n      <td>positive</td>\n      <td>cysC</td>\n    </tr>\n    <tr>\n      <th>56</th>\n      <td>GO:0009228 - thiamine biosynthetic process [Ev...</td>\n      <td>3.630762e-01</td>\n      <td>positive</td>\n      <td>thiD, dxs</td>\n    </tr>\n    <tr>\n      <th>32</th>\n      <td>GO:0009220 - pyrimidine ribonucleotide biosynt...</td>\n      <td>4.092596e-01</td>\n      <td>positive</td>\n      <td>pyrE</td>\n    </tr>\n    <tr>\n      <th>64</th>\n      <td>GO:0008615 - pyridoxine biosynthetic process [...</td>\n      <td>4.092596e-01</td>\n      <td>positive</td>\n      <td>dxs</td>\n    </tr>\n    <tr>\n      <th>40</th>\n      <td>GO:0006808 - regulation of nitrogen utilizatio...</td>\n      <td>4.092596e-01</td>\n      <td>positive</td>\n      <td>ptsP</td>\n    </tr>\n    <tr>\n      <th>59</th>\n      <td>GO:0002098 - tRNA wobble uridine modification ...</td>\n      <td>4.092596e-01</td>\n      <td>positive</td>\n      <td>mnmG</td>\n    </tr>\n    <tr>\n      <th>6</th>\n      <td>GO:0006094 - gluconeogenesis [Evidence IEA]</td>\n      <td>4.092596e-01</td>\n      <td>positive</td>\n      <td>glpX</td>\n    </tr>\n    <tr>\n      <th>48</th>\n      <td>GO:0042450 - arginine biosynthetic process via...</td>\n      <td>4.092596e-01</td>\n      <td>positive</td>\n      <td>argH</td>\n    </tr>\n    <tr>\n      <th>68</th>\n      <td>GO:0008360 - regulation of cell shape [Evidenc...</td>\n      <td>4.262956e-01</td>\n      <td>positive</td>\n      <td>rodA</td>\n    </tr>\n    <tr>\n      <th>54</th>\n      <td>GO:0051301 - cell division [Evidence IEA]</td>\n      <td>4.745184e-01</td>\n      <td>positive</td>\n      <td>ftsH</td>\n    </tr>\n    <tr>\n      <th>30</th>\n      <td>GO:0009088 - threonine biosynthetic process [E...</td>\n      <td>5.460699e-01</td>\n      <td>positive</td>\n      <td>thrC</td>\n    </tr>\n    <tr>\n      <th>63</th>\n      <td>GO:0006592 - ornithine biosynthetic process [E...</td>\n      <td>5.460699e-01</td>\n      <td>positive</td>\n      <td>argB</td>\n    </tr>\n    <tr>\n      <th>42</th>\n      <td>GO:0006424 - glutamyl-tRNA aminoacylation [Evi...</td>\n      <td>5.460699e-01</td>\n      <td>positive</td>\n      <td>gltX</td>\n    </tr>\n    <tr>\n      <th>50</th>\n      <td>GO:0045454 - cell redox homeostasis [Evidence ...</td>\n      <td>5.718900e-01</td>\n      <td>positive</td>\n      <td>lpdA</td>\n    </tr>\n    <tr>\n      <th>5</th>\n      <td>GO:0006412 - translation [Evidence IEA]</td>\n      <td>5.850421e-01</td>\n      <td>negative</td>\n      <td>rplJ, rplI, rplJ, rpmJ, rplJ, rplJ, rplI, rplJ...</td>\n    </tr>\n    <tr>\n      <th>55</th>\n      <td>GO:0009102 - biotin biosynthetic process [Evid...</td>\n      <td>6.512530e-01</td>\n      <td>negative</td>\n      <td>bioA</td>\n    </tr>\n    <tr>\n      <th>52</th>\n      <td>GO:0006750 - glutathione biosynthetic process ...</td>\n      <td>7.546635e-01</td>\n      <td>negative</td>\n      <td>ggt</td>\n    </tr>\n    <tr>\n      <th>60</th>\n      <td>GO:0008033 - tRNA processing [Evidence IEA]</td>\n      <td>7.753247e-01</td>\n      <td>negative</td>\n      <td>mnmG</td>\n    </tr>\n    <tr>\n      <th>45</th>\n      <td>GO:0006508 - proteolysis [Evidence IEA]</td>\n      <td>7.830018e-01</td>\n      <td>negative</td>\n      <td>aat, ftsH</td>\n    </tr>\n    <tr>\n      <th>38</th>\n      <td>GO:0006189 - 'de novo' IMP biosynthetic proces...</td>\n      <td>7.881249e-01</td>\n      <td>negative</td>\n      <td>larB</td>\n    </tr>\n    <tr>\n      <th>43</th>\n      <td>GO:0006779 - porphyrin-containing compound bio...</td>\n      <td>7.942496e-01</td>\n      <td>negative</td>\n      <td>hemW</td>\n    </tr>\n    <tr>\n      <th>49</th>\n      <td>GO:0006096 - glycolytic process [Evidence IEA]</td>\n      <td>8.465731e-01</td>\n      <td>negative</td>\n      <td>lpdA</td>\n    </tr>\n    <tr>\n      <th>58</th>\n      <td>GO:0000105 - histidine biosynthetic process [E...</td>\n      <td>8.553218e-01</td>\n      <td>negative</td>\n      <td>hisD</td>\n    </tr>\n    <tr>\n      <th>34</th>\n      <td>GO:0006633 - fatty acid biosynthetic process [...</td>\n      <td>8.675204e-01</td>\n      <td>negative</td>\n      <td>accC</td>\n    </tr>\n    <tr>\n      <th>31</th>\n      <td>GO:0015979 - photosynthesis [Evidence IEA]</td>\n      <td>9.147373e-01</td>\n      <td>negative</td>\n      <td>psbV2</td>\n    </tr>\n    <tr>\n      <th>47</th>\n      <td>GO:0006457 - protein folding [Evidence IEA]</td>\n      <td>9.285260e-01</td>\n      <td>negative</td>\n      <td>hslO</td>\n    </tr>\n  </tbody>\n</table>\n</div>"
     },
     "execution_count": 10,
     "metadata": {},
     "output_type": "execute_result"
    }
   ],
   "source": [
    "fimo_best=\"best_site.narrowPeak\"\n",
    "genbank_dir = \"annotati_Refseq\"\n",
    "import os\n",
    "import re\n",
    "from Bio import SeqIO\n",
    "from collections import Counter\n",
    "from scipy.stats import hypergeom\n",
    "import pandas as pd\n",
    "diz={\n",
    "    'C7Y66' : 'Chroococcidiopsis_sp._CCALA_051_(cyanobacteria)_GCF_003015105.gbff' ,\n",
    "    'M5J74' : 'Chroococcidiopsis_sp._CCNUC1_(cyanobacteria)_GCF_023546805.gbff' ,\n",
    "    'B1A85' : 'Chroococcidiopsis_sp._TS-821_(cyanobacteria)_GCF_002939305.gbff' ,\n",
    "    'C7B79' : 'Chroococcidiopsis_cubana_CCALA_043_(cyanobacteria)_GCF_003003835.gbff' ,\n",
    "    'CHRO' : 'Chroococcidiopsis_thermalis_PCC_7203_(cyanobacteria)_GCF_000317125.gbff' ,\n",
    "    'CLLPBCKN' : 'Chroococcidiopsis_cubana_SAG_39.79_(cyanobacteria)_GCF_034438355.1.gbff' ,\n",
    "    'LAU37' : 'Chroococcidiopsis_sp._CCMEE_29_(cyanobacteria)_GCF_023558375.gbff' ,\n",
    "    'N4J56' : 'Chroococcidiopsis_sp._SAG_2025_(cyanobacteria)_GCF_032860985.gbff' ,\n",
    "    'H6G17' : 'Chroococcidiopsis_sp._[FACHB-1243]_(cyanobacteria)_GCF_014696895.gbff' ,\n",
    "}\n",
    "with open(fimo_best,\"r\") as f:\n",
    "    content=f.readlines()\n",
    "names = [line.split()[0] for line in content]\n",
    "GOs = []\n",
    "GOs_background = []\n",
    "go_to_genes = {}\n",
    "i,j=0,0\n",
    "for file2 in os.listdir(genbank_dir):\n",
    "    genoma = SeqIO.parse(os.path.join(genbank_dir,file2), \"genbank\")\n",
    "    for seq in genoma:\n",
    "        for record in seq.features:\n",
    "            if \"gene\" in record.qualifiers:\n",
    "                gene=record.qualifiers[\"gene\"][0]\n",
    "                \n",
    "                if record.qualifiers[\"locus_tag\"][0] in names:\n",
    "                    i+=1\n",
    "                    go_terms = record.qualifiers.get(\"GO_process\", [\"None\"])\n",
    "                    #print(type(go_terms))\n",
    "                    for go_term in go_terms:\n",
    "                        if go_term != \"None\":\n",
    "                            GOs.append(go_term)\n",
    "                            # If the GO term is already in the dictionary, append the gene to its list\n",
    "                            if go_term in go_to_genes:\n",
    "                                go_to_genes[go_term].append(gene)\n",
    "                            # If the GO term is not in the dictionary, add it with the gene as its first list item\n",
    "                            else:\n",
    "                                go_to_genes[go_term] = [gene]\n",
    "                else:\n",
    "                    j+=1\n",
    "                    GOs_background.append([*record.qualifiers.get(\"GO_process\", [\"None\"])])\n",
    "\n",
    "\n",
    "GOs = [item for item in GOs if item != \"None\"]\n",
    "GOs_background = [item for sublist in GOs_background for item in sublist if item != \"None\"]\n",
    "GOs=Counter(GOs)\n",
    "GOs_background=Counter(GOs_background)\n",
    "#use hypergeometric test to calculate p-value\n",
    "#M = total number of genes\n",
    "#n = number of genes with the motif\n",
    "#N = total number of genes with the GO term\n",
    "#x = number of genes with the GO term\n",
    "M = i+j\n",
    "n = i\n",
    "p_values = {}\n",
    "enrichments = {}\n",
    "for go in GOs:\n",
    "    N = GOs_background[go]+GOs[go]\n",
    "    x = GOs[go]\n",
    "    enrichments[go] = (x/n)/(N/M)\n",
    "    enrichments[go] = 'positive' if enrichments[go]>1 else 'negative'\n",
    "    p_values[go] = hypergeom.sf(x-1, M, N, n)\n",
    "    #uso distribuzione ipergeometrica per calcolare p-values\n",
    "df = pd.DataFrame(list(p_values.items()), columns=['GO term', 'p-value'])\n",
    "df['enrichment'] = df['GO term'].map(enrichments)\n",
    "# Convert the lists of genes to strings for easier viewing in the DataFrame\n",
    "for go_term, genes in go_to_genes.items():\n",
    "    go_to_genes[go_term] = ', '.join(genes)\n",
    "\n",
    "# Add a new column to the DataFrame with the names of genes associated with each GO term\n",
    "df['Genes with Motif'] = df['GO term'].map(go_to_genes)\n",
    "df = df.sort_values(by='p-value', ascending=True)\n",
    "pd.set_option('display.max_rows', df.shape[0]+1)\n",
    "print(f\"Numero di geni con il motivo a monte: {n}\")\n",
    "print(f\"Numero di geni senza il motivo a monte: {j}\")\n",
    "print(f\"Numero di geni totale: {M}\")\n",
    "df"
   ]
  },
  {
   "cell_type": "code",
   "outputs": [],
   "source": [],
   "metadata": {
    "collapsed": false,
    "ExecuteTime": {
     "end_time": "2024-04-04T06:28:58.180317Z",
     "start_time": "2024-04-04T06:28:58.178715Z"
    }
   },
   "id": "4fffae59fbfe540d",
   "execution_count": 2
  },
  {
   "cell_type": "code",
   "outputs": [],
   "source": [],
   "metadata": {
    "collapsed": false
   },
   "id": "a1749e43f4dd073a"
  }
 ],
 "metadata": {
  "kernelspec": {
   "display_name": "Python 3",
   "language": "python",
   "name": "python3"
  },
  "language_info": {
   "codemirror_mode": {
    "name": "ipython",
    "version": 2
   },
   "file_extension": ".py",
   "mimetype": "text/x-python",
   "name": "python",
   "nbconvert_exporter": "python",
   "pygments_lexer": "ipython2",
   "version": "2.7.6"
  }
 },
 "nbformat": 4,
 "nbformat_minor": 5
}
