{
 "cells": [
  {
   "cell_type": "code",
   "execution_count": 13,
   "id": "initial_id",
   "metadata": {
    "collapsed": true,
    "ExecuteTime": {
     "end_time": "2024-04-04T07:19:21.748380Z",
     "start_time": "2024-04-04T07:19:21.746549Z"
    }
   },
   "outputs": [],
   "source": [
    "eggnog=\"eggnog/test_Chroococcidiopsis_sp._CCMEE_29_(cyanobacteria)_GCF_023558375.1.faa.emapper.annotations\"\n",
    "interpro=\"interpro/Chroococcidiopsis_sp._CCMEE_29_(cyanobacteria)_GCF_023558375.1.faa.tsv\"\n",
    "refseq=\"annotati_Refseq/Chroococcidiopsis_sp._CCMEE_29_(cyanobacteria)_GCF_023558375.gbff\""
   ]
  },
  {
   "cell_type": "code",
   "outputs": [
    {
     "data": {
      "text/plain": "                                                       GOs_eggnog  ko_eggnog\nprotein_id                                                                  \nWP_009632395.1                                                  -  ko:K04751\nWP_041548398.1  GO:0003674,GO:0005488,GO:0005575,GO:0005622,GO...  ko:K02518\nWP_073591590.1                                                  -  ko:K08696\nWP_190736661.1                                                  -          -\nWP_250121152.1                                                  -          -\n...                                                           ...        ...\nWP_275983393.1                                                  -          -\nWP_275983394.1  GO:0003674,GO:0005488,GO:0005515,GO:0005575,GO...  ko:K02708\nWP_275983395.1                                                  -  ko:K02003\nWP_275983396.1                                                  -  ko:K21498\nWP_275983398.1                              GO:0005575,GO:0005576  ko:K14645\n\n[5415 rows x 2 columns]",
      "text/html": "<div>\n<style scoped>\n    .dataframe tbody tr th:only-of-type {\n        vertical-align: middle;\n    }\n\n    .dataframe tbody tr th {\n        vertical-align: top;\n    }\n\n    .dataframe thead th {\n        text-align: right;\n    }\n</style>\n<table border=\"1\" class=\"dataframe\">\n  <thead>\n    <tr style=\"text-align: right;\">\n      <th></th>\n      <th>GOs_eggnog</th>\n      <th>ko_eggnog</th>\n    </tr>\n    <tr>\n      <th>protein_id</th>\n      <th></th>\n      <th></th>\n    </tr>\n  </thead>\n  <tbody>\n    <tr>\n      <th>WP_009632395.1</th>\n      <td>-</td>\n      <td>ko:K04751</td>\n    </tr>\n    <tr>\n      <th>WP_041548398.1</th>\n      <td>GO:0003674,GO:0005488,GO:0005575,GO:0005622,GO...</td>\n      <td>ko:K02518</td>\n    </tr>\n    <tr>\n      <th>WP_073591590.1</th>\n      <td>-</td>\n      <td>ko:K08696</td>\n    </tr>\n    <tr>\n      <th>WP_190736661.1</th>\n      <td>-</td>\n      <td>-</td>\n    </tr>\n    <tr>\n      <th>WP_250121152.1</th>\n      <td>-</td>\n      <td>-</td>\n    </tr>\n    <tr>\n      <th>...</th>\n      <td>...</td>\n      <td>...</td>\n    </tr>\n    <tr>\n      <th>WP_275983393.1</th>\n      <td>-</td>\n      <td>-</td>\n    </tr>\n    <tr>\n      <th>WP_275983394.1</th>\n      <td>GO:0003674,GO:0005488,GO:0005515,GO:0005575,GO...</td>\n      <td>ko:K02708</td>\n    </tr>\n    <tr>\n      <th>WP_275983395.1</th>\n      <td>-</td>\n      <td>ko:K02003</td>\n    </tr>\n    <tr>\n      <th>WP_275983396.1</th>\n      <td>-</td>\n      <td>ko:K21498</td>\n    </tr>\n    <tr>\n      <th>WP_275983398.1</th>\n      <td>GO:0005575,GO:0005576</td>\n      <td>ko:K14645</td>\n    </tr>\n  </tbody>\n</table>\n<p>5415 rows × 2 columns</p>\n</div>"
     },
     "execution_count": 41,
     "metadata": {},
     "output_type": "execute_result"
    }
   ],
   "source": [
    "import pandas as pd\n",
    "eggnog_df = pd.read_csv(eggnog, sep='\\t', header=4,skipfooter=3, engine='python')\n",
    "eggnog_df\n",
    "#new dataframe with only columns #query,GOs,KEGG_ko\n",
    "eggnog_df = eggnog_df[['#query', 'GOs', 'KEGG_ko']]\n",
    "eggnog_df\n",
    "#rename GOs to GOs_eggnog and KEGG_ko to ko_eggnog\n",
    "eggnog_df = eggnog_df.rename(columns={'GOs': 'GOs_eggnog', 'KEGG_ko': 'ko_eggnog', '#query': 'protein_id'})\n",
    "#set index to protein_id\n",
    "eggnog_df = eggnog_df.set_index('protein_id')\n",
    "eggnog_df"
   ],
   "metadata": {
    "collapsed": false,
    "ExecuteTime": {
     "end_time": "2024-04-04T07:47:13.159620Z",
     "start_time": "2024-04-04T07:47:13.105205Z"
    }
   },
   "id": "779b9337ec2ef0a0",
   "execution_count": 41
  },
  {
   "cell_type": "code",
   "outputs": [
    {
     "data": {
      "text/plain": "                                                     GOs_interpro\nprotein_id                                                       \nWP_250121481.1                                GO:0005829(PANTHER)\nWP_250124019.1  GO:0004775(PANTHER)|GO:0004776(PANTHER)|GO:000...\nWP_250124642.1                                                  -\nWP_250121995.1  GO:0015979(InterPro)|GO:0015995(InterPro)|GO:0...\nWP_250124302.1                                                  -\n...                                                           ...\nWP_250122548.1                                                  -\nWP_250123271.1                                                  -\nWP_250125842.1                                                  -\nWP_250121800.1                               GO:0003723(InterPro)\nWP_250123059.1                               GO:0016746(InterPro)\n\n[4939 rows x 1 columns]",
      "text/html": "<div>\n<style scoped>\n    .dataframe tbody tr th:only-of-type {\n        vertical-align: middle;\n    }\n\n    .dataframe tbody tr th {\n        vertical-align: top;\n    }\n\n    .dataframe thead th {\n        text-align: right;\n    }\n</style>\n<table border=\"1\" class=\"dataframe\">\n  <thead>\n    <tr style=\"text-align: right;\">\n      <th></th>\n      <th>GOs_interpro</th>\n    </tr>\n    <tr>\n      <th>protein_id</th>\n      <th></th>\n    </tr>\n  </thead>\n  <tbody>\n    <tr>\n      <th>WP_250121481.1</th>\n      <td>GO:0005829(PANTHER)</td>\n    </tr>\n    <tr>\n      <th>WP_250124019.1</th>\n      <td>GO:0004775(PANTHER)|GO:0004776(PANTHER)|GO:000...</td>\n    </tr>\n    <tr>\n      <th>WP_250124642.1</th>\n      <td>-</td>\n    </tr>\n    <tr>\n      <th>WP_250121995.1</th>\n      <td>GO:0015979(InterPro)|GO:0015995(InterPro)|GO:0...</td>\n    </tr>\n    <tr>\n      <th>WP_250124302.1</th>\n      <td>-</td>\n    </tr>\n    <tr>\n      <th>...</th>\n      <td>...</td>\n    </tr>\n    <tr>\n      <th>WP_250122548.1</th>\n      <td>-</td>\n    </tr>\n    <tr>\n      <th>WP_250123271.1</th>\n      <td>-</td>\n    </tr>\n    <tr>\n      <th>WP_250125842.1</th>\n      <td>-</td>\n    </tr>\n    <tr>\n      <th>WP_250121800.1</th>\n      <td>GO:0003723(InterPro)</td>\n    </tr>\n    <tr>\n      <th>WP_250123059.1</th>\n      <td>GO:0016746(InterPro)</td>\n    </tr>\n  </tbody>\n</table>\n<p>4939 rows × 1 columns</p>\n</div>"
     },
     "execution_count": 78,
     "metadata": {},
     "output_type": "execute_result"
    }
   ],
   "source": [
    "interpro_df = pd.read_csv(interpro, sep='\\t', header=None)\n",
    "interpro_df\n",
    "interpro_df = interpro_df.rename(columns={0: 'protein_id', 13: 'GOs_interpro'})\n",
    "#drop duplicates of protein_id\n",
    "interpro_df = interpro_df.drop_duplicates(subset='protein_id')\n",
    "#new dataframe with only columns #query,GOs_interpro\n",
    "interpro_df = interpro_df[['protein_id', 'GOs_interpro']]\n",
    "\n",
    "#set index to protein_id\n",
    "interpro_df = interpro_df.set_index('protein_id')\n",
    "interpro_df"
   ],
   "metadata": {
    "collapsed": false,
    "ExecuteTime": {
     "end_time": "2024-04-04T08:08:05.874776Z",
     "start_time": "2024-04-04T08:08:05.790173Z"
    }
   },
   "id": "52263a120abb2e16",
   "execution_count": 78
  },
  {
   "cell_type": "code",
   "outputs": [],
   "source": [
    "from Bio import SeqIO\n",
    "from Bio.SeqRecord import SeqRecord\n",
    "from Bio.Seq import Seq\n",
    "from Bio.SeqFeature import SeqFeature, FeatureLocation\n",
    "#parse refseq file\n",
    "refseq_record = SeqIO.parse(refseq, \"genbank\")\n",
    "#extract for every CDS the GO_process, GO_function and GO_component\n",
    "refseq_df = pd.DataFrame(columns=['GO_process', 'GO_component', 'GO_function', 'protein_id', 'gene'])\n",
    "for record in refseq_record:\n",
    "    for feature in record.features:\n",
    "        if feature.type == \"CDS\":\n",
    "            #get the GO_process, GO_function and GO_component, protein_id and gene\n",
    "            GO_process = feature.qualifiers.get('GO_process')\n",
    "            GO_component = feature.qualifiers.get('GO_component')\n",
    "            GO_function = feature.qualifiers.get('GO_function')\n",
    "            protein_id = feature.qualifiers.get('protein_id', ['None'])[0]\n",
    "            gene = feature.qualifiers.get('gene', ['None'])[0]\n",
    "            #new dataframe with protein_id as row index\n",
    "            if protein_id !='None':\n",
    "                data = pd.DataFrame({'GO_process': [GO_process], 'GO_component': [GO_component], 'GO_function': [GO_function], 'protein_id': [protein_id], 'gene': [gene]})\n",
    "                refseq_df = pd.concat([refseq_df, data])\n",
    "refseq_df = refseq_df.set_index('protein_id')\n"
   ],
   "metadata": {
    "collapsed": false,
    "ExecuteTime": {
     "end_time": "2024-04-04T08:04:59.943110Z",
     "start_time": "2024-04-04T08:04:56.946199Z"
    }
   },
   "id": "5ab422940f7bad3d",
   "execution_count": 74
  },
  {
   "cell_type": "code",
   "outputs": [
    {
     "data": {
      "text/plain": "                                                       GO_process  \\\nprotein_id                                                          \nWP_275983370.1                                               None   \nWP_250123595.1                                               None   \nWP_250123596.1  [GO:0000162 - tryptophan biosynthetic process ...   \nWP_250123597.1  [GO:0006568 - tryptophan metabolic process [Ev...   \nWP_250123598.1  [GO:0000162 - tryptophan biosynthetic process ...   \n...                                                           ...   \nWP_250126520.1                                               None   \nNone                                                         None   \nWP_250126521.1                                               None   \nWP_250126522.1                                               None   \nWP_250126523.1                                               None   \n\n               GO_component  \\\nprotein_id                    \nWP_275983370.1         None   \nWP_250123595.1         None   \nWP_250123596.1         None   \nWP_250123597.1         None   \nWP_250123598.1         None   \n...                     ...   \nWP_250126520.1         None   \nNone                   None   \nWP_250126521.1         None   \nWP_250126522.1         None   \nWP_250126523.1         None   \n\n                                                      GO_function  gene  \nprotein_id                                                               \nWP_275983370.1                                               None  None  \nWP_250123595.1                                               None  None  \nWP_250123596.1  [GO:0004049 - anthranilate synthase activity [...  None  \nWP_250123597.1  [GO:0004425 - indole-3-glycerol-phosphate synt...  trpC  \nWP_250123598.1  [GO:0004834 - tryptophan synthase activity [Ev...  trpA  \n...                                                           ...   ...  \nWP_250126520.1                                               None  None  \nNone            [GO:0004803 - transposase activity [Evidence I...  None  \nWP_250126521.1                                               None  None  \nWP_250126522.1                                               None  None  \nWP_250126523.1                                               None  None  \n\n[6275 rows x 4 columns]",
      "text/html": "<div>\n<style scoped>\n    .dataframe tbody tr th:only-of-type {\n        vertical-align: middle;\n    }\n\n    .dataframe tbody tr th {\n        vertical-align: top;\n    }\n\n    .dataframe thead th {\n        text-align: right;\n    }\n</style>\n<table border=\"1\" class=\"dataframe\">\n  <thead>\n    <tr style=\"text-align: right;\">\n      <th></th>\n      <th>GO_process</th>\n      <th>GO_component</th>\n      <th>GO_function</th>\n      <th>gene</th>\n    </tr>\n    <tr>\n      <th>protein_id</th>\n      <th></th>\n      <th></th>\n      <th></th>\n      <th></th>\n    </tr>\n  </thead>\n  <tbody>\n    <tr>\n      <th>WP_275983370.1</th>\n      <td>None</td>\n      <td>None</td>\n      <td>None</td>\n      <td>None</td>\n    </tr>\n    <tr>\n      <th>WP_250123595.1</th>\n      <td>None</td>\n      <td>None</td>\n      <td>None</td>\n      <td>None</td>\n    </tr>\n    <tr>\n      <th>WP_250123596.1</th>\n      <td>[GO:0000162 - tryptophan biosynthetic process ...</td>\n      <td>None</td>\n      <td>[GO:0004049 - anthranilate synthase activity [...</td>\n      <td>None</td>\n    </tr>\n    <tr>\n      <th>WP_250123597.1</th>\n      <td>[GO:0006568 - tryptophan metabolic process [Ev...</td>\n      <td>None</td>\n      <td>[GO:0004425 - indole-3-glycerol-phosphate synt...</td>\n      <td>trpC</td>\n    </tr>\n    <tr>\n      <th>WP_250123598.1</th>\n      <td>[GO:0000162 - tryptophan biosynthetic process ...</td>\n      <td>None</td>\n      <td>[GO:0004834 - tryptophan synthase activity [Ev...</td>\n      <td>trpA</td>\n    </tr>\n    <tr>\n      <th>...</th>\n      <td>...</td>\n      <td>...</td>\n      <td>...</td>\n      <td>...</td>\n    </tr>\n    <tr>\n      <th>WP_250126520.1</th>\n      <td>None</td>\n      <td>None</td>\n      <td>None</td>\n      <td>None</td>\n    </tr>\n    <tr>\n      <th>None</th>\n      <td>None</td>\n      <td>None</td>\n      <td>[GO:0004803 - transposase activity [Evidence I...</td>\n      <td>None</td>\n    </tr>\n    <tr>\n      <th>WP_250126521.1</th>\n      <td>None</td>\n      <td>None</td>\n      <td>None</td>\n      <td>None</td>\n    </tr>\n    <tr>\n      <th>WP_250126522.1</th>\n      <td>None</td>\n      <td>None</td>\n      <td>None</td>\n      <td>None</td>\n    </tr>\n    <tr>\n      <th>WP_250126523.1</th>\n      <td>None</td>\n      <td>None</td>\n      <td>None</td>\n      <td>None</td>\n    </tr>\n  </tbody>\n</table>\n<p>6275 rows × 4 columns</p>\n</div>"
     },
     "execution_count": 53,
     "metadata": {},
     "output_type": "execute_result"
    }
   ],
   "source": [
    "refseq_df"
   ],
   "metadata": {
    "collapsed": false,
    "ExecuteTime": {
     "end_time": "2024-04-04T07:52:24.473012Z",
     "start_time": "2024-04-04T07:52:24.465965Z"
    }
   },
   "id": "99213d47d1d99165",
   "execution_count": 53
  },
  {
   "cell_type": "code",
   "outputs": [
    {
     "data": {
      "text/plain": "                                                       GOs_eggnog  ko_eggnog  \\\nprotein_id                                                                     \nWP_009632395.1                                                  -  ko:K04751   \nWP_041548398.1  GO:0003674,GO:0005488,GO:0005575,GO:0005622,GO...  ko:K02518   \nWP_073591590.1                                                  -  ko:K08696   \nWP_190736661.1                                                  -          -   \nWP_250121152.1                                                  -          -   \n...                                                           ...        ...   \nWP_256478997.1                                                  -  ko:K07480   \nWP_256478998.1                                                  -  ko:K07480   \nWP_256479001.1                                                  -  ko:K07494   \nWP_256479002.1                                                  -  ko:K00986   \nWP_256479003.1                                                  -          -   \n\n                                                       GO_process  \\\nprotein_id                                                          \nWP_009632395.1                                               None   \nWP_041548398.1  [GO:0006413 - translational initiation [Eviden...   \nWP_073591590.1                                               None   \nWP_190736661.1                                               None   \nWP_250121152.1                                               None   \n...                                                           ...   \nWP_256478997.1  [GO:0006313 - transposition, DNA-mediated [Evi...   \nWP_256478998.1  [GO:0006313 - transposition, DNA-mediated [Evi...   \nWP_256479001.1                                               None   \nWP_256479002.1                                               None   \nWP_256479003.1                                               None   \n\n               GO_component  \\\nprotein_id                    \nWP_009632395.1         None   \nWP_041548398.1         None   \nWP_073591590.1         None   \nWP_190736661.1         None   \nWP_250121152.1         None   \n...                     ...   \nWP_256478997.1         None   \nWP_256478998.1         None   \nWP_256479001.1         None   \nWP_256479002.1         None   \nWP_256479003.1         None   \n\n                                                      GO_function  gene  \\\nprotein_id                                                                \nWP_009632395.1                                               None  None   \nWP_041548398.1  [GO:0003743 - translation initiation factor ac...  infA   \nWP_073591590.1                                               None  None   \nWP_190736661.1                                               None  None   \nWP_250121152.1  [GO:0004803 - transposase activity [Evidence I...  None   \n...                                                           ...   ...   \nWP_256478997.1  [GO:0003677 - DNA binding [Evidence IEA], GO:0...  None   \nWP_256478998.1  [GO:0003677 - DNA binding [Evidence IEA], GO:0...  None   \nWP_256479001.1                                               None  None   \nWP_256479002.1                                               None  None   \nWP_256479003.1  [GO:0004803 - transposase activity [Evidence I...  None   \n\n                                                     GOs_interpro  \nprotein_id                                                         \nWP_009632395.1          GO:0006808(InterPro)|GO:0030234(InterPro)  \nWP_041548398.1  GO:0003723(InterPro)|GO:0003743(InterPro)|GO:0...  \nWP_073591590.1                               GO:0031469(InterPro)  \nWP_190736661.1                                                  -  \nWP_250121152.1                                                  -  \n...                                                           ...  \nWP_256478997.1  GO:0003677(InterPro)|GO:0004803(InterPro)|GO:0...  \nWP_256478998.1  GO:0003677(InterPro)|GO:0004803(InterPro)|GO:0...  \nWP_256479001.1                                                  -  \nWP_256479002.1                                                  -  \nWP_256479003.1                                                  -  \n\n[5047 rows x 7 columns]",
      "text/html": "<div>\n<style scoped>\n    .dataframe tbody tr th:only-of-type {\n        vertical-align: middle;\n    }\n\n    .dataframe tbody tr th {\n        vertical-align: top;\n    }\n\n    .dataframe thead th {\n        text-align: right;\n    }\n</style>\n<table border=\"1\" class=\"dataframe\">\n  <thead>\n    <tr style=\"text-align: right;\">\n      <th></th>\n      <th>GOs_eggnog</th>\n      <th>ko_eggnog</th>\n      <th>GO_process</th>\n      <th>GO_component</th>\n      <th>GO_function</th>\n      <th>gene</th>\n      <th>GOs_interpro</th>\n    </tr>\n    <tr>\n      <th>protein_id</th>\n      <th></th>\n      <th></th>\n      <th></th>\n      <th></th>\n      <th></th>\n      <th></th>\n      <th></th>\n    </tr>\n  </thead>\n  <tbody>\n    <tr>\n      <th>WP_009632395.1</th>\n      <td>-</td>\n      <td>ko:K04751</td>\n      <td>None</td>\n      <td>None</td>\n      <td>None</td>\n      <td>None</td>\n      <td>GO:0006808(InterPro)|GO:0030234(InterPro)</td>\n    </tr>\n    <tr>\n      <th>WP_041548398.1</th>\n      <td>GO:0003674,GO:0005488,GO:0005575,GO:0005622,GO...</td>\n      <td>ko:K02518</td>\n      <td>[GO:0006413 - translational initiation [Eviden...</td>\n      <td>None</td>\n      <td>[GO:0003743 - translation initiation factor ac...</td>\n      <td>infA</td>\n      <td>GO:0003723(InterPro)|GO:0003743(InterPro)|GO:0...</td>\n    </tr>\n    <tr>\n      <th>WP_073591590.1</th>\n      <td>-</td>\n      <td>ko:K08696</td>\n      <td>None</td>\n      <td>None</td>\n      <td>None</td>\n      <td>None</td>\n      <td>GO:0031469(InterPro)</td>\n    </tr>\n    <tr>\n      <th>WP_190736661.1</th>\n      <td>-</td>\n      <td>-</td>\n      <td>None</td>\n      <td>None</td>\n      <td>None</td>\n      <td>None</td>\n      <td>-</td>\n    </tr>\n    <tr>\n      <th>WP_250121152.1</th>\n      <td>-</td>\n      <td>-</td>\n      <td>None</td>\n      <td>None</td>\n      <td>[GO:0004803 - transposase activity [Evidence I...</td>\n      <td>None</td>\n      <td>-</td>\n    </tr>\n    <tr>\n      <th>...</th>\n      <td>...</td>\n      <td>...</td>\n      <td>...</td>\n      <td>...</td>\n      <td>...</td>\n      <td>...</td>\n      <td>...</td>\n    </tr>\n    <tr>\n      <th>WP_256478997.1</th>\n      <td>-</td>\n      <td>ko:K07480</td>\n      <td>[GO:0006313 - transposition, DNA-mediated [Evi...</td>\n      <td>None</td>\n      <td>[GO:0003677 - DNA binding [Evidence IEA], GO:0...</td>\n      <td>None</td>\n      <td>GO:0003677(InterPro)|GO:0004803(InterPro)|GO:0...</td>\n    </tr>\n    <tr>\n      <th>WP_256478998.1</th>\n      <td>-</td>\n      <td>ko:K07480</td>\n      <td>[GO:0006313 - transposition, DNA-mediated [Evi...</td>\n      <td>None</td>\n      <td>[GO:0003677 - DNA binding [Evidence IEA], GO:0...</td>\n      <td>None</td>\n      <td>GO:0003677(InterPro)|GO:0004803(InterPro)|GO:0...</td>\n    </tr>\n    <tr>\n      <th>WP_256479001.1</th>\n      <td>-</td>\n      <td>ko:K07494</td>\n      <td>None</td>\n      <td>None</td>\n      <td>None</td>\n      <td>None</td>\n      <td>-</td>\n    </tr>\n    <tr>\n      <th>WP_256479002.1</th>\n      <td>-</td>\n      <td>ko:K00986</td>\n      <td>None</td>\n      <td>None</td>\n      <td>None</td>\n      <td>None</td>\n      <td>-</td>\n    </tr>\n    <tr>\n      <th>WP_256479003.1</th>\n      <td>-</td>\n      <td>-</td>\n      <td>None</td>\n      <td>None</td>\n      <td>[GO:0004803 - transposase activity [Evidence I...</td>\n      <td>None</td>\n      <td>-</td>\n    </tr>\n  </tbody>\n</table>\n<p>5047 rows × 7 columns</p>\n</div>"
     },
     "execution_count": 81,
     "metadata": {},
     "output_type": "execute_result"
    }
   ],
   "source": [
    "df = eggnog_df.join(refseq_df, how='inner')\n",
    "df = df.join(interpro_df, how='inner')\n",
    "df"
   ],
   "metadata": {
    "collapsed": false,
    "ExecuteTime": {
     "end_time": "2024-04-04T08:08:40.167912Z",
     "start_time": "2024-04-04T08:08:40.149485Z"
    }
   },
   "id": "9db7325a50a66d5a",
   "execution_count": 81
  },
  {
   "cell_type": "code",
   "outputs": [
    {
     "ename": "KeyError",
     "evalue": "'[1] not found in axis'",
     "output_type": "error",
     "traceback": [
      "\u001B[0;31m---------------------------------------------------------------------------\u001B[0m",
      "\u001B[0;31mKeyError\u001B[0m                                  Traceback (most recent call last)",
      "\u001B[0;32m/tmp/ipykernel_10380/4231814223.py\u001B[0m in \u001B[0;36m?\u001B[0;34m()\u001B[0m\n\u001B[0;32m----> 1\u001B[0;31m \u001B[0mdf\u001B[0m \u001B[0;34m=\u001B[0m \u001B[0mdf\u001B[0m\u001B[0;34m.\u001B[0m\u001B[0mdrop\u001B[0m\u001B[0;34m(\u001B[0m\u001B[0;32mNone\u001B[0m\u001B[0;34m,\u001B[0m\u001B[0mindex\u001B[0m\u001B[0;34m=\u001B[0m\u001B[0;36m1\u001B[0m\u001B[0;34m)\u001B[0m\u001B[0;34m\u001B[0m\u001B[0;34m\u001B[0m\u001B[0m\n\u001B[0m\u001B[1;32m      2\u001B[0m \u001B[0mdf\u001B[0m\u001B[0;34m\u001B[0m\u001B[0;34m\u001B[0m\u001B[0m\n",
      "\u001B[0;32m~/miniconda3/lib/python3.12/site-packages/pandas/core/frame.py\u001B[0m in \u001B[0;36m?\u001B[0;34m(self, labels, axis, index, columns, level, inplace, errors)\u001B[0m\n\u001B[1;32m   5564\u001B[0m                 \u001B[0mweight\u001B[0m  \u001B[0;36m250.0\u001B[0m   \u001B[0;36m150.0\u001B[0m\u001B[0;34m\u001B[0m\u001B[0;34m\u001B[0m\u001B[0m\n\u001B[1;32m   5565\u001B[0m         \u001B[0mfalcon\u001B[0m  \u001B[0mspeed\u001B[0m   \u001B[0;36m320.0\u001B[0m   \u001B[0;36m250.0\u001B[0m\u001B[0;34m\u001B[0m\u001B[0;34m\u001B[0m\u001B[0m\n\u001B[1;32m   5566\u001B[0m                 \u001B[0mweight\u001B[0m  \u001B[0;36m1.0\u001B[0m     \u001B[0;36m0.8\u001B[0m\u001B[0;34m\u001B[0m\u001B[0;34m\u001B[0m\u001B[0m\n\u001B[1;32m   5567\u001B[0m         \"\"\"\n\u001B[0;32m-> 5568\u001B[0;31m         return super().drop(\n\u001B[0m\u001B[1;32m   5569\u001B[0m             \u001B[0mlabels\u001B[0m\u001B[0;34m=\u001B[0m\u001B[0mlabels\u001B[0m\u001B[0;34m,\u001B[0m\u001B[0;34m\u001B[0m\u001B[0;34m\u001B[0m\u001B[0m\n\u001B[1;32m   5570\u001B[0m             \u001B[0maxis\u001B[0m\u001B[0;34m=\u001B[0m\u001B[0maxis\u001B[0m\u001B[0;34m,\u001B[0m\u001B[0;34m\u001B[0m\u001B[0;34m\u001B[0m\u001B[0m\n\u001B[1;32m   5571\u001B[0m             \u001B[0mindex\u001B[0m\u001B[0;34m=\u001B[0m\u001B[0mindex\u001B[0m\u001B[0;34m,\u001B[0m\u001B[0;34m\u001B[0m\u001B[0;34m\u001B[0m\u001B[0m\n",
      "\u001B[0;32m~/miniconda3/lib/python3.12/site-packages/pandas/core/generic.py\u001B[0m in \u001B[0;36m?\u001B[0;34m(self, labels, axis, index, columns, level, inplace, errors)\u001B[0m\n\u001B[1;32m   4781\u001B[0m         \u001B[0mobj\u001B[0m \u001B[0;34m=\u001B[0m \u001B[0mself\u001B[0m\u001B[0;34m\u001B[0m\u001B[0;34m\u001B[0m\u001B[0m\n\u001B[1;32m   4782\u001B[0m \u001B[0;34m\u001B[0m\u001B[0m\n\u001B[1;32m   4783\u001B[0m         \u001B[0;32mfor\u001B[0m \u001B[0maxis\u001B[0m\u001B[0;34m,\u001B[0m \u001B[0mlabels\u001B[0m \u001B[0;32min\u001B[0m \u001B[0maxes\u001B[0m\u001B[0;34m.\u001B[0m\u001B[0mitems\u001B[0m\u001B[0;34m(\u001B[0m\u001B[0;34m)\u001B[0m\u001B[0;34m:\u001B[0m\u001B[0;34m\u001B[0m\u001B[0;34m\u001B[0m\u001B[0m\n\u001B[1;32m   4784\u001B[0m             \u001B[0;32mif\u001B[0m \u001B[0mlabels\u001B[0m \u001B[0;32mis\u001B[0m \u001B[0;32mnot\u001B[0m \u001B[0;32mNone\u001B[0m\u001B[0;34m:\u001B[0m\u001B[0;34m\u001B[0m\u001B[0;34m\u001B[0m\u001B[0m\n\u001B[0;32m-> 4785\u001B[0;31m                 \u001B[0mobj\u001B[0m \u001B[0;34m=\u001B[0m \u001B[0mobj\u001B[0m\u001B[0;34m.\u001B[0m\u001B[0m_drop_axis\u001B[0m\u001B[0;34m(\u001B[0m\u001B[0mlabels\u001B[0m\u001B[0;34m,\u001B[0m \u001B[0maxis\u001B[0m\u001B[0;34m,\u001B[0m \u001B[0mlevel\u001B[0m\u001B[0;34m=\u001B[0m\u001B[0mlevel\u001B[0m\u001B[0;34m,\u001B[0m \u001B[0merrors\u001B[0m\u001B[0;34m=\u001B[0m\u001B[0merrors\u001B[0m\u001B[0;34m)\u001B[0m\u001B[0;34m\u001B[0m\u001B[0;34m\u001B[0m\u001B[0m\n\u001B[0m\u001B[1;32m   4786\u001B[0m \u001B[0;34m\u001B[0m\u001B[0m\n\u001B[1;32m   4787\u001B[0m         \u001B[0;32mif\u001B[0m \u001B[0minplace\u001B[0m\u001B[0;34m:\u001B[0m\u001B[0;34m\u001B[0m\u001B[0;34m\u001B[0m\u001B[0m\n\u001B[1;32m   4788\u001B[0m             \u001B[0mself\u001B[0m\u001B[0;34m.\u001B[0m\u001B[0m_update_inplace\u001B[0m\u001B[0;34m(\u001B[0m\u001B[0mobj\u001B[0m\u001B[0;34m)\u001B[0m\u001B[0;34m\u001B[0m\u001B[0;34m\u001B[0m\u001B[0m\n",
      "\u001B[0;32m~/miniconda3/lib/python3.12/site-packages/pandas/core/generic.py\u001B[0m in \u001B[0;36m?\u001B[0;34m(self, labels, axis, level, errors, only_slice)\u001B[0m\n\u001B[1;32m   4852\u001B[0m                 \u001B[0mmask\u001B[0m \u001B[0;34m=\u001B[0m \u001B[0;34m~\u001B[0m\u001B[0maxis\u001B[0m\u001B[0;34m.\u001B[0m\u001B[0misin\u001B[0m\u001B[0;34m(\u001B[0m\u001B[0mlabels\u001B[0m\u001B[0;34m)\u001B[0m\u001B[0;34m\u001B[0m\u001B[0;34m\u001B[0m\u001B[0m\n\u001B[1;32m   4853\u001B[0m                 \u001B[0;31m# Check if label doesn't exist along axis\u001B[0m\u001B[0;34m\u001B[0m\u001B[0;34m\u001B[0m\u001B[0m\n\u001B[1;32m   4854\u001B[0m                 \u001B[0mlabels_missing\u001B[0m \u001B[0;34m=\u001B[0m \u001B[0;34m(\u001B[0m\u001B[0maxis\u001B[0m\u001B[0;34m.\u001B[0m\u001B[0mget_indexer_for\u001B[0m\u001B[0;34m(\u001B[0m\u001B[0mlabels\u001B[0m\u001B[0;34m)\u001B[0m \u001B[0;34m==\u001B[0m \u001B[0;34m-\u001B[0m\u001B[0;36m1\u001B[0m\u001B[0;34m)\u001B[0m\u001B[0;34m.\u001B[0m\u001B[0many\u001B[0m\u001B[0;34m(\u001B[0m\u001B[0;34m)\u001B[0m\u001B[0;34m\u001B[0m\u001B[0;34m\u001B[0m\u001B[0m\n\u001B[1;32m   4855\u001B[0m                 \u001B[0;32mif\u001B[0m \u001B[0merrors\u001B[0m \u001B[0;34m==\u001B[0m \u001B[0;34m\"raise\"\u001B[0m \u001B[0;32mand\u001B[0m \u001B[0mlabels_missing\u001B[0m\u001B[0;34m:\u001B[0m\u001B[0;34m\u001B[0m\u001B[0;34m\u001B[0m\u001B[0m\n\u001B[0;32m-> 4856\u001B[0;31m                     \u001B[0;32mraise\u001B[0m \u001B[0mKeyError\u001B[0m\u001B[0;34m(\u001B[0m\u001B[0;34mf\"\u001B[0m\u001B[0;34m{\u001B[0m\u001B[0mlabels\u001B[0m\u001B[0;34m}\u001B[0m\u001B[0;34m not found in axis\u001B[0m\u001B[0;34m\"\u001B[0m\u001B[0;34m)\u001B[0m\u001B[0;34m\u001B[0m\u001B[0;34m\u001B[0m\u001B[0m\n\u001B[0m\u001B[1;32m   4857\u001B[0m \u001B[0;34m\u001B[0m\u001B[0m\n\u001B[1;32m   4858\u001B[0m             \u001B[0;32mif\u001B[0m \u001B[0misinstance\u001B[0m\u001B[0;34m(\u001B[0m\u001B[0mmask\u001B[0m\u001B[0;34m.\u001B[0m\u001B[0mdtype\u001B[0m\u001B[0;34m,\u001B[0m \u001B[0mExtensionDtype\u001B[0m\u001B[0;34m)\u001B[0m\u001B[0;34m:\u001B[0m\u001B[0;34m\u001B[0m\u001B[0;34m\u001B[0m\u001B[0m\n\u001B[1;32m   4859\u001B[0m                 \u001B[0;31m# GH#45860\u001B[0m\u001B[0;34m\u001B[0m\u001B[0;34m\u001B[0m\u001B[0m\n",
      "\u001B[0;31mKeyError\u001B[0m: '[1] not found in axis'"
     ]
    }
   ],
   "source": [],
   "metadata": {
    "collapsed": false,
    "ExecuteTime": {
     "end_time": "2024-04-04T07:56:46.610555Z",
     "start_time": "2024-04-04T07:56:46.600452Z"
    }
   },
   "id": "3154fd9f88102d8d",
   "execution_count": 62
  },
  {
   "cell_type": "code",
   "outputs": [
    {
     "name": "stdout",
     "output_type": "stream",
     "text": [
      "GO:0003723 ('RNA binding', 'molecular_function')\n",
      "GO:0003743 ('translation initiation factor activity', 'molecular_function')\n",
      "GO:0006413 ('translational initiation', 'biological_process')\n",
      "('DNA transposition', 'biological_process')\n"
     ]
    }
   ],
   "source": [
    "import networkx\n",
    "import obonet\n",
    "\n",
    "# Load the GO graph\n",
    "url = \"/home/davide/Downloads/go-basic.obo\"\n",
    "graph = obonet.read_obo(url)\n",
    "\n",
    "# Create a dictionary with id as key and name and namespace as value\n",
    "dict = {id_: (data.get('name'), data.get('namespace')) \n",
    "                          for id_, data in graph.nodes(data=True)}\n",
    "\n",
    "names=\"\"\"GO:0003723(InterPro)|GO:0003743(InterPro)|GO:0006413(InterPro)\"\"\"\n",
    "names = names.split('|')\n",
    "names = [name.split('(')[0] for name in names]\n",
    "for name in names:\n",
    "    print(name, dict.get(name, ['Not found']))\n",
    "print(dict.get('GO:0006313', ['Not found']))\n"
   ],
   "metadata": {
    "collapsed": false,
    "ExecuteTime": {
     "end_time": "2024-04-04T08:36:07.881807Z",
     "start_time": "2024-04-04T08:36:03.472775Z"
    }
   },
   "id": "d6c9e81045ce519b",
   "execution_count": 88
  },
  {
   "cell_type": "code",
   "outputs": [],
   "source": [],
   "metadata": {
    "collapsed": false
   },
   "id": "4b29db59b186f43a"
  }
 ],
 "metadata": {
  "kernelspec": {
   "display_name": "Python 3",
   "language": "python",
   "name": "python3"
  },
  "language_info": {
   "codemirror_mode": {
    "name": "ipython",
    "version": 2
   },
   "file_extension": ".py",
   "mimetype": "text/x-python",
   "name": "python",
   "nbconvert_exporter": "python",
   "pygments_lexer": "ipython2",
   "version": "2.7.6"
  }
 },
 "nbformat": 4,
 "nbformat_minor": 5
}
