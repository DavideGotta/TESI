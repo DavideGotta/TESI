{
 "cells": [
  {
   "cell_type": "markdown",
   "metadata": {},
   "source": [
    "# Run a GOEA. Print study genes as either IDs symbols\n",
    "We use data from a 2014 Nature paper:    \n",
    "[Computational analysis of cell-to-cell heterogeneity\n",
    "in single-cell RNA-sequencing data reveals hidden \n",
    "subpopulations of cells\n",
    "](http://www.nature.com/nbt/journal/v33/n2/full/nbt.3102.html#methods)\n",
    "\n",
    "Note: you must have the Python package, **xlrd**, installed to run this example. "
   ]
  },
  {
   "cell_type": "markdown",
   "metadata": {},
   "source": [
    "## 1. Download Ontologies and Associations"
   ]
  },
  {
   "cell_type": "markdown",
   "metadata": {},
   "source": [
    "### 1a. Download Ontologies, if necessary"
   ]
  },
  {
   "cell_type": "code",
   "execution_count": 1,
   "metadata": {
    "ExecuteTime": {
     "end_time": "2024-06-09T13:10:51.797408Z",
     "start_time": "2024-06-09T13:10:51.702307Z"
    }
   },
   "outputs": [
    {
     "name": "stdout",
     "output_type": "stream",
     "text": [
      "  EXISTS: go-basic.obo\n"
     ]
    }
   ],
   "source": [
    "# Get http://geneontology.org/ontology/go-basic.obo\n",
    "from goatools.base import download_go_basic_obo\n",
    "obo_fname = download_go_basic_obo()"
   ]
  },
  {
   "cell_type": "markdown",
   "metadata": {},
   "source": [
    "### 1b. Download Associations, if necessary"
   ]
  },
  {
   "cell_type": "code",
   "execution_count": 2,
   "metadata": {
    "ExecuteTime": {
     "end_time": "2024-06-09T13:46:55.402529Z",
     "start_time": "2024-06-09T13:10:56.962941Z"
    }
   },
   "outputs": [
    {
     "name": "stdout",
     "output_type": "stream",
     "text": [
      "$ get ftp://ftp.ncbi.nlm.nih.gov/gene/DATA/gene2go.gz\n",
      "FTP RETR ftp.ncbi.nlm.nih.gov gene/DATA gene2go.gz -> gene2go.gz\n"
     ]
    },
    {
     "ename": "KeyboardInterrupt",
     "evalue": "",
     "output_type": "error",
     "traceback": [
      "\u001B[0;31m---------------------------------------------------------------------------\u001B[0m",
      "\u001B[0;31mKeyboardInterrupt\u001B[0m                         Traceback (most recent call last)",
      "Cell \u001B[0;32mIn[2], line 3\u001B[0m\n\u001B[1;32m      1\u001B[0m \u001B[38;5;66;03m# Get ftp://ftp.ncbi.nlm.nih.gov/gene/DATA/gene2go.gz\u001B[39;00m\n\u001B[1;32m      2\u001B[0m \u001B[38;5;28;01mfrom\u001B[39;00m \u001B[38;5;21;01mgoatools\u001B[39;00m\u001B[38;5;21;01m.\u001B[39;00m\u001B[38;5;21;01mbase\u001B[39;00m \u001B[38;5;28;01mimport\u001B[39;00m download_ncbi_associations\n\u001B[0;32m----> 3\u001B[0m file_gene2go \u001B[38;5;241m=\u001B[39m \u001B[43mdownload_ncbi_associations\u001B[49m\u001B[43m(\u001B[49m\u001B[43m)\u001B[49m\n",
      "File \u001B[0;32m~/miniconda3/lib/python3.12/site-packages/goatools/base.py:139\u001B[0m, in \u001B[0;36mdownload_ncbi_associations\u001B[0;34m(gene2go, prt, loading_bar)\u001B[0m\n\u001B[1;32m    137\u001B[0m \u001B[38;5;28;01mif\u001B[39;00m \u001B[38;5;129;01mnot\u001B[39;00m isfile(gene2go):\n\u001B[1;32m    138\u001B[0m     file_remote \u001B[38;5;241m=\u001B[39m \u001B[38;5;124mf\u001B[39m\u001B[38;5;124m\"\u001B[39m\u001B[38;5;124mftp://ftp.ncbi.nlm.nih.gov/gene/DATA/\u001B[39m\u001B[38;5;132;01m{\u001B[39;00mop\u001B[38;5;241m.\u001B[39mbasename(gzip_file)\u001B[38;5;132;01m}\u001B[39;00m\u001B[38;5;124m\"\u001B[39m\n\u001B[0;32m--> 139\u001B[0m     \u001B[43mdnld_file\u001B[49m\u001B[43m(\u001B[49m\u001B[43mfile_remote\u001B[49m\u001B[43m,\u001B[49m\u001B[43m \u001B[49m\u001B[43mgene2go\u001B[49m\u001B[43m,\u001B[49m\u001B[43m \u001B[49m\u001B[43mprt\u001B[49m\u001B[43m,\u001B[49m\u001B[43m \u001B[49m\u001B[43mloading_bar\u001B[49m\u001B[43m)\u001B[49m\n\u001B[1;32m    140\u001B[0m \u001B[38;5;28;01melse\u001B[39;00m:\n\u001B[1;32m    141\u001B[0m     \u001B[38;5;28;01mif\u001B[39;00m prt \u001B[38;5;129;01mis\u001B[39;00m \u001B[38;5;129;01mnot\u001B[39;00m \u001B[38;5;28;01mNone\u001B[39;00m:\n",
      "File \u001B[0;32m~/miniconda3/lib/python3.12/site-packages/goatools/base.py:238\u001B[0m, in \u001B[0;36mdnld_file\u001B[0;34m(src_ftp, dst_file, prt, loading_bar)\u001B[0m\n\u001B[1;32m    236\u001B[0m     http_get(src_ftp, dst_gz)\n\u001B[1;32m    237\u001B[0m \u001B[38;5;28;01melse\u001B[39;00m:\n\u001B[0;32m--> 238\u001B[0m     \u001B[43mftp_get\u001B[49m\u001B[43m(\u001B[49m\u001B[43msrc_ftp\u001B[49m\u001B[43m,\u001B[49m\u001B[43m \u001B[49m\u001B[43mdst_gz\u001B[49m\u001B[43m)\u001B[49m\n\u001B[1;32m    239\u001B[0m \u001B[38;5;28;01mif\u001B[39;00m do_gunzip:\n\u001B[1;32m    240\u001B[0m     \u001B[38;5;28;01mif\u001B[39;00m prt \u001B[38;5;129;01mis\u001B[39;00m \u001B[38;5;129;01mnot\u001B[39;00m \u001B[38;5;28;01mNone\u001B[39;00m:\n",
      "File \u001B[0;32m~/miniconda3/lib/python3.12/site-packages/goatools/base.py:220\u001B[0m, in \u001B[0;36mftp_get\u001B[0;34m(fin_src, fout)\u001B[0m\n\u001B[1;32m    218\u001B[0m ftp\u001B[38;5;241m.\u001B[39mcwd(chg_dir)  \u001B[38;5;66;03m# change into \"debian\" directory     gene/DATA\u001B[39;00m\n\u001B[1;32m    219\u001B[0m cmd \u001B[38;5;241m=\u001B[39m \u001B[38;5;124m\"\u001B[39m\u001B[38;5;124mRETR \u001B[39m\u001B[38;5;132;01m{F}\u001B[39;00m\u001B[38;5;124m\"\u001B[39m\u001B[38;5;241m.\u001B[39mformat(F\u001B[38;5;241m=\u001B[39mfin_ftp)  \u001B[38;5;66;03m#                   gene2go.gz\u001B[39;00m\n\u001B[0;32m--> 220\u001B[0m \u001B[43mftp\u001B[49m\u001B[38;5;241;43m.\u001B[39;49m\u001B[43mretrbinary\u001B[49m\u001B[43m(\u001B[49m\u001B[43mcmd\u001B[49m\u001B[43m,\u001B[49m\u001B[43m \u001B[49m\u001B[38;5;28;43mopen\u001B[39;49m\u001B[43m(\u001B[49m\u001B[43mfout\u001B[49m\u001B[43m,\u001B[49m\u001B[43m \u001B[49m\u001B[38;5;124;43m\"\u001B[39;49m\u001B[38;5;124;43mwb\u001B[39;49m\u001B[38;5;124;43m\"\u001B[39;49m\u001B[43m)\u001B[49m\u001B[38;5;241;43m.\u001B[39;49m\u001B[43mwrite\u001B[49m\u001B[43m)\u001B[49m  \u001B[38;5;66;03m#           /usr/home/gene2go.gz\u001B[39;00m\n\u001B[1;32m    221\u001B[0m ftp\u001B[38;5;241m.\u001B[39mquit()\n",
      "File \u001B[0;32m~/miniconda3/lib/python3.12/ftplib.py:442\u001B[0m, in \u001B[0;36mFTP.retrbinary\u001B[0;34m(self, cmd, callback, blocksize, rest)\u001B[0m\n\u001B[1;32m    440\u001B[0m     \u001B[38;5;28;01mif\u001B[39;00m _SSLSocket \u001B[38;5;129;01mis\u001B[39;00m \u001B[38;5;129;01mnot\u001B[39;00m \u001B[38;5;28;01mNone\u001B[39;00m \u001B[38;5;129;01mand\u001B[39;00m \u001B[38;5;28misinstance\u001B[39m(conn, _SSLSocket):\n\u001B[1;32m    441\u001B[0m         conn\u001B[38;5;241m.\u001B[39munwrap()\n\u001B[0;32m--> 442\u001B[0m \u001B[38;5;28;01mreturn\u001B[39;00m \u001B[38;5;28;43mself\u001B[39;49m\u001B[38;5;241;43m.\u001B[39;49m\u001B[43mvoidresp\u001B[49m\u001B[43m(\u001B[49m\u001B[43m)\u001B[49m\n",
      "File \u001B[0;32m~/miniconda3/lib/python3.12/ftplib.py:259\u001B[0m, in \u001B[0;36mFTP.voidresp\u001B[0;34m(self)\u001B[0m\n\u001B[1;32m    257\u001B[0m \u001B[38;5;28;01mdef\u001B[39;00m \u001B[38;5;21mvoidresp\u001B[39m(\u001B[38;5;28mself\u001B[39m):\n\u001B[1;32m    258\u001B[0m \u001B[38;5;250m    \u001B[39m\u001B[38;5;124;03m\"\"\"Expect a response beginning with '2'.\"\"\"\u001B[39;00m\n\u001B[0;32m--> 259\u001B[0m     resp \u001B[38;5;241m=\u001B[39m \u001B[38;5;28;43mself\u001B[39;49m\u001B[38;5;241;43m.\u001B[39;49m\u001B[43mgetresp\u001B[49m\u001B[43m(\u001B[49m\u001B[43m)\u001B[49m\n\u001B[1;32m    260\u001B[0m     \u001B[38;5;28;01mif\u001B[39;00m resp[:\u001B[38;5;241m1\u001B[39m] \u001B[38;5;241m!=\u001B[39m \u001B[38;5;124m'\u001B[39m\u001B[38;5;124m2\u001B[39m\u001B[38;5;124m'\u001B[39m:\n\u001B[1;32m    261\u001B[0m         \u001B[38;5;28;01mraise\u001B[39;00m error_reply(resp)\n",
      "File \u001B[0;32m~/miniconda3/lib/python3.12/ftplib.py:244\u001B[0m, in \u001B[0;36mFTP.getresp\u001B[0;34m(self)\u001B[0m\n\u001B[1;32m    243\u001B[0m \u001B[38;5;28;01mdef\u001B[39;00m \u001B[38;5;21mgetresp\u001B[39m(\u001B[38;5;28mself\u001B[39m):\n\u001B[0;32m--> 244\u001B[0m     resp \u001B[38;5;241m=\u001B[39m \u001B[38;5;28;43mself\u001B[39;49m\u001B[38;5;241;43m.\u001B[39;49m\u001B[43mgetmultiline\u001B[49m\u001B[43m(\u001B[49m\u001B[43m)\u001B[49m\n\u001B[1;32m    245\u001B[0m     \u001B[38;5;28;01mif\u001B[39;00m \u001B[38;5;28mself\u001B[39m\u001B[38;5;241m.\u001B[39mdebugging:\n\u001B[1;32m    246\u001B[0m         \u001B[38;5;28mprint\u001B[39m(\u001B[38;5;124m'\u001B[39m\u001B[38;5;124m*resp*\u001B[39m\u001B[38;5;124m'\u001B[39m, \u001B[38;5;28mself\u001B[39m\u001B[38;5;241m.\u001B[39msanitize(resp))\n",
      "File \u001B[0;32m~/miniconda3/lib/python3.12/ftplib.py:230\u001B[0m, in \u001B[0;36mFTP.getmultiline\u001B[0;34m(self)\u001B[0m\n\u001B[1;32m    229\u001B[0m \u001B[38;5;28;01mdef\u001B[39;00m \u001B[38;5;21mgetmultiline\u001B[39m(\u001B[38;5;28mself\u001B[39m):\n\u001B[0;32m--> 230\u001B[0m     line \u001B[38;5;241m=\u001B[39m \u001B[38;5;28;43mself\u001B[39;49m\u001B[38;5;241;43m.\u001B[39;49m\u001B[43mgetline\u001B[49m\u001B[43m(\u001B[49m\u001B[43m)\u001B[49m\n\u001B[1;32m    231\u001B[0m     \u001B[38;5;28;01mif\u001B[39;00m line[\u001B[38;5;241m3\u001B[39m:\u001B[38;5;241m4\u001B[39m] \u001B[38;5;241m==\u001B[39m \u001B[38;5;124m'\u001B[39m\u001B[38;5;124m-\u001B[39m\u001B[38;5;124m'\u001B[39m:\n\u001B[1;32m    232\u001B[0m         code \u001B[38;5;241m=\u001B[39m line[:\u001B[38;5;241m3\u001B[39m]\n",
      "File \u001B[0;32m~/miniconda3/lib/python3.12/ftplib.py:212\u001B[0m, in \u001B[0;36mFTP.getline\u001B[0;34m(self)\u001B[0m\n\u001B[1;32m    211\u001B[0m \u001B[38;5;28;01mdef\u001B[39;00m \u001B[38;5;21mgetline\u001B[39m(\u001B[38;5;28mself\u001B[39m):\n\u001B[0;32m--> 212\u001B[0m     line \u001B[38;5;241m=\u001B[39m \u001B[38;5;28;43mself\u001B[39;49m\u001B[38;5;241;43m.\u001B[39;49m\u001B[43mfile\u001B[49m\u001B[38;5;241;43m.\u001B[39;49m\u001B[43mreadline\u001B[49m\u001B[43m(\u001B[49m\u001B[38;5;28;43mself\u001B[39;49m\u001B[38;5;241;43m.\u001B[39;49m\u001B[43mmaxline\u001B[49m\u001B[43m \u001B[49m\u001B[38;5;241;43m+\u001B[39;49m\u001B[43m \u001B[49m\u001B[38;5;241;43m1\u001B[39;49m\u001B[43m)\u001B[49m\n\u001B[1;32m    213\u001B[0m     \u001B[38;5;28;01mif\u001B[39;00m \u001B[38;5;28mlen\u001B[39m(line) \u001B[38;5;241m>\u001B[39m \u001B[38;5;28mself\u001B[39m\u001B[38;5;241m.\u001B[39mmaxline:\n\u001B[1;32m    214\u001B[0m         \u001B[38;5;28;01mraise\u001B[39;00m Error(\u001B[38;5;124m\"\u001B[39m\u001B[38;5;124mgot more than \u001B[39m\u001B[38;5;132;01m%d\u001B[39;00m\u001B[38;5;124m bytes\u001B[39m\u001B[38;5;124m\"\u001B[39m \u001B[38;5;241m%\u001B[39m \u001B[38;5;28mself\u001B[39m\u001B[38;5;241m.\u001B[39mmaxline)\n",
      "File \u001B[0;32m~/miniconda3/lib/python3.12/socket.py:707\u001B[0m, in \u001B[0;36mSocketIO.readinto\u001B[0;34m(self, b)\u001B[0m\n\u001B[1;32m    705\u001B[0m \u001B[38;5;28;01mwhile\u001B[39;00m \u001B[38;5;28;01mTrue\u001B[39;00m:\n\u001B[1;32m    706\u001B[0m     \u001B[38;5;28;01mtry\u001B[39;00m:\n\u001B[0;32m--> 707\u001B[0m         \u001B[38;5;28;01mreturn\u001B[39;00m \u001B[38;5;28;43mself\u001B[39;49m\u001B[38;5;241;43m.\u001B[39;49m\u001B[43m_sock\u001B[49m\u001B[38;5;241;43m.\u001B[39;49m\u001B[43mrecv_into\u001B[49m\u001B[43m(\u001B[49m\u001B[43mb\u001B[49m\u001B[43m)\u001B[49m\n\u001B[1;32m    708\u001B[0m     \u001B[38;5;28;01mexcept\u001B[39;00m timeout:\n\u001B[1;32m    709\u001B[0m         \u001B[38;5;28mself\u001B[39m\u001B[38;5;241m.\u001B[39m_timeout_occurred \u001B[38;5;241m=\u001B[39m \u001B[38;5;28;01mTrue\u001B[39;00m\n",
      "\u001B[0;31mKeyboardInterrupt\u001B[0m: "
     ]
    }
   ],
   "source": [
    "# Get ftp://ftp.ncbi.nlm.nih.gov/gene/DATA/gene2go.gz\n",
    "from goatools.base import download_ncbi_associations\n",
    "file_gene2go = download_ncbi_associations()"
   ]
  },
  {
   "cell_type": "markdown",
   "metadata": {},
   "source": [
    "## 2. Load Ontologies, Associations and Background gene set "
   ]
  },
  {
   "cell_type": "markdown",
   "metadata": {},
   "source": [
    "### 2a. Load Ontologies"
   ]
  },
  {
   "cell_type": "code",
   "execution_count": 3,
   "metadata": {},
   "outputs": [
    {
     "name": "stdout",
     "output_type": "stream",
     "text": [
      "go-basic.obo: fmt(1.2) rel(2020-01-01) 47,337 GO Terms\n"
     ]
    }
   ],
   "source": [
    "from goatools.obo_parser import GODag\n",
    "\n",
    "obodag = GODag(\"go-basic.obo\")"
   ]
  },
  {
   "cell_type": "markdown",
   "metadata": {},
   "source": [
    "### 2b. Load Associations"
   ]
  },
  {
   "cell_type": "code",
   "execution_count": 4,
   "metadata": {},
   "outputs": [
    {
     "name": "stdout",
     "output_type": "stream",
     "text": [
      "HMS:0:00:06.334969 367,335 annotations, 24,267 genes, 18,190 GOs, 1 taxids READ: gene2go \n",
      "CC 18,824 annotated mouse genes\n",
      "BP 17,859 annotated mouse genes\n",
      "MF 16,721 annotated mouse genes\n"
     ]
    }
   ],
   "source": [
    "\n",
    "from goatools.anno.genetogo_reader import Gene2GoReader\n",
    "\n",
    "# Read NCBI's gene2go. Store annotations in a list of namedtuples\n",
    "objanno = Gene2GoReader(file_gene2go, taxids=[10090])\n",
    "\n",
    "# Get associations for each branch of the GO DAG (BP, MF, CC)\n",
    "ns2assoc = objanno.get_ns2assc()\n",
    "\n",
    "for nspc, id2gos in ns2assoc.items():\n",
    "    print(\"{NS} {N:,} annotated mouse genes\".format(NS=nspc, N=len(id2gos)))"
   ]
  },
  {
   "cell_type": "markdown",
   "metadata": {},
   "source": [
    "### 2c. Load Background gene set\n",
    "In this example, the background is all mouse protein-codinge genes.    \n",
    "\n",
    "Follow the instructions in the `background_genes_ncbi` notebook to download a set of background population genes from NCBI."
   ]
  },
  {
   "cell_type": "code",
   "execution_count": 5,
   "metadata": {},
   "outputs": [],
   "source": [
    "from genes_ncbi_10090_proteincoding import GENEID2NT as GeneID2nt_mus"
   ]
  },
  {
   "cell_type": "markdown",
   "metadata": {},
   "source": [
    "## 3. Initialize a GOEA object\n",
    "The GOEA object holds the Ontologies, Associations, and background.    \n",
    "Numerous studies can then be run withough needing to re-load the above items.    \n",
    "In this case, we only run one GOEA.    "
   ]
  },
  {
   "cell_type": "code",
   "execution_count": 6,
   "metadata": {},
   "outputs": [
    {
     "name": "stdout",
     "output_type": "stream",
     "text": [
      "\n",
      "Load BP Gene Ontology Analysis ...\n",
      "fisher module not installed.  Falling back on scipy.stats.fisher_exact\n",
      " 65% 16,811 of 26,033 population items found in association\n",
      "\n",
      "Load CC Gene Ontology Analysis ...\n",
      "fisher module not installed.  Falling back on scipy.stats.fisher_exact\n",
      " 70% 18,198 of 26,033 population items found in association\n",
      "\n",
      "Load MF Gene Ontology Analysis ...\n",
      "fisher module not installed.  Falling back on scipy.stats.fisher_exact\n",
      " 63% 16,331 of 26,033 population items found in association\n"
     ]
    }
   ],
   "source": [
    "from goatools.goea.go_enrichment_ns import GOEnrichmentStudyNS\n",
    "\n",
    "goeaobj = GOEnrichmentStudyNS(\n",
    "        GeneID2nt_mus, # List of mouse protein-coding genes\n",
    "        ns2assoc, # geneid/GO associations\n",
    "        obodag, # Ontologies\n",
    "        propagate_counts = False,\n",
    "        alpha = 0.05, # default significance cut-off\n",
    "        methods = ['fdr_bh']) # defult multipletest correction method\n"
   ]
  },
  {
   "cell_type": "markdown",
   "metadata": {},
   "source": [
    "## 4. Read study genes\n",
    "~400 genes from the Nature paper supplemental table 4"
   ]
  },
  {
   "cell_type": "code",
   "execution_count": 7,
   "metadata": {},
   "outputs": [
    {
     "name": "stdout",
     "output_type": "stream",
     "text": [
      "READ: /mnt/c/Users/note2/Data/git/goatools/goatools/test_data/nbt_3102/nbt.3102-S4_GeneIDs.xlsx\n"
     ]
    }
   ],
   "source": [
    "# Data will be stored in this variable\n",
    "import os\n",
    "geneid2symbol = {}\n",
    "# Get xlsx filename where data is stored\n",
    "ROOT = os.path.dirname(os.getcwd()) # go up 1 level from current working directory\n",
    "din_xlsx = os.path.join(ROOT, \"goatools/test_data/nbt_3102/nbt.3102-S4_GeneIDs.xlsx\")\n",
    "# Read data\n",
    "if os.path.isfile(din_xlsx):  \n",
    "    import xlrd\n",
    "    book = xlrd.open_workbook(din_xlsx)\n",
    "    pg = book.sheet_by_index(0)\n",
    "    for r in range(pg.nrows):\n",
    "        symbol, geneid, pval = [pg.cell_value(r, c) for c in range(pg.ncols)]\n",
    "        if geneid:\n",
    "            geneid2symbol[int(geneid)] = symbol\n",
    "    print('READ: {XLSX}'.format(XLSX=din_xlsx))\n",
    "else:\n",
    "    raise RuntimeError('CANNOT READ: {XLSX}'.format(XLSX=fin_xlsx))"
   ]
  },
  {
   "cell_type": "markdown",
   "metadata": {},
   "source": [
    "## 5. Run Gene Ontology Enrichment Analysis (GOEA)\n",
    "You may choose to keep all results or just the significant results. In this example, we choose to keep only the significant results."
   ]
  },
  {
   "cell_type": "code",
   "execution_count": 8,
   "metadata": {},
   "outputs": [
    {
     "name": "stdout",
     "output_type": "stream",
     "text": [
      "\n",
      "Run BP Gene Ontology Analysis: current study set of 400 IDs ... 94%    357 of    381 study items found in association\n",
      " 95%    381 of    400 study items found in population(26033)\n",
      "Calculating 12,254 uncorrected p-values using fisher_scipy_stats\n",
      "  12,254 GO terms are associated with 16,811 of 26,033 population items\n",
      "   2,085 GO terms are associated with    357 of    400 study items\n",
      "  METHOD fdr_bh:\n",
      "      55 GO terms found significant (< 0.05=alpha) ( 53 enriched +   2 purified): statsmodels fdr_bh\n",
      "     209 study items associated with significant GO IDs (enriched)\n",
      "       4 study items associated with significant GO IDs (purified)\n",
      "\n",
      "Run CC Gene Ontology Analysis: current study set of 400 IDs ... 99%    376 of    381 study items found in association\n",
      " 95%    381 of    400 study items found in population(26033)\n",
      "Calculating 1,724 uncorrected p-values using fisher_scipy_stats\n",
      "   1,724 GO terms are associated with 18,198 of 26,033 population items\n",
      "     449 GO terms are associated with    376 of    400 study items\n",
      "  METHOD fdr_bh:\n",
      "      83 GO terms found significant (< 0.05=alpha) ( 83 enriched +   0 purified): statsmodels fdr_bh\n",
      "     373 study items associated with significant GO IDs (enriched)\n",
      "       0 study items associated with significant GO IDs (purified)\n",
      "\n",
      "Run MF Gene Ontology Analysis: current study set of 400 IDs ... 89%    339 of    381 study items found in association\n",
      " 95%    381 of    400 study items found in population(26033)\n",
      "Calculating 4,145 uncorrected p-values using fisher_scipy_stats\n",
      "   4,145 GO terms are associated with 16,331 of 26,033 population items\n",
      "     580 GO terms are associated with    339 of    400 study items\n",
      "  METHOD fdr_bh:\n",
      "      54 GO terms found significant (< 0.05=alpha) ( 52 enriched +   2 purified): statsmodels fdr_bh\n",
      "     276 study items associated with significant GO IDs (enriched)\n",
      "       0 study items associated with significant GO IDs (purified)\n"
     ]
    }
   ],
   "source": [
    "# 'p_' means \"pvalue\". 'fdr_bh' is the multipletest method we are currently using.\n",
    "geneids_study = geneid2symbol.keys()\n",
    "goea_results_all = goeaobj.run_study(geneids_study)\n",
    "goea_results_sig = [r for r in goea_results_all if r.p_fdr_bh < 0.05]"
   ]
  },
  {
   "cell_type": "markdown",
   "metadata": {},
   "source": [
    "## 6. Write results to an Excel file and to a text file"
   ]
  },
  {
   "cell_type": "code",
   "execution_count": 9,
   "metadata": {},
   "outputs": [
    {
     "name": "stdout",
     "output_type": "stream",
     "text": [
      "    192 items WROTE: nbt3102_symbols.xlsx\n",
      "    192 items WROTE: nbt3102_geneids.xlsx\n"
     ]
    }
   ],
   "source": [
    "goeaobj.wr_xlsx(\"nbt3102_symbols.xlsx\", goea_results_sig, itemid2name=geneid2symbol)\n",
    "goeaobj.wr_xlsx(\"nbt3102_geneids.xlsx\", goea_results_sig)"
   ]
  },
  {
   "cell_type": "markdown",
   "metadata": {},
   "source": [
    "Copyright (C) 2016-present, DV Klopfenstein, H Tang. All rights reserved."
   ]
  }
 ],
 "metadata": {
  "kernelspec": {
   "display_name": "Python 3",
   "language": "python",
   "name": "python3"
  },
  "language_info": {
   "codemirror_mode": {
    "name": "ipython",
    "version": 3
   },
   "file_extension": ".py",
   "mimetype": "text/x-python",
   "name": "python",
   "nbconvert_exporter": "python",
   "pygments_lexer": "ipython3",
   "version": "3.6.7"
  }
 },
 "nbformat": 4,
 "nbformat_minor": 1
}
