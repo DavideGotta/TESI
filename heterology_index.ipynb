{
 "cells": [
  {
   "cell_type": "code",
   "outputs": [],
   "source": [
    "from math import log\n",
    "\n",
    "def heterology_index(counts:dict[str:list],seqs:str) -> float:\n",
    "    \"\"\"\n",
    "    Calcola l'heterology index rispetto a un motivo come riportato da (Lewis et al. 1994, J. Mol. Biol. 241)\n",
    "    :param counts: un dizionario con il conteggio delle basi per ogni posizione del motivo\n",
    "    :param seqs:  una sequenza di nucleotidi della stessa lunghezza del motivo di cui calcolare l'heterology index\n",
    "    :return:    l'heterology index della sequenza rispetto al motivo\n",
    "    \"\"\"\n",
    "    heterology = 0\n",
    "    for i,c in enumerate(seqs):\n",
    "        cons=max(counts[c][i] for c in counts)\n",
    "        actual = counts[seqs[i]][i]\n",
    "        heterology += log((cons+0.5)/(actual+0.5))\n",
    "    return heterology"
   ],
   "metadata": {
    "collapsed": true,
    "ExecuteTime": {
     "end_time": "2024-05-17T07:05:33.175476Z",
     "start_time": "2024-05-17T07:05:33.172315Z"
    }
   },
   "id": "initial_id",
   "execution_count": 24
  },
  {
   "cell_type": "code",
   "outputs": [
    {
     "data": {
      "text/plain": "Seq('TAGTACATTTGTACTA')"
     },
     "execution_count": 19,
     "metadata": {},
     "output_type": "execute_result"
    }
   ],
   "source": [
    "motif.consensus"
   ],
   "metadata": {
    "collapsed": false,
    "ExecuteTime": {
     "end_time": "2024-05-16T18:19:24.285443Z",
     "start_time": "2024-05-16T18:19:24.282608Z"
    }
   },
   "id": "c2a46412cdc88e48",
   "execution_count": 19
  },
  {
   "cell_type": "code",
   "outputs": [
    {
     "name": "stdout",
     "output_type": "stream",
     "text": [
      "7.0\n",
      "24.0\n",
      "6.0\n",
      "62.0\n"
     ]
    }
   ],
   "source": [
    "#come previsto, l'heterology index è 0 per il consensus\n",
    "heterology_index(motif.counts,str(motif.consensus))"
   ],
   "metadata": {
    "collapsed": false,
    "ExecuteTime": {
     "end_time": "2024-05-16T18:12:41.945711Z",
     "start_time": "2024-05-16T18:12:41.943526Z"
    }
   },
   "id": "a5c6ae94893bcd97",
   "execution_count": 14
  },
  {
   "cell_type": "code",
   "outputs": [
    {
     "data": {
      "text/plain": "         locus_tag                                             motivo  \\\n0    LAU37_RS05875  (TAGTACATTTGTACTA, -129.0, 21.39|9.19e-10|4.81...   \n1    LAU37_RS16180  (TAGTACAAATGTACTA, -298.0, 21.24|1.42e-09|4.81...   \n2    LAU37_RS14595  (TAGTACATATGTACTA, -206.0, 21.04|1.89e-09|4.81...   \n3    LAU37_RS14590  (TAGTACATATGTACTA, -156.0, 21.04|1.89e-09|4.81...   \n4    LAU37_RS19450  (TAGTTCATTTGTACTA, -65.0, 20.34|7.13e-09|1.45e...   \n..             ...                                                ...   \n114  LAU37_RS21980  (CAGTTTTAAAGCACTA, -47.0, 10.1|9.73e-05|8.48e-...   \n115  LAU37_RS11925  (CAGTGCCTCTTTTCTA, -26.0, 10.1|9.73e-05|8.48e-...   \n116  LAU37_RS31010  (TAGTGAAGTACGACTG, -187.0, 10.09|9.79e-05|8.48...   \n117  LAU37_RS10275  (GAGGTAAAAGGTACTA, -25.0, 10.07|9.85e-05|8.48e...   \n118  LAU37_RS24975  (CAGAGCAATCTTACTC, -114.0, 10.06|9.90e-05|8.48...   \n\n     heterology_index  \n0            0.000000  \n1            1.040963  \n2            0.825075  \n3            0.825075  \n4            0.326397  \n..                ...  \n114          7.580392  \n115          6.263811  \n116         12.603547  \n117         12.167222  \n118         12.993701  \n\n[119 rows x 3 columns]",
      "text/html": "<div>\n<style scoped>\n    .dataframe tbody tr th:only-of-type {\n        vertical-align: middle;\n    }\n\n    .dataframe tbody tr th {\n        vertical-align: top;\n    }\n\n    .dataframe thead th {\n        text-align: right;\n    }\n</style>\n<table border=\"1\" class=\"dataframe\">\n  <thead>\n    <tr style=\"text-align: right;\">\n      <th></th>\n      <th>locus_tag</th>\n      <th>motivo</th>\n      <th>heterology_index</th>\n    </tr>\n  </thead>\n  <tbody>\n    <tr>\n      <th>0</th>\n      <td>LAU37_RS05875</td>\n      <td>(TAGTACATTTGTACTA, -129.0, 21.39|9.19e-10|4.81...</td>\n      <td>0.000000</td>\n    </tr>\n    <tr>\n      <th>1</th>\n      <td>LAU37_RS16180</td>\n      <td>(TAGTACAAATGTACTA, -298.0, 21.24|1.42e-09|4.81...</td>\n      <td>1.040963</td>\n    </tr>\n    <tr>\n      <th>2</th>\n      <td>LAU37_RS14595</td>\n      <td>(TAGTACATATGTACTA, -206.0, 21.04|1.89e-09|4.81...</td>\n      <td>0.825075</td>\n    </tr>\n    <tr>\n      <th>3</th>\n      <td>LAU37_RS14590</td>\n      <td>(TAGTACATATGTACTA, -156.0, 21.04|1.89e-09|4.81...</td>\n      <td>0.825075</td>\n    </tr>\n    <tr>\n      <th>4</th>\n      <td>LAU37_RS19450</td>\n      <td>(TAGTTCATTTGTACTA, -65.0, 20.34|7.13e-09|1.45e...</td>\n      <td>0.326397</td>\n    </tr>\n    <tr>\n      <th>...</th>\n      <td>...</td>\n      <td>...</td>\n      <td>...</td>\n    </tr>\n    <tr>\n      <th>114</th>\n      <td>LAU37_RS21980</td>\n      <td>(CAGTTTTAAAGCACTA, -47.0, 10.1|9.73e-05|8.48e-...</td>\n      <td>7.580392</td>\n    </tr>\n    <tr>\n      <th>115</th>\n      <td>LAU37_RS11925</td>\n      <td>(CAGTGCCTCTTTTCTA, -26.0, 10.1|9.73e-05|8.48e-...</td>\n      <td>6.263811</td>\n    </tr>\n    <tr>\n      <th>116</th>\n      <td>LAU37_RS31010</td>\n      <td>(TAGTGAAGTACGACTG, -187.0, 10.09|9.79e-05|8.48...</td>\n      <td>12.603547</td>\n    </tr>\n    <tr>\n      <th>117</th>\n      <td>LAU37_RS10275</td>\n      <td>(GAGGTAAAAGGTACTA, -25.0, 10.07|9.85e-05|8.48e...</td>\n      <td>12.167222</td>\n    </tr>\n    <tr>\n      <th>118</th>\n      <td>LAU37_RS24975</td>\n      <td>(CAGAGCAATCTTACTC, -114.0, 10.06|9.90e-05|8.48...</td>\n      <td>12.993701</td>\n    </tr>\n  </tbody>\n</table>\n<p>119 rows × 3 columns</p>\n</div>"
     },
     "execution_count": 33,
     "metadata": {},
     "output_type": "execute_result"
    }
   ],
   "source": [
    "import pandas as pd\n",
    "from Bio import SeqIO\n",
    "file = \"/home/davide/PycharmProjects/TESI2/intergeniche_RefSeq/Chroococcidiopsis_sp._CCMEE_29_GCF_023558375_intergen.fasta\"\n",
    "#create a dictionary locus_tag:length of the sequence\n",
    "diz = {}\n",
    "for record in SeqIO.parse(file, \"fasta\"):\n",
    "    diz[record.id] = len(record.seq)\n",
    "diz\n",
    "fimo=\"/home/davide/Desktop/genomiChro/MEME/fimo_motivo8_oops/fimo.tsv\"\n",
    "df_fimo=pd.read_csv(fimo,sep=\"\\t\")\n",
    "df_fimo=df_fimo[:-3]\n",
    "#convert q-value column to float e notation with 2 decimal places\n",
    "df_fimo[\"q-value\"]=df_fimo[\"q-value\"].apply(lambda x:format(x, '.2e'))\n",
    "df_fimo[\"p-value\"]=df_fimo[\"p-value\"].apply(lambda x:format(x, '.2e'))\n",
    "df_fimo[\"score\"]=df_fimo[\"score\"].apply(lambda x:round(x,2))\n",
    "#create new column that is tuple of matched_sequence and score|p-value|q-value\n",
    "df_fimo[\"score_info\"]=df_fimo['score'].astype(str)+\"|\"+df_fimo['p-value'].astype(str)+\"|\"+df_fimo['q-value'].astype(str)\n",
    "df_fimo[\"length\"]=df_fimo[\"sequence_name\"].map(diz)\n",
    "df_fimo[\"pos\"]=df_fimo[\"start\"]-df_fimo[\"length\"]+1\n",
    "df_fimo[\"heterology_index\"]=df_fimo.apply(lambda x:heterology_index(motif.counts,x[\"matched_sequence\"]),axis=1)\n",
    "#create new tupe column motivo with tuple of matched_sequence,score|p-value|q-value,pos\n",
    "df_fimo[\"motivo\"]=df_fimo.apply(lambda x:(x[\"matched_sequence\"],x[\"pos\"],x[\"score_info\"],x[\"heterology_index\"]),axis=1)\n",
    "#only columns sequence_name and motivo\n",
    "df_fimo=df_fimo[[\"sequence_name\",\"motivo\",\"heterology_index\"]]\n",
    "df_fimo=df_fimo.rename(columns={\"sequence_name\":\"locus_tag\"})\n",
    "#sort by heterology index\n",
    "df_fimo.sort_values(by=\"heterology_index\")\n",
    "df_fimo"
   ],
   "metadata": {
    "collapsed": false,
    "ExecuteTime": {
     "end_time": "2024-05-16T18:32:57.736444Z",
     "start_time": "2024-05-16T18:32:57.694490Z"
    }
   },
   "id": "4e01781b4e9c8219",
   "execution_count": 33
  },
  {
   "cell_type": "code",
   "outputs": [
    {
     "data": {
      "text/plain": "         locus_tag                                             motivo  \\\n0    LAU37_RS05875  (TAGTACATTTGTACTA, -129.0, 21.39|9.19e-10|4.81...   \n1    LAU37_RS16180  (TAGTACAAATGTACTA, -298.0, 21.24|1.42e-09|4.81...   \n2    LAU37_RS14595  (TAGTACATATGTACTA, -206.0, 21.04|1.89e-09|4.81...   \n3    LAU37_RS14590  (TAGTACATATGTACTA, -156.0, 21.04|1.89e-09|4.81...   \n4    LAU37_RS19450  (TAGTTCATTTGTACTA, -65.0, 20.34|7.13e-09|1.45e...   \n..             ...                                                ...   \n108  LAU37_RS21985  (TAGTGCTTTAAAACTG, -105.0, 10.12|9.62e-05|8.48...   \n109  LAU37_RS21980  (CAGTTTTAAAGCACTA, -47.0, 10.1|9.73e-05|8.48e-...   \n110  LAU37_RS11925  (CAGTGCCTCTTTTCTA, -26.0, 10.1|9.73e-05|8.48e-...   \n111  LAU37_RS10275  (GAGGTAAAAGGTACTA, -25.0, 10.07|9.85e-05|8.48e...   \n112  LAU37_RS24975  (CAGAGCAATCTTACTC, -114.0, 10.06|9.90e-05|8.48...   \n\n     heterology_index      protein_id  \\\n0            0.000000  WP_250124683.1   \n1            1.040963  WP_250121527.1   \n2            0.825075  WP_250121243.1   \n3            0.825075  WP_250121242.1   \n4            0.326397  WP_250122141.1   \n..                ...             ...   \n108          9.873230  WP_250122603.1   \n109          7.580392  WP_250122602.1   \n110          6.263811  WP_250125775.1   \n111         12.167222  WP_250125476.1   \n112         12.993701  WP_250123153.1   \n\n                                        product  gene  \\\n0                            VOC family protein   NaN   \n1                          hypothetical protein   NaN   \n2                            ERF family protein   NaN   \n3                  FAD-dependent oxidoreductase   NaN   \n4                          hypothetical protein   NaN   \n..                                          ...   ...   \n108  3-oxoacyl-[acyl-carrier-protein] reductase  fabG   \n109                                 thioredoxin  trxA   \n110                        hypothetical protein   NaN   \n111                         DNA-binding protein   NaN   \n112                    type I DNA topoisomerase  topA   \n\n                                            GO_process  \\\n0                                                  NaN   \n1                                                  NaN   \n2                                                  NaN   \n3                                                  NaN   \n4                                                  NaN   \n..                                                 ...   \n108  ['GO:0006633 - fatty acid biosynthetic process...   \n109                                                NaN   \n110                                                NaN   \n111                                                NaN   \n112  ['GO:0006260 - DNA replication [Evidence IEA]'...   \n\n                                  GO_component  \\\n0                                          NaN   \n1                                          NaN   \n2                                          NaN   \n3                                          NaN   \n4                                          NaN   \n..                                         ...   \n108                                        NaN   \n109  ['GO:0005737 - cytoplasm [Evidence IEA]']   \n110                                        NaN   \n111                                        NaN   \n112  ['GO:0005737 - cytoplasm [Evidence IEA]']   \n\n                                           GO_function  \\\n0                                                  NaN   \n1                                                  NaN   \n2                                                  NaN   \n3    ['GO:0016491 - oxidoreductase activity [Eviden...   \n4                                                  NaN   \n..                                                 ...   \n108  ['GO:0004316 - 3-oxoacyl-[acyl-carrier-protein...   \n109  ['GO:0015036 - disulfide oxidoreductase activi...   \n110                                                NaN   \n111                                                NaN   \n112  ['GO:0003677 - DNA binding [Evidence IEA]', 'G...   \n\n                              GO_process_pannzer2  \\\n0                                             NaN   \n1                                             NaN   \n2                                             NaN   \n3                                             NaN   \n4                                             NaN   \n..                                            ...   \n108  GO:0006633 - fatty acid biosynthetic process   \n109                                           NaN   \n110                                           NaN   \n111                                           NaN   \n112           GO:0006265 - DNA topological change   \n\n                                            KEGG_brite  \\\n0                                                  NaN   \n1                                                  NaN   \n2                                                  NaN   \n3                                                  NaN   \n4                                                  NaN   \n..                                                 ...   \n108                ko01004 Lipid biosynthesis proteins   \n109                                                NaN   \n110                                                NaN   \n111                                                NaN   \n112  ko03032 DNA replication proteins, ko03400 DNA ...   \n\n                                         KEGG_pathways  \n0                                                  NaN  \n1                                                  NaN  \n2                                                  NaN  \n3                                                  NaN  \n4                                                  NaN  \n..                                                 ...  \n108  01100 Metabolic pathways, 01110 Biosynthesis o...  \n109                                                NaN  \n110                                                NaN  \n111                                                NaN  \n112                                                NaN  \n\n[113 rows x 12 columns]",
      "text/html": "<div>\n<style scoped>\n    .dataframe tbody tr th:only-of-type {\n        vertical-align: middle;\n    }\n\n    .dataframe tbody tr th {\n        vertical-align: top;\n    }\n\n    .dataframe thead th {\n        text-align: right;\n    }\n</style>\n<table border=\"1\" class=\"dataframe\">\n  <thead>\n    <tr style=\"text-align: right;\">\n      <th></th>\n      <th>locus_tag</th>\n      <th>motivo</th>\n      <th>heterology_index</th>\n      <th>protein_id</th>\n      <th>product</th>\n      <th>gene</th>\n      <th>GO_process</th>\n      <th>GO_component</th>\n      <th>GO_function</th>\n      <th>GO_process_pannzer2</th>\n      <th>KEGG_brite</th>\n      <th>KEGG_pathways</th>\n    </tr>\n  </thead>\n  <tbody>\n    <tr>\n      <th>0</th>\n      <td>LAU37_RS05875</td>\n      <td>(TAGTACATTTGTACTA, -129.0, 21.39|9.19e-10|4.81...</td>\n      <td>0.000000</td>\n      <td>WP_250124683.1</td>\n      <td>VOC family protein</td>\n      <td>NaN</td>\n      <td>NaN</td>\n      <td>NaN</td>\n      <td>NaN</td>\n      <td>NaN</td>\n      <td>NaN</td>\n      <td>NaN</td>\n    </tr>\n    <tr>\n      <th>1</th>\n      <td>LAU37_RS16180</td>\n      <td>(TAGTACAAATGTACTA, -298.0, 21.24|1.42e-09|4.81...</td>\n      <td>1.040963</td>\n      <td>WP_250121527.1</td>\n      <td>hypothetical protein</td>\n      <td>NaN</td>\n      <td>NaN</td>\n      <td>NaN</td>\n      <td>NaN</td>\n      <td>NaN</td>\n      <td>NaN</td>\n      <td>NaN</td>\n    </tr>\n    <tr>\n      <th>2</th>\n      <td>LAU37_RS14595</td>\n      <td>(TAGTACATATGTACTA, -206.0, 21.04|1.89e-09|4.81...</td>\n      <td>0.825075</td>\n      <td>WP_250121243.1</td>\n      <td>ERF family protein</td>\n      <td>NaN</td>\n      <td>NaN</td>\n      <td>NaN</td>\n      <td>NaN</td>\n      <td>NaN</td>\n      <td>NaN</td>\n      <td>NaN</td>\n    </tr>\n    <tr>\n      <th>3</th>\n      <td>LAU37_RS14590</td>\n      <td>(TAGTACATATGTACTA, -156.0, 21.04|1.89e-09|4.81...</td>\n      <td>0.825075</td>\n      <td>WP_250121242.1</td>\n      <td>FAD-dependent oxidoreductase</td>\n      <td>NaN</td>\n      <td>NaN</td>\n      <td>NaN</td>\n      <td>['GO:0016491 - oxidoreductase activity [Eviden...</td>\n      <td>NaN</td>\n      <td>NaN</td>\n      <td>NaN</td>\n    </tr>\n    <tr>\n      <th>4</th>\n      <td>LAU37_RS19450</td>\n      <td>(TAGTTCATTTGTACTA, -65.0, 20.34|7.13e-09|1.45e...</td>\n      <td>0.326397</td>\n      <td>WP_250122141.1</td>\n      <td>hypothetical protein</td>\n      <td>NaN</td>\n      <td>NaN</td>\n      <td>NaN</td>\n      <td>NaN</td>\n      <td>NaN</td>\n      <td>NaN</td>\n      <td>NaN</td>\n    </tr>\n    <tr>\n      <th>...</th>\n      <td>...</td>\n      <td>...</td>\n      <td>...</td>\n      <td>...</td>\n      <td>...</td>\n      <td>...</td>\n      <td>...</td>\n      <td>...</td>\n      <td>...</td>\n      <td>...</td>\n      <td>...</td>\n      <td>...</td>\n    </tr>\n    <tr>\n      <th>108</th>\n      <td>LAU37_RS21985</td>\n      <td>(TAGTGCTTTAAAACTG, -105.0, 10.12|9.62e-05|8.48...</td>\n      <td>9.873230</td>\n      <td>WP_250122603.1</td>\n      <td>3-oxoacyl-[acyl-carrier-protein] reductase</td>\n      <td>fabG</td>\n      <td>['GO:0006633 - fatty acid biosynthetic process...</td>\n      <td>NaN</td>\n      <td>['GO:0004316 - 3-oxoacyl-[acyl-carrier-protein...</td>\n      <td>GO:0006633 - fatty acid biosynthetic process</td>\n      <td>ko01004 Lipid biosynthesis proteins</td>\n      <td>01100 Metabolic pathways, 01110 Biosynthesis o...</td>\n    </tr>\n    <tr>\n      <th>109</th>\n      <td>LAU37_RS21980</td>\n      <td>(CAGTTTTAAAGCACTA, -47.0, 10.1|9.73e-05|8.48e-...</td>\n      <td>7.580392</td>\n      <td>WP_250122602.1</td>\n      <td>thioredoxin</td>\n      <td>trxA</td>\n      <td>NaN</td>\n      <td>['GO:0005737 - cytoplasm [Evidence IEA]']</td>\n      <td>['GO:0015036 - disulfide oxidoreductase activi...</td>\n      <td>NaN</td>\n      <td>NaN</td>\n      <td>NaN</td>\n    </tr>\n    <tr>\n      <th>110</th>\n      <td>LAU37_RS11925</td>\n      <td>(CAGTGCCTCTTTTCTA, -26.0, 10.1|9.73e-05|8.48e-...</td>\n      <td>6.263811</td>\n      <td>WP_250125775.1</td>\n      <td>hypothetical protein</td>\n      <td>NaN</td>\n      <td>NaN</td>\n      <td>NaN</td>\n      <td>NaN</td>\n      <td>NaN</td>\n      <td>NaN</td>\n      <td>NaN</td>\n    </tr>\n    <tr>\n      <th>111</th>\n      <td>LAU37_RS10275</td>\n      <td>(GAGGTAAAAGGTACTA, -25.0, 10.07|9.85e-05|8.48e...</td>\n      <td>12.167222</td>\n      <td>WP_250125476.1</td>\n      <td>DNA-binding protein</td>\n      <td>NaN</td>\n      <td>NaN</td>\n      <td>NaN</td>\n      <td>NaN</td>\n      <td>NaN</td>\n      <td>NaN</td>\n      <td>NaN</td>\n    </tr>\n    <tr>\n      <th>112</th>\n      <td>LAU37_RS24975</td>\n      <td>(CAGAGCAATCTTACTC, -114.0, 10.06|9.90e-05|8.48...</td>\n      <td>12.993701</td>\n      <td>WP_250123153.1</td>\n      <td>type I DNA topoisomerase</td>\n      <td>topA</td>\n      <td>['GO:0006260 - DNA replication [Evidence IEA]'...</td>\n      <td>['GO:0005737 - cytoplasm [Evidence IEA]']</td>\n      <td>['GO:0003677 - DNA binding [Evidence IEA]', 'G...</td>\n      <td>GO:0006265 - DNA topological change</td>\n      <td>ko03032 DNA replication proteins, ko03400 DNA ...</td>\n      <td>NaN</td>\n    </tr>\n  </tbody>\n</table>\n<p>113 rows × 12 columns</p>\n</div>"
     },
     "execution_count": 34,
     "metadata": {},
     "output_type": "execute_result"
    }
   ],
   "source": [
    "df_ann=pd.read_csv(\"/home/davide/Desktop/CCMEE29Annotazioni.csv\")\n",
    "#rename column sequence_name to locus_tag\n",
    "df_ann=df_ann.rename(columns={\"sequence_name\":\"locus_tag\"})\n",
    "df=pd.merge(df_fimo,df_ann,on=\"locus_tag\")\n",
    "df"
   ],
   "metadata": {
    "collapsed": false,
    "ExecuteTime": {
     "end_time": "2024-05-16T18:33:47.012092Z",
     "start_time": "2024-05-16T18:33:46.987513Z"
    }
   },
   "id": "b1cac80d2ee2e1d8",
   "execution_count": 34
  },
  {
   "cell_type": "code",
   "outputs": [],
   "source": [
    "df.to_excel(\"/home/davide/Desktop/fimo_motivo8_heterology_index.xlsx\",index=False)"
   ],
   "metadata": {
    "collapsed": false,
    "ExecuteTime": {
     "end_time": "2024-05-16T18:37:23.159132Z",
     "start_time": "2024-05-16T18:37:23.139619Z"
    }
   },
   "id": "82703b021da6aa52",
   "execution_count": 36
  },
  {
   "cell_type": "code",
   "outputs": [
    {
     "data": {
      "text/plain": "                     Chroococcidiopsis_sp._CCMEE_29_GCF_023558375  \\\nqseqid                                                              \nWP_250124755.1  [('CATAAGTTCAGTCCTCTCACTGGTT', -171, 11), ('GG...   \nWP_250123779.1           [('AGCAAGTGGAAGTAATTTACTTCTT', -36, 11)]   \nWP_250125318.1  [('ACACAGTAAATTCAACTTATC', -82, 7), ('TGTGAGTA...   \nWP_250122886.1  [('GCCTAGTAAGTACTCGTA', -278, 4), ('AGTCAGTGAA...   \nWP_250123657.1                 [('GCAAAGTTAGAAGCTATCGT', -71, 5)]   \n...                                                           ...   \nWP_250125851.1                                                NaN   \nWP_250124035.1  [('ACCCAGTTCATTTTCTAACCC', -259, 6), ('TAATAGT...   \nWP_250125600.1                                                NaN   \nWP_250126571.1                                                NaN   \nWP_250123895.1                                                NaN   \n\n                       Chroococcidiopsis_sp._CCNUC1_GCF_023546805  \\\nqseqid                                                              \nWP_250124755.1          [('TGTGAGTTCAGTCCTGTAACTGGTT', -175, 11)]   \nWP_250123779.1           [('AGCGAGTGGAAGAGACTGACTCTTG', -35, 11)]   \nWP_250125318.1           [('TGTGAGTAGGCAAATATAACTACTG', -33, 11)]   \nWP_250122886.1  [('AATCAGTCACTGGTCACTGGTC', -131, 8), ('TTTAAG...   \nWP_250123657.1  [('CGAAAGTGTTTGAAAGTGACTGTTT', -146, 11), ('CC...   \n...                                                           ...   \nWP_250125851.1                                                NaN   \nWP_250124035.1                                                NaN   \nWP_250125600.1  [('GCCAAGTCATAGCCACTCAAG', -229, 7), ('GCTGAGT...   \nWP_250126571.1                                                NaN   \nWP_250123895.1                                                NaN   \n\n                       Chroococcidiopsis_sp._TS-821_GCF_002939305  \\\nqseqid                                                              \nWP_250124755.1  [('TGCAAGTAACCTTTAATGACTGAGC', -219, 11), ('CT...   \nWP_250123779.1  [('GGCAAGTGGAAGTGAGTGACTTCTT', -36, 11), ('GTA...   \nWP_250125318.1  [('TGTGAGTAGGCAAAAATAACTATAT', -55, 11), ('TGT...   \nWP_250122886.1  [('CGCAAGTGCAGGCACTAGACTACAG', -272, 11), ('AC...   \nWP_250123657.1          [('AATGAGTAAGACGATCGAACTCAGT', -180, 11)]   \n...                                                           ...   \nWP_250125851.1                                                NaN   \nWP_250124035.1                                                NaN   \nWP_250125600.1                                                NaN   \nWP_250126571.1                                                NaN   \nWP_250123895.1                                                NaN   \n\n                     Chroococcidiopsis_sp._SAG_2025_GCF_032860985  \\\nqseqid                                                              \nWP_250124755.1          [('TGTGAGTTCAGTCCTGTAACTGGTT', -175, 11)]   \nWP_250123779.1           [('GGCGAGTGGAAGAGACTGACTCTTG', -35, 11)]   \nWP_250125318.1           [('TGTGAGTAGGCAAAAATAACTACTG', -33, 11)]   \nWP_250122886.1  [('TTTAAGTTTTGCGCCTCTACTTTCT', -38, 11), ('TTT...   \nWP_250123657.1  [('CGGGAGTTGGTATTACTTTTA', -290, 7), ('CGAAAGT...   \n...                                                           ...   \nWP_250125851.1                   [('ATTTAGTACAGCTATGCT', -68, 3)]   \nWP_250124035.1                                                NaN   \nWP_250125600.1                                                NaN   \nWP_250126571.1                   [('TGTAAGTCCTGCTAATTA', -73, 3)]   \nWP_250123895.1                   [('TTCTAGTCGCCCTAAGAC', -80, 3)]   \n\n                 Chroococcidiopsis_cubana_CCALA_043_GCF_003003835  \\\nqseqid                                                              \nWP_250124755.1          [('TGTGAGTTCAGTCCTGTAACTGGTT', -175, 11)]   \nWP_250123779.1           [('AGCGAGTGGAAGAGACTGACTCTTG', -35, 11)]   \nWP_250125318.1           [('TGTGAGTAGGCAAATATAACTACTG', -33, 11)]   \nWP_250122886.1  [('AATCAGTCACTGGTCACTGGTC', -131, 8), ('TTTAAG...   \nWP_250123657.1  [('AATGAGTCACAGTTTTTTACTTCTA', -85, 11), ('TCA...   \n...                                                           ...   \nWP_250125851.1                                                NaN   \nWP_250124035.1                                                NaN   \nWP_250125600.1                                                NaN   \nWP_250126571.1                                                NaN   \nWP_250123895.1                                                NaN   \n\n                    Chroococcidiopsis_sp._CCALA_051_GCF_003015105  \\\nqseqid                                                              \nWP_250124755.1          [('TGTGAGTTCAGTCCTGTAACTGGTT', -175, 11)]   \nWP_250123779.1           [('AGCGAGTGGAAGAGACTGACTCTTG', -35, 11)]   \nWP_250125318.1           [('TGTGAGTAGGCAAATATAACTACTG', -33, 11)]   \nWP_250122886.1  [('AATCAGTCACTGGTCACTGGTC', -131, 8), ('TTTAAG...   \nWP_250123657.1  [('CGAAAGTGTTTGAAAGTGACTGTTT', -146, 11), ('AA...   \n...                                                           ...   \nWP_250125851.1                                                NaN   \nWP_250124035.1                                                NaN   \nWP_250125600.1                                                NaN   \nWP_250126571.1                                                NaN   \nWP_250123895.1                                                NaN   \n\n                 Chroococcidiopsis_sp._[FACHB-1243]_GCF_014696895  \\\nqseqid                                                              \nWP_250124755.1          [('TGTGAGTTCAGTCCTGTAACTGGTT', -175, 11)]   \nWP_250123779.1           [('GGCGAGTGGAAGAGACTGACTCTTG', -35, 11)]   \nWP_250125318.1           [('TGTGAGTAGGCAAATATAACTACTG', -33, 11)]   \nWP_250122886.1  [('AATCAGTCACTGGTCACTGGTC', -124, 8), ('TTTAAG...   \nWP_250123657.1  [('CGAAAGTGTTTGAAAATGACTGTTT', -209, 11), ('CC...   \n...                                                           ...   \nWP_250125851.1                                                NaN   \nWP_250124035.1                                                NaN   \nWP_250125600.1                                                NaN   \nWP_250126571.1                                                NaN   \nWP_250123895.1                                                NaN   \n\n               Chroococcidiopsis_cubana_SAG_39.79_GCF_034438355.1  \\\nqseqid                                                              \nWP_250124755.1          [('TGTGAGTTCAGTCCTGTAACTGGTT', -175, 11)]   \nWP_250123779.1           [('AGCGAGTGGAAGAGACTGACTCTTG', -35, 11)]   \nWP_250125318.1           [('TGTGAGTAGGCAAATATAACTACTG', -33, 11)]   \nWP_250122886.1  [('AATCAGTCACTGGTCACTGGTC', -131, 8), ('TTTAAG...   \nWP_250123657.1  [('CGAAAGTGTTTGAAAGTGACTGTTT', -146, 11), ('AA...   \n...                                                           ...   \nWP_250125851.1                                                NaN   \nWP_250124035.1                                                NaN   \nWP_250125600.1                                                NaN   \nWP_250126571.1                                                NaN   \nWP_250123895.1                                                NaN   \n\n               Chroococcidiopsis_thermalis_PCC_7203_GCF_000317125      gap  \nqseqid                                                                      \nWP_250124755.1          [('TGTGAGTTCAGTCCTGTAACTGGTT', -175, 11)]  (11, 9)  \nWP_250123779.1           [('AGCGAGTGGAAGAGACTGACTCTTG', -35, 11)]  (11, 9)  \nWP_250125318.1           [('TGTGAGTAGGCAAATATAACTACTG', -33, 11)]  (11, 9)  \nWP_250122886.1  [('AATCAGTCACTGGTCACTGGTC', -131, 8), ('TTTAAG...  (11, 8)  \nWP_250123657.1  [('CGAAAGTGTTTGAAAGTAACTGTTT', -146, 11), ('CC...  (11, 8)  \n...                                                           ...      ...  \nWP_250125851.1                                                NaN   (3, 1)  \nWP_250124035.1                                                NaN   (3, 1)  \nWP_250125600.1                                                NaN   (3, 1)  \nWP_250126571.1                                                NaN   (3, 1)  \nWP_250123895.1                                                NaN   (3, 1)  \n\n[4349 rows x 10 columns]",
      "text/html": "<div>\n<style scoped>\n    .dataframe tbody tr th:only-of-type {\n        vertical-align: middle;\n    }\n\n    .dataframe tbody tr th {\n        vertical-align: top;\n    }\n\n    .dataframe thead th {\n        text-align: right;\n    }\n</style>\n<table border=\"1\" class=\"dataframe\">\n  <thead>\n    <tr style=\"text-align: right;\">\n      <th></th>\n      <th>Chroococcidiopsis_sp._CCMEE_29_GCF_023558375</th>\n      <th>Chroococcidiopsis_sp._CCNUC1_GCF_023546805</th>\n      <th>Chroococcidiopsis_sp._TS-821_GCF_002939305</th>\n      <th>Chroococcidiopsis_sp._SAG_2025_GCF_032860985</th>\n      <th>Chroococcidiopsis_cubana_CCALA_043_GCF_003003835</th>\n      <th>Chroococcidiopsis_sp._CCALA_051_GCF_003015105</th>\n      <th>Chroococcidiopsis_sp._[FACHB-1243]_GCF_014696895</th>\n      <th>Chroococcidiopsis_cubana_SAG_39.79_GCF_034438355.1</th>\n      <th>Chroococcidiopsis_thermalis_PCC_7203_GCF_000317125</th>\n      <th>gap</th>\n    </tr>\n    <tr>\n      <th>qseqid</th>\n      <th></th>\n      <th></th>\n      <th></th>\n      <th></th>\n      <th></th>\n      <th></th>\n      <th></th>\n      <th></th>\n      <th></th>\n      <th></th>\n    </tr>\n  </thead>\n  <tbody>\n    <tr>\n      <th>WP_250124755.1</th>\n      <td>[('CATAAGTTCAGTCCTCTCACTGGTT', -171, 11), ('GG...</td>\n      <td>[('TGTGAGTTCAGTCCTGTAACTGGTT', -175, 11)]</td>\n      <td>[('TGCAAGTAACCTTTAATGACTGAGC', -219, 11), ('CT...</td>\n      <td>[('TGTGAGTTCAGTCCTGTAACTGGTT', -175, 11)]</td>\n      <td>[('TGTGAGTTCAGTCCTGTAACTGGTT', -175, 11)]</td>\n      <td>[('TGTGAGTTCAGTCCTGTAACTGGTT', -175, 11)]</td>\n      <td>[('TGTGAGTTCAGTCCTGTAACTGGTT', -175, 11)]</td>\n      <td>[('TGTGAGTTCAGTCCTGTAACTGGTT', -175, 11)]</td>\n      <td>[('TGTGAGTTCAGTCCTGTAACTGGTT', -175, 11)]</td>\n      <td>(11, 9)</td>\n    </tr>\n    <tr>\n      <th>WP_250123779.1</th>\n      <td>[('AGCAAGTGGAAGTAATTTACTTCTT', -36, 11)]</td>\n      <td>[('AGCGAGTGGAAGAGACTGACTCTTG', -35, 11)]</td>\n      <td>[('GGCAAGTGGAAGTGAGTGACTTCTT', -36, 11), ('GTA...</td>\n      <td>[('GGCGAGTGGAAGAGACTGACTCTTG', -35, 11)]</td>\n      <td>[('AGCGAGTGGAAGAGACTGACTCTTG', -35, 11)]</td>\n      <td>[('AGCGAGTGGAAGAGACTGACTCTTG', -35, 11)]</td>\n      <td>[('GGCGAGTGGAAGAGACTGACTCTTG', -35, 11)]</td>\n      <td>[('AGCGAGTGGAAGAGACTGACTCTTG', -35, 11)]</td>\n      <td>[('AGCGAGTGGAAGAGACTGACTCTTG', -35, 11)]</td>\n      <td>(11, 9)</td>\n    </tr>\n    <tr>\n      <th>WP_250125318.1</th>\n      <td>[('ACACAGTAAATTCAACTTATC', -82, 7), ('TGTGAGTA...</td>\n      <td>[('TGTGAGTAGGCAAATATAACTACTG', -33, 11)]</td>\n      <td>[('TGTGAGTAGGCAAAAATAACTATAT', -55, 11), ('TGT...</td>\n      <td>[('TGTGAGTAGGCAAAAATAACTACTG', -33, 11)]</td>\n      <td>[('TGTGAGTAGGCAAATATAACTACTG', -33, 11)]</td>\n      <td>[('TGTGAGTAGGCAAATATAACTACTG', -33, 11)]</td>\n      <td>[('TGTGAGTAGGCAAATATAACTACTG', -33, 11)]</td>\n      <td>[('TGTGAGTAGGCAAATATAACTACTG', -33, 11)]</td>\n      <td>[('TGTGAGTAGGCAAATATAACTACTG', -33, 11)]</td>\n      <td>(11, 9)</td>\n    </tr>\n    <tr>\n      <th>WP_250122886.1</th>\n      <td>[('GCCTAGTAAGTACTCGTA', -278, 4), ('AGTCAGTGAA...</td>\n      <td>[('AATCAGTCACTGGTCACTGGTC', -131, 8), ('TTTAAG...</td>\n      <td>[('CGCAAGTGCAGGCACTAGACTACAG', -272, 11), ('AC...</td>\n      <td>[('TTTAAGTTTTGCGCCTCTACTTTCT', -38, 11), ('TTT...</td>\n      <td>[('AATCAGTCACTGGTCACTGGTC', -131, 8), ('TTTAAG...</td>\n      <td>[('AATCAGTCACTGGTCACTGGTC', -131, 8), ('TTTAAG...</td>\n      <td>[('AATCAGTCACTGGTCACTGGTC', -124, 8), ('TTTAAG...</td>\n      <td>[('AATCAGTCACTGGTCACTGGTC', -131, 8), ('TTTAAG...</td>\n      <td>[('AATCAGTCACTGGTCACTGGTC', -131, 8), ('TTTAAG...</td>\n      <td>(11, 8)</td>\n    </tr>\n    <tr>\n      <th>WP_250123657.1</th>\n      <td>[('GCAAAGTTAGAAGCTATCGT', -71, 5)]</td>\n      <td>[('CGAAAGTGTTTGAAAGTGACTGTTT', -146, 11), ('CC...</td>\n      <td>[('AATGAGTAAGACGATCGAACTCAGT', -180, 11)]</td>\n      <td>[('CGGGAGTTGGTATTACTTTTA', -290, 7), ('CGAAAGT...</td>\n      <td>[('AATGAGTCACAGTTTTTTACTTCTA', -85, 11), ('TCA...</td>\n      <td>[('CGAAAGTGTTTGAAAGTGACTGTTT', -146, 11), ('AA...</td>\n      <td>[('CGAAAGTGTTTGAAAATGACTGTTT', -209, 11), ('CC...</td>\n      <td>[('CGAAAGTGTTTGAAAGTGACTGTTT', -146, 11), ('AA...</td>\n      <td>[('CGAAAGTGTTTGAAAGTAACTGTTT', -146, 11), ('CC...</td>\n      <td>(11, 8)</td>\n    </tr>\n    <tr>\n      <th>...</th>\n      <td>...</td>\n      <td>...</td>\n      <td>...</td>\n      <td>...</td>\n      <td>...</td>\n      <td>...</td>\n      <td>...</td>\n      <td>...</td>\n      <td>...</td>\n      <td>...</td>\n    </tr>\n    <tr>\n      <th>WP_250125851.1</th>\n      <td>NaN</td>\n      <td>NaN</td>\n      <td>NaN</td>\n      <td>[('ATTTAGTACAGCTATGCT', -68, 3)]</td>\n      <td>NaN</td>\n      <td>NaN</td>\n      <td>NaN</td>\n      <td>NaN</td>\n      <td>NaN</td>\n      <td>(3, 1)</td>\n    </tr>\n    <tr>\n      <th>WP_250124035.1</th>\n      <td>[('ACCCAGTTCATTTTCTAACCC', -259, 6), ('TAATAGT...</td>\n      <td>NaN</td>\n      <td>NaN</td>\n      <td>NaN</td>\n      <td>NaN</td>\n      <td>NaN</td>\n      <td>NaN</td>\n      <td>NaN</td>\n      <td>NaN</td>\n      <td>(3, 1)</td>\n    </tr>\n    <tr>\n      <th>WP_250125600.1</th>\n      <td>NaN</td>\n      <td>[('GCCAAGTCATAGCCACTCAAG', -229, 7), ('GCTGAGT...</td>\n      <td>NaN</td>\n      <td>NaN</td>\n      <td>NaN</td>\n      <td>NaN</td>\n      <td>NaN</td>\n      <td>NaN</td>\n      <td>NaN</td>\n      <td>(3, 1)</td>\n    </tr>\n    <tr>\n      <th>WP_250126571.1</th>\n      <td>NaN</td>\n      <td>NaN</td>\n      <td>NaN</td>\n      <td>[('TGTAAGTCCTGCTAATTA', -73, 3)]</td>\n      <td>NaN</td>\n      <td>NaN</td>\n      <td>NaN</td>\n      <td>NaN</td>\n      <td>NaN</td>\n      <td>(3, 1)</td>\n    </tr>\n    <tr>\n      <th>WP_250123895.1</th>\n      <td>NaN</td>\n      <td>NaN</td>\n      <td>NaN</td>\n      <td>[('TTCTAGTCGCCCTAAGAC', -80, 3)]</td>\n      <td>NaN</td>\n      <td>NaN</td>\n      <td>NaN</td>\n      <td>NaN</td>\n      <td>NaN</td>\n      <td>(3, 1)</td>\n    </tr>\n  </tbody>\n</table>\n<p>4349 rows × 10 columns</p>\n</div>"
     },
     "execution_count": 3,
     "metadata": {},
     "output_type": "execute_result"
    }
   ],
   "source": [
    "import pandas as pd\n",
    "data = pd.read_excel(\"/home/davide/Desktop/motivi_sortedgaps.xlsx\")\n",
    "data.index = data[\"qseqid\"]\n",
    "data = data.drop(columns=\"qseqid\")\n",
    "data "
   ],
   "metadata": {
    "collapsed": false,
    "ExecuteTime": {
     "end_time": "2024-05-17T06:38:51.420287Z",
     "start_time": "2024-05-17T06:38:50.324503Z"
    }
   },
   "id": "b3b64fea95ad9311",
   "execution_count": 3
  },
  {
   "cell_type": "code",
   "outputs": [],
   "source": [
    "from Bio.Seq import Seq\n",
    "from Bio import motifs\n",
    "def create_motif(index_list, data):\n",
    "    selected_rows = data.loc[index_list]\n",
    "    instances = []\n",
    "    for index, row in selected_rows.iterrows():\n",
    "        gap = eval(row[\"gap\"])\n",
    "        gap = gap[0]\n",
    "        for col in row.index:\n",
    "            if col == \"gap\":\n",
    "                continue\n",
    "            if type(row[col]) == float:\n",
    "                continue\n",
    "            row[col] = eval(row[col])\n",
    "            for item in row[col]:\n",
    "                if item[-1] == gap:\n",
    "                    if item[0][-7:-4] == \"CTA\":\n",
    "                        instances.append(Seq(item[0][3:-4]))\n",
    "                    else:\n",
    "                        instances.append(Seq(item[0][3:-3]))\n",
    "    m = motifs.create(instances)\n",
    "    return m"
   ],
   "metadata": {
    "collapsed": false,
    "ExecuteTime": {
     "end_time": "2024-05-17T06:38:54.156339Z",
     "start_time": "2024-05-17T06:38:54.122418Z"
    }
   },
   "id": "c382f9efe00fb9a1",
   "execution_count": 4
  },
  {
   "cell_type": "code",
   "outputs": [
    {
     "data": {
      "image/png": "[encoded data removed]",
      "text/plain": "<IPython.core.display.Image object>"
     },
     "execution_count": 5,
     "metadata": {},
     "output_type": "execute_result"
    }
   ],
   "source": [
    "index_list = \"\"\"WP_250124755.1\n",
    "WP_250123779.1\n",
    "WP_250125318.1\n",
    "WP_250122886.1\n",
    "WP_250123657.1\n",
    "\"\"\".split()\n",
    "m = create_motif(index_list, data)\n",
    "motivo11=m\n",
    "m.weblogo(\"motif.png\")\n",
    "from IPython.display import Image\n",
    "Image(\"motif.png\")"
   ],
   "metadata": {
    "collapsed": false,
    "ExecuteTime": {
     "end_time": "2024-05-17T06:38:58.038971Z",
     "start_time": "2024-05-17T06:38:56.855437Z"
    }
   },
   "id": "c1a5b971d027a9a0",
   "execution_count": 5
  },
  {
   "cell_type": "code",
   "outputs": [
    {
     "data": {
      "image/png": "[encoded data removed]",
      "text/plain": "<IPython.core.display.Image object>"
     },
     "execution_count": 6,
     "metadata": {},
     "output_type": "execute_result"
    }
   ],
   "source": [
    "index_list = \"\"\"WP_250123271.1\n",
    "WP_250125821.1\n",
    "WP_250124730.1\n",
    "WP_250124115.1\n",
    "WP_250124342.1\n",
    "\"\"\".split()\n",
    "m = create_motif(index_list, data)\n",
    "motivo10=m\n",
    "m.weblogo(\"motif.png\")\n",
    "from IPython.display import Image\n",
    "Image(\"motif.png\")"
   ],
   "metadata": {
    "collapsed": false,
    "ExecuteTime": {
     "end_time": "2024-05-17T06:39:00.266571Z",
     "start_time": "2024-05-17T06:38:59.109086Z"
    }
   },
   "id": "2f49ff36ea704c02",
   "execution_count": 6
  },
  {
   "cell_type": "code",
   "outputs": [
    {
     "data": {
      "image/png": "[encoded data removed]",
      "text/plain": "<IPython.core.display.Image object>"
     },
     "execution_count": 7,
     "metadata": {},
     "output_type": "execute_result"
    }
   ],
   "source": [
    "index_list = \"\"\"WP_250123860.1\n",
    "WP_256478962.1\n",
    "WP_250125543.1\n",
    "WP_250123278.1\n",
    "WP_250124799.1\n",
    "\"\"\".split()\n",
    "m = create_motif(index_list, data)\n",
    "motivo9=m\n",
    "m.weblogo(\"motif.png\")\n",
    "from IPython.display import Image\n",
    "Image(\"motif.png\")"
   ],
   "metadata": {
    "collapsed": false,
    "ExecuteTime": {
     "end_time": "2024-05-17T06:39:02.995356Z",
     "start_time": "2024-05-17T06:39:01.860808Z"
    }
   },
   "id": "8f10893a5ba5bdfb",
   "execution_count": 7
  },
  {
   "cell_type": "code",
   "outputs": [
    {
     "data": {
      "image/png": "[encoded data removed]",
      "text/plain": "<IPython.core.display.Image object>"
     },
     "execution_count": 8,
     "metadata": {},
     "output_type": "execute_result"
    }
   ],
   "source": [
    "index_list = \"\"\"WP_250124371.1\n",
    "WP_250124803.1\n",
    "WP_250123724.1\n",
    "WP_250124697.1\n",
    "WP_250122355.1\n",
    "\"\"\".split()\n",
    "m = create_motif(index_list, data)\n",
    "motivo7=m\n",
    "m.weblogo(\"motif.png\")\n",
    "from IPython.display import Image\n",
    "Image(\"motif.png\")"
   ],
   "metadata": {
    "collapsed": false,
    "ExecuteTime": {
     "end_time": "2024-05-17T06:39:09.700762Z",
     "start_time": "2024-05-17T06:39:08.577857Z"
    }
   },
   "id": "e67e4680f8f6b9e",
   "execution_count": 8
  },
  {
   "cell_type": "code",
   "outputs": [
    {
     "data": {
      "image/png": "[encoded data removed]",
      "text/plain": "<IPython.core.display.Image object>"
     },
     "execution_count": 9,
     "metadata": {},
     "output_type": "execute_result"
    }
   ],
   "source": [
    "index_list = \"\"\"WP_250122330.1\n",
    "WP_250126145.1\n",
    "WP_250124343.1\n",
    "WP_250125723.1\n",
    "WP_250125827.1\n",
    "\"\"\".split()\n",
    "m = create_motif(index_list, data)\n",
    "motivo6=m\n",
    "m.weblogo(\"motif.png\")\n",
    "from IPython.display import Image\n",
    "Image(\"motif.png\")"
   ],
   "metadata": {
    "collapsed": false,
    "ExecuteTime": {
     "end_time": "2024-05-17T06:39:13.064990Z",
     "start_time": "2024-05-17T06:39:11.932355Z"
    }
   },
   "id": "f35c68bf3bf9fa7d",
   "execution_count": 9
  },
  {
   "cell_type": "code",
   "outputs": [
    {
     "data": {
      "image/png": "[encoded data removed]",
      "text/plain": "<IPython.core.display.Image object>"
     },
     "execution_count": 10,
     "metadata": {},
     "output_type": "execute_result"
    }
   ],
   "source": [
    "index_list = \"\"\"WP_250122079.1\n",
    "WP_250125646.1\n",
    "WP_250124984.1\n",
    "WP_250125618.1\n",
    "WP_250124368.1\n",
    "\"\"\".split()\n",
    "m = create_motif(index_list, data)\n",
    "motivo5=m\n",
    "m.weblogo(\"motif.png\")\n",
    "from IPython.display import Image\n",
    "Image(\"motif.png\")"
   ],
   "metadata": {
    "collapsed": false,
    "ExecuteTime": {
     "end_time": "2024-05-17T06:39:16.628228Z",
     "start_time": "2024-05-17T06:39:15.279213Z"
    }
   },
   "id": "68f694586c012f97",
   "execution_count": 10
  },
  {
   "cell_type": "code",
   "outputs": [
    {
     "data": {
      "image/png": "[encoded data removed]",
      "text/plain": "<IPython.core.display.Image object>"
     },
     "execution_count": 11,
     "metadata": {},
     "output_type": "execute_result"
    }
   ],
   "source": [
    "index_list = \"\"\"WP_250122517.1\n",
    "WP_250123666.1\n",
    "WP_250124474.1\n",
    "WP_250121220.1\n",
    "WP_250122141.1\n",
    "WP_250122036.1\n",
    "WP_250121493.1\n",
    "WP_250126127.1\n",
    "WP_250125317.1\n",
    "WP_250122575.1\"\"\".split()\n",
    "m = create_motif(index_list, data)\n",
    "motivo8=m\n",
    "m.weblogo(\"motif.png\")\n",
    "from IPython.display import Image\n",
    "Image(\"motif.png\")"
   ],
   "metadata": {
    "collapsed": false,
    "ExecuteTime": {
     "end_time": "2024-05-17T06:39:27.646120Z",
     "start_time": "2024-05-17T06:39:26.519038Z"
    }
   },
   "id": "93ed28b8a677c529",
   "execution_count": 11
  },
  {
   "cell_type": "code",
   "outputs": [],
   "source": [
    "from Bio import motifs\n",
    "from Bio.Seq import Seq\n",
    "\n",
    "def motivo_to_meme(motif: motifs.Motif, out_file):\n",
    "    pwm = motif.pwm\n",
    "    df = pd.DataFrame(pwm)\n",
    "    df_string = df.to_string(header=False, index=False)\n",
    "    # Create the MEME Motif Format text\n",
    "    meme_text = \"MEME version 5.5\\n\\n\"\n",
    "    meme_text += f\"ALPHABET= ACGT\\n\\n\"\n",
    "    meme_text += f\"strands: +\\n\\n\"\n",
    "    meme_text += f\"MOTIF {motif.degenerate_consensus} {motif.name}\\n\\n\"\n",
    "    meme_text += f\"letter-probability matrix: alength= 4 w= {motif.length} nsites= {len(motif.alignment)} E= 0\\n\"\n",
    "    meme_text += df_string\n",
    "    # Write the MEME Motif Format text to a file\n",
    "    with open(out_file, \"w\") as f:\n",
    "        f.write(meme_text)\n",
    "    return meme_text"
   ],
   "metadata": {
    "collapsed": false,
    "ExecuteTime": {
     "end_time": "2024-05-17T06:44:56.002190Z",
     "start_time": "2024-05-17T06:44:55.999153Z"
    }
   },
   "id": "76480468e83cb7d2",
   "execution_count": 15
  },
  {
   "cell_type": "code",
   "outputs": [],
   "source": [
    "lista=[motivo5,motivo6,motivo7,motivo8,motivo9,motivo10,motivo11]\n",
    "for i,m in enumerate(lista):\n",
    "    m.name=f\"motivo{i+5}\"\n",
    "    motivo_to_meme(m,f\"/home/davide/Desktop/genomiChro/MEME/motivi/motivo{i+5}.meme\")"
   ],
   "metadata": {
    "collapsed": false,
    "ExecuteTime": {
     "end_time": "2024-05-17T06:44:56.668341Z",
     "start_time": "2024-05-17T06:44:56.655440Z"
    }
   },
   "id": "5acf0ffa9d95a927",
   "execution_count": 16
  },
  {
   "cell_type": "code",
   "outputs": [
    {
     "name": "stderr",
     "output_type": "stream",
     "text": [
      "Using motif +NAGTATTWNACTA of width 13.\n",
      "Finding best site passing the output threshold in each of the 5778 sequences.\n",
      "Found a best site in 111 sequences.\n",
      "Computing q-values.\n",
      "# Computing q-values.\n",
      "#   Estimating pi_0 from a uniformly sampled set of 10000 p-values.\n",
      "#   Estimating pi_0.\n",
      "# Minimal pi_zero = 0.945\n",
      "#   Estimated pi_0=0.95292\n",
      "Using motif +GAGTANWWYTNCTA of width 14.\n",
      "Finding best site passing the output threshold in each of the 5778 sequences.\n",
      "Found a best site in 153 sequences.\n",
      "Computing q-values.\n",
      "# Computing q-values.\n",
      "#   Estimating pi_0 from a uniformly sampled set of 10000 p-values.\n",
      "#   Estimating pi_0.\n",
      "# Minimal pi_zero = 0.922913\n",
      "#   Estimated pi_0=0.931724\n",
      "Using motif +AAGTARNTTWARCTW of width 15.\n",
      "Finding best site passing the output threshold in each of the 5778 sequences.\n",
      "Found a best site in 175 sequences.\n",
      "Computing q-values.\n",
      "# Computing q-values.\n",
      "#   Estimating pi_0 from a uniformly sampled set of 10000 p-values.\n",
      "#   Estimating pi_0.\n",
      "# Minimal pi_zero = 0.9496\n",
      "#   Estimated pi_0=0.963188\n",
      "Using motif +TAGTNNNWNTKNACTA of width 16.\n",
      "Finding best site passing the output threshold in each of the 5778 sequences.\n",
      "Found a best site in 124 sequences.\n",
      "Computing q-values.\n",
      "# Computing q-values.\n",
      "#   Estimating pi_0 from a uniformly sampled set of 10000 p-values.\n",
      "#   Estimating pi_0.\n",
      "# Minimal pi_zero = 0.965741\n",
      "#   Estimated pi_0=0.978676\n",
      "Using motif +WAGTTKNYHSWNMACTN of width 17.\n",
      "Finding best site passing the output threshold in each of the 5778 sequences.\n",
      "Found a best site in 164 sequences.\n",
      "Computing q-values.\n",
      "# Computing q-values.\n",
      "#   Estimating pi_0 from a uniformly sampled set of 10000 p-values.\n",
      "#   Estimating pi_0.\n",
      "# Minimal pi_zero = 0.9084\n",
      "#   Estimated pi_0=0.915048\n",
      "Using motif +NAGTNRNNNWAAWTACTA of width 18.\n",
      "Finding best site passing the output threshold in each of the 5778 sequences.\n",
      "Found a best site in 161 sequences.\n",
      "Computing q-values.\n",
      "# Computing q-values.\n",
      "#   Estimating pi_0 from a uniformly sampled set of 10000 p-values.\n",
      "#   Estimating pi_0.\n",
      "# Minimal pi_zero = 0.948319\n",
      "#   Estimated pi_0=0.958273\n",
      "Using motif +RAGTNNNNNNNWNTNACTN of width 19.\n",
      "Finding best site passing the output threshold in each of the 5778 sequences.\n",
      "Found a best site in 139 sequences.\n",
      "Computing q-values.\n",
      "# Computing q-values.\n",
      "#   Estimating pi_0 from a uniformly sampled set of 10000 p-values.\n",
      "#   Estimating pi_0.\n",
      "# Minimal pi_zero = 0.987833\n",
      "#   Estimated pi_0=0.995876\n"
     ]
    }
   ],
   "source": [
    "import subprocess\n",
    "#add fimo to the path\n",
    "\n",
    "# fimo --o /home/davide/Desktop/genomiChro/MEME/fimo_motivo8_oops --norc /home/davide/Desktop/genomiChro/MEME/motivi/motivo8_oops.meme /home/davide/PycharmProjects/TESI2/intergeniche_RefSeq/Chroococcidiopsis_sp._CCMEE_29_GCF_023558375_intergen.fasta\n",
    "for i in range(5,12):\n",
    "    subprocess.run([\"/home/davide/meme/bin/fimo\",\"--oc\",f\"/home/davide/Desktop/genomiChro/MEME/fimo_motivo{i}\",\"--norc\",f\"/home/davide/Desktop/genomiChro/MEME/motivi/motivo{i}.meme\",\"/home/davide/PycharmProjects/TESI2/intergeniche_RefSeq/Chroococcidiopsis_sp._CCMEE_29_GCF_023558375_intergen.fasta\"])"
   ],
   "metadata": {
    "collapsed": false,
    "ExecuteTime": {
     "end_time": "2024-05-17T07:00:32.236846Z",
     "start_time": "2024-05-17T07:00:30.681143Z"
    }
   },
   "id": "d7582e89f5cbd56b",
   "execution_count": 22
  },
  {
   "cell_type": "code",
   "outputs": [],
   "source": [
    "from Bio import SeqIO\n",
    "file = \"/home/davide/PycharmProjects/TESI2/intergeniche_RefSeq/Chroococcidiopsis_sp._CCMEE_29_GCF_023558375_intergen.fasta\"\n",
    "#create a dictionary locus_tag:length of the sequence\n",
    "diz = {}\n",
    "for record in SeqIO.parse(file, \"fasta\"):\n",
    "    diz[record.id] = len(record.seq)\n",
    "import pandas as pd\n",
    "\n",
    "# List to store all dataframes\n",
    "df_list = []\n",
    "\n",
    "# Loop over the range of motif lengths\n",
    "for i in range(5, 12):\n",
    "    # Modify the fimo file path and motivo variable to match the current motif length\n",
    "    fimo = f\"/home/davide/Desktop/genomiChro/MEME/fimo_motivo{i}/fimo.tsv\"\n",
    "    motivo = globals()[f'motivo{i}']\n",
    "    # Create the dataframe\n",
    "    df_fimo = pd.read_csv(fimo, sep=\"\\t\")\n",
    "    df_fimo = df_fimo[:-3]\n",
    "    df_fimo[\"q-value\"] = df_fimo[\"q-value\"].apply(lambda x: format(x, '.2e'))\n",
    "    df_fimo[\"p-value\"] = df_fimo[\"p-value\"].apply(lambda x: format(x, '.2e'))\n",
    "    df_fimo[\"score\"] = df_fimo[\"score\"].apply(lambda x: round(x, 2))\n",
    "    df_fimo[\"score_info\"] = df_fimo['score'].astype(str) + \"|\" + df_fimo['p-value'].astype(str) + \"|\" + df_fimo['q-value'].astype(str)\n",
    "    df_fimo[\"length\"] = df_fimo[\"sequence_name\"].map(diz)\n",
    "    df_fimo[\"pos\"] = df_fimo[\"start\"] - df_fimo[\"length\"] + 1\n",
    "    df_fimo[\"heterology_index\"] = df_fimo.apply(lambda x: heterology_index(motivo.counts, x[\"matched_sequence\"]), axis=1)\n",
    "    df_fimo[\"motivo\"] = df_fimo.apply(lambda x: (x[\"matched_sequence\"], x[\"pos\"], x[\"score_info\"]), axis=1)\n",
    "    df_fimo = df_fimo[[\"sequence_name\", \"motivo\", \"heterology_index\"]]\n",
    "    df_fimo[\"gap\"]=i\n",
    "    df_fimo = df_fimo.rename(columns={\"sequence_name\": \"locus_tag\"})\n",
    "    df_fimo = df_fimo.sort_values(by=\"heterology_index\")\n",
    "    \n",
    "\n",
    "    # Append the dataframe to the list of dataframes\n",
    "    df_list.append(df_fimo)\n",
    "\n",
    "# Concatenate all the dataframes in the list into one dataframe\n",
    "df_final = pd.concat(df_list)"
   ],
   "metadata": {
    "collapsed": false,
    "ExecuteTime": {
     "end_time": "2024-05-17T07:12:30.391778Z",
     "start_time": "2024-05-17T07:12:30.263993Z"
    }
   },
   "id": "690ad88ef0e3d2de",
   "execution_count": 30
  },
  {
   "cell_type": "code",
   "outputs": [
    {
     "data": {
      "text/plain": "          locus_tag                                             motivo  \\\n0     LAU37_RS27355    (AAGTATTTGACTA, -61.0, 17.34|7.32e-07|7.36e-01)   \n1     LAU37_RS29830    (TAGTATTAAACTA, -74.0, 15.66|3.81e-06|8.65e-01)   \n2     LAU37_RS13480   (AAGTATTTAACTA, -110.0, 14.88|6.61e-06|8.65e-01)   \n3     LAU37_RS01855    (CAGTATTTGACTA, -48.0, 15.11|5.82e-06|8.65e-01)   \n4     LAU37_RS29825    (TAGTTTAATACTA, -98.0, 14.02|1.07e-05|8.65e-01)   \n...             ...                                                ...   \n1003  LAU37_RS20180  (AAGTCCTCGGTTGGGACTG, -157.0, 8.07|8.01e-05|7....   \n1004  LAU37_RS29195  (AAGTCAAGCATTGGAACTC, -67.0, 6.98|9.99e-05|7.1...   \n1005  LAU37_RS26440  (AAGTGAGTAGGACAGACTG, -18.0, 7.16|9.60e-05|7.1...   \n1006  LAU37_RS28985  (AAGTTGCCTTACTCCACTT, -121.0, 7.01|9.91e-05|7....   \n1007  LAU37_RS00655  (AAGTCTGTCCTCCCAACTG, -223.0, 7.6|8.77e-05|7.1...   \n\n      heterology_index  gap      protein_id  \\\n0             1.064434    5  WP_250123554.1   \n1             1.945910    5  WP_250126287.1   \n2             2.478127    5  WP_250126049.1   \n3             2.729441    5  WP_250123941.1   \n4             3.156462    5  WP_250126286.1   \n...                ...  ...             ...   \n1003          9.189122   11  WP_250122278.1   \n1004          9.249342   11  WP_250126759.1   \n1005          9.297844   11  WP_250123417.1   \n1006          9.502585   11  WP_250126728.1   \n1007          9.630468   11  WP_250123717.1   \n\n                                               product  gene GO_process  \\\n0                                 hypothetical protein   NaN        NaN   \n1                      GNAT family N-acetyltransferase   NaN        NaN   \n2                glycoside hydrolase family 31 protein   NaN        NaN   \n3                                 hypothetical protein   NaN        NaN   \n4     aminoglycoside phosphotransferase family protein   NaN        NaN   \n...                                                ...   ...        ...   \n1003                                 BrnT family toxin   NaN        NaN   \n1004                               RidA family protein   NaN        NaN   \n1005              9,9'-di-cis-zeta-carotene desaturase   zds        NaN   \n1006                              hypothetical protein   NaN        NaN   \n1007                                    glutaredoxin 3  grxC        NaN   \n\n     GO_component                                        GO_function  \\\n0             NaN                                                NaN   \n1             NaN                                                NaN   \n2             NaN                                                NaN   \n3             NaN                                                NaN   \n4             NaN                                                NaN   \n...           ...                                                ...   \n1003          NaN                                                NaN   \n1004          NaN                                                NaN   \n1005          NaN                                                NaN   \n1006          NaN                                                NaN   \n1007          NaN  ['GO:0015036 - disulfide oxidoreductase activi...   \n\n                               GO_process_pannzer2  \\\n0                                              NaN   \n1                                              NaN   \n2      GO:0005975 - carbohydrate metabolic process   \n3                                              NaN   \n4                                              NaN   \n...                                            ...   \n1003                                           NaN   \n1004                                           NaN   \n1005  GO:0016117 - carotenoid biosynthetic process   \n1006                                           NaN   \n1007           GO:0045454 - cell redox homeostasis   \n\n                                    KEGG_brite  \\\n0                                          NaN   \n1                                          NaN   \n2                                          NaN   \n3                                          NaN   \n4                                          NaN   \n...                                        ...   \n1003                                       NaN   \n1004                                       NaN   \n1005                                       NaN   \n1006                                       NaN   \n1007  ko03110 Chaperones and folding catalysts   \n\n                                          KEGG_pathways  \n0                                                   NaN  \n1                                                   NaN  \n2     01100 Metabolic pathways, 01110 Biosynthesis o...  \n3                                                   NaN  \n4                                                   NaN  \n...                                                 ...  \n1003                                                NaN  \n1004                                                NaN  \n1005  01100 Metabolic pathways, 01110 Biosynthesis o...  \n1006                                                NaN  \n1007                                                NaN  \n\n[1008 rows x 13 columns]",
      "text/html": "<div>\n<style scoped>\n    .dataframe tbody tr th:only-of-type {\n        vertical-align: middle;\n    }\n\n    .dataframe tbody tr th {\n        vertical-align: top;\n    }\n\n    .dataframe thead th {\n        text-align: right;\n    }\n</style>\n<table border=\"1\" class=\"dataframe\">\n  <thead>\n    <tr style=\"text-align: right;\">\n      <th></th>\n      <th>locus_tag</th>\n      <th>motivo</th>\n      <th>heterology_index</th>\n      <th>gap</th>\n      <th>protein_id</th>\n      <th>product</th>\n      <th>gene</th>\n      <th>GO_process</th>\n      <th>GO_component</th>\n      <th>GO_function</th>\n      <th>GO_process_pannzer2</th>\n      <th>KEGG_brite</th>\n      <th>KEGG_pathways</th>\n    </tr>\n  </thead>\n  <tbody>\n    <tr>\n      <th>0</th>\n      <td>LAU37_RS27355</td>\n      <td>(AAGTATTTGACTA, -61.0, 17.34|7.32e-07|7.36e-01)</td>\n      <td>1.064434</td>\n      <td>5</td>\n      <td>WP_250123554.1</td>\n      <td>hypothetical protein</td>\n      <td>NaN</td>\n      <td>NaN</td>\n      <td>NaN</td>\n      <td>NaN</td>\n      <td>NaN</td>\n      <td>NaN</td>\n      <td>NaN</td>\n    </tr>\n    <tr>\n      <th>1</th>\n      <td>LAU37_RS29830</td>\n      <td>(TAGTATTAAACTA, -74.0, 15.66|3.81e-06|8.65e-01)</td>\n      <td>1.945910</td>\n      <td>5</td>\n      <td>WP_250126287.1</td>\n      <td>GNAT family N-acetyltransferase</td>\n      <td>NaN</td>\n      <td>NaN</td>\n      <td>NaN</td>\n      <td>NaN</td>\n      <td>NaN</td>\n      <td>NaN</td>\n      <td>NaN</td>\n    </tr>\n    <tr>\n      <th>2</th>\n      <td>LAU37_RS13480</td>\n      <td>(AAGTATTTAACTA, -110.0, 14.88|6.61e-06|8.65e-01)</td>\n      <td>2.478127</td>\n      <td>5</td>\n      <td>WP_250126049.1</td>\n      <td>glycoside hydrolase family 31 protein</td>\n      <td>NaN</td>\n      <td>NaN</td>\n      <td>NaN</td>\n      <td>NaN</td>\n      <td>GO:0005975 - carbohydrate metabolic process</td>\n      <td>NaN</td>\n      <td>01100 Metabolic pathways, 01110 Biosynthesis o...</td>\n    </tr>\n    <tr>\n      <th>3</th>\n      <td>LAU37_RS01855</td>\n      <td>(CAGTATTTGACTA, -48.0, 15.11|5.82e-06|8.65e-01)</td>\n      <td>2.729441</td>\n      <td>5</td>\n      <td>WP_250123941.1</td>\n      <td>hypothetical protein</td>\n      <td>NaN</td>\n      <td>NaN</td>\n      <td>NaN</td>\n      <td>NaN</td>\n      <td>NaN</td>\n      <td>NaN</td>\n      <td>NaN</td>\n    </tr>\n    <tr>\n      <th>4</th>\n      <td>LAU37_RS29825</td>\n      <td>(TAGTTTAATACTA, -98.0, 14.02|1.07e-05|8.65e-01)</td>\n      <td>3.156462</td>\n      <td>5</td>\n      <td>WP_250126286.1</td>\n      <td>aminoglycoside phosphotransferase family protein</td>\n      <td>NaN</td>\n      <td>NaN</td>\n      <td>NaN</td>\n      <td>NaN</td>\n      <td>NaN</td>\n      <td>NaN</td>\n      <td>NaN</td>\n    </tr>\n    <tr>\n      <th>...</th>\n      <td>...</td>\n      <td>...</td>\n      <td>...</td>\n      <td>...</td>\n      <td>...</td>\n      <td>...</td>\n      <td>...</td>\n      <td>...</td>\n      <td>...</td>\n      <td>...</td>\n      <td>...</td>\n      <td>...</td>\n      <td>...</td>\n    </tr>\n    <tr>\n      <th>1003</th>\n      <td>LAU37_RS20180</td>\n      <td>(AAGTCCTCGGTTGGGACTG, -157.0, 8.07|8.01e-05|7....</td>\n      <td>9.189122</td>\n      <td>11</td>\n      <td>WP_250122278.1</td>\n      <td>BrnT family toxin</td>\n      <td>NaN</td>\n      <td>NaN</td>\n      <td>NaN</td>\n      <td>NaN</td>\n      <td>NaN</td>\n      <td>NaN</td>\n      <td>NaN</td>\n    </tr>\n    <tr>\n      <th>1004</th>\n      <td>LAU37_RS29195</td>\n      <td>(AAGTCAAGCATTGGAACTC, -67.0, 6.98|9.99e-05|7.1...</td>\n      <td>9.249342</td>\n      <td>11</td>\n      <td>WP_250126759.1</td>\n      <td>RidA family protein</td>\n      <td>NaN</td>\n      <td>NaN</td>\n      <td>NaN</td>\n      <td>NaN</td>\n      <td>NaN</td>\n      <td>NaN</td>\n      <td>NaN</td>\n    </tr>\n    <tr>\n      <th>1005</th>\n      <td>LAU37_RS26440</td>\n      <td>(AAGTGAGTAGGACAGACTG, -18.0, 7.16|9.60e-05|7.1...</td>\n      <td>9.297844</td>\n      <td>11</td>\n      <td>WP_250123417.1</td>\n      <td>9,9'-di-cis-zeta-carotene desaturase</td>\n      <td>zds</td>\n      <td>NaN</td>\n      <td>NaN</td>\n      <td>NaN</td>\n      <td>GO:0016117 - carotenoid biosynthetic process</td>\n      <td>NaN</td>\n      <td>01100 Metabolic pathways, 01110 Biosynthesis o...</td>\n    </tr>\n    <tr>\n      <th>1006</th>\n      <td>LAU37_RS28985</td>\n      <td>(AAGTTGCCTTACTCCACTT, -121.0, 7.01|9.91e-05|7....</td>\n      <td>9.502585</td>\n      <td>11</td>\n      <td>WP_250126728.1</td>\n      <td>hypothetical protein</td>\n      <td>NaN</td>\n      <td>NaN</td>\n      <td>NaN</td>\n      <td>NaN</td>\n      <td>NaN</td>\n      <td>NaN</td>\n      <td>NaN</td>\n    </tr>\n    <tr>\n      <th>1007</th>\n      <td>LAU37_RS00655</td>\n      <td>(AAGTCTGTCCTCCCAACTG, -223.0, 7.6|8.77e-05|7.1...</td>\n      <td>9.630468</td>\n      <td>11</td>\n      <td>WP_250123717.1</td>\n      <td>glutaredoxin 3</td>\n      <td>grxC</td>\n      <td>NaN</td>\n      <td>NaN</td>\n      <td>['GO:0015036 - disulfide oxidoreductase activi...</td>\n      <td>GO:0045454 - cell redox homeostasis</td>\n      <td>ko03110 Chaperones and folding catalysts</td>\n      <td>NaN</td>\n    </tr>\n  </tbody>\n</table>\n<p>1008 rows × 13 columns</p>\n</div>"
     },
     "execution_count": 32,
     "metadata": {},
     "output_type": "execute_result"
    }
   ],
   "source": [
    "df_ann=pd.read_csv(\"/home/davide/Desktop/CCMEE29Annotazioni.csv\")\n",
    "#rename column sequence_name to locus_tag\n",
    "df_ann=df_ann.rename(columns={\"sequence_name\":\"locus_tag\"})\n",
    "df=pd.merge(df_final,df_ann,on=\"locus_tag\")\n",
    "df"
   ],
   "metadata": {
    "collapsed": false,
    "ExecuteTime": {
     "end_time": "2024-05-17T07:13:52.483136Z",
     "start_time": "2024-05-17T07:13:52.455037Z"
    }
   },
   "id": "d4b7072e6faafd24",
   "execution_count": 32
  },
  {
   "cell_type": "code",
   "outputs": [],
   "source": [
    "df.to_excel(\"/home/davide/Desktop/motiviMEME_heterology_index.xlsx\",index=False)"
   ],
   "metadata": {
    "collapsed": false,
    "ExecuteTime": {
     "end_time": "2024-05-17T07:15:13.260077Z",
     "start_time": "2024-05-17T07:15:13.133281Z"
    }
   },
   "id": "fbd3d7b8f29f6712",
   "execution_count": 33
  },
  {
   "cell_type": "code",
   "outputs": [],
   "source": [],
   "metadata": {
    "collapsed": false
   },
   "id": "aa7cb28eac56d4cd"
  }
 ],
 "metadata": {
  "kernelspec": {
   "display_name": "Python 3",
   "language": "python",
   "name": "python3"
  },
  "language_info": {
   "codemirror_mode": {
    "name": "ipython",
    "version": 2
   },
   "file_extension": ".py",
   "mimetype": "text/x-python",
   "name": "python",
   "nbconvert_exporter": "python",
   "pygments_lexer": "ipython2",
   "version": "2.7.6"
  }
 },
 "nbformat": 4,
 "nbformat_minor": 5
}
