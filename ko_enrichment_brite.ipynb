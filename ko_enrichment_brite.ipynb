{
 "cells": [
  {
   "cell_type": "code",
   "execution_count": 2,
   "id": "initial_id",
   "metadata": {
    "collapsed": true,
    "ExecuteTime": {
     "end_time": "2024-04-06T17:59:40.534779Z",
     "start_time": "2024-04-06T17:59:39.927417Z"
    }
   },
   "outputs": [],
   "source": [
    "from bs4 import BeautifulSoup\n",
    "soup = BeautifulSoup(open(\"/home/davide/Downloads/KEGGbriteCCMEE29.html\"), 'html.parser')\n",
    "text=soup.get_text()\n",
    "text=text[text.find(\"ko01001\"):]\n",
    "lines = text.split(\"\\n\")\n",
    "diz={}\n",
    "\n",
    "for i,line in enumerate(lines):\n",
    "    if line.startswith(\"ko\"):\n",
    "        current_key = line[:line.index(\"(\")].strip()\n",
    "        diz[current_key] = []\n",
    "    elif line.startswith(\"WP\"):\n",
    "        proteins = line.split(\",\") if \",\" in line else [line]\n",
    "        diz[current_key].extend(proteins)\n",
    "from pprint import pprint\n",
    "\n",
    "import pandas as pd\n",
    "all_proteins = set(protein for proteins in diz.values() for protein in proteins)\n",
    "dfs = []\n",
    "for protein in all_proteins:\n",
    "    data = {pathway: 1 if protein in proteins else 0 for pathway, proteins in diz.items()}\n",
    "    df = pd.DataFrame(data, index=[protein])\n",
    "    dfs.append(df)\n",
    "result = pd.concat(dfs)\n",
    "result[\"KEGG_brite\"] = result.apply(lambda row: \", \".join(row[row == 1].index), axis=1)\n",
    "result.drop(result.columns[:-1], axis=1, inplace=True)\n"
   ]
  },
  {
   "cell_type": "code",
   "outputs": [
    {
     "data": {
      "text/plain": "                                                         pathways\nWP_250126042.1                      ko03000 Transcription factors\nWP_250126460.1           ko01008 Polyketide biosynthesis proteins\nWP_250125619.1                    ko03016 Transfer RNA biogenesis\nWP_250122721.1  ko01009 Protein phosphatases and associated pr...\nWP_250126199.1                  ko01002 Peptidases and inhibitors\n...                                                           ...\nWP_250122320.1  ko01007 Amino acid related enzymes, ko03016 Tr...\nWP_250125982.1                                   ko03011 Ribosome\nWP_256478939.1                               ko02000 Transporters\nWP_250124051.1                ko01004 Lipid biosynthesis proteins\nWP_250125098.1                    ko03016 Transfer RNA biogenesis\n\n[1163 rows x 1 columns]",
      "text/html": "<div>\n<style scoped>\n    .dataframe tbody tr th:only-of-type {\n        vertical-align: middle;\n    }\n\n    .dataframe tbody tr th {\n        vertical-align: top;\n    }\n\n    .dataframe thead th {\n        text-align: right;\n    }\n</style>\n<table border=\"1\" class=\"dataframe\">\n  <thead>\n    <tr style=\"text-align: right;\">\n      <th></th>\n      <th>pathways</th>\n    </tr>\n  </thead>\n  <tbody>\n    <tr>\n      <th>WP_250126042.1</th>\n      <td>ko03000 Transcription factors</td>\n    </tr>\n    <tr>\n      <th>WP_250126460.1</th>\n      <td>ko01008 Polyketide biosynthesis proteins</td>\n    </tr>\n    <tr>\n      <th>WP_250125619.1</th>\n      <td>ko03016 Transfer RNA biogenesis</td>\n    </tr>\n    <tr>\n      <th>WP_250122721.1</th>\n      <td>ko01009 Protein phosphatases and associated pr...</td>\n    </tr>\n    <tr>\n      <th>WP_250126199.1</th>\n      <td>ko01002 Peptidases and inhibitors</td>\n    </tr>\n    <tr>\n      <th>...</th>\n      <td>...</td>\n    </tr>\n    <tr>\n      <th>WP_250122320.1</th>\n      <td>ko01007 Amino acid related enzymes, ko03016 Tr...</td>\n    </tr>\n    <tr>\n      <th>WP_250125982.1</th>\n      <td>ko03011 Ribosome</td>\n    </tr>\n    <tr>\n      <th>WP_256478939.1</th>\n      <td>ko02000 Transporters</td>\n    </tr>\n    <tr>\n      <th>WP_250124051.1</th>\n      <td>ko01004 Lipid biosynthesis proteins</td>\n    </tr>\n    <tr>\n      <th>WP_250125098.1</th>\n      <td>ko03016 Transfer RNA biogenesis</td>\n    </tr>\n  </tbody>\n</table>\n<p>1163 rows × 1 columns</p>\n</div>"
     },
     "execution_count": 6,
     "metadata": {},
     "output_type": "execute_result"
    }
   ],
   "source": [
    "result\n",
    "#now i want only one column that for each protein says all the pathways it is involved in\n",
    "result[\"pathways\"] = result.apply(lambda row: \", \".join(row[row == 1].index), axis=1)\n",
    "result.drop(result.columns[:-1], axis=1, inplace=True)\n",
    "result"
   ],
   "metadata": {
    "collapsed": false,
    "ExecuteTime": {
     "end_time": "2024-04-06T18:12:36.920829Z",
     "start_time": "2024-04-06T18:12:36.819770Z"
    }
   },
   "id": "5292bb176f24e46e",
   "execution_count": 6
  },
  {
   "cell_type": "code",
   "outputs": [],
   "source": [
    "fimo_best=\"CCMEE29best_site.narrowPeak\"\n",
    "genbank_dir = \"annotati_Refseq\"\n",
    "import os\n",
    "import re\n",
    "from Bio import SeqIO\n",
    "from collections import Counter\n",
    "from scipy.stats import hypergeom\n",
    "import pandas as pd\n",
    "diz={\n",
    "\n",
    "    'LAU37' : 'Chroococcidiopsis_sp._CCMEE_29_(cyanobacteria)_GCF_023558375.gbff' ,\n",
    "\n",
    "}\n",
    "with open(fimo_best,\"r\") as f:\n",
    "    content=f.readlines()\n",
    "names = [line.split()[0] for line in content]\n",
    "kos = []\n",
    "kos_background = []\n",
    "ko_to_genes = {}\n",
    "i,j=0,0\n",
    "for file2 in os.listdir(genbank_dir):\n",
    "    genoma = SeqIO.parse(os.path.join(genbank_dir,file2), \"genbank\")\n",
    "    for seq in genoma:\n",
    "        for record in seq.features:\n",
    "            if record.type != \"CDS\":\n",
    "                continue\n",
    "            gene=record.qualifiers.get(\"gene\", [\"None\"])[0]\n",
    "            pid=record.qualifiers.get(\"protein_id\", [\"None\"])[0]\n",
    "            if record.qualifiers[\"locus_tag\"][0] in names:\n",
    "                i+=1\n",
    "                #see row of result with the protein id as index\n",
    "                if pid in result.index:\n",
    "                    #make a list of columns of the row with value 1\n",
    "                    ko_terms = result.columns[result.loc[pid] == 1].tolist()\n",
    "                    for ko_term in ko_terms:\n",
    "                        kos.append(ko_term)\n",
    "                        if ko_term in ko_to_genes:\n",
    "                            ko_to_genes[ko_term].append(gene)\n",
    "                        else:\n",
    "                            ko_to_genes[ko_term] = [gene]\n",
    "            else:\n",
    "                if pid in result.index:\n",
    "                    j+=1\n",
    "                    kos_background.extend(result.columns[result.loc[pid] == 1].tolist())\n",
    "kos = Counter(kos)\n",
    "kos_background = Counter(kos_background)\n",
    "M = i+j\n",
    "n = i\n",
    "p_values = {}\n",
    "enrichments = {}\n",
    "for ko in kos:\n",
    "    k = kos[ko]\n",
    "    N = kos_background[ko]\n",
    "    p_values[ko] = hypergeom.sf(k-1, M, N, n)\n",
    "    enrichments[ko] = (k/n) / (N/M)\n",
    "    enrichments[ko] = \"positivo\" if enrichments[ko] > 1 else \"negativo\"\n",
    "df=pd.DataFrame.from_dict(p_values,orient=\"index\",columns=[\"p_value\"])\n",
    "df[\"enrichment\"] = pd.Series(enrichments)\n",
    "for ko in kos:\n",
    "    df.at[ko, \"genes with motif\"] = \", \".join(ko_to_genes[ko])\n",
    "df.sort_values(\"p_value\", inplace=True, ascending=True)"
   ],
   "metadata": {
    "collapsed": false,
    "ExecuteTime": {
     "end_time": "2024-04-06T18:00:08.677367Z",
     "start_time": "2024-04-06T18:00:03.744346Z"
    }
   },
   "id": "6341da81f097a416",
   "execution_count": 3
  },
  {
   "cell_type": "code",
   "outputs": [
    {
     "data": {
      "text/plain": "                                                     p_value enrichment  \\\nko03400 DNA repair and recombination proteins       0.112903   positivo   \nko03032 DNA replication proteins                    0.496475   positivo   \nko03021 Transcription machinery                     0.824438   negativo   \nko03036 Chromosome and associated proteins          0.892947   negativo   \nko01002 Peptidases and inhibitors                   0.947833   negativo   \nko03029 Mitochondrial biogenesis                    0.949757   negativo   \nko03016 Transfer RNA biogenesis                     0.960326   negativo   \nko01007 Amino acid related enzymes                  0.960412   negativo   \nko02048 Prokaryotic defense system                  0.980930   negativo   \nko01011 Peptidoglycan biosynthesis and degradat...  0.981009   negativo   \nko02022 Two-component system                        0.990734   negativo   \nko02044 Secretion system                            0.991976   negativo   \nko03110 Chaperones and folding catalysts            0.995493   negativo   \nko03011 Ribosome                                    0.996323   negativo   \nko04147 Exosome                                     0.998778   negativo   \nko03000 Transcription factors                       0.999843   negativo   \nko00194 Photosynthesis proteins                     0.999914   negativo   \nko02000 Transporters                                1.000000   negativo   \n\n                                                                                     genes with motif  \nko03400 DNA repair and recombination proteins       None, None, radA, lexA, xseA, recA, None, None...  \nko03032 DNA replication proteins                                                     None, None, topA  \nko03021 Transcription machinery                                                            None, None  \nko03036 Chromosome and associated proteins                                     None, sepF, None, None  \nko01002 Peptidases and inhibitors                                         ggt, None, None, lexA, ftsH  \nko03029 Mitochondrial biogenesis                                                           None, None  \nko03016 Transfer RNA biogenesis                                          None, None, None, None, cysS  \nko01007 Amino acid related enzymes                                                         cysS, bioA  \nko02048 Prokaryotic defense system                                                         None, None  \nko01011 Peptidoglycan biosynthesis and degradat...                                               None  \nko02022 Two-component system                                                                     None  \nko02044 Secretion system                                                                         None  \nko03110 Chaperones and folding catalysts                                                         ftsH  \nko03011 Ribosome                                                                           rplC, rpsT  \nko04147 Exosome                                                                                  lpdA  \nko03000 Transcription factors                                                                    None  \nko00194 Photosynthesis proteins                                                            None, psbD  \nko02000 Transporters                                               fetB, None, None, None, None, None  ",
      "text/html": "<div>\n<style scoped>\n    .dataframe tbody tr th:only-of-type {\n        vertical-align: middle;\n    }\n\n    .dataframe tbody tr th {\n        vertical-align: top;\n    }\n\n    .dataframe thead th {\n        text-align: right;\n    }\n</style>\n<table border=\"1\" class=\"dataframe\">\n  <thead>\n    <tr style=\"text-align: right;\">\n      <th></th>\n      <th>p_value</th>\n      <th>enrichment</th>\n      <th>genes with motif</th>\n    </tr>\n  </thead>\n  <tbody>\n    <tr>\n      <th>ko03400 DNA repair and recombination proteins</th>\n      <td>0.112903</td>\n      <td>positivo</td>\n      <td>None, None, radA, lexA, xseA, recA, None, None...</td>\n    </tr>\n    <tr>\n      <th>ko03032 DNA replication proteins</th>\n      <td>0.496475</td>\n      <td>positivo</td>\n      <td>None, None, topA</td>\n    </tr>\n    <tr>\n      <th>ko03021 Transcription machinery</th>\n      <td>0.824438</td>\n      <td>negativo</td>\n      <td>None, None</td>\n    </tr>\n    <tr>\n      <th>ko03036 Chromosome and associated proteins</th>\n      <td>0.892947</td>\n      <td>negativo</td>\n      <td>None, sepF, None, None</td>\n    </tr>\n    <tr>\n      <th>ko01002 Peptidases and inhibitors</th>\n      <td>0.947833</td>\n      <td>negativo</td>\n      <td>ggt, None, None, lexA, ftsH</td>\n    </tr>\n    <tr>\n      <th>ko03029 Mitochondrial biogenesis</th>\n      <td>0.949757</td>\n      <td>negativo</td>\n      <td>None, None</td>\n    </tr>\n    <tr>\n      <th>ko03016 Transfer RNA biogenesis</th>\n      <td>0.960326</td>\n      <td>negativo</td>\n      <td>None, None, None, None, cysS</td>\n    </tr>\n    <tr>\n      <th>ko01007 Amino acid related enzymes</th>\n      <td>0.960412</td>\n      <td>negativo</td>\n      <td>cysS, bioA</td>\n    </tr>\n    <tr>\n      <th>ko02048 Prokaryotic defense system</th>\n      <td>0.980930</td>\n      <td>negativo</td>\n      <td>None, None</td>\n    </tr>\n    <tr>\n      <th>ko01011 Peptidoglycan biosynthesis and degradation proteins</th>\n      <td>0.981009</td>\n      <td>negativo</td>\n      <td>None</td>\n    </tr>\n    <tr>\n      <th>ko02022 Two-component system</th>\n      <td>0.990734</td>\n      <td>negativo</td>\n      <td>None</td>\n    </tr>\n    <tr>\n      <th>ko02044 Secretion system</th>\n      <td>0.991976</td>\n      <td>negativo</td>\n      <td>None</td>\n    </tr>\n    <tr>\n      <th>ko03110 Chaperones and folding catalysts</th>\n      <td>0.995493</td>\n      <td>negativo</td>\n      <td>ftsH</td>\n    </tr>\n    <tr>\n      <th>ko03011 Ribosome</th>\n      <td>0.996323</td>\n      <td>negativo</td>\n      <td>rplC, rpsT</td>\n    </tr>\n    <tr>\n      <th>ko04147 Exosome</th>\n      <td>0.998778</td>\n      <td>negativo</td>\n      <td>lpdA</td>\n    </tr>\n    <tr>\n      <th>ko03000 Transcription factors</th>\n      <td>0.999843</td>\n      <td>negativo</td>\n      <td>None</td>\n    </tr>\n    <tr>\n      <th>ko00194 Photosynthesis proteins</th>\n      <td>0.999914</td>\n      <td>negativo</td>\n      <td>None, psbD</td>\n    </tr>\n    <tr>\n      <th>ko02000 Transporters</th>\n      <td>1.000000</td>\n      <td>negativo</td>\n      <td>fetB, None, None, None, None, None</td>\n    </tr>\n  </tbody>\n</table>\n</div>"
     },
     "execution_count": 4,
     "metadata": {},
     "output_type": "execute_result"
    }
   ],
   "source": [
    "df"
   ],
   "metadata": {
    "collapsed": false,
    "ExecuteTime": {
     "end_time": "2024-04-06T18:00:17.393280Z",
     "start_time": "2024-04-06T18:00:17.385560Z"
    }
   },
   "id": "a8497074bef1b40c",
   "execution_count": 4
  },
  {
   "cell_type": "code",
   "outputs": [],
   "source": [],
   "metadata": {
    "collapsed": false
   },
   "id": "1a887e6b432c04e4"
  }
 ],
 "metadata": {
  "kernelspec": {
   "display_name": "Python 3",
   "language": "python",
   "name": "python3"
  },
  "language_info": {
   "codemirror_mode": {
    "name": "ipython",
    "version": 2
   },
   "file_extension": ".py",
   "mimetype": "text/x-python",
   "name": "python",
   "nbconvert_exporter": "python",
   "pygments_lexer": "ipython2",
   "version": "2.7.6"
  }
 },
 "nbformat": 4,
 "nbformat_minor": 5
}
