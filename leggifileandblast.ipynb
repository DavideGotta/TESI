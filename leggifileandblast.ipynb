{
 "cells": [
  {
   "cell_type": "code",
   "execution_count": 1,
   "id": "initial_id",
   "metadata": {
    "collapsed": true,
    "ExecuteTime": {
     "end_time": "2024-04-17T18:17:22.970496Z",
     "start_time": "2024-04-17T18:17:22.967799Z"
    }
   },
   "outputs": [
    {
     "name": "stdout",
     "output_type": "stream",
     "text": [
      "['all0875', 'all2563', 'all4713', 'all4121', 'alr4641', 'alr1742', 'alr2328', 'alr0528', 'alr3402', 'alr4908', 'all3272', 'all4708', 'alr0088', 'alr7579', 'alr0020', 'alr1524', 'alr4404']\n"
     ]
    }
   ],
   "source": [
    "testo=\"\"\"Downregulated genes 1 glgB (all0875) AGTataaaACT 5 94 TAATAA 51 2 talB (all2563) AGTcttaacaaACT 8 32 TAAAAT 19 3 galE(all4713) AGTagttgtcaACT 8 28 TAAATT 39 4 petH (all4121) AGTTagaaggtgAACa 10 198 TTATTAA 230 5 prxA (alr4641) ACAGaTcgtaatcaAACTGT 10 160 TAATCA 152 6 dnaK (alr1742) AGTAttaaTtCT 6 292 TAAATT 278 7 glnA (alr2328) AGgTGtgtcatCAACT 10 94 TATTTC 100 8 cpcB (alr0528) AAGTggcaagaAaTT 7 134 TAAAAT 170 9 ndk (alr3402) AGTtaattgttgACT 9 166 TAAACT 185 10 lexA (alr4908) TAGTactaatgttCTA 8 48 TATTTT 55 11 recA (all3272) AGTAtatctgttcTACT 11 67 TTAATT 108 12 tdk (all4708) AGTgttcacaACT 7 90 TAAAAAT 51 13 ssb1 (alr0088) AGTActtatgTACT 8/6 28 TAATAA 33 14 ssb2 (alr7579) TAAGTcattACTTA 4 236 TATAAT 224 Upregulated genes 1 apcE (alr0020) AGTatgtACT 4 225 GAAAAT 190 2 rbcL (alr1524) AGTaaaagcgttaACT 10 218 ACTTAT 205 3 ahpC (alr4404) TtGTtaaaaaccACTA 8 98 TTAAGA \"\"\"\n",
    "#extracting the gene names between the brackets\n",
    "import re\n",
    "genes=re.findall(r\"\\((.*?)\\)\",testo)\n",
    "print(genes)"
   ]
  },
  {
   "cell_type": "code",
   "outputs": [],
   "source": [
    "from Bio import SeqIO\n",
    "from Bio.Seq import Seq\n",
    "from Bio.SeqRecord import SeqRecord\n",
    "tags=[]\n",
    "seqs=[]\n",
    "file=\"/home/davide/Downloads/NostocPCC7120refseq.gb\"\n",
    "file=\"/home/davide/Downloads/NostocPCC7120refseq.gbk\"\n",
    "for record in SeqIO.parse(file, \"genbank\"):\n",
    "    for feature in record.features:\n",
    "        if feature.type==\"CDS\":\n",
    "            if feature.qualifiers.get('old_locus_tag',[''])[0] in genes or feature.qualifiers.get('gene',[''])[0]=='ndk':\n",
    "                old_locus_tag=feature.qualifiers.get('old_locus_tag',[''])[0]\n",
    "                gene=feature.qualifiers.get('gene',[''])[0]\n",
    "                locus_tag=feature.qualifiers[\"locus_tag\"][0]\n",
    "                product=feature.qualifiers.get('product',[''])[0]\n",
    "                tags.append(old_locus_tag)\n",
    "                if gene:\n",
    "                    description=f\"old_locus_tag:{old_locus_tag}, gene:{gene}, product:{product}\"\n",
    "                else:\n",
    "                    description=f\"old_locus_tag:{old_locus_tag}, product:{product}\"\n",
    "                seqs.append(\n",
    "                    SeqRecord(\n",
    "                        Seq(str(feature.qualifiers[\"translation\"][0])),\n",
    "                        id=locus_tag,\n",
    "                        description=description\n",
    "                    )\n",
    "                )"
   ],
   "metadata": {
    "collapsed": false,
    "ExecuteTime": {
     "end_time": "2024-04-17T10:09:55.829264Z",
     "start_time": "2024-04-17T10:09:55.295856Z"
    }
   },
   "id": "fff893f8e364f7fa",
   "execution_count": 3
  },
  {
   "cell_type": "code",
   "outputs": [],
   "source": [
    "with open(\"/home/davide/anabenalexa.fasta\",\"a\") as f:\n",
    "    SeqIO.write(seqs,f,\"fasta\")"
   ],
   "metadata": {
    "collapsed": false,
    "ExecuteTime": {
     "end_time": "2024-04-17T10:09:56.540298Z",
     "start_time": "2024-04-17T10:09:56.536785Z"
    }
   },
   "id": "386ca76133fb7def",
   "execution_count": 4
  },
  {
   "cell_type": "code",
   "outputs": [],
   "source": [
    "#use blastp to find the homologous proteins"
   ],
   "metadata": {
    "collapsed": false,
    "ExecuteTime": {
     "end_time": "2024-04-17T10:09:57.883816Z",
     "start_time": "2024-04-17T10:09:57.881612Z"
    }
   },
   "id": "857c9e4f838f7ae0",
   "execution_count": 5
  },
  {
   "cell_type": "code",
   "outputs": [],
   "source": [
    "import subprocess\n",
    "import os\n",
    "database_dir=\"/home/davide/Desktop/genomiChro/database_RefSeq\"\n",
    "anabena=\"/home/davide/anabenalexa.fasta\"\n",
    "for file in os.listdir(database_dir):\n",
    "    if file.endswith(\".pdb\"):\n",
    "        file=file[:-4]\n",
    "        nome=file\n",
    "        file=os.path.join(database_dir,file)\n",
    "        output_file=f\"/home/davide/Desktop/genomiChro/blastanabena/{nome}tab.txt\"\n",
    "        subprocess.run([\"blastp\", \"-query\", anabena, \"-db\", file, \"-out\", output_file, \"-outfmt\", \"6 qseqid sseqid pident length evalue\"])\n",
    "        "
   ],
   "metadata": {
    "collapsed": false,
    "ExecuteTime": {
     "end_time": "2024-04-13T16:57:50.419446Z",
     "start_time": "2024-04-13T16:57:45.763978Z"
    }
   },
   "id": "273fa2d6bbf2f6c9",
   "execution_count": 52
  },
  {
   "cell_type": "code",
   "outputs": [],
   "source": [
    "import subprocess\n",
    "from pathlib import Path\n",
    "database=\"/home/davide/Desktop/genomiChro/databases/PCC6803GT\"\n",
    "proteine_ref=Path(\"/home/davide/Desktop/genomiChro/proteine_RefSeq\")\n",
    "for file in proteine_ref.iterdir():\n",
    "    output_file=f\"/home/davide/Desktop/genomiChro/blastpvsPCC6803/{file.stem}vsPCC6803.txt\"\n",
    "    subprocess.run([\"blastp\", \"-query\", file, \"-db\", database, \"-out\", output_file, \"-outfmt\", \"6 qseqid stitle pident length evalue\"])"
   ],
   "metadata": {
    "collapsed": false,
    "ExecuteTime": {
     "end_time": "2024-05-12T18:16:10.251160Z",
     "start_time": "2024-05-12T17:58:04.814741Z"
    }
   },
   "id": "ef635a76b17e6b87",
   "execution_count": 1
  },
  {
   "cell_type": "code",
   "outputs": [
    {
     "data": {
      "text/plain": "             old_locus_tag        motivo_omologo  \\\ngene_omologo                                       \nglgB             (all0875)           AGTataaaACT   \ntalB             (all2563)        AGTcttaacaaACT   \ngalE             (all4713)        AGTagttgtcaACT   \npetH             (all4121)      AGTTagaaggtgAACa   \nprxA             (alr4641)  ACAGaTcgtaatcaAACTGT   \ndnaK             (alr1742)          AGTAttaaTtCT   \nglnA             (alr2328)      AGgTGtgtcatCAACT   \ncpcB             (alr0258)       AAGTggcaagaAaTT   \nndk              (alr3402)       AGTtaattgttgACT   \nlexA             (alr4908)      TAGTactaatgttCTA   \nrecA             (all3272)     AGTAtatctgttcTACT   \ntdk              (all4708)         AGTgttcacaACT   \nssb1             (alr0088)        AGTActtatgTACT   \nssb2             (alr7579)        TAAGTcattACTTA   \napcE             (alr0020)            AGTatgtACT   \nrbcL             (alr1524)      AGTaaaagcgttaACT   \nahpC             (alr4404)      TtGTtaaaaaccACTA   \n\n                                              Evidenze  \\\ngene_omologo                                             \nglgB          Anabaena PCC 7120: sovraespressione+EMSA   \ntalB          Anabaena PCC 7120: sovraespressione+EMSA   \ngalE          Anabaena PCC 7120: sovraespressione+EMSA   \npetH          Anabaena PCC 7120: sovraespressione+EMSA   \nprxA          Anabaena PCC 7120: sovraespressione+EMSA   \ndnaK          Anabaena PCC 7120: sovraespressione+EMSA   \nglnA          Anabaena PCC 7120: sovraespressione+EMSA   \ncpcB          Anabaena PCC 7120: sovraespressione+EMSA   \nndk           Anabaena PCC 7120: sovraespressione+EMSA   \nlexA          Anabaena PCC 7120: sovraespressione+EMSA   \nrecA          Anabaena PCC 7120: sovraespressione+EMSA   \ntdk           Anabaena PCC 7120: sovraespressione+EMSA   \nssb1          Anabaena PCC 7120: sovraespressione+EMSA   \nssb2          Anabaena PCC 7120: sovraespressione+EMSA   \napcE          Anabaena PCC 7120: sovraespressione+EMSA   \nrbcL          Anabaena PCC 7120: sovraespressione+EMSA   \nahpC          Anabaena PCC 7120: sovraespressione+EMSA   \n\n                                                  Pubblicazione  \ngene_omologo                                                     \nglgB          Kumar et al., 2018. https://doi.org/10.1016/j....  \ntalB          Kumar et al., 2018. https://doi.org/10.1016/j....  \ngalE          Kumar et al., 2018. https://doi.org/10.1016/j....  \npetH          Kumar et al., 2018. https://doi.org/10.1016/j....  \nprxA          Kumar et al., 2018. https://doi.org/10.1016/j....  \ndnaK          Kumar et al., 2018. https://doi.org/10.1016/j....  \nglnA          Kumar et al., 2018. https://doi.org/10.1016/j....  \ncpcB          Kumar et al., 2018. https://doi.org/10.1016/j....  \nndk           Kumar et al., 2018. https://doi.org/10.1016/j....  \nlexA          Kumar et al., 2018. https://doi.org/10.1016/j....  \nrecA          Kumar et al., 2018. https://doi.org/10.1016/j....  \ntdk           Kumar et al., 2018. https://doi.org/10.1016/j....  \nssb1          Kumar et al., 2018. https://doi.org/10.1016/j....  \nssb2          Kumar et al., 2018. https://doi.org/10.1016/j....  \napcE          Kumar et al., 2018. https://doi.org/10.1016/j....  \nrbcL          Kumar et al., 2018. https://doi.org/10.1016/j....  \nahpC          Kumar et al., 2018. https://doi.org/10.1016/j....  ",
      "text/html": "<div>\n<style scoped>\n    .dataframe tbody tr th:only-of-type {\n        vertical-align: middle;\n    }\n\n    .dataframe tbody tr th {\n        vertical-align: top;\n    }\n\n    .dataframe thead th {\n        text-align: right;\n    }\n</style>\n<table border=\"1\" class=\"dataframe\">\n  <thead>\n    <tr style=\"text-align: right;\">\n      <th></th>\n      <th>old_locus_tag</th>\n      <th>motivo_omologo</th>\n      <th>Evidenze</th>\n      <th>Pubblicazione</th>\n    </tr>\n    <tr>\n      <th>gene_omologo</th>\n      <th></th>\n      <th></th>\n      <th></th>\n      <th></th>\n    </tr>\n  </thead>\n  <tbody>\n    <tr>\n      <th>glgB</th>\n      <td>(all0875)</td>\n      <td>AGTataaaACT</td>\n      <td>Anabaena PCC 7120: sovraespressione+EMSA</td>\n      <td>Kumar et al., 2018. https://doi.org/10.1016/j....</td>\n    </tr>\n    <tr>\n      <th>talB</th>\n      <td>(all2563)</td>\n      <td>AGTcttaacaaACT</td>\n      <td>Anabaena PCC 7120: sovraespressione+EMSA</td>\n      <td>Kumar et al., 2018. https://doi.org/10.1016/j....</td>\n    </tr>\n    <tr>\n      <th>galE</th>\n      <td>(all4713)</td>\n      <td>AGTagttgtcaACT</td>\n      <td>Anabaena PCC 7120: sovraespressione+EMSA</td>\n      <td>Kumar et al., 2018. https://doi.org/10.1016/j....</td>\n    </tr>\n    <tr>\n      <th>petH</th>\n      <td>(all4121)</td>\n      <td>AGTTagaaggtgAACa</td>\n      <td>Anabaena PCC 7120: sovraespressione+EMSA</td>\n      <td>Kumar et al., 2018. https://doi.org/10.1016/j....</td>\n    </tr>\n    <tr>\n      <th>prxA</th>\n      <td>(alr4641)</td>\n      <td>ACAGaTcgtaatcaAACTGT</td>\n      <td>Anabaena PCC 7120: sovraespressione+EMSA</td>\n      <td>Kumar et al., 2018. https://doi.org/10.1016/j....</td>\n    </tr>\n    <tr>\n      <th>dnaK</th>\n      <td>(alr1742)</td>\n      <td>AGTAttaaTtCT</td>\n      <td>Anabaena PCC 7120: sovraespressione+EMSA</td>\n      <td>Kumar et al., 2018. https://doi.org/10.1016/j....</td>\n    </tr>\n    <tr>\n      <th>glnA</th>\n      <td>(alr2328)</td>\n      <td>AGgTGtgtcatCAACT</td>\n      <td>Anabaena PCC 7120: sovraespressione+EMSA</td>\n      <td>Kumar et al., 2018. https://doi.org/10.1016/j....</td>\n    </tr>\n    <tr>\n      <th>cpcB</th>\n      <td>(alr0258)</td>\n      <td>AAGTggcaagaAaTT</td>\n      <td>Anabaena PCC 7120: sovraespressione+EMSA</td>\n      <td>Kumar et al., 2018. https://doi.org/10.1016/j....</td>\n    </tr>\n    <tr>\n      <th>ndk</th>\n      <td>(alr3402)</td>\n      <td>AGTtaattgttgACT</td>\n      <td>Anabaena PCC 7120: sovraespressione+EMSA</td>\n      <td>Kumar et al., 2018. https://doi.org/10.1016/j....</td>\n    </tr>\n    <tr>\n      <th>lexA</th>\n      <td>(alr4908)</td>\n      <td>TAGTactaatgttCTA</td>\n      <td>Anabaena PCC 7120: sovraespressione+EMSA</td>\n      <td>Kumar et al., 2018. https://doi.org/10.1016/j....</td>\n    </tr>\n    <tr>\n      <th>recA</th>\n      <td>(all3272)</td>\n      <td>AGTAtatctgttcTACT</td>\n      <td>Anabaena PCC 7120: sovraespressione+EMSA</td>\n      <td>Kumar et al., 2018. https://doi.org/10.1016/j....</td>\n    </tr>\n    <tr>\n      <th>tdk</th>\n      <td>(all4708)</td>\n      <td>AGTgttcacaACT</td>\n      <td>Anabaena PCC 7120: sovraespressione+EMSA</td>\n      <td>Kumar et al., 2018. https://doi.org/10.1016/j....</td>\n    </tr>\n    <tr>\n      <th>ssb1</th>\n      <td>(alr0088)</td>\n      <td>AGTActtatgTACT</td>\n      <td>Anabaena PCC 7120: sovraespressione+EMSA</td>\n      <td>Kumar et al., 2018. https://doi.org/10.1016/j....</td>\n    </tr>\n    <tr>\n      <th>ssb2</th>\n      <td>(alr7579)</td>\n      <td>TAAGTcattACTTA</td>\n      <td>Anabaena PCC 7120: sovraespressione+EMSA</td>\n      <td>Kumar et al., 2018. https://doi.org/10.1016/j....</td>\n    </tr>\n    <tr>\n      <th>apcE</th>\n      <td>(alr0020)</td>\n      <td>AGTatgtACT</td>\n      <td>Anabaena PCC 7120: sovraespressione+EMSA</td>\n      <td>Kumar et al., 2018. https://doi.org/10.1016/j....</td>\n    </tr>\n    <tr>\n      <th>rbcL</th>\n      <td>(alr1524)</td>\n      <td>AGTaaaagcgttaACT</td>\n      <td>Anabaena PCC 7120: sovraespressione+EMSA</td>\n      <td>Kumar et al., 2018. https://doi.org/10.1016/j....</td>\n    </tr>\n    <tr>\n      <th>ahpC</th>\n      <td>(alr4404)</td>\n      <td>TtGTtaaaaaccACTA</td>\n      <td>Anabaena PCC 7120: sovraespressione+EMSA</td>\n      <td>Kumar et al., 2018. https://doi.org/10.1016/j....</td>\n    </tr>\n  </tbody>\n</table>\n</div>"
     },
     "execution_count": 6,
     "metadata": {},
     "output_type": "execute_result"
    }
   ],
   "source": [
    "import pandas as pd\n",
    "file=\"/home/davide/Downloads/provageni.txt\"\n",
    "#open the file and read the lines\n",
    "with open(file) as f:\n",
    "    lines=f.read()\n",
    "lines=lines.split(\" \")\n",
    "#remove\n",
    "lines=[x for x in lines if x!='Upregulated' and x!='Downregulated' and x!='genes']\n",
    "lines=[lines[i:i+8]for i in range(0, len(lines), 8)]\n",
    "lines\n",
    "df_anabena=pd.DataFrame(lines,columns=[\"index\",\"gene_omologo\",\"old_locus_tag\",\"motivo_omologo\",\"spacer\",\"upstream\",\"-10region\",\"-10upstream\"])\n",
    "df_anabena.drop(columns=[\"index\"],inplace=True)\n",
    "df_anabena.set_index(\"gene_omologo\",inplace=True)\n",
    "#drop allcolumn not gene or motif\n",
    "df_anabena.drop(columns=[\"spacer\",\"upstream\",\"-10region\",\"-10upstream\"],inplace=True)\n",
    "#add column Evidenze with the value: Anabaena PCC 7120: sovraespressione+EMSA\n",
    "df_anabena[\"Evidenze\"]=\"Anabaena PCC 7120: sovraespressione+EMSA\"\n",
    "df_anabena[\"Pubblicazione\"]=\"Kumar et al., 2018. https://doi.org/10.1016/j.bbagrm.2018.07.007\"\n",
    "df_anabena"
   ],
   "metadata": {
    "collapsed": false,
    "ExecuteTime": {
     "end_time": "2024-04-17T10:10:03.063800Z",
     "start_time": "2024-04-17T10:10:02.894439Z"
    }
   },
   "id": "141a5f91c87abe0",
   "execution_count": 6
  },
  {
   "cell_type": "code",
   "outputs": [
    {
     "data": {
      "text/plain": "                  motivo_omologo   gene_omologo  \\\nprotein_id                                        \nWP_015156652.1  AGgTGtgtcatCAACT  glnA(alr2328)   \nWP_106166489.1    AGTagttgtcaACT  galE(all4713)   \nWP_015157218.1  AGTaaaagcgttaACT  rbcL(alr1524)   \nWP_106169039.1        AGTatgtACT  apcE(alr0020)   \nWP_015153058.1  AGTTagaaggtgAACa  petH(all4121)   \n...                          ...            ...   \nWP_106168867.1  AGTTagaaggtgAACa  petH(all4121)   \nWP_106169531.1     AGTgttcacaACT   tdk(all4708)   \nWP_219888929.1    AGTActtatgTACT  ssb1(alr0088)   \nWP_146138757.1  TAGTactaatgttCTA  lexA(alr4908)   \nWP_015156664.1     AGTgttcacaACT   tdk(all4708)   \n\n                                      info_blastp  \\\nprotein_id                                          \nWP_015156652.1   id: 79.87, len: 472, evalue: 0.0   \nWP_106166489.1   id: 80.97, len: 331, evalue: 0.0   \nWP_015157218.1   id: 89.29, len: 476, evalue: 0.0   \nWP_106169039.1  id: 81.11, len: 1064, evalue: 0.0   \nWP_015153058.1   id: 72.33, len: 430, evalue: 0.0   \n...                                           ...   \nWP_106168867.1    id: 38.89, len: 18, evalue: 9.4   \nWP_106169531.1    id: 30.77, len: 39, evalue: 9.4   \nWP_219888929.1    id: 32.69, len: 52, evalue: 9.6   \nWP_146138757.1    id: 36.00, len: 25, evalue: 9.7   \nWP_015156664.1    id: 40.00, len: 20, evalue: 9.7   \n\n                                                Evidenze  \\\nprotein_id                                                 \nWP_015156652.1  Anabaena PCC 7120: sovraespressione+EMSA   \nWP_106166489.1  Anabaena PCC 7120: sovraespressione+EMSA   \nWP_015157218.1  Anabaena PCC 7120: sovraespressione+EMSA   \nWP_106169039.1  Anabaena PCC 7120: sovraespressione+EMSA   \nWP_015153058.1  Anabaena PCC 7120: sovraespressione+EMSA   \n...                                                  ...   \nWP_106168867.1  Anabaena PCC 7120: sovraespressione+EMSA   \nWP_106169531.1  Anabaena PCC 7120: sovraespressione+EMSA   \nWP_219888929.1  Anabaena PCC 7120: sovraespressione+EMSA   \nWP_146138757.1  Anabaena PCC 7120: sovraespressione+EMSA   \nWP_015156664.1  Anabaena PCC 7120: sovraespressione+EMSA   \n\n                                                    Pubblicazione  \nprotein_id                                                         \nWP_015156652.1  Kumar et al., 2018. https://doi.org/10.1016/j....  \nWP_106166489.1  Kumar et al., 2018. https://doi.org/10.1016/j....  \nWP_015157218.1  Kumar et al., 2018. https://doi.org/10.1016/j....  \nWP_106169039.1  Kumar et al., 2018. https://doi.org/10.1016/j....  \nWP_015153058.1  Kumar et al., 2018. https://doi.org/10.1016/j....  \n...                                                           ...  \nWP_106168867.1  Kumar et al., 2018. https://doi.org/10.1016/j....  \nWP_106169531.1  Kumar et al., 2018. https://doi.org/10.1016/j....  \nWP_219888929.1  Kumar et al., 2018. https://doi.org/10.1016/j....  \nWP_146138757.1  Kumar et al., 2018. https://doi.org/10.1016/j....  \nWP_015156664.1  Kumar et al., 2018. https://doi.org/10.1016/j....  \n\n[260 rows x 5 columns]",
      "text/html": "<div>\n<style scoped>\n    .dataframe tbody tr th:only-of-type {\n        vertical-align: middle;\n    }\n\n    .dataframe tbody tr th {\n        vertical-align: top;\n    }\n\n    .dataframe thead th {\n        text-align: right;\n    }\n</style>\n<table border=\"1\" class=\"dataframe\">\n  <thead>\n    <tr style=\"text-align: right;\">\n      <th></th>\n      <th>motivo_omologo</th>\n      <th>gene_omologo</th>\n      <th>info_blastp</th>\n      <th>Evidenze</th>\n      <th>Pubblicazione</th>\n    </tr>\n    <tr>\n      <th>protein_id</th>\n      <th></th>\n      <th></th>\n      <th></th>\n      <th></th>\n      <th></th>\n    </tr>\n  </thead>\n  <tbody>\n    <tr>\n      <th>WP_015156652.1</th>\n      <td>AGgTGtgtcatCAACT</td>\n      <td>glnA(alr2328)</td>\n      <td>id: 79.87, len: 472, evalue: 0.0</td>\n      <td>Anabaena PCC 7120: sovraespressione+EMSA</td>\n      <td>Kumar et al., 2018. https://doi.org/10.1016/j....</td>\n    </tr>\n    <tr>\n      <th>WP_106166489.1</th>\n      <td>AGTagttgtcaACT</td>\n      <td>galE(all4713)</td>\n      <td>id: 80.97, len: 331, evalue: 0.0</td>\n      <td>Anabaena PCC 7120: sovraespressione+EMSA</td>\n      <td>Kumar et al., 2018. https://doi.org/10.1016/j....</td>\n    </tr>\n    <tr>\n      <th>WP_015157218.1</th>\n      <td>AGTaaaagcgttaACT</td>\n      <td>rbcL(alr1524)</td>\n      <td>id: 89.29, len: 476, evalue: 0.0</td>\n      <td>Anabaena PCC 7120: sovraespressione+EMSA</td>\n      <td>Kumar et al., 2018. https://doi.org/10.1016/j....</td>\n    </tr>\n    <tr>\n      <th>WP_106169039.1</th>\n      <td>AGTatgtACT</td>\n      <td>apcE(alr0020)</td>\n      <td>id: 81.11, len: 1064, evalue: 0.0</td>\n      <td>Anabaena PCC 7120: sovraespressione+EMSA</td>\n      <td>Kumar et al., 2018. https://doi.org/10.1016/j....</td>\n    </tr>\n    <tr>\n      <th>WP_015153058.1</th>\n      <td>AGTTagaaggtgAACa</td>\n      <td>petH(all4121)</td>\n      <td>id: 72.33, len: 430, evalue: 0.0</td>\n      <td>Anabaena PCC 7120: sovraespressione+EMSA</td>\n      <td>Kumar et al., 2018. https://doi.org/10.1016/j....</td>\n    </tr>\n    <tr>\n      <th>...</th>\n      <td>...</td>\n      <td>...</td>\n      <td>...</td>\n      <td>...</td>\n      <td>...</td>\n    </tr>\n    <tr>\n      <th>WP_106168867.1</th>\n      <td>AGTTagaaggtgAACa</td>\n      <td>petH(all4121)</td>\n      <td>id: 38.89, len: 18, evalue: 9.4</td>\n      <td>Anabaena PCC 7120: sovraespressione+EMSA</td>\n      <td>Kumar et al., 2018. https://doi.org/10.1016/j....</td>\n    </tr>\n    <tr>\n      <th>WP_106169531.1</th>\n      <td>AGTgttcacaACT</td>\n      <td>tdk(all4708)</td>\n      <td>id: 30.77, len: 39, evalue: 9.4</td>\n      <td>Anabaena PCC 7120: sovraespressione+EMSA</td>\n      <td>Kumar et al., 2018. https://doi.org/10.1016/j....</td>\n    </tr>\n    <tr>\n      <th>WP_219888929.1</th>\n      <td>AGTActtatgTACT</td>\n      <td>ssb1(alr0088)</td>\n      <td>id: 32.69, len: 52, evalue: 9.6</td>\n      <td>Anabaena PCC 7120: sovraespressione+EMSA</td>\n      <td>Kumar et al., 2018. https://doi.org/10.1016/j....</td>\n    </tr>\n    <tr>\n      <th>WP_146138757.1</th>\n      <td>TAGTactaatgttCTA</td>\n      <td>lexA(alr4908)</td>\n      <td>id: 36.00, len: 25, evalue: 9.7</td>\n      <td>Anabaena PCC 7120: sovraespressione+EMSA</td>\n      <td>Kumar et al., 2018. https://doi.org/10.1016/j....</td>\n    </tr>\n    <tr>\n      <th>WP_015156664.1</th>\n      <td>AGTgttcacaACT</td>\n      <td>tdk(all4708)</td>\n      <td>id: 40.00, len: 20, evalue: 9.7</td>\n      <td>Anabaena PCC 7120: sovraespressione+EMSA</td>\n      <td>Kumar et al., 2018. https://doi.org/10.1016/j....</td>\n    </tr>\n  </tbody>\n</table>\n<p>260 rows × 5 columns</p>\n</div>"
     },
     "execution_count": 13,
     "metadata": {},
     "output_type": "execute_result"
    }
   ],
   "source": [
    "import pathlib\n",
    "from pathlib import Path\n",
    "import pandas as pd\n",
    "blast=Path(\"/home/davide/Desktop/genomiChro/blastanabena/\")\n",
    "csv=Path(\"/home/davide/Desktop/genomiChro/csv/\")\n",
    "#iterate in file that ends with tab.txt\n",
    "for file in blast.iterdir():\n",
    "    #print file name witjput the extension\n",
    "\n",
    "    if file.name.endswith(\"tab.txt\"):\n",
    "        df=pd.read_csv(file,sep=\"\\t\",header=None)\n",
    "        df.set_index(1,inplace=True)\n",
    "        df[2]= df[2].apply(lambda x: '{:.2f}'.format(x))\n",
    "        df[4] = df[4].apply(lambda x: '{:.2e}'.format(x))\n",
    "        df[4]=df[4].astype(float)\n",
    "        df['info_blastp']=\"id: \" + df[2].astype(str) + \", len: \" + df[3].astype(str) + \", evalue: \"  + df[4].astype(str)\n",
    "        df.rename(columns={0:\"gene_omologo\"},inplace=True)\n",
    "        df.index.name=\"protein_id\"\n",
    "        df = df.sort_values(by=4, ascending=True)\n",
    "        df = df.loc[~df.index.duplicated(keep='first')]\n",
    "        df.drop(columns=[2,3,4],inplace=True)\n",
    "        df=df.join(df_anabena,on=\"gene_omologo\",how=\"left\")\n",
    "        df[\"gene_omologo\"]=df[\"gene_omologo\"]+df[\"old_locus_tag\"]\n",
    "        df.drop(columns=[\"old_locus_tag\"],inplace=True)\n",
    "        #order the columns\n",
    "        df=df[[\"motivo_omologo\",\"gene_omologo\",\"info_blastp\",\"Evidenze\",\"Pubblicazione\"]]\n",
    "\n",
    "        for tab in csv.iterdir():\n",
    "            if Path(tab).stem in file.stem:\n",
    "                df2=pd.read_excel(tab)\n",
    "                df2=df2.join(df,on=\"protein_id\",how=\"left\")\n",
    "                df2.to_excel(file.with_suffix(\".xlsx\"),index=False)\n",
    "\n",
    "df\n"
   ],
   "metadata": {
    "collapsed": false,
    "ExecuteTime": {
     "end_time": "2024-04-17T10:20:34.437605Z",
     "start_time": "2024-04-17T10:20:33.588302Z"
    }
   },
   "id": "9fbf73761bdf9fca",
   "execution_count": 13
  },
  {
   "cell_type": "code",
   "outputs": [
    {
     "data": {
      "text/plain": "                      Unnamed: 0  gene  \\\n0    DNA riparo e ricombinazione   NaN   \n1                            NaN  gyrB   \n2                            NaN  recA   \n3                            NaN   NaN   \n4                            NaN   NaN   \n..                           ...   ...   \n221                          NaN   NaN   \n222                          NaN   NaN   \n223                          NaN   NaN   \n224                          NaN   NaN   \n225                          NaN   NaN   \n\n                                           product            motivo  \\\n0                                              NaN               NaN   \n1    DNA topoisomerase (ATP-hydrolyzing) subunit B  TAGATAAATTGCTCTT   \n2                                 recombinase RecA  TAGTATATCTGCACTA   \n3                deoxyribodipyrimidine photo-lyase  TAGTACAAGTATACTG   \n4             DNA polymerase III subunit gamma/tau  TAGTGCATTAGTACTA   \n..                                             ...               ...   \n221                        site-specific integrase  TAGTACAAAAGTTCTA   \n222                       PAS domain S-box protein  TATATCAAGTTTACTA   \n223                       IS630 family transposase  AAGAACAGCTTCTCTT   \n224                           hypothetical protein  TAGTACATTCAAACTG   \n225                      Calvin cycle protein CP12  AATTACGGTTTTACTC   \n\n             location                                            pathway  \\\n0                 NaN                                                NaN   \n1      [3673:5611](-)                                                NaN   \n2       [751:1828](-)                       ['Homologous recombination']   \n3         [<0:259](-)                                                NaN   \n4      [1325:3389](+)  ['DNA replication', 'Mismatch repair', 'Homolo...   \n..                ...                                                ...   \n221  [12622:13816](-)                                                NaN   \n222   [9247:11044](-)                                                NaN   \n223    [1994:3054](-)                                                NaN   \n224    [2674:2851](+)                                                NaN   \n225  [17924:18215](+)                                                NaN   \n\n                                              ko_brite      protein_id  \\\n0                                                  NaN             NaN   \n1    ['ko03032 - DNA replication proteins', 'ko0340...  WP_015152415.1   \n2    ['ko03400 - DNA repair and recombination prote...  WP_015153795.1   \n3    ['ko03400 - DNA repair and recombination prote...  WP_146138875.1   \n4    ['ko03032 - DNA replication proteins', 'ko0340...  WP_106169649.1   \n..                                                 ...             ...   \n221                                                 []  WP_106166425.1   \n222                                                 []  WP_106167739.1   \n223                                                 []             NaN   \n224                                                 []  WP_158631965.1   \n225                                                 []  WP_015152195.1   \n\n                                          GO_component  \\\n0                                                  NaN   \n1    GO:0009330 - DNA topoisomerase type II (double...   \n2                GO:0005737 - cytoplasm [Evidence IEA]   \n3                                                  NaN   \n4                                                  NaN   \n..                                                 ...   \n221                                                NaN   \n222                                                NaN   \n223                                                NaN   \n224                                                NaN   \n225                                                NaN   \n\n                                            GO_process  \\\n0                                                  NaN   \n1    GO:0006265 - DNA topological change [Evidence ...   \n2               GO:0006281 - DNA repair [Evidence IEA]   \n3                                                  NaN   \n4                                                  NaN   \n..                                                 ...   \n221                                                NaN   \n222                                                NaN   \n223                                                NaN   \n224                                                NaN   \n225                                                NaN   \n\n                                           GO_function     motivo_omologo  \\\n0                                                  NaN                NaN   \n1    GO:0003918 - DNA topoisomerase type II (double...                NaN   \n2              GO:0003677 - DNA binding [Evidence IEA]  AGTAtatctgttcTACT   \n3                                                  NaN                NaN   \n4                                                  NaN      AGTgttcacaACT   \n..                                                 ...                ...   \n221                                                NaN                NaN   \n222                                                NaN                NaN   \n223   GO:0004803 - transposase activity [Evidence IEA]                NaN   \n224                                                NaN                NaN   \n225                                                NaN                NaN   \n\n      gene_omologo                       info_blastp  \\\n0              NaN                               NaN   \n1              NaN                               NaN   \n2    recA(all3272)  id: 87.98, len: 341, evalue: 0.0   \n3              NaN                               NaN   \n4     tdk(all4708)  id: 24.81, len: 129, evalue: 8.3   \n..             ...                               ...   \n221            NaN                               NaN   \n222            NaN                               NaN   \n223            NaN                               NaN   \n224            NaN                               NaN   \n225            NaN                               NaN   \n\n                                     Evidenze  \\\n0                                         NaN   \n1                                         NaN   \n2    Anabaena PCC 7120: sovraespressione+EMSA   \n3                                         NaN   \n4    Anabaena PCC 7120: sovraespressione+EMSA   \n..                                        ...   \n221                                       NaN   \n222                                       NaN   \n223                                       NaN   \n224                                       NaN   \n225                                       NaN   \n\n                                         Pubblicazione  \n0                                                  NaN  \n1                                                  NaN  \n2    Kumar et al., 2018. https://doi.org/10.1016/j....  \n3                                                  NaN  \n4    Kumar et al., 2018. https://doi.org/10.1016/j....  \n..                                                 ...  \n221                                                NaN  \n222                                                NaN  \n223                                                NaN  \n224                                                NaN  \n225                                                NaN  \n\n[226 rows x 16 columns]",
      "text/html": "<div>\n<style scoped>\n    .dataframe tbody tr th:only-of-type {\n        vertical-align: middle;\n    }\n\n    .dataframe tbody tr th {\n        vertical-align: top;\n    }\n\n    .dataframe thead th {\n        text-align: right;\n    }\n</style>\n<table border=\"1\" class=\"dataframe\">\n  <thead>\n    <tr style=\"text-align: right;\">\n      <th></th>\n      <th>Unnamed: 0</th>\n      <th>gene</th>\n      <th>product</th>\n      <th>motivo</th>\n      <th>location</th>\n      <th>pathway</th>\n      <th>ko_brite</th>\n      <th>protein_id</th>\n      <th>GO_component</th>\n      <th>GO_process</th>\n      <th>GO_function</th>\n      <th>motivo_omologo</th>\n      <th>gene_omologo</th>\n      <th>info_blastp</th>\n      <th>Evidenze</th>\n      <th>Pubblicazione</th>\n    </tr>\n  </thead>\n  <tbody>\n    <tr>\n      <th>0</th>\n      <td>DNA riparo e ricombinazione</td>\n      <td>NaN</td>\n      <td>NaN</td>\n      <td>NaN</td>\n      <td>NaN</td>\n      <td>NaN</td>\n      <td>NaN</td>\n      <td>NaN</td>\n      <td>NaN</td>\n      <td>NaN</td>\n      <td>NaN</td>\n      <td>NaN</td>\n      <td>NaN</td>\n      <td>NaN</td>\n      <td>NaN</td>\n      <td>NaN</td>\n    </tr>\n    <tr>\n      <th>1</th>\n      <td>NaN</td>\n      <td>gyrB</td>\n      <td>DNA topoisomerase (ATP-hydrolyzing) subunit B</td>\n      <td>TAGATAAATTGCTCTT</td>\n      <td>[3673:5611](-)</td>\n      <td>NaN</td>\n      <td>['ko03032 - DNA replication proteins', 'ko0340...</td>\n      <td>WP_015152415.1</td>\n      <td>GO:0009330 - DNA topoisomerase type II (double...</td>\n      <td>GO:0006265 - DNA topological change [Evidence ...</td>\n      <td>GO:0003918 - DNA topoisomerase type II (double...</td>\n      <td>NaN</td>\n      <td>NaN</td>\n      <td>NaN</td>\n      <td>NaN</td>\n      <td>NaN</td>\n    </tr>\n    <tr>\n      <th>2</th>\n      <td>NaN</td>\n      <td>recA</td>\n      <td>recombinase RecA</td>\n      <td>TAGTATATCTGCACTA</td>\n      <td>[751:1828](-)</td>\n      <td>['Homologous recombination']</td>\n      <td>['ko03400 - DNA repair and recombination prote...</td>\n      <td>WP_015153795.1</td>\n      <td>GO:0005737 - cytoplasm [Evidence IEA]</td>\n      <td>GO:0006281 - DNA repair [Evidence IEA]</td>\n      <td>GO:0003677 - DNA binding [Evidence IEA]</td>\n      <td>AGTAtatctgttcTACT</td>\n      <td>recA(all3272)</td>\n      <td>id: 87.98, len: 341, evalue: 0.0</td>\n      <td>Anabaena PCC 7120: sovraespressione+EMSA</td>\n      <td>Kumar et al., 2018. https://doi.org/10.1016/j....</td>\n    </tr>\n    <tr>\n      <th>3</th>\n      <td>NaN</td>\n      <td>NaN</td>\n      <td>deoxyribodipyrimidine photo-lyase</td>\n      <td>TAGTACAAGTATACTG</td>\n      <td>[&lt;0:259](-)</td>\n      <td>NaN</td>\n      <td>['ko03400 - DNA repair and recombination prote...</td>\n      <td>WP_146138875.1</td>\n      <td>NaN</td>\n      <td>NaN</td>\n      <td>NaN</td>\n      <td>NaN</td>\n      <td>NaN</td>\n      <td>NaN</td>\n      <td>NaN</td>\n      <td>NaN</td>\n    </tr>\n    <tr>\n      <th>4</th>\n      <td>NaN</td>\n      <td>NaN</td>\n      <td>DNA polymerase III subunit gamma/tau</td>\n      <td>TAGTGCATTAGTACTA</td>\n      <td>[1325:3389](+)</td>\n      <td>['DNA replication', 'Mismatch repair', 'Homolo...</td>\n      <td>['ko03032 - DNA replication proteins', 'ko0340...</td>\n      <td>WP_106169649.1</td>\n      <td>NaN</td>\n      <td>NaN</td>\n      <td>NaN</td>\n      <td>AGTgttcacaACT</td>\n      <td>tdk(all4708)</td>\n      <td>id: 24.81, len: 129, evalue: 8.3</td>\n      <td>Anabaena PCC 7120: sovraespressione+EMSA</td>\n      <td>Kumar et al., 2018. https://doi.org/10.1016/j....</td>\n    </tr>\n    <tr>\n      <th>...</th>\n      <td>...</td>\n      <td>...</td>\n      <td>...</td>\n      <td>...</td>\n      <td>...</td>\n      <td>...</td>\n      <td>...</td>\n      <td>...</td>\n      <td>...</td>\n      <td>...</td>\n      <td>...</td>\n      <td>...</td>\n      <td>...</td>\n      <td>...</td>\n      <td>...</td>\n      <td>...</td>\n    </tr>\n    <tr>\n      <th>221</th>\n      <td>NaN</td>\n      <td>NaN</td>\n      <td>site-specific integrase</td>\n      <td>TAGTACAAAAGTTCTA</td>\n      <td>[12622:13816](-)</td>\n      <td>NaN</td>\n      <td>[]</td>\n      <td>WP_106166425.1</td>\n      <td>NaN</td>\n      <td>NaN</td>\n      <td>NaN</td>\n      <td>NaN</td>\n      <td>NaN</td>\n      <td>NaN</td>\n      <td>NaN</td>\n      <td>NaN</td>\n    </tr>\n    <tr>\n      <th>222</th>\n      <td>NaN</td>\n      <td>NaN</td>\n      <td>PAS domain S-box protein</td>\n      <td>TATATCAAGTTTACTA</td>\n      <td>[9247:11044](-)</td>\n      <td>NaN</td>\n      <td>[]</td>\n      <td>WP_106167739.1</td>\n      <td>NaN</td>\n      <td>NaN</td>\n      <td>NaN</td>\n      <td>NaN</td>\n      <td>NaN</td>\n      <td>NaN</td>\n      <td>NaN</td>\n      <td>NaN</td>\n    </tr>\n    <tr>\n      <th>223</th>\n      <td>NaN</td>\n      <td>NaN</td>\n      <td>IS630 family transposase</td>\n      <td>AAGAACAGCTTCTCTT</td>\n      <td>[1994:3054](-)</td>\n      <td>NaN</td>\n      <td>[]</td>\n      <td>NaN</td>\n      <td>NaN</td>\n      <td>NaN</td>\n      <td>GO:0004803 - transposase activity [Evidence IEA]</td>\n      <td>NaN</td>\n      <td>NaN</td>\n      <td>NaN</td>\n      <td>NaN</td>\n      <td>NaN</td>\n    </tr>\n    <tr>\n      <th>224</th>\n      <td>NaN</td>\n      <td>NaN</td>\n      <td>hypothetical protein</td>\n      <td>TAGTACATTCAAACTG</td>\n      <td>[2674:2851](+)</td>\n      <td>NaN</td>\n      <td>[]</td>\n      <td>WP_158631965.1</td>\n      <td>NaN</td>\n      <td>NaN</td>\n      <td>NaN</td>\n      <td>NaN</td>\n      <td>NaN</td>\n      <td>NaN</td>\n      <td>NaN</td>\n      <td>NaN</td>\n    </tr>\n    <tr>\n      <th>225</th>\n      <td>NaN</td>\n      <td>NaN</td>\n      <td>Calvin cycle protein CP12</td>\n      <td>AATTACGGTTTTACTC</td>\n      <td>[17924:18215](+)</td>\n      <td>NaN</td>\n      <td>[]</td>\n      <td>WP_015152195.1</td>\n      <td>NaN</td>\n      <td>NaN</td>\n      <td>NaN</td>\n      <td>NaN</td>\n      <td>NaN</td>\n      <td>NaN</td>\n      <td>NaN</td>\n      <td>NaN</td>\n    </tr>\n  </tbody>\n</table>\n<p>226 rows × 16 columns</p>\n</div>"
     },
     "execution_count": 12,
     "metadata": {},
     "output_type": "execute_result"
    }
   ],
   "source": [
    "df2"
   ],
   "metadata": {
    "collapsed": false,
    "ExecuteTime": {
     "end_time": "2024-04-17T10:18:50.244102Z",
     "start_time": "2024-04-17T10:18:50.234461Z"
    }
   },
   "id": "4ec41057500d5b39",
   "execution_count": 12
  },
  {
   "cell_type": "code",
   "outputs": [
    {
     "data": {
      "text/plain": "                      Unnamed: 0  gene  \\\n0    DNA riparo e ricombinazione   NaN   \n1                            NaN  lexA   \n2                            NaN  recA   \n3                            NaN  radA   \n4                            NaN   NaN   \n..                           ...   ...   \n181                          NaN   NaN   \n182                          NaN   NaN   \n183                          NaN   NaN   \n184                          NaN   NaN   \n185                          NaN   NaN   \n\n                                          product            motivo  \\\n0                                             NaN               NaN   \n1                  transcriptional repressor LexA  TAGTACGAATGTTCTA   \n2                                recombinase RecA  TAGTATATCTGCACTA   \n3                         DNA repair protein RadA  TATTTCAGCCTTTCTT   \n4            ATP-dependent RecD-like DNA helicase  TAGTAAATTTGTACTA   \n..                                            ...               ...   \n181                      IS630 family transposase  CAGTGCAGCCATTCTA   \n182                               metallothionein  AAGAGTAGTTGCTCTA   \n183  ssl1498 family light-harvesting-like protein  TATTGTGATTTTTCTA   \n184                            VOC family protein  TAGAACAACTTCAATG   \n185  ssl1498 family light-harvesting-like protein  GAGAGTAGATATACTA   \n\n                 location                       pathway  \\\n0                     NaN                           NaN   \n1    [2936606:2937215](+)                           NaN   \n2    [3253689:3254766](+)  ['Homologous recombination']   \n3      [895445:896960](+)                           NaN   \n4    [3439950:3442179](-)  ['Homologous recombination']   \n..                    ...                           ...   \n181    [230448:231480](+)                           NaN   \n182    [362085:362250](+)                           NaN   \n183    [147466:147634](-)                           NaN   \n184  [1199937:1200360](-)                           NaN   \n185  [5244124:5244304](+)                           NaN   \n\n                                              ko_brite      protein_id  \\\n0                                                  NaN             NaN   \n1    ['ko01002 - Peptidases and inhibitors', 'ko034...  WP_250121220.1   \n2    ['ko03400 - DNA repair and recombination prote...  WP_250121493.1   \n3    ['ko03400 - DNA repair and recombination prote...  WP_250124411.1   \n4    ['ko03400 - DNA repair and recombination prote...  WP_250121656.1   \n..                                                 ...             ...   \n181                                                 []  WP_250121189.1   \n182                                                 []  WP_250123942.1   \n183                                                 []  WP_250126641.1   \n184                                                 []  WP_250124683.1   \n185                                                 []  WP_250123205.1   \n\n                              GO_component  \\\n0                                      NaN   \n1                                      NaN   \n2    GO:0005737 - cytoplasm [Evidence IEA]   \n3                                      NaN   \n4                                      NaN   \n..                                     ...   \n181                                    NaN   \n182                                    NaN   \n183                                    NaN   \n184                                    NaN   \n185                                    NaN   \n\n                                            GO_process  \\\n0                                                  NaN   \n1    GO:0006282 - regulation of DNA repair [Evidenc...   \n2               GO:0006281 - DNA repair [Evidence IEA]   \n3               GO:0006281 - DNA repair [Evidence IEA]   \n4                                                  NaN   \n..                                                 ...   \n181                                                NaN   \n182                                                NaN   \n183                                                NaN   \n184                                                NaN   \n185                                                NaN   \n\n                                           GO_function motivo_omologo  \\\n0                                                  NaN            NaN   \n1    GO:0004252 - serine-type endopeptidase activit...            NaN   \n2              GO:0003677 - DNA binding [Evidence IEA]            NaN   \n3              GO:0005524 - ATP binding [Evidence IEA]            NaN   \n4        GO:0004386 - helicase activity [Evidence IEA]            NaN   \n..                                                 ...            ...   \n181   GO:0004803 - transposase activity [Evidence IEA]            NaN   \n182                                                NaN            NaN   \n183                                                NaN            NaN   \n184                                                NaN            NaN   \n185                                                NaN            NaN   \n\n    gene_omologo info_blastp Evidenze Pubblicazione  \n0            NaN         NaN      NaN           NaN  \n1            NaN         NaN      NaN           NaN  \n2            NaN         NaN      NaN           NaN  \n3            NaN         NaN      NaN           NaN  \n4            NaN         NaN      NaN           NaN  \n..           ...         ...      ...           ...  \n181          NaN         NaN      NaN           NaN  \n182          NaN         NaN      NaN           NaN  \n183          NaN         NaN      NaN           NaN  \n184          NaN         NaN      NaN           NaN  \n185          NaN         NaN      NaN           NaN  \n\n[186 rows x 16 columns]",
      "text/html": "<div>\n<style scoped>\n    .dataframe tbody tr th:only-of-type {\n        vertical-align: middle;\n    }\n\n    .dataframe tbody tr th {\n        vertical-align: top;\n    }\n\n    .dataframe thead th {\n        text-align: right;\n    }\n</style>\n<table border=\"1\" class=\"dataframe\">\n  <thead>\n    <tr style=\"text-align: right;\">\n      <th></th>\n      <th>Unnamed: 0</th>\n      <th>gene</th>\n      <th>product</th>\n      <th>motivo</th>\n      <th>location</th>\n      <th>pathway</th>\n      <th>ko_brite</th>\n      <th>protein_id</th>\n      <th>GO_component</th>\n      <th>GO_process</th>\n      <th>GO_function</th>\n      <th>motivo_omologo</th>\n      <th>gene_omologo</th>\n      <th>info_blastp</th>\n      <th>Evidenze</th>\n      <th>Pubblicazione</th>\n    </tr>\n  </thead>\n  <tbody>\n    <tr>\n      <th>0</th>\n      <td>DNA riparo e ricombinazione</td>\n      <td>NaN</td>\n      <td>NaN</td>\n      <td>NaN</td>\n      <td>NaN</td>\n      <td>NaN</td>\n      <td>NaN</td>\n      <td>NaN</td>\n      <td>NaN</td>\n      <td>NaN</td>\n      <td>NaN</td>\n      <td>NaN</td>\n      <td>NaN</td>\n      <td>NaN</td>\n      <td>NaN</td>\n      <td>NaN</td>\n    </tr>\n    <tr>\n      <th>1</th>\n      <td>NaN</td>\n      <td>lexA</td>\n      <td>transcriptional repressor LexA</td>\n      <td>TAGTACGAATGTTCTA</td>\n      <td>[2936606:2937215](+)</td>\n      <td>NaN</td>\n      <td>['ko01002 - Peptidases and inhibitors', 'ko034...</td>\n      <td>WP_250121220.1</td>\n      <td>NaN</td>\n      <td>GO:0006282 - regulation of DNA repair [Evidenc...</td>\n      <td>GO:0004252 - serine-type endopeptidase activit...</td>\n      <td>NaN</td>\n      <td>NaN</td>\n      <td>NaN</td>\n      <td>NaN</td>\n      <td>NaN</td>\n    </tr>\n    <tr>\n      <th>2</th>\n      <td>NaN</td>\n      <td>recA</td>\n      <td>recombinase RecA</td>\n      <td>TAGTATATCTGCACTA</td>\n      <td>[3253689:3254766](+)</td>\n      <td>['Homologous recombination']</td>\n      <td>['ko03400 - DNA repair and recombination prote...</td>\n      <td>WP_250121493.1</td>\n      <td>GO:0005737 - cytoplasm [Evidence IEA]</td>\n      <td>GO:0006281 - DNA repair [Evidence IEA]</td>\n      <td>GO:0003677 - DNA binding [Evidence IEA]</td>\n      <td>NaN</td>\n      <td>NaN</td>\n      <td>NaN</td>\n      <td>NaN</td>\n      <td>NaN</td>\n    </tr>\n    <tr>\n      <th>3</th>\n      <td>NaN</td>\n      <td>radA</td>\n      <td>DNA repair protein RadA</td>\n      <td>TATTTCAGCCTTTCTT</td>\n      <td>[895445:896960](+)</td>\n      <td>NaN</td>\n      <td>['ko03400 - DNA repair and recombination prote...</td>\n      <td>WP_250124411.1</td>\n      <td>NaN</td>\n      <td>GO:0006281 - DNA repair [Evidence IEA]</td>\n      <td>GO:0005524 - ATP binding [Evidence IEA]</td>\n      <td>NaN</td>\n      <td>NaN</td>\n      <td>NaN</td>\n      <td>NaN</td>\n      <td>NaN</td>\n    </tr>\n    <tr>\n      <th>4</th>\n      <td>NaN</td>\n      <td>NaN</td>\n      <td>ATP-dependent RecD-like DNA helicase</td>\n      <td>TAGTAAATTTGTACTA</td>\n      <td>[3439950:3442179](-)</td>\n      <td>['Homologous recombination']</td>\n      <td>['ko03400 - DNA repair and recombination prote...</td>\n      <td>WP_250121656.1</td>\n      <td>NaN</td>\n      <td>NaN</td>\n      <td>GO:0004386 - helicase activity [Evidence IEA]</td>\n      <td>NaN</td>\n      <td>NaN</td>\n      <td>NaN</td>\n      <td>NaN</td>\n      <td>NaN</td>\n    </tr>\n    <tr>\n      <th>...</th>\n      <td>...</td>\n      <td>...</td>\n      <td>...</td>\n      <td>...</td>\n      <td>...</td>\n      <td>...</td>\n      <td>...</td>\n      <td>...</td>\n      <td>...</td>\n      <td>...</td>\n      <td>...</td>\n      <td>...</td>\n      <td>...</td>\n      <td>...</td>\n      <td>...</td>\n      <td>...</td>\n    </tr>\n    <tr>\n      <th>181</th>\n      <td>NaN</td>\n      <td>NaN</td>\n      <td>IS630 family transposase</td>\n      <td>CAGTGCAGCCATTCTA</td>\n      <td>[230448:231480](+)</td>\n      <td>NaN</td>\n      <td>[]</td>\n      <td>WP_250121189.1</td>\n      <td>NaN</td>\n      <td>NaN</td>\n      <td>GO:0004803 - transposase activity [Evidence IEA]</td>\n      <td>NaN</td>\n      <td>NaN</td>\n      <td>NaN</td>\n      <td>NaN</td>\n      <td>NaN</td>\n    </tr>\n    <tr>\n      <th>182</th>\n      <td>NaN</td>\n      <td>NaN</td>\n      <td>metallothionein</td>\n      <td>AAGAGTAGTTGCTCTA</td>\n      <td>[362085:362250](+)</td>\n      <td>NaN</td>\n      <td>[]</td>\n      <td>WP_250123942.1</td>\n      <td>NaN</td>\n      <td>NaN</td>\n      <td>NaN</td>\n      <td>NaN</td>\n      <td>NaN</td>\n      <td>NaN</td>\n      <td>NaN</td>\n      <td>NaN</td>\n    </tr>\n    <tr>\n      <th>183</th>\n      <td>NaN</td>\n      <td>NaN</td>\n      <td>ssl1498 family light-harvesting-like protein</td>\n      <td>TATTGTGATTTTTCTA</td>\n      <td>[147466:147634](-)</td>\n      <td>NaN</td>\n      <td>[]</td>\n      <td>WP_250126641.1</td>\n      <td>NaN</td>\n      <td>NaN</td>\n      <td>NaN</td>\n      <td>NaN</td>\n      <td>NaN</td>\n      <td>NaN</td>\n      <td>NaN</td>\n      <td>NaN</td>\n    </tr>\n    <tr>\n      <th>184</th>\n      <td>NaN</td>\n      <td>NaN</td>\n      <td>VOC family protein</td>\n      <td>TAGAACAACTTCAATG</td>\n      <td>[1199937:1200360](-)</td>\n      <td>NaN</td>\n      <td>[]</td>\n      <td>WP_250124683.1</td>\n      <td>NaN</td>\n      <td>NaN</td>\n      <td>NaN</td>\n      <td>NaN</td>\n      <td>NaN</td>\n      <td>NaN</td>\n      <td>NaN</td>\n      <td>NaN</td>\n    </tr>\n    <tr>\n      <th>185</th>\n      <td>NaN</td>\n      <td>NaN</td>\n      <td>ssl1498 family light-harvesting-like protein</td>\n      <td>GAGAGTAGATATACTA</td>\n      <td>[5244124:5244304](+)</td>\n      <td>NaN</td>\n      <td>[]</td>\n      <td>WP_250123205.1</td>\n      <td>NaN</td>\n      <td>NaN</td>\n      <td>NaN</td>\n      <td>NaN</td>\n      <td>NaN</td>\n      <td>NaN</td>\n      <td>NaN</td>\n      <td>NaN</td>\n    </tr>\n  </tbody>\n</table>\n<p>186 rows × 16 columns</p>\n</div>"
     },
     "execution_count": 3,
     "metadata": {},
     "output_type": "execute_result"
    }
   ],
   "source": [
    "file=\"/home/davide/Downloads/CCMEE_29.csv\"\n",
    "df2=pd.read_csv(file)\n",
    "df2=df2.join(df,on=\"protein_id\",how=\"left\")\n",
    "df2"
   ],
   "metadata": {
    "collapsed": false,
    "ExecuteTime": {
     "end_time": "2024-04-16T18:52:04.783807Z",
     "start_time": "2024-04-16T18:52:04.768687Z"
    }
   },
   "id": "824be3c2b1f77037",
   "execution_count": 3
  },
  {
   "cell_type": "code",
   "outputs": [
    {
     "name": "stdout",
     "output_type": "stream",
     "text": [
      "SAG_2025\n"
     ]
    },
    {
     "ename": "GSpreadException",
     "evalue": "the header row in the worksheet is not unique, try passing 'expected_headers' to get_all_records",
     "output_type": "error",
     "traceback": [
      "\u001B[0;31m---------------------------------------------------------------------------\u001B[0m",
      "\u001B[0;31mGSpreadException\u001B[0m                          Traceback (most recent call last)",
      "Cell \u001B[0;32mIn[10], line 41\u001B[0m\n\u001B[1;32m     39\u001B[0m worksheet\u001B[38;5;241m.\u001B[39mupdate_cell(\u001B[38;5;241m1\u001B[39m,\u001B[38;5;241m1\u001B[39m, \u001B[38;5;124m'\u001B[39m\u001B[38;5;124mNan\u001B[39m\u001B[38;5;124m'\u001B[39m)\n\u001B[1;32m     40\u001B[0m worksheet\u001B[38;5;241m.\u001B[39mdelete_columns(\u001B[38;5;241m12\u001B[39m,\u001B[38;5;241m14\u001B[39m)\n\u001B[0;32m---> 41\u001B[0m df2\u001B[38;5;241m=\u001B[39mpd\u001B[38;5;241m.\u001B[39mDataFrame(\u001B[43mworksheet\u001B[49m\u001B[38;5;241;43m.\u001B[39;49m\u001B[43mget_all_records\u001B[49m\u001B[43m(\u001B[49m\u001B[43m)\u001B[49m)\n\u001B[1;32m     42\u001B[0m df2\u001B[38;5;241m=\u001B[39mdf2\u001B[38;5;241m.\u001B[39mjoin(df,on\u001B[38;5;241m=\u001B[39m\u001B[38;5;124m\"\u001B[39m\u001B[38;5;124mprotein_id\u001B[39m\u001B[38;5;124m\"\u001B[39m,how\u001B[38;5;241m=\u001B[39m\u001B[38;5;124m\"\u001B[39m\u001B[38;5;124mleft\u001B[39m\u001B[38;5;124m\"\u001B[39m)\n\u001B[1;32m     43\u001B[0m df2\u001B[38;5;241m=\u001B[39mdf2\u001B[38;5;241m.\u001B[39mfillna(value\u001B[38;5;241m=\u001B[39m\u001B[38;5;124m\"\u001B[39m\u001B[38;5;124mNaN\u001B[39m\u001B[38;5;124m\"\u001B[39m)\n",
      "File \u001B[0;32m~/miniconda3/lib/python3.12/site-packages/gspread/worksheet.py:574\u001B[0m, in \u001B[0;36mWorksheet.get_all_records\u001B[0;34m(self, head, expected_headers, value_render_option, default_blank, numericise_ignore, allow_underscores_in_numeric_literals, empty2zero)\u001B[0m\n\u001B[1;32m    572\u001B[0m     header_row_is_unique \u001B[38;5;241m=\u001B[39m \u001B[38;5;28mlen\u001B[39m(keys) \u001B[38;5;241m==\u001B[39m \u001B[38;5;28mlen\u001B[39m(\u001B[38;5;28mset\u001B[39m(keys))\n\u001B[1;32m    573\u001B[0m     \u001B[38;5;28;01mif\u001B[39;00m \u001B[38;5;129;01mnot\u001B[39;00m header_row_is_unique:\n\u001B[0;32m--> 574\u001B[0m         \u001B[38;5;28;01mraise\u001B[39;00m GSpreadException(\n\u001B[1;32m    575\u001B[0m             \u001B[38;5;124m\"\u001B[39m\u001B[38;5;124mthe header row in the worksheet is not unique, \u001B[39m\u001B[38;5;124m\"\u001B[39m\n\u001B[1;32m    576\u001B[0m             \u001B[38;5;124m\"\u001B[39m\u001B[38;5;124mtry passing \u001B[39m\u001B[38;5;124m'\u001B[39m\u001B[38;5;124mexpected_headers\u001B[39m\u001B[38;5;124m'\u001B[39m\u001B[38;5;124m to get_all_records\u001B[39m\u001B[38;5;124m\"\u001B[39m\n\u001B[1;32m    577\u001B[0m         )\n\u001B[1;32m    578\u001B[0m \u001B[38;5;28;01melse\u001B[39;00m:\n\u001B[1;32m    579\u001B[0m     \u001B[38;5;66;03m# all expected headers must be unique\u001B[39;00m\n\u001B[1;32m    580\u001B[0m     expected_headers_are_unique \u001B[38;5;241m=\u001B[39m \u001B[38;5;28mlen\u001B[39m(expected_headers) \u001B[38;5;241m==\u001B[39m \u001B[38;5;28mlen\u001B[39m(\n\u001B[1;32m    581\u001B[0m         \u001B[38;5;28mset\u001B[39m(expected_headers)\n\u001B[1;32m    582\u001B[0m     )\n",
      "\u001B[0;31mGSpreadException\u001B[0m: the header row in the worksheet is not unique, try passing 'expected_headers' to get_all_records"
     ]
    }
   ],
   "source": [
    "folder_id=\"1YDMwApF3vLdwxUzBXBZZJWsEqzM0GOoU\"\n",
    "import gspread\n",
    "gc = gspread.oauth()\n",
    "worksheet_dict = gc.list_spreadsheet_files(folder_id=folder_id)\n",
    "from pprint import pprint\n",
    "\n",
    "#from dict to list with only key name\n",
    "worksheet_list = [el['name'] for el in worksheet_dict]\n",
    "\n",
    "from pathlib import Path\n",
    "import pandas as pd\n",
    "blast=Path(\"/home/davide/Desktop/genomiChro/blastanabena/\")\n",
    "csv=Path(\"/home/davide/Desktop/genomiChro/csv/\")\n",
    "#iterate in file that ends with tab.txt\n",
    "for file in blast.iterdir():\n",
    "    #print file name witjput the extension\n",
    "\n",
    "    if file.name.endswith(\"tab.txt\"):\n",
    "        df=pd.read_csv(file,sep=\"\\t\",header=None)\n",
    "        df.set_index(1,inplace=True)\n",
    "        df[2]= df[2].apply(lambda x: '{:.2f}'.format(x))\n",
    "        df[4] = df[4].apply(lambda x: '{:.2e}'.format(x))\n",
    "        df[4]=df[4].astype(float)\n",
    "        df['info_blastp']=\"id: \" + df[2].astype(str) + \", len: \" + df[3].astype(str) + \", evalue: \"  + df[4].astype(str)\n",
    "        df.rename(columns={0:\"gene_omologo\"},inplace=True)\n",
    "        df.index.name=\"protein_id\"\n",
    "        df = df.sort_values(by=4, ascending=True)\n",
    "        df = df.loc[~df.index.duplicated(keep='first')]\n",
    "        df.drop(columns=[2,3,4],inplace=True)\n",
    "        df=df.join(df_anabena,on=\"gene_omologo\",how=\"left\")\n",
    "        df[\"gene_omologo\"]=df[\"gene_omologo\"]+df[\"old_locus_tag\"]\n",
    "        df.drop(columns=[\"old_locus_tag\"],inplace=True)\n",
    "        for x in worksheet_list:\n",
    "            print(x)\n",
    "            if x in file.stem:\n",
    "                sh = gc.open(x)\n",
    "                #insert in A1 Nan\n",
    "                worksheet = sh.get_worksheet(1)\n",
    "                worksheet.update_cell(1,1, 'Nan')\n",
    "                worksheet.delete_columns(12,14)\n",
    "                df2=pd.DataFrame(worksheet.get_all_records())\n",
    "                df2=df2.join(df,on=\"protein_id\",how=\"left\")\n",
    "                df2=df2.fillna(value=\"NaN\")\n",
    "\n",
    "                if(len(sh.worksheets())==1):\n",
    "                    new_wh=sh.add_worksheet(title=\"con_evidenze_Anabaena\",rows=1000,cols=100)\n",
    "                worksheet = sh.get_worksheet(1)\n",
    "                new=[df2.columns[-5:].tolist()]+ df2.iloc[:,-5:].values.tolist()\n",
    "                new=list(map(list, zip(*new)))\n",
    "                \n",
    "                worksheet.insert_cols(new,col=5)\n",
    "                #worksheet.update([df2.columns.values.tolist()] + df2.values.tolist())\n",
    "\n",
    "\n",
    "    "
   ],
   "metadata": {
    "collapsed": false,
    "ExecuteTime": {
     "end_time": "2024-04-17T10:17:07.112803Z",
     "start_time": "2024-04-17T10:17:03.447770Z"
    }
   },
   "id": "ceeb44229660c8d9",
   "execution_count": 10
  },
  {
   "cell_type": "code",
   "outputs": [
    {
     "data": {
      "text/plain": "['dnaK2@',\n 'alr1742',\n 'AGTAttaaTtCT',\n '6',\n '292',\n 'TAAATT',\n '278',\n '-',\n 'YES',\n 'Kumar',\n 'et',\n 'al.,',\n '2018',\n 'tufA@',\n 'all4337',\n 'No',\n 'AnLexA',\n 'box',\n '-',\n '-',\n 'AGATATCAT',\n '25',\n 'fus-tufA',\n 'NO',\n 'Srivastava',\n 'et',\n 'al.,',\n '2022b',\n 'PREPRINT',\n 'atpA@',\n 'all0005',\n 'No',\n 'AnLexA',\n 'box',\n '-',\n '-',\n 'AATTAAAAT',\n '109',\n 'all0005all0004',\n 'NO',\n 'Srivastava',\n 'et',\n 'al.,',\n '2022a',\n 'alr0880',\n 'alr0880',\n 'TTAGTcctataACTAA',\n '6',\n '124',\n 'TAGTAGAAT',\n '34',\n '-',\n 'YES',\n 'This',\n 'study',\n 'alr0803@',\n 'alr0803',\n 'AGTAcataccTAaT',\n '8',\n '390',\n 'AATAATTA',\n '259',\n '-',\n 'NO',\n 'Srivastava',\n 'et',\n 'al.,',\n '2022b',\n 'PREPRINT',\n 'alr1827',\n 'alr1827',\n 'AGTAgttTACT',\n '5',\n '239',\n 'TCCTATACC',\n '191',\n '-',\n 'YES',\n 'This',\n 'study',\n 'alr1890',\n 'alr1890',\n 'AGTctaaACT',\n '4',\n '45',\n 'GTCTAAACT',\n '45',\n '-',\n 'YES',\n 'This',\n 'study',\n 'ccmM',\n 'all0865',\n 'TCAGTggcaaaacaACTGA',\n '9',\n '64',\n 'CGACAAAAT',\n '22',\n '-',\n 'YES',\n 'This',\n 'study',\n 'all1864,',\n 'all1865',\n 'all1864,',\n 'all1865',\n 'AGTTgcattAtCT',\n '7',\n '64',\n 'AATTATATT',\n '46',\n 'all1866all1865all1864',\n 'YES',\n 'This',\n 'study',\n 'cpcG2',\n 'alr0535',\n 'CTGTTGactgaCAACTG',\n '9',\n '22',\n 'CGTTATATT',\n '68',\n 'alr0535alr0536alr0537',\n 'YES',\n 'This',\n 'study\\nalr0882@',\n 'alr0882',\n 'AGTgcaatgaaACT',\n '8',\n '172',\n 'TTAATTTT',\n '137',\n '-',\n 'YES',\n 'Srivastava',\n 'et',\n 'al.,',\n '2022b',\n 'PREPRINT',\n 'alr2425',\n 'alr2425',\n 'AGTcaaaACTACT',\n 'AGTatataaagggACT',\n '4,7',\n '10',\n '231',\n '215',\n 'TTTTATTTT',\n '265',\n '-',\n 'YES',\n 'This',\n 'study',\n 'alr1208',\n 'alr1208',\n 'AGTcattgtACT',\n '6',\n '50',\n 'TCTTAAATT',\n '37',\n 'alr1207alr1208',\n 'YES',\n 'This',\n 'study',\n 'rpl9',\n 'all0579',\n 'CAGTTCgctagGATCTG',\n '9',\n '101',\n 'CGCTAGGAT',\n '103',\n '-',\n 'YES',\n 'This',\n 'study',\n 'all7597',\n 'all7597',\n 'AGTcaacctaACT',\n '7',\n '103',\n 'TTTCATAAT',\n '151',\n '-',\n 'YES',\n 'This',\n 'study',\n 'psaD@',\n 'all0329',\n 'AGTtttcagcACT',\n '8',\n '161',\n 'ATTTAAAAT',\n '105',\n '-',\n 'YES',\n 'Srivastava',\n 'et',\n 'al.,',\n '2022a',\n 'petE@',\n 'all0258',\n 'AGTgctgagtACT',\n 'AGTactgagtACT',\n 'AGTttttaaACT',\n '7',\n '7',\n '6',\n '440',\n '433',\n '395',\n 'ATTTAAAAT',\n '38',\n '-',\n 'NO',\n 'Srivastava',\n 'et',\n 'al.,',\n '2022a',\n 'alr0806',\n 'alr0806',\n 'AAGTcgggtATTT',\n '5',\n '83',\n 'GGTATTTT',\n '75',\n '-',\n 'YES',\n 'This',\n 'study',\n 'all4391@',\n 'all4391',\n 'AGTtcttgatagatACT',\n '11',\n '418',\n 'AAATAACA',\n '346',\n '-',\n 'YES',\n 'Srivastava',\n 'et',\n 'al.,',\n '2022b',\n 'PREPRINT',\n 'alr0782@',\n 'alr0782',\n 'AGTtttttACT',\n '5',\n '108',\n 'TTTTGTTA',\n '52',\n '-',\n 'YES',\n 'Srivastava',\n 'et',\n 'al.,',\n '2022b',\n 'PREPRINT',\n 'all4688',\n 'all4688',\n 'AGTAccgtTtCT',\n '6',\n '79',\n 'CGCTACCAT',\n '44',\n '-',\n 'YES',\n 'This',\n 'study',\n 'rpl10',\n 'alr5302',\n 'AGTCTtgAGACT',\n '6',\n '98',\n 'AGAAAAAAT',\n '45',\n '-',\n 'YES',\n 'This',\n 'study',\n 'all4894',\n 'all4894',\n 'AGTtttggctcACT',\n '8',\n '64',\n 'AGATACAAT',\n '31',\n '-',\n 'YES',\n 'This',\n 'study',\n 'trxA',\n 'alr0052',\n 'TAGTAtgccTtCTA',\n '6',\n '288',\n 'TTTTAGTAT',\n '296',\n '-',\n 'YES',\n 'This',\n 'study\\nalr2205',\n 'alr2205',\n 'AATAGTattttttatcACaATT',\n '10',\n '17',\n 'TAGTATTTT',\n '25',\n '-',\n 'YES',\n 'This',\n 'study',\n 'nusA',\n 'alr3829',\n 'TAGaCgacgGACTA',\n '6',\n '148',\n 'TGTTACCCT',\n '72',\n '-',\n 'YES',\n 'This',\n 'study',\n 'gap-2@',\n 'all5062',\n 'ACAGagggcaagatACTGT',\n '9',\n 'overlaps',\n 'TATGATT',\n '49',\n '-',\n 'YES',\n 'Srivastava',\n 'et',\n 'al.,',\n '2022b',\n 'PREPRINT',\n 'hemE',\n 'all3909',\n 'AAGTtattttgACTT',\n '7',\n '146',\n 'AGTTATTTT',\n '150',\n '-',\n 'YES',\n 'This',\n 'study',\n 'alr4853',\n 'alr4853',\n 'tGTGgcgggaaCACT',\n '9',\n '406',\n 'CTTTATCTT',\n '438',\n 'alr4852alr4853',\n 'YES',\n 'This',\n 'study',\n 'all3797',\n 'all3797',\n 'TAGTTttctttAtCTA',\n '8',\n '342',\n 'GCTTATATT',\n '402',\n '-',\n 'YES',\n 'This',\n 'study',\n 'all2110',\n 'all2110',\n 'AGTTCtctGAACa',\n '7',\n '120',\n 'AACTAGACT',\n '31',\n '-',\n 'YES',\n 'This',\n 'study',\n 'cpcB@',\n 'alr0528',\n 'AAGTggcaagaAaTT',\n '7',\n '134',\n 'TAAAAT',\n '170',\n '-',\n 'YES',\n 'Kumar',\n 'et',\n 'al.,',\n '2018',\n 'all4050',\n 'all4050',\n 'AGTTTtAAtCT',\n '5',\n '161',\n 'ATTTAAAAT',\n '81',\n '-',\n 'YES',\n 'This',\n 'study',\n 'rps1@',\n 'all0136',\n 'TAGgtgtacACTA',\n '5',\n '75',\n 'TTAATA',\n '131',\n '-',\n 'YES',\n 'Srivastava',\n 'et',\n 'al.,',\n '2022b',\n 'PREPRINT',\n 'rbp',\n 'all4377',\n 'AGTggtatttaACT',\n '8',\n '278',\n 'CAGTAAAAT',\n '229',\n '-',\n 'YES',\n 'This',\n 'study',\n 'all7618',\n 'all7618',\n 'CAGTaatttaaaAaTG',\n 'TAGTTAttccTAACaA',\n '8',\n '9',\n '292',\n '191',\n 'ATGTAAAAT',\n '234',\n 'all7619all7618all7617',\n 'YES',\n 'This',\n 'study',\n 'all7619',\n 'all7619',\n 'ycf16',\n 'alr2493',\n 'TAGTcgccatctttttCTA',\n 'GtGTcaccACTC',\n '11',\n '4',\n '217',\n '89',\n 'TGTTAATCT',\n '167',\n 'alr2492alr2493alr2494alr2495YES',\n 'This',\n 'study\\naztA',\n 'alr7622',\n 'AGTattgttttccACT',\n 'AGTtaatgacgtgACT',\n '10',\n '10',\n '420',\n '391',\n 'AACTATAAT',\n '374',\n '-',\n 'YES',\n 'This',\n 'study',\n 'alr4267',\n 'alr4267',\n 'AAGTcgcttcgctccAaTT',\n '11',\n '404',\n 'ATTCAAAAT',\n '384',\n 'alr4267',\n 'alr4268',\n 'alr4269',\n 'YES',\n 'This',\n 'study',\n 'secD',\n 'all0121',\n 'No',\n 'AnLexA',\n 'box',\n '-',\n '-',\n 'CGTTATTAT',\n '26',\n 'all0121all0120all0119',\n 'NO',\n 'This',\n 'study\\n']"
     },
     "execution_count": 4,
     "metadata": {},
     "output_type": "execute_result"
    }
   ],
   "source": [
    "file=\"/home/davide/cdanabena.txt\"\n",
    "with open(file) as f:\n",
    "    lines=f.read()\n",
    "lines.split(\" \")"
   ],
   "metadata": {
    "collapsed": false,
    "ExecuteTime": {
     "end_time": "2024-04-16T08:04:20.027157Z",
     "start_time": "2024-04-16T08:04:20.022048Z"
    }
   },
   "id": "7aee77e07b174d69",
   "execution_count": 4
  },
  {
   "cell_type": "code",
   "outputs": [
    {
     "data": {
      "text/plain": "{'spreadsheetId': '1Etovzk6PI8TdT_i15_8Q7m5qZ9TY7-nN2uj6USgCLnU',\n 'updates': {'spreadsheetId': '1Etovzk6PI8TdT_i15_8Q7m5qZ9TY7-nN2uj6USgCLnU',\n  'updatedRange': 'con_evidenze_Anabaena!D1:F227',\n  'updatedRows': 227,\n  'updatedColumns': 3,\n  'updatedCells': 681}}"
     },
     "execution_count": 24,
     "metadata": {},
     "output_type": "execute_result"
    }
   ],
   "source": [
    "sh = gc.open(\"SAG_2025\")\n",
    "wh = sh.get_worksheet(1)\n",
    "#insert new cols at pos 4\n",
    "#pick last 4 columns of df2 and transform to list of lsits\n",
    "new=[df2.columns[-3:].tolist()]+ df2.iloc[:,-3:].values.tolist()\n",
    "new=list(map(list, zip(*new)))\n",
    "wh.insert_cols(new,col=5)"
   ],
   "metadata": {
    "collapsed": false,
    "ExecuteTime": {
     "end_time": "2024-04-15T13:46:09.538741Z",
     "start_time": "2024-04-15T13:46:07.508826Z"
    }
   },
   "id": "6f8e86a0319174e",
   "execution_count": 24
  },
  {
   "cell_type": "code",
   "outputs": [],
   "source": [],
   "metadata": {
    "collapsed": false
   },
   "id": "63b936ea7b80e59f"
  }
 ],
 "metadata": {
  "kernelspec": {
   "display_name": "Python 3",
   "language": "python",
   "name": "python3"
  },
  "language_info": {
   "codemirror_mode": {
    "name": "ipython",
    "version": 2
   },
   "file_extension": ".py",
   "mimetype": "text/x-python",
   "name": "python",
   "nbconvert_exporter": "python",
   "pygments_lexer": "ipython2",
   "version": "2.7.6"
  }
 },
 "nbformat": 4,
 "nbformat_minor": 5
}
