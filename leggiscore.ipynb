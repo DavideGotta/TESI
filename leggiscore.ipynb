{
 "cells": [
  {
   "cell_type": "code",
   "outputs": [
    {
     "name": "stdout",
     "output_type": "stream",
     "text": [
      "        0      1      2      3      4      5      6      7      8      9     10     11     12     13     14     15\n",
      "A:   0.20   1.00   0.00   0.00   1.00   0.00   0.67   0.60   0.07   0.00   0.00   0.00   0.67   0.00   0.00   0.90\n",
      "C:   0.00   0.00   0.00   0.00   0.00   0.67   0.00   0.03   0.60   0.00   0.00   0.33   0.00   1.00   0.00   0.00\n",
      "G:   0.13   0.00   1.00   0.00   0.00   0.00   0.33   0.00   0.03   0.00   1.00   0.00   0.00   0.00   0.00   0.07\n",
      "T:   0.67   0.00   0.00   1.00   0.00   0.33   0.00   0.37   0.30   1.00   0.00   0.67   0.33   0.00   1.00   0.03\n"
     ]
    }
   ],
   "source": [
    "from Bio import motifs\n",
    "motivo=motifs.parse(open(\"/home/davide/Documents/motivo8recalexassbuvrbzoops/meme.xml\"),\"meme\")[1]\n",
    "#print number of sequences of the motif\n",
    "print(motivo.pwm)\n"
   ],
   "metadata": {
    "collapsed": false,
    "ExecuteTime": {
     "end_time": "2024-06-05T10:55:12.639056Z",
     "start_time": "2024-06-05T10:55:12.629036Z"
    }
   },
   "id": "e77af1499fb8489b",
   "execution_count": 14
  },
  {
   "cell_type": "code",
   "outputs": [
    {
     "name": "stdout",
     "output_type": "stream",
     "text": [
      "0.20 1.00 0.00 0.00 1.00 0.00 0.67 0.60 0.07 0.00 0.00 0.00 0.67 0.00 0.00 0.90\n",
      "0.00 0.00 0.00 0.00 0.00 0.67 0.00 0.03 0.60 0.00 0.00 0.33 0.00 1.00 0.00 0.00\n",
      "0.13 0.00 1.00 0.00 0.00 0.00 0.33 0.00 0.03 0.00 1.00 0.00 0.00 0.00 0.00 0.07\n",
      "0.67 0.00 0.00 1.00 0.00 0.33 0.00 0.37 0.30 1.00 0.00 0.67 0.33 0.00 1.00 0.03\n"
     ]
    }
   ],
   "source": [
    "#write motivo.pwm in file\n",
    "#create the file\n",
    "\n",
    "with open(\"/home/davide/Desktop/motivo8recalexassbuvrbzoops.fa\", \"w\") as f:\n",
    "    f.write(\">PWM\\n\")\n",
    "    lines=str(motivo.pwm).split(\"\\n\")[1:]\n",
    "    lines = [' '.join(line.split()[1:]) for line in lines if line]\n",
    "    pwm = \"\\n\".join(lines)\n",
    "    print(pwm)\n",
    "    f.write(str(pwm))"
   ],
   "metadata": {
    "collapsed": false,
    "ExecuteTime": {
     "end_time": "2024-06-05T11:00:16.321763Z",
     "start_time": "2024-06-05T11:00:16.315704Z"
    }
   },
   "id": "d35af86083bbd037",
   "execution_count": 18
  },
  {
   "cell_type": "code",
   "outputs": [],
   "source": [],
   "metadata": {
    "collapsed": false,
    "ExecuteTime": {
     "end_time": "2024-06-05T10:50:03.697441Z",
     "start_time": "2024-06-05T10:50:03.695312Z"
    }
   },
   "id": "2ce314a09b5f1e0e",
   "execution_count": 10
  },
  {
   "cell_type": "code",
   "outputs": [
    {
     "data": {
      "text/plain": "             Gene_id                                Operon    Ref_substring  \\\n0     PFMHEGPF_00001  ['PFMHEGPF_00001', 'PFMHEGPF_05605']   CATCTACTTGGCTA   \n1     PFMHEGPF_00002                    ['PFMHEGPF_00002']   AGTACTGAGATCTT   \n2     PFMHEGPF_00003                    ['PFMHEGPF_00003']   TGTTAGTTACCCCT   \n3     PFMHEGPF_00004                    ['PFMHEGPF_00004']   AATTCATCATCCAT   \n4     PFMHEGPF_00005                    ['PFMHEGPF_00005']   AGGGCTGCCAAATC   \n...              ...                                   ...              ...   \n5598  PFMHEGPF_05602                    ['PFMHEGPF_05602']   AGGTTGACCCCTCT   \n5599  PFMHEGPF_05603                    ['PFMHEGPF_05603']   AGTGGGATAGTTTT   \n5600  PFMHEGPF_05604                    ['PFMHEGPF_05604']   AGGGAATTGCAACT   \n5601  PFMHEGPF_05605  ['PFMHEGPF_00001', 'PFMHEGPF_05605']   CATCTACTTGGCTA   \n5602             NaN                                   NaN              NaN   \n\n                     Score        refined_score  \n0      -6.8705069900132925  -6.8705069900132925  \n1         2.97870380240285    4.154027912608612  \n2        0.283047831758966   1.1223411135965158  \n3                     -inf   0.3977204140716297  \n4        2.800711989350616    1.219312823728313  \n...                    ...                  ...  \n5598    2.8905842901102385    3.442971522509043  \n5599      2.17085525686135    4.242636550676556  \n5600    0.6360161513489536    3.053963255971107  \n5601    2.7447979163450706   -6.162479605794183  \n5602                   NaN                  NaN  \n\n[5603 rows x 5 columns]",
      "text/html": "<div>\n<style scoped>\n    .dataframe tbody tr th:only-of-type {\n        vertical-align: middle;\n    }\n\n    .dataframe tbody tr th {\n        vertical-align: top;\n    }\n\n    .dataframe thead th {\n        text-align: right;\n    }\n</style>\n<table border=\"1\" class=\"dataframe\">\n  <thead>\n    <tr style=\"text-align: right;\">\n      <th></th>\n      <th>Gene_id</th>\n      <th>Operon</th>\n      <th>Ref_substring</th>\n      <th>Score</th>\n      <th>refined_score</th>\n    </tr>\n  </thead>\n  <tbody>\n    <tr>\n      <th>0</th>\n      <td>PFMHEGPF_00001</td>\n      <td>['PFMHEGPF_00001', 'PFMHEGPF_05605']</td>\n      <td>CATCTACTTGGCTA</td>\n      <td>-6.8705069900132925</td>\n      <td>-6.8705069900132925</td>\n    </tr>\n    <tr>\n      <th>1</th>\n      <td>PFMHEGPF_00002</td>\n      <td>['PFMHEGPF_00002']</td>\n      <td>AGTACTGAGATCTT</td>\n      <td>2.97870380240285</td>\n      <td>4.154027912608612</td>\n    </tr>\n    <tr>\n      <th>2</th>\n      <td>PFMHEGPF_00003</td>\n      <td>['PFMHEGPF_00003']</td>\n      <td>TGTTAGTTACCCCT</td>\n      <td>0.283047831758966</td>\n      <td>1.1223411135965158</td>\n    </tr>\n    <tr>\n      <th>3</th>\n      <td>PFMHEGPF_00004</td>\n      <td>['PFMHEGPF_00004']</td>\n      <td>AATTCATCATCCAT</td>\n      <td>-inf</td>\n      <td>0.3977204140716297</td>\n    </tr>\n    <tr>\n      <th>4</th>\n      <td>PFMHEGPF_00005</td>\n      <td>['PFMHEGPF_00005']</td>\n      <td>AGGGCTGCCAAATC</td>\n      <td>2.800711989350616</td>\n      <td>1.219312823728313</td>\n    </tr>\n    <tr>\n      <th>...</th>\n      <td>...</td>\n      <td>...</td>\n      <td>...</td>\n      <td>...</td>\n      <td>...</td>\n    </tr>\n    <tr>\n      <th>5598</th>\n      <td>PFMHEGPF_05602</td>\n      <td>['PFMHEGPF_05602']</td>\n      <td>AGGTTGACCCCTCT</td>\n      <td>2.8905842901102385</td>\n      <td>3.442971522509043</td>\n    </tr>\n    <tr>\n      <th>5599</th>\n      <td>PFMHEGPF_05603</td>\n      <td>['PFMHEGPF_05603']</td>\n      <td>AGTGGGATAGTTTT</td>\n      <td>2.17085525686135</td>\n      <td>4.242636550676556</td>\n    </tr>\n    <tr>\n      <th>5600</th>\n      <td>PFMHEGPF_05604</td>\n      <td>['PFMHEGPF_05604']</td>\n      <td>AGGGAATTGCAACT</td>\n      <td>0.6360161513489536</td>\n      <td>3.053963255971107</td>\n    </tr>\n    <tr>\n      <th>5601</th>\n      <td>PFMHEGPF_05605</td>\n      <td>['PFMHEGPF_00001', 'PFMHEGPF_05605']</td>\n      <td>CATCTACTTGGCTA</td>\n      <td>2.7447979163450706</td>\n      <td>-6.162479605794183</td>\n    </tr>\n    <tr>\n      <th>5602</th>\n      <td>NaN</td>\n      <td>NaN</td>\n      <td>NaN</td>\n      <td>NaN</td>\n      <td>NaN</td>\n    </tr>\n  </tbody>\n</table>\n<p>5603 rows × 5 columns</p>\n</div>"
     },
     "execution_count": 24,
     "metadata": {},
     "output_type": "execute_result"
    }
   ],
   "source": [
    "import pandas as pd\n",
    "file = open(\"/home/davide/Downloads/lexA_regulon_4_giugno.fa\").read()\n",
    "columns= [\"Gene_id\", \"Operon\", \"Ref_substring\", \"Score\", \"refined_score\"]\n",
    "# Split the data into blocks\n",
    "blocks = file.split(\"###################################\")\n",
    "\n",
    "# Prepare a list to hold the rows of the CSV\n",
    "rows = []\n",
    "\n",
    "# Process each block\n",
    "for block in blocks:\n",
    "    # Split the block into lines\n",
    "    lines = block.split(\"\\n\")\n",
    "    # Prepare a dictionary to hold the data for this row\n",
    "    row = {}\n",
    "    # Process each line\n",
    "    for line in lines:\n",
    "        for column in columns:\n",
    "            if column in line:\n",
    "                row[column] = line.split(\":\")[1]\n",
    "\n",
    "    # Add the row to the list of rows\n",
    "    rows.append(row)\n",
    "\n",
    "df=pd.DataFrame(rows)\n",
    "df.to_csv(\"lexA_regulon_4_giugno.tsv\", index=False, sep=\"\\t\")"
   ],
   "metadata": {
    "collapsed": false,
    "ExecuteTime": {
     "end_time": "2024-06-05T11:45:29.804097Z",
     "start_time": "2024-06-05T11:45:29.655630Z"
    }
   },
   "id": "1a248eb1c5c8f8fb",
   "execution_count": 24
  },
  {
   "cell_type": "code",
   "outputs": [],
   "source": [],
   "metadata": {
    "collapsed": false
   },
   "id": "9a5d76bfe9240c3b"
  }
 ],
 "metadata": {
  "kernelspec": {
   "display_name": "Python 3",
   "language": "python",
   "name": "python3"
  },
  "language_info": {
   "codemirror_mode": {
    "name": "ipython",
    "version": 2
   },
   "file_extension": ".py",
   "mimetype": "text/x-python",
   "name": "python",
   "nbconvert_exporter": "python",
   "pygments_lexer": "ipython2",
   "version": "2.7.6"
  }
 },
 "nbformat": 4,
 "nbformat_minor": 5
}
