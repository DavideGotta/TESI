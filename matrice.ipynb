{
 "cells": [
  {
   "cell_type": "code",
   "execution_count": 7,
   "id": "initial_id",
   "metadata": {
    "collapsed": true,
    "ExecuteTime": {
     "end_time": "2024-03-12T20:46:11.677852028Z",
     "start_time": "2024-03-12T20:46:08.560834194Z"
    }
   },
   "outputs": [],
   "source": [
    "import pandas as pd\n",
    "file=\"/home/davide/Desktop/genomiChro/intergeniche_tutte/motivounicobest/joined.txt\"\n",
    "with open(file, \"r\") as f:\n",
    "    #if line starts with Risultati per il gene: extract the gene name\n",
    "    lines = f.readlines()\n",
    "\n",
    "#create dataframe with columns 'HLAHILNB', 'LHCOABFD', 'JHIDLJMF', 'AIHNMJLC', 'GOENLOBA', 'FNLHCIEN', 'GBPHKEKP', 'GOHPBNEF', 'MGCKOBKL'\n",
    "df = pd.DataFrame(columns=['HLAHILNB', 'LHCOABFD', 'JHIDLJMF', 'AIHNMJLC', 'GOENLOBA', 'FNLHCIEN', 'GBPHKEKP', 'GOHPBNEF', 'MGCKOBKL'])\n",
    "#iterate over the genes and add a row for each gene if the gene is not already in the dataframe\n",
    "i=0\n",
    "motivi=0\n",
    "for line in lines:\n",
    "    if line.startswith(\"Risultati per il gene:\"):\n",
    "        i+=1\n",
    "        if motivi!=0:\n",
    "            df.loc[id,name_col]=\" \".join(motivi)\n",
    "        id = line[line.find('[')+2:line.find(']')-1].split(\" \")[0]\n",
    "        gene=line[line.find('[')+2:line.find(']')-1].split(\"gene:\")[-1].strip()\n",
    "        id = gene if gene != 'None' else id\n",
    "        name_col=line.split(\" \")[4].split(\"_\")[0]\n",
    "        motivi=[]\n",
    "    else:\n",
    "        if \"il motivo\" in line:\n",
    "            motivi.append(line.split(\"-\")[1].split(\" \")[2]+\"(-\"+line.split(\"-\")[2][:-1]+\")\")\n"
   ]
  },
  {
   "cell_type": "code",
   "execution_count": 8,
   "outputs": [
    {
     "data": {
      "text/plain": "                                HLAHILNB  \\\nAIHNMJLC_06044                       NaN   \nAIHNMJLC_04703                       NaN   \nAIHNMJLC_05761                       NaN   \nxylB_2                                     \nmprA_1          aAGTATCACTCGCGACTa(-212)   \n...                                  ...   \nAIHNMJLC_02695                       NaN   \nzitB_13                              NaN   \ncadC_13                              NaN   \nAIHNMJLC_05390                       NaN   \nAIHNMJLC_03211                       NaN   \n\n                                                     LHCOABFD  \\\nAIHNMJLC_06044                                            NaN   \nAIHNMJLC_04703                                            NaN   \nAIHNMJLC_05761                                                  \nxylB_2                                                          \nmprA_1                                  gAGTTGGAATTACTt(-119)   \n...                                                       ...   \nAIHNMJLC_02695  aAGTACAGTACCGCACTc(-95) tAGTAACCTCAGCTa(-166)   \nzitB_13                                                         \ncadC_13                                                         \nAIHNMJLC_05390                                                  \nAIHNMJLC_03211                                                  \n\n                                                 JHIDLJMF  \\\nAIHNMJLC_06044                                              \nAIHNMJLC_04703                      aAGTTATCGACACTc(-271)   \nAIHNMJLC_05761                                              \nxylB_2                               tAGTGCGGCAACTc(-184)   \nmprA_1          gAGTTGGAATTACTt(-119) cAGTGTAGTAACTc(-24)   \n...                                                   ...   \nAIHNMJLC_02695                                        NaN   \nzitB_13                                               NaN   \ncadC_13                                               NaN   \nAIHNMJLC_05390                                        NaN   \nAIHNMJLC_03211                                        NaN   \n\n                                                         AIHNMJLC  \\\nAIHNMJLC_06044  aAGTAAACGCTAACTt(-262) tAGTACAACTACTt(-138) aA...   \nAIHNMJLC_04703                           gAGTACTATCCTCGACTc(-149)   \nAIHNMJLC_05761                                                      \nxylB_2                                                              \nmprA_1                                                              \n...                                                           ...   \nAIHNMJLC_02695                                                NaN   \nzitB_13                                                       NaN   \ncadC_13                                                       NaN   \nAIHNMJLC_05390                                                NaN   \nAIHNMJLC_03211                                                NaN   \n\n                                                       GOENLOBA  \\\nAIHNMJLC_06044  cAGTTAATCGAGCACTa(-247) tAGTTTAGAGGCAGCTa(-174)   \nAIHNMJLC_04703                                                    \nAIHNMJLC_05761                                                    \nxylB_2                                                            \nmprA_1                gAGTTGGAATTACTt(-119) cAGTGTAGTAACTc(-24)   \n...                                                         ...   \nAIHNMJLC_02695                                              NaN   \nzitB_13                                                     NaN   \ncadC_13                                                     NaN   \nAIHNMJLC_05390                                              NaN   \nAIHNMJLC_03211                                              NaN   \n\n                                                 FNLHCIEN  \\\nAIHNMJLC_06044                                              \nAIHNMJLC_04703                                        NaN   \nAIHNMJLC_05761                                        NaN   \nxylB_2                                                      \nmprA_1          gAGTTGAAATTACTt(-119) cAGTGTAGTAACTc(-24)   \n...                                                   ...   \nAIHNMJLC_02695                                        NaN   \nzitB_13                                               NaN   \ncadC_13                                               NaN   \nAIHNMJLC_05390                                        NaN   \nAIHNMJLC_03211                                        NaN   \n\n                                                     GBPHKEKP  \\\nAIHNMJLC_06044                                            NaN   \nAIHNMJLC_04703                                            NaN   \nAIHNMJLC_05761                        gAGTTCGAGGAGTACTg(-117)   \nxylB_2                                   cAGTTGGACGACTc(-201)   \nmprA_1          gAGTTGGAATTACTt(-119) aAGTACAGCCAGAAACTg(-55)   \n...                                                       ...   \nAIHNMJLC_02695                                            NaN   \nzitB_13                                                   NaN   \ncadC_13                                                   NaN   \nAIHNMJLC_05390                                            NaN   \nAIHNMJLC_03211                                            NaN   \n\n                                                     GOHPBNEF  \\\nAIHNMJLC_06044                                                  \nAIHNMJLC_04703                                            NaN   \nAIHNMJLC_05761                                            NaN   \nxylB_2                                                          \nmprA_1          gAGTTGGAATTACTt(-119) aAGTAGAGCCAGAAACTg(-55)   \n...                                                       ...   \nAIHNMJLC_02695                                            NaN   \nzitB_13                                                   NaN   \ncadC_13                                                   NaN   \nAIHNMJLC_05390                                            NaN   \nAIHNMJLC_03211                                            NaN   \n\n                                                 MGCKOBKL  \nAIHNMJLC_06044                                        NaN  \nAIHNMJLC_04703                    tAGTAGAGACGTTCACTc(-33)  \nAIHNMJLC_05761                                             \nxylB_2                                                     \nmprA_1          gAGTTGGAATTACTt(-119) cAGTGTAGTAACTc(-24)  \n...                                                   ...  \nAIHNMJLC_02695                                        NaN  \nzitB_13                                               NaN  \ncadC_13                                               NaN  \nAIHNMJLC_05390                                        NaN  \nAIHNMJLC_03211                                        NaN  \n\n[4858 rows x 9 columns]",
      "text/html": "<div>\n<style scoped>\n    .dataframe tbody tr th:only-of-type {\n        vertical-align: middle;\n    }\n\n    .dataframe tbody tr th {\n        vertical-align: top;\n    }\n\n    .dataframe thead th {\n        text-align: right;\n    }\n</style>\n<table border=\"1\" class=\"dataframe\">\n  <thead>\n    <tr style=\"text-align: right;\">\n      <th></th>\n      <th>HLAHILNB</th>\n      <th>LHCOABFD</th>\n      <th>JHIDLJMF</th>\n      <th>AIHNMJLC</th>\n      <th>GOENLOBA</th>\n      <th>FNLHCIEN</th>\n      <th>GBPHKEKP</th>\n      <th>GOHPBNEF</th>\n      <th>MGCKOBKL</th>\n    </tr>\n  </thead>\n  <tbody>\n    <tr>\n      <th>AIHNMJLC_06044</th>\n      <td>NaN</td>\n      <td>NaN</td>\n      <td></td>\n      <td>aAGTAAACGCTAACTt(-262) tAGTACAACTACTt(-138) aA...</td>\n      <td>cAGTTAATCGAGCACTa(-247) tAGTTTAGAGGCAGCTa(-174)</td>\n      <td></td>\n      <td>NaN</td>\n      <td></td>\n      <td>NaN</td>\n    </tr>\n    <tr>\n      <th>AIHNMJLC_04703</th>\n      <td>NaN</td>\n      <td>NaN</td>\n      <td>aAGTTATCGACACTc(-271)</td>\n      <td>gAGTACTATCCTCGACTc(-149)</td>\n      <td></td>\n      <td>NaN</td>\n      <td>NaN</td>\n      <td>NaN</td>\n      <td>tAGTAGAGACGTTCACTc(-33)</td>\n    </tr>\n    <tr>\n      <th>AIHNMJLC_05761</th>\n      <td>NaN</td>\n      <td></td>\n      <td></td>\n      <td></td>\n      <td></td>\n      <td>NaN</td>\n      <td>gAGTTCGAGGAGTACTg(-117)</td>\n      <td>NaN</td>\n      <td></td>\n    </tr>\n    <tr>\n      <th>xylB_2</th>\n      <td></td>\n      <td></td>\n      <td>tAGTGCGGCAACTc(-184)</td>\n      <td></td>\n      <td></td>\n      <td></td>\n      <td>cAGTTGGACGACTc(-201)</td>\n      <td></td>\n      <td></td>\n    </tr>\n    <tr>\n      <th>mprA_1</th>\n      <td>aAGTATCACTCGCGACTa(-212)</td>\n      <td>gAGTTGGAATTACTt(-119)</td>\n      <td>gAGTTGGAATTACTt(-119) cAGTGTAGTAACTc(-24)</td>\n      <td></td>\n      <td>gAGTTGGAATTACTt(-119) cAGTGTAGTAACTc(-24)</td>\n      <td>gAGTTGAAATTACTt(-119) cAGTGTAGTAACTc(-24)</td>\n      <td>gAGTTGGAATTACTt(-119) aAGTACAGCCAGAAACTg(-55)</td>\n      <td>gAGTTGGAATTACTt(-119) aAGTAGAGCCAGAAACTg(-55)</td>\n      <td>gAGTTGGAATTACTt(-119) cAGTGTAGTAACTc(-24)</td>\n    </tr>\n    <tr>\n      <th>...</th>\n      <td>...</td>\n      <td>...</td>\n      <td>...</td>\n      <td>...</td>\n      <td>...</td>\n      <td>...</td>\n      <td>...</td>\n      <td>...</td>\n      <td>...</td>\n    </tr>\n    <tr>\n      <th>AIHNMJLC_02695</th>\n      <td>NaN</td>\n      <td>aAGTACAGTACCGCACTc(-95) tAGTAACCTCAGCTa(-166)</td>\n      <td>NaN</td>\n      <td>NaN</td>\n      <td>NaN</td>\n      <td>NaN</td>\n      <td>NaN</td>\n      <td>NaN</td>\n      <td>NaN</td>\n    </tr>\n    <tr>\n      <th>zitB_13</th>\n      <td>NaN</td>\n      <td></td>\n      <td>NaN</td>\n      <td>NaN</td>\n      <td>NaN</td>\n      <td>NaN</td>\n      <td>NaN</td>\n      <td>NaN</td>\n      <td>NaN</td>\n    </tr>\n    <tr>\n      <th>cadC_13</th>\n      <td>NaN</td>\n      <td></td>\n      <td>NaN</td>\n      <td>NaN</td>\n      <td>NaN</td>\n      <td>NaN</td>\n      <td>NaN</td>\n      <td>NaN</td>\n      <td>NaN</td>\n    </tr>\n    <tr>\n      <th>AIHNMJLC_05390</th>\n      <td>NaN</td>\n      <td></td>\n      <td>NaN</td>\n      <td>NaN</td>\n      <td>NaN</td>\n      <td>NaN</td>\n      <td>NaN</td>\n      <td>NaN</td>\n      <td>NaN</td>\n    </tr>\n    <tr>\n      <th>AIHNMJLC_03211</th>\n      <td>NaN</td>\n      <td></td>\n      <td>NaN</td>\n      <td>NaN</td>\n      <td>NaN</td>\n      <td>NaN</td>\n      <td>NaN</td>\n      <td>NaN</td>\n      <td>NaN</td>\n    </tr>\n  </tbody>\n</table>\n<p>4858 rows × 9 columns</p>\n</div>"
     },
     "execution_count": 8,
     "metadata": {},
     "output_type": "execute_result"
    }
   ],
   "source": [
    "df"
   ],
   "metadata": {
    "collapsed": false,
    "ExecuteTime": {
     "end_time": "2024-03-12T20:46:12.264813358Z",
     "start_time": "2024-03-12T20:46:12.256843693Z"
    }
   },
   "id": "e2f92bf9ccbc6db5"
  },
  {
   "cell_type": "code",
   "execution_count": 9,
   "outputs": [
    {
     "data": {
      "text/plain": "                                                      HLAHILNB  \\\nsmc_1                                    cAGTGCAAATGTACTg(-57)   \nAIHNMJLC_01985                          tAGTGAACTCAGACTt(-207)   \nAIHNMJLC_01292  cAGTTTGCAGCATACTc(-121) tAGTTTAAGGTTTGCTa(-52)   \ndinG                                    tAGTACGAGTAAAACTa(-18)   \npntB_2                                   tAGTTGCAGGTGCTa(-139)   \n...                                                        ...   \ntrmJ                                                             \npetJ_2                                                     NaN   \npsbH                                                             \nAIHNMJLC_03054                                             NaN   \nAIHNMJLC_03211                                             NaN   \n\n                                                     LHCOABFD  \\\nsmc_1                                   cAGTGCATCTGTACTg(-52)   \nAIHNMJLC_01985                         tAGTGGCTAGTGGCTa(-100)   \nAIHNMJLC_01292  tAGTTCTGCCTTTAACTg(-269) gAGTTTTCCAACTc(-103)   \ndinG                                  cAGTTATAAGCTAACTg(-135)   \npntB_2                                   tAGTTGAGTTACTa(-253)   \n...                                                       ...   \ntrmJ                                                            \npetJ_2                                                          \npsbH                                                      NaN   \nAIHNMJLC_03054                                            NaN   \nAIHNMJLC_03211                                                  \n\n                                                   JHIDLJMF  \\\nsmc_1                                   gAGTCTGTCAACTa(-94)   \nAIHNMJLC_01985                       gAGTACAATTCGACTc(-150)   \nAIHNMJLC_01292  tAGTTCCTGCGTGCTa(-107) tAGTTTCGATCGCTa(-30)   \ndinG                               tAGTAAAATAAAAGACTc(-133)   \npntB_2                              aAGTCCCGCCGACACTg(-217)   \n...                                                     ...   \ntrmJ                                                          \npetJ_2                                                  NaN   \npsbH                                                          \nAIHNMJLC_03054                                          NaN   \nAIHNMJLC_03211                                          NaN   \n\n                                                    AIHNMJLC  \\\nsmc_1                                  cAGTGCAAATGTACTg(-61)   \nAIHNMJLC_01985                         cAGTTGAGTCAACTt(-277)   \nAIHNMJLC_01292  tAGTTTCAATCACTACTt(-30) tAGTTTCAATCACTa(-30)   \ndinG                                   cAGTAAAACTTCACTc(-36)   \npntB_2                               aAGTACCGCCGACACTc(-217)   \n...                                                      ...   \ntrmJ                                                           \npetJ_2                                                         \npsbH                                                           \nAIHNMJLC_03054                                                 \nAIHNMJLC_03211                                           NaN   \n\n                                                   GOENLOBA  \\\nsmc_1                                 cAGTGCATCTGTACTg(-52)   \nAIHNMJLC_01985                       gAGTACAATTCGACTc(-150)   \nAIHNMJLC_01292  tAGTTCCTGCGTGCTa(-107) tAGTTTCGATCGCTa(-30)   \ndinG                               tAGTAAAATAAAAGACTc(-133)   \npntB_2                              aAGTCCCGCCGACACTg(-217)   \n...                                                     ...   \ntrmJ                                                          \npetJ_2                                                  NaN   \npsbH                                                          \nAIHNMJLC_03054                                          NaN   \nAIHNMJLC_03211                                          NaN   \n\n                                                    FNLHCIEN  \\\nsmc_1                                  cAGTGCATCTGTACTg(-52)   \nAIHNMJLC_01985  gAGTACAATTCGACTc(-215) tAGTCACCAGCCACTa(-27)   \nAIHNMJLC_01292   tAGTTCCTGCGTGCTa(-107) tAGTTTCGATCGCTa(-30)   \ndinG                                tAGTAAAATAAAAGACTc(-214)   \npntB_2                               aAGTCCCGCCGACACTg(-217)   \n...                                                      ...   \ntrmJ                                                     NaN   \npetJ_2                                                   NaN   \npsbH                                                           \nAIHNMJLC_03054                                           NaN   \nAIHNMJLC_03211                                           NaN   \n\n                                                   GBPHKEKP  \\\nsmc_1                                 cAGTGCATCTGTACTg(-52)   \nAIHNMJLC_01985                       gAGTACAATTCGACTc(-121)   \nAIHNMJLC_01292  tAGTTCCTGCGTGCTa(-107) tAGTTTCGATCGCTa(-30)   \ndinG                               tAGTAAAATAAAAGACTc(-133)   \npntB_2                              aAGTCCCGCCAACACTg(-217)   \n...                                                     ...   \ntrmJ                                                          \npetJ_2                                                  NaN   \npsbH                                                          \nAIHNMJLC_03054                                          NaN   \nAIHNMJLC_03211                                          NaN   \n\n                                                   GOHPBNEF  \\\nsmc_1                                 cAGTGCATCTGTACTg(-52)   \nAIHNMJLC_01985                       gAGTACAATTCGACTc(-150)   \nAIHNMJLC_01292  tAGTTCCTGCGTGCTa(-107) tAGTTTCGATCGCTa(-30)   \ndinG                               tAGTAAAATAAAAGACTc(-133)   \npntB_2                              aAGTCCCGCCGACACTg(-217)   \n...                                                     ...   \ntrmJ                                                    NaN   \npetJ_2                                                  NaN   \npsbH                                                          \nAIHNMJLC_03054                                          NaN   \nAIHNMJLC_03211                                          NaN   \n\n                                                   MGCKOBKL  \nsmc_1                                 cAGTGCATCTGTACTg(-52)  \nAIHNMJLC_01985                       gAGTACAATTCGACTc(-150)  \nAIHNMJLC_01292  tAGTTCCTGCGTGCTa(-107) tAGTTTCGATCGCTa(-30)  \ndinG                               tAGTAAAATAAAAGACTc(-214)  \npntB_2                              aAGTCCCGCCGACACTg(-217)  \n...                                                     ...  \ntrmJ                                                    NaN  \npetJ_2                                                  NaN  \npsbH                                                         \nAIHNMJLC_03054                                          NaN  \nAIHNMJLC_03211                                          NaN  \n\n[4858 rows x 9 columns]",
      "text/html": "<div>\n<style scoped>\n    .dataframe tbody tr th:only-of-type {\n        vertical-align: middle;\n    }\n\n    .dataframe tbody tr th {\n        vertical-align: top;\n    }\n\n    .dataframe thead th {\n        text-align: right;\n    }\n</style>\n<table border=\"1\" class=\"dataframe\">\n  <thead>\n    <tr style=\"text-align: right;\">\n      <th></th>\n      <th>HLAHILNB</th>\n      <th>LHCOABFD</th>\n      <th>JHIDLJMF</th>\n      <th>AIHNMJLC</th>\n      <th>GOENLOBA</th>\n      <th>FNLHCIEN</th>\n      <th>GBPHKEKP</th>\n      <th>GOHPBNEF</th>\n      <th>MGCKOBKL</th>\n    </tr>\n  </thead>\n  <tbody>\n    <tr>\n      <th>smc_1</th>\n      <td>cAGTGCAAATGTACTg(-57)</td>\n      <td>cAGTGCATCTGTACTg(-52)</td>\n      <td>gAGTCTGTCAACTa(-94)</td>\n      <td>cAGTGCAAATGTACTg(-61)</td>\n      <td>cAGTGCATCTGTACTg(-52)</td>\n      <td>cAGTGCATCTGTACTg(-52)</td>\n      <td>cAGTGCATCTGTACTg(-52)</td>\n      <td>cAGTGCATCTGTACTg(-52)</td>\n      <td>cAGTGCATCTGTACTg(-52)</td>\n    </tr>\n    <tr>\n      <th>AIHNMJLC_01985</th>\n      <td>tAGTGAACTCAGACTt(-207)</td>\n      <td>tAGTGGCTAGTGGCTa(-100)</td>\n      <td>gAGTACAATTCGACTc(-150)</td>\n      <td>cAGTTGAGTCAACTt(-277)</td>\n      <td>gAGTACAATTCGACTc(-150)</td>\n      <td>gAGTACAATTCGACTc(-215) tAGTCACCAGCCACTa(-27)</td>\n      <td>gAGTACAATTCGACTc(-121)</td>\n      <td>gAGTACAATTCGACTc(-150)</td>\n      <td>gAGTACAATTCGACTc(-150)</td>\n    </tr>\n    <tr>\n      <th>AIHNMJLC_01292</th>\n      <td>cAGTTTGCAGCATACTc(-121) tAGTTTAAGGTTTGCTa(-52)</td>\n      <td>tAGTTCTGCCTTTAACTg(-269) gAGTTTTCCAACTc(-103)</td>\n      <td>tAGTTCCTGCGTGCTa(-107) tAGTTTCGATCGCTa(-30)</td>\n      <td>tAGTTTCAATCACTACTt(-30) tAGTTTCAATCACTa(-30)</td>\n      <td>tAGTTCCTGCGTGCTa(-107) tAGTTTCGATCGCTa(-30)</td>\n      <td>tAGTTCCTGCGTGCTa(-107) tAGTTTCGATCGCTa(-30)</td>\n      <td>tAGTTCCTGCGTGCTa(-107) tAGTTTCGATCGCTa(-30)</td>\n      <td>tAGTTCCTGCGTGCTa(-107) tAGTTTCGATCGCTa(-30)</td>\n      <td>tAGTTCCTGCGTGCTa(-107) tAGTTTCGATCGCTa(-30)</td>\n    </tr>\n    <tr>\n      <th>dinG</th>\n      <td>tAGTACGAGTAAAACTa(-18)</td>\n      <td>cAGTTATAAGCTAACTg(-135)</td>\n      <td>tAGTAAAATAAAAGACTc(-133)</td>\n      <td>cAGTAAAACTTCACTc(-36)</td>\n      <td>tAGTAAAATAAAAGACTc(-133)</td>\n      <td>tAGTAAAATAAAAGACTc(-214)</td>\n      <td>tAGTAAAATAAAAGACTc(-133)</td>\n      <td>tAGTAAAATAAAAGACTc(-133)</td>\n      <td>tAGTAAAATAAAAGACTc(-214)</td>\n    </tr>\n    <tr>\n      <th>pntB_2</th>\n      <td>tAGTTGCAGGTGCTa(-139)</td>\n      <td>tAGTTGAGTTACTa(-253)</td>\n      <td>aAGTCCCGCCGACACTg(-217)</td>\n      <td>aAGTACCGCCGACACTc(-217)</td>\n      <td>aAGTCCCGCCGACACTg(-217)</td>\n      <td>aAGTCCCGCCGACACTg(-217)</td>\n      <td>aAGTCCCGCCAACACTg(-217)</td>\n      <td>aAGTCCCGCCGACACTg(-217)</td>\n      <td>aAGTCCCGCCGACACTg(-217)</td>\n    </tr>\n    <tr>\n      <th>...</th>\n      <td>...</td>\n      <td>...</td>\n      <td>...</td>\n      <td>...</td>\n      <td>...</td>\n      <td>...</td>\n      <td>...</td>\n      <td>...</td>\n      <td>...</td>\n    </tr>\n    <tr>\n      <th>trmJ</th>\n      <td></td>\n      <td></td>\n      <td></td>\n      <td></td>\n      <td></td>\n      <td>NaN</td>\n      <td></td>\n      <td>NaN</td>\n      <td>NaN</td>\n    </tr>\n    <tr>\n      <th>petJ_2</th>\n      <td>NaN</td>\n      <td></td>\n      <td>NaN</td>\n      <td></td>\n      <td>NaN</td>\n      <td>NaN</td>\n      <td>NaN</td>\n      <td>NaN</td>\n      <td>NaN</td>\n    </tr>\n    <tr>\n      <th>psbH</th>\n      <td></td>\n      <td>NaN</td>\n      <td></td>\n      <td></td>\n      <td></td>\n      <td></td>\n      <td></td>\n      <td></td>\n      <td></td>\n    </tr>\n    <tr>\n      <th>AIHNMJLC_03054</th>\n      <td>NaN</td>\n      <td>NaN</td>\n      <td>NaN</td>\n      <td></td>\n      <td>NaN</td>\n      <td>NaN</td>\n      <td>NaN</td>\n      <td>NaN</td>\n      <td>NaN</td>\n    </tr>\n    <tr>\n      <th>AIHNMJLC_03211</th>\n      <td>NaN</td>\n      <td></td>\n      <td>NaN</td>\n      <td>NaN</td>\n      <td>NaN</td>\n      <td>NaN</td>\n      <td>NaN</td>\n      <td>NaN</td>\n      <td>NaN</td>\n    </tr>\n  </tbody>\n</table>\n<p>4858 rows × 9 columns</p>\n</div>"
     },
     "execution_count": 9,
     "metadata": {},
     "output_type": "execute_result"
    }
   ],
   "source": [
    "#reindex counting how many nan or empty strings are in each row\n",
    "df['nan_count'] = df.isnull().sum(axis=1)\n",
    "df['empty_count'] = (df == '').sum(axis=1)\n",
    "df['total_count'] = df['nan_count'] + df['empty_count']\n",
    "df\n",
    "#sort by total_count\n",
    "df.sort_values(by='total_count', ascending=True, inplace=True)\n",
    "#drop count columns\n",
    "df.drop(['nan_count', 'empty_count', 'total_count'], axis=1, inplace=True)\n",
    "df"
   ],
   "metadata": {
    "collapsed": false,
    "ExecuteTime": {
     "end_time": "2024-03-12T20:46:15.325425033Z",
     "start_time": "2024-03-12T20:46:15.310489113Z"
    }
   },
   "id": "686425c3fc1c6689"
  },
  {
   "cell_type": "code",
   "execution_count": 10,
   "outputs": [
    {
     "name": "stdout",
     "output_type": "stream",
     "text": [
      "Chroococcidiopsis_cubana_SAG_39.79_(cyanobacteria)\n",
      "Chroococcidiopsis_sp._[FACHB-1243]_(cyanobacteria)\n",
      "Chroococcidiopsis_sp._CCMEE_29_(cyanobacteria)\n",
      "Chroococcidiopsis_sp._SAG_2025_(cyanobacteria)\n",
      "Chroococcidiopsis_cubana_CCALA_043_(cyanobacteria)\n",
      "Chroococcidiopsis_thermalis_PCC_7203_(cyanobacteria)\n",
      "Chroococcidiopsis_sp._CCALA_051_(cyanobacteria)\n",
      "Chroococcidiopsis_cubana_SAG_39.79_(cyanobacteria)\n",
      "Chroococcidiopsis_sp._TS-821_(cyanobacteria)\n",
      "Chroococcidiopsis_sp._CCNUC1_(cyanobacteria)\n",
      "{'GOENLOBA': 'cubana_SAG_39.79', 'LHCOABFD': 'sp._[FACHB-1243]', 'AIHNMJLC': 'sp._CCMEE_29', 'GBPHKEKP': 'sp._SAG_2025', 'JHIDLJMF': 'cubana_CCALA_043', 'FNLHCIEN': 'thermalis_PCC_7203', 'GOHPBNEF': 'sp._CCALA_051', 'CJLEADOL': 'cubana_SAG_39.79', 'HLAHILNB': 'sp._TS-821', 'MGCKOBKL': 'sp._CCNUC1'}\n"
     ]
    }
   ],
   "source": [
    "with open(\"/home/davide/Downloads/associazioni_locustag_organismo.txt\", \"r\") as f:\n",
    "    lines = f.readlines()\n",
    "associazioni={}\n",
    "for line in lines:\n",
    "    nome=line.split(\" \")[1].strip()\n",
    "    print(nome)\n",
    "    associazioni[line.split(\" \")[0]]=nome[nome.find(\"_\")+1:nome.find(\"(\")-1]\n",
    "print(associazioni)\n",
    "  \n"
   ],
   "metadata": {
    "collapsed": false,
    "ExecuteTime": {
     "end_time": "2024-03-12T20:46:18.331489314Z",
     "start_time": "2024-03-12T20:46:18.327955508Z"
    }
   },
   "id": "e35af8c65331f160"
  },
  {
   "cell_type": "code",
   "execution_count": 11,
   "outputs": [
    {
     "data": {
      "text/plain": "                                                    sp._TS-821  \\\nsmc_1                                    cAGTGCAAATGTACTg(-57)   \nAIHNMJLC_01985                          tAGTGAACTCAGACTt(-207)   \nAIHNMJLC_01292  cAGTTTGCAGCATACTc(-121) tAGTTTAAGGTTTGCTa(-52)   \ndinG                                    tAGTACGAGTAAAACTa(-18)   \npntB_2                                   tAGTTGCAGGTGCTa(-139)   \n...                                                        ...   \ntrmJ                                                             \npetJ_2                                                     NaN   \npsbH                                                             \nAIHNMJLC_03054                                             NaN   \nAIHNMJLC_03211                                             NaN   \n\n                                             sp._[FACHB-1243]  \\\nsmc_1                                   cAGTGCATCTGTACTg(-52)   \nAIHNMJLC_01985                         tAGTGGCTAGTGGCTa(-100)   \nAIHNMJLC_01292  tAGTTCTGCCTTTAACTg(-269) gAGTTTTCCAACTc(-103)   \ndinG                                  cAGTTATAAGCTAACTg(-135)   \npntB_2                                   tAGTTGAGTTACTa(-253)   \n...                                                       ...   \ntrmJ                                                            \npetJ_2                                                          \npsbH                                                      NaN   \nAIHNMJLC_03054                                            NaN   \nAIHNMJLC_03211                                                  \n\n                                           cubana_CCALA_043  \\\nsmc_1                                   gAGTCTGTCAACTa(-94)   \nAIHNMJLC_01985                       gAGTACAATTCGACTc(-150)   \nAIHNMJLC_01292  tAGTTCCTGCGTGCTa(-107) tAGTTTCGATCGCTa(-30)   \ndinG                               tAGTAAAATAAAAGACTc(-133)   \npntB_2                              aAGTCCCGCCGACACTg(-217)   \n...                                                     ...   \ntrmJ                                                          \npetJ_2                                                  NaN   \npsbH                                                          \nAIHNMJLC_03054                                          NaN   \nAIHNMJLC_03211                                          NaN   \n\n                                                sp._CCMEE_29  \\\nsmc_1                                  cAGTGCAAATGTACTg(-61)   \nAIHNMJLC_01985                         cAGTTGAGTCAACTt(-277)   \nAIHNMJLC_01292  tAGTTTCAATCACTACTt(-30) tAGTTTCAATCACTa(-30)   \ndinG                                   cAGTAAAACTTCACTc(-36)   \npntB_2                               aAGTACCGCCGACACTc(-217)   \n...                                                      ...   \ntrmJ                                                           \npetJ_2                                                         \npsbH                                                           \nAIHNMJLC_03054                                                 \nAIHNMJLC_03211                                           NaN   \n\n                                           cubana_SAG_39.79  \\\nsmc_1                                 cAGTGCATCTGTACTg(-52)   \nAIHNMJLC_01985                       gAGTACAATTCGACTc(-150)   \nAIHNMJLC_01292  tAGTTCCTGCGTGCTa(-107) tAGTTTCGATCGCTa(-30)   \ndinG                               tAGTAAAATAAAAGACTc(-133)   \npntB_2                              aAGTCCCGCCGACACTg(-217)   \n...                                                     ...   \ntrmJ                                                          \npetJ_2                                                  NaN   \npsbH                                                          \nAIHNMJLC_03054                                          NaN   \nAIHNMJLC_03211                                          NaN   \n\n                                          thermalis_PCC_7203  \\\nsmc_1                                  cAGTGCATCTGTACTg(-52)   \nAIHNMJLC_01985  gAGTACAATTCGACTc(-215) tAGTCACCAGCCACTa(-27)   \nAIHNMJLC_01292   tAGTTCCTGCGTGCTa(-107) tAGTTTCGATCGCTa(-30)   \ndinG                                tAGTAAAATAAAAGACTc(-214)   \npntB_2                               aAGTCCCGCCGACACTg(-217)   \n...                                                      ...   \ntrmJ                                                     NaN   \npetJ_2                                                   NaN   \npsbH                                                           \nAIHNMJLC_03054                                           NaN   \nAIHNMJLC_03211                                           NaN   \n\n                                               sp._SAG_2025  \\\nsmc_1                                 cAGTGCATCTGTACTg(-52)   \nAIHNMJLC_01985                       gAGTACAATTCGACTc(-121)   \nAIHNMJLC_01292  tAGTTCCTGCGTGCTa(-107) tAGTTTCGATCGCTa(-30)   \ndinG                               tAGTAAAATAAAAGACTc(-133)   \npntB_2                              aAGTCCCGCCAACACTg(-217)   \n...                                                     ...   \ntrmJ                                                          \npetJ_2                                                  NaN   \npsbH                                                          \nAIHNMJLC_03054                                          NaN   \nAIHNMJLC_03211                                          NaN   \n\n                                              sp._CCALA_051  \\\nsmc_1                                 cAGTGCATCTGTACTg(-52)   \nAIHNMJLC_01985                       gAGTACAATTCGACTc(-150)   \nAIHNMJLC_01292  tAGTTCCTGCGTGCTa(-107) tAGTTTCGATCGCTa(-30)   \ndinG                               tAGTAAAATAAAAGACTc(-133)   \npntB_2                              aAGTCCCGCCGACACTg(-217)   \n...                                                     ...   \ntrmJ                                                    NaN   \npetJ_2                                                  NaN   \npsbH                                                          \nAIHNMJLC_03054                                          NaN   \nAIHNMJLC_03211                                          NaN   \n\n                                                 sp._CCNUC1  \nsmc_1                                 cAGTGCATCTGTACTg(-52)  \nAIHNMJLC_01985                       gAGTACAATTCGACTc(-150)  \nAIHNMJLC_01292  tAGTTCCTGCGTGCTa(-107) tAGTTTCGATCGCTa(-30)  \ndinG                               tAGTAAAATAAAAGACTc(-214)  \npntB_2                              aAGTCCCGCCGACACTg(-217)  \n...                                                     ...  \ntrmJ                                                    NaN  \npetJ_2                                                  NaN  \npsbH                                                         \nAIHNMJLC_03054                                          NaN  \nAIHNMJLC_03211                                          NaN  \n\n[4858 rows x 9 columns]",
      "text/html": "<div>\n<style scoped>\n    .dataframe tbody tr th:only-of-type {\n        vertical-align: middle;\n    }\n\n    .dataframe tbody tr th {\n        vertical-align: top;\n    }\n\n    .dataframe thead th {\n        text-align: right;\n    }\n</style>\n<table border=\"1\" class=\"dataframe\">\n  <thead>\n    <tr style=\"text-align: right;\">\n      <th></th>\n      <th>sp._TS-821</th>\n      <th>sp._[FACHB-1243]</th>\n      <th>cubana_CCALA_043</th>\n      <th>sp._CCMEE_29</th>\n      <th>cubana_SAG_39.79</th>\n      <th>thermalis_PCC_7203</th>\n      <th>sp._SAG_2025</th>\n      <th>sp._CCALA_051</th>\n      <th>sp._CCNUC1</th>\n    </tr>\n  </thead>\n  <tbody>\n    <tr>\n      <th>smc_1</th>\n      <td>cAGTGCAAATGTACTg(-57)</td>\n      <td>cAGTGCATCTGTACTg(-52)</td>\n      <td>gAGTCTGTCAACTa(-94)</td>\n      <td>cAGTGCAAATGTACTg(-61)</td>\n      <td>cAGTGCATCTGTACTg(-52)</td>\n      <td>cAGTGCATCTGTACTg(-52)</td>\n      <td>cAGTGCATCTGTACTg(-52)</td>\n      <td>cAGTGCATCTGTACTg(-52)</td>\n      <td>cAGTGCATCTGTACTg(-52)</td>\n    </tr>\n    <tr>\n      <th>AIHNMJLC_01985</th>\n      <td>tAGTGAACTCAGACTt(-207)</td>\n      <td>tAGTGGCTAGTGGCTa(-100)</td>\n      <td>gAGTACAATTCGACTc(-150)</td>\n      <td>cAGTTGAGTCAACTt(-277)</td>\n      <td>gAGTACAATTCGACTc(-150)</td>\n      <td>gAGTACAATTCGACTc(-215) tAGTCACCAGCCACTa(-27)</td>\n      <td>gAGTACAATTCGACTc(-121)</td>\n      <td>gAGTACAATTCGACTc(-150)</td>\n      <td>gAGTACAATTCGACTc(-150)</td>\n    </tr>\n    <tr>\n      <th>AIHNMJLC_01292</th>\n      <td>cAGTTTGCAGCATACTc(-121) tAGTTTAAGGTTTGCTa(-52)</td>\n      <td>tAGTTCTGCCTTTAACTg(-269) gAGTTTTCCAACTc(-103)</td>\n      <td>tAGTTCCTGCGTGCTa(-107) tAGTTTCGATCGCTa(-30)</td>\n      <td>tAGTTTCAATCACTACTt(-30) tAGTTTCAATCACTa(-30)</td>\n      <td>tAGTTCCTGCGTGCTa(-107) tAGTTTCGATCGCTa(-30)</td>\n      <td>tAGTTCCTGCGTGCTa(-107) tAGTTTCGATCGCTa(-30)</td>\n      <td>tAGTTCCTGCGTGCTa(-107) tAGTTTCGATCGCTa(-30)</td>\n      <td>tAGTTCCTGCGTGCTa(-107) tAGTTTCGATCGCTa(-30)</td>\n      <td>tAGTTCCTGCGTGCTa(-107) tAGTTTCGATCGCTa(-30)</td>\n    </tr>\n    <tr>\n      <th>dinG</th>\n      <td>tAGTACGAGTAAAACTa(-18)</td>\n      <td>cAGTTATAAGCTAACTg(-135)</td>\n      <td>tAGTAAAATAAAAGACTc(-133)</td>\n      <td>cAGTAAAACTTCACTc(-36)</td>\n      <td>tAGTAAAATAAAAGACTc(-133)</td>\n      <td>tAGTAAAATAAAAGACTc(-214)</td>\n      <td>tAGTAAAATAAAAGACTc(-133)</td>\n      <td>tAGTAAAATAAAAGACTc(-133)</td>\n      <td>tAGTAAAATAAAAGACTc(-214)</td>\n    </tr>\n    <tr>\n      <th>pntB_2</th>\n      <td>tAGTTGCAGGTGCTa(-139)</td>\n      <td>tAGTTGAGTTACTa(-253)</td>\n      <td>aAGTCCCGCCGACACTg(-217)</td>\n      <td>aAGTACCGCCGACACTc(-217)</td>\n      <td>aAGTCCCGCCGACACTg(-217)</td>\n      <td>aAGTCCCGCCGACACTg(-217)</td>\n      <td>aAGTCCCGCCAACACTg(-217)</td>\n      <td>aAGTCCCGCCGACACTg(-217)</td>\n      <td>aAGTCCCGCCGACACTg(-217)</td>\n    </tr>\n    <tr>\n      <th>...</th>\n      <td>...</td>\n      <td>...</td>\n      <td>...</td>\n      <td>...</td>\n      <td>...</td>\n      <td>...</td>\n      <td>...</td>\n      <td>...</td>\n      <td>...</td>\n    </tr>\n    <tr>\n      <th>trmJ</th>\n      <td></td>\n      <td></td>\n      <td></td>\n      <td></td>\n      <td></td>\n      <td>NaN</td>\n      <td></td>\n      <td>NaN</td>\n      <td>NaN</td>\n    </tr>\n    <tr>\n      <th>petJ_2</th>\n      <td>NaN</td>\n      <td></td>\n      <td>NaN</td>\n      <td></td>\n      <td>NaN</td>\n      <td>NaN</td>\n      <td>NaN</td>\n      <td>NaN</td>\n      <td>NaN</td>\n    </tr>\n    <tr>\n      <th>psbH</th>\n      <td></td>\n      <td>NaN</td>\n      <td></td>\n      <td></td>\n      <td></td>\n      <td></td>\n      <td></td>\n      <td></td>\n      <td></td>\n    </tr>\n    <tr>\n      <th>AIHNMJLC_03054</th>\n      <td>NaN</td>\n      <td>NaN</td>\n      <td>NaN</td>\n      <td></td>\n      <td>NaN</td>\n      <td>NaN</td>\n      <td>NaN</td>\n      <td>NaN</td>\n      <td>NaN</td>\n    </tr>\n    <tr>\n      <th>AIHNMJLC_03211</th>\n      <td>NaN</td>\n      <td></td>\n      <td>NaN</td>\n      <td>NaN</td>\n      <td>NaN</td>\n      <td>NaN</td>\n      <td>NaN</td>\n      <td>NaN</td>\n      <td>NaN</td>\n    </tr>\n  </tbody>\n</table>\n<p>4858 rows × 9 columns</p>\n</div>"
     },
     "execution_count": 11,
     "metadata": {},
     "output_type": "execute_result"
    }
   ],
   "source": [
    "#rename columns\n",
    "df.rename(columns=associazioni, inplace=True)\n",
    "df"
   ],
   "metadata": {
    "collapsed": false,
    "ExecuteTime": {
     "end_time": "2024-03-12T20:46:22.077222608Z",
     "start_time": "2024-03-12T20:46:22.074727649Z"
    }
   },
   "id": "ec938f3f09e2ad0c"
  },
  {
   "cell_type": "code",
   "execution_count": 12,
   "outputs": [],
   "source": [
    "#save to file\n",
    "df.to_csv(\"/home/davide/Desktop/genomiChro/intergeniche_tutte/motivounicobest/matrice_motivi.csv\")\n",
    "#excel\n",
    "df.to_excel(\"/home/davide/Desktop/genomiChro/intergeniche_tutte/motivounicobest/matrice_motivi.xlsx\")"
   ],
   "metadata": {
    "collapsed": false,
    "ExecuteTime": {
     "end_time": "2024-03-12T20:46:45.230811573Z",
     "start_time": "2024-03-12T20:46:44.859485441Z"
    }
   },
   "id": "73ed8d8b505780b1"
  },
  {
   "cell_type": "code",
   "execution_count": 13,
   "outputs": [
    {
     "data": {
      "text/plain": "                      sp._TS-821  \\\nsmc_1      cAGTGCAAATGTACTg(-57)   \ndinG      tAGTACGAGTAAAACTa(-18)   \npntB_2     tAGTTGCAGGTGCTa(-139)   \ngloA    tAGTGGGTAATAGCTCTa(-257)   \ncbbL          aAGTGAGTGACTt(-27)   \n...                          ...   \ncrtI_2                       NaN   \nyxaF_2                       NaN   \ntrmJ                               \npetJ_2                       NaN   \npsbH                               \n\n                                         sp._[FACHB-1243]  \\\nsmc_1                               cAGTGCATCTGTACTg(-52)   \ndinG                              cAGTTATAAGCTAACTg(-135)   \npntB_2                               tAGTTGAGTTACTa(-253)   \ngloA    cAGTGAGGAGTGACTa(-104) gAGTCCAGCCACTa(-76) tAG...   \ncbbL                                 gAGTGGAAGAGACTg(-32)   \n...                                                   ...   \ncrtI_2                                                      \nyxaF_2                                                NaN   \ntrmJ                                                        \npetJ_2                                                      \npsbH                                                  NaN   \n\n                cubana_CCALA_043             sp._CCMEE_29  \\\nsmc_1        gAGTCTGTCAACTa(-94)    cAGTGCAAATGTACTg(-61)   \ndinG    tAGTAAAATAAAAGACTc(-133)    cAGTAAAACTTCACTc(-36)   \npntB_2   aAGTCCCGCCGACACTg(-217)  aAGTACCGCCGACACTc(-217)   \ngloA      tAGTCACTCCTCACTg(-291)  gAGTATTAAATTAACTa(-206)   \ncbbL        gAGTGGAAGAGACTg(-32)       aAGTAATTTACTt(-27)   \n...                          ...                      ...   \ncrtI_2                       NaN                            \nyxaF_2                       NaN                            \ntrmJ                                                        \npetJ_2                       NaN                            \npsbH                                                        \n\n                cubana_SAG_39.79        thermalis_PCC_7203  \\\nsmc_1      cAGTGCATCTGTACTg(-52)     cAGTGCATCTGTACTg(-52)   \ndinG    tAGTAAAATAAAAGACTc(-133)  tAGTAAAATAAAAGACTc(-214)   \npntB_2   aAGTCCCGCCGACACTg(-217)   aAGTCCCGCCGACACTg(-217)   \ngloA      tAGTCACTCCTCACTg(-291)    tAGTCACTCCTCACTg(-277)   \ncbbL        gAGTGGAAGAGACTg(-32)      gAGTGGAAGAGACTg(-32)   \n...                          ...                       ...   \ncrtI_2                       NaN                       NaN   \nyxaF_2                       NaN                       NaN   \ntrmJ                                                   NaN   \npetJ_2                       NaN                       NaN   \npsbH                                                         \n\n                    sp._SAG_2025             sp._CCALA_051  \\\nsmc_1      cAGTGCATCTGTACTg(-52)     cAGTGCATCTGTACTg(-52)   \ndinG    tAGTAAAATAAAAGACTc(-133)  tAGTAAAATAAAAGACTc(-133)   \npntB_2   aAGTCCCGCCAACACTg(-217)   aAGTCCCGCCGACACTg(-217)   \ngloA        gAGTCCCACCACTc(-239)    tAGTCGCTCCTCACTg(-284)   \ncbbL        gAGTGGAAGAGACTg(-32)      gAGTGGAAGAGACTg(-32)   \n...                          ...                       ...   \ncrtI_2                       NaN                       NaN   \nyxaF_2                       NaN                       NaN   \ntrmJ                                                   NaN   \npetJ_2                       NaN                       NaN   \npsbH                                                         \n\n                      sp._CCNUC1  \nsmc_1      cAGTGCATCTGTACTg(-52)  \ndinG    tAGTAAAATAAAAGACTc(-214)  \npntB_2   aAGTCCCGCCGACACTg(-217)  \ngloA      tAGTCACTCCTCACTg(-284)  \ncbbL        gAGTGGAAGAGACTg(-32)  \n...                          ...  \ncrtI_2                       NaN  \nyxaF_2                       NaN  \ntrmJ                         NaN  \npetJ_2                       NaN  \npsbH                              \n\n[1679 rows x 9 columns]",
      "text/html": "<div>\n<style scoped>\n    .dataframe tbody tr th:only-of-type {\n        vertical-align: middle;\n    }\n\n    .dataframe tbody tr th {\n        vertical-align: top;\n    }\n\n    .dataframe thead th {\n        text-align: right;\n    }\n</style>\n<table border=\"1\" class=\"dataframe\">\n  <thead>\n    <tr style=\"text-align: right;\">\n      <th></th>\n      <th>sp._TS-821</th>\n      <th>sp._[FACHB-1243]</th>\n      <th>cubana_CCALA_043</th>\n      <th>sp._CCMEE_29</th>\n      <th>cubana_SAG_39.79</th>\n      <th>thermalis_PCC_7203</th>\n      <th>sp._SAG_2025</th>\n      <th>sp._CCALA_051</th>\n      <th>sp._CCNUC1</th>\n    </tr>\n  </thead>\n  <tbody>\n    <tr>\n      <th>smc_1</th>\n      <td>cAGTGCAAATGTACTg(-57)</td>\n      <td>cAGTGCATCTGTACTg(-52)</td>\n      <td>gAGTCTGTCAACTa(-94)</td>\n      <td>cAGTGCAAATGTACTg(-61)</td>\n      <td>cAGTGCATCTGTACTg(-52)</td>\n      <td>cAGTGCATCTGTACTg(-52)</td>\n      <td>cAGTGCATCTGTACTg(-52)</td>\n      <td>cAGTGCATCTGTACTg(-52)</td>\n      <td>cAGTGCATCTGTACTg(-52)</td>\n    </tr>\n    <tr>\n      <th>dinG</th>\n      <td>tAGTACGAGTAAAACTa(-18)</td>\n      <td>cAGTTATAAGCTAACTg(-135)</td>\n      <td>tAGTAAAATAAAAGACTc(-133)</td>\n      <td>cAGTAAAACTTCACTc(-36)</td>\n      <td>tAGTAAAATAAAAGACTc(-133)</td>\n      <td>tAGTAAAATAAAAGACTc(-214)</td>\n      <td>tAGTAAAATAAAAGACTc(-133)</td>\n      <td>tAGTAAAATAAAAGACTc(-133)</td>\n      <td>tAGTAAAATAAAAGACTc(-214)</td>\n    </tr>\n    <tr>\n      <th>pntB_2</th>\n      <td>tAGTTGCAGGTGCTa(-139)</td>\n      <td>tAGTTGAGTTACTa(-253)</td>\n      <td>aAGTCCCGCCGACACTg(-217)</td>\n      <td>aAGTACCGCCGACACTc(-217)</td>\n      <td>aAGTCCCGCCGACACTg(-217)</td>\n      <td>aAGTCCCGCCGACACTg(-217)</td>\n      <td>aAGTCCCGCCAACACTg(-217)</td>\n      <td>aAGTCCCGCCGACACTg(-217)</td>\n      <td>aAGTCCCGCCGACACTg(-217)</td>\n    </tr>\n    <tr>\n      <th>gloA</th>\n      <td>tAGTGGGTAATAGCTCTa(-257)</td>\n      <td>cAGTGAGGAGTGACTa(-104) gAGTCCAGCCACTa(-76) tAG...</td>\n      <td>tAGTCACTCCTCACTg(-291)</td>\n      <td>gAGTATTAAATTAACTa(-206)</td>\n      <td>tAGTCACTCCTCACTg(-291)</td>\n      <td>tAGTCACTCCTCACTg(-277)</td>\n      <td>gAGTCCCACCACTc(-239)</td>\n      <td>tAGTCGCTCCTCACTg(-284)</td>\n      <td>tAGTCACTCCTCACTg(-284)</td>\n    </tr>\n    <tr>\n      <th>cbbL</th>\n      <td>aAGTGAGTGACTt(-27)</td>\n      <td>gAGTGGAAGAGACTg(-32)</td>\n      <td>gAGTGGAAGAGACTg(-32)</td>\n      <td>aAGTAATTTACTt(-27)</td>\n      <td>gAGTGGAAGAGACTg(-32)</td>\n      <td>gAGTGGAAGAGACTg(-32)</td>\n      <td>gAGTGGAAGAGACTg(-32)</td>\n      <td>gAGTGGAAGAGACTg(-32)</td>\n      <td>gAGTGGAAGAGACTg(-32)</td>\n    </tr>\n    <tr>\n      <th>...</th>\n      <td>...</td>\n      <td>...</td>\n      <td>...</td>\n      <td>...</td>\n      <td>...</td>\n      <td>...</td>\n      <td>...</td>\n      <td>...</td>\n      <td>...</td>\n    </tr>\n    <tr>\n      <th>crtI_2</th>\n      <td>NaN</td>\n      <td></td>\n      <td>NaN</td>\n      <td></td>\n      <td>NaN</td>\n      <td>NaN</td>\n      <td>NaN</td>\n      <td>NaN</td>\n      <td>NaN</td>\n    </tr>\n    <tr>\n      <th>yxaF_2</th>\n      <td>NaN</td>\n      <td>NaN</td>\n      <td>NaN</td>\n      <td></td>\n      <td>NaN</td>\n      <td>NaN</td>\n      <td>NaN</td>\n      <td>NaN</td>\n      <td>NaN</td>\n    </tr>\n    <tr>\n      <th>trmJ</th>\n      <td></td>\n      <td></td>\n      <td></td>\n      <td></td>\n      <td></td>\n      <td>NaN</td>\n      <td></td>\n      <td>NaN</td>\n      <td>NaN</td>\n    </tr>\n    <tr>\n      <th>petJ_2</th>\n      <td>NaN</td>\n      <td></td>\n      <td>NaN</td>\n      <td></td>\n      <td>NaN</td>\n      <td>NaN</td>\n      <td>NaN</td>\n      <td>NaN</td>\n      <td>NaN</td>\n    </tr>\n    <tr>\n      <th>psbH</th>\n      <td></td>\n      <td>NaN</td>\n      <td></td>\n      <td></td>\n      <td></td>\n      <td></td>\n      <td></td>\n      <td></td>\n      <td></td>\n    </tr>\n  </tbody>\n</table>\n<p>1679 rows × 9 columns</p>\n</div>"
     },
     "execution_count": 13,
     "metadata": {},
     "output_type": "execute_result"
    }
   ],
   "source": [
    "#remove rows with index that start with capital letter\n",
    "df = df[~df.index.str.contains(r'^[A-Z]')]\n",
    "df"
   ],
   "metadata": {
    "collapsed": false,
    "ExecuteTime": {
     "end_time": "2024-03-12T20:47:30.002731818Z",
     "start_time": "2024-03-12T20:47:29.994933118Z"
    }
   },
   "id": "f45c6f98c4ee179b"
  },
  {
   "cell_type": "code",
   "execution_count": 14,
   "outputs": [],
   "source": [
    "df.to_csv(\"/home/davide/Desktop/genomiChro/intergeniche_tutte/motivounicobest/matrice_motivi_sologeni.csv\")\n",
    "df.to_excel(\"/home/davide/Desktop/genomiChro/intergeniche_tutte/motivounicobest/matrice_motivi_sologeni.xlsx\")"
   ],
   "metadata": {
    "collapsed": false,
    "ExecuteTime": {
     "end_time": "2024-03-12T20:48:04.445837485Z",
     "start_time": "2024-03-12T20:48:04.319875654Z"
    }
   },
   "id": "bf7a021d416b81c3"
  },
  {
   "cell_type": "code",
   "execution_count": null,
   "outputs": [],
   "source": [],
   "metadata": {
    "collapsed": false
   },
   "id": "d595e34e8c5371af"
  }
 ],
 "metadata": {
  "kernelspec": {
   "display_name": "Python 3",
   "language": "python",
   "name": "python3"
  },
  "language_info": {
   "codemirror_mode": {
    "name": "ipython",
    "version": 2
   },
   "file_extension": ".py",
   "mimetype": "text/x-python",
   "name": "python",
   "nbconvert_exporter": "python",
   "pygments_lexer": "ipython2",
   "version": "2.7.6"
  }
 },
 "nbformat": 4,
 "nbformat_minor": 5
}
