{
 "cells": [
  {
   "cell_type": "code",
   "execution_count": 1,
   "id": "initial_id",
   "metadata": {
    "collapsed": true,
    "ExecuteTime": {
     "end_time": "2024-08-28T08:39:44.057474Z",
     "start_time": "2024-08-28T08:39:43.455584Z"
    }
   },
   "outputs": [
    {
     "data": {
      "text/plain": "                  ID  \\\n0     WP_009632395.1   \n1     WP_041548398.1   \n2     WP_073591590.1   \n3     WP_190736661.1   \n4     WP_250121152.1   \n...              ...   \n5780  WP_275983394.1   \n5781  WP_275983395.1   \n5782  WP_275983396.1   \n5783  WP_275983397.1   \n5784  WP_275983398.1   \n\n     result_Chroococcidiopsis_sp._[FACHB-1243]_GCF_014696895.1.faa  \\\n0                                        WP_039717719.1              \n1                                        WP_006196724.1              \n2                                        WP_015153091.1              \n3                                        WP_199317029.1              \n4                                                   NaN              \n...                                                 ...              \n5780                                     WP_015154006.1              \n5781                                                NaN              \n5782                                     WP_192156346.1              \n5783                                                NaN              \n5784                                                NaN              \n\n     result_Chroococcidiopsis_sp._CCNUC1_GCF_023546805.1.faa  \\\n0                                        WP_039717719.1        \n1                                        WP_006196724.1        \n2                                        WP_015153091.1        \n3                                                   NaN        \n4                                                   NaN        \n...                                                 ...        \n5780                                     WP_015154006.1        \n5781                                                NaN        \n5782                                     WP_250017462.1        \n5783                                                NaN        \n5784                                                NaN        \n\n     result_Chroococcidiopsis_sp._CCMEE_29_GCF_023558375.1.faa  \\\n0                                        WP_009632395.1          \n1                                        WP_041548398.1          \n2                                        WP_073591590.1          \n3                                        WP_190736661.1          \n4                                        WP_250121152.1          \n...                                                 ...          \n5780                                     WP_275983394.1          \n5781                                     WP_275983395.1          \n5782                                     WP_275983396.1          \n5783                                     WP_275983397.1          \n5784                                     WP_275983398.1          \n\n     result_Chroococcidiopsis_thermalis_PCC_7203_GCF_000317125.1.faa  \\\n0                                        WP_039717719.1                \n1                                        WP_006196724.1                \n2                                        WP_015153091.1                \n3                                                   NaN                \n4                                                   NaN                \n...                                                 ...                \n5780                                     WP_015154006.1                \n5781                                                NaN                \n5782                                     WP_015163153.1                \n5783                                                NaN                \n5784                                                NaN                \n\n     result_Chroococcidiopsis_cubana_SAG_39.79_GCF_034438355.1.faa  \\\n0                                        WP_039717719.1              \n1                                        WP_006196724.1              \n2                                        WP_015153091.1              \n3                                        WP_106168925.1              \n4                                                   NaN              \n...                                                 ...              \n5780                                     WP_015154006.1              \n5781                                                NaN              \n5782                                     WP_199755664.1              \n5783                                                NaN              \n5784                                                NaN              \n\n     result_Chroococcidiopsis_sp._CCALA_051_GCF_003015105.1.faa  \\\n0                                        WP_039717719.1           \n1                                        WP_006196724.1           \n2                                        WP_015153091.1           \n3                                        WP_106218980.1           \n4                                                   NaN           \n...                                                 ...           \n5780                                     WP_015154006.1           \n5781                                                NaN           \n5782                                     WP_106545471.1           \n5783                                                NaN           \n5784                                                NaN           \n\n     result_Chroococcidiopsis_sp._TS-821_GCF_002939305.1.faa  \\\n0                                        WP_104545246.1        \n1                                        WP_006276978.1        \n2                                        WP_104546135.1        \n3                                                   NaN        \n4                                                   NaN        \n...                                                 ...        \n5780                                     WP_104546721.1        \n5781                                                NaN        \n5782                                     WP_104545432.1        \n5783                                                NaN        \n5784                                     WP_210404159.1        \n\n     result_Chroococcidiopsis_cubana_CCALA_043_GCF_003003835.1.faa  \\\n0                                        WP_039717719.1              \n1                                        WP_006196724.1              \n2                                        WP_015153091.1              \n3                                        WP_106168925.1              \n4                                                   NaN              \n...                                                 ...              \n5780                                     WP_015154006.1              \n5781                                                NaN              \n5782                                     WP_199755664.1              \n5783                                                NaN              \n5784                                                NaN              \n\n     result_Chroococcidiopsis_sp._SAG_2025_GCF_032860985.1.faa  \n0                                        WP_039717719.1         \n1                                        WP_006196724.1         \n2                                        WP_015153091.1         \n3                                        WP_317112279.1         \n4                                                   NaN         \n...                                                 ...         \n5780                                     WP_015154006.1         \n5781                                                NaN         \n5782                                     WP_039719372.1         \n5783                                                NaN         \n5784                                                NaN         \n\n[5785 rows x 10 columns]",
      "text/html": "<div>\n<style scoped>\n    .dataframe tbody tr th:only-of-type {\n        vertical-align: middle;\n    }\n\n    .dataframe tbody tr th {\n        vertical-align: top;\n    }\n\n    .dataframe thead th {\n        text-align: right;\n    }\n</style>\n<table border=\"1\" class=\"dataframe\">\n  <thead>\n    <tr style=\"text-align: right;\">\n      <th></th>\n      <th>ID</th>\n      <th>result_Chroococcidiopsis_sp._[FACHB-1243]_GCF_014696895.1.faa</th>\n      <th>result_Chroococcidiopsis_sp._CCNUC1_GCF_023546805.1.faa</th>\n      <th>result_Chroococcidiopsis_sp._CCMEE_29_GCF_023558375.1.faa</th>\n      <th>result_Chroococcidiopsis_thermalis_PCC_7203_GCF_000317125.1.faa</th>\n      <th>result_Chroococcidiopsis_cubana_SAG_39.79_GCF_034438355.1.faa</th>\n      <th>result_Chroococcidiopsis_sp._CCALA_051_GCF_003015105.1.faa</th>\n      <th>result_Chroococcidiopsis_sp._TS-821_GCF_002939305.1.faa</th>\n      <th>result_Chroococcidiopsis_cubana_CCALA_043_GCF_003003835.1.faa</th>\n      <th>result_Chroococcidiopsis_sp._SAG_2025_GCF_032860985.1.faa</th>\n    </tr>\n  </thead>\n  <tbody>\n    <tr>\n      <th>0</th>\n      <td>WP_009632395.1</td>\n      <td>WP_039717719.1</td>\n      <td>WP_039717719.1</td>\n      <td>WP_009632395.1</td>\n      <td>WP_039717719.1</td>\n      <td>WP_039717719.1</td>\n      <td>WP_039717719.1</td>\n      <td>WP_104545246.1</td>\n      <td>WP_039717719.1</td>\n      <td>WP_039717719.1</td>\n    </tr>\n    <tr>\n      <th>1</th>\n      <td>WP_041548398.1</td>\n      <td>WP_006196724.1</td>\n      <td>WP_006196724.1</td>\n      <td>WP_041548398.1</td>\n      <td>WP_006196724.1</td>\n      <td>WP_006196724.1</td>\n      <td>WP_006196724.1</td>\n      <td>WP_006276978.1</td>\n      <td>WP_006196724.1</td>\n      <td>WP_006196724.1</td>\n    </tr>\n    <tr>\n      <th>2</th>\n      <td>WP_073591590.1</td>\n      <td>WP_015153091.1</td>\n      <td>WP_015153091.1</td>\n      <td>WP_073591590.1</td>\n      <td>WP_015153091.1</td>\n      <td>WP_015153091.1</td>\n      <td>WP_015153091.1</td>\n      <td>WP_104546135.1</td>\n      <td>WP_015153091.1</td>\n      <td>WP_015153091.1</td>\n    </tr>\n    <tr>\n      <th>3</th>\n      <td>WP_190736661.1</td>\n      <td>WP_199317029.1</td>\n      <td>NaN</td>\n      <td>WP_190736661.1</td>\n      <td>NaN</td>\n      <td>WP_106168925.1</td>\n      <td>WP_106218980.1</td>\n      <td>NaN</td>\n      <td>WP_106168925.1</td>\n      <td>WP_317112279.1</td>\n    </tr>\n    <tr>\n      <th>4</th>\n      <td>WP_250121152.1</td>\n      <td>NaN</td>\n      <td>NaN</td>\n      <td>WP_250121152.1</td>\n      <td>NaN</td>\n      <td>NaN</td>\n      <td>NaN</td>\n      <td>NaN</td>\n      <td>NaN</td>\n      <td>NaN</td>\n    </tr>\n    <tr>\n      <th>...</th>\n      <td>...</td>\n      <td>...</td>\n      <td>...</td>\n      <td>...</td>\n      <td>...</td>\n      <td>...</td>\n      <td>...</td>\n      <td>...</td>\n      <td>...</td>\n      <td>...</td>\n    </tr>\n    <tr>\n      <th>5780</th>\n      <td>WP_275983394.1</td>\n      <td>WP_015154006.1</td>\n      <td>WP_015154006.1</td>\n      <td>WP_275983394.1</td>\n      <td>WP_015154006.1</td>\n      <td>WP_015154006.1</td>\n      <td>WP_015154006.1</td>\n      <td>WP_104546721.1</td>\n      <td>WP_015154006.1</td>\n      <td>WP_015154006.1</td>\n    </tr>\n    <tr>\n      <th>5781</th>\n      <td>WP_275983395.1</td>\n      <td>NaN</td>\n      <td>NaN</td>\n      <td>WP_275983395.1</td>\n      <td>NaN</td>\n      <td>NaN</td>\n      <td>NaN</td>\n      <td>NaN</td>\n      <td>NaN</td>\n      <td>NaN</td>\n    </tr>\n    <tr>\n      <th>5782</th>\n      <td>WP_275983396.1</td>\n      <td>WP_192156346.1</td>\n      <td>WP_250017462.1</td>\n      <td>WP_275983396.1</td>\n      <td>WP_015163153.1</td>\n      <td>WP_199755664.1</td>\n      <td>WP_106545471.1</td>\n      <td>WP_104545432.1</td>\n      <td>WP_199755664.1</td>\n      <td>WP_039719372.1</td>\n    </tr>\n    <tr>\n      <th>5783</th>\n      <td>WP_275983397.1</td>\n      <td>NaN</td>\n      <td>NaN</td>\n      <td>WP_275983397.1</td>\n      <td>NaN</td>\n      <td>NaN</td>\n      <td>NaN</td>\n      <td>NaN</td>\n      <td>NaN</td>\n      <td>NaN</td>\n    </tr>\n    <tr>\n      <th>5784</th>\n      <td>WP_275983398.1</td>\n      <td>NaN</td>\n      <td>NaN</td>\n      <td>WP_275983398.1</td>\n      <td>NaN</td>\n      <td>NaN</td>\n      <td>NaN</td>\n      <td>WP_210404159.1</td>\n      <td>NaN</td>\n      <td>NaN</td>\n    </tr>\n  </tbody>\n</table>\n<p>5785 rows × 10 columns</p>\n</div>"
     },
     "execution_count": 1,
     "metadata": {},
     "output_type": "execute_result"
    }
   ],
   "source": [
    "from pathlib import Path\n",
    "dir=Path(\"/home/davide/Desktop/genomiChro/proteine_RefSeq/ortologhiCCMEE29\")\n",
    "#iterate over all files in the directory and make a read_csv with \"\\t\" separator and make merge with the previous one on the first column\n",
    "import pandas as pd\n",
    "import numpy as np\n",
    "import os\n",
    "\n",
    "dfs=[]\n",
    "for file in dir.iterdir():\n",
    "    if file.is_file():\n",
    "        df=pd.read_csv(file, sep=\"\\t\", header=None)\n",
    "        #pick only the first two columns\n",
    "        df=df.iloc[:,0:2]\n",
    "        #rename columns\n",
    "        df.columns=[\"ID\", file.stem]\n",
    "        #find duplicated in ID column and keep only the first one\n",
    "        df=df[~df.duplicated(subset=\"ID\", keep=\"first\")]\n",
    "        dfs.append(df)\n",
    "#merge all the dataframes on ID\n",
    "df_final=dfs[0]\n",
    "for df in dfs[1:]:\n",
    "    df_final=pd.merge(df_final, df, on=\"ID\", how=\"outer\")\n",
    "#save the final dataframe\n",
    "df_final"
   ]
  },
  {
   "cell_type": "code",
   "outputs": [
    {
     "data": {
      "text/plain": "            CCMEE_29  \\\n0     WP_009632395.1   \n1     WP_041548398.1   \n2     WP_073591590.1   \n3     WP_190736661.1   \n4     WP_250121152.1   \n...              ...   \n5780  WP_275983394.1   \n5781  WP_275983395.1   \n5782  WP_275983396.1   \n5783  WP_275983397.1   \n5784  WP_275983398.1   \n\n     result_Chroococcidiopsis_sp._[FACHB-1243]_GCF_014696895.1.faa  \\\n0                                        WP_039717719.1              \n1                                        WP_006196724.1              \n2                                        WP_015153091.1              \n3                                        WP_199317029.1              \n4                                                   NaN              \n...                                                 ...              \n5780                                     WP_015154006.1              \n5781                                                NaN              \n5782                                     WP_192156346.1              \n5783                                                NaN              \n5784                                                NaN              \n\n     result_Chroococcidiopsis_sp._CCNUC1_GCF_023546805.1.faa  \\\n0                                        WP_039717719.1        \n1                                        WP_006196724.1        \n2                                        WP_015153091.1        \n3                                                   NaN        \n4                                                   NaN        \n...                                                 ...        \n5780                                     WP_015154006.1        \n5781                                                NaN        \n5782                                     WP_250017462.1        \n5783                                                NaN        \n5784                                                NaN        \n\n     result_Chroococcidiopsis_sp._CCMEE_29_GCF_023558375.1.faa  \\\n0                                        WP_009632395.1          \n1                                        WP_041548398.1          \n2                                        WP_073591590.1          \n3                                        WP_190736661.1          \n4                                        WP_250121152.1          \n...                                                 ...          \n5780                                     WP_275983394.1          \n5781                                     WP_275983395.1          \n5782                                     WP_275983396.1          \n5783                                     WP_275983397.1          \n5784                                     WP_275983398.1          \n\n     result_Chroococcidiopsis_thermalis_PCC_7203_GCF_000317125.1.faa  \\\n0                                        WP_039717719.1                \n1                                        WP_006196724.1                \n2                                        WP_015153091.1                \n3                                                   NaN                \n4                                                   NaN                \n...                                                 ...                \n5780                                     WP_015154006.1                \n5781                                                NaN                \n5782                                     WP_015163153.1                \n5783                                                NaN                \n5784                                                NaN                \n\n     result_Chroococcidiopsis_cubana_SAG_39.79_GCF_034438355.1.faa  \\\n0                                        WP_039717719.1              \n1                                        WP_006196724.1              \n2                                        WP_015153091.1              \n3                                        WP_106168925.1              \n4                                                   NaN              \n...                                                 ...              \n5780                                     WP_015154006.1              \n5781                                                NaN              \n5782                                     WP_199755664.1              \n5783                                                NaN              \n5784                                                NaN              \n\n     result_Chroococcidiopsis_sp._CCALA_051_GCF_003015105.1.faa  \\\n0                                        WP_039717719.1           \n1                                        WP_006196724.1           \n2                                        WP_015153091.1           \n3                                        WP_106218980.1           \n4                                                   NaN           \n...                                                 ...           \n5780                                     WP_015154006.1           \n5781                                                NaN           \n5782                                     WP_106545471.1           \n5783                                                NaN           \n5784                                                NaN           \n\n     result_Chroococcidiopsis_sp._TS-821_GCF_002939305.1.faa  \\\n0                                        WP_104545246.1        \n1                                        WP_006276978.1        \n2                                        WP_104546135.1        \n3                                                   NaN        \n4                                                   NaN        \n...                                                 ...        \n5780                                     WP_104546721.1        \n5781                                                NaN        \n5782                                     WP_104545432.1        \n5783                                                NaN        \n5784                                     WP_210404159.1        \n\n     result_Chroococcidiopsis_cubana_CCALA_043_GCF_003003835.1.faa  \\\n0                                        WP_039717719.1              \n1                                        WP_006196724.1              \n2                                        WP_015153091.1              \n3                                        WP_106168925.1              \n4                                                   NaN              \n...                                                 ...              \n5780                                     WP_015154006.1              \n5781                                                NaN              \n5782                                     WP_199755664.1              \n5783                                                NaN              \n5784                                                NaN              \n\n     result_Chroococcidiopsis_sp._SAG_2025_GCF_032860985.1.faa  \n0                                        WP_039717719.1         \n1                                        WP_006196724.1         \n2                                        WP_015153091.1         \n3                                        WP_317112279.1         \n4                                                   NaN         \n...                                                 ...         \n5780                                     WP_015154006.1         \n5781                                                NaN         \n5782                                     WP_039719372.1         \n5783                                                NaN         \n5784                                                NaN         \n\n[5785 rows x 10 columns]",
      "text/html": "<div>\n<style scoped>\n    .dataframe tbody tr th:only-of-type {\n        vertical-align: middle;\n    }\n\n    .dataframe tbody tr th {\n        vertical-align: top;\n    }\n\n    .dataframe thead th {\n        text-align: right;\n    }\n</style>\n<table border=\"1\" class=\"dataframe\">\n  <thead>\n    <tr style=\"text-align: right;\">\n      <th></th>\n      <th>CCMEE_29</th>\n      <th>result_Chroococcidiopsis_sp._[FACHB-1243]_GCF_014696895.1.faa</th>\n      <th>result_Chroococcidiopsis_sp._CCNUC1_GCF_023546805.1.faa</th>\n      <th>result_Chroococcidiopsis_sp._CCMEE_29_GCF_023558375.1.faa</th>\n      <th>result_Chroococcidiopsis_thermalis_PCC_7203_GCF_000317125.1.faa</th>\n      <th>result_Chroococcidiopsis_cubana_SAG_39.79_GCF_034438355.1.faa</th>\n      <th>result_Chroococcidiopsis_sp._CCALA_051_GCF_003015105.1.faa</th>\n      <th>result_Chroococcidiopsis_sp._TS-821_GCF_002939305.1.faa</th>\n      <th>result_Chroococcidiopsis_cubana_CCALA_043_GCF_003003835.1.faa</th>\n      <th>result_Chroococcidiopsis_sp._SAG_2025_GCF_032860985.1.faa</th>\n    </tr>\n  </thead>\n  <tbody>\n    <tr>\n      <th>0</th>\n      <td>WP_009632395.1</td>\n      <td>WP_039717719.1</td>\n      <td>WP_039717719.1</td>\n      <td>WP_009632395.1</td>\n      <td>WP_039717719.1</td>\n      <td>WP_039717719.1</td>\n      <td>WP_039717719.1</td>\n      <td>WP_104545246.1</td>\n      <td>WP_039717719.1</td>\n      <td>WP_039717719.1</td>\n    </tr>\n    <tr>\n      <th>1</th>\n      <td>WP_041548398.1</td>\n      <td>WP_006196724.1</td>\n      <td>WP_006196724.1</td>\n      <td>WP_041548398.1</td>\n      <td>WP_006196724.1</td>\n      <td>WP_006196724.1</td>\n      <td>WP_006196724.1</td>\n      <td>WP_006276978.1</td>\n      <td>WP_006196724.1</td>\n      <td>WP_006196724.1</td>\n    </tr>\n    <tr>\n      <th>2</th>\n      <td>WP_073591590.1</td>\n      <td>WP_015153091.1</td>\n      <td>WP_015153091.1</td>\n      <td>WP_073591590.1</td>\n      <td>WP_015153091.1</td>\n      <td>WP_015153091.1</td>\n      <td>WP_015153091.1</td>\n      <td>WP_104546135.1</td>\n      <td>WP_015153091.1</td>\n      <td>WP_015153091.1</td>\n    </tr>\n    <tr>\n      <th>3</th>\n      <td>WP_190736661.1</td>\n      <td>WP_199317029.1</td>\n      <td>NaN</td>\n      <td>WP_190736661.1</td>\n      <td>NaN</td>\n      <td>WP_106168925.1</td>\n      <td>WP_106218980.1</td>\n      <td>NaN</td>\n      <td>WP_106168925.1</td>\n      <td>WP_317112279.1</td>\n    </tr>\n    <tr>\n      <th>4</th>\n      <td>WP_250121152.1</td>\n      <td>NaN</td>\n      <td>NaN</td>\n      <td>WP_250121152.1</td>\n      <td>NaN</td>\n      <td>NaN</td>\n      <td>NaN</td>\n      <td>NaN</td>\n      <td>NaN</td>\n      <td>NaN</td>\n    </tr>\n    <tr>\n      <th>...</th>\n      <td>...</td>\n      <td>...</td>\n      <td>...</td>\n      <td>...</td>\n      <td>...</td>\n      <td>...</td>\n      <td>...</td>\n      <td>...</td>\n      <td>...</td>\n      <td>...</td>\n    </tr>\n    <tr>\n      <th>5780</th>\n      <td>WP_275983394.1</td>\n      <td>WP_015154006.1</td>\n      <td>WP_015154006.1</td>\n      <td>WP_275983394.1</td>\n      <td>WP_015154006.1</td>\n      <td>WP_015154006.1</td>\n      <td>WP_015154006.1</td>\n      <td>WP_104546721.1</td>\n      <td>WP_015154006.1</td>\n      <td>WP_015154006.1</td>\n    </tr>\n    <tr>\n      <th>5781</th>\n      <td>WP_275983395.1</td>\n      <td>NaN</td>\n      <td>NaN</td>\n      <td>WP_275983395.1</td>\n      <td>NaN</td>\n      <td>NaN</td>\n      <td>NaN</td>\n      <td>NaN</td>\n      <td>NaN</td>\n      <td>NaN</td>\n    </tr>\n    <tr>\n      <th>5782</th>\n      <td>WP_275983396.1</td>\n      <td>WP_192156346.1</td>\n      <td>WP_250017462.1</td>\n      <td>WP_275983396.1</td>\n      <td>WP_015163153.1</td>\n      <td>WP_199755664.1</td>\n      <td>WP_106545471.1</td>\n      <td>WP_104545432.1</td>\n      <td>WP_199755664.1</td>\n      <td>WP_039719372.1</td>\n    </tr>\n    <tr>\n      <th>5783</th>\n      <td>WP_275983397.1</td>\n      <td>NaN</td>\n      <td>NaN</td>\n      <td>WP_275983397.1</td>\n      <td>NaN</td>\n      <td>NaN</td>\n      <td>NaN</td>\n      <td>NaN</td>\n      <td>NaN</td>\n      <td>NaN</td>\n    </tr>\n    <tr>\n      <th>5784</th>\n      <td>WP_275983398.1</td>\n      <td>NaN</td>\n      <td>NaN</td>\n      <td>WP_275983398.1</td>\n      <td>NaN</td>\n      <td>NaN</td>\n      <td>NaN</td>\n      <td>WP_210404159.1</td>\n      <td>NaN</td>\n      <td>NaN</td>\n    </tr>\n  </tbody>\n</table>\n<p>5785 rows × 10 columns</p>\n</div>"
     },
     "execution_count": 2,
     "metadata": {},
     "output_type": "execute_result"
    }
   ],
   "source": [
    "#watch duplicated in ID column\n",
    "#rename df_final column first as CCMEE_29\n",
    "df_final.rename(columns={\"ID\":\"CCMEE_29\"}, inplace=True)\n",
    "df_final"
   ],
   "metadata": {
    "collapsed": false,
    "ExecuteTime": {
     "end_time": "2024-08-28T08:39:45.233598Z",
     "start_time": "2024-08-28T08:39:45.222109Z"
    }
   },
   "id": "6364eac79287b4d0",
   "execution_count": 2
  },
  {
   "cell_type": "code",
   "outputs": [],
   "source": [
    "pids=df_final\n",
    "\n",
    "\n"
   ],
   "metadata": {
    "collapsed": false,
    "ExecuteTime": {
     "end_time": "2024-08-28T08:39:46.837826Z",
     "start_time": "2024-08-28T08:39:46.835712Z"
    }
   },
   "id": "9648386df820a045",
   "execution_count": 3
  },
  {
   "cell_type": "code",
   "outputs": [],
   "source": [
    "pids.to_pickle(\"ortologhimmseqs.pkl\")"
   ],
   "metadata": {
    "collapsed": false,
    "ExecuteTime": {
     "end_time": "2024-08-28T08:41:12.637295Z",
     "start_time": "2024-08-28T08:41:12.629528Z"
    }
   },
   "id": "3977067f6fcbf78e",
   "execution_count": 4
  },
  {
   "cell_type": "code",
   "outputs": [],
   "source": [
    "#save the dataframe as pkl"
   ],
   "metadata": {
    "collapsed": false
   },
   "id": "a2d36132177fab9"
  },
  {
   "cell_type": "code",
   "outputs": [],
   "source": [
    "from Bio import SeqIO\n",
    "from Bio.SeqRecord import SeqRecord\n",
    "def sequenze_intergenichetutte(input, output, pids, max_len=300,c=0,min_len=0):\n",
    "    \"\"\"\n",
    "    Estrae le sequenze intergeniche da un file GenBank e le scrive in un file di output in formato fasta.\n",
    "    :param input: Il file GenBank di input\n",
    "    :param output: Il file fasta di output\n",
    "    :param pids: Il dataframe con i PID dei geni ortologhi, tante colonne quanti i genomi\n",
    "    :param c: La lunghezza della regione codificante da aggiungere alla sequenza intergenica\n",
    "    :param max_len: La lunghezza massima della sequenza intergenica\n",
    "    :param min_len: La lunghezza minima della sequenza intergenica\n",
    "    :return: None\n",
    "    \"\"\"\n",
    "    intergeniche_plus = []  # Lista per memorizzare le sequenze intergeniche in direzione +\n",
    "    intergeniche_minus = []  # Lista per memorizzare le sequenze intergeniche in direzione -\n",
    "    genoma = SeqIO.parse(input, \"genbank\")\n",
    "    # Loop attraverso le features nel file GenBank\n",
    "    name=input.stem\n",
    "    col=[col for col in pids.columns if name in col and col!=\"CCMEE_29\"][0]\n",
    "    #delete rows with NaN in col\n",
    "    df=pids.dropna(subset=col)\n",
    "    df=df[[\"CCMEE_29\",col]]\n",
    "    for sequenze in genoma:\n",
    "        # sequenze sta per sequenzefold perchè il file genbank potrebbe non contenere un solo cromosoma circolare\n",
    "        cds_list_plus = []  # Lista per memorizzare le informazioni sui geni in direzione +\n",
    "        cds_list_minus = []  # Lista per memorizzare le informazioni sui geni in direzione -\n",
    "        for feature in sequenze.features:\n",
    "            # Controlla se la feature è un CDS\n",
    "            if feature.type == \"CDS\":\n",
    "                mystart = feature.location.start  # Ottieni l'inizio del CDS\n",
    "                myend = feature.location.end  # Ottieni la fine del CDS\n",
    "                mystrand = '-' if feature.location.strand == -1 else '+'\n",
    "                mystart, myend = int(mystart), int(myend)\n",
    "                # Check the strand of the CDS and add the info to the appropriate list\n",
    "                if mystrand == '-':\n",
    "                    cds_list_minus.append((mystart, myend, feature.qualifiers[\"locus_tag\"][0],\n",
    "                                           feature.qualifiers[\"product\"][0],\n",
    "                                           feature.qualifiers.get(\"gene\", [' '])[0],feature.qualifiers.get(\"protein_id\", [' '])[0]))\n",
    "                else:\n",
    "                    cds_list_plus.append((mystart, myend, feature.qualifiers[\"locus_tag\"][0],\n",
    "                                          feature.qualifiers[\"product\"][0],\n",
    "                                          feature.qualifiers.get(\"gene\", [' '])[0],feature.qualifiers.get(\"protein_id\", [' '])[0]))\n",
    "\n",
    "        \n",
    "            # Loop attraverso i geni in direzione +\n",
    "        for i, n in enumerate(cds_list_plus):\n",
    "            if n[-1] not in df[col].values:\n",
    "                continue\n",
    "            pidCCMEE29 = df.loc[df[col] == n[-1], \"CCMEE_29\"].values[0]\n",
    "\n",
    "            last_end = 0 if i == 0 else cds_list_plus[i - 1][1] # Ottieni la fine del gene precedente\n",
    "            this_start = n[0]  # Ottieni l'inizio del gene corrente\n",
    "            intergene_seq = sequenze.seq[last_end:this_start+c]  # Ottieni la sequenza intergenica\n",
    "            if len(intergene_seq) <= min_len:  # Se la sequenza intergenica è più corta di min_len, non considerarla e aggiiungi il pid al gene precedente per OPERONE\n",
    "                if not intergeniche_plus:\n",
    "                    continue\n",
    "                # Assuming description and otherpid are defined\n",
    "                parts = intergeniche_plus[-1].description.split(\",\")  # Split the description into parts\n",
    "                first_part = parts[0]  # Get the first part (before the comma)\n",
    "                first_part += f\"|{pidCCMEE29}\"  # Add otherpid to the first part\n",
    "                parts[0] = first_part  # Replace the first part in the list\n",
    "                intergeniche_plus[-1].description= \",\".join(parts)  # Join the parts back together\n",
    "                intergeniche_plus[-1].description+=f\"|{n[-1]}\"\n",
    "                continue\n",
    "            \n",
    "            if len(intergene_seq) >= max_len:  # Se la sequenza intergenica è più lunga di max_len, prendi solo le ultime max_len basi(default 300)\n",
    "                intergene_seq = sequenze.seq[this_start - max_len:this_start+c]\n",
    "                last_end = this_start - max_len  # Aggiorna quello che sarà l'inizio della sequenza intergenica\n",
    "            # Aggiungi la sequenza intergenica alla lista come SeqRecord\n",
    "            description = f\"+ pidCCMEE29={pidCCMEE29}, pid={n[-1]}\"\n",
    "            if pidCCMEE29==\"WP_250121220.1\":\n",
    "                print(n,name,intergene_seq)\n",
    "            intergeniche_plus.append(\n",
    "                SeqRecord(\n",
    "                    intergene_seq,\n",
    "                    id=n[2],  # id del gene(locus_tag)\n",
    "                    description=description\n",
    "                )\n",
    "            )\n",
    "        # Loop attraverso i geni in direzione -\n",
    "        cds_list_minus=cds_list_minus[::-1]\n",
    "        for i, n in enumerate(cds_list_minus):\n",
    "            if n[-1] not in df[col].values:\n",
    "                continue\n",
    "            pidCCMEE29 = df.loc[df[col] == n[-1], \"CCMEE_29\"].values[0]\n",
    "            next_start = len(sequenze.seq) if i ==0 else cds_list_minus[i - 1][0]  # Ottieni l'inizio del prossimo gene(gene precedente per la direzione -)\n",
    "            this_end = n[1]  # Ottieni la fine del gene corrente(inizio del gene per la direzione -)\n",
    "            intergene_seq = sequenze.seq[this_end-c:next_start]  # Ottieni la sequenza intergenica\n",
    "            if len(intergene_seq) <= min_len:\n",
    "                if not intergeniche_minus:\n",
    "                    continue\n",
    "                #this is an operon, append hte pid to the previous SeqRecord description\n",
    "                parts = intergeniche_minus[-1].description.split(\",\")  # Split the description into parts\n",
    "                first_part = parts[0]  # Get the first part (before the comma)\n",
    "                first_part += f\"|{pidCCMEE29}\"  # Add otherpid to the first part\n",
    "                parts[0] = first_part  # Replace the first part in the list\n",
    "                intergeniche_minus[-1].description= \",\".join(parts)  # Join the parts back together\n",
    "                intergeniche_minus[-1].description+=f\"|{n[-1]}\"\n",
    "                #add also pidCCMEE29 to the description\n",
    "                \n",
    "                continue\n",
    "            if len(intergene_seq) >= max_len:\n",
    "                # Se la sequenza intergenica è più lunga di max_len, prendi solo le prime max_len basi(default 300)\n",
    "                intergene_seq = sequenze.seq[this_end-c:this_end + max_len] if this_end + max_len < len(\n",
    "                    sequenze.seq) else sequenze.seq[this_end-c:]\n",
    "            intergene_seq = intergene_seq.reverse_complement()  # Complemento inverso della sequenza intergenica\n",
    "            description = f\"- pidCCMEE29={pidCCMEE29}, pid={n[-1]}\"\n",
    "            # Aggiungi la sequenza intergenica alla lista come SeqRecord\n",
    "\n",
    "            intergeniche_minus.append(\n",
    "                SeqRecord(\n",
    "                    intergene_seq,\n",
    "                    id=n[2],  # id del gene(locus_tag)\n",
    "                    description=description\n",
    "                )\n",
    "            )\n",
    "    # Unisci le sequenze intergeniche in direzione + e - in una lista\n",
    "    intergeniche = intergeniche_plus + intergeniche_minus\n",
    "    # Scrivi le sequenze intergeniche nel file di output\n",
    "    SeqIO.write(intergeniche, output, \"fasta\")"
   ],
   "metadata": {
    "collapsed": false,
    "ExecuteTime": {
     "end_time": "2024-06-07T12:16:07.860323Z",
     "start_time": "2024-06-07T12:16:07.846085Z"
    }
   },
   "id": "9412393f9a852085",
   "execution_count": 161
  },
  {
   "cell_type": "code",
   "outputs": [
    {
     "name": "stdout",
     "output_type": "stream",
     "text": [
      "(4464596, 4465208, 'CHRO_RS19320', 'transcriptional repressor LexA', 'lexA', 'WP_015155906.1') PCC_7203 TGAGTGGTGCGTGACAAATCACCAATTACCAATCACCAATTACCAATTACTAACTACCAACTACCAACTACCAACTACCAAACAAAAACTTTTTTTTGCCATTAGGGGCAATTTTGTAGTACGACTGTTCTAAGAGGTCTATATCGCGATTGAAACACACTAAACT\n",
      "(1409, 2021, 'C7B79_RS28055', 'transcriptional repressor LexA', 'lexA', 'WP_015155906.1') CCALA_043 TGAGTGGTGCGTGACAAATCACCAATTACCAATCACCAATTACCAATCACCAATTACCAACTACCAACTACCAACTACCAAACAAAAACTTTTTTTTGCCATTAGGGGCAATTTTGTAGTACGACTGTTCTAAGAGGTCTATATCGCGATTGAAACACACTAAACT\n",
      "(2936606, 2937215, 'LAU37_RS14470', 'transcriptional repressor LexA', 'lexA', 'WP_250121220.1') CCMEE_29 GTCAATTTTGGATTTTAGATTTTAGATTTTGGATTGATCTGTACTATCTTCATAATTTTTTGCCAGTGGGGGCATTTTTGTAGTACGAATGTTCTATAGACCTTTGTGTGTCACCTGACGACAAATTT\n",
      "(4492931, 4493543, 'M5J74_RS20665', 'transcriptional repressor LexA', 'lexA', 'WP_015155906.1') CCNUC1 TGAGTGGTGCGTGACAAATCACCAATTACCAACTACCAATTACTAACTACCAACTACCAACTACCAAACAAAAACTTTTTTTTGCCATTAGGGGCAATTTTGTAGTACGACTGTTCTAAGAGGTCTATATCGCGATTGAAACACACTAAACT\n"
     ]
    }
   ],
   "source": [
    "gbk=Path(\"/home/davide/Desktop/genomiChro/annotati_Refseq\")\n",
    "pids=df_final\n",
    "for file in gbk.iterdir():\n",
    "    if file.is_file() and file.suffix==\".gbff\" :\n",
    "        sequenze_intergenichetutte(file, file.with_suffix(\".fasta\"), pids, c=0, min_len=20)\n"
   ],
   "metadata": {
    "collapsed": false,
    "ExecuteTime": {
     "end_time": "2024-06-07T12:16:30.140640Z",
     "start_time": "2024-06-07T12:16:11.569444Z"
    }
   },
   "id": "98cdd998c5899f10",
   "execution_count": 162
  },
  {
   "cell_type": "code",
   "outputs": [
    {
     "name": "stderr",
     "output_type": "stream",
     "text": [
      "IOPub data rate exceeded.\n",
      "The Jupyter server will temporarily stop sending output\n",
      "to the client in order to avoid crashing it.\n",
      "To change this limit, set the config variable\n",
      "`--ServerApp.iopub_data_rate_limit`.\n",
      "\n",
      "Current values:\n",
      "ServerApp.iopub_data_rate_limit=1000000.0 (bytes/sec)\n",
      "ServerApp.rate_limit_window=3.0 (secs)\n",
      "\n"
     ]
    }
   ],
   "source": [
    "intergeniche=Path(\"/home/davide/Desktop/genomiChro/annotati_Refseq/intergenicheoperoni\")\n",
    "diz={}\n",
    "for file in intergeniche.iterdir():\n",
    "    if file.is_file() and file.suffix==\".fasta\" and \"CCMEE_29\" not in file.stem:\n",
    "        \n",
    "        for record in SeqIO.parse(file, \"fasta\"):\n",
    "            pids=record.description[record.description.find(\"pidCCMEE29=\"):record.description.find(\",\")]\n",
    "            pids=pids.replace(\"pidCCMEE29=\",\"\")\n",
    "            pids=pids.split(\"|\")\n",
    "            name=file.stem\n",
    "            for pid in pids:\n",
    "                if pid not in diz:\n",
    "                    diz[pid] = {name: [str(record.seq)]}\n",
    "                else:\n",
    "                    if name not in diz[pid]:\n",
    "                        diz[pid][name] = []\n",
    "                    diz[pid][name].append(str(record.seq))\n",
    "print(diz)"
   ],
   "metadata": {
    "collapsed": false,
    "ExecuteTime": {
     "end_time": "2024-06-07T12:08:57.184759Z",
     "start_time": "2024-06-07T12:08:56.910081Z"
    }
   },
   "id": "404bc80ecb4ea39",
   "execution_count": 145
  },
  {
   "cell_type": "code",
   "outputs": [
    {
     "data": {
      "text/plain": "               result_Chroococcidiopsis_sp._[FACHB-1243]_GCF_014696895.1.faa  \\\nCCMEE_29                                                                       \nWP_009632395.1                                     WP_039717719.1              \nWP_041548398.1                                     WP_006196724.1              \nWP_073591590.1                                     WP_015153091.1              \nWP_190736661.1                                     WP_199317029.1              \nWP_250121152.1                                                NaN              \n...                                                           ...              \nWP_275983394.1                                     WP_015154006.1              \nWP_275983395.1                                                NaN              \nWP_275983396.1                                     WP_192156346.1              \nWP_275983397.1                                                NaN              \nWP_275983398.1                                                NaN              \n\n               result_Chroococcidiopsis_sp._CCNUC1_GCF_023546805.1.faa  \\\nCCMEE_29                                                                 \nWP_009632395.1                                     WP_039717719.1        \nWP_041548398.1                                     WP_006196724.1        \nWP_073591590.1                                     WP_015153091.1        \nWP_190736661.1                                                NaN        \nWP_250121152.1                                                NaN        \n...                                                           ...        \nWP_275983394.1                                     WP_015154006.1        \nWP_275983395.1                                                NaN        \nWP_275983396.1                                     WP_250017462.1        \nWP_275983397.1                                                NaN        \nWP_275983398.1                                                NaN        \n\n               result_Chroococcidiopsis_sp._CCMEE_29_GCF_023558375.1.faa  \\\nCCMEE_29                                                                   \nWP_009632395.1                                     WP_009632395.1          \nWP_041548398.1                                     WP_041548398.1          \nWP_073591590.1                                     WP_073591590.1          \nWP_190736661.1                                     WP_190736661.1          \nWP_250121152.1                                     WP_250121152.1          \n...                                                           ...          \nWP_275983394.1                                     WP_275983394.1          \nWP_275983395.1                                     WP_275983395.1          \nWP_275983396.1                                     WP_275983396.1          \nWP_275983397.1                                     WP_275983397.1          \nWP_275983398.1                                     WP_275983398.1          \n\n               result_Chroococcidiopsis_thermalis_PCC_7203_GCF_000317125.1.faa  \\\nCCMEE_29                                                                         \nWP_009632395.1                                     WP_039717719.1                \nWP_041548398.1                                     WP_006196724.1                \nWP_073591590.1                                     WP_015153091.1                \nWP_190736661.1                                                NaN                \nWP_250121152.1                                                NaN                \n...                                                           ...                \nWP_275983394.1                                     WP_015154006.1                \nWP_275983395.1                                                NaN                \nWP_275983396.1                                     WP_015163153.1                \nWP_275983397.1                                                NaN                \nWP_275983398.1                                                NaN                \n\n               result_Chroococcidiopsis_cubana_SAG_39.79_GCF_034438355.1.faa  \\\nCCMEE_29                                                                       \nWP_009632395.1                                     WP_039717719.1              \nWP_041548398.1                                     WP_006196724.1              \nWP_073591590.1                                     WP_015153091.1              \nWP_190736661.1                                     WP_106168925.1              \nWP_250121152.1                                                NaN              \n...                                                           ...              \nWP_275983394.1                                     WP_015154006.1              \nWP_275983395.1                                                NaN              \nWP_275983396.1                                     WP_199755664.1              \nWP_275983397.1                                                NaN              \nWP_275983398.1                                                NaN              \n\n               result_Chroococcidiopsis_sp._CCALA_051_GCF_003015105.1.faa  \\\nCCMEE_29                                                                    \nWP_009632395.1                                     WP_039717719.1           \nWP_041548398.1                                     WP_006196724.1           \nWP_073591590.1                                     WP_015153091.1           \nWP_190736661.1                                     WP_106218980.1           \nWP_250121152.1                                                NaN           \n...                                                           ...           \nWP_275983394.1                                     WP_015154006.1           \nWP_275983395.1                                                NaN           \nWP_275983396.1                                     WP_106545471.1           \nWP_275983397.1                                                NaN           \nWP_275983398.1                                                NaN           \n\n               result_Chroococcidiopsis_sp._TS-821_GCF_002939305.1.faa  \\\nCCMEE_29                                                                 \nWP_009632395.1                                     WP_104545246.1        \nWP_041548398.1                                     WP_006276978.1        \nWP_073591590.1                                     WP_104546135.1        \nWP_190736661.1                                                NaN        \nWP_250121152.1                                                NaN        \n...                                                           ...        \nWP_275983394.1                                     WP_104546721.1        \nWP_275983395.1                                                NaN        \nWP_275983396.1                                     WP_104545432.1        \nWP_275983397.1                                                NaN        \nWP_275983398.1                                     WP_210404159.1        \n\n               result_Chroococcidiopsis_cubana_CCALA_043_GCF_003003835.1.faa  \\\nCCMEE_29                                                                       \nWP_009632395.1                                     WP_039717719.1              \nWP_041548398.1                                     WP_006196724.1              \nWP_073591590.1                                     WP_015153091.1              \nWP_190736661.1                                     WP_106168925.1              \nWP_250121152.1                                                NaN              \n...                                                           ...              \nWP_275983394.1                                     WP_015154006.1              \nWP_275983395.1                                                NaN              \nWP_275983396.1                                     WP_199755664.1              \nWP_275983397.1                                                NaN              \nWP_275983398.1                                                NaN              \n\n               result_Chroococcidiopsis_sp._SAG_2025_GCF_032860985.1.faa  \nCCMEE_29                                                                  \nWP_009632395.1                                     WP_039717719.1         \nWP_041548398.1                                     WP_006196724.1         \nWP_073591590.1                                     WP_015153091.1         \nWP_190736661.1                                     WP_317112279.1         \nWP_250121152.1                                                NaN         \n...                                                           ...         \nWP_275983394.1                                     WP_015154006.1         \nWP_275983395.1                                                NaN         \nWP_275983396.1                                     WP_039719372.1         \nWP_275983397.1                                                NaN         \nWP_275983398.1                                                NaN         \n\n[5785 rows x 9 columns]",
      "text/html": "<div>\n<style scoped>\n    .dataframe tbody tr th:only-of-type {\n        vertical-align: middle;\n    }\n\n    .dataframe tbody tr th {\n        vertical-align: top;\n    }\n\n    .dataframe thead th {\n        text-align: right;\n    }\n</style>\n<table border=\"1\" class=\"dataframe\">\n  <thead>\n    <tr style=\"text-align: right;\">\n      <th></th>\n      <th>result_Chroococcidiopsis_sp._[FACHB-1243]_GCF_014696895.1.faa</th>\n      <th>result_Chroococcidiopsis_sp._CCNUC1_GCF_023546805.1.faa</th>\n      <th>result_Chroococcidiopsis_sp._CCMEE_29_GCF_023558375.1.faa</th>\n      <th>result_Chroococcidiopsis_thermalis_PCC_7203_GCF_000317125.1.faa</th>\n      <th>result_Chroococcidiopsis_cubana_SAG_39.79_GCF_034438355.1.faa</th>\n      <th>result_Chroococcidiopsis_sp._CCALA_051_GCF_003015105.1.faa</th>\n      <th>result_Chroococcidiopsis_sp._TS-821_GCF_002939305.1.faa</th>\n      <th>result_Chroococcidiopsis_cubana_CCALA_043_GCF_003003835.1.faa</th>\n      <th>result_Chroococcidiopsis_sp._SAG_2025_GCF_032860985.1.faa</th>\n    </tr>\n    <tr>\n      <th>CCMEE_29</th>\n      <th></th>\n      <th></th>\n      <th></th>\n      <th></th>\n      <th></th>\n      <th></th>\n      <th></th>\n      <th></th>\n      <th></th>\n    </tr>\n  </thead>\n  <tbody>\n    <tr>\n      <th>WP_009632395.1</th>\n      <td>WP_039717719.1</td>\n      <td>WP_039717719.1</td>\n      <td>WP_009632395.1</td>\n      <td>WP_039717719.1</td>\n      <td>WP_039717719.1</td>\n      <td>WP_039717719.1</td>\n      <td>WP_104545246.1</td>\n      <td>WP_039717719.1</td>\n      <td>WP_039717719.1</td>\n    </tr>\n    <tr>\n      <th>WP_041548398.1</th>\n      <td>WP_006196724.1</td>\n      <td>WP_006196724.1</td>\n      <td>WP_041548398.1</td>\n      <td>WP_006196724.1</td>\n      <td>WP_006196724.1</td>\n      <td>WP_006196724.1</td>\n      <td>WP_006276978.1</td>\n      <td>WP_006196724.1</td>\n      <td>WP_006196724.1</td>\n    </tr>\n    <tr>\n      <th>WP_073591590.1</th>\n      <td>WP_015153091.1</td>\n      <td>WP_015153091.1</td>\n      <td>WP_073591590.1</td>\n      <td>WP_015153091.1</td>\n      <td>WP_015153091.1</td>\n      <td>WP_015153091.1</td>\n      <td>WP_104546135.1</td>\n      <td>WP_015153091.1</td>\n      <td>WP_015153091.1</td>\n    </tr>\n    <tr>\n      <th>WP_190736661.1</th>\n      <td>WP_199317029.1</td>\n      <td>NaN</td>\n      <td>WP_190736661.1</td>\n      <td>NaN</td>\n      <td>WP_106168925.1</td>\n      <td>WP_106218980.1</td>\n      <td>NaN</td>\n      <td>WP_106168925.1</td>\n      <td>WP_317112279.1</td>\n    </tr>\n    <tr>\n      <th>WP_250121152.1</th>\n      <td>NaN</td>\n      <td>NaN</td>\n      <td>WP_250121152.1</td>\n      <td>NaN</td>\n      <td>NaN</td>\n      <td>NaN</td>\n      <td>NaN</td>\n      <td>NaN</td>\n      <td>NaN</td>\n    </tr>\n    <tr>\n      <th>...</th>\n      <td>...</td>\n      <td>...</td>\n      <td>...</td>\n      <td>...</td>\n      <td>...</td>\n      <td>...</td>\n      <td>...</td>\n      <td>...</td>\n      <td>...</td>\n    </tr>\n    <tr>\n      <th>WP_275983394.1</th>\n      <td>WP_015154006.1</td>\n      <td>WP_015154006.1</td>\n      <td>WP_275983394.1</td>\n      <td>WP_015154006.1</td>\n      <td>WP_015154006.1</td>\n      <td>WP_015154006.1</td>\n      <td>WP_104546721.1</td>\n      <td>WP_015154006.1</td>\n      <td>WP_015154006.1</td>\n    </tr>\n    <tr>\n      <th>WP_275983395.1</th>\n      <td>NaN</td>\n      <td>NaN</td>\n      <td>WP_275983395.1</td>\n      <td>NaN</td>\n      <td>NaN</td>\n      <td>NaN</td>\n      <td>NaN</td>\n      <td>NaN</td>\n      <td>NaN</td>\n    </tr>\n    <tr>\n      <th>WP_275983396.1</th>\n      <td>WP_192156346.1</td>\n      <td>WP_250017462.1</td>\n      <td>WP_275983396.1</td>\n      <td>WP_015163153.1</td>\n      <td>WP_199755664.1</td>\n      <td>WP_106545471.1</td>\n      <td>WP_104545432.1</td>\n      <td>WP_199755664.1</td>\n      <td>WP_039719372.1</td>\n    </tr>\n    <tr>\n      <th>WP_275983397.1</th>\n      <td>NaN</td>\n      <td>NaN</td>\n      <td>WP_275983397.1</td>\n      <td>NaN</td>\n      <td>NaN</td>\n      <td>NaN</td>\n      <td>NaN</td>\n      <td>NaN</td>\n      <td>NaN</td>\n    </tr>\n    <tr>\n      <th>WP_275983398.1</th>\n      <td>NaN</td>\n      <td>NaN</td>\n      <td>WP_275983398.1</td>\n      <td>NaN</td>\n      <td>NaN</td>\n      <td>NaN</td>\n      <td>WP_210404159.1</td>\n      <td>NaN</td>\n      <td>NaN</td>\n    </tr>\n  </tbody>\n</table>\n<p>5785 rows × 9 columns</p>\n</div>"
     },
     "execution_count": 155,
     "metadata": {},
     "output_type": "execute_result"
    }
   ],
   "source": [
    "pids"
   ],
   "metadata": {
    "collapsed": false,
    "ExecuteTime": {
     "end_time": "2024-06-07T12:13:10.709915Z",
     "start_time": "2024-06-07T12:13:10.701394Z"
    }
   },
   "id": "222fd46be1696365",
   "execution_count": 155
  },
  {
   "cell_type": "code",
   "outputs": [
    {
     "data": {
      "text/plain": "('WP_250126306.1',\n {'SAG_39.79': ['AACTCACATCTTGCACCAAGCTTCAAAAGATGGGAGAAAAGGGCGTGAAACCTATTGAATGCAAGAACG'],\n  'CCALA_043': ['ATTAGCTTTAACGGTAACGGAGGGGGAAGTCTTCAAGCGGTTGTAGTCACTCATCGTTGTTTCCTCAAAGAGTATGGATTCTTACCAACCACAACTGAGTTGTGTTTTTTCTTTTCTGTAGGCGATCGAGAAATCTGATGCTGAAGAGTCTGTAAAGCCACGAGAGCAAATCTACGGTTTACTGCTCAATTTATCGTATATTCTGAAATCAGGATCGCACAAAGTCCCTTGAGCTCACATCTTGCACCAAGCTTCAAAAGATGGGAGAAAAGGGCGTGAAACCTATTGAATGCAAGAACG'],\n  'SAG_2025': ['TTCGCACGACTCGTCAAATGGTGTTGCAGCAAGTGACCGCTCATCCCCCTCATCCAAGCACTCCTTTGCGAGTGTTGATCGATCTAACGACATTCGAAAAGTGCGGCAAGTTTTTGCAGTTGAGTACGCCGACGAATGACCCCAAGGCACCTGACCCCTGGGTGAGAATACTTAACGGTAAGCGGGGATTACATTTAGTAGTATTGTACCTGGTGGTGGGTGAGTGGCGAGTGCCTTGGAGCTTTCGGGTCTGGCGGGGCAAAGGCTATCAAGCGCCCAGTACAATTAGCCTGCAAGTTG',\n   'TTCGCACGACTCGTCAAATGGTGTTGCAGCAAGTGACCGCTCATCCCCCTCATCCAAGCACTCCTTTGCGAGTGTTGATCGATCTAACGACATTCGAAAAGTGCGGCAAGTTTTTGCAGTTGAGTACGCCGACGAATGACCCCAAGGCACCTGACCCCTGGGTGAGAATACTTAACGGTAAGCGGGGATTACATTTAGTAGTATTGTACCTGGTGGTGGGTGAGTGGCGAGTGCCTTGGAGCTTTCGGGTCTGGCGGGGCAAAGGCTATCAAGCGCCCAGTACAATTAGCCTGCAAGTTG',\n   'TTCGCACGACTCGTCAAATGGTGTTGCAGCAAGTGACCGCTCATCCCCCTCATCCAAGCACTCCTTTGCGAGTGTTGATCGATCTAACGACATTCGAAAAGTGCGGCAAGTTTTTGCAGTTGAGTACGCCGACGAATGACCCCAAGGCACCTGACCCCTGGGTGAGAATACTTAACGGTAAGCGGGGATTACATTTAGTAGTATTGTACCTGGTGGTGGGTGAGTGGCGAGTGCCTTGGAGCTTTCGGGTCTGGCGGGGCAAAGGCTATCAAGCGCCCAGTACAATTAGCCTGCAAGTTG',\n   'TTCGCACGACTCGTCAAATGGTGTTGCAGCAAGTGACCGCTCATCCCCCTCATCCAAGCACTCCTTTGCGAGTGTCGATCGATCTAACGACATTCGAAAAGTGCGGCAAGTTTTTGCAGTTGAGTACGCCGACGAATGACCCCAAGGCACCTGACCCCTGGGTGAGAATACTTAACGGTAAGCGGGGATTACATTTAGTAGTATTGTACCTGGTGGTGGGTGAGTGGCGAGTGCCTTGGAGCTTTCGGGTCTGGCGGGGCAAAGGCTATCAAGCGCCCAGTACAATTAGCCTGCAAGTTG',\n   'TTCGCACGACTCGTCAAATGGTGTTGCAGCAAGTGACCGCTCATCCCCCTCATCCAAGCACTCCTTTGCGAGTGTCGATCGATCTAACGACATTCGAAAAGTGCGGCAAGTTTTTGCAGTTGAGTACGCCGACGAATGACCCCAAGGCACCTGACCCCTGGGTGAGAATACTTAACGGTAAGCGGGGATTACATTTAGTAGTATTGTACCTGGTGGTGGGTGAGTGGCGAGTGCCTTGGAGCTTTCGGGTCTGGCGGGGCAAAGGCTATCAAGCGCCCAGTACAATTAGCCTGCAAGTTG',\n   'TTCGCACGACTCGTCAAATGGTGTTGCAGCAAGTGACCGCTCATCCCCCTCATCCAAGCACTCCTTTGCGAGTGTCGATCGATCTAACGACATTCGAAAAGTGCGGCAAGTTTTTGCAGTTGAGTACGCCGACGAATGACCCCAAGGCACCTGACCCCTGGGTGAGAATACTTAACGGTAAGCGGGGATTACATTTAGTAGTATTGTACCTGGTGGTGGGTGAGTGGCGAGTGCCTTGGAGCTTTCGGGTCTGGCGGGGCAAAGGCTATCAAGCGCCCAGTACAATTAGCCTGCAAGTTG',\n   'TTCGCACGACTCGTCAAATGGTGTTGCAGCAAGTGACCGCTCATCCCCCTCATCCAAGCACTCCTTTGCGAGTGTCGATCGATCTAACGACATTCGAAAAGTGCGGCAAGTTTTTGCAGTTGAGTACGCCGACGAATGACCCCAAGGCACCTGACCCCTGGGTGAGAATACTTAACGGTAAGCGGGGATTACATTTAGTAGTATTGTACCTGGTGGTGGGTGAGTGGCGAGTGCCTTGGAGCTTTCGGGTCTGGCGGGGCAAAGGCTATCAAGCGCCCAGTACAATTAGCCTGCAAGTTG',\n   'TTCGCACGACTCGTCAAATGGTGTTGCAGCAAGTGACCGCTCATCCCCCTCATCCAAGCACTCCTTTGCGAGTGTTGATCGATCTAACGACATTCGAAAAGTGCGGCAAGTTTTTGCAGTTGAGTACGCCGACGAATGACCCCAAGGCACCTGACCCCTGGGTGAGAATACTTAACGGTAAGCGGGGATTACATTTAGTAGTATTGTACCTGGTGGTGGGTGAGTGGCGAGTGCCTTGGAGCTTTCGGGTCTGGCGGGGCAAAGGCTATCAAGCGCCCAGTACAATTAGCCTGCAAGTTG',\n   'TTCGCACGACTCGTCAAATGGTGTTGCAGCAAGTGACCGCTCATCCCCCTCATCCAAGCACTCCTTTGCGAGTGTTGATCGATCTAACGACATTCGAAAAGTGCGGCAAGTTTTTGCAGTTGAGTACGCCGACGAATGACCCCAAGGCACCTGACCCCTGGGTGAGAATACTTAACGGTAAGCGGGGATTACATTTAGTAGTATTGTACCTGGTGGTGGGTGAGTGGCGAGTGCCTTGGAGCTTTCGGGTCTGGCGGGGCAAAGGCTATCAAGCGCCCAGTACAATTAGCCTGCAAGTTG',\n   'TTCGCACGACTCGTCAAATGGTGTTGCAGCAAGTGACCGCTCATCCCCCTCATCCAAGCACTCCTTTGCGAGTGTTGATCGATCTAACGACATTCGAAAAGTGCGGCAAGTTTTTGCAGTTGAGTACGCCGACGAATGACCCCAAGGCACCTGACCCCTGGGTGAGAATACTTAACGGTAAGCGGGGATTACATTTAGTAGTATTGTACCTGGTGGTGGGTGAGTGGCGAGTGCCTTGGAGCTTTCGGGTCTGGCGGGGCAAAGGCTATCAAGCGCCCAGTACAATTAGCCTGCAAGTTG',\n   'TCGATCTAACGACATTCGAAAAGTGCGGCAAAGTTTTTGCAGTTGAGTACGCCGACGAATGACCCCAAGGCACCTGACCCCTGGGTGAGAATACTTAACGGTAAGCGGGGATTACATTTAGTAGTATTGTACCTGGTGGTGGGTGAGTGGCGAGTGCCTTGGAGCTTTCGGGTCTGGCGGGGCAAAGGCTATCAAGCGCCCAGTACAATTAGCCTGCAAGTTG',\n   'TTCGCACGACTCGTCAAATGGTGTTGCAGCAAGTGACCGCTCATCCCCCTCATCCAAGCACTCCTTTGCGAGTGTTGATCGATCTAACGACATTCGAAAAGTGCGGCAAGTTTTTGCAGTTGAGTACGCCGACGAATGACCCCAAGGCACCTGACCCCTGGGTGAGAATACTTAACGGTAAGCGGGGATTACATTTAGTAGTATTGTACCTGGTGGTGGGTGAGTGGCGAGTGCCTTGGAGCTTTCGGGTCTGGCGGGGCAAAGGCTATCAAGCGCCCAGTACAATTAGCCTGCAAGTTG',\n   'TTCGCACGACTCGTCAAATGGTGTTGCAGCAAGTGACCGCTCATCCCCCTCATCCAAGCACTCCTTTGCGAGTGTTGATCGATCTAACGACATTCGAAAAGTGCGGCAAGTTTTTGCAGTTGAGTACGCCGACGAATGACCCCAAGGCACCTGACCCCTGGGTGAGAATACTTAACGGTAAGCGGGGATTACATTTAGTAGTATTGTACCTGGTGGTGGGTGAGTGGCGAGTGCCTTGGAGCTTTCGGGTCTGGCGGGGCAAAGGCTATCAAGCGCCCAGTACAATTAGCCTGCAAGTTG',\n   'TTCGCACGACTCGTCAAATGGTGTTGCAGCAAGTGACCGCTCATCCCCCTCATCCAAGCACTCCTTTGCGAGTGTTGATCGATCTAACGACATTCGAAAAGTGCGGCAAGTTTTTGCAGTTGAGTACGCCGACGAATGACCCCAAGGCACCTGACCCCTGGGTGAGAATACTTAACGGTAAGCGGGGATTACATTTAGTAGTATTGTACCTGGTGGTGGGTGAGTGGCGAGTGCCTTGGAGCTTTCGGGTCTGGCGGGGCAAAGGCTATCAAGCGCCCAGTACAATTAGCCTGCAAGTTG',\n   'TTCGCACGACTCGTCAAATGGTGTTGCAGCAAGTGACCGCTCATCCCCCTCATCCAAGCACTCCTTTGCGAGTGTCGATCGATCTAACGACATTCGAAAAGTGCGGCAAGTTTTTGCAGTTGAGTACGCCGACGAATGACCCCAAGGCACCTGACCCCTGGGTGAGAATACTTAACGGTAAGCGGGGATTACATTTAGTAGTATTGTACCTGGTGGTGGGTGAGTGGCGAGTGCCTTGGAGCTTTCGGGTCTGGCGGGGCAAAGGCTATCAAGCGCCCAGTACAATTAGCCTGCAAGTTG',\n   'TTCGCACGACTCGTCAAATGGTGTTGCAGCAAGTGACCGCTCATCCCCCTCATCCAAGCACTCCTTTGCGAGTGTCGATCGATCTAACGACATTCGAAAAGTGCGGCAAGTTTTTGCAGTTGAGTACGCCGACGAATGACCCCAAGGCACCTGACCCCTGGGTGAGAATACTTAACGGTAAGCGGGGATTACATTTAGTAGTATTGTACCTGGTGGTGGGTGAGTGGCGAGTGCCTTGGAGCTTTCGGGTCTGGCGGGGCAAAGGCTATCAAGCGCCCAGTACAATTAGCCTGCAAGTTG',\n   'TTCGCACGACTCGTCAAATGGTGTTGCAGCAAGTGACCGCTCATCCCCCTCATCCAAGCACTCCTTTGCGAGTGTCGATCGATCTAACGACATTCGAAAAGTGCGGCAAGTTTTTGCAGTTGAGTACGCCGACGAATGACCCCAAGGCACCTGACCCCTGGGTGAGAATACTTAACGGTAAGCGGGGATTACATTTAGTAGTATTGTACCTGGTGGTGGGTGAGTGGCGAGTGCCTTGGAGCTTTCGGGTCTGGCGGGGCAAAGGCTATCAAGCGCCCAGTACAATTAGCCTGCAAGTTG']})"
     },
     "execution_count": 147,
     "metadata": {},
     "output_type": "execute_result"
    }
   ],
   "source": [
    "#count how many sequences are there for each pid\n",
    "#sort the dictionary by the number of sequences\n",
    "sorted_diz=sorted(diz.items(), key=lambda x: sum(len(lst) for lst in x[1].values()), reverse=True)\n",
    "#print len of each pid\n",
    "sorted_diz[0]\n"
   ],
   "metadata": {
    "collapsed": false,
    "ExecuteTime": {
     "end_time": "2024-06-07T12:09:05.005470Z",
     "start_time": "2024-06-07T12:09:04.996767Z"
    }
   },
   "id": "6f0c95ce722a364d",
   "execution_count": 147
  },
  {
   "cell_type": "code",
   "outputs": [
    {
     "name": "stdout",
     "output_type": "stream",
     "text": [
      "4256\n"
     ]
    }
   ],
   "source": [
    "print(len(sorted_diz))"
   ],
   "metadata": {
    "collapsed": false,
    "ExecuteTime": {
     "end_time": "2024-06-07T12:09:09.060023Z",
     "start_time": "2024-06-07T12:09:09.057828Z"
    }
   },
   "id": "c10cc204c72fea78",
   "execution_count": 148
  },
  {
   "cell_type": "code",
   "outputs": [
    {
     "name": "stdout",
     "output_type": "stream",
     "text": [
      "4256\n"
     ]
    }
   ],
   "source": [
    "print(len(diz))"
   ],
   "metadata": {
    "collapsed": false,
    "ExecuteTime": {
     "end_time": "2024-06-07T12:09:09.854252Z",
     "start_time": "2024-06-07T12:09:09.852264Z"
    }
   },
   "id": "1c5e335cd83280ee",
   "execution_count": 149
  },
  {
   "cell_type": "code",
   "outputs": [],
   "source": [
    "#save the dictionary as pickle\n",
    "import pickle\n",
    "with open(\"dizop.pickle\", \"wb\") as f:\n",
    "    pickle.dump(diz, f)"
   ],
   "metadata": {
    "collapsed": false,
    "ExecuteTime": {
     "end_time": "2024-06-07T11:30:31.884426Z",
     "start_time": "2024-06-07T11:30:31.868158Z"
    }
   },
   "id": "a3baa6420e46808b",
   "execution_count": 124
  },
  {
   "cell_type": "code",
   "outputs": [
    {
     "data": {
      "text/plain": "['GCAGCGAGTAATATTAAACTCAGTTACCTATTACCGACTACCAAATCATCATCTCAACAAAAAATTACTTTATTTGTAGTTTTTTTTGCTATTCGGGGCAATAATGTAGTACGAATGTTCTTATAGACCTTTGTATTTTGGCTTCCGAATT',\n 'TGAGTGGTGCGTGACAAATCACCAATTACCAATCACCAATTACCAATCACCAATTACCAACTACCAACTACCAACTACCAAACAAAAACTTTTTTTTGCCATTAGGGGCAATTTTGTAGTACGACTGTTCTAAGAGGTCTATATCGCGATTGAAACACACTAAACT',\n 'AAACTTTTTTTTGCCATTAGGGGCAATTTTGTAGTACGACTGTTCTAAGAGGTCTATATCGCGATTGAAACACACTAAACT',\n 'TGAGTGGTGCGTGACAAATCACCAATTACCAATCACCAATTACCAATCACCAATTACCAACTACCAACTACCAACTACCAAACAAAAACTTTTTTTTGCCATTAGGGGCAATTTTGTAGTACGACTGTTCTAAGAGGTCTATATCGCGATTGAAACACACTAAACT',\n 'TGAGTCGGGAGTCGGGATAAGAGAGCTGGGGGAGCAATTACCAATTACCAATTACCAAATAAAAACTTTTTTTTGCCATTAGGGGCAATTTTGTAGTACGACTGTTCTAAGAGGTCTATATCGCGATTGAAACACACTAAACT',\n 'TGAGTGGTGCGTGACAAATCACCAATTACCAACTACCAATTACTAACTACCAACTACCAACTACCAAACAAAAACTTTTTTTTGCCATTAGGGGCAATTTTGTAGTACGACTGTTCTAAGAGGTCTATATCGCGATTGAAACACACTAAACT',\n 'TGAGTGGTGCGTGACAAATCACCAATTACCAATCACCAATTACCAATTACTAACTACCAACTACCAACTACCAACTACCAAACAAAAACTTTTTTTTGCCATTAGGGGCAATTTTGTAGTACGACTGTTCTAAGAGGTCTATATCGCGATTGAAACACACTAAACT',\n 'TGAAGTTGCGGGGGTTCCCCCCGTTAAAGCACGTCGCGTCAAAGTGTCCGTGGACAAGGAGGACAAGGAAGCAGGTGTGCAGGTGTGCAGGGGAGATAAAGAAGACTTGGGGGACTTGGGAGCAAGTACCAATTACCAATTACCTATTACCAATTACCAACAACTAAAAACTTTTTTTTGCCATTAGGGGCAATTTTGTAGTACGACTGTTCTAAGAGGTTTATATCGCGATTGAAACACACTAAACT']"
     },
     "execution_count": 150,
     "metadata": {},
     "output_type": "execute_result"
    }
   ],
   "source": [
    "lista=diz[\"WP_250121220.1\"].values()\n",
    "#flatten the list\n",
    "lista = [val for sublist in lista for val in sublist]\n",
    "lista\n"
   ],
   "metadata": {
    "collapsed": false,
    "ExecuteTime": {
     "end_time": "2024-06-07T12:09:14.221096Z",
     "start_time": "2024-06-07T12:09:14.218146Z"
    }
   },
   "id": "96d68c9da1eaac7d",
   "execution_count": 150
  },
  {
   "cell_type": "code",
   "outputs": [
    {
     "name": "stdout",
     "output_type": "stream",
     "text": [
      "GCAGCGAGTAATATTAAACTCAGTTACCTATTACCGACTACCAAATCATCATCTCAACAAAAAATTACTTTATTTGTAGTTTTTTTTGCTATTCGGGGCAATAATGTAGTACGAATGTTCTTATAGACCTTTGTATTTTGGCTTCCGAATT\n",
      "None\n",
      "TGAGTGGTGCGTGACAAATCACCAATTACCAATCACCAATTACCAATCACCAATTACCAACTACCAACTACCAACTACCAAACAAAAACTTTTTTTTGCCATTAGGGGCAATTTTGTAGTACGACTGTTCTAAGAGGTCTATATCGCGATTGAAACACACTAAACT\n",
      "<re.Match object; span=(117, 132), match='AGTACGACTGTTCTA'>\n",
      "AAACTTTTTTTTGCCATTAGGGGCAATTTTGTAGTACGACTGTTCTAAGAGGTCTATATCGCGATTGAAACACACTAAACT\n",
      "<re.Match object; span=(32, 47), match='AGTACGACTGTTCTA'>\n",
      "TGAGTGGTGCGTGACAAATCACCAATTACCAATCACCAATTACCAATCACCAATTACCAACTACCAACTACCAACTACCAAACAAAAACTTTTTTTTGCCATTAGGGGCAATTTTGTAGTACGACTGTTCTAAGAGGTCTATATCGCGATTGAAACACACTAAACT\n",
      "<re.Match object; span=(117, 132), match='AGTACGACTGTTCTA'>\n",
      "TGAGTCGGGAGTCGGGATAAGAGAGCTGGGGGAGCAATTACCAATTACCAATTACCAAATAAAAACTTTTTTTTGCCATTAGGGGCAATTTTGTAGTACGACTGTTCTAAGAGGTCTATATCGCGATTGAAACACACTAAACT\n",
      "<re.Match object; span=(94, 109), match='AGTACGACTGTTCTA'>\n",
      "TGAGTGGTGCGTGACAAATCACCAATTACCAACTACCAATTACTAACTACCAACTACCAACTACCAAACAAAAACTTTTTTTTGCCATTAGGGGCAATTTTGTAGTACGACTGTTCTAAGAGGTCTATATCGCGATTGAAACACACTAAACT\n",
      "<re.Match object; span=(103, 118), match='AGTACGACTGTTCTA'>\n",
      "TGAGTGGTGCGTGACAAATCACCAATTACCAATCACCAATTACCAATTACTAACTACCAACTACCAACTACCAACTACCAAACAAAAACTTTTTTTTGCCATTAGGGGCAATTTTGTAGTACGACTGTTCTAAGAGGTCTATATCGCGATTGAAACACACTAAACT\n",
      "<re.Match object; span=(117, 132), match='AGTACGACTGTTCTA'>\n",
      "TGAAGTTGCGGGGGTTCCCCCCGTTAAAGCACGTCGCGTCAAAGTGTCCGTGGACAAGGAGGACAAGGAAGCAGGTGTGCAGGTGTGCAGGGGAGATAAAGAAGACTTGGGGGACTTGGGAGCAAGTACCAATTACCAATTACCTATTACCAATTACCAACAACTAAAAACTTTTTTTTGCCATTAGGGGCAATTTTGTAGTACGACTGTTCTAAGAGGTTTATATCGCGATTGAAACACACTAAACT\n",
      "<re.Match object; span=(199, 214), match='AGTACGACTGTTCTA'>\n"
     ]
    }
   ],
   "source": [
    "import re\n",
    "motivo=\"AGT.{9}CTA\"\n",
    "for seq in lista:\n",
    "    print(seq)\n",
    "    print(re.search(motivo, seq))"
   ],
   "metadata": {
    "collapsed": false,
    "ExecuteTime": {
     "end_time": "2024-06-07T12:17:11.439651Z",
     "start_time": "2024-06-07T12:17:11.436841Z"
    }
   },
   "id": "e6833f7df8a5bb35",
   "execution_count": 163
  },
  {
   "cell_type": "code",
   "outputs": [
    {
     "data": {
      "text/plain": "{'TS-821': ['GCAGCGAGTAATATTAAACTCAGTTACCTATTACCGACTACCAAATCATCATCTCAACAAAAAATTACTTTATTTGTAGTTTTTTTTGCTATTCGGGGCAATAATGTAGTACGAATGTTCTTATAGACCTTTGTATTTTGGCTTCCGAATT'],\n 'SAG_39.79': ['TGAGTGGTGCGTGACAAATCACCAATTACCAATCACCAATTACCAATCACCAATTACCAACTACCAACTACCAACTACCAAACAAAAACTTTTTTTTGCCATTAGGGGCAATTTTGTAGTACGACTGTTCTAAGAGGTCTATATCGCGATTGAAACACACTAAACT'],\n 'FACHB-1243': ['AAACTTTTTTTTGCCATTAGGGGCAATTTTGTAGTACGACTGTTCTAAGAGGTCTATATCGCGATTGAAACACACTAAACT'],\n 'CCALA_043': ['TGAGTGGTGCGTGACAAATCACCAATTACCAATCACCAATTACCAATCACCAATTACCAACTACCAACTACCAACTACCAAACAAAAACTTTTTTTTGCCATTAGGGGCAATTTTGTAGTACGACTGTTCTAAGAGGTCTATATCGCGATTGAAACACACTAAACT'],\n 'SAG_2025': ['TGAGTCGGGAGTCGGGATAAGAGAGCTGGGGGAGCAATTACCAATTACCAATTACCAAATAAAAACTTTTTTTTGCCATTAGGGGCAATTTTGTAGTACGACTGTTCTAAGAGGTCTATATCGCGATTGAAACACACTAAACT'],\n 'CCNUC1': ['TGAGTGGTGCGTGACAAATCACCAATTACCAACTACCAATTACTAACTACCAACTACCAACTACCAAACAAAAACTTTTTTTTGCCATTAGGGGCAATTTTGTAGTACGACTGTTCTAAGAGGTCTATATCGCGATTGAAACACACTAAACT'],\n 'PCC_7203': ['TGAGTGGTGCGTGACAAATCACCAATTACCAATCACCAATTACCAATTACTAACTACCAACTACCAACTACCAACTACCAAACAAAAACTTTTTTTTGCCATTAGGGGCAATTTTGTAGTACGACTGTTCTAAGAGGTCTATATCGCGATTGAAACACACTAAACT'],\n 'CCALA_051': ['TGAAGTTGCGGGGGTTCCCCCCGTTAAAGCACGTCGCGTCAAAGTGTCCGTGGACAAGGAGGACAAGGAAGCAGGTGTGCAGGTGTGCAGGGGAGATAAAGAAGACTTGGGGGACTTGGGAGCAAGTACCAATTACCAATTACCTATTACCAATTACCAACAACTAAAAACTTTTTTTTGCCATTAGGGGCAATTTTGTAGTACGACTGTTCTAAGAGGTTTATATCGCGATTGAAACACACTAAACT']}"
     },
     "execution_count": 164,
     "metadata": {},
     "output_type": "execute_result"
    }
   ],
   "source": [
    "diz[\"WP_250121220.1\"]"
   ],
   "metadata": {
    "collapsed": false,
    "ExecuteTime": {
     "end_time": "2024-06-07T12:18:33.106561Z",
     "start_time": "2024-06-07T12:18:33.103814Z"
    }
   },
   "id": "a1734f940eb8562e",
   "execution_count": 164
  },
  {
   "cell_type": "code",
   "outputs": [
    {
     "data": {
      "text/plain": "          CCMEE_29  \\\n71  WP_250121220.1   \n\n   result_Chroococcidiopsis_sp._[FACHB-1243]_GCF_014696895.1.faa  \\\n71                                     WP_015155906.1              \n\n   result_Chroococcidiopsis_sp._CCNUC1_GCF_023546805.1.faa  \\\n71                                     WP_015155906.1        \n\n   result_Chroococcidiopsis_sp._CCMEE_29_GCF_023558375.1.faa  \\\n71                                     WP_250121220.1          \n\n   result_Chroococcidiopsis_thermalis_PCC_7203_GCF_000317125.1.faa  \\\n71                                     WP_015155906.1                \n\n   result_Chroococcidiopsis_cubana_SAG_39.79_GCF_034438355.1.faa  \\\n71                                     WP_015155906.1              \n\n   result_Chroococcidiopsis_sp._CCALA_051_GCF_003015105.1.faa  \\\n71                                     WP_015155906.1           \n\n   result_Chroococcidiopsis_sp._TS-821_GCF_002939305.1.faa  \\\n71                                     WP_246841289.1        \n\n   result_Chroococcidiopsis_cubana_CCALA_043_GCF_003003835.1.faa  \\\n71                                     WP_015155906.1              \n\n   result_Chroococcidiopsis_sp._SAG_2025_GCF_032860985.1.faa  \n71                                     WP_039714178.1         ",
      "text/html": "<div>\n<style scoped>\n    .dataframe tbody tr th:only-of-type {\n        vertical-align: middle;\n    }\n\n    .dataframe tbody tr th {\n        vertical-align: top;\n    }\n\n    .dataframe thead th {\n        text-align: right;\n    }\n</style>\n<table border=\"1\" class=\"dataframe\">\n  <thead>\n    <tr style=\"text-align: right;\">\n      <th></th>\n      <th>CCMEE_29</th>\n      <th>result_Chroococcidiopsis_sp._[FACHB-1243]_GCF_014696895.1.faa</th>\n      <th>result_Chroococcidiopsis_sp._CCNUC1_GCF_023546805.1.faa</th>\n      <th>result_Chroococcidiopsis_sp._CCMEE_29_GCF_023558375.1.faa</th>\n      <th>result_Chroococcidiopsis_thermalis_PCC_7203_GCF_000317125.1.faa</th>\n      <th>result_Chroococcidiopsis_cubana_SAG_39.79_GCF_034438355.1.faa</th>\n      <th>result_Chroococcidiopsis_sp._CCALA_051_GCF_003015105.1.faa</th>\n      <th>result_Chroococcidiopsis_sp._TS-821_GCF_002939305.1.faa</th>\n      <th>result_Chroococcidiopsis_cubana_CCALA_043_GCF_003003835.1.faa</th>\n      <th>result_Chroococcidiopsis_sp._SAG_2025_GCF_032860985.1.faa</th>\n    </tr>\n  </thead>\n  <tbody>\n    <tr>\n      <th>71</th>\n      <td>WP_250121220.1</td>\n      <td>WP_015155906.1</td>\n      <td>WP_015155906.1</td>\n      <td>WP_250121220.1</td>\n      <td>WP_015155906.1</td>\n      <td>WP_015155906.1</td>\n      <td>WP_015155906.1</td>\n      <td>WP_246841289.1</td>\n      <td>WP_015155906.1</td>\n      <td>WP_039714178.1</td>\n    </tr>\n  </tbody>\n</table>\n</div>"
     },
     "execution_count": 165,
     "metadata": {},
     "output_type": "execute_result"
    }
   ],
   "source": [
    "df_final.loc[df_final[\"CCMEE_29\"]==\"WP_250121220.1\",:]"
   ],
   "metadata": {
    "collapsed": false,
    "ExecuteTime": {
     "end_time": "2024-06-07T12:19:22.663346Z",
     "start_time": "2024-06-07T12:19:22.656303Z"
    }
   },
   "id": "8829b5712ccb1ccb",
   "execution_count": 165
  },
  {
   "cell_type": "code",
   "outputs": [
    {
     "name": "stdout",
     "output_type": "stream",
     "text": [
      "dict_keys(['WP_250125946.1', 'WP_250125945.1', 'WP_250125943.1', 'WP_250122516.1', 'WP_250125995.1', 'WP_250125996.1', 'WP_250121487.1', 'WP_250121488.1', 'WP_250121493.1', 'WP_250121498.1', 'WP_250122698.1', 'WP_250121512.1', 'WP_250124500.1', 'WP_250124501.1', 'WP_250122637.1', 'WP_250123835.1', 'WP_250125533.1', 'WP_250123403.1', 'WP_250122282.1', 'WP_250122283.1', 'WP_250122284.1', 'WP_250123405.1', 'WP_250123129.1', 'WP_250122190.1', 'WP_250122191.1', 'WP_250125231.1', 'WP_250125230.1', 'WP_250125229.1', 'WP_250125856.1', 'WP_250123506.1', 'WP_250121444.1', 'WP_250124754.1', 'WP_250124753.1', 'WP_250124752.1', 'WP_250124751.1', 'WP_250124474.1', 'WP_250124475.1', 'WP_250122623.1', 'WP_250122320.1', 'WP_250121759.1', 'WP_250125619.1', 'WP_250125620.1', 'WP_250125363.1', 'WP_250123270.1', 'WP_250122953.1', 'WP_250122952.1', 'WP_250126054.1', 'WP_250126053.1', 'WP_250126052.1', 'WP_250123345.1', 'WP_250123611.1', 'WP_250123612.1', 'WP_250123614.1', 'WP_250123615.1', 'WP_250126399.1', 'WP_250125319.1', 'WP_250125317.1', 'WP_250124226.1', 'WP_250125316.1', 'WP_250125315.1', 'WP_250125314.1', 'WP_250121903.1', 'WP_250121905.1', 'WP_250121906.1', 'WP_250121907.1', 'WP_250121908.1', 'WP_250126221.1', 'WP_250121910.1', 'WP_250121911.1', 'WP_250122365.1', 'WP_250122366.1', 'WP_250122367.1', 'WP_250122369.1', 'WP_250122370.1', 'WP_250124782.1', 'WP_250124781.1', 'WP_250122625.1', 'WP_250123061.1', 'WP_250123060.1', 'WP_250123057.1', 'WP_250123055.1', 'WP_250124186.1', 'WP_250124185.1', 'WP_250124184.1', 'WP_256478656.1', 'WP_250122090.1', 'WP_250122089.1', 'WP_250122088.1', 'WP_250122480.1', 'WP_250124580.1', 'WP_250122128.1', 'WP_250122129.1', 'WP_250124775.1', 'WP_250121850.1', 'WP_250121849.1', 'WP_250122914.1', 'WP_250123211.1', 'WP_250122597.1', 'WP_250122600.1', 'WP_250122601.1', 'WP_250122603.1', 'WP_250122604.1', 'WP_250122344.1', 'WP_250122345.1', 'WP_250122341.1', 'WP_250122340.1', 'WP_250125716.1', 'WP_275983386.1', 'WP_250121588.1', 'WP_250125858.1', 'WP_250121230.1', 'WP_250121231.1', 'WP_250124676.1', 'WP_250125167.1', 'WP_275983384.1', 'WP_250125165.1', 'WP_250125164.1', 'WP_250125163.1', 'WP_250124335.1', 'WP_250124337.1', 'WP_250124343.1', 'WP_250124344.1', 'WP_250124345.1', 'WP_250125552.1', 'WP_250125553.1', 'WP_250125555.1', 'WP_250125556.1', 'WP_250123933.1', 'WP_250123936.1', 'WP_250123937.1', 'WP_250125599.1', 'WP_275983389.1', 'WP_275983390.1', 'WP_250123942.1', 'WP_250123944.1', 'WP_250123947.1', 'WP_250121999.1', 'WP_250125207.1', 'WP_250125206.1', 'WP_250123529.1', 'WP_250124146.1', 'WP_250124147.1', 'WP_250121865.1', 'WP_250121868.1', 'WP_250121869.1', 'WP_250121165.1', 'WP_250121164.1', 'WP_250122257.1', 'WP_250122256.1', 'WP_250122255.1', 'WP_250122254.1', 'WP_250122253.1', 'WP_250122252.1', 'WP_250122251.1', 'WP_250123229.1', 'WP_250123226.1', 'WP_250121691.1', 'WP_250121841.1', 'WP_250124027.1', 'WP_250124025.1', 'WP_250124021.1', 'WP_250124020.1', 'WP_250124019.1', 'WP_250124016.1', 'WP_250124015.1', 'WP_250121202.1', 'WP_250121203.1', 'WP_250126207.1', 'WP_250121204.1', 'WP_250121205.1', 'WP_250121206.1', 'WP_250121207.1', 'WP_250122080.1', 'WP_250122081.1', 'WP_250125376.1', 'WP_250122746.1', 'WP_250122745.1', 'WP_250122215.1', 'WP_250122201.1', 'WP_250126016.1', 'WP_250126017.1', 'WP_250124435.1', 'WP_250122105.1', 'WP_250125384.1', 'WP_250125385.1', 'WP_250125457.1', 'WP_250125456.1', 'WP_250125452.1', 'WP_250125451.1', 'WP_250125612.1', 'WP_250125611.1', 'WP_250125610.1', 'WP_250123859.1', 'WP_250123860.1', 'WP_250123861.1', 'WP_250123862.1', 'WP_250123867.1', 'WP_250123868.1', 'WP_250123870.1', 'WP_250123874.1', 'WP_250123875.1', 'WP_250123876.1', 'WP_250123877.1', 'WP_250123955.1', 'WP_250123815.1', 'WP_250122266.1', 'WP_250122265.1', 'WP_250124328.1', 'WP_250124329.1', 'WP_250125133.1', 'WP_250125132.1', 'WP_250125131.1', 'WP_250122132.1', 'WP_250122133.1', 'WP_250122134.1', 'WP_250122135.1', 'WP_250122138.1', 'WP_250126057.1', 'WP_250126056.1', 'WP_250126055.1', 'WP_250121516.1', 'WP_250125916.1', 'WP_250121566.1', 'WP_250122230.1', 'WP_250121677.1', 'WP_250125171.1', 'WP_250124741.1', 'WP_250124742.1', 'WP_250125539.1', 'WP_250124195.1', 'WP_250124055.1', 'WP_250125534.1', 'WP_250121225.1', 'WP_250123890.1', 'WP_250125674.1', 'WP_250123694.1', 'WP_250122313.1', 'WP_250121168.1', 'WP_250121169.1', 'WP_250121177.1', 'WP_250122454.1', 'WP_250122457.1', 'WP_250122346.1', 'WP_250122458.1', 'WP_250122436.1', 'WP_250122437.1', 'WP_250122449.1', 'WP_250122450.1', 'WP_250125830.1', 'WP_250122955.1', 'WP_250124201.1', 'WP_250125898.1', 'WP_250122493.1', 'WP_250125703.1', 'WP_250125702.1', 'WP_250125701.1', 'WP_250125900.1', 'WP_250126201.1', 'WP_250124359.1', 'WP_250124360.1', 'WP_250124361.1', 'WP_250124362.1', 'WP_250122350.1', 'WP_250123562.1', 'WP_250122247.1', 'WP_250126119.1', 'WP_250126118.1', 'WP_250126117.1', 'WP_250123900.1', 'WP_250126059.1', 'WP_250126061.1', 'WP_250126063.1', 'WP_250126067.1', 'WP_250126068.1', 'WP_250126069.1', 'WP_250126070.1', 'WP_250121573.1', 'WP_250123865.1', 'WP_250122461.1', 'WP_250123210.1', 'WP_250123207.1', 'WP_250123206.1', 'WP_250123200.1', 'WP_250122416.1', 'WP_250122415.1', 'WP_250122414.1', 'WP_250122409.1', 'WP_250125699.1', 'WP_250124477.1', 'WP_250124494.1', 'WP_250124495.1', 'WP_250124496.1', 'WP_250124497.1', 'WP_250125413.1', 'WP_250122532.1', 'WP_250122526.1', 'WP_250123109.1', 'WP_250123113.1', 'WP_250123114.1', 'WP_250123115.1', 'WP_250123116.1', 'WP_250123117.1', 'WP_250124164.1', 'WP_250124779.1', 'WP_250124778.1', 'WP_250124777.1', 'WP_250123726.1', 'WP_250123724.1', 'WP_250122335.1', 'WP_250125193.1', 'WP_250125194.1', 'WP_250125195.1', 'WP_250124504.1', 'WP_250124506.1', 'WP_250124507.1', 'WP_250125007.1', 'WP_250125008.1', 'WP_250121857.1', 'WP_250124266.1', 'WP_275983353.1', 'WP_250122721.1', 'WP_250122722.1', 'WP_250125563.1', 'WP_250125566.1', 'WP_250125565.1', 'WP_250125564.1', 'WP_250125559.1', 'WP_250125558.1', 'WP_250124267.1', 'WP_256478940.1', 'WP_250124262.1', 'WP_250124261.1', 'WP_250124260.1', 'WP_250121944.1', 'WP_250121943.1', 'WP_250122948.1', 'WP_250122950.1', 'WP_250121854.1', 'WP_250126141.1', 'WP_250126140.1', 'WP_250126139.1', 'WP_250126138.1', 'WP_250126137.1', 'WP_250126136.1', 'WP_250125329.1', 'WP_250123142.1', 'WP_250123143.1', 'WP_250123144.1', 'WP_250126078.1', 'WP_250124710.1', 'WP_250124712.1', 'WP_250124713.1', 'WP_250121800.1', 'WP_250122067.1', 'WP_250121540.1', 'WP_250121539.1', 'WP_250125248.1', 'WP_250125247.1', 'WP_250126092.1', 'WP_250126089.1', 'WP_250126088.1', 'WP_250126087.1', 'WP_250126086.1', 'WP_250125948.1', 'WP_250125947.1', 'WP_250123646.1', 'WP_250124274.1', 'WP_250121809.1', 'WP_250124795.1', 'WP_250124796.1', 'WP_250124981.1', 'WP_250124980.1', 'WP_250124979.1', 'WP_250124978.1', 'WP_250124977.1', 'WP_250123244.1', 'WP_250126819.1', 'WP_250121949.1', 'WP_256478963.1', 'WP_250121951.1', 'WP_250123388.1', 'WP_250123500.1', 'WP_250125683.1', 'WP_250125684.1', 'WP_250122900.1', 'WP_250121478.1', 'WP_250121479.1', 'WP_250121480.1', 'WP_250126622.1', 'WP_250126707.1', 'WP_250126096.1', 'WP_250125331.1', 'WP_250125422.1', 'WP_250122120.1', 'WP_250122114.1', 'WP_250122113.1', 'WP_250122112.1', 'WP_250122111.1', 'WP_250123837.1', 'WP_250125443.1', 'WP_250121977.1', 'WP_250121976.1', 'WP_250121975.1', 'WP_250126225.1', 'WP_250124982.1', 'WP_250124798.1', 'WP_250121935.1', 'WP_250121934.1', 'WP_250121933.1', 'WP_250121932.1', 'WP_250121930.1', 'WP_250121929.1', 'WP_250121983.1', 'WP_250121984.1', 'WP_250121261.1', 'WP_250125103.1', 'WP_250125623.1', 'WP_250125622.1', 'WP_250123966.1', 'WP_250123538.1', 'WP_250124700.1', 'WP_250122548.1', 'WP_250122543.1', 'WP_275983363.1', 'WP_250122542.1', 'WP_250123732.1', 'WP_250122540.1', 'WP_250122539.1', 'WP_250122538.1', 'WP_250122537.1', 'WP_250122913.1', 'WP_250122912.1', 'WP_250122911.1', 'WP_250122910.1', 'WP_250122908.1', 'WP_250122907.1', 'WP_250121222.1', 'WP_250121223.1', 'WP_250121226.1', 'WP_250123247.1', 'WP_250123246.1', 'WP_250125908.1', 'WP_250125907.1', 'WP_250125906.1', 'WP_250125905.1', 'WP_250122854.1', 'WP_250122853.1', 'WP_250122845.1', 'WP_250122849.1', 'WP_250122848.1', 'WP_250122847.1', 'WP_250122846.1', 'WP_250122843.1', 'WP_250123441.1', 'WP_250123990.1', 'WP_250122432.1', 'WP_250121728.1', 'WP_250121727.1', 'WP_250121726.1', 'WP_250121725.1', 'WP_275983385.1', 'WP_250122240.1', 'WP_250122239.1', 'WP_250122238.1', 'WP_009632395.1', 'WP_250121892.1', 'WP_250121895.1', 'WP_250121896.1', 'WP_250121897.1', 'WP_250121899.1', 'WP_250121900.1', 'WP_250124467.1', 'WP_250124046.1', 'WP_250124047.1', 'WP_250124048.1', 'WP_250125673.1', 'WP_250121722.1', 'WP_250124833.1', 'WP_250126302.1', 'WP_250126792.1', 'WP_250122823.1', 'WP_250126628.1', 'WP_250124835.1', 'WP_250122712.1', 'WP_250123378.1', 'WP_250124029.1', 'WP_250123374.1', 'WP_250123373.1', 'WP_250123734.1', 'WP_250121264.1', 'WP_250121263.1', 'WP_250121262.1', 'WP_250121260.1', 'WP_250121259.1', 'WP_250121257.1', 'WP_250121281.1', 'WP_250125681.1', 'WP_250125680.1', 'WP_250123766.1', 'WP_256478983.1', 'WP_250125640.1', 'WP_250123768.1', 'WP_250123769.1', 'WP_250123770.1', 'WP_250123771.1', 'WP_250123998.1', 'WP_250125596.1', 'WP_250124471.1', 'WP_250124229.1', 'WP_250124228.1', 'WP_250125151.1', 'WP_250123447.1', 'WP_250122183.1', 'WP_256478966.1', 'WP_250122182.1', 'WP_250122181.1', 'WP_250126082.1', 'WP_250125021.1', 'WP_250125951.1', 'WP_250125952.1', 'WP_250125953.1', 'WP_250125954.1', 'WP_250121639.1', 'WP_250125994.1', 'WP_250122259.1', 'WP_250122260.1', 'WP_250123608.1', 'WP_250126131.1', 'WP_275983396.1', 'WP_250122556.1', 'WP_250122557.1', 'WP_250121992.1', 'WP_250121994.1', 'WP_250124155.1', 'WP_250125696.1', 'WP_250124447.1', 'WP_250124448.1', 'WP_250123089.1', 'WP_250121681.1', 'WP_250121682.1', 'WP_250122931.1', 'WP_250124127.1', 'WP_250123779.1', 'WP_250123778.1', 'WP_250123777.1', 'WP_250123775.1', 'WP_250123773.1', 'WP_250125367.1', 'WP_250125366.1', 'WP_250125365.1', 'WP_250125936.1', 'WP_250125935.1', 'WP_250125934.1', 'WP_250125933.1', 'WP_250125932.1', 'WP_250125931.1', 'WP_250125930.1', 'WP_250125929.1', 'WP_250125928.1', 'WP_250122755.1', 'WP_250122074.1', 'WP_250121424.1', 'WP_250121972.1', 'WP_250121960.1', 'WP_250121959.1', 'WP_250121958.1', 'WP_250123033.1', 'WP_250123034.1', 'WP_275983358.1', 'WP_250124470.1', 'WP_250122589.1', 'WP_250122588.1', 'WP_250122585.1', 'WP_250123863.1', 'WP_250122584.1', 'WP_250122583.1', 'WP_250122784.1', 'WP_250122785.1', 'WP_250122786.1', 'WP_250123041.1', 'WP_250123090.1', 'WP_250123091.1', 'WP_250123092.1', 'WP_250123093.1', 'WP_250123094.1', 'WP_250123095.1', 'WP_250123097.1', 'WP_250123100.1', 'WP_250123101.1', 'WP_250123102.1', 'WP_250123103.1', 'WP_250124415.1', 'WP_250124413.1', 'WP_250124410.1', 'WP_250124409.1', 'WP_250124408.1', 'WP_250122033.1', 'WP_250122030.1', 'WP_250121523.1', 'WP_250122023.1', 'WP_250122022.1', 'WP_250122021.1', 'WP_250122020.1', 'WP_250125826.1', 'WP_250121240.1', 'WP_250121706.1', 'WP_250121707.1', 'WP_250121708.1', 'WP_250121709.1', 'WP_250121710.1', 'WP_250122378.1', 'WP_250123661.1', 'WP_250122380.1', 'WP_250122382.1', 'WP_250121815.1', 'WP_250121817.1', 'WP_250122106.1', 'WP_250122915.1', 'WP_250121829.1', 'WP_250121827.1', 'WP_250121826.1', 'WP_250121825.1', 'WP_250125447.1', 'WP_250122574.1', 'WP_250122575.1', 'WP_250122797.1', 'WP_250122796.1', 'WP_250121601.1', 'WP_250125446.1', 'WP_250125444.1', 'WP_250125459.1', 'WP_250125460.1', 'WP_250121293.1', 'WP_250122160.1', 'WP_250122159.1', 'WP_250122152.1', 'WP_250122151.1', 'WP_250125687.1', 'WP_250123949.1', 'WP_250126097.1', 'WP_250126071.1', 'WP_250125339.1', 'WP_250124821.1', 'WP_250124071.1', 'WP_250124070.1', 'WP_250124069.1', 'WP_250124068.1', 'WP_250124067.1', 'WP_250124066.1', 'WP_250124065.1', 'WP_250123122.1', 'WP_250125012.1', 'WP_250123899.1', 'WP_250125063.1', 'WP_250122659.1', 'WP_250125055.1', 'WP_250125240.1', 'WP_250125302.1', 'WP_250123123.1', 'WP_250123124.1', 'WP_250123125.1', 'WP_250124193.1', 'WP_250125797.1', 'WP_250121741.1', 'WP_250121453.1', 'WP_250125251.1', 'WP_250125252.1', 'WP_250125253.1', 'WP_250125254.1', 'WP_250125255.1', 'WP_250124011.1', 'WP_250124014.1', 'WP_250122196.1', 'WP_250122197.1', 'WP_250122198.1', 'WP_250121454.1', 'WP_250124659.1', 'WP_250124660.1', 'WP_250124499.1', 'WP_250123418.1', 'WP_250123170.1', 'WP_250123334.1', 'WP_250123416.1', 'WP_250122236.1', 'WP_250122227.1', 'WP_250122064.1', 'WP_250121536.1', 'WP_250121535.1', 'WP_250123049.1', 'WP_250121199.1', 'WP_250125281.1', 'WP_250125282.1', 'WP_250125284.1', 'WP_250125287.1', 'WP_250125288.1', 'WP_250125289.1', 'WP_250125290.1', 'WP_250125291.1', 'WP_250125293.1', 'WP_250125294.1', 'WP_250125295.1', 'WP_250125296.1', 'WP_250125297.1', 'WP_250125304.1', 'WP_250125305.1', 'WP_250125399.1', 'WP_250125397.1', 'WP_250124743.1', 'WP_250125541.1', 'WP_250125544.1', 'WP_250125545.1', 'WP_250123886.1', 'WP_250123884.1', 'WP_250125481.1', 'WP_250123382.1', 'WP_250123383.1', 'WP_250123384.1', 'WP_250123385.1', 'WP_250123386.1', 'WP_250123387.1', 'WP_250123262.1', 'WP_250123216.1', 'WP_250123215.1', 'WP_250122005.1', 'WP_250122006.1', 'WP_250122007.1', 'WP_250122008.1', 'WP_250122011.1', 'WP_250122012.1', 'WP_250122013.1', 'WP_250123285.1', 'WP_250123286.1', 'WP_250123287.1', 'WP_250123893.1', 'WP_250124805.1', 'WP_250124803.1', 'WP_250121936.1', 'WP_250123823.1', 'WP_250123822.1', 'WP_250125643.1', 'WP_250124597.1', 'WP_250123821.1', 'WP_250121439.1', 'WP_250123730.1', 'WP_250124181.1', 'WP_250124180.1', 'WP_250124176.1', 'WP_250125476.1', 'WP_250122867.1', 'WP_250122866.1', 'WP_250123072.1', 'WP_250123070.1', 'WP_250123570.1', 'WP_250126149.1', 'WP_250126150.1', 'WP_250125110.1', 'WP_250124636.1', 'WP_250124629.1', 'WP_250124628.1', 'WP_250124627.1', 'WP_250124626.1', 'WP_250124043.1', 'WP_250124625.1', 'WP_250124624.1', 'WP_250124622.1', 'WP_250122287.1', 'WP_250122288.1', 'WP_250122289.1', 'WP_250122290.1', 'WP_250122291.1', 'WP_250122292.1', 'WP_250123328.1', 'WP_250124663.1', 'WP_250124514.1', 'WP_250122337.1', 'WP_250126395.1', 'WP_250125327.1', 'WP_250125328.1', 'WP_250125274.1', 'WP_250125721.1', 'WP_250125720.1', 'WP_250125719.1', 'WP_256478941.1', 'WP_250124431.1', 'WP_250126126.1', 'WP_250126124.1', 'WP_250121460.1', 'WP_250122758.1', 'WP_250122752.1', 'WP_250121946.1', 'WP_250126004.1', 'WP_250126003.1', 'WP_250125712.1', 'WP_250125711.1', 'WP_250125709.1', 'WP_250125707.1', 'WP_250125705.1', 'WP_250122104.1', 'WP_250124439.1', 'WP_250124440.1', 'WP_250124333.1', 'WP_250123743.1', 'WP_250125204.1', 'WP_250122388.1', 'WP_250124563.1', 'WP_250124562.1', 'WP_250124063.1', 'WP_250126014.1', 'WP_250125272.1', 'WP_250122904.1', 'WP_250125325.1', 'WP_250124425.1', 'WP_073591590.1', 'WP_250124424.1', 'WP_250124423.1', 'WP_250124422.1', 'WP_250124421.1', 'WP_250124419.1', 'WP_250122302.1', 'WP_250126167.1', 'WP_250122387.1', 'WP_250121456.1', 'WP_250121457.1', 'WP_250122056.1', 'WP_250122060.1', 'WP_250125258.1', 'WP_250123499.1', 'WP_250122477.1', 'WP_250122478.1', 'WP_250123175.1', 'WP_250123177.1', 'WP_250123178.1', 'WP_250123179.1', 'WP_250124455.1', 'WP_250124458.1', 'WP_250124121.1', 'WP_250124120.1', 'WP_250124118.1', 'WP_250124117.1', 'WP_250124115.1', 'WP_250125052.1', 'WP_250124109.1', 'WP_250124108.1', 'WP_250124107.1', 'WP_250123575.1', 'WP_250122503.1', 'WP_250122504.1', 'WP_250125464.1', 'WP_250125463.1', 'WP_250125461.1', 'WP_250124793.1', 'WP_250124792.1', 'WP_250124790.1', 'WP_250124789.1', 'WP_250124788.1', 'WP_250124787.1', 'WP_250124786.1', 'WP_250122373.1', 'WP_250122374.1', 'WP_250122375.1', 'WP_250125467.1', 'WP_250125769.1', 'WP_250125768.1', 'WP_250121658.1', 'WP_250125147.1', 'WP_250125146.1', 'WP_250125145.1', 'WP_250125144.1', 'WP_250125143.1', 'WP_250126184.1', 'WP_250125142.1', 'WP_250125141.1', 'WP_250125140.1', 'WP_250121236.1', 'WP_250122664.1', 'WP_250124073.1', 'WP_250122658.1', 'WP_250122656.1', 'WP_250126120.1', 'WP_250121995.1', 'WP_250124057.1', 'WP_250122897.1', 'WP_250122894.1', 'WP_250122893.1', 'WP_250124432.1', 'WP_250124545.1', 'WP_250125656.1', 'WP_250125881.1', 'WP_250125838.1', 'WP_250122610.1', 'WP_250122609.1', 'WP_250122275.1', 'WP_250122015.1', 'WP_250122245.1', 'WP_250123924.1', 'WP_250121427.1', 'WP_250121612.1', 'WP_250126542.1', 'WP_250121858.1', 'WP_250122052.1', 'WP_250121336.1', 'WP_250122219.1', 'WP_250122220.1', 'WP_250122221.1', 'WP_250122225.1', 'WP_250122249.1', 'WP_250125895.1', 'WP_250125894.1', 'WP_250121683.1', 'WP_250124391.1', 'WP_250124393.1', 'WP_250124398.1', 'WP_250124400.1', 'WP_250124519.1', 'WP_250124523.1', 'WP_250124530.1', 'WP_250124533.1', 'WP_250124534.1', 'WP_250124535.1', 'WP_250124536.1', 'WP_250124537.1', 'WP_250124538.1', 'WP_250125180.1', 'WP_250123556.1', 'WP_250126418.1', 'WP_250122680.1', 'WP_250121154.1', 'WP_250124003.1', 'WP_250125159.1', 'WP_250125160.1', 'WP_250125214.1', 'WP_250125215.1', 'WP_250124332.1', 'WP_250125227.1', 'WP_250125352.1', 'WP_250125353.1', 'WP_250125354.1', 'WP_250123717.1', 'WP_250123716.1', 'WP_250123715.1', 'WP_250123714.1', 'WP_250123713.1', 'WP_250123712.1', 'WP_250123710.1', 'WP_250125117.1', 'WP_250125324.1', 'WP_250125654.1', 'WP_250125653.1', 'WP_250125651.1', 'WP_250122383.1', 'WP_250124150.1', 'WP_275983374.1', 'WP_250124149.1', 'WP_250123563.1', 'WP_250122711.1', 'WP_250124612.1', 'WP_250121249.1', 'WP_250124575.1', 'WP_250124576.1', 'WP_250124581.1', 'WP_250125790.1', 'WP_250125795.1', 'WP_250126000.1', 'WP_250122594.1', 'WP_250123164.1', 'WP_250125139.1', 'WP_250125138.1', 'WP_250121578.1', 'WP_250121579.1', 'WP_250121580.1', 'WP_250121583.1', 'WP_250121584.1', 'WP_250124307.1', 'WP_250124306.1', 'WP_250124305.1', 'WP_250121670.1', 'WP_250124701.1', 'WP_250125864.1', 'WP_250125865.1', 'WP_250125868.1', 'WP_250125869.1', 'WP_250125870.1', 'WP_250126199.1', 'WP_250125872.1', 'WP_250121246.1', 'WP_250121247.1', 'WP_250121248.1', 'WP_250124358.1', 'WP_250124356.1', 'WP_250123389.1', 'WP_250123131.1', 'WP_250123132.1', 'WP_250123566.1', 'WP_250125888.1', 'WP_250125886.1', 'WP_250122325.1', 'WP_250122326.1', 'WP_250123749.1', 'WP_250122328.1', 'WP_250122330.1', 'WP_250122331.1', 'WP_250122332.1', 'WP_250121879.1', 'WP_250121880.1', 'WP_250124233.1', 'WP_250122101.1', 'WP_250125243.1', 'WP_250122964.1', 'WP_250124729.1', 'WP_250124727.1', 'WP_250124725.1', 'WP_250123857.1', 'WP_250123853.1', 'WP_250122356.1', 'WP_250122361.1', 'WP_250126226.1', 'WP_250122362.1', 'WP_250122363.1', 'WP_250122037.1', 'WP_250121917.1', 'WP_250125597.1', 'WP_250125235.1', 'WP_250125238.1', 'WP_250123801.1', 'WP_250122042.1', 'WP_250122653.1', 'WP_250122881.1', 'WP_250122886.1', 'WP_250122887.1', 'WP_250122888.1', 'WP_275983394.1', 'WP_250122890.1', 'WP_250122891.1', 'WP_250122880.1', 'WP_250122878.1', 'WP_250122875.1', 'WP_250122874.1', 'WP_250123409.1', 'WP_250123410.1', 'WP_250123413.1', 'WP_250123414.1', 'WP_250123415.1', 'WP_250125234.1', 'WP_250121690.1', 'WP_250121514.1', 'WP_250121698.1', 'WP_250121699.1', 'WP_250121701.1', 'WP_250121702.1', 'WP_250121703.1', 'WP_250124054.1', 'WP_250124053.1', 'WP_250124052.1', 'WP_250124051.1', 'WP_250124050.1', 'WP_250124049.1', 'WP_250125950.1', 'WP_250125469.1', 'WP_250125470.1', 'WP_250123158.1', 'WP_250125471.1', 'WP_250124375.1', 'WP_250124374.1', 'WP_250124370.1', 'WP_250124368.1', 'WP_250124367.1', 'WP_250124366.1', 'WP_250124365.1', 'WP_250124364.1', 'WP_250124463.1', 'WP_250124464.1', 'WP_250121786.1', 'WP_250121785.1', 'WP_250121631.1', 'WP_250121632.1', 'WP_250123315.1', 'WP_250123312.1', 'WP_250121545.1', 'WP_250125890.1', 'WP_250125819.1', 'WP_250125821.1', 'WP_250126142.1', 'WP_250125383.1', 'WP_250121694.1', 'WP_250121693.1', 'WP_250121297.1', 'WP_250121692.1', 'WP_250124989.1', 'WP_250124990.1', 'WP_250122648.1', 'WP_250122647.1', 'WP_250122646.1', 'WP_250122645.1', 'WP_250122644.1', 'WP_250122643.1', 'WP_275983364.1', 'WP_250123118.1', 'WP_250123423.1', 'WP_250125298.1', 'WP_250122638.1', 'WP_250122641.1', 'WP_250124075.1', 'WP_250122635.1', 'WP_250122651.1', 'WP_250124033.1', 'WP_250123257.1', 'WP_250121714.1', 'WP_250121713.1', 'WP_250121788.1', 'WP_250122408.1', 'WP_250122406.1', 'WP_250122404.1', 'WP_250122403.1', 'WP_250122401.1', 'WP_250122400.1', 'WP_250122399.1', 'WP_250124168.1', 'WP_250124169.1', 'WP_250124156.1', 'WP_250124153.1', 'WP_250123325.1', 'WP_250125523.1', 'WP_250124144.1', 'WP_275983376.1', 'WP_250124089.1', 'WP_250124093.1', 'WP_250124094.1', 'WP_250122619.1', 'WP_250122618.1', 'WP_250123836.1', 'WP_275983371.1', 'WP_250121416.1', 'WP_250121596.1', 'WP_250123919.1', 'WP_250125228.1', 'WP_250122613.1', 'WP_250122615.1', 'WP_250126116.1', 'WP_250126109.1', 'WP_250126385.1', 'WP_250122814.1', 'WP_250122812.1', 'WP_250122808.1', 'WP_250122807.1', 'WP_250122806.1', 'WP_250122805.1', 'WP_250122804.1', 'WP_250122803.1', 'WP_250122802.1', 'WP_250125462.1', 'WP_250125150.1', 'WP_250122343.1', 'WP_250124603.1', 'WP_250124609.1', 'WP_250124610.1', 'WP_250122783.1', 'WP_250122782.1', 'WP_250124761.1', 'WP_250121739.1', 'WP_250125374.1', 'WP_250122719.1', 'WP_250125549.1', 'WP_250122720.1', 'WP_250125883.1', 'WP_250121334.1', 'WP_250121333.1', 'WP_250126211.1', 'WP_250121330.1', 'WP_250121329.1', 'WP_250121328.1', 'WP_250121326.1', 'WP_250121325.1', 'WP_250121324.1', 'WP_250121321.1', 'WP_250121320.1', 'WP_250125308.1', 'WP_250125307.1', 'WP_250125306.1', 'WP_250121663.1', 'WP_250125615.1', 'WP_250124402.1', 'WP_250124401.1', 'WP_250124715.1', 'WP_250122354.1', 'WP_250123346.1', 'WP_250123516.1', 'WP_250125420.1', 'WP_250125421.1', 'WP_250125179.1', 'WP_250122126.1', 'WP_250122124.1', 'WP_250124004.1', 'WP_250124716.1', 'WP_250124544.1', 'WP_250122084.1', 'WP_250122479.1', 'WP_250123104.1', 'WP_250125005.1', 'WP_250121159.1', 'WP_250124717.1', 'WP_250123757.1', 'WP_250123756.1', 'WP_250123755.1', 'WP_250122178.1', 'WP_250123305.1', 'WP_250121782.1', 'WP_250121182.1', 'WP_250125396.1', 'WP_250123702.1', 'WP_250123709.1', 'WP_250124040.1', 'WP_250122205.1', 'WP_250122674.1', 'WP_250121481.1', 'WP_250121750.1', 'WP_250121749.1', 'WP_250122241.1', 'WP_250121877.1', 'WP_250124459.1', 'WP_275983354.1', 'WP_250122518.1', 'WP_250122520.1', 'WP_250122521.1', 'WP_250122522.1', 'WP_250122523.1', 'WP_250121801.1', 'WP_250123271.1', 'WP_250121561.1', 'WP_250121559.1', 'WP_250121556.1', 'WP_250121555.1', 'WP_250121554.1', 'WP_250121553.1', 'WP_250121552.1', 'WP_250121550.1', 'WP_250121781.1', 'WP_250121780.1', 'WP_250121779.1', 'WP_250121773.1', 'WP_250121771.1', 'WP_250121474.1', 'WP_250121767.1', 'WP_250121569.1', 'WP_250121570.1', 'WP_250125099.1', 'WP_250125098.1', 'WP_250126006.1', 'WP_250122203.1', 'WP_250124516.1', 'WP_250125168.1', 'WP_250123344.1', 'WP_250124406.1', 'WP_250124559.1', 'WP_250124560.1', 'WP_250125245.1', 'WP_250125244.1', 'WP_250123745.1', 'WP_250121309.1', 'WP_250121306.1', 'WP_250126159.1', 'WP_250126160.1', 'WP_250126161.1', 'WP_250122975.1', 'WP_256479005.1', 'WP_250123196.1', 'WP_250123197.1', 'WP_250123199.1', 'WP_250123996.1', 'WP_250123994.1', 'WP_250124736.1', 'WP_250122295.1', 'WP_250122294.1', 'WP_250122293.1', 'WP_250123295.1', 'WP_250123290.1', 'WP_250123289.1', 'WP_250122981.1', 'WP_250122982.1', 'WP_250122983.1', 'WP_250122988.1', 'WP_250122989.1', 'WP_250122991.1', 'WP_250122992.1', 'WP_250124131.1', 'WP_250123558.1', 'WP_250123560.1', 'WP_250123264.1', 'WP_250124579.1', 'WP_250124578.1', 'WP_250121764.1', 'WP_250121765.1', 'WP_250121766.1', 'WP_250124551.1', 'WP_250124385.1', 'WP_256478864.1', 'WP_250122079.1', 'WP_250122078.1', 'WP_250122077.1', 'WP_250122076.1', 'WP_250122075.1', 'WP_250122070.1', 'WP_250122069.1', 'WP_250122068.1', 'WP_250121798.1', 'WP_250121292.1', 'WP_250121282.1', 'WP_250124081.1', 'WP_250125032.1', 'WP_250125031.1', 'WP_250124649.1', 'WP_250124086.1', 'WP_250123653.1', 'WP_250123654.1', 'WP_250126075.1', 'WP_250125458.1', 'WP_250124984.1', 'WP_250124509.1', 'WP_250125403.1', 'WP_250125404.1', 'WP_250125406.1', 'WP_250122794.1', 'WP_250125407.1', 'WP_250125408.1', 'WP_250125927.1', 'WP_250125926.1', 'WP_250126202.1', 'WP_250123317.1', 'WP_250123316.1', 'WP_250121784.1', 'WP_250122119.1', 'WP_250121547.1', 'WP_250121546.1', 'WP_250124044.1', 'WP_250125311.1', 'WP_250121738.1', 'WP_250121737.1', 'WP_250121736.1', 'WP_250124707.1', 'WP_250124708.1', 'WP_250124709.1', 'WP_250125380.1', 'WP_250122424.1', 'WP_250122425.1', 'WP_250121763.1', 'WP_250125127.1', 'WP_250121370.1', 'WP_250121678.1', 'WP_250121894.1', 'WP_250123190.1', 'WP_250124241.1', 'WP_250124245.1', 'WP_250124238.1', 'WP_250123256.1', 'WP_250123255.1', 'WP_250123339.1', 'WP_250123338.1', 'WP_250121712.1', 'WP_250121419.1', 'WP_250124237.1', 'WP_250124635.1', 'WP_250125219.1', 'WP_250121680.1', 'WP_250121186.1', 'WP_250121185.1', 'WP_250121527.1', 'WP_250121526.1', 'WP_250125014.1', 'WP_250125154.1', 'WP_250121250.1', 'WP_250121251.1', 'WP_250121311.1', 'WP_250124128.1', 'WP_250121270.1', 'WP_250121278.1', 'WP_250122963.1', 'WP_250122962.1', 'WP_250123909.1', 'WP_250123908.1', 'WP_250123907.1', 'WP_250123906.1', 'WP_250123905.1', 'WP_250123904.1', 'WP_250123277.1', 'WP_275983369.1', 'WP_250123278.1', 'WP_250123279.1', 'WP_250125583.1', 'WP_250123281.1', 'WP_250125676.1', 'WP_250123929.1', 'WP_250124257.1', 'WP_250125693.1', 'WP_250125692.1', 'WP_250125690.1', 'WP_250125688.1', 'WP_250124828.1', 'WP_250124829.1', 'WP_250125320.1', 'WP_250124940.1', 'WP_250124941.1', 'WP_250124942.1', 'WP_250124943.1', 'WP_250124944.1', 'WP_250124945.1', 'WP_250124946.1', 'WP_250125020.1', 'WP_250125019.1', 'WP_250124948.1', 'WP_250124949.1', 'WP_250121652.1', 'WP_250124958.1', 'WP_250124961.1', 'WP_250126472.1', 'WP_250124209.1', 'WP_250125727.1', 'WP_250126531.1', 'WP_250124766.1', 'WP_250124769.1', 'WP_250124768.1', 'WP_250124767.1', 'WP_250126182.1', 'WP_250124762.1', 'WP_250124937.1', 'WP_250126228.1', 'WP_250125250.1', 'WP_250124030.1', 'WP_250126535.1', 'WP_250126328.1', 'WP_250126495.1', 'WP_250124451.1', 'WP_250123076.1', 'WP_250121176.1', 'WP_250124971.1', 'WP_250126357.1', 'WP_250126358.1', 'WP_250126695.1', 'WP_250126694.1', 'WP_250122466.1', 'WP_250122467.1', 'WP_250126634.1', 'WP_250126635.1', 'WP_250126369.1', 'WP_250126272.1', 'WP_250121234.1', 'WP_250121233.1', 'WP_250121232.1', 'WP_250124446.1', 'WP_250125111.1', 'WP_250125112.1', 'WP_250125113.1', 'WP_250125114.1', 'WP_250125115.1', 'WP_250122150.1', 'WP_250122149.1', 'WP_250122148.1', 'WP_250122145.1', 'WP_250121637.1', 'WP_250125613.1', 'WP_250124615.1', 'WP_250124616.1', 'WP_250124617.1', 'WP_250123674.1', 'WP_250123669.1', 'WP_250123668.1', 'WP_250123675.1', 'WP_250123676.1', 'WP_250123680.1', 'WP_250124827.1', 'WP_250121887.1', 'WP_250123363.1', 'WP_250123358.1', 'WP_250123321.1', 'WP_250123320.1', 'WP_250123319.1', 'WP_250126335.1', 'WP_250125920.1', 'WP_250125919.1', 'WP_250125918.1', 'WP_250125917.1', 'WP_250122347.1', 'WP_250121520.1', 'WP_250121522.1', 'WP_250121629.1', 'WP_250125201.1', 'WP_250124549.1', 'WP_250125598.1', 'WP_250125603.1', 'WP_250121598.1', 'WP_250121599.1', 'WP_250121600.1', 'WP_250124734.1', 'WP_250125814.1', 'WP_250123642.1', 'WP_250123641.1', 'WP_256478618.1', 'WP_250121446.1', 'WP_250122173.1', 'WP_250121483.1', 'WP_250122310.1', 'WP_250123248.1', 'WP_250123340.1', 'WP_250123268.1', 'WP_250123269.1', 'WP_250122872.1', 'WP_250126236.1', 'WP_250125889.1', 'WP_250123534.1', 'WP_250121529.1', 'WP_250121530.1', 'WP_250121531.1', 'WP_250121532.1', 'WP_250124322.1', 'WP_250124325.1', 'WP_250124326.1', 'WP_250122676.1', 'WP_250122082.1', 'WP_250123149.1', 'WP_250123459.1', 'WP_250123460.1', 'WP_250121873.1', 'WP_250121870.1', 'WP_250124671.1', 'WP_250124670.1', 'WP_250124892.1', 'WP_250124252.1', 'WP_250123883.1', 'WP_250123880.1', 'WP_250123879.1', 'WP_250124577.1', 'WP_250125185.1', 'WP_250121542.1', 'WP_250121543.1', 'WP_250121544.1', 'WP_250123127.1', 'WP_250123054.1', 'WP_250123053.1', 'WP_250123303.1', 'WP_250123302.1', 'WP_250123553.1', 'WP_250125875.1', 'WP_250125874.1', 'WP_250125873.1', 'WP_250123523.1', 'WP_250123761.1', 'WP_250123762.1', 'WP_250123309.1', 'WP_250124820.1', 'WP_250125837.1', 'WP_250125763.1', 'WP_250124279.1', 'WP_250126461.1', 'WP_250126459.1', 'WP_250126458.1', 'WP_250125635.1', 'WP_250125879.1', 'WP_250125880.1', 'WP_250125431.1', 'WP_250125434.1', 'WP_250125436.1', 'WP_250122514.1', 'WP_250122513.1', 'WP_250122511.1', 'WP_250124136.1', 'WP_250123031.1', 'WP_250123029.1', 'WP_250123028.1', 'WP_250123025.1', 'WP_250123024.1', 'WP_250126536.1', 'WP_250125118.1', 'WP_250123020.1', 'WP_250122997.1', 'WP_275983367.1', 'WP_250122996.1', 'WP_250123733.1', 'WP_250122395.1', 'WP_250122394.1', 'WP_250122393.1', 'WP_250126843.1', 'WP_250126281.1', 'WP_250125805.1', 'WP_250121193.1', 'WP_275983362.1', 'WP_250122502.1', 'WP_250126198.1', 'WP_250123406.1', 'WP_250123291.1', 'WP_250121988.1', 'WP_250121987.1', 'WP_250126320.1', 'WP_250125465.1', 'WP_250125355.1', 'WP_250125349.1', 'WP_250125348.1', 'WP_250125728.1', 'WP_250124132.1', 'WP_250124133.1', 'WP_250121449.1', 'WP_250123351.1', 'WP_250125364.1', 'WP_250122954.1', 'WP_250126163.1', 'WP_250124171.1', 'WP_250125362.1', 'WP_250125361.1', 'WP_250125618.1', 'WP_250125617.1', 'WP_250122435.1', 'WP_250121991.1', 'WP_250121191.1', 'WP_250122614.1', 'WP_250124473.1', 'WP_250124472.1', 'WP_250121445.1', 'WP_250121443.1', 'WP_250125854.1', 'WP_250125232.1', 'WP_250123288.1', 'WP_250122189.1', 'WP_250122188.1', 'WP_250122187.1', 'WP_250122186.1', 'WP_250122185.1', 'WP_250126287.1', 'WP_250123130.1', 'WP_250123402.1', 'WP_250123401.1', 'WP_250122228.1', 'WP_250123834.1', 'WP_250124502.1', 'WP_250122696.1', 'WP_250121502.1', 'WP_250121501.1', 'WP_250121500.1', 'WP_250121499.1', 'WP_250121496.1', 'WP_250121495.1', 'WP_250121494.1', 'WP_250121492.1', 'WP_250121489.1', 'WP_250122517.1', 'WP_250122515.1', 'WP_250122342.1', 'WP_250122602.1', 'WP_250122599.1', 'WP_250122598.1', 'WP_250122596.1', 'WP_250122595.1', 'WP_250124776.1', 'WP_250125102.1', 'WP_250122091.1', 'WP_250122092.1', 'WP_250122094.1', 'WP_250122096.1', 'WP_250122863.1', 'WP_250124187.1', 'WP_250123056.1', 'WP_250121947.1', 'WP_250122507.1', 'WP_250121948.1', 'WP_250123701.1', 'WP_250122368.1', 'WP_250123649.1', 'WP_250124276.1', 'WP_250123648.1', 'WP_250123647.1', 'WP_250121909.1', 'WP_250121904.1', 'WP_250125318.1', 'WP_250124379.1', 'WP_250124380.1', 'WP_250124382.1', 'WP_250124383.1', 'WP_250123613.1', 'WP_250123610.1', 'WP_250123609.1', 'WP_250123820.1', 'WP_250122258.1', 'WP_250121166.1', 'WP_250121167.1', 'WP_250121867.1', 'WP_250121866.1', 'WP_250121864.1', 'WP_250121863.1', 'WP_250121862.1', 'WP_250121861.1', 'WP_250122139.1', 'WP_250122140.1', 'WP_250125189.1', 'WP_250125188.1', 'WP_250123954.1', 'WP_250123953.1', 'WP_250123952.1', 'WP_250123950.1', 'WP_250123948.1', 'WP_250123946.1', 'WP_250123945.1', 'WP_250121595.1', 'WP_250123943.1', 'WP_250123934.1', 'WP_250125557.1', 'WP_250125554.1', 'WP_250122788.1', 'WP_250122827.1', 'WP_250124346.1', 'WP_250124342.1', 'WP_250124339.1', 'WP_250124338.1', 'WP_250124336.1', 'WP_250124334.1', 'WP_250125166.1', 'WP_250121228.1', 'WP_250121227.1', 'WP_250121586.1', 'WP_250121590.1', 'WP_250121591.1', 'WP_250122244.1', 'WP_250122243.1', 'WP_250126474.1', 'WP_250125717.1', 'WP_250125715.1', 'WP_250121156.1', 'WP_250125714.1', 'WP_250125137.1', 'WP_250122270.1', 'WP_250125178.1', 'WP_250123871.1', 'WP_250123869.1', 'WP_250123866.1', 'WP_250123858.1', 'WP_250125605.1', 'WP_250125609.1', 'WP_250125453.1', 'WP_250125454.1', 'WP_250125455.1', 'WP_250126129.1', 'WP_250126130.1', 'WP_250126701.1', 'WP_250121687.1', 'WP_250122202.1', 'WP_250122391.1', 'WP_250122392.1', 'WP_275983365.1', 'WP_250122747.1', 'WP_250124017.1', 'WP_250124018.1', 'WP_250124026.1', 'WP_250126144.1', 'WP_250122085.1', 'WP_250121393.1', 'WP_250125535.1', 'WP_250126192.1', 'WP_250124744.1', 'WP_250124745.1', 'WP_250124746.1', 'WP_250124747.1', 'WP_250124748.1', 'WP_250125652.1', 'WP_250121387.1', 'WP_250121388.1', 'WP_250121390.1', 'WP_250124277.1', 'WP_250125273.1', 'WP_250124293.1', 'WP_250124006.1', 'WP_250125915.1', 'WP_250125744.1', 'WP_250122131.1', 'WP_250122130.1', 'WP_250125134.1', 'WP_250125120.1', 'WP_250124655.1', 'WP_250124653.1', 'WP_250125096.1', 'WP_250125901.1', 'WP_250125899.1', 'WP_250122917.1', 'WP_250124311.1', 'WP_250121614.1', 'WP_250122451.1', 'WP_250125241.1', 'WP_250122456.1', 'WP_250122453.1', 'WP_250122452.1', 'WP_250121381.1', 'WP_256478610.1', 'WP_250121172.1', 'WP_250121171.1', 'WP_250121170.1', 'WP_250124493.1', 'WP_250124492.1', 'WP_250123400.1', 'WP_250124491.1', 'WP_250124481.1', 'WP_250124479.1', 'WP_250124478.1', 'WP_250124476.1', 'WP_250121803.1', 'WP_250125698.1', 'WP_250125697.1', 'WP_250121996.1', 'WP_250121997.1', 'WP_250121998.1', 'WP_250122410.1', 'WP_250122412.1', 'WP_250122413.1', 'WP_275983368.1', 'WP_250123205.1', 'WP_250121571.1', 'WP_250126066.1', 'WP_250126065.1', 'WP_250126064.1', 'WP_250126062.1', 'WP_250126060.1', 'WP_250121510.1', 'WP_250121511.1', 'WP_250121508.1', 'WP_250124037.1', 'WP_250121276.1', 'WP_250122336.1', 'WP_250123720.1', 'WP_250123721.1', 'WP_250123723.1', 'WP_250123725.1', 'WP_250124780.1', 'WP_250123111.1', 'WP_250123110.1', 'WP_250125197.1', 'WP_250122525.1', 'WP_250122527.1', 'WP_250125412.1', 'WP_250125414.1', 'WP_250125415.1', 'WP_250125416.1', 'WP_250125417.1', 'WP_250124505.1', 'WP_250124503.1', 'WP_250121235.1', 'WP_250125149.1', 'WP_250124134.1', 'WP_250124783.1', 'WP_250124784.1', 'WP_250124791.1', 'WP_250125833.1', 'WP_250124794.1', 'WP_250122505.1', 'WP_250124111.1', 'WP_250124112.1', 'WP_250124114.1', 'WP_250124116.1', 'WP_250124119.1', 'WP_250124122.1', 'WP_275983373.1', 'WP_250126285.1', 'WP_250124457.1', 'WP_250123176.1', 'WP_250123174.1', 'WP_250122476.1', 'WP_250122475.1', 'WP_250122464.1', 'WP_250125260.1', 'WP_250122639.1', 'WP_250124079.1', 'WP_250125257.1', 'WP_250122059.1', 'WP_250122058.1', 'WP_250122055.1', 'WP_250121455.1', 'WP_250122386.1', 'WP_250122385.1', 'WP_250126613.1', 'WP_250126166.1', 'WP_250126165.1', 'WP_250122860.1', 'WP_250122859.1', 'WP_250122858.1', 'WP_250122444.1', 'WP_250124426.1', 'WP_250124427.1', 'WP_250124428.1', 'WP_250122903.1', 'WP_250123764.1', 'WP_250124060.1', 'WP_250122322.1', 'WP_250124061.1', 'WP_250124064.1', 'WP_250121716.1', 'WP_250126697.1', 'WP_250124314.1', 'WP_250124313.1', 'WP_250124312.1', 'WP_250122389.1', 'WP_250122390.1', 'WP_250122097.1', 'WP_250121372.1', 'WP_250121373.1', 'WP_250121374.1', 'WP_250121375.1', 'WP_250121376.1', 'WP_250121377.1', 'WP_250121378.1', 'WP_250121379.1', 'WP_250121380.1', 'WP_250124442.1', 'WP_250124441.1', 'WP_250124438.1', 'WP_250124437.1', 'WP_250124436.1', 'WP_250122103.1', 'WP_250125299.1', 'WP_250125300.1', 'WP_250124651.1', 'WP_250124645.1', 'WP_250121518.1', 'WP_250125706.1', 'WP_250122750.1', 'WP_250122751.1', 'WP_250122753.1', 'WP_250122754.1', 'WP_250122100.1', 'WP_250121463.1', 'WP_250126123.1', 'WP_250126125.1', 'WP_250126127.1', 'WP_250126128.1', 'WP_250124434.1', 'WP_250125722.1', 'WP_250125723.1', 'WP_250122536.1', 'WP_250125326.1', 'WP_250124737.1', 'WP_250124512.1', 'WP_250124513.1', 'WP_250126717.1', 'WP_250125386.1', 'WP_250125387.1', 'WP_250125388.1', 'WP_250125389.1', 'WP_250125391.1', 'WP_250122591.1', 'WP_250122590.1', 'WP_250123326.1', 'WP_250123329.1', 'WP_250123330.1', 'WP_250126446.1', 'WP_250123758.1', 'WP_250124618.1', 'WP_250124620.1', 'WP_250124621.1', 'WP_250124631.1', 'WP_256478942.1', 'WP_250124633.1', 'WP_250124634.1', 'WP_250124637.1', 'WP_250124638.1', 'WP_250121432.1', 'WP_250125109.1', 'WP_250126145.1', 'WP_250126146.1', 'WP_250126147.1', 'WP_250126148.1', 'WP_250126098.1', 'WP_250125128.1', 'WP_250123062.1', 'WP_250123071.1', 'WP_250123073.1', 'WP_250122868.1', 'WP_250125767.1', 'WP_250123891.1', 'WP_250123892.1', 'WP_250124177.1', 'WP_250123729.1', 'WP_250123728.1', 'WP_250126256.1', 'WP_250125261.1', 'WP_250125644.1', 'WP_250125029.1', 'WP_250121941.1', 'WP_250121937.1', 'WP_250124801.1', 'WP_250124802.1', 'WP_250124804.1', 'WP_250124809.1', 'WP_250123284.1', 'WP_250123283.1', 'WP_250123282.1', 'WP_250122010.1', 'WP_250122009.1', 'WP_250122004.1', 'WP_250122003.1', 'WP_250122002.1', 'WP_250122001.1', 'WP_250122000.1', 'WP_250123213.1', 'WP_250123214.1', 'WP_250123217.1', 'WP_250123218.1', 'WP_250123380.1', 'WP_250123887.1', 'WP_250123888.1', 'WP_250123889.1', 'WP_250125550.1', 'WP_250121848.1', 'WP_250125543.1', 'WP_250124397.1', 'WP_250125540.1', 'WP_250125398.1', 'WP_250125400.1', 'WP_250125401.1', 'WP_250123484.1', 'WP_250125292.1', 'WP_250125286.1', 'WP_250125285.1', 'WP_275983383.1', 'WP_250125280.1', 'WP_250125093.1', 'WP_250125126.1', 'WP_250123048.1', 'WP_250123050.1', 'WP_250123051.1', 'WP_250121537.1', 'WP_250121538.1', 'WP_250122062.1', 'WP_250122063.1', 'WP_250122065.1', 'WP_250122066.1', 'WP_250122226.1', 'WP_250125312.1', 'WP_250121902.1', 'WP_250121901.1', 'WP_250123419.1', 'WP_250123420.1', 'WP_250124498.1', 'WP_250124661.1', 'WP_250124658.1', 'WP_250124657.1', 'WP_250124656.1', 'WP_250124012.1', 'WP_250124013.1', 'WP_250123150.1', 'WP_250123151.1', 'WP_250123152.1', 'WP_250124010.1', 'WP_250124009.1', 'WP_250124008.1', 'WP_250124007.1', 'WP_250124148.1', 'WP_250126573.1', 'WP_250125344.1', 'WP_250125242.1', 'WP_250124199.1', 'WP_250123126.1', 'WP_250121593.1', 'WP_275983392.1', 'WP_250124986.1', 'WP_250124985.1', 'WP_250125009.1', 'WP_250125018.1', 'WP_250125003.1', 'WP_250124702.1', 'WP_250125271.1', 'WP_250125343.1', 'WP_250125338.1', 'WP_250125337.1', 'WP_250125336.1', 'WP_250125335.1', 'WP_250125334.1', 'WP_250126101.1', 'WP_250126102.1', 'WP_250126103.1', 'WP_250124552.1', 'WP_250126104.1', 'WP_250125580.1', 'WP_250125579.1', 'WP_250125578.1', 'WP_250125577.1', 'WP_250125576.1', 'WP_250125575.1', 'WP_250125574.1', 'WP_250125573.1', 'WP_250122153.1', 'WP_250122154.1', 'WP_250122155.1', 'WP_250122161.1', 'WP_250122162.1', 'WP_250121296.1', 'WP_250121295.1', 'WP_250121294.1', 'WP_250125445.1', 'WP_250121617.1', 'WP_250122793.1', 'WP_250122798.1', 'WP_250122581.1', 'WP_250122577.1', 'WP_250122576.1', 'WP_250121828.1', 'WP_250121831.1', 'WP_250122916.1', 'WP_250123193.1', 'WP_250124172.1', 'WP_250121823.1', 'WP_250121822.1', 'WP_250121821.1', 'WP_250121820.1', 'WP_250121819.1', 'WP_250121818.1', 'WP_250121816.1', 'WP_250122381.1', 'WP_250122379.1', 'WP_250121705.1', 'WP_250121238.1', 'WP_250121239.1', 'WP_250125827.1', 'WP_250125825.1', 'WP_250122018.1', 'WP_250122019.1', 'WP_250123582.1', 'WP_250123583.1', 'WP_250123584.1', 'WP_250123588.1', 'WP_250123589.1', 'WP_250123590.1', 'WP_250122028.1', 'WP_250122029.1', 'WP_250122034.1', 'WP_250122035.1', 'WP_250124090.1', 'WP_250122036.1', 'WP_250121533.1', 'WP_250121534.1', 'WP_250123052.1', 'WP_275983398.1', 'WP_250124411.1', 'WP_250124412.1', 'WP_250124416.1', 'WP_250124417.1', 'WP_250124418.1', 'WP_250123099.1', 'WP_250123098.1', 'WP_250123096.1', 'WP_250123038.1', 'WP_250123039.1', 'WP_250123040.1', 'WP_250123044.1', 'WP_250123045.1', 'WP_250123046.1', 'WP_250123047.1', 'WP_250122787.1', 'WP_250122586.1', 'WP_250122587.1', 'WP_250124231.1', 'WP_250124230.1', 'WP_250124469.1', 'WP_250123746.1', 'WP_250123748.1', 'WP_250121181.1', 'WP_250121955.1', 'WP_250121956.1', 'WP_250121961.1', 'WP_250121962.1', 'WP_250121965.1', 'WP_250126224.1', 'WP_250121966.1', 'WP_250121967.1', 'WP_250121968.1', 'WP_250121969.1', 'WP_250121970.1', 'WP_250121971.1', 'WP_250125938.1', 'WP_250125939.1', 'WP_250125940.1', 'WP_250125941.1', 'WP_250125942.1', 'WP_250125212.1', 'WP_250125211.1', 'WP_250123774.1', 'WP_250123780.1', 'WP_250124738.1', 'WP_250124739.1', 'WP_250122725.1', 'WP_250122726.1', 'WP_250122727.1', 'WP_250122728.1', 'WP_250122729.1', 'WP_250123088.1', 'WP_250125695.1', 'WP_250125694.1', 'WP_250126121.1', 'WP_250124154.1', 'WP_250122554.1', 'WP_250122550.1', 'WP_250123819.1', 'WP_250123818.1', 'WP_250123817.1', 'WP_250122250.1', 'WP_250122264.1', 'WP_250122262.1', 'WP_250122261.1', 'WP_250125993.1', 'WP_250125992.1', 'WP_250125991.1', 'WP_250125990.1', 'WP_250125989.1', 'WP_250125988.1', 'WP_250125987.1', 'WP_250125986.1', 'WP_250125985.1', 'WP_250125984.1', 'WP_250125983.1', 'WP_250126203.1', 'WP_250125982.1', 'WP_250125981.1', 'WP_250125980.1', 'WP_250125979.1', 'WP_250125978.1', 'WP_250125977.1', 'WP_250125976.1', 'WP_250125975.1', 'WP_041548398.1', 'WP_250125974.1', 'WP_250125973.1', 'WP_250125972.1', 'WP_250125971.1', 'WP_250125970.1', 'WP_250125969.1', 'WP_250125968.1', 'WP_250125967.1', 'WP_250125966.1', 'WP_250125965.1', 'WP_250125960.1', 'WP_250125959.1', 'WP_250125958.1', 'WP_250125957.1', 'WP_250126085.1', 'WP_250126083.1', 'WP_250126081.1', 'WP_250126080.1', 'WP_250125798.1', 'WP_250125799.1', 'WP_250125153.1', 'WP_250124750.1', 'WP_250123772.1', 'WP_250123767.1', 'WP_250123763.1', 'WP_250121254.1', 'WP_250121258.1', 'WP_250123735.1', 'WP_250125679.1', 'WP_250123375.1', 'WP_250123377.1', 'WP_250122471.1', 'WP_250122460.1', 'WP_250121718.1', 'WP_250121720.1', 'WP_250121721.1', 'WP_250121723.1', 'WP_250124874.1', 'WP_250124875.1', 'WP_250125659.1', 'WP_250125660.1', 'WP_250125661.1', 'WP_250125670.1', 'WP_250125671.1', 'WP_250121391.1', 'WP_250121893.1', 'WP_250121891.1', 'WP_250122235.1', 'WP_250122237.1', 'WP_250122431.1', 'WP_250125475.1', 'WP_250121724.1', 'WP_250125593.1', 'WP_250122433.1', 'WP_250123985.1', 'WP_250121317.1', 'WP_250122842.1', 'WP_250122850.1', 'WP_250122851.1', 'WP_250122852.1', 'WP_250126498.1', 'WP_250124594.1', 'WP_250124595.1', 'WP_250124596.1', 'WP_250125209.1', 'WP_250125208.1', 'WP_250122906.1', 'WP_250126047.1', 'WP_250122544.1', 'WP_250122545.1', 'WP_250122546.1', 'WP_250121425.1', 'WP_250122420.1', 'WP_250122421.1', 'WP_275983359.1', 'WP_275983360.1', 'WP_250122422.1', 'WP_250124234.1', 'WP_250122423.1', 'WP_250125104.1', 'WP_250126786.1', 'WP_250125106.1', 'WP_250121981.1', 'WP_250121980.1', 'WP_250121931.1', 'WP_250124799.1', 'WP_250124983.1', 'WP_250124697.1', 'WP_250124696.1', 'WP_250124695.1', 'WP_250124694.1', 'WP_250121855.1', 'WP_250122109.1', 'WP_250122110.1', 'WP_250125332.1', 'WP_250125333.1', 'WP_250126095.1', 'WP_250121856.1', 'WP_250124721.1', 'WP_250121216.1', 'WP_250125616.1', 'WP_250121219.1', 'WP_250121220.1', 'WP_250121221.1', 'WP_250125686.1', 'WP_250122057.1', 'WP_250122624.1', 'WP_250122838.1', 'WP_250122861.1', 'WP_250122765.1', 'WP_250124797.1', 'WP_250125542.1', 'WP_250121524.1', 'WP_250124275.1', 'WP_250123645.1', 'WP_250123644.1', 'WP_250125949.1', 'WP_250126090.1', 'WP_250126091.1', 'WP_250123840.1', 'WP_250123841.1', 'WP_250125713.1', 'WP_250126076.1', 'WP_250126077.1', 'WP_250123141.1', 'WP_250123140.1', 'WP_250123139.1', 'WP_250123138.1', 'WP_256478733.1', 'WP_250123136.1', 'WP_250123135.1', 'WP_250123134.1', 'WP_250121667.1', 'WP_250126133.1', 'WP_250126134.1', 'WP_250121852.1', 'WP_250121853.1', 'WP_250122951.1', 'WP_250122949.1', 'WP_250122947.1', 'WP_250124818.1', 'WP_250124817.1', 'WP_250124816.1', 'WP_250124815.1', 'WP_250121942.1', 'WP_250124259.1', 'WP_250124263.1', 'WP_250125561.1', 'WP_250125562.1', 'WP_250123793.1', 'WP_250122779.1', 'WP_250126319.1', 'WP_250121155.1', 'WP_250121839.1', 'WP_250123524.1', 'WP_250124583.1', 'WP_250125820.1', 'WP_250125817.1', 'WP_250124841.1', 'WP_250123313.1', 'WP_250123314.1', 'WP_250121787.1', 'WP_250124363.1', 'WP_250124369.1', 'WP_250124371.1', 'WP_250124372.1', 'WP_250124373.1', 'WP_250124376.1', 'WP_250125474.1', 'WP_250126190.1', 'WP_250125859.1', 'WP_250125095.1', 'WP_250125468.1', 'WP_250121700.1', 'WP_250121696.1', 'WP_250121689.1', 'WP_250121688.1', 'WP_250121338.1', 'WP_250125233.1', 'WP_250123163.1', 'WP_250124038.1', 'WP_250123412.1', 'WP_250123408.1', 'WP_250123407.1', 'WP_275983366.1', 'WP_250122873.1', 'WP_250122876.1', 'WP_250122877.1', 'WP_250122879.1', 'WP_250122892.1', 'WP_250122885.1', 'WP_250122884.1', 'WP_250122883.1', 'WP_250121916.1', 'WP_250121915.1', 'WP_250121914.1', 'WP_250121913.1', 'WP_250122360.1', 'WP_250124819.1', 'WP_250122355.1', 'WP_250123851.1', 'WP_275983372.1', 'WP_250123852.1', 'WP_250124735.1', 'WP_250124728.1', 'WP_250124730.1', 'WP_250124731.1', 'WP_250124732.1', 'WP_250122965.1', 'WP_250122966.1', 'WP_250122967.1', 'WP_250121985.1', 'WP_250121986.1', 'WP_250122334.1', 'WP_250124773.1', 'WP_250124772.1', 'WP_250124770.1', 'WP_250121881.1', 'WP_250121878.1', 'WP_250122333.1', 'WP_250122329.1', 'WP_250122327.1', 'WP_250125650.1', 'WP_250125885.1', 'WP_250125887.1', 'WP_250122315.1', 'WP_250122316.1', 'WP_250123084.1', 'WP_250123133.1', 'WP_250124354.1', 'WP_250124355.1', 'WP_250124357.1', 'WP_250125866.1', 'WP_250123392.1', 'WP_250121153.1', 'WP_250123393.1', 'WP_250123394.1', 'WP_250123395.1', 'WP_250122357.1', 'WP_250121643.1', 'WP_250121577.1', 'WP_250123342.1', 'WP_250123341.1', 'WP_250121215.1', 'WP_250126197.1', 'WP_250125793.1', 'WP_250125792.1', 'WP_250124611.1', 'WP_250121242.1', 'WP_250121241.1', 'WP_250122281.1', 'WP_250124733.1', 'WP_250122731.1', 'WP_250125256.1', 'WP_250125655.1', 'WP_250125882.1', 'WP_250123711.1', 'WP_250123718.1', 'WP_250123719.1', 'WP_250123192.1', 'WP_250125646.1', 'WP_250125647.1', 'WP_250125226.1', 'WP_250125225.1', 'WP_250125224.1', 'WP_250125345.1', 'WP_250125346.1', 'WP_250123530.1', 'WP_250125216.1', 'WP_250121743.1', 'WP_250124002.1', 'WP_250124001.1', 'WP_250124000.1', 'WP_250123999.1', 'WP_250125860.1', 'WP_250124543.1', 'WP_250124542.1', 'WP_250124541.1', 'WP_250124540.1', 'WP_250124539.1', 'WP_250124532.1', 'WP_250124528.1', 'WP_250124527.1', 'WP_250124526.1', 'WP_250123913.1', 'WP_250124525.1', 'WP_250124524.1', 'WP_250124522.1', 'WP_250124520.1', 'WP_250124518.1', 'WP_250124517.1', 'WP_250124399.1', 'WP_250124395.1', 'WP_250124394.1', 'WP_250124390.1', 'WP_250124389.1', 'WP_250121347.1', 'WP_250126015.1', 'WP_250122200.1', 'WP_250122199.1', 'WP_250121923.1', 'WP_250123842.1', 'WP_250125478.1', 'WP_250125896.1', 'WP_250125222.1', 'WP_250125220.1', 'WP_250124468.1', 'WP_250122605.1', 'WP_250122606.1', 'WP_250122607.1', 'WP_250122608.1', 'WP_250122611.1', 'WP_250122612.1', 'WP_250123551.1', 'WP_250123550.1', 'WP_250123549.1', 'WP_250123548.1', 'WP_250123547.1', 'WP_250123546.1', 'WP_250123532.1', 'WP_250125591.1', 'WP_256478749.1', 'WP_250125522.1', 'WP_250125521.1', 'WP_250125488.1', 'WP_250125487.1', 'WP_250125486.1', 'WP_250125485.1', 'WP_250125484.1', 'WP_250125483.1', 'WP_250125482.1', 'WP_250122899.1', 'WP_250122901.1', 'WP_250122902.1', 'WP_250123343.1', 'WP_250121585.1', 'WP_250122216.1', 'WP_250121361.1', 'WP_250121362.1', 'WP_250121363.1', 'WP_250121845.1', 'WP_250121844.1', 'WP_250121843.1', 'WP_250121842.1', 'WP_250126005.1', 'WP_250123308.1', 'WP_250123307.1', 'WP_250121768.1', 'WP_250121769.1', 'WP_250121770.1', 'WP_250121772.1', 'WP_275983357.1', 'WP_250121774.1', 'WP_250121778.1', 'WP_250121551.1', 'WP_250121557.1', 'WP_250121558.1', 'WP_250121560.1', 'WP_250125223.1', 'WP_250123273.1', 'WP_250123272.1', 'WP_250122857.1', 'WP_250121568.1', 'WP_250122524.1', 'WP_250123759.1', 'WP_250124460.1', 'WP_250125124.1', 'WP_250125123.1', 'WP_250125122.1', 'WP_250121876.1', 'WP_250126106.1', 'WP_250126107.1', 'WP_250124905.1', 'WP_250126115.1', 'WP_250124031.1', 'WP_250125411.1', 'WP_250125410.1', 'WP_250123776.1', 'WP_250125409.1', 'WP_250121335.1', 'WP_250124166.1', 'WP_250122242.1', 'WP_250125733.1', 'WP_250124039.1', 'WP_250122229.1', 'WP_250121674.1', 'WP_250123700.1', 'WP_250125395.1', 'WP_250125394.1', 'WP_250125393.1', 'WP_250125392.1', 'WP_250121196.1', 'WP_250121195.1', 'WP_250125677.1', 'WP_250126466.1', 'WP_250126465.1', 'WP_250126464.1', 'WP_250126463.1', 'WP_250121742.1', 'WP_250125011.1', 'WP_250125069.1', 'WP_250122771.1', 'WP_250124253.1', 'WP_250122122.1', 'WP_250124251.1', 'WP_250124250.1', 'WP_250126079.1', 'WP_250122123.1', 'WP_250122125.1', 'WP_250122127.1', 'WP_250122631.1', 'WP_250124723.1', 'WP_250125419.1', 'WP_250125418.1', 'WP_250123894.1', 'WP_250123895.1', 'WP_250123896.1', 'WP_250123348.1', 'WP_250125340.1', 'WP_250123349.1', 'WP_250122946.1', 'WP_250122945.1', 'WP_250122508.1', 'WP_250121327.1', 'WP_250121331.1', 'WP_250121332.1', 'WP_250122629.1', 'WP_250123535.1', 'WP_250123963.1', 'WP_250122718.1', 'WP_250122717.1', 'WP_250122308.1', 'WP_250122309.1', 'WP_250124749.1', 'WP_250125368.1', 'WP_250125373.1', 'WP_250124757.1', 'WP_250124756.1', 'WP_250124755.1', 'WP_250122780.1', 'WP_250122781.1', 'WP_250124035.1', 'WP_250124890.1', 'WP_250121267.1', 'WP_250124608.1', 'WP_250124607.1', 'WP_250124606.1', 'WP_250124605.1', 'WP_250124604.1', 'WP_250124602.1', 'WP_250122716.1', 'WP_250122715.1', 'WP_250122714.1', 'WP_250126383.1', 'WP_250122815.1', 'WP_250126379.1', 'WP_250126380.1', 'WP_250126381.1', 'WP_250126386.1', 'WP_250126389.1', 'WP_250125839.1', 'WP_250125840.1', 'WP_250125841.1', 'WP_250125843.1', 'WP_250125844.1', 'WP_250125845.1', 'WP_250125846.1', 'WP_250125848.1', 'WP_250125849.1', 'WP_250125850.1', 'WP_250125851.1', 'WP_250125852.1', 'WP_250125853.1', 'WP_250123915.1', 'WP_250123916.1', 'WP_250123917.1', 'WP_250123918.1', 'WP_250122324.1', 'WP_250121597.1', 'WP_250122620.1', 'WP_250122622.1', 'WP_250124092.1', 'WP_250124091.1', 'WP_250125834.1', 'WP_250125835.1', 'WP_250125528.1', 'WP_250124162.1', 'WP_250124163.1', 'WP_250124167.1', 'WP_250122402.1', 'WP_250121974.1', 'WP_250122398.1', 'WP_250121790.1', 'WP_250121791.1', 'WP_250121792.1', 'WP_250121793.1', 'WP_250121715.1', 'WP_250123898.1', 'WP_250125904.1', 'WP_250121615.1', 'WP_250124032.1', 'WP_250121838.1', 'WP_250121837.1', 'WP_250121836.1', 'WP_250121835.1', 'WP_250121834.1', 'WP_250121833.1', 'WP_250123666.1', 'WP_250126633.1', 'WP_250123652.1', 'WP_250122209.1', 'WP_250124296.1', 'WP_250124304.1', 'WP_250121283.1', 'WP_250121284.1', 'WP_250121285.1', 'WP_250121286.1', 'WP_250121287.1', 'WP_250121288.1', 'WP_250121289.1', 'WP_250121290.1', 'WP_250121291.1', 'WP_250121796.1', 'WP_250121918.1', 'WP_250121919.1', 'WP_250121920.1', 'WP_250121921.1', 'WP_250121922.1', 'WP_250121802.1', 'WP_250122072.1', 'WP_250121265.1', 'WP_250124384.1', 'WP_250124386.1', 'WP_250124387.1', 'WP_250124351.1', 'WP_250124352.1', 'WP_250122616.1', 'WP_250123561.1', 'WP_250123559.1', 'WP_250123557.1', 'WP_250123554.1', 'WP_250123619.1', 'WP_250123620.1', 'WP_256478962.1', 'WP_250121440.1', 'WP_250124396.1', 'WP_250122995.1', 'WP_250122994.1', 'WP_250122990.1', 'WP_250122987.1', 'WP_250122986.1', 'WP_250122985.1', 'WP_250122980.1', 'WP_250122979.1', 'WP_250122978.1', 'WP_250126049.1', 'WP_250122491.1', 'WP_250123293.1', 'WP_250123294.1', 'WP_250123296.1', 'WP_250123297.1', 'WP_250123298.1', 'WP_250123299.1', 'WP_250123995.1', 'WP_250123997.1', 'WP_250123663.1', 'WP_250123195.1', 'WP_250123194.1', 'WP_250121210.1', 'WP_250123681.1', 'WP_250121211.1', 'WP_250121212.1', 'WP_250122232.1', 'WP_250126729.1', 'WP_250125536.1', 'WP_250121307.1', 'WP_250121308.1', 'WP_250121310.1', 'WP_250123032.1', 'WP_250124407.1', 'WP_250125121.1', 'WP_250125691.1', 'WP_250123153.1', 'WP_250126794.1', 'WP_250124258.1', 'WP_250123932.1', 'WP_250123931.1', 'WP_250123930.1', 'WP_250125100.1', 'WP_250123280.1', 'WP_250125587.1', 'WP_250123275.1', 'WP_250123901.1', 'WP_250123902.1', 'WP_250123903.1', 'WP_250121277.1', 'WP_250121275.1', 'WP_250121272.1', 'WP_250121271.1', 'WP_250121268.1', 'WP_250121319.1', 'WP_250121318.1', 'WP_250121314.1', 'WP_250121313.1', 'WP_250121312.1', 'WP_250125155.1', 'WP_250125156.1', 'WP_250125135.1', 'WP_250121184.1', 'WP_250121187.1', 'WP_250121188.1', 'WP_250121190.1', 'WP_250125263.1', 'WP_250125262.1', 'WP_250121679.1', 'WP_250125796.1', 'WP_250124045.1', 'WP_250123191.1', 'WP_250124239.1', 'WP_250122486.1', 'WP_250122192.1', 'WP_250125382.1', 'WP_250125381.1', 'WP_250125378.1', 'WP_250124706.1', 'WP_250121274.1', 'WP_250125675.1', 'WP_250121548.1', 'WP_250125923.1', 'WP_250125405.1', 'WP_250125402.1', 'WP_250123540.1', 'WP_250124508.1', 'WP_250126839.1', 'WP_250126264.1', 'WP_250125667.1', 'WP_250121641.1', 'WP_250126354.1', 'WP_250126371.1', 'WP_250126370.1', 'WP_250126336.1', 'WP_250126337.1', 'WP_250126330.1', 'WP_250126332.1', 'WP_250126333.1', 'WP_250125766.1', 'WP_250126533.1', 'WP_250124170.1', 'WP_250122689.1', 'WP_250126544.1', 'WP_250124765.1', 'WP_250122214.1', 'WP_250126648.1', 'WP_250121650.1', 'WP_250126543.1', 'WP_250126810.1', 'WP_250126413.1', 'WP_250123507.1', 'WP_250124918.1', 'WP_256478980.1', 'WP_250121162.1', 'WP_250124639.1', 'WP_250126552.1', 'WP_250126549.1', 'WP_250126548.1', 'WP_250126547.1', 'WP_250126545.1', 'WP_250124349.1', 'WP_250124348.1', 'WP_250126372.1', 'WP_250122528.1', 'WP_250124327.1', 'WP_250124324.1', 'WP_250124323.1', 'WP_250124321.1', 'WP_250121528.1', 'WP_250121408.1', 'WP_250121409.1', 'WP_250121412.1', 'WP_250121413.1', 'WP_250121414.1', 'WP_250121436.1', 'WP_250121565.1', 'WP_250123267.1', 'WP_250123266.1', 'WP_250123265.1', 'WP_250123254.1', 'WP_250123253.1', 'WP_250123252.1', 'WP_250123251.1', 'WP_250123249.1', 'WP_250123250.1', 'WP_250122083.1', 'WP_250121485.1', 'WP_250122175.1', 'WP_250123618.1', 'WP_275983356.1', 'WP_250123643.1', 'WP_250121158.1', 'WP_250121157.1', 'WP_250125828.1', 'WP_250124587.1', 'WP_250124546.1', 'WP_250124547.1', 'WP_250124548.1', 'WP_250124550.1', 'WP_250125200.1', 'WP_250121521.1', 'WP_250121519.1', 'WP_250123318.1', 'WP_250123322.1', 'WP_250123323.1', 'WP_250123357.1', 'WP_250122426.1', 'WP_250122427.1', 'WP_250121799.1', 'WP_250121704.1', 'WP_250124405.1', 'WP_250123679.1', 'WP_250123678.1', 'WP_250123677.1', 'WP_250122561.1', 'WP_250123816.1', 'WP_250123667.1', 'WP_250123670.1', 'WP_250123671.1', 'WP_250123672.1', 'WP_250123673.1', 'WP_250121744.1', 'WP_250124614.1', 'WP_250124613.1', 'WP_250122430.1', 'WP_250122349.1', 'WP_250122141.1', 'WP_250122142.1', 'WP_250122143.1', 'WP_250125116.1', 'WP_250123030.1', 'WP_250122510.1', 'WP_256478951.1', 'WP_250125442.1', 'WP_250125441.1', 'WP_250125440.1', 'WP_250125439.1', 'WP_250125438.1', 'WP_250125437.1', 'WP_250125435.1', 'WP_250125433.1', 'WP_250125432.1', 'WP_250125430.1', 'WP_250125429.1', 'WP_250125428.1', 'WP_250125427.1', 'WP_250125426.1', 'WP_250125425.1', 'WP_250125424.1', 'WP_250121730.1', 'WP_250123335.1', 'WP_250125358.1', 'WP_250122246.1', 'WP_250125762.1', 'WP_250123310.1', 'WP_250123311.1', 'WP_250126561.1', 'WP_250123722.1', 'WP_250123128.1', 'WP_275983355.1', 'WP_250123881.1', 'WP_250123882.1', 'WP_250123897.1', 'WP_250123258.1', 'WP_256478909.1', 'WP_250121871.1', 'WP_250121872.1', 'WP_250121874.1', 'WP_250126219.1', 'WP_250125213.1', 'WP_250123148.1', 'WP_250123147.1', 'WP_250123146.1', 'WP_250124331.1', 'WP_250123145.1', 'WP_250123181.1', 'WP_250125088.1', 'WP_250122675.1', 'WP_250122673.1', 'WP_250122672.1', 'WP_250122671.1', 'WP_250122669.1', 'WP_250122668.1', 'WP_256478693.1', 'WP_250122666.1', 'WP_250121451.1', 'WP_250121450.1', 'WP_256478922.1', 'WP_250121804.1', 'WP_250122735.1', 'WP_250123921.1', 'WP_250125658.1', 'WP_250125863.1', 'WP_250124573.1', 'WP_250122501.1', 'WP_250122500.1', 'WP_250121671.1', 'WP_250121194.1', 'WP_250123260.1', 'WP_250125806.1', 'WP_250122396.1', 'WP_250123731.1', 'WP_250122864.1', 'WP_250122865.1', 'WP_250122998.1', 'WP_250125059.1', 'WP_250125049.1', 'WP_250125037.1', 'WP_250125044.1', 'WP_250125041.1', 'WP_250125043.1', 'WP_250125042.1', 'WP_250123015.1', 'WP_250123016.1', 'WP_250123017.1', 'WP_250123018.1', 'WP_250123019.1', 'WP_250126239.1', 'WP_250123021.1', 'WP_250126292.1', 'WP_250123026.1', 'WP_250123027.1', 'WP_250126112.1', 'WP_250125944.1', 'WP_250121587.1', 'WP_250126360.1', 'WP_250124914.1', 'WP_250126746.1', 'WP_250126736.1', 'WP_190736661.1', 'WP_250126671.1', 'WP_250124913.1', 'WP_250124903.1', 'WP_250124904.1', 'WP_250124910.1', 'WP_250124909.1', 'WP_250124908.1', 'WP_250124907.1', 'WP_250124282.1', 'WP_250122468.1', 'WP_250123682.1', 'WP_250124664.1', 'WP_250122206.1', 'WP_250122211.1', 'WP_250122213.1', 'WP_250122277.1', 'WP_250125629.1', 'WP_250126452.1', 'WP_250125636.1', 'WP_250125642.1', 'WP_250125641.1', 'WP_250122484.1', 'WP_250122494.1', 'WP_250122495.1', 'WP_250122496.1', 'WP_250122497.1', 'WP_250122488.1', 'WP_250126051.1', 'WP_250121761.1', 'WP_250122107.1', 'WP_250126805.1', 'WP_250121189.1', 'WP_250124510.1', 'WP_250124964.1', 'WP_250123512.1', 'WP_250124928.1', 'WP_250126021.1', 'WP_250125505.1', 'WP_250123984.1', 'WP_250124138.1', 'WP_250124137.1', 'WP_250124420.1', 'WP_250123411.1', 'WP_250124291.1', 'WP_250122993.1', 'WP_250124853.1', 'WP_250123527.1', 'WP_250126467.1', 'WP_250121437.1', 'WP_250125801.1', 'WP_250123564.1', 'WP_250124202.1', 'WP_250125174.1', 'WP_250123353.1', 'WP_250123365.1', 'WP_250123367.1', 'WP_250123359.1', 'WP_250123370.1', 'WP_250121339.1', 'WP_250121340.1', 'WP_250121341.1', 'WP_250121342.1', 'WP_250121343.1', 'WP_250121345.1', 'WP_250122304.1', 'WP_250122841.1', 'WP_250123689.1', 'WP_250124891.1', 'WP_250122834.1', 'WP_250124673.1', 'WP_250124675.1', 'WP_250123833.1', 'WP_250126042.1', 'WP_250125283.1', 'WP_250122285.1', 'WP_250125169.1', 'WP_250125170.1', 'WP_256478827.1', 'WP_250123803.1', 'WP_250124681.1', 'WP_250124140.1', 'WP_250124529.1', 'WP_250124319.1', 'WP_250126602.1', 'WP_250125807.1', 'WP_250123665.1', 'WP_250123602.1', 'WP_250123603.1', 'WP_250123926.1', 'WP_250122559.1', 'WP_250125265.1', 'WP_250124103.1', 'WP_250124102.1', 'WP_250124101.1', 'WP_250124100.1', 'WP_250125710.1', 'WP_250126601.1', 'WP_250122974.1', 'WP_250124210.1', 'WP_250124211.1', 'WP_250122593.1', 'WP_250126430.1', 'WP_250125780.1', 'WP_250123201.1', 'WP_250123074.1', 'WP_250125531.1', 'WP_250124135.1', 'WP_250123792.1', 'WP_250124220.1', 'WP_250124034.1', 'WP_250123810.1', 'WP_250125913.1', 'WP_250123662.1', 'WP_250121811.1', 'WP_250121810.1', 'WP_250122207.1', 'WP_250122208.1', 'WP_250122928.1', 'WP_250122927.1', 'WP_250126571.1', 'WP_250121762.1', 'WP_250126013.1', 'WP_250123381.1', 'WP_250124403.1', 'WP_250122071.1', 'WP_250122073.1', 'WP_250125158.1', 'WP_250125157.1', 'WP_250125560.1', 'WP_250124511.1', 'WP_250124255.1', 'WP_250125770.1', 'WP_250125771.1', 'WP_250125772.1', 'WP_250123220.1', 'WP_250123640.1', 'WP_250124811.1', 'WP_250121503.1', 'WP_250121504.1', 'WP_250121507.1', 'WP_250125077.1', 'WP_250125884.1', 'WP_250124077.1', 'WP_250124078.1', 'WP_250124080.1', 'WP_250124083.1', 'WP_250124084.1', 'WP_250124087.1', 'WP_250126216.1', 'WP_250121161.1', 'WP_250121389.1', 'WP_250121180.1', 'WP_250123591.1', 'WP_250125589.1', 'WP_250122632.1', 'WP_250125546.1', 'WP_250122428.1', 'WP_250122174.1', 'WP_250122176.1', 'WP_250122177.1', 'WP_250122179.1', 'WP_250122405.1', 'WP_250121509.1', 'WP_250124652.1', 'WP_256478950.1', 'WP_250123555.1', 'WP_250122512.1', 'WP_250125836.1', 'WP_250122351.1', 'WP_250126229.1', 'WP_250123691.1', 'WP_256478957.1', 'WP_250125823.1', 'WP_250123536.1', 'WP_250123537.1', 'WP_250125590.1', 'WP_250123083.1', 'WP_250121840.1', 'WP_250126478.1', 'WP_250124868.1', 'WP_250123655.1', 'WP_250123376.1', 'WP_250124341.1', 'WP_250126618.1', 'WP_250121626.1', 'WP_250122321.1', 'WP_250123843.1', 'WP_250125567.1', 'WP_250125569.1', 'WP_250123005.1', 'WP_250126625.1', 'WP_250124295.1', 'WP_250125732.1', 'WP_250123782.1', 'WP_250125902.1', 'WP_250124650.1', 'WP_250124646.1', 'WP_250124647.1', 'WP_250121423.1', 'WP_250121420.1', 'WP_250122184.1', 'WP_250121567.1', 'WP_250125268.1', 'WP_250125749.1', 'WP_256478953.1', 'WP_250121575.1', 'WP_250125266.1', 'WP_250125662.1', 'WP_250121266.1', 'WP_250124693.1', 'WP_250122856.1', 'WP_250125568.1', 'WP_250125570.1', 'WP_250121549.1', 'WP_250125277.1', 'WP_250124139.1', 'WP_250123885.1', 'WP_250124347.1', 'WP_250123417.1', 'WP_250125581.1', 'WP_250125310.1', 'WP_250125309.1', 'WP_250122940.1', 'WP_250122170.1', 'WP_250122169.1', 'WP_250123059.1', 'WP_250123617.1', 'WP_250123616.1', 'WP_250123923.1', 'WP_250123565.1', 'WP_250123228.1', 'WP_250123227.1', 'WP_250122136.1', 'WP_250123112.1', 'WP_250125046.1', 'WP_250125249.1', 'WP_250123968.1', 'WP_250121953.1', 'WP_250124224.1', 'WP_250124223.1', 'WP_250124222.1', 'WP_250124972.1', 'WP_250124204.1', 'WP_250123120.1', 'WP_250123119.1', 'WP_250123232.1', 'WP_250122870.1', 'WP_250126456.1', 'WP_250125239.1', 'WP_250122795.1', 'WP_250122137.1', 'WP_250124270.1', 'WP_250125520.1', 'WP_250125034.1', 'WP_250122766.1', 'WP_250122775.1', 'WP_250125002.1', 'WP_250125001.1', 'WP_250124125.1', 'WP_250124124.1', 'WP_250123000.1', 'WP_250126396.1', 'WP_250121392.1', 'WP_250121574.1', 'WP_250124227.1', 'WP_250122969.1', 'WP_250122709.1', 'WP_250126791.1', 'WP_250125105.1', 'WP_250121875.1', 'WP_250126178.1', 'WP_250126581.1', 'WP_250125855.1', 'WP_250125682.1', 'WP_250124785.1', 'WP_250124998.1', 'WP_250123799.1', 'WP_250122762.1', 'WP_250122777.1', 'WP_250124830.1', 'WP_250121173.1', 'WP_250125538.1', 'WP_250123306.1', 'WP_250125602.1', 'WP_250126002.1', 'WP_250124308.1', 'WP_250125595.1', 'WP_250123352.1', 'WP_250123364.1', 'WP_250123356.1', 'WP_250123368.1', 'WP_250123708.1', 'WP_250123457.1', 'WP_250122551.1', 'WP_250126782.1', 'WP_250126689.1', 'WP_250124686.1', 'WP_250126420.1', 'WP_250123203.1', 'WP_256479003.1', 'WP_256478918.1', 'WP_250121648.1', 'WP_250126749.1', 'WP_250126748.1', 'WP_250126605.1', 'WP_250123464.1', 'WP_250123469.1', 'WP_250124316.1', 'WP_250124317.1', 'WP_250122273.1', 'WP_250123513.1', 'WP_250123849.1', 'WP_250126831.1', 'WP_250126700.1', 'WP_250125685.1', 'WP_250125356.1', 'WP_250122811.1', 'WP_250121684.1', 'WP_250124966.1', 'WP_250125187.1', 'WP_250126284.1', 'WP_250126154.1', 'WP_250126850.1', 'WP_250124863.1', 'WP_250123486.1', 'WP_250126489.1', 'WP_250126490.1', 'WP_250123483.1', 'WP_250123482.1', 'WP_250123479.1', 'WP_250123478.1', 'WP_250123472.1', 'WP_250123468.1', 'WP_250123979.1', 'WP_250123390.1', 'WP_250121217.1', 'WP_250125205.1', 'WP_250123517.1', 'WP_250123518.1', 'WP_250126715.1', 'WP_250125725.1', 'WP_250124850.1', 'WP_250126359.1', 'WP_250126295.1', 'WP_250126626.1', 'WP_250123422.1', 'WP_250123421.1', 'WP_250121433.1', 'WP_250126804.1', 'WP_250126691.1', 'WP_250126176.1', 'WP_250126365.1', 'WP_250126356.1', 'WP_250126037.1', 'WP_250126429.1', 'WP_250124159.1', 'WP_250126438.1', 'WP_250123531.1', 'WP_250123241.1', 'WP_250125119.1', 'WP_250121415.1', 'WP_250121606.1', 'WP_250121604.1', 'WP_250124936.1', 'WP_250126592.1', 'WP_250126594.1', 'WP_250126419.1', 'WP_250124682.1', 'WP_250126290.1', 'WP_250125177.1', 'WP_250126343.1', 'WP_250126344.1', 'WP_250124531.1', 'WP_250126516.1', 'WP_250126279.1', 'WP_250122318.1', 'WP_250121751.1', 'WP_250121824.1', 'WP_250123208.1', 'WP_250123910.1', 'WP_250122792.1', 'WP_250122961.1', 'WP_250122960.1', 'WP_250122959.1', 'WP_250122958.1', 'WP_250122957.1', 'WP_250125649.1', 'WP_250126836.1', 'WP_250125800.1', 'WP_250121581.1', 'WP_250124095.1', 'WP_250122338.1', 'WP_250125903.1', 'WP_250121405.1', 'WP_250124593.1', 'WP_250124480.1', 'WP_250122909.1', 'WP_250126442.1', 'WP_250122017.1', 'WP_250125537.1', 'WP_250124110.1', 'WP_250125739.1', 'WP_250125761.1', 'WP_250126562.1', 'WP_250121214.1', 'WP_250121656.1', 'WP_250126246.1', 'WP_250124669.1', 'WP_250126367.1', 'WP_250126324.1', 'WP_250121657.1', 'WP_250124935.1', 'WP_250123983.1', 'WP_250123982.1', 'WP_250123971.1', 'WP_250123980.1', 'WP_250121755.1', 'WP_250121497.1', 'WP_250126803.1', 'WP_250121315.1', 'WP_250124350.1', 'WP_250126200.1', 'WP_250125010.1', 'WP_250123173.1', 'WP_250125657.1', 'WP_250122231.1', 'WP_250126530.1', 'WP_250125781.1', 'WP_250125525.1', 'WP_250125526.1', 'WP_250125527.1', 'WP_250123850.1', 'WP_250123808.1', 'WP_250124216.1', 'WP_250126325.1', 'WP_250124667.1', 'WP_250126432.1', 'WP_250124837.1', 'WP_250125493.1', 'WP_250122095.1', 'WP_250122419.1', 'WP_250121346.1', 'WP_250121368.1', 'WP_250121367.1', 'WP_250121366.1', 'WP_250123993.1', 'WP_250122869.1', 'WP_250122276.1', 'WP_250124515.1', 'WP_250122774.1', 'WP_250126434.1', 'WP_250121760.1', 'WP_250124310.1', 'WP_250126135.1', 'WP_250126780.1', 'WP_250123576.1', 'WP_250123577.1', 'WP_250123578.1', 'WP_250123580.1', 'WP_250123581.1', 'WP_250123585.1', 'WP_250121859.1', 'WP_250123596.1', 'WP_250123597.1', 'WP_250123598.1', 'WP_250123599.1', 'WP_250123600.1', 'WP_250123601.1', 'WP_250123727.1', 'WP_250122323.1', 'WP_250121851.1', 'WP_250123809.1', 'WP_250124443.1', 'WP_250122099.1', 'WP_250121349.1', 'WP_250125136.1', 'WP_250122756.1', 'WP_250124178.1', 'WP_250125757.1', 'WP_250121646.1', 'WP_250121649.1', 'WP_250122041.1', 'WP_250123846.1', 'WP_250123847.1', 'WP_250126401.1', 'WP_250123592.1', 'WP_250123361.1', 'WP_250123362.1', 'WP_250126790.1', 'WP_250126789.1', 'WP_256478703.1', 'WP_250126384.1', 'WP_250124826.1', 'WP_250124825.1', 'WP_250126480.1', 'WP_250125921.1', 'WP_250124842.1', 'WP_250123022.1', 'WP_250125516.1', 'WP_250125625.1', 'WP_250121640.1', 'WP_250126760.1', 'WP_250126675.1', 'WP_250126411.1', 'WP_250126410.1', 'WP_250123511.1', 'WP_250126672.1', 'WP_250126669.1', 'WP_250126770.1', 'WP_250124912.1', 'WP_250124911.1', 'WP_250126597.1', 'WP_250125477.1', 'WP_250121218.1', 'WP_250126575.1', 'WP_250122490.1', 'WP_250122489.1', 'WP_250122498.1', 'WP_250122485.1', 'WP_250124662.1', 'WP_250124302.1', 'WP_250125357.1', 'WP_250126499.1', 'WP_250126186.1', 'WP_250125270.1', 'WP_250126010.1', 'WP_250126249.1', 'WP_250124284.1', 'WP_250123274.1', 'WP_250121179.1', 'WP_250125246.1', 'WP_250126270.1', 'WP_250121973.1', 'WP_250124183.1', 'WP_250123221.1', 'WP_250126018.1', 'WP_250124641.1', 'WP_250122303.1', 'WP_250123797.1', 'WP_250123796.1', 'WP_250126473.1', 'WP_250124489.1', 'WP_250124554.1', 'WP_250122972.1', 'WP_250124194.1', 'WP_250122469.1', 'WP_250122472.1', 'WP_250122473.1', 'WP_250122533.1', 'WP_250122116.1', 'WP_250121192.1', 'WP_250121952.1', 'WP_250125183.1', 'WP_250123914.1', 'WP_250123433.1', 'WP_250123685.1', 'WP_250123692.1', 'WP_250121814.1', 'WP_250125472.1', 'WP_250122567.1', 'WP_250122570.1', 'WP_250126108.1', 'WP_250122038.1', 'WP_250123827.1', 'WP_250124377.1', 'WP_250122678.1', 'WP_250126462.1', 'WP_250125375.1', 'WP_250126641.1', 'WP_250124692.1', 'WP_250124690.1', 'WP_250124689.1', 'WP_250124688.1', 'WP_250126799.1', 'WP_250121954.1', 'WP_250121476.1', 'WP_250123788.1', 'WP_250121421.1', 'WP_250121422.1', 'WP_250126100.1', 'WP_250122305.1', 'WP_250123003.1', 'WP_250123086.1', 'WP_250123085.1', 'WP_250123657.1', 'WP_250123957.1', 'WP_250125937.1', 'WP_250125175.1', 'WP_250125507.1', 'WP_250122560.1', 'WP_250122562.1', 'WP_250122563.1', 'WP_250122564.1', 'WP_250122569.1', 'WP_250122571.1', 'WP_250122572.1', 'WP_250122573.1', 'WP_250124056.1', 'WP_250123958.1', 'WP_250121410.1', 'WP_250125607.1', 'WP_250124082.1', 'WP_250125729.1', 'WP_250125606.1', 'WP_250123198.1', 'WP_250122044.1', 'WP_250125237.1', 'WP_250123798.1', 'WP_250121963.1', 'WP_250121695.1', 'WP_256478798.1', 'WP_250122677.1', 'WP_250125172.1', 'WP_250124074.1', 'WP_250122652.1', 'WP_250122670.1', 'WP_250124992.1', 'WP_250122642.1', 'WP_250122657.1', 'WP_250122655.1', 'WP_250124995.1', 'WP_250123399.1', 'WP_250123398.1', 'WP_250123397.1', 'WP_250123396.1', 'WP_250125072.1', 'WP_250123800.1', 'WP_250122233.1', 'WP_250121213.1', 'WP_250125107.1', 'WP_250125074.1', 'WP_250125955.1', 'WP_250125956.1', 'WP_250123811.1', 'WP_250126255.1', 'WP_250122376.1', 'WP_250126567.1', 'WP_250123545.1', 'WP_250123168.1', 'WP_250121795.1', 'WP_250125489.1', 'WP_250126619.1', 'WP_250126157.1', 'WP_250126156.1', 'WP_250125303.1', 'WP_250123043.1', 'WP_250123632.1', 'WP_250124254.1', 'WP_250123371.1', 'WP_250121243.1', 'WP_250121244.1', 'WP_250123951.1', 'WP_250124722.1', 'WP_250124353.1', 'WP_250122115.1', 'WP_250123379.1', 'WP_250123794.1', 'WP_250123795.1', 'WP_250121794.1', 'WP_250126093.1', 'WP_250126094.1', 'WP_250124601.1', 'WP_250124005.1', 'WP_250125101.1', 'WP_250123157.1', 'WP_250125369.1', 'WP_250124085.1', 'WP_250125753.1', 'WP_250126666.1', 'WP_250123802.1', 'WP_250124648.1', 'WP_256478944.1', 'WP_250124832.1', 'WP_250124834.1', 'WP_250125082.1', 'WP_250125689.1', 'WP_250125480.1', 'WP_250121777.1', 'WP_250121886.1', 'WP_250123747.1', 'WP_250122836.1', 'WP_250122835.1', 'WP_250125808.1', 'WP_250126699.1', 'WP_250122157.1', 'WP_250123350.1', 'WP_250121386.1', 'WP_250122924.1', 'WP_250122699.1', 'WP_250126579.1', 'WP_250124309.1', 'WP_250124714.1', 'WP_250122821.1', 'WP_250122818.1', 'WP_250125221.1', 'WP_250123427.1', 'WP_250123424.1', 'WP_250123471.1', 'WP_250123454.1', 'WP_250123439.1', 'WP_250126738.1', 'WP_250121776.1', 'WP_250123828.1', 'WP_250126714.1', 'WP_250126437.1', 'WP_250126171.1', 'WP_250124674.1', 'WP_250126486.1', 'WP_250123485.1', 'WP_250126155.1', 'WP_250123455.1', 'WP_250123487.1', 'WP_250126740.1', 'WP_250126400.1', 'WP_250126739.1', 'WP_250126685.1', 'WP_250124885.1', 'WP_250124916.1', 'WP_250124883.1', 'WP_250124888.1', 'WP_250122737.1', 'WP_250122736.1', 'WP_250124205.1', 'WP_250124247.1', 'WP_250123515.1', 'WP_250122519.1', 'WP_250124840.1', 'WP_250124182.1', 'WP_250123450.1', 'WP_250121669.1', 'WP_250121465.1', 'WP_250121668.1', 'WP_250124953.1', 'WP_250124952.1', 'WP_250126587.1', 'WP_250126352.1', 'WP_250126351.1', 'WP_250126350.1', 'WP_250126349.1', 'WP_250126348.1', 'WP_250122800.1', 'WP_250121634.1', 'WP_250123742.1', 'WP_250123461.1', 'WP_250123463.1', 'WP_250123440.1', 'WP_250124860.1', 'WP_250124862.1', 'WP_250126750.1', 'WP_250123510.1', 'WP_250126751.1', 'WP_250126753.1', 'WP_250121664.1', 'WP_250126755.1', 'WP_250126756.1', 'WP_250126833.1', 'WP_250126757.1', 'WP_250126761.1', 'WP_250126766.1', 'WP_250126768.1', 'WP_250126765.1', 'WP_250126776.1', 'WP_250126779.1', 'WP_250126834.1', 'WP_250126588.1', 'WP_250126306.1', 'WP_250126829.1', 'WP_250126684.1', 'WP_250124881.1', 'WP_250126322.1', 'WP_250126283.1', 'WP_250125514.1', 'WP_250126428.1', 'WP_250126494.1', 'WP_250125323.1', 'WP_250123658.1', 'WP_250124272.1', 'WP_250124273.1', 'WP_250124271.1', 'WP_250126664.1', 'WP_250126823.1', 'WP_250122697.1', 'WP_250124951.1', 'WP_250126650.1', 'WP_250124042.1', 'WP_250126534.1', 'WP_250126538.1', 'WP_250126540.1', 'WP_250124763.1', 'WP_250126305.1', 'WP_250126784.1', 'WP_250125876.1', 'WP_250126539.1', 'WP_250123442.1', 'WP_250123519.1', 'WP_250126158.1', 'WP_250126331.1', 'WP_250126334.1', 'WP_250126338.1', 'WP_250126339.1', 'WP_250123805.1', 'WP_250123806.1', 'WP_250123807.1', 'WP_250125548.1', 'WP_250126340.1', 'WP_250123171.1', 'WP_250126274.1', 'WP_250122217.1', 'WP_250125313.1', 'WP_250122180.1', 'WP_250123911.1', 'WP_250123912.1', 'WP_250124288.1', 'WP_250123656.1', 'WP_250122760.1', 'WP_250121470.1', 'WP_250126008.1', 'WP_250126009.1', 'WP_250124454.1', 'WP_250124452.1', 'WP_250124592.1', 'WP_250121403.1', 'WP_250124145.1', 'WP_250122871.1', 'WP_250121269.1', 'WP_250121399.1', 'WP_250124570.1', 'WP_250123243.1', 'WP_250124096.1', 'WP_250122272.1', 'WP_250122271.1', 'WP_250122828.1', 'WP_250125479.1', 'WP_250126627.1', 'WP_250126048.1', 'WP_250121175.1', 'WP_250121174.1', 'WP_250123426.1', 'WP_250123664.1', 'WP_250124036.1', 'WP_250121484.1', 'WP_250125301.1', 'WP_250124644.1', 'WP_250122776.1', 'WP_250123165.1', 'WP_250125503.1', 'WP_250124599.1', 'WP_250121467.1', 'WP_250122280.1', 'WP_250124300.1', 'WP_250123829.1', 'WP_250122147.1', 'WP_250124189.1', 'WP_250124190.1', 'WP_250121477.1', 'WP_250126734.1', 'WP_250123737.1', 'WP_250122579.1', 'WP_250121564.1', 'WP_250122840.1', 'WP_250126745.1', 'WP_250124677.1', 'WP_250123434.1', 'WP_250121280.1', 'WP_250121676.1', 'WP_250123784.1', 'WP_250123783.1', 'WP_250122778.1', 'WP_250125750.1', 'WP_250124994.1', 'WP_250123659.1', 'WP_250123690.1', 'WP_250124256.1', 'WP_250124869.1', 'WP_250124726.1', 'WP_250124923.1', 'WP_250123452.1', 'WP_250123453.1', 'WP_250122043.1', 'WP_250121758.1', 'WP_250124225.1', 'WP_250122352.1', 'WP_250122353.1', 'WP_250126355.1', 'WP_250121337.1', 'WP_250126642.1', 'WP_250122748.1', 'WP_250122463.1', 'WP_250125039.1', 'WP_250122447.1', 'WP_250125390.1', 'WP_250123458.1', 'WP_250126308.1', 'WP_250121382.1', 'WP_250124105.1', 'WP_250125816.1', 'WP_250126254.1', 'WP_250126690.1', 'WP_250121719.1', 'WP_250122744.1', 'WP_250126687.1', 'WP_250123825.1', 'WP_250121245.1', 'WP_250124685.1', 'WP_250121621.1', 'WP_250126832.1', 'WP_250124858.1', 'WP_250126807.1', 'WP_250123636.1', 'WP_250123172.1', 'WP_250124130.1', 'WP_250126651.1', 'WP_250126301.1', 'WP_250124973.1', 'WP_250121442.1', 'WP_250126217.1', 'WP_250126721.1', 'WP_250125056.1', 'WP_250121644.1', 'WP_250123790.1', 'WP_250123300.1', 'WP_250122306.1', 'WP_250126293.1', 'WP_250125914.1', 'WP_250125737.1', 'WP_250126815.1', 'WP_250122165.1', 'WP_250122166.1', 'WP_250122167.1', 'WP_250126645.1', 'WP_250121883.1', 'WP_250126298.1', 'WP_250125632.1', 'WP_250126113.1', 'WP_250124315.1', 'WP_250122580.1', 'WP_250124895.1', 'WP_250126421.1', 'WP_250126725.1', 'WP_250126724.1', 'WP_250126723.1', 'WP_250121733.1', 'WP_250122531.1', 'WP_250126496.1', 'WP_250126289.1', 'WP_250125519.1', 'WP_250122977.1', 'WP_250122976.1', 'WP_250122053.1', 'WP_250125190.1', 'WP_250124974.1', 'WP_250126451.1', 'WP_250125630.1', 'WP_250125832.1', 'WP_250122702.1', 'WP_250126572.1', 'WP_250125897.1', 'WP_250126593.1', 'WP_250123630.1', 'WP_250126035.1', 'WP_250124299.1', 'WP_250122358.1', 'WP_250122359.1', 'WP_250121789.1', 'WP_250122984.1', 'WP_250126412.1', 'WP_250126673.1', 'WP_250126377.1', 'WP_250125672.1', 'WP_250124844.1', 'WP_256478908.1', 'WP_250121447.1', 'WP_250126758.1', 'WP_250126762.1', 'WP_250126767.1', 'WP_250126781.1', 'WP_250124392.1', 'WP_250121978.1', 'WP_250123446.1', 'WP_250123473.1', 'WP_250124854.1', 'WP_250124855.1', 'WP_250124859.1', 'WP_250126397.1', 'WP_250126247.1', 'WP_250126591.1', 'WP_250121628.1', 'WP_250125829.1', 'WP_250122547.1', 'WP_250126658.1', 'WP_250126659.1', 'WP_250126828.1', 'WP_250123533.1', 'WP_250125379.1', 'WP_250123001.1', 'WP_250121885.1', 'WP_250123261.1', 'WP_250126455.1', 'WP_275983382.1', 'WP_250123477.1', 'WP_250121237.1', 'WP_250124160.1', 'WP_250124161.1', 'WP_250124873.1', 'WP_250126175.1', 'WP_250126680.1', 'WP_250126551.1', 'WP_250126705.1', 'WP_250121576.1', 'WP_250121898.1', 'WP_250121406.1', 'WP_250125529.1', 'WP_250125637.1', 'WP_250125638.1', 'WP_256478982.1', 'WP_250125741.1', 'WP_256479001.1', 'WP_250123187.1', 'WP_250122701.1', 'WP_250121515.1', 'WP_250124430.1', 'WP_250125922.1', 'WP_250124889.1', 'WP_250123230.1', 'WP_250123222.1', 'WP_250122694.1', 'WP_250122693.1', 'WP_250124839.1', 'WP_250124283.1', 'WP_250122446.1', 'WP_250126448.1', 'WP_250126031.1', 'WP_250124221.1', 'WP_250121475.1', 'WP_250122824.1', 'WP_250122825.1', 'WP_250126560.1', 'WP_250125202.1', 'WP_250125321.1', 'WP_250126820.1', 'WP_250125494.1', 'WP_250124956.1', 'WP_250124959.1', 'WP_250125626.1', 'WP_250122307.1', 'WP_250126596.1', 'WP_250123237.1', 'WP_250126711.1', 'WP_250123470.1', 'WP_250125803.1', 'WP_250126647.1', 'WP_250122164.1', 'WP_250125964.1', 'WP_250123429.1', 'WP_250121468.1', 'WP_250126111.1', 'WP_250126276.1', 'WP_250124450.1', 'WP_250121383.1', 'WP_250126508.1', 'WP_250126506.1', 'WP_250121572.1', 'WP_250126323.1', 'WP_256478681.1', 'WP_250122683.1', 'WP_250126731.1', 'WP_250124106.1', 'WP_250123977.1', 'WP_250122923.1', 'WP_250124445.1', 'WP_250121618.1', 'WP_250126555.1', 'WP_250123845.1', 'WP_250126600.1', 'WP_250126802.1', 'WP_250122301.1', 'WP_250122470.1', 'WP_250124141.1', 'WP_250125130.1', 'WP_250124340.1', 'WP_250125094.1', 'WP_250126524.1', 'WP_250126525.1', 'WP_250122212.1', 'WP_250126341.1', 'WP_250125547.1', 'WP_250126110.1', 'WP_250122695.1', 'WP_250124453.1', 'WP_250126447.1', 'WP_250123493.1', 'WP_250121394.1', 'WP_250124864.1', 'WP_256478996.1', 'WP_250126482.1', 'WP_250126427.1', 'WP_250126630.1', 'WP_250126631.1', 'WP_250121660.1', 'WP_250126407.1', 'WP_250126405.1', 'WP_250124654.1', 'WP_256478772.1', 'WP_250124926.1', 'WP_250126759.1', 'WP_256479002.1', 'WP_256478985.1', 'WP_250126769.1', 'WP_250124917.1', 'WP_250124901.1', 'WP_250126294.1', 'WP_250126636.1', 'WP_250124175.1', 'WP_250125264.1', 'WP_250123967.1', 'WP_250126460.1', 'WP_250124240.1', 'WP_250121490.1', 'WP_250121491.1', 'WP_250125738.1', 'WP_250125600.1', 'WP_250125601.1', 'WP_250126527.1', 'WP_250126528.1', 'WP_250123922.1', 'WP_250121889.1', 'WP_250123223.1', 'WP_250122429.1', 'WP_250124487.1', 'WP_250125236.1', 'WP_250123002.1', 'WP_250124906.1', 'WP_250124235.1', 'WP_250122465.1', 'WP_250122474.1', 'WP_250123514.1', 'WP_250126505.1', 'WP_250126504.1', 'WP_250126373.1', 'WP_250121358.1', 'WP_250124281.1', 'WP_250121256.1', 'WP_250123087.1', 'WP_250124126.1', 'WP_250121888.1', 'WP_250126440.1', 'WP_250126450.1', 'WP_250126470.1', 'WP_250125631.1', 'WP_250125633.1', 'WP_250125634.1', 'WP_250126453.1', 'WP_250122691.1', 'WP_250122690.1', 'WP_250122705.1', 'WP_250126844.1', 'WP_250126291.1', 'WP_250126409.1', 'WP_250122397.1', 'WP_250122799.1', 'WP_250126479.1', 'WP_250122661.1', 'WP_250122339.1', 'WP_250126735.1', 'WP_250124938.1', 'WP_250124939.1', 'WP_250126847.1', 'WP_250126027.1', 'WP_250124623.1', 'WP_250121675.1', 'WP_250122833.1', 'WP_250124246.1', 'WP_250126280.1', 'WP_250124206.1', 'WP_250126388.1', 'WP_250123079.1', 'WP_250125831.1', 'WP_250123508.1', 'WP_250123989.1', 'WP_256478968.1', 'WP_250126742.1', 'WP_250122926.1', 'WP_250126526.1', 'WP_250121255.1', 'WP_250125347.1', 'WP_250122684.1', 'WP_250121748.1', 'WP_250126580.1', 'WP_250122898.1', 'WP_250124970.1', 'WP_250124879.1', 'WP_250122634.1', 'WP_250122662.1', 'WP_250126382.1', 'WP_250122732.1', 'WP_250126677.1', 'WP_250126509.1', 'WP_250122761.1', 'WP_250126402.1', 'WP_250123791.1'])\n"
     ]
    }
   ],
   "source": [
    "with open(\"/home/davide/PycharmProjects/TESI2/dizop.pickle\", \"rb\") as f:\n",
    "    diz = pickle.load(f)\n",
    "print(diz.keys())"
   ],
   "metadata": {
    "collapsed": false,
    "ExecuteTime": {
     "end_time": "2024-06-07T19:44:46.066897Z",
     "start_time": "2024-06-07T19:44:46.050320Z"
    }
   },
   "id": "e607039031c2d930",
   "execution_count": 166
  },
  {
   "cell_type": "code",
   "outputs": [
    {
     "data": {
      "text/plain": "{'SAG_39.79': ['GGAGTGAGGAGTGGCTGGTGGCTAGTGACTAGTGACTAGCGACCAATTACCAATTACCAATTACCAACTACCAATCAC'],\n 'FACHB-1243': ['CCAGTGACCAGCGATCGGTGACCAGTGACCAGTGACCAGCAATCAACTACCAACTACCAACTACCACTCAC'],\n 'CCALA_043': ['GGAGTGAGGAGTGGCTGGTGGCTAGTGACTAGTGACTAGCGACCAATTACCAATTACCAATTACCAACTACCAATCAC'],\n 'SAG_2025': ['GTATTTGTAGGGGCGGGTTTAGCAAAAAATTCACGGTTCCAGCAATCAATCTTCGGTCAAAACCCGCCCGTACAGGAGTCAGAATTGTGCATTGTCTAATTGTATTGATTTCCTAGCCCCACAT'],\n 'CCNUC1': ['GGAGTGGCTGGTGGCTAGTCACTAGTCACTAGCCACCAATTACCAATTACCAATTACCAACTACCAATCAC'],\n 'PCC_7203': ['GGAGTGAGGAGTGGCTGGTGGCTAGTGACTAGTGACTAGCCACCAATTACCAATTACCAATTACCAACTACCAATCAC'],\n 'CCALA_051': ['GGAGTGGCTGGTGGCTAGTCACTAGTCACTAGCCACCAATTACCAATTACCAATTACCAACTACCAATCAC']}"
     },
     "execution_count": 176,
     "metadata": {},
     "output_type": "execute_result"
    }
   ],
   "source": [
    "key=\"WP_250123601.1\"\n",
    "diz[key]"
   ],
   "metadata": {
    "collapsed": false,
    "ExecuteTime": {
     "end_time": "2024-06-07T19:52:40.199872Z",
     "start_time": "2024-06-07T19:52:40.196891Z"
    }
   },
   "id": "bd410693bbaa236b",
   "execution_count": 176
  },
  {
   "cell_type": "code",
   "outputs": [
    {
     "data": {
      "text/plain": "{'SAG_39.79': ['AAGAGAGCTGAGGGAGCCCAGGGAGCAGGGAGCAGGGAGCAGGGAGCAGTGACCAGTGACCAGCCAGCAATCCACTATACCCCACACCCCACATCCTTTCTTCACTAGCCACTAGTCACCAGCCACTAGTCACTGATAACTAACAAATTAACAGGAAGATTAAAT'],\n 'FACHB-1243': ['AAGAGAGCTGAGGGAACTGAGGGAGCTGAGGAGATAAAATAACTAACTGGTCACTGGTCAGGAGTCACTGGTCACTGTCACCCCACACCCTACACCCTACACCCGCATCAACACGCACCACTACCAATTAAAAAATTAGTAGGAAGATTAAAT'],\n 'CCALA_043': ['AAGAGAGCTGAGGGAGCCCAGGGAGCAGGGAGCAGGGAGCAGGGAGCAGTGACCAGTGACCAGCCAGCAATCCACTATACCCCACACCCCACATCCTTTCTTCACTAGCCACTAGTCACCAGCCACTAGTCACTGATAACTAACAAATTAACAGGAAGATTAAAT'],\n 'SAG_2025': ['GGTTACAATTCAAAATTCAAAATTCAAAATTTCTCTACACCCTACACCCAGATAGCGCCAGTTGCTCATGGGGGGAACCCCCAAGACCGCACTGGCTCCCCCACACCCTTTCTTCACTAGCCACTAGTCACCAGCCACTAGTCACTGATAACTAACAAATTAACAGGAAGATTAAAT'],\n 'CCNUC1': ['TACTCAATTCGGAATTCGGAATTCGGAATTCGGAATTAAAACATTCACCACGCACCACTACCAATTACCCATTACCAAATAAAAAATTAGCAGGAAAATTAAC'],\n 'PCC_7203': ['TACTCAATTCGGAATTCGGAATTCGGAATTCGGAATTAAAACATTCACCACGCACCACTACCAATTACCCATTACCAAATAAAAAATTAGCAGGAAAATTAAC'],\n 'CCALA_051': ['TACTCAATTCGGAATTCGGAATTCGGAATTCGGAATTAAAACATTCACCACGCACCACTACCAATTACCCATTACCAAATAAAAAATTAGCAGGAAAATTAAC']}"
     },
     "execution_count": 177,
     "metadata": {},
     "output_type": "execute_result"
    }
   ],
   "source": [
    "key=\"WP_250123600.1\"\n",
    "diz[key]"
   ],
   "metadata": {
    "collapsed": false,
    "ExecuteTime": {
     "end_time": "2024-06-07T19:53:17.502977Z",
     "start_time": "2024-06-07T19:53:17.499613Z"
    }
   },
   "id": "2f08be66b74dfc53",
   "execution_count": 177
  },
  {
   "cell_type": "code",
   "outputs": [
    {
     "data": {
      "text/plain": "Empty DataFrame\nColumns: [CCMEE_29, result_Chroococcidiopsis_sp._[FACHB-1243]_GCF_014696895.1.faa, result_Chroococcidiopsis_sp._CCNUC1_GCF_023546805.1.faa, result_Chroococcidiopsis_sp._CCMEE_29_GCF_023558375.1.faa, result_Chroococcidiopsis_thermalis_PCC_7203_GCF_000317125.1.faa, result_Chroococcidiopsis_cubana_SAG_39.79_GCF_034438355.1.faa, result_Chroococcidiopsis_sp._CCALA_051_GCF_003015105.1.faa, result_Chroococcidiopsis_sp._TS-821_GCF_002939305.1.faa, result_Chroococcidiopsis_cubana_CCALA_043_GCF_003003835.1.faa, result_Chroococcidiopsis_sp._SAG_2025_GCF_032860985.1.faa]\nIndex: []",
      "text/html": "<div>\n<style scoped>\n    .dataframe tbody tr th:only-of-type {\n        vertical-align: middle;\n    }\n\n    .dataframe tbody tr th {\n        vertical-align: top;\n    }\n\n    .dataframe thead th {\n        text-align: right;\n    }\n</style>\n<table border=\"1\" class=\"dataframe\">\n  <thead>\n    <tr style=\"text-align: right;\">\n      <th></th>\n      <th>CCMEE_29</th>\n      <th>result_Chroococcidiopsis_sp._[FACHB-1243]_GCF_014696895.1.faa</th>\n      <th>result_Chroococcidiopsis_sp._CCNUC1_GCF_023546805.1.faa</th>\n      <th>result_Chroococcidiopsis_sp._CCMEE_29_GCF_023558375.1.faa</th>\n      <th>result_Chroococcidiopsis_thermalis_PCC_7203_GCF_000317125.1.faa</th>\n      <th>result_Chroococcidiopsis_cubana_SAG_39.79_GCF_034438355.1.faa</th>\n      <th>result_Chroococcidiopsis_sp._CCALA_051_GCF_003015105.1.faa</th>\n      <th>result_Chroococcidiopsis_sp._TS-821_GCF_002939305.1.faa</th>\n      <th>result_Chroococcidiopsis_cubana_CCALA_043_GCF_003003835.1.faa</th>\n      <th>result_Chroococcidiopsis_sp._SAG_2025_GCF_032860985.1.faa</th>\n    </tr>\n  </thead>\n  <tbody>\n  </tbody>\n</table>\n</div>"
     },
     "execution_count": 174,
     "metadata": {},
     "output_type": "execute_result"
    }
   ],
   "source": [
    "df_final.loc[df_final[\"CCMEE_29\"]==key,:]"
   ],
   "metadata": {
    "collapsed": false,
    "ExecuteTime": {
     "end_time": "2024-06-07T19:50:07.773495Z",
     "start_time": "2024-06-07T19:50:07.766059Z"
    }
   },
   "id": "32abc41b06bc35cf",
   "execution_count": 174
  },
  {
   "cell_type": "code",
   "outputs": [],
   "source": [
    "    info=\"\"\n",
    "    info_geni=\"\"\n",
    "    operone= pid.split(\"|\")\n",
    "    motivo_len = motivo.length\n",
    "    sm_score = sm(motivo, intergenica, entropy, pwm)\n",
    "    s = str(sm_score[1])  # sequenza  nell'intergenica di CCMEE29 con maggior score\n",
    "    max=0\n",
    "    for gene in operone:\n",
    "        if gene in intergeniche_ortologhi.keys():\n",
    "            intergeniche_orto= intergeniche_ortologhi[gene].values()\n",
    "            #flatten\n",
    "            intergeniche_orto= [item for sublist in intergeniche_orto for item in sublist]\n",
    "        else:\n",
    "            continue\n",
    "        score_ortologhi = []\n",
    "        for seq in intergeniche_orto:\n",
    "            if len(seq) < motivo_len or \"N\" in seq:\n",
    "                continue\n",
    "            sm_ortologo = sm(motivo, seq, entropy, pwm)\n",
    "            info+=f\"{sm_ortologo[1]}({sm_ortologo[0]}) \"\n",
    "            score_ortologhi.append((motivo_len - Hamming(s, sm_ortologo[1])) / motivo_len * sm_ortologo[0])\n",
    "        avg = sum(score_ortologhi) / len(score_ortologhi) if score_ortologhi else 0\n",
    "        info_geni+=f\"gene {gene} ha score medio degli ortologhi di {avg} \"\n",
    "        if avg>max:\n",
    "            max=avg\n",
    "    return sm_score[0], sm_score[0] + max, s, sm_score[2],info,info_geni"
   ],
   "metadata": {
    "collapsed": false
   },
   "id": "14fa386dd79c3e2f"
  },
  {
   "cell_type": "code",
   "outputs": [
    {
     "data": {
      "text/plain": "4"
     },
     "execution_count": 8,
     "metadata": {},
     "output_type": "execute_result"
    }
   ],
   "source": [
    "search_word = \"ciao\"\n",
    "sum(line.split().count(search_word) for line in open(\"provapython.txt\") if search_word in line.split())"
   ],
   "metadata": {
    "collapsed": false,
    "ExecuteTime": {
     "end_time": "2024-06-12T13:31:57.496437Z",
     "start_time": "2024-06-12T13:31:57.493536Z"
    }
   },
   "id": "344defedffbd0349",
   "execution_count": 8
  },
  {
   "cell_type": "code",
   "outputs": [
    {
     "name": "stdout",
     "output_type": "stream",
     "text": [
      "[['ciao'], ['ciao'], ['ciao', 'ciao']]\n"
     ]
    }
   ],
   "source": [
    "file_name=\"provapython.txt\"\n",
    "search_word=\"ciao\"\n",
    "print([a for a in ([[v for v in a.split() if v == search_word] for a in open(file_name) if a.strip()]) if a])\n"
   ],
   "metadata": {
    "collapsed": false,
    "ExecuteTime": {
     "end_time": "2024-06-12T13:34:27.326603Z",
     "start_time": "2024-06-12T13:34:27.324039Z"
    }
   },
   "id": "d476861834c440be",
   "execution_count": 12
  },
  {
   "cell_type": "code",
   "outputs": [
    {
     "name": "stdout",
     "output_type": "stream",
     "text": [
      "4\n"
     ]
    }
   ],
   "source": [
    "print(sum(line.split().count(search_word) for line in open(file_name)))"
   ],
   "metadata": {
    "collapsed": false,
    "ExecuteTime": {
     "end_time": "2024-06-12T13:57:49.600231Z",
     "start_time": "2024-06-12T13:57:49.597445Z"
    }
   },
   "id": "622c5bca8e09c239",
   "execution_count": 29
  },
  {
   "cell_type": "code",
   "outputs": [
    {
     "name": "stdout",
     "output_type": "stream",
     "text": [
      "4\n",
      "[['ciao'], ['ciao'], ['ciao', 'ciao']]\n",
      "[['ciao'], [], ['ciao'], ['ciao', 'ciao'], [], []]\n",
      "[['ciao'], [], ['ciao'], [], [], [], ['ciao', 'ciao'], [], []]\n"
     ]
    }
   ],
   "source": [
    "print(sum(len(x) for x in [a for a in ([[v for v in a.split() if v == search_word] for a in open(file_name)]) ]))\n",
    "print([a for a in ([[v for v in a.split() if v == search_word] for a in open(file_name)]) if a])\n",
    "print([[v for v in a.split() if v == search_word] for a in open(file_name) if a.strip()])\n",
    "print([[v for v in a.split() if v == search_word] for a in open(file_name)])\n"
   ],
   "metadata": {
    "collapsed": false,
    "ExecuteTime": {
     "end_time": "2024-06-12T13:56:11.657198Z",
     "start_time": "2024-06-12T13:56:11.653931Z"
    }
   },
   "id": "c3f6f29d5a8a5b71",
   "execution_count": 28
  },
  {
   "cell_type": "code",
   "outputs": [],
   "source": [],
   "metadata": {
    "collapsed": false
   },
   "id": "11e9804af10c3310"
  }
 ],
 "metadata": {
  "kernelspec": {
   "display_name": "Python 3",
   "language": "python",
   "name": "python3"
  },
  "language_info": {
   "codemirror_mode": {
    "name": "ipython",
    "version": 2
   },
   "file_extension": ".py",
   "mimetype": "text/x-python",
   "name": "python",
   "nbconvert_exporter": "python",
   "pygments_lexer": "ipython2",
   "version": "2.7.6"
  }
 },
 "nbformat": 4,
 "nbformat_minor": 5
}
