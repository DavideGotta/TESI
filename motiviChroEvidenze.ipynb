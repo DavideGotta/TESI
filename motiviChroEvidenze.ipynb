{
 "cells": [
  {
   "cell_type": "code",
   "outputs": [
    {
     "data": {
      "text/plain": "    old_locus_tag gene_omologo  \\\n0         all0875         glgB   \n1         all2563         talB   \n2         all4713         galE   \n3         all4121         petH   \n4         alr4641         prxA   \n..            ...          ...   \n181       all4148    petF, fd1   \n182       all1430         fdxH   \n183       all2919          fd2   \n184       alr0784          fd3   \n185       alr4065         ftrC   \n\n                                      motivo_omologo  \\\n0                                        AGTataaaACT   \n1                                     AGTcttaacaaACT   \n2                                     AGTagttgtcaACT   \n3                                   AGTTagaaggtgAACa   \n4                               ACAGaTcgtaatcaAACTGT   \n..                                               ...   \n181  AGTatcagaattgaACT\\nAGTtatatACT\\nAGTataaaaaaaACT   \n182                                      AGTgtccaACT   \n183                 AGTttgggtgaaaACT\\nAGTttcacccaACT   \n184                        AGTagttgACT\\nAGTtacttcACT   \n185                                    No AnLexA box   \n\n                  Organismo/evidenze            Pubblicazione  \n0    Anabaena PCC 7120: sperimentale       Kumar et al., 2018  \n1    Anabaena PCC 7120: sperimentale       Kumar et al., 2018  \n2    Anabaena PCC 7120: sperimentale       Kumar et al., 2018  \n3    Anabaena PCC 7120: sperimentale       Kumar et al., 2018  \n4    Anabaena PCC 7120: sperimentale       Kumar et al., 2018  \n..                               ...                      ...  \n181         Anabaena PCC 7120: mista  Srivastava et al., 2022  \n182         Anabaena PCC 7120: mista  Srivastava et al., 2022  \n183         Anabaena PCC 7120: mista  Srivastava et al., 2022  \n184         Anabaena PCC 7120: mista  Srivastava et al., 2022  \n185         Anabaena PCC 7120: mista  Srivastava et al., 2022  \n\n[210 rows x 5 columns]",
      "text/html": "<div>\n<style scoped>\n    .dataframe tbody tr th:only-of-type {\n        vertical-align: middle;\n    }\n\n    .dataframe tbody tr th {\n        vertical-align: top;\n    }\n\n    .dataframe thead th {\n        text-align: right;\n    }\n</style>\n<table border=\"1\" class=\"dataframe\">\n  <thead>\n    <tr style=\"text-align: right;\">\n      <th></th>\n      <th>old_locus_tag</th>\n      <th>gene_omologo</th>\n      <th>motivo_omologo</th>\n      <th>Organismo/evidenze</th>\n      <th>Pubblicazione</th>\n    </tr>\n  </thead>\n  <tbody>\n    <tr>\n      <th>0</th>\n      <td>all0875</td>\n      <td>glgB</td>\n      <td>AGTataaaACT</td>\n      <td>Anabaena PCC 7120: sperimentale</td>\n      <td>Kumar et al., 2018</td>\n    </tr>\n    <tr>\n      <th>1</th>\n      <td>all2563</td>\n      <td>talB</td>\n      <td>AGTcttaacaaACT</td>\n      <td>Anabaena PCC 7120: sperimentale</td>\n      <td>Kumar et al., 2018</td>\n    </tr>\n    <tr>\n      <th>2</th>\n      <td>all4713</td>\n      <td>galE</td>\n      <td>AGTagttgtcaACT</td>\n      <td>Anabaena PCC 7120: sperimentale</td>\n      <td>Kumar et al., 2018</td>\n    </tr>\n    <tr>\n      <th>3</th>\n      <td>all4121</td>\n      <td>petH</td>\n      <td>AGTTagaaggtgAACa</td>\n      <td>Anabaena PCC 7120: sperimentale</td>\n      <td>Kumar et al., 2018</td>\n    </tr>\n    <tr>\n      <th>4</th>\n      <td>alr4641</td>\n      <td>prxA</td>\n      <td>ACAGaTcgtaatcaAACTGT</td>\n      <td>Anabaena PCC 7120: sperimentale</td>\n      <td>Kumar et al., 2018</td>\n    </tr>\n    <tr>\n      <th>...</th>\n      <td>...</td>\n      <td>...</td>\n      <td>...</td>\n      <td>...</td>\n      <td>...</td>\n    </tr>\n    <tr>\n      <th>181</th>\n      <td>all4148</td>\n      <td>petF, fd1</td>\n      <td>AGTatcagaattgaACT\\nAGTtatatACT\\nAGTataaaaaaaACT</td>\n      <td>Anabaena PCC 7120: mista</td>\n      <td>Srivastava et al., 2022</td>\n    </tr>\n    <tr>\n      <th>182</th>\n      <td>all1430</td>\n      <td>fdxH</td>\n      <td>AGTgtccaACT</td>\n      <td>Anabaena PCC 7120: mista</td>\n      <td>Srivastava et al., 2022</td>\n    </tr>\n    <tr>\n      <th>183</th>\n      <td>all2919</td>\n      <td>fd2</td>\n      <td>AGTttgggtgaaaACT\\nAGTttcacccaACT</td>\n      <td>Anabaena PCC 7120: mista</td>\n      <td>Srivastava et al., 2022</td>\n    </tr>\n    <tr>\n      <th>184</th>\n      <td>alr0784</td>\n      <td>fd3</td>\n      <td>AGTagttgACT\\nAGTtacttcACT</td>\n      <td>Anabaena PCC 7120: mista</td>\n      <td>Srivastava et al., 2022</td>\n    </tr>\n    <tr>\n      <th>185</th>\n      <td>alr4065</td>\n      <td>ftrC</td>\n      <td>No AnLexA box</td>\n      <td>Anabaena PCC 7120: mista</td>\n      <td>Srivastava et al., 2022</td>\n    </tr>\n  </tbody>\n</table>\n<p>210 rows × 5 columns</p>\n</div>"
     },
     "execution_count": 138,
     "metadata": {},
     "output_type": "execute_result"
    }
   ],
   "source": [
    "import re\n",
    "from pathlib import Path\n",
    "import pandas as pd\n",
    "def rev(seq):\n",
    "    complement = {'A': 'T', 'C': 'G', 'G': 'C', 'T': 'A'}\n",
    "    return complement[seq]\n",
    "df_path=pd.read_pickle(\"/home/davide/Downloads/pathways.pkl\")\n",
    "df_br=pd.read_pickle(\"/home/davide/Downloads/brite.pkl\")\n",
    "import pandas as pd\n",
    "file=\"/home/davide/Downloads/geniregLexAcianobatteri.xlsx\"\n",
    "df_evi=pd.read_excel(file)\n",
    "df_evi[\"old_locus_tag\"]=df_evi[\"old_locus_tag\"].str.split(\"-\")\n",
    "df_evi=df_evi.explode(\"old_locus_tag\")\n",
    "df_evi[\"old_locus_tag\"]=df_evi[\"old_locus_tag\"].str.split()\n",
    "df_evi=df_evi.explode(\"old_locus_tag\")\n",
    "df_evi"
   ],
   "metadata": {
    "collapsed": false,
    "ExecuteTime": {
     "end_time": "2024-04-19T14:12:07.088544Z",
     "start_time": "2024-04-19T14:12:07.026345Z"
    }
   },
   "id": "ec74eca34aa2e80",
   "execution_count": 138
  },
  {
   "cell_type": "code",
   "outputs": [
    {
     "data": {
      "text/plain": "                                             Metabolic pathways  \\\nSAG_2025      [WP_317105300.1, WP_317107603.1, WP_317111516....   \nPCC_7203      [WP_015153369.1, WP_015153057.1, WP_015153963....   \nCCNUC1        [WP_250016076.1, WP_250017807.1, WP_250015754....   \nCCMEE_29      [WP_250122538.1, WP_250124344.1, WP_250124395....   \nTS-821        [WP_104545180.1, WP_104548630.1, WP_104545654....   \nSAG_39.79     [WP_106168515.1, WP_199755420.1, WP_015154882....   \nCCALA_043     [WP_106168515.1, WP_219888966.1, WP_015153963....   \nCCALA_051     [WP_233222763.1, WP_199197642.1, WP_106544194....   \n[FACHB-1243]  [WP_192161740.1, WP_192161666.1, WP_192155277....   \n\n                          Biosynthesis of secondary metabolites  \\\nSAG_2025      [WP_317105300.1, WP_317107603.1, WP_317111516....   \nPCC_7203      [WP_015153369.1, WP_015153057.1, WP_015152545....   \nCCNUC1        [WP_250016076.1, WP_250017807.1, WP_250015754....   \nCCMEE_29      [WP_250122538.1, WP_250124344.1, WP_250123322....   \nTS-821        [WP_104545180.1, WP_104548630.1, WP_104547952....   \nSAG_39.79     [WP_106168515.1, WP_199755420.1, WP_015152545....   \nCCALA_043     [WP_106168515.1, WP_219888966.1, WP_015152545....   \nCCALA_051     [WP_233222763.1, WP_199197642.1, WP_015152545....   \n[FACHB-1243]  [WP_192161740.1, WP_192161666.1, WP_192153513....   \n\n                   Microbial metabolism in diverse environments  \\\nSAG_2025      [WP_317105300.1, WP_317107603.1, WP_317111516....   \nPCC_7203      [WP_015153369.1, WP_015153057.1, WP_015155313....   \nCCNUC1        [WP_250016076.1, WP_250017807.1, WP_250015754....   \nCCMEE_29      [WP_250122538.1, WP_250124344.1, WP_250121345....   \nTS-821        [WP_104545180.1, WP_104548630.1, WP_104547073....   \nSAG_39.79     [WP_106168515.1, WP_199755420.1, WP_106166902....   \nCCALA_043     [WP_106168515.1, WP_219888966.1, WP_106166902....   \nCCALA_051     [WP_233222763.1, WP_199197642.1, WP_106544662....   \n[FACHB-1243]  [WP_192161740.1, WP_192161666.1, WP_192158234....   \n\n                                              Carbon metabolism  \\\nSAG_2025      [, WP_317107194.1, WP_317108710.1, WP_31710966...   \nPCC_7203      [, WP_015154714.1, WP_245570537.1, WP_01515702...   \nCCNUC1        [, WP_250016536.1, WP_250017011.1, WP_10616801...   \nCCMEE_29      [WP_250126150.1, WP_250121238.1, WP_250123680....   \nTS-821        [WP_104545957.1, WP_246841311.1, WP_104547933....   \nSAG_39.79     [, WP_106171663.1, WP_322505859.1, WP_10616801...   \nCCALA_043     [, WP_106171663.1, WP_258184041.1, WP_10616801...   \nCCALA_051     [, WP_015154714.1, WP_106544736.1, WP_10654730...   \n[FACHB-1243]  [, WP_192154372.1, WP_192160734.1, WP_19215361...   \n\n                                2-Oxocarboxylic acid metabolism  \\\nSAG_2025      [WP_317109663.1, WP_317104929.1, WP_015157199....   \nPCC_7203      [WP_015157020.1, WP_015152534.1, WP_015157199....   \nCCNUC1        [WP_106168018.1, WP_250015213.1, WP_015157199....   \nCCMEE_29      [WP_250123680.1, WP_250124016.1, WP_250125718....   \nTS-821        [WP_104547933.1, WP_104548717.1, WP_256387450....   \nSAG_39.79     [WP_106168018.1, WP_015152534.1, WP_015157199....   \nCCALA_043     [WP_106168018.1, WP_015152534.1, WP_015157199....   \nCCALA_051     [WP_106547308.1, WP_106544039.1, WP_106547593....   \n[FACHB-1243]  [WP_192153614.1, WP_192153524.1, WP_192153634....   \n\n                                          Fatty acid metabolism  \\\nSAG_2025      [WP_317104897.1, WP_317107573.1, WP_317108586....   \nPCC_7203      [WP_015152569.1, WP_015155294.1, WP_041462544....   \nCCNUC1        [WP_250012585.1, WP_250013004.1, WP_250013015....   \nCCMEE_29      [WP_250121640.1, WP_250121757.1, WP_250122377....   \nTS-821        [WP_104548581.1, WP_104548978.1, WP_104545578....   \nSAG_39.79     [WP_015155294.1,\\n WP_084739168.1, WP_10616717...   \nCCALA_043     [WP_015155294.1, WP_084739168.1, WP_106166466....   \nCCALA_051     [WP_106544052.1, WP_106544627.1, WP_106544670....   \n[FACHB-1243]  [WP_192153489.1, WP_192158253.1, WP_192161863....   \n\n                                    Biosynthesis of amino acids  \\\nSAG_2025      [WP_317109992.1, WP_317104920.1, WP_317106334....   \nPCC_7203      [WP_015153057.1, WP_015152545.1, WP_015154350....   \nCCNUC1        [WP_250015754.1, WP_015152545.1, WP_250016795....   \nCCMEE_29      [WP_250124344.1, WP_250123322.1, WP_250125201....   \nTS-821        [WP_104548630.1, WP_104547952.1, WP_104547979....   \nSAG_39.79     [WP_199755420.1, WP_015152545.1, WP_106167261....   \nCCALA_043     [WP_219888966.1, WP_015152545.1, WP_106167261....   \nCCALA_051     [WP_199197642.1, WP_015152545.1, WP_106547477....   \n[FACHB-1243]  [, WP_192153513.1, WP_192159723.1, WP_19215361...   \n\n                                          Nucleotide metabolism  \\\nSAG_2025      [WP_039716581.1, WP_317110203.1, WP_317108508....   \nPCC_7203      [WP_015154476.1, WP_015152857.1, WP_015153714....   \nCCNUC1        [WP_015154476.1, WP_250015472.1, WP_250016299....   \nCCMEE_29      [WP_250123285.1, WP_250124757.1, WP_250125855....   \nTS-821        [WP_104545902.1, WP_104547020.1, WP_104548487....   \nSAG_39.79     [WP_106169956.1, WP_106168253.1, WP_106167761....   \nCCALA_043     [WP_106169956.1, WP_106168253.1, WP_106167761....   \nCCALA_051     [WP_015154476.1, WP_106546575.1, WP_106547242....   \n[FACHB-1243]  [, WP_192156040.1, WP_242038338.1, WP_19215645...   \n\n                              Biosynthesis of nucleotide sugars  \\\nSAG_2025      [WP_015155929.1, WP_317110133.1, WP_317104785....   \nPCC_7203      [WP_015155929.1, WP_015152816.1, WP_015152330....   \nCCNUC1        [WP_015155929.1, WP_015152816.1, WP_015152330....   \nCCMEE_29      [WP_250122670.1, WP_250123272.1, WP_250122657....   \nTS-821        [WP_104547243.1, WP_104546881.1, WP_104547082....   \nSAG_39.79     [WP_015155929.1, WP_106166913.1, WP_015152816....   \nCCALA_043     [WP_015155929.1, WP_106166913.1, WP_015152816....   \nCCALA_051     [WP_106547347.1, WP_106544844.1, WP_015152330....   \n[FACHB-1243]  [WP_192161192.1, WP_192155956.1, WP_192155394....   \n\n                                      Biosynthesis of cofactors  ...  \\\nSAG_2025      [WP_317107603.1, WP_317111516.1, WP_015155929....  ...   \nPCC_7203      [, WP_015155929.1, WP_015152569.1, WP_01515529...  ...   \nCCNUC1        [WP_250017807.1, WP_015155929.1, WP_250012585....  ...   \nCCMEE_29      [, WP_250122670.1, WP_250123272.1, WP_25012164...  ...   \nTS-821        [, WP_104547243.1, WP_104548581.1, WP_10454714...  ...   \nSAG_39.79     [, WP_015155929.1, WP_106166913.1, WP_01515529...  ...   \nCCALA_043     [, WP_015155929.1, WP_106166913.1, WP_01515529...  ...   \nCCALA_051     [, WP_106547347.1, WP_106544052.1, WP_10654462...  ...   \n[FACHB-1243]  [WP_192161666.1, WP_192161192.1, WP_192153489....  ...   \n\n                     Type II diabetes mellitus  \\\nSAG_2025                      [WP_317107131.1]   \nPCC_7203                      [WP_015155216.1]   \nCCNUC1                        [WP_106166433.1]   \nCCMEE_29      [WP_250122753.1, WP_250125191.1]   \nTS-821        [WP_104545636.1, WP_104546055.1]   \nSAG_39.79                     [WP_106166433.1]   \nCCALA_043                     [WP_106166433.1]   \nCCALA_051                     [WP_106544245.1]   \n[FACHB-1243]                  [WP_192161410.1]   \n\n                                      Type I diabetes mellitus  \\\nSAG_2025      [WP_317112306.1, WP_015152680.1, WP_317104896.1]   \nPCC_7203                    [, WP_015152570.1, WP_015152680.1]   \nCCNUC1        [WP_250017945.1, WP_015152680.1, WP_106167624.1]   \nCCMEE_29                    [, WP_250122604.1, WP_250124781.1]   \nTS-821                      [, WP_104548537.1, WP_104548582.1]   \nSAG_39.79                   [, WP_015152680.1, WP_106167624.1]   \nCCALA_043                   [, WP_015152680.1, WP_106167624.1]   \nCCALA_051                   [, WP_015152680.1, WP_106544053.1]   \n[FACHB-1243]  [WP_192161564.1, WP_015152680.1, WP_192153488.1]   \n\n                                        Alcoholic liver disease  \\\nSAG_2025      [WP_317105049.1, WP_317106986.1, WP_317107202....   \nPCC_7203      [WP_015153669.1, WP_015156064.1, WP_015157396....   \nCCNUC1        [WP_250016271.1, WP_250013108.1, WP_250014167....   \nCCMEE_29      [, WP_250122037.1, WP_250122742.1, WP_25012462...   \nTS-821        [WP_104546376.1, WP_104545981.1, WP_104545578....   \nSAG_39.79     [WP_127023445.1, WP_015156064.1, WP_106168635....   \nCCALA_043     [WP_106170605.1, WP_106168487.1, WP_106168635....   \nCCALA_051     [WP_106548236.1, WP_106546858.1, WP_106548011....   \n[FACHB-1243]  [WP_192157065.1, WP_192156409.1, WP_192159810....   \n\n                                             Insulin resistance  \\\nSAG_2025      [WP_317104959.1, WP_317105190.1, WP_317105988....   \nPCC_7203      [WP_015152496.1, WP_015153582.1, WP_015156955....   \nCCNUC1        [WP_015153582.1, WP_250014293.1, WP_250015179....   \nCCMEE_29      [WP_250122838.1, WP_250124494.1, WP_250125650....   \nTS-821        [WP_104545061.1, WP_104546062.1, WP_104546641....   \nSAG_39.79     [WP_015153582.1, WP_106165906.1, WP_106167577....   \nCCALA_043     [WP_106165906.1, WP_106167577.1, WP_146138720....   \nCCALA_051     [WP_015153582.1, WP_015156955.1, WP_106547048....   \n[FACHB-1243]  [WP_192153359.1, WP_192153551.1, WP_192154872....   \n\n              Cushing syndrome  \\\nSAG_2025      [WP_317105035.1]   \nPCC_7203      [WP_015153682.1]   \nCCNUC1        [WP_181246444.1]   \nCCMEE_29      [WP_250123388.1]   \nTS-821        [WP_104545075.1]   \nSAG_39.79     [WP_181246444.1]   \nCCALA_043     [WP_181246444.1]   \nCCALA_051     [WP_233222804.1]   \n[FACHB-1243]  [WP_192157042.1]   \n\n                                         beta-Lactam resistance  \\\nSAG_2025      [WP_317107636.1, WP_317104623.1, WP_317105000....   \nPCC_7203      [WP_015155350.1, WP_015152159.1, WP_015152452....   \nCCNUC1        [WP_250012613.1, WP_250012614.1, WP_250014874....   \nCCMEE_29      [WP_250123179.1, WP_250125558.1, WP_250122033....   \nTS-821        [WP_104546183.1, WP_104544931.1, WP_104545574....   \nSAG_39.79     [WP_322505493.1, WP_106167283.1, WP_106167286....   \nCCALA_043     [WP_308726818.1, WP_241994322.1, WP_106167286....   \nCCALA_051     [WP_304529371.1, WP_233222467.1, WP_106545321....   \n[FACHB-1243]  [WP_192158172.1, WP_192160542.1, WP_192162258....   \n\n                                          Vancomycin resistance  \\\nSAG_2025      [WP_317107964.1, WP_317106393.1, WP_317107806....   \nPCC_7203      [WP_015156102.1, WP_015154300.1, WP_015155548....   \nCCNUC1        [WP_250013121.1, WP_250016744.1, WP_015155548....   \nCCMEE_29      [WP_250121270.1, WP_250125149.1, WP_250122294....   \nTS-821        [WP_104547741.1, WP_104546231.1, WP_104547385....   \nSAG_39.79     [WP_015156102.1, WP_127023264.1, WP_015155548....   \nCCALA_043     [WP_015156102.1, WP_015155548.1, WP_199755776....   \nCCALA_051     [WP_106546369.1, WP_106545010.1, WP_106546677....   \n[FACHB-1243]  [WP_242038488.1, WP_192159621.1, WP_192155161....   \n\n               Cationic antimicrobial peptide (CAMP) resistance  \\\nSAG_2025      [WP_317106388.1, WP_317105708.1, WP_317110826....   \nPCC_7203      [WP_015154305.1, WP_158631915.1, WP_015152747....   \nCCNUC1        [WP_250016751.1, WP_250017828.1, WP_106218204....   \nCCMEE_29      [WP_250124050.1, WP_250122514.1, WP_250125763....   \nTS-821        [WP_104546760.1, WP_104545808.1, WP_146087197....   \nSAG_39.79     [WP_106168595.1, WP_106167993.1, WP_127025319....   \nCCALA_043     [WP_106168595.1, WP_106167993.1, WP_158631915....   \nCCALA_051     [WP_106545014.1, WP_106547011.1, WP_199197222....   \n[FACHB-1243]  [WP_192159629.1, WP_192156287.1, WP_199317004....   \n\n                                       Platinum drug resistance  \\\nSAG_2025      [WP_317104686.1, WP_317107166.1, WP_317108005....   \nPCC_7203      [WP_015152221.1, WP_015154109.1, WP_015155142....   \nCCNUC1        [WP_015155142.1,\\n WP_015156874.1, WP_10616600...   \nCCMEE_29      [WP_250121179.1, WP_250121400.1, WP_250121404....   \nTS-821        [WP_104546265.1, WP_104546581.1, WP_104546797....   \nSAG_39.79     [WP_015152221.1,\\n WP_015156386.1, WP_01515687...   \nCCALA_043     [WP_015152221.1, WP_015156386.1, WP_015156874....   \nCCALA_051     [WP_106545144.1, WP_106545676.1, WP_106546851....   \n[FACHB-1243]  [WP_192154498.1,\\n WP_192154715.1, WP_19215618...   \n\n                                         Antifolate resistance  \nSAG_2025      [WP_317105845.1, WP_317105496.1, WP_317109160.1]  \nPCC_7203      [WP_015153714.1, WP_015155084.1, WP_015156596.1]  \nCCNUC1        [WP_250016299.1, WP_305883589.1, WP_250013670.1]  \nCCMEE_29                    [, WP_250126141.1, WP_250121739.1]  \nTS-821        [WP_104548487.1, WP_104544953.1, WP_104547029.1]  \nSAG_39.79     [WP_106167761.1, WP_127024476.1, WP_106167501.1]  \nCCALA_043                     [WP_106167761.1, WP_106167501.1]  \nCCALA_051     [WP_106547242.1, WP_106544986.1, WP_106544731.1]  \n[FACHB-1243]                  [WP_242038338.1, WP_192156619.1]  \n\n[9 rows x 286 columns]",
      "text/html": "<div>\n<style scoped>\n    .dataframe tbody tr th:only-of-type {\n        vertical-align: middle;\n    }\n\n    .dataframe tbody tr th {\n        vertical-align: top;\n    }\n\n    .dataframe thead th {\n        text-align: right;\n    }\n</style>\n<table border=\"1\" class=\"dataframe\">\n  <thead>\n    <tr style=\"text-align: right;\">\n      <th></th>\n      <th>Metabolic pathways</th>\n      <th>Biosynthesis of secondary metabolites</th>\n      <th>Microbial metabolism in diverse environments</th>\n      <th>Carbon metabolism</th>\n      <th>2-Oxocarboxylic acid metabolism</th>\n      <th>Fatty acid metabolism</th>\n      <th>Biosynthesis of amino acids</th>\n      <th>Nucleotide metabolism</th>\n      <th>Biosynthesis of nucleotide sugars</th>\n      <th>Biosynthesis of cofactors</th>\n      <th>...</th>\n      <th>Type II diabetes mellitus</th>\n      <th>Type I diabetes mellitus</th>\n      <th>Alcoholic liver disease</th>\n      <th>Insulin resistance</th>\n      <th>Cushing syndrome</th>\n      <th>beta-Lactam resistance</th>\n      <th>Vancomycin resistance</th>\n      <th>Cationic antimicrobial peptide (CAMP) resistance</th>\n      <th>Platinum drug resistance</th>\n      <th>Antifolate resistance</th>\n    </tr>\n  </thead>\n  <tbody>\n    <tr>\n      <th>SAG_2025</th>\n      <td>[WP_317105300.1, WP_317107603.1, WP_317111516....</td>\n      <td>[WP_317105300.1, WP_317107603.1, WP_317111516....</td>\n      <td>[WP_317105300.1, WP_317107603.1, WP_317111516....</td>\n      <td>[, WP_317107194.1, WP_317108710.1, WP_31710966...</td>\n      <td>[WP_317109663.1, WP_317104929.1, WP_015157199....</td>\n      <td>[WP_317104897.1, WP_317107573.1, WP_317108586....</td>\n      <td>[WP_317109992.1, WP_317104920.1, WP_317106334....</td>\n      <td>[WP_039716581.1, WP_317110203.1, WP_317108508....</td>\n      <td>[WP_015155929.1, WP_317110133.1, WP_317104785....</td>\n      <td>[WP_317107603.1, WP_317111516.1, WP_015155929....</td>\n      <td>...</td>\n      <td>[WP_317107131.1]</td>\n      <td>[WP_317112306.1, WP_015152680.1, WP_317104896.1]</td>\n      <td>[WP_317105049.1, WP_317106986.1, WP_317107202....</td>\n      <td>[WP_317104959.1, WP_317105190.1, WP_317105988....</td>\n      <td>[WP_317105035.1]</td>\n      <td>[WP_317107636.1, WP_317104623.1, WP_317105000....</td>\n      <td>[WP_317107964.1, WP_317106393.1, WP_317107806....</td>\n      <td>[WP_317106388.1, WP_317105708.1, WP_317110826....</td>\n      <td>[WP_317104686.1, WP_317107166.1, WP_317108005....</td>\n      <td>[WP_317105845.1, WP_317105496.1, WP_317109160.1]</td>\n    </tr>\n    <tr>\n      <th>PCC_7203</th>\n      <td>[WP_015153369.1, WP_015153057.1, WP_015153963....</td>\n      <td>[WP_015153369.1, WP_015153057.1, WP_015152545....</td>\n      <td>[WP_015153369.1, WP_015153057.1, WP_015155313....</td>\n      <td>[, WP_015154714.1, WP_245570537.1, WP_01515702...</td>\n      <td>[WP_015157020.1, WP_015152534.1, WP_015157199....</td>\n      <td>[WP_015152569.1, WP_015155294.1, WP_041462544....</td>\n      <td>[WP_015153057.1, WP_015152545.1, WP_015154350....</td>\n      <td>[WP_015154476.1, WP_015152857.1, WP_015153714....</td>\n      <td>[WP_015155929.1, WP_015152816.1, WP_015152330....</td>\n      <td>[, WP_015155929.1, WP_015152569.1, WP_01515529...</td>\n      <td>...</td>\n      <td>[WP_015155216.1]</td>\n      <td>[, WP_015152570.1, WP_015152680.1]</td>\n      <td>[WP_015153669.1, WP_015156064.1, WP_015157396....</td>\n      <td>[WP_015152496.1, WP_015153582.1, WP_015156955....</td>\n      <td>[WP_015153682.1]</td>\n      <td>[WP_015155350.1, WP_015152159.1, WP_015152452....</td>\n      <td>[WP_015156102.1, WP_015154300.1, WP_015155548....</td>\n      <td>[WP_015154305.1, WP_158631915.1, WP_015152747....</td>\n      <td>[WP_015152221.1, WP_015154109.1, WP_015155142....</td>\n      <td>[WP_015153714.1, WP_015155084.1, WP_015156596.1]</td>\n    </tr>\n    <tr>\n      <th>CCNUC1</th>\n      <td>[WP_250016076.1, WP_250017807.1, WP_250015754....</td>\n      <td>[WP_250016076.1, WP_250017807.1, WP_250015754....</td>\n      <td>[WP_250016076.1, WP_250017807.1, WP_250015754....</td>\n      <td>[, WP_250016536.1, WP_250017011.1, WP_10616801...</td>\n      <td>[WP_106168018.1, WP_250015213.1, WP_015157199....</td>\n      <td>[WP_250012585.1, WP_250013004.1, WP_250013015....</td>\n      <td>[WP_250015754.1, WP_015152545.1, WP_250016795....</td>\n      <td>[WP_015154476.1, WP_250015472.1, WP_250016299....</td>\n      <td>[WP_015155929.1, WP_015152816.1, WP_015152330....</td>\n      <td>[WP_250017807.1, WP_015155929.1, WP_250012585....</td>\n      <td>...</td>\n      <td>[WP_106166433.1]</td>\n      <td>[WP_250017945.1, WP_015152680.1, WP_106167624.1]</td>\n      <td>[WP_250016271.1, WP_250013108.1, WP_250014167....</td>\n      <td>[WP_015153582.1, WP_250014293.1, WP_250015179....</td>\n      <td>[WP_181246444.1]</td>\n      <td>[WP_250012613.1, WP_250012614.1, WP_250014874....</td>\n      <td>[WP_250013121.1, WP_250016744.1, WP_015155548....</td>\n      <td>[WP_250016751.1, WP_250017828.1, WP_106218204....</td>\n      <td>[WP_015155142.1,\\n WP_015156874.1, WP_10616600...</td>\n      <td>[WP_250016299.1, WP_305883589.1, WP_250013670.1]</td>\n    </tr>\n    <tr>\n      <th>CCMEE_29</th>\n      <td>[WP_250122538.1, WP_250124344.1, WP_250124395....</td>\n      <td>[WP_250122538.1, WP_250124344.1, WP_250123322....</td>\n      <td>[WP_250122538.1, WP_250124344.1, WP_250121345....</td>\n      <td>[WP_250126150.1, WP_250121238.1, WP_250123680....</td>\n      <td>[WP_250123680.1, WP_250124016.1, WP_250125718....</td>\n      <td>[WP_250121640.1, WP_250121757.1, WP_250122377....</td>\n      <td>[WP_250124344.1, WP_250123322.1, WP_250125201....</td>\n      <td>[WP_250123285.1, WP_250124757.1, WP_250125855....</td>\n      <td>[WP_250122670.1, WP_250123272.1, WP_250122657....</td>\n      <td>[, WP_250122670.1, WP_250123272.1, WP_25012164...</td>\n      <td>...</td>\n      <td>[WP_250122753.1, WP_250125191.1]</td>\n      <td>[, WP_250122604.1, WP_250124781.1]</td>\n      <td>[, WP_250122037.1, WP_250122742.1, WP_25012462...</td>\n      <td>[WP_250122838.1, WP_250124494.1, WP_250125650....</td>\n      <td>[WP_250123388.1]</td>\n      <td>[WP_250123179.1, WP_250125558.1, WP_250122033....</td>\n      <td>[WP_250121270.1, WP_250125149.1, WP_250122294....</td>\n      <td>[WP_250124050.1, WP_250122514.1, WP_250125763....</td>\n      <td>[WP_250121179.1, WP_250121400.1, WP_250121404....</td>\n      <td>[, WP_250126141.1, WP_250121739.1]</td>\n    </tr>\n    <tr>\n      <th>TS-821</th>\n      <td>[WP_104545180.1, WP_104548630.1, WP_104545654....</td>\n      <td>[WP_104545180.1, WP_104548630.1, WP_104547952....</td>\n      <td>[WP_104545180.1, WP_104548630.1, WP_104547073....</td>\n      <td>[WP_104545957.1, WP_246841311.1, WP_104547933....</td>\n      <td>[WP_104547933.1, WP_104548717.1, WP_256387450....</td>\n      <td>[WP_104548581.1, WP_104548978.1, WP_104545578....</td>\n      <td>[WP_104548630.1, WP_104547952.1, WP_104547979....</td>\n      <td>[WP_104545902.1, WP_104547020.1, WP_104548487....</td>\n      <td>[WP_104547243.1, WP_104546881.1, WP_104547082....</td>\n      <td>[, WP_104547243.1, WP_104548581.1, WP_10454714...</td>\n      <td>...</td>\n      <td>[WP_104545636.1, WP_104546055.1]</td>\n      <td>[, WP_104548537.1, WP_104548582.1]</td>\n      <td>[WP_104546376.1, WP_104545981.1, WP_104545578....</td>\n      <td>[WP_104545061.1, WP_104546062.1, WP_104546641....</td>\n      <td>[WP_104545075.1]</td>\n      <td>[WP_104546183.1, WP_104544931.1, WP_104545574....</td>\n      <td>[WP_104547741.1, WP_104546231.1, WP_104547385....</td>\n      <td>[WP_104546760.1, WP_104545808.1, WP_146087197....</td>\n      <td>[WP_104546265.1, WP_104546581.1, WP_104546797....</td>\n      <td>[WP_104548487.1, WP_104544953.1, WP_104547029.1]</td>\n    </tr>\n    <tr>\n      <th>SAG_39.79</th>\n      <td>[WP_106168515.1, WP_199755420.1, WP_015154882....</td>\n      <td>[WP_106168515.1, WP_199755420.1, WP_015152545....</td>\n      <td>[WP_106168515.1, WP_199755420.1, WP_106166902....</td>\n      <td>[, WP_106171663.1, WP_322505859.1, WP_10616801...</td>\n      <td>[WP_106168018.1, WP_015152534.1, WP_015157199....</td>\n      <td>[WP_015155294.1,\\n WP_084739168.1, WP_10616717...</td>\n      <td>[WP_199755420.1, WP_015152545.1, WP_106167261....</td>\n      <td>[WP_106169956.1, WP_106168253.1, WP_106167761....</td>\n      <td>[WP_015155929.1, WP_106166913.1, WP_015152816....</td>\n      <td>[, WP_015155929.1, WP_106166913.1, WP_01515529...</td>\n      <td>...</td>\n      <td>[WP_106166433.1]</td>\n      <td>[, WP_015152680.1, WP_106167624.1]</td>\n      <td>[WP_127023445.1, WP_015156064.1, WP_106168635....</td>\n      <td>[WP_015153582.1, WP_106165906.1, WP_106167577....</td>\n      <td>[WP_181246444.1]</td>\n      <td>[WP_322505493.1, WP_106167283.1, WP_106167286....</td>\n      <td>[WP_015156102.1, WP_127023264.1, WP_015155548....</td>\n      <td>[WP_106168595.1, WP_106167993.1, WP_127025319....</td>\n      <td>[WP_015152221.1,\\n WP_015156386.1, WP_01515687...</td>\n      <td>[WP_106167761.1, WP_127024476.1, WP_106167501.1]</td>\n    </tr>\n    <tr>\n      <th>CCALA_043</th>\n      <td>[WP_106168515.1, WP_219888966.1, WP_015153963....</td>\n      <td>[WP_106168515.1, WP_219888966.1, WP_015152545....</td>\n      <td>[WP_106168515.1, WP_219888966.1, WP_106166902....</td>\n      <td>[, WP_106171663.1, WP_258184041.1, WP_10616801...</td>\n      <td>[WP_106168018.1, WP_015152534.1, WP_015157199....</td>\n      <td>[WP_015155294.1, WP_084739168.1, WP_106166466....</td>\n      <td>[WP_219888966.1, WP_015152545.1, WP_106167261....</td>\n      <td>[WP_106169956.1, WP_106168253.1, WP_106167761....</td>\n      <td>[WP_015155929.1, WP_106166913.1, WP_015152816....</td>\n      <td>[, WP_015155929.1, WP_106166913.1, WP_01515529...</td>\n      <td>...</td>\n      <td>[WP_106166433.1]</td>\n      <td>[, WP_015152680.1, WP_106167624.1]</td>\n      <td>[WP_106170605.1, WP_106168487.1, WP_106168635....</td>\n      <td>[WP_106165906.1, WP_106167577.1, WP_146138720....</td>\n      <td>[WP_181246444.1]</td>\n      <td>[WP_308726818.1, WP_241994322.1, WP_106167286....</td>\n      <td>[WP_015156102.1, WP_015155548.1, WP_199755776....</td>\n      <td>[WP_106168595.1, WP_106167993.1, WP_158631915....</td>\n      <td>[WP_015152221.1, WP_015156386.1, WP_015156874....</td>\n      <td>[WP_106167761.1, WP_106167501.1]</td>\n    </tr>\n    <tr>\n      <th>CCALA_051</th>\n      <td>[WP_233222763.1, WP_199197642.1, WP_106544194....</td>\n      <td>[WP_233222763.1, WP_199197642.1, WP_015152545....</td>\n      <td>[WP_233222763.1, WP_199197642.1, WP_106544662....</td>\n      <td>[, WP_015154714.1, WP_106544736.1, WP_10654730...</td>\n      <td>[WP_106547308.1, WP_106544039.1, WP_106547593....</td>\n      <td>[WP_106544052.1, WP_106544627.1, WP_106544670....</td>\n      <td>[WP_199197642.1, WP_015152545.1, WP_106547477....</td>\n      <td>[WP_015154476.1, WP_106546575.1, WP_106547242....</td>\n      <td>[WP_106547347.1, WP_106544844.1, WP_015152330....</td>\n      <td>[, WP_106547347.1, WP_106544052.1, WP_10654462...</td>\n      <td>...</td>\n      <td>[WP_106544245.1]</td>\n      <td>[, WP_015152680.1, WP_106544053.1]</td>\n      <td>[WP_106548236.1, WP_106546858.1, WP_106548011....</td>\n      <td>[WP_015153582.1, WP_015156955.1, WP_106547048....</td>\n      <td>[WP_233222804.1]</td>\n      <td>[WP_304529371.1, WP_233222467.1, WP_106545321....</td>\n      <td>[WP_106546369.1, WP_106545010.1, WP_106546677....</td>\n      <td>[WP_106545014.1, WP_106547011.1, WP_199197222....</td>\n      <td>[WP_106545144.1, WP_106545676.1, WP_106546851....</td>\n      <td>[WP_106547242.1, WP_106544986.1, WP_106544731.1]</td>\n    </tr>\n    <tr>\n      <th>[FACHB-1243]</th>\n      <td>[WP_192161740.1, WP_192161666.1, WP_192155277....</td>\n      <td>[WP_192161740.1, WP_192161666.1, WP_192153513....</td>\n      <td>[WP_192161740.1, WP_192161666.1, WP_192158234....</td>\n      <td>[, WP_192154372.1, WP_192160734.1, WP_19215361...</td>\n      <td>[WP_192153614.1, WP_192153524.1, WP_192153634....</td>\n      <td>[WP_192153489.1, WP_192158253.1, WP_192161863....</td>\n      <td>[, WP_192153513.1, WP_192159723.1, WP_19215361...</td>\n      <td>[, WP_192156040.1, WP_242038338.1, WP_19215645...</td>\n      <td>[WP_192161192.1, WP_192155956.1, WP_192155394....</td>\n      <td>[WP_192161666.1, WP_192161192.1, WP_192153489....</td>\n      <td>...</td>\n      <td>[WP_192161410.1]</td>\n      <td>[WP_192161564.1, WP_015152680.1, WP_192153488.1]</td>\n      <td>[WP_192157065.1, WP_192156409.1, WP_192159810....</td>\n      <td>[WP_192153359.1, WP_192153551.1, WP_192154872....</td>\n      <td>[WP_192157042.1]</td>\n      <td>[WP_192158172.1, WP_192160542.1, WP_192162258....</td>\n      <td>[WP_242038488.1, WP_192159621.1, WP_192155161....</td>\n      <td>[WP_192159629.1, WP_192156287.1, WP_199317004....</td>\n      <td>[WP_192154498.1,\\n WP_192154715.1, WP_19215618...</td>\n      <td>[WP_242038338.1, WP_192156619.1]</td>\n    </tr>\n  </tbody>\n</table>\n<p>9 rows × 286 columns</p>\n</div>"
     },
     "execution_count": 139,
     "metadata": {},
     "output_type": "execute_result"
    }
   ],
   "source": [
    "df_path"
   ],
   "metadata": {
    "collapsed": false,
    "ExecuteTime": {
     "end_time": "2024-04-19T14:12:09.580766Z",
     "start_time": "2024-04-19T14:12:09.540062Z"
    }
   },
   "id": "6930899a55d84323",
   "execution_count": 139
  },
  {
   "cell_type": "code",
   "outputs": [
    {
     "name": "stdout",
     "output_type": "stream",
     "text": [
      "CCNUC1\n",
      "Index(['motivi', 'motivo'], dtype='object')\n",
      "CCNUC1\n",
      "CCALA_043\n",
      "Index(['motivi', 'motivo'], dtype='object')\n",
      "CCALA_043\n",
      "SAG_2025\n",
      "Index(['motivi', 'motivo'], dtype='object')\n",
      "SAG_2025\n",
      "CCALA_051\n",
      "Index(['motivi', 'motivo'], dtype='object')\n",
      "CCALA_051\n",
      "[FACHB-1243]\n",
      "Index(['motivi', 'motivo'], dtype='object')\n",
      "[FACHB-1243]\n",
      "SAG_39.79\n",
      "Index(['motivi', 'motivo'], dtype='object')\n",
      "SAG_39.79\n",
      "CCMEE_29\n",
      "Index(['motivi', 'motivo'], dtype='object')\n",
      "CCMEE_29\n",
      "TS-821\n",
      "Index(['motivi', 'motivo'], dtype='object')\n",
      "TS-821\n",
      "PCC_7203\n",
      "Index(['motivi', 'motivo'], dtype='object')\n",
      "PCC_7203\n"
     ]
    },
    {
     "data": {
      "text/plain": "         locus_tag                                             motivi  \\\n0     CHRO_RS00010                              [ttAGTTAACCTATCCCTaa]   \n1     CHRO_RS00040                              [cAGTGGCATACTTATACTt]   \n2     CHRO_RS00045               [gAGTATGGCTTTACTg, GAGTATGGCTTTACTG]   \n3     CHRO_RS00050                           [gaaAGTAGGGATCGCTACTttc]   \n4     CHRO_RS00060  [cttAGTGGCTGGTGACTaag, cAGTCACCAGTCACTc, tAGTA...   \n...            ...                                                ...   \n2672  CHRO_RS34600                                [tAGTTCTTTAGGGACTt]   \n2673  CHRO_RS34605                                   [ttAGTGCGTCCTaa]   \n2674  CHRO_RS34615                                 [ccAGTGCTGGGACTgg]   \n2675  CHRO_RS34640                               [gaaAGTCTCTCGACTttc]   \n2676  CHRO_RS34670                                [aaAGTCTGCATAACTtt]   \n\n                                                product  gene      protein_id  \\\n0        chromosomal replication initiator protein DnaA  dnaA  WP_015152110.1   \n1     bifunctional 4-hydroxy-2-oxoglutarate aldolase...        WP_015152115.1   \n2                     DUF2382 domain-containing protein        WP_015152116.1   \n3                     DUF2382 domain-containing protein        WP_015152117.1   \n4                                caspase family protein        WP_015152119.1   \n...                                                 ...   ...             ...   \n2672                               hypothetical protein        WP_281168607.1   \n2673                               hypothetical protein        WP_256498639.1   \n2674                               hypothetical protein        WP_281168610.1   \n2675                               hypothetical protein        WP_015157479.1   \n2676                               hypothetical protein        WP_281168667.1   \n\n                                             GO_process  \\\n0     GO:0006270 - DNA replication initiation [Evide...   \n1                                                         \n2                                                         \n3                                                         \n4                                                         \n...                                                 ...   \n2672                                                      \n2673                                                      \n2674                                                      \n2675                                                      \n2676                                                      \n\n                                  GO_function GO_component  \\\n0     GO:0003677 - DNA binding [Evidence IEA]                \n1                                                            \n2                                                            \n3                                                            \n4                                                            \n...                                       ...          ...   \n2672                                                         \n2673                                                         \n2674                                                         \n2675                                                         \n2676                                                         \n\n                                             Kegg Brite pathways  \n0     ko03032 - DNA replication proteins, ko03036 - ...      NaN  \n1                                     ko01000 - Enzymes      NaN  \n2                                                   NaN      NaN  \n3                                                   NaN      NaN  \n4                                                   NaN      NaN  \n...                                                 ...      ...  \n2672                                                NaN      NaN  \n2673                                                NaN      NaN  \n2674                                                NaN      NaN  \n2675                                                NaN      NaN  \n2676                                                NaN      NaN  \n\n[2677 rows x 10 columns]",
      "text/html": "<div>\n<style scoped>\n    .dataframe tbody tr th:only-of-type {\n        vertical-align: middle;\n    }\n\n    .dataframe tbody tr th {\n        vertical-align: top;\n    }\n\n    .dataframe thead th {\n        text-align: right;\n    }\n</style>\n<table border=\"1\" class=\"dataframe\">\n  <thead>\n    <tr style=\"text-align: right;\">\n      <th></th>\n      <th>locus_tag</th>\n      <th>motivi</th>\n      <th>product</th>\n      <th>gene</th>\n      <th>protein_id</th>\n      <th>GO_process</th>\n      <th>GO_function</th>\n      <th>GO_component</th>\n      <th>Kegg Brite</th>\n      <th>pathways</th>\n    </tr>\n  </thead>\n  <tbody>\n    <tr>\n      <th>0</th>\n      <td>CHRO_RS00010</td>\n      <td>[ttAGTTAACCTATCCCTaa]</td>\n      <td>chromosomal replication initiator protein DnaA</td>\n      <td>dnaA</td>\n      <td>WP_015152110.1</td>\n      <td>GO:0006270 - DNA replication initiation [Evide...</td>\n      <td>GO:0003677 - DNA binding [Evidence IEA]</td>\n      <td></td>\n      <td>ko03032 - DNA replication proteins, ko03036 - ...</td>\n      <td>NaN</td>\n    </tr>\n    <tr>\n      <th>1</th>\n      <td>CHRO_RS00040</td>\n      <td>[cAGTGGCATACTTATACTt]</td>\n      <td>bifunctional 4-hydroxy-2-oxoglutarate aldolase...</td>\n      <td></td>\n      <td>WP_015152115.1</td>\n      <td></td>\n      <td></td>\n      <td></td>\n      <td>ko01000 - Enzymes</td>\n      <td>NaN</td>\n    </tr>\n    <tr>\n      <th>2</th>\n      <td>CHRO_RS00045</td>\n      <td>[gAGTATGGCTTTACTg, GAGTATGGCTTTACTG]</td>\n      <td>DUF2382 domain-containing protein</td>\n      <td></td>\n      <td>WP_015152116.1</td>\n      <td></td>\n      <td></td>\n      <td></td>\n      <td>NaN</td>\n      <td>NaN</td>\n    </tr>\n    <tr>\n      <th>3</th>\n      <td>CHRO_RS00050</td>\n      <td>[gaaAGTAGGGATCGCTACTttc]</td>\n      <td>DUF2382 domain-containing protein</td>\n      <td></td>\n      <td>WP_015152117.1</td>\n      <td></td>\n      <td></td>\n      <td></td>\n      <td>NaN</td>\n      <td>NaN</td>\n    </tr>\n    <tr>\n      <th>4</th>\n      <td>CHRO_RS00060</td>\n      <td>[cttAGTGGCTGGTGACTaag, cAGTCACCAGTCACTc, tAGTA...</td>\n      <td>caspase family protein</td>\n      <td></td>\n      <td>WP_015152119.1</td>\n      <td></td>\n      <td></td>\n      <td></td>\n      <td>NaN</td>\n      <td>NaN</td>\n    </tr>\n    <tr>\n      <th>...</th>\n      <td>...</td>\n      <td>...</td>\n      <td>...</td>\n      <td>...</td>\n      <td>...</td>\n      <td>...</td>\n      <td>...</td>\n      <td>...</td>\n      <td>...</td>\n      <td>...</td>\n    </tr>\n    <tr>\n      <th>2672</th>\n      <td>CHRO_RS34600</td>\n      <td>[tAGTTCTTTAGGGACTt]</td>\n      <td>hypothetical protein</td>\n      <td></td>\n      <td>WP_281168607.1</td>\n      <td></td>\n      <td></td>\n      <td></td>\n      <td>NaN</td>\n      <td>NaN</td>\n    </tr>\n    <tr>\n      <th>2673</th>\n      <td>CHRO_RS34605</td>\n      <td>[ttAGTGCGTCCTaa]</td>\n      <td>hypothetical protein</td>\n      <td></td>\n      <td>WP_256498639.1</td>\n      <td></td>\n      <td></td>\n      <td></td>\n      <td>NaN</td>\n      <td>NaN</td>\n    </tr>\n    <tr>\n      <th>2674</th>\n      <td>CHRO_RS34615</td>\n      <td>[ccAGTGCTGGGACTgg]</td>\n      <td>hypothetical protein</td>\n      <td></td>\n      <td>WP_281168610.1</td>\n      <td></td>\n      <td></td>\n      <td></td>\n      <td>NaN</td>\n      <td>NaN</td>\n    </tr>\n    <tr>\n      <th>2675</th>\n      <td>CHRO_RS34640</td>\n      <td>[gaaAGTCTCTCGACTttc]</td>\n      <td>hypothetical protein</td>\n      <td></td>\n      <td>WP_015157479.1</td>\n      <td></td>\n      <td></td>\n      <td></td>\n      <td>NaN</td>\n      <td>NaN</td>\n    </tr>\n    <tr>\n      <th>2676</th>\n      <td>CHRO_RS34670</td>\n      <td>[aaAGTCTGCATAACTtt]</td>\n      <td>hypothetical protein</td>\n      <td></td>\n      <td>WP_281168667.1</td>\n      <td></td>\n      <td></td>\n      <td></td>\n      <td>NaN</td>\n      <td>NaN</td>\n    </tr>\n  </tbody>\n</table>\n<p>2677 rows × 10 columns</p>\n</div>"
     },
     "execution_count": 143,
     "metadata": {},
     "output_type": "execute_result"
    }
   ],
   "source": [
    "from pathlib import Path\n",
    "import pandas as pd\n",
    "import numpy as np\n",
    "import ast\n",
    "dir_fimo=Path(\"/home/davide/Desktop/genomiChro/intergeniche_RefSeq/fimo/\")\n",
    "dir_motivi=Path(\"/home/davide/Desktop/motivi\")\n",
    "refseq=Path(\"/home/davide/Desktop/genomiChro/annotati_Refseq\")\n",
    "blast=Path(\"/home/davide/Desktop/genomiChro/blastvsPCC7120\")\n",
    "for file in dir_fimo.glob(\"**/fimo.tsv\"):\n",
    "    for file2 in dir_motivi.glob(\"*.csv\"):\n",
    "        if file2.stem in file.parent.name:\n",
    "            print(file2.stem)\n",
    "            df_fimo=pd.read_csv(file,sep=\"\\t\",header=0,skipfooter=3,engine='python')\n",
    "            df_motivi=pd.read_csv(file2)\n",
    "            df_fimo=df_fimo[[\"sequence_name\",'matched_sequence']]\n",
    "            df_fimo.columns=[\"locus_tag\",\"motivo\"]\n",
    "            #rename first column df_motivi locus_tag\n",
    "            df_motivi.rename(columns={\"Unnamed: 0\":\"locus_tag\"},inplace=True)\n",
    "            #set locus_tag as index\n",
    "            df_motivi.set_index(\"locus_tag\",inplace=True)\n",
    "            df_fimo.set_index(\"locus_tag\",inplace=True)\n",
    "            df=df_motivi.join(df_fimo,how=\"outer\")\n",
    "            print(df.columns)\n",
    "            #df[\"motivo\"]=df[\"motivo\"].astype(str)\n",
    "            df[\"motivi\"] = df[\"motivi\"].fillna('[]')\n",
    "            df[\"motivi\"]=df[\"motivi\"].apply(ast.literal_eval)\n",
    "            #df[\"motivo\"]=df[\"motivo\"].apply(lambda x: [x])\n",
    "            df[\"motivi\"] = df.apply(lambda row: row[\"motivi\"]+[row[\"motivo\"]] if pd.notna(row[\"motivo\"]) else row[\"motivi\"], axis=1)\n",
    "            break\n",
    "\n",
    "    for file4 in refseq.iterdir():\n",
    "        nome=file4.stem[:file4.stem.find(\"(\")]\n",
    "        if nome in file.parent.name:\n",
    "            print(file2.stem)\n",
    "\n",
    "            from Bio import SeqIO\n",
    "            lista=[]\n",
    "            for record in SeqIO.parse(file4, \"genbank\"):\n",
    "                for feature in record.features:\n",
    "                    if feature.type==\"CDS\":\n",
    "                        locus_tag=feature.qualifiers[\"locus_tag\"][0]\n",
    "                        if \"protein_id\" in feature.qualifiers:\n",
    "                            product=feature.qualifiers.get(\"product\",[\"\"])[0]\n",
    "                            gene=feature.qualifiers.get(\"gene\",[\"\"])[0]\n",
    "                            protein_id=feature.qualifiers[\"protein_id\"][0]\n",
    "                            GO_process=feature.qualifiers.get(\"GO_process\",[\"\"])[0]\n",
    "                            GO_function=feature.qualifiers.get(\"GO_function\",[\"\"])[0]\n",
    "                            GO_component=feature.qualifiers.get(\"GO_component\",[\"\"])[0]\n",
    "                            lista.append([locus_tag,product,gene,protein_id,GO_process,GO_function,GO_component])\n",
    "            data=pd.DataFrame(lista,columns=[\"locus_tag\",\"product\",\"gene\",\"protein_id\",\"GO_process\",\"GO_function\",\"GO_component\"])\n",
    "            df=pd.merge(df,data,how=\"left\",on=\"locus_tag\")\n",
    "            df_brite=df_br.loc[file2.stem].explode()\n",
    "            df_brite=df_brite.reset_index()\n",
    "            df_brite=df_brite.set_index(file2.stem)\n",
    "            df_brite=df_brite.rename(columns={\"index\":\"Kegg Brite\"})\n",
    "            df_brite.index.name=\"protein_id\"\n",
    "            df_brite=df_brite.groupby(\"protein_id\")[\"Kegg Brite\"].apply(lambda x: \", \".join(x))\n",
    "            df=pd.merge(df,df_brite,how=\"left\",on=\"protein_id\")\n",
    "            df_pathways=df_path.loc[\"CCMEE_29\"].explode()\n",
    "            df_pathways=df_pathways.reset_index()\n",
    "            #set idnex to pid\n",
    "            df_pathways=df_pathways.set_index(\"CCMEE_29\")\n",
    "            df_pathways=df_pathways.rename(columns={\"index\":\"pathways\"})\n",
    "            df_pathways.index.name=\"protein_id\"\n",
    "            df_pathways=df_pathways.groupby(\"protein_id\")[\"pathways\"].apply(lambda x: \", \".join(x))\n",
    "            \n",
    "            df=pd.merge(df,df_pathways,how=\"left\",on=\"protein_id\")\n",
    "            #drop motivo column\n",
    "            df.drop(columns=[\"motivo\"],inplace=True)\n",
    "            #save the dataframe in a new file\n",
    "            df.to_csv(f\"/home/davide/Desktop/genomiChro/motiviAnnotati/{file2.stem}.csv\",index=False)\n",
    "            break\n",
    "\n",
    "df\n"
   ],
   "metadata": {
    "collapsed": false,
    "ExecuteTime": {
     "end_time": "2024-04-19T14:17:21.290846Z",
     "start_time": "2024-04-19T14:17:15.686593Z"
    }
   },
   "id": "2e6b7ed448495998",
   "execution_count": 143
  },
  {
   "cell_type": "code",
   "outputs": [
    {
     "name": "stdout",
     "output_type": "stream",
     "text": [
      "Index([0, 1, 2, 3, 4, 5, 6, 7, 8, 9, 10, 11], dtype='int64')\n",
      "Index([0, 1, 2, 3, 4, 5, 6, 7, 8, 9, 10, 11], dtype='int64')\n"
     ]
    }
   ],
   "source": [
    "dir=Path(\"/home/davide/Desktop/genomiChro/motiviAnnotati\")\n",
    "for file in dir.glob(\"*.csv\"):\n",
    "    df=pd.read_csv(file)\n",
    "    for file2 in blast.iterdir():\n",
    "        if file2.stem in file.name:\n",
    "        #read the file\n",
    "            df_blastp=pd.read_csv(file2,sep=\"\\t\",header=None)\n",
    "            #set the columns name\n",
    "            print(df_blastp.columns)\n",
    "            df_blastp.columns=[\"protein_id\",\"subject\",\"identity\",\"length\",\"mismatch\",\"gapopen\",\"qstart\",\"qend\",\"sstart\",\"send\",\"evalue\",\"bitscore\"]\n",
    "            #drop the columns that are not useful\n",
    "            df_blastp.drop([\"mismatch\",\"gapopen\",\"qstart\",\"qend\",\"sstart\",\"send\",\"bitscore\"],axis=1,inplace=True)\n",
    "            #create a new column with the old_locus_tag\n",
    "            df_blastp.loc[:,\"old_locus_tag\"]=df_blastp.loc[:,\"subject\"].str.extract(r\"\\((.*?)\\)\",expand=False)\n",
    "            #keep only the first hit for each query\n",
    "            df.drop_duplicates(subset=\"protein_id\",keep=\"first\",inplace=True)\n",
    "            #order the dataframe by evalue\n",
    "            df_blastp.sort_values(by=\"evalue\",inplace=True)\n",
    "            #drop duplicates of old_locus_tag keeping the first with the lowest evalue\n",
    "            df_blastp.drop_duplicates(subset=\"old_locus_tag\",keep=\"first\",inplace=True)\n",
    "            #create a new column with the information of the blastp\n",
    "            df_blastp[\"info_blastp\"]='id:'+df_blastp[\"identity\"].astype(str)+\"%, len:\"+df_blastp[\"length\"].astype(str)+\", evalue:\"+df_blastp[\"evalue\"].astype(str)\n",
    "            #drop the columns that are not useful\n",
    "            df_blastp.drop(columns=[\"subject\",\"identity\",\"length\",\"evalue\"],inplace=True)\n",
    "            #save the dataframe in a new file\n",
    "            #join with df_evi\n",
    "            df_blastp=pd.merge(df_blastp,df_evi,how=\"inner\",on=\"old_locus_tag\")\n",
    "            df=pd.merge(df,df_blastp,how=\"left\",on=\"protein_id\")\n",
    "            df.to_excel(file.parent/f\"evidenze{file2.stem}.xlsx\",index=False)"
   ],
   "metadata": {
    "collapsed": false,
    "is_executing": true,
    "ExecuteTime": {
     "start_time": "2024-04-19T14:18:55.577400Z"
    }
   },
   "id": "7b7f23adea059f90",
   "execution_count": null
  },
  {
   "cell_type": "code",
   "outputs": [],
   "source": [],
   "metadata": {
    "collapsed": false
   },
   "id": "899b7e1e2b87079d"
  }
 ],
 "metadata": {
  "kernelspec": {
   "display_name": "Python 3",
   "language": "python",
   "name": "python3"
  },
  "language_info": {
   "codemirror_mode": {
    "name": "ipython",
    "version": 2
   },
   "file_extension": ".py",
   "mimetype": "text/x-python",
   "name": "python",
   "nbconvert_exporter": "python",
   "pygments_lexer": "ipython2",
   "version": "2.7.6"
  }
 },
 "nbformat": 4,
 "nbformat_minor": 5
}
