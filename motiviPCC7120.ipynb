{
 "cells": [
  {
   "cell_type": "code",
   "outputs": [],
   "source": [
    "import pandas as pd\n",
    "df=pd.read_excel(\"/home/davide/Downloads/PCC7120_genregdaLexA.xlsx\")\n",
    "# Select rows where 'gene' is not null\n",
    "mask = df['gene'].notnull()\n",
    "\n",
    "# Apply the operation only to those rows\n",
    "df.loc[mask, 'Note'] = df.loc[mask, 'Note'] + \". Gene: \" + df.loc[mask, 'gene']\n",
    "df\n",
    "df.to_excel(\"/home/davide/Downloads/PCC7120_genregdaLexA.xlsx\", index=False)\n"
   ],
   "metadata": {
    "collapsed": false,
    "ExecuteTime": {
     "end_time": "2024-04-24T08:34:23.772609Z",
     "start_time": "2024-04-24T08:34:23.697281Z"
    }
   },
   "id": "9c0f253f7b6effe2",
   "execution_count": 4
  },
  {
   "cell_type": "code",
   "outputs": [],
   "source": [
    "df=pd.read_excel(\"/home/davide/Downloads/PCC6803_genregdaLexA.xlsx\")\n",
    "# Select rows where 'gene' is not null\n",
    "mask = df['gene'].notnull()\n",
    "\n",
    "# Apply the operation only to those rows\n",
    "df.loc[mask, 'Note'] = df.loc[mask, 'Note'] + \". Gene: \" + df.loc[mask, 'gene']\n",
    "df\n",
    "df.to_excel(\"/home/davide/Downloads/PCC6803_genregdaLexA.xlsx\", index=False)"
   ],
   "metadata": {
    "collapsed": false,
    "ExecuteTime": {
     "end_time": "2024-04-24T08:34:47.920749Z",
     "start_time": "2024-04-24T08:34:47.894940Z"
    }
   },
   "id": "9b8785114ec7b853",
   "execution_count": 5
  },
  {
   "cell_type": "code",
   "outputs": [],
   "source": [],
   "metadata": {
    "collapsed": false
   },
   "id": "9694ef328f5746a9"
  }
 ],
 "metadata": {
  "kernelspec": {
   "display_name": "Python 3",
   "language": "python",
   "name": "python3"
  },
  "language_info": {
   "codemirror_mode": {
    "name": "ipython",
    "version": 2
   },
   "file_extension": ".py",
   "mimetype": "text/x-python",
   "name": "python",
   "nbconvert_exporter": "python",
   "pygments_lexer": "ipython2",
   "version": "2.7.6"
  }
 },
 "nbformat": 4,
 "nbformat_minor": 5
}
