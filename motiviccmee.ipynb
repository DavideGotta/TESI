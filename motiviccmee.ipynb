{
 "cells": [
  {
   "cell_type": "code",
   "outputs": [
    {
     "data": {
      "text/plain": "'T'"
     },
     "execution_count": 116,
     "metadata": {},
     "output_type": "execute_result"
    }
   ],
   "source": [
    "def rev(seq):\n",
    "    complement = {'A': 'T', 'C': 'G', 'G': 'C', 'T': 'A'}\n",
    "    return complement[seq]\n",
    "rev(\"A\")"
   ],
   "metadata": {
    "collapsed": false,
    "ExecuteTime": {
     "end_time": "2024-04-19T12:01:57.704270Z",
     "start_time": "2024-04-19T12:01:57.700192Z"
    }
   },
   "id": "4b1d343ff83a7904",
   "execution_count": 116
  },
  {
   "cell_type": "code",
   "outputs": [],
   "source": [],
   "metadata": {
    "collapsed": false,
    "ExecuteTime": {
     "end_time": "2024-04-19T12:03:51.839178Z",
     "start_time": "2024-04-19T12:03:51.837716Z"
    }
   },
   "id": "3989b44d8aec0907",
   "execution_count": 123
  },
  {
   "cell_type": "code",
   "outputs": [
    {
     "ename": "InvalidIndexError",
     "evalue": "Reindexing only valid with uniquely valued Index objects",
     "output_type": "error",
     "traceback": [
      "\u001B[0;31m---------------------------------------------------------------------------\u001B[0m",
      "\u001B[0;31mInvalidIndexError\u001B[0m                         Traceback (most recent call last)",
      "Cell \u001B[0;32mIn[122], line 13\u001B[0m\n\u001B[1;32m     11\u001B[0m \u001B[38;5;66;03m#transform df in dataframe\u001B[39;00m\n\u001B[1;32m     12\u001B[0m df\u001B[38;5;241m=\u001B[39mpd\u001B[38;5;241m.\u001B[39mDataFrame(df)\n\u001B[0;32m---> 13\u001B[0m df\u001B[38;5;241m=\u001B[39m\u001B[43mpd\u001B[49m\u001B[38;5;241;43m.\u001B[39;49m\u001B[43mconcat\u001B[49m\u001B[43m(\u001B[49m\u001B[43m[\u001B[49m\u001B[43mdf\u001B[49m\u001B[43m,\u001B[49m\u001B[43mmotivi\u001B[49m\u001B[43m]\u001B[49m\u001B[43m,\u001B[49m\u001B[43maxis\u001B[49m\u001B[38;5;241;43m=\u001B[39;49m\u001B[38;5;241;43m1\u001B[39;49m\u001B[43m)\u001B[49m\n\u001B[1;32m     14\u001B[0m \u001B[38;5;66;03m#append motif in motivo column to the list of motifs in motivi column\u001B[39;00m\n\u001B[1;32m     15\u001B[0m df[\u001B[38;5;124m\"\u001B[39m\u001B[38;5;124mmotivo\u001B[39m\u001B[38;5;124m\"\u001B[39m]\u001B[38;5;241m=\u001B[39mdf[\u001B[38;5;124m\"\u001B[39m\u001B[38;5;124mmotivo\u001B[39m\u001B[38;5;124m\"\u001B[39m]\u001B[38;5;241m.\u001B[39mapply(\u001B[38;5;28;01mlambda\u001B[39;00m x: [x])\n",
      "File \u001B[0;32m~/miniconda3/lib/python3.12/site-packages/pandas/core/reshape/concat.py:395\u001B[0m, in \u001B[0;36mconcat\u001B[0;34m(objs, axis, join, ignore_index, keys, levels, names, verify_integrity, sort, copy)\u001B[0m\n\u001B[1;32m    380\u001B[0m     copy \u001B[38;5;241m=\u001B[39m \u001B[38;5;28;01mFalse\u001B[39;00m\n\u001B[1;32m    382\u001B[0m op \u001B[38;5;241m=\u001B[39m _Concatenator(\n\u001B[1;32m    383\u001B[0m     objs,\n\u001B[1;32m    384\u001B[0m     axis\u001B[38;5;241m=\u001B[39maxis,\n\u001B[0;32m   (...)\u001B[0m\n\u001B[1;32m    392\u001B[0m     sort\u001B[38;5;241m=\u001B[39msort,\n\u001B[1;32m    393\u001B[0m )\n\u001B[0;32m--> 395\u001B[0m \u001B[38;5;28;01mreturn\u001B[39;00m \u001B[43mop\u001B[49m\u001B[38;5;241;43m.\u001B[39;49m\u001B[43mget_result\u001B[49m\u001B[43m(\u001B[49m\u001B[43m)\u001B[49m\n",
      "File \u001B[0;32m~/miniconda3/lib/python3.12/site-packages/pandas/core/reshape/concat.py:680\u001B[0m, in \u001B[0;36m_Concatenator.get_result\u001B[0;34m(self)\u001B[0m\n\u001B[1;32m    678\u001B[0m         obj_labels \u001B[38;5;241m=\u001B[39m obj\u001B[38;5;241m.\u001B[39maxes[\u001B[38;5;241m1\u001B[39m \u001B[38;5;241m-\u001B[39m ax]\n\u001B[1;32m    679\u001B[0m         \u001B[38;5;28;01mif\u001B[39;00m \u001B[38;5;129;01mnot\u001B[39;00m new_labels\u001B[38;5;241m.\u001B[39mequals(obj_labels):\n\u001B[0;32m--> 680\u001B[0m             indexers[ax] \u001B[38;5;241m=\u001B[39m \u001B[43mobj_labels\u001B[49m\u001B[38;5;241;43m.\u001B[39;49m\u001B[43mget_indexer\u001B[49m\u001B[43m(\u001B[49m\u001B[43mnew_labels\u001B[49m\u001B[43m)\u001B[49m\n\u001B[1;32m    682\u001B[0m     mgrs_indexers\u001B[38;5;241m.\u001B[39mappend((obj\u001B[38;5;241m.\u001B[39m_mgr, indexers))\n\u001B[1;32m    684\u001B[0m new_data \u001B[38;5;241m=\u001B[39m concatenate_managers(\n\u001B[1;32m    685\u001B[0m     mgrs_indexers, \u001B[38;5;28mself\u001B[39m\u001B[38;5;241m.\u001B[39mnew_axes, concat_axis\u001B[38;5;241m=\u001B[39m\u001B[38;5;28mself\u001B[39m\u001B[38;5;241m.\u001B[39mbm_axis, copy\u001B[38;5;241m=\u001B[39m\u001B[38;5;28mself\u001B[39m\u001B[38;5;241m.\u001B[39mcopy\n\u001B[1;32m    686\u001B[0m )\n",
      "File \u001B[0;32m~/miniconda3/lib/python3.12/site-packages/pandas/core/indexes/base.py:3885\u001B[0m, in \u001B[0;36mIndex.get_indexer\u001B[0;34m(self, target, method, limit, tolerance)\u001B[0m\n\u001B[1;32m   3882\u001B[0m \u001B[38;5;28mself\u001B[39m\u001B[38;5;241m.\u001B[39m_check_indexing_method(method, limit, tolerance)\n\u001B[1;32m   3884\u001B[0m \u001B[38;5;28;01mif\u001B[39;00m \u001B[38;5;129;01mnot\u001B[39;00m \u001B[38;5;28mself\u001B[39m\u001B[38;5;241m.\u001B[39m_index_as_unique:\n\u001B[0;32m-> 3885\u001B[0m     \u001B[38;5;28;01mraise\u001B[39;00m InvalidIndexError(\u001B[38;5;28mself\u001B[39m\u001B[38;5;241m.\u001B[39m_requires_unique_msg)\n\u001B[1;32m   3887\u001B[0m \u001B[38;5;28;01mif\u001B[39;00m \u001B[38;5;28mlen\u001B[39m(target) \u001B[38;5;241m==\u001B[39m \u001B[38;5;241m0\u001B[39m:\n\u001B[1;32m   3888\u001B[0m     \u001B[38;5;28;01mreturn\u001B[39;00m np\u001B[38;5;241m.\u001B[39marray([], dtype\u001B[38;5;241m=\u001B[39mnp\u001B[38;5;241m.\u001B[39mintp)\n",
      "\u001B[0;31mInvalidIndexError\u001B[0m: Reindexing only valid with uniquely valued Index objects"
     ]
    }
   ],
   "source": [
    "from pathlib import Path\n",
    "dir=Path(\"/home/davide/Desktop/genomiChro/intergeniche_RefSeq/fimo/Chroococcidiopsis_sp._CCMEE_29_GCF_023558375_intergen\")\n",
    "refseq=Path(\"/home/davide/Desktop/genomiChro/annotati_Refseq\")\n",
    "for file in dir.glob(\"**/fimo.tsv\"):\n",
    "    motivi=pd.read_csv(file,sep=\"\\t\",header=0,skipfooter=4,engine='python')\n",
    "    motivi=motivi[[\"sequence_name\",'matched_sequence']]\n",
    "    motivi.columns=[\"locus\",\"motivo\"]\n",
    "    motivi.set_index(\"locus\",inplace=True)\n",
    "import numpy as np\n",
    "df.index.name=\"locus\"\n",
    "#transform df in dataframe\n",
    "df=pd.DataFrame(df)\n",
    "df=pd.concat([df,motivi],axis=1)\n",
    "#append motif in motivo column to the list of motifs in motivi column\n",
    "df[\"motivo\"]=df[\"motivo\"].apply(lambda x: [x])\n",
    "df[\"motivi\"] = df.apply(lambda row: row[\"motivi\"] + row[\"motivo\"] if row[\"motivo\"] != [np.nan] else row[\"motivi\"], axis=1)\n",
    "#drop motivo column\n",
    "df.drop(columns=\"motivo\",inplace=True)\n",
    "df"
   ],
   "metadata": {
    "collapsed": false,
    "ExecuteTime": {
     "end_time": "2024-04-19T12:03:47.383656Z",
     "start_time": "2024-04-19T12:03:47.326074Z"
    }
   },
   "id": "1a748bde6306d2a9",
   "execution_count": 122
  },
  {
   "cell_type": "code",
   "outputs": [
    {
     "data": {
      "text/plain": "count                  2396\nunique                 2314\ntop       [cTAGTATGACTCCTc]\nfreq                      8\nName: motivi, dtype: object"
     },
     "execution_count": 115,
     "metadata": {},
     "output_type": "execute_result"
    }
   ],
   "source": [
    "df.describe()"
   ],
   "metadata": {
    "collapsed": false,
    "ExecuteTime": {
     "end_time": "2024-04-19T12:00:02.710209Z",
     "start_time": "2024-04-19T12:00:02.546103Z"
    }
   },
   "id": "e8e47efac99b7694",
   "execution_count": 115
  },
  {
   "cell_type": "code",
   "outputs": [],
   "source": [
    "from bs4 import BeautifulSoup\n",
    "from pprint import pprint\n",
    "file=(\"/home/davide/Downloads/KEGGall.html\")\n",
    "soup=BeautifulSoup(open(file), 'html.parser')\n",
    "li_tags = soup.find_all(\"li\")\n",
    "#delete first elements unitl one has Metabolic patwhays in text\n",
    "for i, li in enumerate(li_tags):\n",
    "    if \"Metabolic pathways\" in str(li):\n",
    "        break\n",
    "li_tags=li_tags[i:]\n",
    "\n",
    "pathways = {}\n",
    "#now iterate over the li tags and find the dd tags inside them\n",
    "for li in li_tags:\n",
    "    dd_tags = li.find_all(\"dd\")\n",
    "    pathway=str(li.contents[1])[:-1].strip()\n",
    "    diz = {}\n",
    "    for dd in dd_tags:\n",
    "        contents = dd.contents\n",
    "        contents=[c for c in contents if c.name != 'br']\n",
    "        contents=[str(content).replace('\\xa0', '') for content in contents]\n",
    "        contents=[str(c) for c in contents]\n",
    "        for i, e in enumerate(contents):\n",
    "            e=e.split(\":\")\n",
    "            pids=e[1].split(\", \")\n",
    "            #strip the white spaces from the protein ids and also \\n\n",
    "            pids=[pid.strip() for pid in pids]\n",
    "\n",
    "            key=e[0]\n",
    "            if key not in diz:\n",
    "                diz[key]=pids\n",
    "            elif pids!=['']:\n",
    "                diz[key].extend(pids)\n",
    "    pathways[pathway]=diz\n",
    "pathways\n",
    "#create a dataframe from the dictionary\n",
    "df_path=pd.DataFrame(pathways)"
   ],
   "metadata": {
    "collapsed": false,
    "ExecuteTime": {
     "end_time": "2024-04-19T14:11:35.931746Z",
     "start_time": "2024-04-19T14:11:33.093758Z"
    }
   },
   "id": "bc6a7e282a5c8802",
   "execution_count": 136
  },
  {
   "cell_type": "code",
   "outputs": [],
   "source": [
    "\n",
    "df_path.to_pickle(\"/home/davide/Downloads/pathways.pkl\")"
   ],
   "metadata": {
    "collapsed": false,
    "ExecuteTime": {
     "end_time": "2024-04-19T14:11:36.571643Z",
     "start_time": "2024-04-19T14:11:36.562323Z"
    }
   },
   "id": "f88c8b5e9288300a",
   "execution_count": 137
  },
  {
   "cell_type": "code",
   "outputs": [
    {
     "data": {
      "text/plain": "pid\n                  Biosynthesis of cofactors, Pentose and glucuro...\nWP_009632395.1                                 Two-component system\nWP_250121154.1    Metabolic pathways, O-Antigen repeat unit bios...\nWP_250121155.1                   Metabolic pathways, Photosynthesis\nWP_250121157.1                                     ABC transporters\n                                        ...                        \nWP_275983377.1    Metabolic pathways, Biosynthesis of nucleotide...\nWP_275983383.1        Metabolic pathways, Oxidative phosphorylation\nWP_275983386.1    Metabolic pathways, Biosynthesis of secondary ...\nWP_275983394.1                   Metabolic pathways, Photosynthesis\nWP_275983398.1                                       Quorum sensing\nName: pathways, Length: 1346, dtype: object"
     },
     "execution_count": 88,
     "metadata": {},
     "output_type": "execute_result"
    }
   ],
   "source": [
    "\n",
    "#select only row CCME_29 and explode for pid\n",
    "df_path=df_path.loc[\"CCMEE_29\"].explode()\n",
    "df_path=df_path.reset_index()\n",
    "#set idnex to pid\n",
    "df_path=df_path.set_index(\"CCMEE_29\")\n",
    "df_path=df_path.rename(columns={\"index\":\"pathways\"})\n",
    "df_path.index.name=\"pid\"\n",
    "df_path=df_path.groupby(\"pid\")[\"pathways\"].apply(lambda x: \", \".join(x))\n",
    "df_path\n",
    "\n"
   ],
   "metadata": {
    "collapsed": false,
    "ExecuteTime": {
     "end_time": "2024-04-19T08:52:57.447164Z",
     "start_time": "2024-04-19T08:52:57.413263Z"
    }
   },
   "id": "27158d840e86d6c",
   "execution_count": 88
  },
  {
   "cell_type": "code",
   "outputs": [
    {
     "data": {
      "text/plain": "                                              ko01000 - Enzymes  \\\nSAG_2025      [WP_317105300.1, WP_317107603.1, WP_317111516....   \nPCC_7203      [WP_015153369.1, WP_015153057.1, WP_015153963....   \nCCNUC1        [WP_250016076.1, WP_250017807.1, WP_250015754....   \nCCMEE_29      [WP_250122538.1, WP_250124344.1, WP_250124395....   \nTS-821        [WP_104545180.1, WP_104548630.1, WP_104545654....   \nSAG_39.79     [WP_106168515.1, WP_199755420.1, WP_015154882....   \nCCALA_043     [WP_106168515.1, WP_219888966.1, WP_015153963....   \nCCALA_051     [WP_233222763.1, WP_199197642.1, WP_106544194....   \n[FACHB-1243]  [WP_192161740.1, WP_192161666.1, WP_192155277....   \n\n                                      ko01001 - Protein kinases  \\\nSAG_2025      [, WP_317107242.1, WP_317111031.1, WP_31710546...   \nPCC_7203      [, WP_015155183.1, WP_015152962.1, WP_01515482...   \nCCNUC1        [, WP_250012496.1, WP_250012359.1, WP_25001563...   \nCCMEE_29      [, WP_250126829.1, WP_250124762.1, WP_25012479...   \nTS-821        [WP_104547389.1, WP_256387463.1, WP_041919569....   \nSAG_39.79     [, WP_106169469.1, WP_158631836.1, WP_19975545...   \nCCALA_043     [, WP_106169469.1, WP_158631836.1, WP_18124644...   \nCCALA_051     [, WP_199197416.1, WP_106544161.1, WP_10654516...   \n[FACHB-1243]  [, WP_192161382.1, WP_199317083.1, WP_24203868...   \n\n             ko01009 - Protein phosphatases and associated proteins  \\\nSAG_2025                       [WP_317108776.1, WP_317109651.1]       \nPCC_7203       [WP_015154644.1, WP_015157009.1, WP_015155893.1]       \nCCNUC1         [WP_015154644.1, WP_250014349.1, WP_250013030.1]       \nCCMEE_29       [WP_250121529.1, WP_250125000.1, WP_250122721.1]       \nTS-821         [WP_104548051.1, WP_104544915.1, WP_104547751.1]       \nSAG_39.79                      [WP_106166069.1, WP_106167585.1]       \nCCALA_043                      [WP_106166069.1, WP_106167585.1]       \nCCALA_051                      [WP_106544485.1, WP_106547316.1]       \n[FACHB-1243]                   [WP_192161598.1, WP_192153622.1]       \n\n                            ko01002 - Peptidases and inhibitors  \\\nSAG_2025      [WP_317105484.1, WP_317107752.1, WP_317105950....   \nPCC_7203      [WP_015155070.1, WP_015155462.1, WP_015154906....   \nCCNUC1        [WP_250012385.1, WP_250012667.1, WP_250012176....   \nCCMEE_29      [WP_250121282.1, WP_250121169.1, WP_250121347....   \nTS-821        [WP_210404441.1, WP_256387498.1, WP_104548661....   \nSAG_39.79     [WP_127022733.1, WP_127024470.1, WP_106167717....   \nCCALA_043     [WP_106168729.1, WP_106171000.1, WP_308726798....   \nCCALA_051     [WP_106544978.1, WP_106547801.1, WP_106544332....   \n[FACHB-1243]  [WP_192155319.1, WP_192158494.1, WP_192153390....   \n\n                                 ko01003 - Glycosyltransferases  \\\nSAG_2025      [WP_317107296.1, WP_317107311.1, WP_317108247....   \nPCC_7203      [WP_015154066.1, WP_199197586.1, WP_015155019....   \nCCNUC1        [WP_250016561.1, WP_199197586.1, WP_015155019....   \nCCMEE_29      [, WP_250124180.1, WP_250125862.1, WP_25012255...   \nTS-821        [WP_104547964.1, WP_104545933.1, WP_104548321....   \nSAG_39.79     [WP_015154066.1, WP_199197586.1, WP_015155019....   \nCCALA_043     [WP_015154066.1, WP_258183939.1, WP_015155019....   \nCCALA_051     [WP_106544759.1, WP_199197586.1, WP_106545907....   \n[FACHB-1243]  [WP_192154427.1, WP_192153654.1, WP_192158571....   \n\n             ko01005 - Lipopolysaccharide biosynthesis proteins  \\\nSAG_2025      [WP_317106388.1, WP_317105852.1, WP_317106389....   \nPCC_7203      [WP_015154305.1, WP_015153708.1, WP_015154304....   \nCCNUC1        [WP_250016751.1, WP_250016294.1, WP_250016749....   \nCCMEE_29      [WP_250124050.1, WP_250121444.1, WP_250124049....   \nTS-821        [WP_104546760.1, WP_104546761.1, WP_104548445....   \nSAG_39.79     [WP_106168595.1, WP_106168536.1, WP_106168594....   \nCCALA_043     [WP_106168595.1, WP_106168536.1, WP_106168594....   \nCCALA_051     [WP_106545014.1, WP_106545013.1, WP_106547082....   \n[FACHB-1243]  [WP_192159629.1, WP_192156987.1, WP_192159627....   \n\n             ko01011 - Peptidoglycan biosynthesis and degradation proteins  \\\nSAG_2025      [WP_317105101.1, WP_317110720.1, WP_317107964....              \nPCC_7203      [WP_015153620.1, WP_281168663.1, WP_015156102....              \nCCNUC1        [WP_250016250.1, WP_015156851.1, WP_250013121....              \nCCMEE_29      [WP_250123671.1, WP_250123642.1, WP_250121270....              \nTS-821        [WP_104547923.1, WP_246841457.1, WP_104547741....              \nSAG_39.79     [WP_015153620.1, WP_322506079.1, WP_015156102....              \nCCALA_043     [WP_015153620.1, WP_219888912.1, WP_015156102....              \nCCALA_051     [WP_106545995.1, WP_255410015.1, WP_106546369....              \n[FACHB-1243]  [WP_192157155.1, WP_192161824.1, WP_242038488....              \n\n                          ko01004 - Lipid biosynthesis proteins  \\\nSAG_2025      [WP_317104897.1, WP_317107573.1, WP_317108586....   \nPCC_7203      [WP_015152569.1, WP_015155294.1, WP_041462544....   \nCCNUC1        [WP_250012585.1, WP_250013004.1, WP_250013015....   \nCCMEE_29      [WP_250121640.1, WP_250121757.1, WP_250122377....   \nTS-821        [WP_104548581.1, WP_104548978.1, WP_104545578....   \nSAG_39.79     [WP_015155294.1, WP_084739168.1, WP_106167174....   \nCCALA_043     [WP_015155294.1, WP_084739168.1, WP_106166466....   \nCCALA_051     [WP_106544052.1, WP_106544627.1, WP_106544670....   \n[FACHB-1243]  [WP_192153489.1, WP_192158253.1, WP_192161863....   \n\n                     ko01008 - Polyketide biosynthesis proteins  \\\nSAG_2025      [WP_317107034.1, WP_317107376.1, WP_317110635....   \nPCC_7203      [WP_015152492.1, WP_015153983.1, WP_015154181....   \nCCNUC1        [WP_250012823.1, WP_250015172.1, WP_250016506....   \nCCMEE_29      [, WP_250124307.1, WP_250125641.1, WP_25012645...   \nTS-821        [, WP_104546602.1, WP_104547145.1, WP_10454715...   \nSAG_39.79     [WP_015154207.1, WP_106166416.1, WP_241994333....   \nCCALA_043     [WP_015154207.1, WP_106165788.1, WP_106166416....   \nCCALA_051     [WP_106545401.1, WP_106545914.1, WP_106546881....   \n[FACHB-1243]  [WP_192153562.1, WP_192154609.1, WP_192155737....   \n\n                                   ko01006 - Prenyltransferases  ...  \\\nSAG_2025      [WP_317104870.1, WP_317105768.1, WP_317109414....  ...   \nPCC_7203      [WP_219336057.1, WP_015153782.1, WP_015157365....  ...   \nCCNUC1        [WP_250015077.1, WP_015157365.1, WP_250016336....  ...   \nCCMEE_29      [WP_250125355.1, WP_250125455.1, WP_250125288....  ...   \nTS-821        [WP_104548348.1, WP_104548760.1, WP_104545820....  ...   \nSAG_39.79     [WP_241994356.1, WP_015157365.1, WP_106168535....  ...   \nCCALA_043     [WP_241994356.1, WP_106168188.1, WP_106168535....  ...   \nCCALA_051     [WP_233222594.1, WP_015157365.1, WP_106544921....  ...   \n[FACHB-1243]  [WP_242038382.1, WP_192153824.1, WP_192160035....  ...   \n\n                                 ko02022 - Two-component system  \\\nSAG_2025      [, WP_039710300.1, WP_317107241.1, WP_31711098...   \nPCC_7203      [, WP_015155182.1, WP_219335965.1, WP_01515518...   \nCCNUC1        [, WP_015155182.1, WP_250013012.1, WP_25001800...   \nCCMEE_29      [, WP_250123507.1, WP_250124919.1, WP_25012641...   \nTS-821        [WP_104547389.1, WP_256387463.1, WP_104546528....   \nSAG_39.79     [, WP_015155182.1, WP_039711360.1, WP_10616623...   \nCCALA_043     [, WP_039711360.1, WP_106166235.1, WP_10616717...   \nCCALA_051     [, WP_106545896.1, WP_199197416.1, WP_01515614...   \n[FACHB-1243]  [, WP_192161308.1, WP_192161381.1, WP_19931708...   \n\n                          ko02035 - Bacterial motility proteins  \\\nSAG_2025      [WP_317104584.1, WP_317107749.1, WP_317109829....   \nPCC_7203      [WP_015152121.1, WP_015152715.1, WP_015155460....   \nCCNUC1        [WP_015152715.1, WP_250012665.1, WP_250014822....   \nCCMEE_29      [WP_250122785.1, WP_250124772.1, WP_250124940....   \nTS-821        [WP_104545532.1, WP_104546658.1, WP_104547823....   \nSAG_39.79     [WP_015152715.1, WP_106168565.1, WP_127023229....   \nCCALA_043     [WP_106168565.1, WP_106169362.1, WP_308726822....   \nCCALA_051     [WP_106547799.1, WP_158265837.1, WP_255409940....   \n[FACHB-1243]  [WP_192155332.1, WP_192158892.1, WP_192160480....   \n\n                                ko04812 - Cytoskeleton proteins  \\\nSAG_2025      [WP_039716527.1, WP_039718890.1, WP_317106402....   \nPCC_7203      [WP_015154286.1, WP_015155181.1, WP_015163027....   \nCCNUC1        [WP_015154286.1, WP_250012495.1, WP_250017875....   \nCCMEE_29      [WP_250123503.1, WP_250124383.1, WP_250125139....   \nTS-821        [WP_015328608.1, WP_015328682.1, WP_104546573....   \nSAG_39.79     [WP_015154286.1, WP_015155181.1, WP_106166680....   \nCCALA_043     [WP_015154286.1, WP_106166680.1, WP_106167949....   \nCCALA_051     [WP_106218127.1, WP_106545006.1, WP_106545600....   \n[FACHB-1243]  [WP_106167949.1, WP_192159606.1, WP_192160211....   \n\n                                              ko04147 - Exosome  \\\nSAG_2025      [WP_317107603.1, WP_317111516.1, WP_317110195....   \nPCC_7203      [, WP_015152852.1, WP_015152915.1, WP_01515376...   \nCCNUC1        [WP_250017807.1, WP_015152852.1, WP_015152915....   \nCCMEE_29      [, WP_250124752.1, WP_250122600.1, WP_25012558...   \nTS-821        [, WP_104547715.1, WP_104548449.1, WP_10454568...   \nSAG_39.79     [, WP_015152852.1, WP_015152915.1, WP_01515376...   \nCCALA_043     [, WP_258184067.1, WP_015152915.1, WP_10616849...   \nCCALA_051     [, WP_106546571.1, WP_106544919.1, WP_10654527...   \n[FACHB-1243]  [WP_192161666.1, WP_199316979.1, WP_015152852....   \n\n                           ko02048 - Prokaryotic defense system  \\\nSAG_2025      [WP_317104733.1, WP_317104968.1, WP_317111784....   \nPCC_7203      [WP_015152263.1, WP_015152561.1, WP_015157317....   \nCCNUC1        [WP_250014990.1, WP_250017891.1, WP_051033284....   \nCCMEE_29      [WP_250121676.1, WP_250123976.1, WP_250125950....   \nTS-821        [WP_104546762.1, WP_104546802.1, WP_146087175....   \nSAG_39.79     [WP_106169593.1, WP_127022342.1, WP_127022887....   \nCCALA_043     [WP_106167357.1, WP_106169593.1, WP_146138633....   \nCCALA_051     [WP_015152561.1, WP_106544787.1, WP_106546255....   \n[FACHB-1243]  [WP_192153718.1, WP_192156138.1, WP_192156139....   \n\n             ko04030 - G protein-coupled receptors  \\\nSAG_2025                          [WP_106166095.1]   \nPCC_7203                          [WP_015156224.1]   \nCCNUC1                            [WP_015156224.1]   \nCCMEE_29                          [WP_250123255.1]   \nTS-821                            [WP_104547677.1]   \nSAG_39.79         [WP_106166095.1, WP_106167211.1]   \nCCALA_043         [WP_106166095.1, WP_106167211.1]   \nCCALA_051         [WP_106544338.1, WP_106547691.1]   \n[FACHB-1243]                      [WP_106166095.1]   \n\n                       ko01504 - Antimicrobial resistance genes  \\\nSAG_2025      [WP_317110266.1, WP_317105359.1, WP_317109905....   \nPCC_7203      [WP_015152889.1, WP_015152965.1, WP_015153420....   \nCCNUC1        [WP_106166148.1, WP_250015643.1, WP_250016117....   \nCCMEE_29      [, WP_250125724.1, WP_250125817.1, WP_25012151...   \nTS-821        [, WP_104546803.1, WP_104547971.1, WP_10454823...   \nSAG_39.79     [WP_106166148.1, WP_106170244.1, WP_106167201....   \nCCALA_043     [WP_106166148.1, WP_106170244.1, WP_106167201....   \nCCALA_051     [WP_106546910.1, WP_106547822.1, WP_106546014....   \n[FACHB-1243]  [WP_206757149.1, WP_277875990.1, WP_192154943....   \n\n             ko00536 - Glycosaminoglycan binding proteins  \\\nSAG_2025                                 [WP_317107980.1]   \nPCC_7203                                 [WP_015156087.1]   \nCCNUC1                                   [WP_015156087.1]   \nCCMEE_29                                               []   \nTS-821                                                 []   \nSAG_39.79                [WP_015156087.1, WP_106168475.1]   \nCCALA_043                [WP_015156087.1, WP_106168475.1]   \nCCALA_051                                [WP_106546359.1]   \n[FACHB-1243]                             [WP_192159776.1]   \n\n             ko00537 - Glycosylphosphatidylinositol (GPI)-anchored proteins  \\\nSAG_2025       [WP_317107894.1, WP_317108774.1, WP_317107980.1]               \nPCC_7203      [WP_015154645.1, WP_015156175.1, WP_015163222....               \nCCNUC1         [WP_106166068.1, WP_106218645.1, WP_015156087.1]               \nCCMEE_29                       [WP_250121531.1, WP_250126561.1]               \nTS-821         [WP_104545949.1, WP_104548053.1, WP_104545123.1]               \nSAG_39.79     [WP_106166068.1, WP_106170022.1, WP_199755926....               \nCCALA_043     [WP_106170022.1, WP_199755926.1, WP_258183796....               \nCCALA_051     [WP_106544116.1, WP_106544486.1, WP_106544601....               \n[FACHB-1243]  [WP_192160524.1, WP_192161599.1, WP_199316949....               \n\n             ko03200 - Viral proteins  \nSAG_2025                           []  \nPCC_7203                           []  \nCCNUC1               [WP_250016437.1]  \nCCMEE_29             [WP_250126373.1]  \nTS-821                             []  \nSAG_39.79                          []  \nCCALA_043                          []  \nCCALA_051                          []  \n[FACHB-1243]                       []  \n\n[9 rows x 40 columns]",
      "text/html": "<div>\n<style scoped>\n    .dataframe tbody tr th:only-of-type {\n        vertical-align: middle;\n    }\n\n    .dataframe tbody tr th {\n        vertical-align: top;\n    }\n\n    .dataframe thead th {\n        text-align: right;\n    }\n</style>\n<table border=\"1\" class=\"dataframe\">\n  <thead>\n    <tr style=\"text-align: right;\">\n      <th></th>\n      <th>ko01000 - Enzymes</th>\n      <th>ko01001 - Protein kinases</th>\n      <th>ko01009 - Protein phosphatases and associated proteins</th>\n      <th>ko01002 - Peptidases and inhibitors</th>\n      <th>ko01003 - Glycosyltransferases</th>\n      <th>ko01005 - Lipopolysaccharide biosynthesis proteins</th>\n      <th>ko01011 - Peptidoglycan biosynthesis and degradation proteins</th>\n      <th>ko01004 - Lipid biosynthesis proteins</th>\n      <th>ko01008 - Polyketide biosynthesis proteins</th>\n      <th>ko01006 - Prenyltransferases</th>\n      <th>...</th>\n      <th>ko02022 - Two-component system</th>\n      <th>ko02035 - Bacterial motility proteins</th>\n      <th>ko04812 - Cytoskeleton proteins</th>\n      <th>ko04147 - Exosome</th>\n      <th>ko02048 - Prokaryotic defense system</th>\n      <th>ko04030 - G protein-coupled receptors</th>\n      <th>ko01504 - Antimicrobial resistance genes</th>\n      <th>ko00536 - Glycosaminoglycan binding proteins</th>\n      <th>ko00537 - Glycosylphosphatidylinositol (GPI)-anchored proteins</th>\n      <th>ko03200 - Viral proteins</th>\n    </tr>\n  </thead>\n  <tbody>\n    <tr>\n      <th>SAG_2025</th>\n      <td>[WP_317105300.1, WP_317107603.1, WP_317111516....</td>\n      <td>[, WP_317107242.1, WP_317111031.1, WP_31710546...</td>\n      <td>[WP_317108776.1, WP_317109651.1]</td>\n      <td>[WP_317105484.1, WP_317107752.1, WP_317105950....</td>\n      <td>[WP_317107296.1, WP_317107311.1, WP_317108247....</td>\n      <td>[WP_317106388.1, WP_317105852.1, WP_317106389....</td>\n      <td>[WP_317105101.1, WP_317110720.1, WP_317107964....</td>\n      <td>[WP_317104897.1, WP_317107573.1, WP_317108586....</td>\n      <td>[WP_317107034.1, WP_317107376.1, WP_317110635....</td>\n      <td>[WP_317104870.1, WP_317105768.1, WP_317109414....</td>\n      <td>...</td>\n      <td>[, WP_039710300.1, WP_317107241.1, WP_31711098...</td>\n      <td>[WP_317104584.1, WP_317107749.1, WP_317109829....</td>\n      <td>[WP_039716527.1, WP_039718890.1, WP_317106402....</td>\n      <td>[WP_317107603.1, WP_317111516.1, WP_317110195....</td>\n      <td>[WP_317104733.1, WP_317104968.1, WP_317111784....</td>\n      <td>[WP_106166095.1]</td>\n      <td>[WP_317110266.1, WP_317105359.1, WP_317109905....</td>\n      <td>[WP_317107980.1]</td>\n      <td>[WP_317107894.1, WP_317108774.1, WP_317107980.1]</td>\n      <td>[]</td>\n    </tr>\n    <tr>\n      <th>PCC_7203</th>\n      <td>[WP_015153369.1, WP_015153057.1, WP_015153963....</td>\n      <td>[, WP_015155183.1, WP_015152962.1, WP_01515482...</td>\n      <td>[WP_015154644.1, WP_015157009.1, WP_015155893.1]</td>\n      <td>[WP_015155070.1, WP_015155462.1, WP_015154906....</td>\n      <td>[WP_015154066.1, WP_199197586.1, WP_015155019....</td>\n      <td>[WP_015154305.1, WP_015153708.1, WP_015154304....</td>\n      <td>[WP_015153620.1, WP_281168663.1, WP_015156102....</td>\n      <td>[WP_015152569.1, WP_015155294.1, WP_041462544....</td>\n      <td>[WP_015152492.1, WP_015153983.1, WP_015154181....</td>\n      <td>[WP_219336057.1, WP_015153782.1, WP_015157365....</td>\n      <td>...</td>\n      <td>[, WP_015155182.1, WP_219335965.1, WP_01515518...</td>\n      <td>[WP_015152121.1, WP_015152715.1, WP_015155460....</td>\n      <td>[WP_015154286.1, WP_015155181.1, WP_015163027....</td>\n      <td>[, WP_015152852.1, WP_015152915.1, WP_01515376...</td>\n      <td>[WP_015152263.1, WP_015152561.1, WP_015157317....</td>\n      <td>[WP_015156224.1]</td>\n      <td>[WP_015152889.1, WP_015152965.1, WP_015153420....</td>\n      <td>[WP_015156087.1]</td>\n      <td>[WP_015154645.1, WP_015156175.1, WP_015163222....</td>\n      <td>[]</td>\n    </tr>\n    <tr>\n      <th>CCNUC1</th>\n      <td>[WP_250016076.1, WP_250017807.1, WP_250015754....</td>\n      <td>[, WP_250012496.1, WP_250012359.1, WP_25001563...</td>\n      <td>[WP_015154644.1, WP_250014349.1, WP_250013030.1]</td>\n      <td>[WP_250012385.1, WP_250012667.1, WP_250012176....</td>\n      <td>[WP_250016561.1, WP_199197586.1, WP_015155019....</td>\n      <td>[WP_250016751.1, WP_250016294.1, WP_250016749....</td>\n      <td>[WP_250016250.1, WP_015156851.1, WP_250013121....</td>\n      <td>[WP_250012585.1, WP_250013004.1, WP_250013015....</td>\n      <td>[WP_250012823.1, WP_250015172.1, WP_250016506....</td>\n      <td>[WP_250015077.1, WP_015157365.1, WP_250016336....</td>\n      <td>...</td>\n      <td>[, WP_015155182.1, WP_250013012.1, WP_25001800...</td>\n      <td>[WP_015152715.1, WP_250012665.1, WP_250014822....</td>\n      <td>[WP_015154286.1, WP_250012495.1, WP_250017875....</td>\n      <td>[WP_250017807.1, WP_015152852.1, WP_015152915....</td>\n      <td>[WP_250014990.1, WP_250017891.1, WP_051033284....</td>\n      <td>[WP_015156224.1]</td>\n      <td>[WP_106166148.1, WP_250015643.1, WP_250016117....</td>\n      <td>[WP_015156087.1]</td>\n      <td>[WP_106166068.1, WP_106218645.1, WP_015156087.1]</td>\n      <td>[WP_250016437.1]</td>\n    </tr>\n    <tr>\n      <th>CCMEE_29</th>\n      <td>[WP_250122538.1, WP_250124344.1, WP_250124395....</td>\n      <td>[, WP_250126829.1, WP_250124762.1, WP_25012479...</td>\n      <td>[WP_250121529.1, WP_250125000.1, WP_250122721.1]</td>\n      <td>[WP_250121282.1, WP_250121169.1, WP_250121347....</td>\n      <td>[, WP_250124180.1, WP_250125862.1, WP_25012255...</td>\n      <td>[WP_250124050.1, WP_250121444.1, WP_250124049....</td>\n      <td>[WP_250123671.1, WP_250123642.1, WP_250121270....</td>\n      <td>[WP_250121640.1, WP_250121757.1, WP_250122377....</td>\n      <td>[, WP_250124307.1, WP_250125641.1, WP_25012645...</td>\n      <td>[WP_250125355.1, WP_250125455.1, WP_250125288....</td>\n      <td>...</td>\n      <td>[, WP_250123507.1, WP_250124919.1, WP_25012641...</td>\n      <td>[WP_250122785.1, WP_250124772.1, WP_250124940....</td>\n      <td>[WP_250123503.1, WP_250124383.1, WP_250125139....</td>\n      <td>[, WP_250124752.1, WP_250122600.1, WP_25012558...</td>\n      <td>[WP_250121676.1, WP_250123976.1, WP_250125950....</td>\n      <td>[WP_250123255.1]</td>\n      <td>[, WP_250125724.1, WP_250125817.1, WP_25012151...</td>\n      <td>[]</td>\n      <td>[WP_250121531.1, WP_250126561.1]</td>\n      <td>[WP_250126373.1]</td>\n    </tr>\n    <tr>\n      <th>TS-821</th>\n      <td>[WP_104545180.1, WP_104548630.1, WP_104545654....</td>\n      <td>[WP_104547389.1, WP_256387463.1, WP_041919569....</td>\n      <td>[WP_104548051.1, WP_104544915.1, WP_104547751.1]</td>\n      <td>[WP_210404441.1, WP_256387498.1, WP_104548661....</td>\n      <td>[WP_104547964.1, WP_104545933.1, WP_104548321....</td>\n      <td>[WP_104546760.1, WP_104546761.1, WP_104548445....</td>\n      <td>[WP_104547923.1, WP_246841457.1, WP_104547741....</td>\n      <td>[WP_104548581.1, WP_104548978.1, WP_104545578....</td>\n      <td>[, WP_104546602.1, WP_104547145.1, WP_10454715...</td>\n      <td>[WP_104548348.1, WP_104548760.1, WP_104545820....</td>\n      <td>...</td>\n      <td>[WP_104547389.1, WP_256387463.1, WP_104546528....</td>\n      <td>[WP_104545532.1, WP_104546658.1, WP_104547823....</td>\n      <td>[WP_015328608.1, WP_015328682.1, WP_104546573....</td>\n      <td>[, WP_104547715.1, WP_104548449.1, WP_10454568...</td>\n      <td>[WP_104546762.1, WP_104546802.1, WP_146087175....</td>\n      <td>[WP_104547677.1]</td>\n      <td>[, WP_104546803.1, WP_104547971.1, WP_10454823...</td>\n      <td>[]</td>\n      <td>[WP_104545949.1, WP_104548053.1, WP_104545123.1]</td>\n      <td>[]</td>\n    </tr>\n    <tr>\n      <th>SAG_39.79</th>\n      <td>[WP_106168515.1, WP_199755420.1, WP_015154882....</td>\n      <td>[, WP_106169469.1, WP_158631836.1, WP_19975545...</td>\n      <td>[WP_106166069.1, WP_106167585.1]</td>\n      <td>[WP_127022733.1, WP_127024470.1, WP_106167717....</td>\n      <td>[WP_015154066.1, WP_199197586.1, WP_015155019....</td>\n      <td>[WP_106168595.1, WP_106168536.1, WP_106168594....</td>\n      <td>[WP_015153620.1, WP_322506079.1, WP_015156102....</td>\n      <td>[WP_015155294.1, WP_084739168.1, WP_106167174....</td>\n      <td>[WP_015154207.1, WP_106166416.1, WP_241994333....</td>\n      <td>[WP_241994356.1, WP_015157365.1, WP_106168535....</td>\n      <td>...</td>\n      <td>[, WP_015155182.1, WP_039711360.1, WP_10616623...</td>\n      <td>[WP_015152715.1, WP_106168565.1, WP_127023229....</td>\n      <td>[WP_015154286.1, WP_015155181.1, WP_106166680....</td>\n      <td>[, WP_015152852.1, WP_015152915.1, WP_01515376...</td>\n      <td>[WP_106169593.1, WP_127022342.1, WP_127022887....</td>\n      <td>[WP_106166095.1, WP_106167211.1]</td>\n      <td>[WP_106166148.1, WP_106170244.1, WP_106167201....</td>\n      <td>[WP_015156087.1, WP_106168475.1]</td>\n      <td>[WP_106166068.1, WP_106170022.1, WP_199755926....</td>\n      <td>[]</td>\n    </tr>\n    <tr>\n      <th>CCALA_043</th>\n      <td>[WP_106168515.1, WP_219888966.1, WP_015153963....</td>\n      <td>[, WP_106169469.1, WP_158631836.1, WP_18124644...</td>\n      <td>[WP_106166069.1, WP_106167585.1]</td>\n      <td>[WP_106168729.1, WP_106171000.1, WP_308726798....</td>\n      <td>[WP_015154066.1, WP_258183939.1, WP_015155019....</td>\n      <td>[WP_106168595.1, WP_106168536.1, WP_106168594....</td>\n      <td>[WP_015153620.1, WP_219888912.1, WP_015156102....</td>\n      <td>[WP_015155294.1, WP_084739168.1, WP_106166466....</td>\n      <td>[WP_015154207.1, WP_106165788.1, WP_106166416....</td>\n      <td>[WP_241994356.1, WP_106168188.1, WP_106168535....</td>\n      <td>...</td>\n      <td>[, WP_039711360.1, WP_106166235.1, WP_10616717...</td>\n      <td>[WP_106168565.1, WP_106169362.1, WP_308726822....</td>\n      <td>[WP_015154286.1, WP_106166680.1, WP_106167949....</td>\n      <td>[, WP_258184067.1, WP_015152915.1, WP_10616849...</td>\n      <td>[WP_106167357.1, WP_106169593.1, WP_146138633....</td>\n      <td>[WP_106166095.1, WP_106167211.1]</td>\n      <td>[WP_106166148.1, WP_106170244.1, WP_106167201....</td>\n      <td>[WP_015156087.1, WP_106168475.1]</td>\n      <td>[WP_106170022.1, WP_199755926.1, WP_258183796....</td>\n      <td>[]</td>\n    </tr>\n    <tr>\n      <th>CCALA_051</th>\n      <td>[WP_233222763.1, WP_199197642.1, WP_106544194....</td>\n      <td>[, WP_199197416.1, WP_106544161.1, WP_10654516...</td>\n      <td>[WP_106544485.1, WP_106547316.1]</td>\n      <td>[WP_106544978.1, WP_106547801.1, WP_106544332....</td>\n      <td>[WP_106544759.1, WP_199197586.1, WP_106545907....</td>\n      <td>[WP_106545014.1, WP_106545013.1, WP_106547082....</td>\n      <td>[WP_106545995.1, WP_255410015.1, WP_106546369....</td>\n      <td>[WP_106544052.1, WP_106544627.1, WP_106544670....</td>\n      <td>[WP_106545401.1, WP_106545914.1, WP_106546881....</td>\n      <td>[WP_233222594.1, WP_015157365.1, WP_106544921....</td>\n      <td>...</td>\n      <td>[, WP_106545896.1, WP_199197416.1, WP_01515614...</td>\n      <td>[WP_106547799.1, WP_158265837.1, WP_255409940....</td>\n      <td>[WP_106218127.1, WP_106545006.1, WP_106545600....</td>\n      <td>[, WP_106546571.1, WP_106544919.1, WP_10654527...</td>\n      <td>[WP_015152561.1, WP_106544787.1, WP_106546255....</td>\n      <td>[WP_106544338.1, WP_106547691.1]</td>\n      <td>[WP_106546910.1, WP_106547822.1, WP_106546014....</td>\n      <td>[WP_106546359.1]</td>\n      <td>[WP_106544116.1, WP_106544486.1, WP_106544601....</td>\n      <td>[]</td>\n    </tr>\n    <tr>\n      <th>[FACHB-1243]</th>\n      <td>[WP_192161740.1, WP_192161666.1, WP_192155277....</td>\n      <td>[, WP_192161382.1, WP_199317083.1, WP_24203868...</td>\n      <td>[WP_192161598.1, WP_192153622.1]</td>\n      <td>[WP_192155319.1, WP_192158494.1, WP_192153390....</td>\n      <td>[WP_192154427.1, WP_192153654.1, WP_192158571....</td>\n      <td>[WP_192159629.1, WP_192156987.1, WP_192159627....</td>\n      <td>[WP_192157155.1, WP_192161824.1, WP_242038488....</td>\n      <td>[WP_192153489.1, WP_192158253.1, WP_192161863....</td>\n      <td>[WP_192153562.1, WP_192154609.1, WP_192155737....</td>\n      <td>[WP_242038382.1, WP_192153824.1, WP_192160035....</td>\n      <td>...</td>\n      <td>[, WP_192161308.1, WP_192161381.1, WP_19931708...</td>\n      <td>[WP_192155332.1, WP_192158892.1, WP_192160480....</td>\n      <td>[WP_106167949.1, WP_192159606.1, WP_192160211....</td>\n      <td>[WP_192161666.1, WP_199316979.1, WP_015152852....</td>\n      <td>[WP_192153718.1, WP_192156138.1, WP_192156139....</td>\n      <td>[WP_106166095.1]</td>\n      <td>[WP_206757149.1, WP_277875990.1, WP_192154943....</td>\n      <td>[WP_192159776.1]</td>\n      <td>[WP_192160524.1, WP_192161599.1, WP_199316949....</td>\n      <td>[]</td>\n    </tr>\n  </tbody>\n</table>\n<p>9 rows × 40 columns</p>\n</div>"
     },
     "execution_count": 130,
     "metadata": {},
     "output_type": "execute_result"
    }
   ],
   "source": [
    "file=(\"/home/davide/Downloads/KEGGBrite.html\")\n",
    "soup=BeautifulSoup(open(file), 'html.parser')\n",
    "li_tags = soup.find_all(\"li\")\n",
    "for i, li in enumerate(li_tags):\n",
    "    if \"Enzymes\" in str(li):\n",
    "        break\n",
    "li_tags = li_tags[i:]\n",
    "\n",
    "brites = {}\n",
    "#now iterate over the li tags and find the dd tags inside them\n",
    "for li in li_tags:\n",
    "    dd_tags = li.find_all(\"dd\")\n",
    "    brite=li.contents[0].get_text()+\" - \"+li.contents[1].get_text()[:-1].strip()\n",
    "    diz = {}\n",
    "    for dd in dd_tags:\n",
    "        contents = dd.contents\n",
    "        contents=[c for c in contents if c.name != 'br']\n",
    "        contents=[str(content).replace('\\xa0', '') for content in contents]\n",
    "        contents=[str(c) for c in contents]\n",
    "        for i, e in enumerate(contents):\n",
    "            e=e.split(\":\")\n",
    "            pids=e[1].split(\",\")\n",
    "\n",
    "            key=e[0]\n",
    "            if key not in diz:\n",
    "                diz[key]=pids\n",
    "            elif pids!=['']:\n",
    "                diz[key].extend(pids)\n",
    "    brites[brite]=diz\n",
    "df_br=pd.DataFrame(brites)\n",
    "df_br\n"
   ],
   "metadata": {
    "collapsed": false,
    "ExecuteTime": {
     "end_time": "2024-04-19T14:04:23.160478Z",
     "start_time": "2024-04-19T14:04:20.541068Z"
    }
   },
   "id": "de77d39293b48daa",
   "execution_count": 130
  },
  {
   "cell_type": "code",
   "outputs": [],
   "source": [
    "#save\n",
    "df_br.to_pickle(\"/home/davide/Downloads/brite.pkl\")"
   ],
   "metadata": {
    "collapsed": false,
    "ExecuteTime": {
     "end_time": "2024-04-19T14:04:40.704866Z",
     "start_time": "2024-04-19T14:04:40.699807Z"
    }
   },
   "id": "efc30ce1c08df2dd",
   "execution_count": 131
  },
  {
   "cell_type": "code",
   "outputs": [
    {
     "data": {
      "text/plain": "ko01000 - Enzymes                                                 WP_250122538.1\nko01000 - Enzymes                                                 WP_250124344.1\nko01000 - Enzymes                                                 WP_250124395.1\nko01000 - Enzymes                                                 WP_250125460.1\nko01000 - Enzymes                                                 WP_256478781.1\n                                                                       ...      \nko01504 - Antimicrobial resistance genes                          WP_250126726.1\nko00536 - Glycosaminoglycan binding proteins                                    \nko00537 - Glycosylphosphatidylinositol (GPI)-anchored proteins    WP_250121531.1\nko00537 - Glycosylphosphatidylinositol (GPI)-anchored proteins    WP_250126561.1\nko03200 - Viral proteins                                          WP_250126373.1\nName: CCMEE_29, Length: 2768, dtype: object"
     },
     "execution_count": 126,
     "metadata": {},
     "output_type": "execute_result"
    }
   ],
   "source": [
    "df_br=df_br.loc[\"CCMEE_29\"].explode()\n",
    "df_br=df_br.reset_index()\n",
    "df_br=df_br.set_index(\"CCMEE_29\")\n",
    "df_br=df_br.rename(columns={\"index\":\"Kegg Brite\"})\n",
    "df_br.index.name=\"protein_id\"\n",
    "df_br=df_br.groupby(\"protein_id\")[\"Kegg Brite\"].apply(lambda x: \", \".join(x))\n",
    "df_br"
   ],
   "metadata": {
    "collapsed": false,
    "ExecuteTime": {
     "end_time": "2024-04-19T13:53:37.447039Z",
     "start_time": "2024-04-19T13:53:37.442431Z"
    }
   },
   "id": "8ac47ced70e03e02",
   "execution_count": 126
  },
  {
   "cell_type": "code",
   "outputs": [
    {
     "data": {
      "text/plain": "CCMEE_29\n                  ko01001 - Protein kinases, ko01003 - Glycosylt...\nWP_041548398.1                        ko03012 - Translation factors\nWP_250121154.1    ko01000 - Enzymes, ko01003 - Glycosyltransfera...\nWP_250121155.1    ko01000 - Enzymes, ko00194 - Photosynthesis pr...\nWP_250121157.1            ko01000 - Enzymes, ko02000 - Transporters\n                                        ...                        \nWP_275983388.1    ko03110 - Chaperones and folding catalysts, ko...\nWP_275983394.1                    ko00194 - Photosynthesis proteins\nWP_275983395.1                               ko02000 - Transporters\nWP_275983396.1                 ko02048 - Prokaryotic defense system\nWP_275983398.1    ko01002 - Peptidases and inhibitors, ko03110 -...\nName: index, Length: 2011, dtype: object"
     },
     "execution_count": 127,
     "metadata": {},
     "output_type": "execute_result"
    }
   ],
   "source": [
    "\n"
   ],
   "metadata": {
    "collapsed": false,
    "ExecuteTime": {
     "end_time": "2024-04-19T13:58:16.636747Z",
     "start_time": "2024-04-19T13:58:16.610722Z"
    }
   },
   "id": "d0d27d7318432325",
   "execution_count": 127
  },
  {
   "cell_type": "code",
   "outputs": [
    {
     "data": {
      "text/plain": "              locus                                    product  gene  \\\n0     LAU37_RS00005          DUF1257 domain-containing protein         \n1     LAU37_RS00010                       hypothetical protein         \n2     LAU37_RS00015                      anthranilate synthase         \n3     LAU37_RS00020  indole-3-glycerol phosphate synthase TrpC  trpC   \n4     LAU37_RS00025          tryptophan synthase subunit alpha  trpA   \n...             ...                                        ...   ...   \n6005  LAU37_RS31385                     IS4 family transposase         \n6006  LAU37_RS31390                        ATP-binding protein         \n6007  LAU37_RS31400                       hypothetical protein         \n6008  LAU37_RS31405                       hypothetical protein         \n6009  LAU37_RS31410                       hypothetical protein         \n\n          protein_id                                         GO_process  \\\n0     WP_275983370.1                                                      \n1     WP_250123595.1                                                      \n2     WP_250123596.1  GO:0000162 - tryptophan biosynthetic process [...   \n3     WP_250123597.1  GO:0006568 - tryptophan metabolic process [Evi...   \n4     WP_250123598.1  GO:0000162 - tryptophan biosynthetic process [...   \n...              ...                                                ...   \n6005  WP_256479003.1                                                      \n6006  WP_250126520.1                                                      \n6007  WP_250126521.1                                                      \n6008  WP_250126522.1                                                      \n6009  WP_250126523.1                                                      \n\n                                            GO_function GO_component  \n0                                                                     \n1                                                                     \n2     GO:0004049 - anthranilate synthase activity [E...               \n3     GO:0004425 - indole-3-glycerol-phosphate synth...               \n4     GO:0004834 - tryptophan synthase activity [Evi...               \n...                                                 ...          ...  \n6005   GO:0004803 - transposase activity [Evidence IEA]               \n6006                                                                  \n6007                                                                  \n6008                                                                  \n6009                                                                  \n\n[6010 rows x 7 columns]",
      "text/html": "<div>\n<style scoped>\n    .dataframe tbody tr th:only-of-type {\n        vertical-align: middle;\n    }\n\n    .dataframe tbody tr th {\n        vertical-align: top;\n    }\n\n    .dataframe thead th {\n        text-align: right;\n    }\n</style>\n<table border=\"1\" class=\"dataframe\">\n  <thead>\n    <tr style=\"text-align: right;\">\n      <th></th>\n      <th>locus</th>\n      <th>product</th>\n      <th>gene</th>\n      <th>protein_id</th>\n      <th>GO_process</th>\n      <th>GO_function</th>\n      <th>GO_component</th>\n    </tr>\n  </thead>\n  <tbody>\n    <tr>\n      <th>0</th>\n      <td>LAU37_RS00005</td>\n      <td>DUF1257 domain-containing protein</td>\n      <td></td>\n      <td>WP_275983370.1</td>\n      <td></td>\n      <td></td>\n      <td></td>\n    </tr>\n    <tr>\n      <th>1</th>\n      <td>LAU37_RS00010</td>\n      <td>hypothetical protein</td>\n      <td></td>\n      <td>WP_250123595.1</td>\n      <td></td>\n      <td></td>\n      <td></td>\n    </tr>\n    <tr>\n      <th>2</th>\n      <td>LAU37_RS00015</td>\n      <td>anthranilate synthase</td>\n      <td></td>\n      <td>WP_250123596.1</td>\n      <td>GO:0000162 - tryptophan biosynthetic process [...</td>\n      <td>GO:0004049 - anthranilate synthase activity [E...</td>\n      <td></td>\n    </tr>\n    <tr>\n      <th>3</th>\n      <td>LAU37_RS00020</td>\n      <td>indole-3-glycerol phosphate synthase TrpC</td>\n      <td>trpC</td>\n      <td>WP_250123597.1</td>\n      <td>GO:0006568 - tryptophan metabolic process [Evi...</td>\n      <td>GO:0004425 - indole-3-glycerol-phosphate synth...</td>\n      <td></td>\n    </tr>\n    <tr>\n      <th>4</th>\n      <td>LAU37_RS00025</td>\n      <td>tryptophan synthase subunit alpha</td>\n      <td>trpA</td>\n      <td>WP_250123598.1</td>\n      <td>GO:0000162 - tryptophan biosynthetic process [...</td>\n      <td>GO:0004834 - tryptophan synthase activity [Evi...</td>\n      <td></td>\n    </tr>\n    <tr>\n      <th>...</th>\n      <td>...</td>\n      <td>...</td>\n      <td>...</td>\n      <td>...</td>\n      <td>...</td>\n      <td>...</td>\n      <td>...</td>\n    </tr>\n    <tr>\n      <th>6005</th>\n      <td>LAU37_RS31385</td>\n      <td>IS4 family transposase</td>\n      <td></td>\n      <td>WP_256479003.1</td>\n      <td></td>\n      <td>GO:0004803 - transposase activity [Evidence IEA]</td>\n      <td></td>\n    </tr>\n    <tr>\n      <th>6006</th>\n      <td>LAU37_RS31390</td>\n      <td>ATP-binding protein</td>\n      <td></td>\n      <td>WP_250126520.1</td>\n      <td></td>\n      <td></td>\n      <td></td>\n    </tr>\n    <tr>\n      <th>6007</th>\n      <td>LAU37_RS31400</td>\n      <td>hypothetical protein</td>\n      <td></td>\n      <td>WP_250126521.1</td>\n      <td></td>\n      <td></td>\n      <td></td>\n    </tr>\n    <tr>\n      <th>6008</th>\n      <td>LAU37_RS31405</td>\n      <td>hypothetical protein</td>\n      <td></td>\n      <td>WP_250126522.1</td>\n      <td></td>\n      <td></td>\n      <td></td>\n    </tr>\n    <tr>\n      <th>6009</th>\n      <td>LAU37_RS31410</td>\n      <td>hypothetical protein</td>\n      <td></td>\n      <td>WP_250126523.1</td>\n      <td></td>\n      <td></td>\n      <td></td>\n    </tr>\n  </tbody>\n</table>\n<p>6010 rows × 7 columns</p>\n</div>"
     },
     "execution_count": 91,
     "metadata": {},
     "output_type": "execute_result"
    }
   ],
   "source": [
    "#find all multiple protein_id in genbank file\n",
    "from Bio import SeqIO\n",
    "file=\"/home/davide/Desktop/genomiChro/annotati_Refseq/Chroococcidiopsis_sp._CCMEE_29_(cyanobacteria)_GCF_023558375.gbff\"\n",
    "diz={}\n",
    "lista=[]\n",
    "for record in SeqIO.parse(file, \"genbank\"):\n",
    "    for feature in record.features:\n",
    "        if feature.type==\"CDS\":\n",
    "            locus_tag=feature.qualifiers[\"locus_tag\"][0]\n",
    "            if \"protein_id\" in feature.qualifiers:\n",
    "                product=feature.qualifiers.get(\"product\",[\"\"])[0]\n",
    "                gene=feature.qualifiers.get(\"gene\",[\"\"])[0]\n",
    "                protein_id=feature.qualifiers[\"protein_id\"][0]\n",
    "                GO_process=feature.qualifiers.get(\"GO_process\",[\"\"])[0]\n",
    "                GO_function=feature.qualifiers.get(\"GO_function\",[\"\"])[0]\n",
    "                GO_component=feature.qualifiers.get(\"GO_component\",[\"\"])[0]\n",
    "                lista.append([locus_tag,product,gene,protein_id,GO_process,GO_function,GO_component])\n",
    "data=pd.DataFrame(lista,columns=[\"locus\",\"product\",\"gene\",\"protein_id\",\"GO_process\",\"GO_function\",\"GO_component\"])\n",
    "data\n",
    "                \n",
    "\n"
   ],
   "metadata": {
    "collapsed": false,
    "ExecuteTime": {
     "end_time": "2024-04-19T08:53:02.624375Z",
     "start_time": "2024-04-19T08:53:02.273498Z"
    }
   },
   "id": "a8d7f2a16b60305e",
   "execution_count": 91
  },
  {
   "cell_type": "code",
   "outputs": [],
   "source": [
    "import re\n",
    "file=\"/home/davide/Desktop/genomiChro/intergeniche_RefSeq/Chroococcidiopsis_sp._CCMEE_29_GCF_023558375_intergen.fasta\"\n",
    "motivi=[\".AGT.{4,11}ACT.\",\".TAGT.{5,10}(?<!A)CT.\"]\n",
    "from Bio import SeqIO\n",
    "#parse the fasta file\n",
    "diz={}\n",
    "j=0\n",
    "for record in SeqIO.parse(file, \"fasta\"):\n",
    "    seq=str(record.seq)\n",
    "    #use the finditer method to find all the matches of the regular expression\n",
    "    for m in motivi:\n",
    "        for match in re.finditer(m, str(seq)):\n",
    "            x=match.group()\n",
    "            s,e=match.start(),match.end()\n",
    "            # print(x,s,e,seq[s],seq[e-1])\n",
    "            x=x[0].lower()+x[1:-1]+x[-1].lower()\n",
    "            while True:\n",
    "                if s==0 or e==len(seq):\n",
    "                    break\n",
    "                if seq[s]==rev(seq[e-1]):\n",
    "                    x=seq[s].lower()+x+seq[e-1].lower()\n",
    "                    s=s-1\n",
    "                    e=e+1\n",
    "                elif seq[s]!=rev(seq[e-1]):\n",
    "                    break\n",
    "\n",
    "            #store the match in a dictionary\n",
    "            if record.id in diz:\n",
    "                diz[record.id].append(x)\n",
    "            else:\n",
    "                diz[record.id]=[x]\n",
    "import pandas as pd\n",
    "df=pd.Series(diz,name=\"motivi\")\n",
    "\n",
    "    "
   ],
   "metadata": {
    "collapsed": false,
    "ExecuteTime": {
     "end_time": "2024-04-19T12:03:50.113464Z",
     "start_time": "2024-04-19T12:03:50.054126Z"
    }
   },
   "id": "543fe365ff82dc0f",
   "execution_count": 123
  },
  {
   "cell_type": "code",
   "outputs": [
    {
     "data": {
      "text/plain": "              locus                                  motivi  \\\n0     LAU37_RS00020                         [tTAGTTACCCCTg]   \n1     LAU37_RS00055                         [gAGTTCAATACTa]   \n2     LAU37_RS00060                      [tAGTTTTGCTTTACTg]   \n3     LAU37_RS00110                     [aTAGTAAGGAGTACCTa]   \n4     LAU37_RS00135                        [aAGTACCCATACTc]   \n...             ...                                     ...   \n2396  LAU37_RS31285                          [gAGTATCAACTa]   \n2397  LAU37_RS31330  [cAGTTTTTATCCACTa, cTAGTGAACTTTTAGCTa]   \n2398  LAU37_RS31345   [tAGTTTATAGAGACTt, aTAGTTGACAAGCGCTc]   \n2399  LAU37_RS31360                    [ccTAGTCGCTTTCCCTgg]   \n2400  LAU37_RS31410                       [gAGTTCCATGAACTg]   \n\n                                        product  gene      protein_id  \\\n0     indole-3-glycerol phosphate synthase TrpC  trpC  WP_250123597.1   \n1                           HpsJ family protein        WP_250123604.1   \n2                          hypothetical protein        WP_250123605.1   \n3                          Ycf66 family protein        WP_250123614.1   \n4                          hypothetical protein        WP_250123619.1   \n...                                         ...   ...             ...   \n2396                  GTP cyclohydrolase I FolE  folE  WP_250126505.1   \n2397                       hypothetical protein        WP_250126513.1   \n2398                     IS4 family transposase        WP_250126516.1   \n2399                                        NaN   NaN             NaN   \n2400                       hypothetical protein        WP_250126523.1   \n\n                                             GO_process  \\\n0     GO:0006568 - tryptophan metabolic process [Evi...   \n1                                                         \n2                                                         \n3                                                         \n4                                                         \n...                                                 ...   \n2396  GO:0042559 - pteridine-containing compound bio...   \n2397                                                      \n2398                                                      \n2399                                                NaN   \n2400                                                      \n\n                                            GO_function GO_component  \\\n0     GO:0004425 - indole-3-glycerol-phosphate synth...                \n1                                                                      \n2                                                                      \n3                                                                      \n4                                                                      \n...                                                 ...          ...   \n2396  GO:0003934 - GTP cyclohydrolase I activity [Ev...                \n2397                                                                   \n2398   GO:0004803 - transposase activity [Evidence IEA]                \n2399                                                NaN          NaN   \n2400                                                                   \n\n                                               pathways  \\\n0     Metabolic pathways, Biosynthesis of secondary ...   \n1                                                   NaN   \n2                                                   NaN   \n3                                                   NaN   \n4                                                   NaN   \n...                                                 ...   \n2396  Metabolic pathways, Biosynthesis of cofactors,...   \n2397                                                NaN   \n2398                                                NaN   \n2399                                                NaN   \n2400                                                NaN   \n\n                  Kegg Brite  \n0          ko01000 - Enzymes  \n1                        NaN  \n2     ko02000 - Transporters  \n3                        NaN  \n4                        NaN  \n...                      ...  \n2396       ko01000 - Enzymes  \n2397                     NaN  \n2398                     NaN  \n2399                     NaN  \n2400                     NaN  \n\n[2401 rows x 10 columns]",
      "text/html": "<div>\n<style scoped>\n    .dataframe tbody tr th:only-of-type {\n        vertical-align: middle;\n    }\n\n    .dataframe tbody tr th {\n        vertical-align: top;\n    }\n\n    .dataframe thead th {\n        text-align: right;\n    }\n</style>\n<table border=\"1\" class=\"dataframe\">\n  <thead>\n    <tr style=\"text-align: right;\">\n      <th></th>\n      <th>locus</th>\n      <th>motivi</th>\n      <th>product</th>\n      <th>gene</th>\n      <th>protein_id</th>\n      <th>GO_process</th>\n      <th>GO_function</th>\n      <th>GO_component</th>\n      <th>pathways</th>\n      <th>Kegg Brite</th>\n    </tr>\n  </thead>\n  <tbody>\n    <tr>\n      <th>0</th>\n      <td>LAU37_RS00020</td>\n      <td>[tTAGTTACCCCTg]</td>\n      <td>indole-3-glycerol phosphate synthase TrpC</td>\n      <td>trpC</td>\n      <td>WP_250123597.1</td>\n      <td>GO:0006568 - tryptophan metabolic process [Evi...</td>\n      <td>GO:0004425 - indole-3-glycerol-phosphate synth...</td>\n      <td></td>\n      <td>Metabolic pathways, Biosynthesis of secondary ...</td>\n      <td>ko01000 - Enzymes</td>\n    </tr>\n    <tr>\n      <th>1</th>\n      <td>LAU37_RS00055</td>\n      <td>[gAGTTCAATACTa]</td>\n      <td>HpsJ family protein</td>\n      <td></td>\n      <td>WP_250123604.1</td>\n      <td></td>\n      <td></td>\n      <td></td>\n      <td>NaN</td>\n      <td>NaN</td>\n    </tr>\n    <tr>\n      <th>2</th>\n      <td>LAU37_RS00060</td>\n      <td>[tAGTTTTGCTTTACTg]</td>\n      <td>hypothetical protein</td>\n      <td></td>\n      <td>WP_250123605.1</td>\n      <td></td>\n      <td></td>\n      <td></td>\n      <td>NaN</td>\n      <td>ko02000 - Transporters</td>\n    </tr>\n    <tr>\n      <th>3</th>\n      <td>LAU37_RS00110</td>\n      <td>[aTAGTAAGGAGTACCTa]</td>\n      <td>Ycf66 family protein</td>\n      <td></td>\n      <td>WP_250123614.1</td>\n      <td></td>\n      <td></td>\n      <td></td>\n      <td>NaN</td>\n      <td>NaN</td>\n    </tr>\n    <tr>\n      <th>4</th>\n      <td>LAU37_RS00135</td>\n      <td>[aAGTACCCATACTc]</td>\n      <td>hypothetical protein</td>\n      <td></td>\n      <td>WP_250123619.1</td>\n      <td></td>\n      <td></td>\n      <td></td>\n      <td>NaN</td>\n      <td>NaN</td>\n    </tr>\n    <tr>\n      <th>...</th>\n      <td>...</td>\n      <td>...</td>\n      <td>...</td>\n      <td>...</td>\n      <td>...</td>\n      <td>...</td>\n      <td>...</td>\n      <td>...</td>\n      <td>...</td>\n      <td>...</td>\n    </tr>\n    <tr>\n      <th>2396</th>\n      <td>LAU37_RS31285</td>\n      <td>[gAGTATCAACTa]</td>\n      <td>GTP cyclohydrolase I FolE</td>\n      <td>folE</td>\n      <td>WP_250126505.1</td>\n      <td>GO:0042559 - pteridine-containing compound bio...</td>\n      <td>GO:0003934 - GTP cyclohydrolase I activity [Ev...</td>\n      <td></td>\n      <td>Metabolic pathways, Biosynthesis of cofactors,...</td>\n      <td>ko01000 - Enzymes</td>\n    </tr>\n    <tr>\n      <th>2397</th>\n      <td>LAU37_RS31330</td>\n      <td>[cAGTTTTTATCCACTa, cTAGTGAACTTTTAGCTa]</td>\n      <td>hypothetical protein</td>\n      <td></td>\n      <td>WP_250126513.1</td>\n      <td></td>\n      <td></td>\n      <td></td>\n      <td>NaN</td>\n      <td>NaN</td>\n    </tr>\n    <tr>\n      <th>2398</th>\n      <td>LAU37_RS31345</td>\n      <td>[tAGTTTATAGAGACTt, aTAGTTGACAAGCGCTc]</td>\n      <td>IS4 family transposase</td>\n      <td></td>\n      <td>WP_250126516.1</td>\n      <td></td>\n      <td>GO:0004803 - transposase activity [Evidence IEA]</td>\n      <td></td>\n      <td>NaN</td>\n      <td>NaN</td>\n    </tr>\n    <tr>\n      <th>2399</th>\n      <td>LAU37_RS31360</td>\n      <td>[ccTAGTCGCTTTCCCTgg]</td>\n      <td>NaN</td>\n      <td>NaN</td>\n      <td>NaN</td>\n      <td>NaN</td>\n      <td>NaN</td>\n      <td>NaN</td>\n      <td>NaN</td>\n      <td>NaN</td>\n    </tr>\n    <tr>\n      <th>2400</th>\n      <td>LAU37_RS31410</td>\n      <td>[gAGTTCCATGAACTg]</td>\n      <td>hypothetical protein</td>\n      <td></td>\n      <td>WP_250126523.1</td>\n      <td></td>\n      <td></td>\n      <td></td>\n      <td>NaN</td>\n      <td>NaN</td>\n    </tr>\n  </tbody>\n</table>\n<p>2401 rows × 10 columns</p>\n</div>"
     },
     "execution_count": 92,
     "metadata": {},
     "output_type": "execute_result"
    }
   ],
   "source": [
    "df=pd.merge(df,data,on=\"locus\",how=\"left\")\n",
    "df_path.index.name=\"protein_id\"\n",
    "df_br.index.name=\"protein_id\"\n",
    "df=pd.merge(df,df_path,on=\"protein_id\",how=\"left\")\n",
    "#merge df and df_br on protein_id\n",
    "df=pd.merge(df,df_br,on=\"protein_id\",how=\"left\")\n",
    "df"
   ],
   "metadata": {
    "collapsed": false,
    "ExecuteTime": {
     "end_time": "2024-04-19T08:53:02.640811Z",
     "start_time": "2024-04-19T08:53:02.625086Z"
    }
   },
   "id": "ddc43089cfc4ff3f",
   "execution_count": 92
  },
  {
   "cell_type": "code",
   "outputs": [
    {
     "data": {
      "text/plain": "              locus                                             motivi  \\\n1201  LAU37_RS04245  [tAGTGGTTACTc, aaAGTGTTCTTACTAAACTtt, tAGTTCCT...   \n1360  LAU37_RS07840  [cttttAGTAATTAGCCTCACTaaaag, tAGTCTCCATACTt, t...   \n937   LAU37_RS25215  [ggAGTAGCCAAACTcc, ttAGTTTGTACTaa, aAGTAGTTAGC...   \n2146  LAU37_RS28725  [ttAGTTGCTAACCCAACTaa, ttAGTATAAACTGAGACTaa, a...   \n612   LAU37_RS17070  [aaAGTCTGTCTCACTtt, aaAGTCAGACCGCAAAACTtt, aaA...   \n...             ...                                                ...   \n988   LAU37_RS26555                                   [gAGTCAGATTACTa]   \n983   LAU37_RS26400                               [aTAGTAGTAGGAGCGCTc]   \n979   LAU37_RS26255                                   [aTAGTCTCTCGCTa]   \n978   LAU37_RS26190                                     [gAGTAGTTACTa]   \n2400  LAU37_RS31410                                  [gAGTTCCATGAACTg]   \n\n                                                product gene      protein_id  \\\n1201         2Fe-2S iron-sulfur cluster-binding protein       WP_250124385.1   \n1360                                glycosyltransferase       WP_250125026.1   \n937                            cation:proton antiporter       WP_250123190.1   \n2146  type II toxin-antitoxin system RelE/ParE famil...       WP_250126688.1   \n612                          MBL fold metallo-hydrolase       WP_250121690.1   \n...                                                 ...  ...             ...   \n988                                                 NaN  NaN             NaN   \n983                                hypothetical protein       WP_250123409.1   \n979                                                 NaN  NaN             NaN   \n978                                hypothetical protein       WP_250123369.1   \n2400                               hypothetical protein       WP_250126523.1   \n\n                                             GO_process  \\\n1201                                                      \n1360                                                      \n937   GO:0006812 - monoatomic cation transport [Evid...   \n2146                                                      \n612                                                       \n...                                                 ...   \n988                                                 NaN   \n983                                                       \n979                                                 NaN   \n978                                                       \n2400                                                      \n\n                                            GO_function  \\\n1201  GO:0009055 - electron transfer activity [Evide...   \n1360                                                      \n937                                                       \n2146                                                      \n612                                                       \n...                                                 ...   \n988                                                 NaN   \n983                                                       \n979                                                 NaN   \n978                                                       \n2400                                                      \n\n                              GO_component pathways Kegg Brite  n_motivi  \n1201                                            NaN        NaN         7  \n1360                                            NaN        NaN         6  \n937   GO:0016020 - membrane [Evidence IEA]      NaN        NaN         6  \n2146                                            NaN        NaN         5  \n612                                             NaN        NaN         5  \n...                                    ...      ...        ...       ...  \n988                                    NaN      NaN        NaN         1  \n983                                             NaN        NaN         1  \n979                                    NaN      NaN        NaN         1  \n978                                             NaN        NaN         1  \n2400                                            NaN        NaN         1  \n\n[2401 rows x 11 columns]",
      "text/html": "<div>\n<style scoped>\n    .dataframe tbody tr th:only-of-type {\n        vertical-align: middle;\n    }\n\n    .dataframe tbody tr th {\n        vertical-align: top;\n    }\n\n    .dataframe thead th {\n        text-align: right;\n    }\n</style>\n<table border=\"1\" class=\"dataframe\">\n  <thead>\n    <tr style=\"text-align: right;\">\n      <th></th>\n      <th>locus</th>\n      <th>motivi</th>\n      <th>product</th>\n      <th>gene</th>\n      <th>protein_id</th>\n      <th>GO_process</th>\n      <th>GO_function</th>\n      <th>GO_component</th>\n      <th>pathways</th>\n      <th>Kegg Brite</th>\n      <th>n_motivi</th>\n    </tr>\n  </thead>\n  <tbody>\n    <tr>\n      <th>1201</th>\n      <td>LAU37_RS04245</td>\n      <td>[tAGTGGTTACTc, aaAGTGTTCTTACTAAACTtt, tAGTTCCT...</td>\n      <td>2Fe-2S iron-sulfur cluster-binding protein</td>\n      <td></td>\n      <td>WP_250124385.1</td>\n      <td></td>\n      <td>GO:0009055 - electron transfer activity [Evide...</td>\n      <td></td>\n      <td>NaN</td>\n      <td>NaN</td>\n      <td>7</td>\n    </tr>\n    <tr>\n      <th>1360</th>\n      <td>LAU37_RS07840</td>\n      <td>[cttttAGTAATTAGCCTCACTaaaag, tAGTCTCCATACTt, t...</td>\n      <td>glycosyltransferase</td>\n      <td></td>\n      <td>WP_250125026.1</td>\n      <td></td>\n      <td></td>\n      <td></td>\n      <td>NaN</td>\n      <td>NaN</td>\n      <td>6</td>\n    </tr>\n    <tr>\n      <th>937</th>\n      <td>LAU37_RS25215</td>\n      <td>[ggAGTAGCCAAACTcc, ttAGTTTGTACTaa, aAGTAGTTAGC...</td>\n      <td>cation:proton antiporter</td>\n      <td></td>\n      <td>WP_250123190.1</td>\n      <td>GO:0006812 - monoatomic cation transport [Evid...</td>\n      <td></td>\n      <td>GO:0016020 - membrane [Evidence IEA]</td>\n      <td>NaN</td>\n      <td>NaN</td>\n      <td>6</td>\n    </tr>\n    <tr>\n      <th>2146</th>\n      <td>LAU37_RS28725</td>\n      <td>[ttAGTTGCTAACCCAACTaa, ttAGTATAAACTGAGACTaa, a...</td>\n      <td>type II toxin-antitoxin system RelE/ParE famil...</td>\n      <td></td>\n      <td>WP_250126688.1</td>\n      <td></td>\n      <td></td>\n      <td></td>\n      <td>NaN</td>\n      <td>NaN</td>\n      <td>5</td>\n    </tr>\n    <tr>\n      <th>612</th>\n      <td>LAU37_RS17070</td>\n      <td>[aaAGTCTGTCTCACTtt, aaAGTCAGACCGCAAAACTtt, aaA...</td>\n      <td>MBL fold metallo-hydrolase</td>\n      <td></td>\n      <td>WP_250121690.1</td>\n      <td></td>\n      <td></td>\n      <td></td>\n      <td>NaN</td>\n      <td>NaN</td>\n      <td>5</td>\n    </tr>\n    <tr>\n      <th>...</th>\n      <td>...</td>\n      <td>...</td>\n      <td>...</td>\n      <td>...</td>\n      <td>...</td>\n      <td>...</td>\n      <td>...</td>\n      <td>...</td>\n      <td>...</td>\n      <td>...</td>\n      <td>...</td>\n    </tr>\n    <tr>\n      <th>988</th>\n      <td>LAU37_RS26555</td>\n      <td>[gAGTCAGATTACTa]</td>\n      <td>NaN</td>\n      <td>NaN</td>\n      <td>NaN</td>\n      <td>NaN</td>\n      <td>NaN</td>\n      <td>NaN</td>\n      <td>NaN</td>\n      <td>NaN</td>\n      <td>1</td>\n    </tr>\n    <tr>\n      <th>983</th>\n      <td>LAU37_RS26400</td>\n      <td>[aTAGTAGTAGGAGCGCTc]</td>\n      <td>hypothetical protein</td>\n      <td></td>\n      <td>WP_250123409.1</td>\n      <td></td>\n      <td></td>\n      <td></td>\n      <td>NaN</td>\n      <td>NaN</td>\n      <td>1</td>\n    </tr>\n    <tr>\n      <th>979</th>\n      <td>LAU37_RS26255</td>\n      <td>[aTAGTCTCTCGCTa]</td>\n      <td>NaN</td>\n      <td>NaN</td>\n      <td>NaN</td>\n      <td>NaN</td>\n      <td>NaN</td>\n      <td>NaN</td>\n      <td>NaN</td>\n      <td>NaN</td>\n      <td>1</td>\n    </tr>\n    <tr>\n      <th>978</th>\n      <td>LAU37_RS26190</td>\n      <td>[gAGTAGTTACTa]</td>\n      <td>hypothetical protein</td>\n      <td></td>\n      <td>WP_250123369.1</td>\n      <td></td>\n      <td></td>\n      <td></td>\n      <td>NaN</td>\n      <td>NaN</td>\n      <td>1</td>\n    </tr>\n    <tr>\n      <th>2400</th>\n      <td>LAU37_RS31410</td>\n      <td>[gAGTTCCATGAACTg]</td>\n      <td>hypothetical protein</td>\n      <td></td>\n      <td>WP_250126523.1</td>\n      <td></td>\n      <td></td>\n      <td></td>\n      <td>NaN</td>\n      <td>NaN</td>\n      <td>1</td>\n    </tr>\n  </tbody>\n</table>\n<p>2401 rows × 11 columns</p>\n</div>"
     },
     "execution_count": 93,
     "metadata": {},
     "output_type": "execute_result"
    }
   ],
   "source": [
    "#order df by number of motifs\n",
    "df[\"n_motivi\"]=df[\"motivi\"].apply(lambda x: len(x))\n",
    "df.sort_values(by=\"n_motivi\",ascending=False)\n"
   ],
   "metadata": {
    "collapsed": false,
    "ExecuteTime": {
     "end_time": "2024-04-19T08:53:02.651074Z",
     "start_time": "2024-04-19T08:53:02.641502Z"
    }
   },
   "id": "b34a7a55108f9ab1",
   "execution_count": 93
  },
  {
   "cell_type": "code",
   "outputs": [],
   "source": [
    "#save df to excel\n",
    "df.to_excel(\"/home/davide/Desktop/tabellamotiviCCMEE29.xlsx\")"
   ],
   "metadata": {
    "collapsed": false,
    "ExecuteTime": {
     "end_time": "2024-04-19T08:10:43.848040Z",
     "start_time": "2024-04-19T08:10:43.585423Z"
    }
   },
   "id": "1d00268345d73f94",
   "execution_count": 71
  },
  {
   "cell_type": "code",
   "outputs": [
    {
     "data": {
      "text/plain": "              locus                                  motivi  \\\n0     LAU37_RS00020                         [tTAGTTACCCCTg]   \n1     LAU37_RS00055                         [gAGTTCAATACTa]   \n2     LAU37_RS00060                      [tAGTTTTGCTTTACTg]   \n3     LAU37_RS00110                     [aTAGTAAGGAGTACCTa]   \n4     LAU37_RS00135                        [aAGTACCCATACTc]   \n...             ...                                     ...   \n2395  LAU37_RS31230                 [ttAGTAAAAGCGTAAAACTaa]   \n2396  LAU37_RS31285                          [gAGTATCAACTa]   \n2397  LAU37_RS31330  [cAGTTTTTATCCACTa, cTAGTGAACTTTTAGCTa]   \n2398  LAU37_RS31345   [tAGTTTATAGAGACTt, aTAGTTGACAAGCGCTc]   \n2400  LAU37_RS31410                       [gAGTTCCATGAACTg]   \n\n                                        product  gene      protein_id  \\\n0     indole-3-glycerol phosphate synthase TrpC  trpC  WP_250123597.1   \n1                           HpsJ family protein        WP_250123604.1   \n2                          hypothetical protein        WP_250123605.1   \n3                          Ycf66 family protein        WP_250123614.1   \n4                          hypothetical protein        WP_250123619.1   \n...                                         ...   ...             ...   \n2395                       alpha/beta hydrolase        WP_250126497.1   \n2396                  GTP cyclohydrolase I FolE  folE  WP_250126505.1   \n2397                       hypothetical protein        WP_250126513.1   \n2398                     IS4 family transposase        WP_250126516.1   \n2400                       hypothetical protein        WP_250126523.1   \n\n                                             GO_process  \\\n0     GO:0006568 - tryptophan metabolic process [Evi...   \n1                                                         \n2                                                         \n3                                                         \n4                                                         \n...                                                 ...   \n2395                                                      \n2396  GO:0042559 - pteridine-containing compound bio...   \n2397                                                      \n2398                                                      \n2400                                                      \n\n                                            GO_function GO_component  \\\n0     GO:0004425 - indole-3-glycerol-phosphate synth...                \n1                                                                      \n2                                                                      \n3                                                                      \n4                                                                      \n...                                                 ...          ...   \n2395                                                                   \n2396  GO:0003934 - GTP cyclohydrolase I activity [Ev...                \n2397                                                                   \n2398   GO:0004803 - transposase activity [Evidence IEA]                \n2400                                                                   \n\n                                               pathways  \\\n0     Metabolic pathways, Biosynthesis of secondary ...   \n1                                                   NaN   \n2                                                   NaN   \n3                                                   NaN   \n4                                                   NaN   \n...                                                 ...   \n2395                                                NaN   \n2396  Metabolic pathways, Biosynthesis of cofactors,...   \n2397                                                NaN   \n2398                                                NaN   \n2400                                                NaN   \n\n                  Kegg Brite  n_motivi  \n0          ko01000 - Enzymes         1  \n1                        NaN         1  \n2     ko02000 - Transporters         1  \n3                        NaN         1  \n4                        NaN         1  \n...                      ...       ...  \n2395                     NaN         1  \n2396       ko01000 - Enzymes         1  \n2397                     NaN         2  \n2398                     NaN         2  \n2400                     NaN         1  \n\n[2278 rows x 11 columns]",
      "text/html": "<div>\n<style scoped>\n    .dataframe tbody tr th:only-of-type {\n        vertical-align: middle;\n    }\n\n    .dataframe tbody tr th {\n        vertical-align: top;\n    }\n\n    .dataframe thead th {\n        text-align: right;\n    }\n</style>\n<table border=\"1\" class=\"dataframe\">\n  <thead>\n    <tr style=\"text-align: right;\">\n      <th></th>\n      <th>locus</th>\n      <th>motivi</th>\n      <th>product</th>\n      <th>gene</th>\n      <th>protein_id</th>\n      <th>GO_process</th>\n      <th>GO_function</th>\n      <th>GO_component</th>\n      <th>pathways</th>\n      <th>Kegg Brite</th>\n      <th>n_motivi</th>\n    </tr>\n  </thead>\n  <tbody>\n    <tr>\n      <th>0</th>\n      <td>LAU37_RS00020</td>\n      <td>[tTAGTTACCCCTg]</td>\n      <td>indole-3-glycerol phosphate synthase TrpC</td>\n      <td>trpC</td>\n      <td>WP_250123597.1</td>\n      <td>GO:0006568 - tryptophan metabolic process [Evi...</td>\n      <td>GO:0004425 - indole-3-glycerol-phosphate synth...</td>\n      <td></td>\n      <td>Metabolic pathways, Biosynthesis of secondary ...</td>\n      <td>ko01000 - Enzymes</td>\n      <td>1</td>\n    </tr>\n    <tr>\n      <th>1</th>\n      <td>LAU37_RS00055</td>\n      <td>[gAGTTCAATACTa]</td>\n      <td>HpsJ family protein</td>\n      <td></td>\n      <td>WP_250123604.1</td>\n      <td></td>\n      <td></td>\n      <td></td>\n      <td>NaN</td>\n      <td>NaN</td>\n      <td>1</td>\n    </tr>\n    <tr>\n      <th>2</th>\n      <td>LAU37_RS00060</td>\n      <td>[tAGTTTTGCTTTACTg]</td>\n      <td>hypothetical protein</td>\n      <td></td>\n      <td>WP_250123605.1</td>\n      <td></td>\n      <td></td>\n      <td></td>\n      <td>NaN</td>\n      <td>ko02000 - Transporters</td>\n      <td>1</td>\n    </tr>\n    <tr>\n      <th>3</th>\n      <td>LAU37_RS00110</td>\n      <td>[aTAGTAAGGAGTACCTa]</td>\n      <td>Ycf66 family protein</td>\n      <td></td>\n      <td>WP_250123614.1</td>\n      <td></td>\n      <td></td>\n      <td></td>\n      <td>NaN</td>\n      <td>NaN</td>\n      <td>1</td>\n    </tr>\n    <tr>\n      <th>4</th>\n      <td>LAU37_RS00135</td>\n      <td>[aAGTACCCATACTc]</td>\n      <td>hypothetical protein</td>\n      <td></td>\n      <td>WP_250123619.1</td>\n      <td></td>\n      <td></td>\n      <td></td>\n      <td>NaN</td>\n      <td>NaN</td>\n      <td>1</td>\n    </tr>\n    <tr>\n      <th>...</th>\n      <td>...</td>\n      <td>...</td>\n      <td>...</td>\n      <td>...</td>\n      <td>...</td>\n      <td>...</td>\n      <td>...</td>\n      <td>...</td>\n      <td>...</td>\n      <td>...</td>\n      <td>...</td>\n    </tr>\n    <tr>\n      <th>2395</th>\n      <td>LAU37_RS31230</td>\n      <td>[ttAGTAAAAGCGTAAAACTaa]</td>\n      <td>alpha/beta hydrolase</td>\n      <td></td>\n      <td>WP_250126497.1</td>\n      <td></td>\n      <td></td>\n      <td></td>\n      <td>NaN</td>\n      <td>NaN</td>\n      <td>1</td>\n    </tr>\n    <tr>\n      <th>2396</th>\n      <td>LAU37_RS31285</td>\n      <td>[gAGTATCAACTa]</td>\n      <td>GTP cyclohydrolase I FolE</td>\n      <td>folE</td>\n      <td>WP_250126505.1</td>\n      <td>GO:0042559 - pteridine-containing compound bio...</td>\n      <td>GO:0003934 - GTP cyclohydrolase I activity [Ev...</td>\n      <td></td>\n      <td>Metabolic pathways, Biosynthesis of cofactors,...</td>\n      <td>ko01000 - Enzymes</td>\n      <td>1</td>\n    </tr>\n    <tr>\n      <th>2397</th>\n      <td>LAU37_RS31330</td>\n      <td>[cAGTTTTTATCCACTa, cTAGTGAACTTTTAGCTa]</td>\n      <td>hypothetical protein</td>\n      <td></td>\n      <td>WP_250126513.1</td>\n      <td></td>\n      <td></td>\n      <td></td>\n      <td>NaN</td>\n      <td>NaN</td>\n      <td>2</td>\n    </tr>\n    <tr>\n      <th>2398</th>\n      <td>LAU37_RS31345</td>\n      <td>[tAGTTTATAGAGACTt, aTAGTTGACAAGCGCTc]</td>\n      <td>IS4 family transposase</td>\n      <td></td>\n      <td>WP_250126516.1</td>\n      <td></td>\n      <td>GO:0004803 - transposase activity [Evidence IEA]</td>\n      <td></td>\n      <td>NaN</td>\n      <td>NaN</td>\n      <td>2</td>\n    </tr>\n    <tr>\n      <th>2400</th>\n      <td>LAU37_RS31410</td>\n      <td>[gAGTTCCATGAACTg]</td>\n      <td>hypothetical protein</td>\n      <td></td>\n      <td>WP_250126523.1</td>\n      <td></td>\n      <td></td>\n      <td></td>\n      <td>NaN</td>\n      <td>NaN</td>\n      <td>1</td>\n    </tr>\n  </tbody>\n</table>\n<p>2278 rows × 11 columns</p>\n</div>"
     },
     "execution_count": 94,
     "metadata": {},
     "output_type": "execute_result"
    }
   ],
   "source": [
    "#find all duplicates in df of protein_id\n",
    "df[df.duplicated(subset=\"protein_id\",keep=False)]\n",
    "#drop rows with protein_id null\n",
    "df.dropna(subset=[\"protein_id\"],inplace=True)\n",
    "df"
   ],
   "metadata": {
    "collapsed": false,
    "ExecuteTime": {
     "end_time": "2024-04-19T08:53:20.488604Z",
     "start_time": "2024-04-19T08:53:20.472857Z"
    }
   },
   "id": "7e3c0c0e3d20a702",
   "execution_count": 94
  },
  {
   "cell_type": "code",
   "outputs": [],
   "source": [
    "#save df to excel\n",
    "\n",
    "df=df.sort_values(by=\"n_motivi\",ascending=False)\n",
    "df_tabella=df"
   ],
   "metadata": {
    "collapsed": false,
    "ExecuteTime": {
     "end_time": "2024-04-19T08:54:06.747196Z",
     "start_time": "2024-04-19T08:54:06.743598Z"
    }
   },
   "id": "23617fd4f27f5323",
   "execution_count": 95
  },
  {
   "cell_type": "code",
   "outputs": [
    {
     "data": {
      "text/plain": "              locus                                             motivi  \\\n1201  LAU37_RS04245  [tAGTGGTTACTc, aaAGTGTTCTTACTAAACTtt, tAGTTCCT...   \n1360  LAU37_RS07840  [cttttAGTAATTAGCCTCACTaaaag, tAGTCTCCATACTt, t...   \n937   LAU37_RS25215  [ggAGTAGCCAAACTcc, ttAGTTTGTACTaa, aAGTAGTTAGC...   \n2194  LAU37_RS29710  [aAGTTGACAACTa, gAGTGGGTCAAAATAACTt, taaaAGTAG...   \n2280  LAU37_RS28395  [aAGTGCAGGTAGCACTc, tAGTGTTCACTc, aaAGTTTATTAG...   \n...             ...                                                ...   \n956   LAU37_RS25730                                   [gAGTTTGAAAACTg]   \n955   LAU37_RS25715                                    [gAGTCAAGCACTa]   \n953   LAU37_RS25670                                [aaAGTATGAATAACTtt]   \n952   LAU37_RS25660                               [aaaAGTTTTGAGACTttt]   \n2400  LAU37_RS31410                                  [gAGTTCCATGAACTg]   \n\n                                         product gene      protein_id  \\\n1201  2Fe-2S iron-sulfur cluster-binding protein       WP_250124385.1   \n1360                         glycosyltransferase       WP_250125026.1   \n937                     cation:proton antiporter       WP_250123190.1   \n2194     ribbon-helix-helix protein, CopG family       WP_250126268.1   \n2280                      IS5 family transposase       WP_250124042.1   \n...                                          ...  ...             ...   \n956        methionine gamma-lyase family protein       WP_250123281.1   \n955                         hypothetical protein       WP_250123278.1   \n953            DUF2993 domain-containing protein       WP_250123271.1   \n952                         alpha/beta hydrolase       WP_250123269.1   \n2400                        hypothetical protein       WP_250126523.1   \n\n                                             GO_process  \\\n1201                                                      \n1360                                                      \n937   GO:0006812 - monoatomic cation transport [Evid...   \n2194  GO:0006355 - regulation of DNA-templated trans...   \n2280                                                      \n...                                                 ...   \n956                                                       \n955                                                       \n953                                                       \n952                                                       \n2400                                                      \n\n                                            GO_function  \\\n1201  GO:0009055 - electron transfer activity [Evide...   \n1360                                                      \n937                                                       \n2194                                                      \n2280   GO:0004803 - transposase activity [Evidence IEA]   \n...                                                 ...   \n956                                                       \n955                                                       \n953                                                       \n952                                                       \n2400                                                      \n\n                              GO_component  \\\n1201                                         \n1360                                         \n937   GO:0016020 - membrane [Evidence IEA]   \n2194                                         \n2280                                         \n...                                    ...   \n956                                          \n955                                          \n953                                          \n952                                          \n2400                                         \n\n                                               pathways  \\\n1201                                                NaN   \n1360                                                NaN   \n937                                                 NaN   \n2194                                                NaN   \n2280                                                NaN   \n...                                                 ...   \n956   Metabolic pathways, Biosynthesis of secondary ...   \n955                                                 NaN   \n953                                                 NaN   \n952                                                 NaN   \n2400                                                NaN   \n\n                                Kegg Brite  n_motivi  \n1201                                   NaN         7  \n1360                                   NaN         6  \n937                                    NaN         6  \n2194                                   NaN         5  \n2280                                   NaN         5  \n...                                    ...       ...  \n956   ko01000 - Enzymes, ko04147 - Exosome         1  \n955                                    NaN         1  \n953                                    NaN         1  \n952                                    NaN         1  \n2400                                   NaN         1  \n\n[2278 rows x 11 columns]",
      "text/html": "<div>\n<style scoped>\n    .dataframe tbody tr th:only-of-type {\n        vertical-align: middle;\n    }\n\n    .dataframe tbody tr th {\n        vertical-align: top;\n    }\n\n    .dataframe thead th {\n        text-align: right;\n    }\n</style>\n<table border=\"1\" class=\"dataframe\">\n  <thead>\n    <tr style=\"text-align: right;\">\n      <th></th>\n      <th>locus</th>\n      <th>motivi</th>\n      <th>product</th>\n      <th>gene</th>\n      <th>protein_id</th>\n      <th>GO_process</th>\n      <th>GO_function</th>\n      <th>GO_component</th>\n      <th>pathways</th>\n      <th>Kegg Brite</th>\n      <th>n_motivi</th>\n    </tr>\n  </thead>\n  <tbody>\n    <tr>\n      <th>1201</th>\n      <td>LAU37_RS04245</td>\n      <td>[tAGTGGTTACTc, aaAGTGTTCTTACTAAACTtt, tAGTTCCT...</td>\n      <td>2Fe-2S iron-sulfur cluster-binding protein</td>\n      <td></td>\n      <td>WP_250124385.1</td>\n      <td></td>\n      <td>GO:0009055 - electron transfer activity [Evide...</td>\n      <td></td>\n      <td>NaN</td>\n      <td>NaN</td>\n      <td>7</td>\n    </tr>\n    <tr>\n      <th>1360</th>\n      <td>LAU37_RS07840</td>\n      <td>[cttttAGTAATTAGCCTCACTaaaag, tAGTCTCCATACTt, t...</td>\n      <td>glycosyltransferase</td>\n      <td></td>\n      <td>WP_250125026.1</td>\n      <td></td>\n      <td></td>\n      <td></td>\n      <td>NaN</td>\n      <td>NaN</td>\n      <td>6</td>\n    </tr>\n    <tr>\n      <th>937</th>\n      <td>LAU37_RS25215</td>\n      <td>[ggAGTAGCCAAACTcc, ttAGTTTGTACTaa, aAGTAGTTAGC...</td>\n      <td>cation:proton antiporter</td>\n      <td></td>\n      <td>WP_250123190.1</td>\n      <td>GO:0006812 - monoatomic cation transport [Evid...</td>\n      <td></td>\n      <td>GO:0016020 - membrane [Evidence IEA]</td>\n      <td>NaN</td>\n      <td>NaN</td>\n      <td>6</td>\n    </tr>\n    <tr>\n      <th>2194</th>\n      <td>LAU37_RS29710</td>\n      <td>[aAGTTGACAACTa, gAGTGGGTCAAAATAACTt, taaaAGTAG...</td>\n      <td>ribbon-helix-helix protein, CopG family</td>\n      <td></td>\n      <td>WP_250126268.1</td>\n      <td>GO:0006355 - regulation of DNA-templated trans...</td>\n      <td></td>\n      <td></td>\n      <td>NaN</td>\n      <td>NaN</td>\n      <td>5</td>\n    </tr>\n    <tr>\n      <th>2280</th>\n      <td>LAU37_RS28395</td>\n      <td>[aAGTGCAGGTAGCACTc, tAGTGTTCACTc, aaAGTTTATTAG...</td>\n      <td>IS5 family transposase</td>\n      <td></td>\n      <td>WP_250124042.1</td>\n      <td></td>\n      <td>GO:0004803 - transposase activity [Evidence IEA]</td>\n      <td></td>\n      <td>NaN</td>\n      <td>NaN</td>\n      <td>5</td>\n    </tr>\n    <tr>\n      <th>...</th>\n      <td>...</td>\n      <td>...</td>\n      <td>...</td>\n      <td>...</td>\n      <td>...</td>\n      <td>...</td>\n      <td>...</td>\n      <td>...</td>\n      <td>...</td>\n      <td>...</td>\n      <td>...</td>\n    </tr>\n    <tr>\n      <th>956</th>\n      <td>LAU37_RS25730</td>\n      <td>[gAGTTTGAAAACTg]</td>\n      <td>methionine gamma-lyase family protein</td>\n      <td></td>\n      <td>WP_250123281.1</td>\n      <td></td>\n      <td></td>\n      <td></td>\n      <td>Metabolic pathways, Biosynthesis of secondary ...</td>\n      <td>ko01000 - Enzymes, ko04147 - Exosome</td>\n      <td>1</td>\n    </tr>\n    <tr>\n      <th>955</th>\n      <td>LAU37_RS25715</td>\n      <td>[gAGTCAAGCACTa]</td>\n      <td>hypothetical protein</td>\n      <td></td>\n      <td>WP_250123278.1</td>\n      <td></td>\n      <td></td>\n      <td></td>\n      <td>NaN</td>\n      <td>NaN</td>\n      <td>1</td>\n    </tr>\n    <tr>\n      <th>953</th>\n      <td>LAU37_RS25670</td>\n      <td>[aaAGTATGAATAACTtt]</td>\n      <td>DUF2993 domain-containing protein</td>\n      <td></td>\n      <td>WP_250123271.1</td>\n      <td></td>\n      <td></td>\n      <td></td>\n      <td>NaN</td>\n      <td>NaN</td>\n      <td>1</td>\n    </tr>\n    <tr>\n      <th>952</th>\n      <td>LAU37_RS25660</td>\n      <td>[aaaAGTTTTGAGACTttt]</td>\n      <td>alpha/beta hydrolase</td>\n      <td></td>\n      <td>WP_250123269.1</td>\n      <td></td>\n      <td></td>\n      <td></td>\n      <td>NaN</td>\n      <td>NaN</td>\n      <td>1</td>\n    </tr>\n    <tr>\n      <th>2400</th>\n      <td>LAU37_RS31410</td>\n      <td>[gAGTTCCATGAACTg]</td>\n      <td>hypothetical protein</td>\n      <td></td>\n      <td>WP_250126523.1</td>\n      <td></td>\n      <td></td>\n      <td></td>\n      <td>NaN</td>\n      <td>NaN</td>\n      <td>1</td>\n    </tr>\n  </tbody>\n</table>\n<p>2278 rows × 11 columns</p>\n</div>"
     },
     "execution_count": 79,
     "metadata": {},
     "output_type": "execute_result"
    }
   ],
   "source": [
    "df"
   ],
   "metadata": {
    "collapsed": false,
    "ExecuteTime": {
     "end_time": "2024-04-19T08:49:00.009580Z",
     "start_time": "2024-04-19T08:49:00.000104Z"
    }
   },
   "id": "74aa0c60cde9515b",
   "execution_count": 79
  },
  {
   "cell_type": "code",
   "outputs": [
    {
     "data": {
      "text/plain": "    old_locus_tag gene_omologo  \\\n0         all0875         glgB   \n1         all2563         talB   \n2         all4713         galE   \n3         all4121         petH   \n4         alr4641         prxA   \n..            ...          ...   \n181       all4148    petF, fd1   \n182       all1430         fdxH   \n183       all2919          fd2   \n184       alr0784          fd3   \n185       alr4065         ftrC   \n\n                                      motivo_omologo  \\\n0                                        AGTataaaACT   \n1                                     AGTcttaacaaACT   \n2                                     AGTagttgtcaACT   \n3                                   AGTTagaaggtgAACa   \n4                               ACAGaTcgtaatcaAACTGT   \n..                                               ...   \n181  AGTatcagaattgaACT\\nAGTtatatACT\\nAGTataaaaaaaACT   \n182                                      AGTgtccaACT   \n183                 AGTttgggtgaaaACT\\nAGTttcacccaACT   \n184                        AGTagttgACT\\nAGTtacttcACT   \n185                                    No AnLexA box   \n\n                  Organismo/evidenze            Pubblicazione  \n0    Anabaena PCC 7120: sperimentale       Kumar et al., 2018  \n1    Anabaena PCC 7120: sperimentale       Kumar et al., 2018  \n2    Anabaena PCC 7120: sperimentale       Kumar et al., 2018  \n3    Anabaena PCC 7120: sperimentale       Kumar et al., 2018  \n4    Anabaena PCC 7120: sperimentale       Kumar et al., 2018  \n..                               ...                      ...  \n181         Anabaena PCC 7120: mista  Srivastava et al., 2022  \n182         Anabaena PCC 7120: mista  Srivastava et al., 2022  \n183         Anabaena PCC 7120: mista  Srivastava et al., 2022  \n184         Anabaena PCC 7120: mista  Srivastava et al., 2022  \n185         Anabaena PCC 7120: mista  Srivastava et al., 2022  \n\n[210 rows x 5 columns]",
      "text/html": "<div>\n<style scoped>\n    .dataframe tbody tr th:only-of-type {\n        vertical-align: middle;\n    }\n\n    .dataframe tbody tr th {\n        vertical-align: top;\n    }\n\n    .dataframe thead th {\n        text-align: right;\n    }\n</style>\n<table border=\"1\" class=\"dataframe\">\n  <thead>\n    <tr style=\"text-align: right;\">\n      <th></th>\n      <th>old_locus_tag</th>\n      <th>gene_omologo</th>\n      <th>motivo_omologo</th>\n      <th>Organismo/evidenze</th>\n      <th>Pubblicazione</th>\n    </tr>\n  </thead>\n  <tbody>\n    <tr>\n      <th>0</th>\n      <td>all0875</td>\n      <td>glgB</td>\n      <td>AGTataaaACT</td>\n      <td>Anabaena PCC 7120: sperimentale</td>\n      <td>Kumar et al., 2018</td>\n    </tr>\n    <tr>\n      <th>1</th>\n      <td>all2563</td>\n      <td>talB</td>\n      <td>AGTcttaacaaACT</td>\n      <td>Anabaena PCC 7120: sperimentale</td>\n      <td>Kumar et al., 2018</td>\n    </tr>\n    <tr>\n      <th>2</th>\n      <td>all4713</td>\n      <td>galE</td>\n      <td>AGTagttgtcaACT</td>\n      <td>Anabaena PCC 7120: sperimentale</td>\n      <td>Kumar et al., 2018</td>\n    </tr>\n    <tr>\n      <th>3</th>\n      <td>all4121</td>\n      <td>petH</td>\n      <td>AGTTagaaggtgAACa</td>\n      <td>Anabaena PCC 7120: sperimentale</td>\n      <td>Kumar et al., 2018</td>\n    </tr>\n    <tr>\n      <th>4</th>\n      <td>alr4641</td>\n      <td>prxA</td>\n      <td>ACAGaTcgtaatcaAACTGT</td>\n      <td>Anabaena PCC 7120: sperimentale</td>\n      <td>Kumar et al., 2018</td>\n    </tr>\n    <tr>\n      <th>...</th>\n      <td>...</td>\n      <td>...</td>\n      <td>...</td>\n      <td>...</td>\n      <td>...</td>\n    </tr>\n    <tr>\n      <th>181</th>\n      <td>all4148</td>\n      <td>petF, fd1</td>\n      <td>AGTatcagaattgaACT\\nAGTtatatACT\\nAGTataaaaaaaACT</td>\n      <td>Anabaena PCC 7120: mista</td>\n      <td>Srivastava et al., 2022</td>\n    </tr>\n    <tr>\n      <th>182</th>\n      <td>all1430</td>\n      <td>fdxH</td>\n      <td>AGTgtccaACT</td>\n      <td>Anabaena PCC 7120: mista</td>\n      <td>Srivastava et al., 2022</td>\n    </tr>\n    <tr>\n      <th>183</th>\n      <td>all2919</td>\n      <td>fd2</td>\n      <td>AGTttgggtgaaaACT\\nAGTttcacccaACT</td>\n      <td>Anabaena PCC 7120: mista</td>\n      <td>Srivastava et al., 2022</td>\n    </tr>\n    <tr>\n      <th>184</th>\n      <td>alr0784</td>\n      <td>fd3</td>\n      <td>AGTagttgACT\\nAGTtacttcACT</td>\n      <td>Anabaena PCC 7120: mista</td>\n      <td>Srivastava et al., 2022</td>\n    </tr>\n    <tr>\n      <th>185</th>\n      <td>alr4065</td>\n      <td>ftrC</td>\n      <td>No AnLexA box</td>\n      <td>Anabaena PCC 7120: mista</td>\n      <td>Srivastava et al., 2022</td>\n    </tr>\n  </tbody>\n</table>\n<p>210 rows × 5 columns</p>\n</div>"
     },
     "execution_count": 99,
     "metadata": {},
     "output_type": "execute_result"
    }
   ],
   "source": [
    "import pandas as pd\n",
    "file=\"/home/davide/Downloads/geniregolatiLexAincianobatteri.xlsx\"\n",
    "df_evi=pd.read_excel(file)\n",
    "df_evi[\"old_locus_tag\"]=df_evi[\"old_locus_tag\"].str.split(\"-\")\n",
    "df_evi=df_evi.explode(\"old_locus_tag\")\n",
    "df_evi[\"old_locus_tag\"]=df_evi[\"old_locus_tag\"].str.split()\n",
    "df_evi=df_evi.explode(\"old_locus_tag\")\n",
    "df_evi"
   ],
   "metadata": {
    "collapsed": false,
    "ExecuteTime": {
     "end_time": "2024-04-19T08:55:46.024089Z",
     "start_time": "2024-04-19T08:55:45.990781Z"
    }
   },
   "id": "dd7d95da13eab982",
   "execution_count": 99
  },
  {
   "cell_type": "code",
   "outputs": [
    {
     "data": {
      "text/plain": "         protein_id old_locus_tag                       info_blastp  \\\n0    WP_250122389.1       alr1742   id:87.874%, len:635, evalue:0.0   \n1    WP_250122400.1       alr3343   id:80.769%, len:416, evalue:0.0   \n2    WP_250122454.1       alr3199   id:72.886%, len:343, evalue:0.0   \n3    WP_250122461.1       alr3716  id:79.441%, len:1002, evalue:0.0   \n4    WP_250122313.1       alr4853   id:79.897%, len:388, evalue:0.0   \n..              ...           ...                               ...   \n173  WP_250122117.1       all3850  id:40.909%, len:22, evalue:0.062   \n174  WP_250123945.1       all0688  id:32.895%, len:76, evalue:0.067   \n175  WP_250126523.1       all4688   id:41.935%, len:31, evalue:0.52   \n176  WP_250126276.1       all2110   id:41.667%, len:24, evalue:0.85   \n177  WP_250126192.1       alr1596    id:35.714%, len:28, evalue:1.3   \n\n    gene_omologo     motivo_omologo  \\\n0           dnaK       AGTAttaaTtCT   \n1           fabF       AAGTcaagAtTT   \n2          DNase   AGTtaagaatccgACT   \n3           uvrA   AGTattattaaaaACT   \n4            NaN    tGTGgcgggaaCACT   \n..           ...                ...   \n173         psaI    AGTctgggcatcACT   \n174         hupS    AGTggcaaaacaACT   \n175          NaN       AGTAccgtTtCT   \n176          NaN      AGTTCtctGAACa   \n177        rpoC2  AGTatatatacaccACT   \n\n                                    Organismo/evidenze  \\\n0                      Anabaena PCC 7120: sperimentale   \n1                    Anabaena PCC 7120: Bioinformatica   \n2                    Anabaena PCC 7120: Bioinformatica   \n3                    Anabaena PCC 7120: Bioinformatica   \n4    Anabaena PCC 7120: sovraespressione+RT-qPCR +EMSA   \n..                                                 ...   \n173                           Anabaena PCC 7120: mista   \n174                  Anabaena PCC 7120: Bioinformatica   \n175  Anabaena PCC 7120: sovraespressione+RT-qPCR +EMSA   \n176  Anabaena PCC 7120: sovraespressione+RT-qPCR +EMSA   \n177                    Anabaena PCC 7120: sperimentale   \n\n               Pubblicazione  \n0         Kumar et al., 2018  \n1         Kumar et al., 2018  \n2         Kumar et al., 2018  \n3         Kumar et al., 2018  \n4          Kumar et al, 2023  \n..                       ...  \n173  Srivastava et al., 2022  \n174       Kumar et al., 2018  \n175        Kumar et al, 2023  \n176        Kumar et al, 2023  \n177  Srivastava et al., 2023  \n\n[178 rows x 7 columns]",
      "text/html": "<div>\n<style scoped>\n    .dataframe tbody tr th:only-of-type {\n        vertical-align: middle;\n    }\n\n    .dataframe tbody tr th {\n        vertical-align: top;\n    }\n\n    .dataframe thead th {\n        text-align: right;\n    }\n</style>\n<table border=\"1\" class=\"dataframe\">\n  <thead>\n    <tr style=\"text-align: right;\">\n      <th></th>\n      <th>protein_id</th>\n      <th>old_locus_tag</th>\n      <th>info_blastp</th>\n      <th>gene_omologo</th>\n      <th>motivo_omologo</th>\n      <th>Organismo/evidenze</th>\n      <th>Pubblicazione</th>\n    </tr>\n  </thead>\n  <tbody>\n    <tr>\n      <th>0</th>\n      <td>WP_250122389.1</td>\n      <td>alr1742</td>\n      <td>id:87.874%, len:635, evalue:0.0</td>\n      <td>dnaK</td>\n      <td>AGTAttaaTtCT</td>\n      <td>Anabaena PCC 7120: sperimentale</td>\n      <td>Kumar et al., 2018</td>\n    </tr>\n    <tr>\n      <th>1</th>\n      <td>WP_250122400.1</td>\n      <td>alr3343</td>\n      <td>id:80.769%, len:416, evalue:0.0</td>\n      <td>fabF</td>\n      <td>AAGTcaagAtTT</td>\n      <td>Anabaena PCC 7120: Bioinformatica</td>\n      <td>Kumar et al., 2018</td>\n    </tr>\n    <tr>\n      <th>2</th>\n      <td>WP_250122454.1</td>\n      <td>alr3199</td>\n      <td>id:72.886%, len:343, evalue:0.0</td>\n      <td>DNase</td>\n      <td>AGTtaagaatccgACT</td>\n      <td>Anabaena PCC 7120: Bioinformatica</td>\n      <td>Kumar et al., 2018</td>\n    </tr>\n    <tr>\n      <th>3</th>\n      <td>WP_250122461.1</td>\n      <td>alr3716</td>\n      <td>id:79.441%, len:1002, evalue:0.0</td>\n      <td>uvrA</td>\n      <td>AGTattattaaaaACT</td>\n      <td>Anabaena PCC 7120: Bioinformatica</td>\n      <td>Kumar et al., 2018</td>\n    </tr>\n    <tr>\n      <th>4</th>\n      <td>WP_250122313.1</td>\n      <td>alr4853</td>\n      <td>id:79.897%, len:388, evalue:0.0</td>\n      <td>NaN</td>\n      <td>tGTGgcgggaaCACT</td>\n      <td>Anabaena PCC 7120: sovraespressione+RT-qPCR +EMSA</td>\n      <td>Kumar et al, 2023</td>\n    </tr>\n    <tr>\n      <th>...</th>\n      <td>...</td>\n      <td>...</td>\n      <td>...</td>\n      <td>...</td>\n      <td>...</td>\n      <td>...</td>\n      <td>...</td>\n    </tr>\n    <tr>\n      <th>173</th>\n      <td>WP_250122117.1</td>\n      <td>all3850</td>\n      <td>id:40.909%, len:22, evalue:0.062</td>\n      <td>psaI</td>\n      <td>AGTctgggcatcACT</td>\n      <td>Anabaena PCC 7120: mista</td>\n      <td>Srivastava et al., 2022</td>\n    </tr>\n    <tr>\n      <th>174</th>\n      <td>WP_250123945.1</td>\n      <td>all0688</td>\n      <td>id:32.895%, len:76, evalue:0.067</td>\n      <td>hupS</td>\n      <td>AGTggcaaaacaACT</td>\n      <td>Anabaena PCC 7120: Bioinformatica</td>\n      <td>Kumar et al., 2018</td>\n    </tr>\n    <tr>\n      <th>175</th>\n      <td>WP_250126523.1</td>\n      <td>all4688</td>\n      <td>id:41.935%, len:31, evalue:0.52</td>\n      <td>NaN</td>\n      <td>AGTAccgtTtCT</td>\n      <td>Anabaena PCC 7120: sovraespressione+RT-qPCR +EMSA</td>\n      <td>Kumar et al, 2023</td>\n    </tr>\n    <tr>\n      <th>176</th>\n      <td>WP_250126276.1</td>\n      <td>all2110</td>\n      <td>id:41.667%, len:24, evalue:0.85</td>\n      <td>NaN</td>\n      <td>AGTTCtctGAACa</td>\n      <td>Anabaena PCC 7120: sovraespressione+RT-qPCR +EMSA</td>\n      <td>Kumar et al, 2023</td>\n    </tr>\n    <tr>\n      <th>177</th>\n      <td>WP_250126192.1</td>\n      <td>alr1596</td>\n      <td>id:35.714%, len:28, evalue:1.3</td>\n      <td>rpoC2</td>\n      <td>AGTatatatacaccACT</td>\n      <td>Anabaena PCC 7120: sperimentale</td>\n      <td>Srivastava et al., 2023</td>\n    </tr>\n  </tbody>\n</table>\n<p>178 rows × 7 columns</p>\n</div>"
     },
     "execution_count": 100,
     "metadata": {},
     "output_type": "execute_result"
    }
   ],
   "source": [
    "file=\"/home/davide/Desktop/genomiChro/blastvsPCC7120/Chroococcidiopsis_sp._CCMEE_29_GCF_023558375.1VsNostocPCC7120.txt\"\n",
    "df=pd.read_csv(file,sep=\"\\t\",header=None)\n",
    "#set the columns name\n",
    "df.columns=[\"protein_id\",\"subject\",\"identity\",\"length\",\"mismatch\",\"gapopen\",\"qstart\",\"qend\",\"sstart\",\"send\",\"evalue\",\"bitscore\"]\n",
    "#drop the columns that are not useful\n",
    "df.drop([\"mismatch\",\"gapopen\",\"qstart\",\"qend\",\"sstart\",\"send\",\"bitscore\"],axis=1,inplace=True)\n",
    "#create a new column with the old_locus_tag\n",
    "df.loc[:,\"old_locus_tag\"]=df.loc[:,\"subject\"].str.extract(r\"\\((.*?)\\)\",expand=False)\n",
    "#keep only the first hit for each query\n",
    "#df.drop_duplicates(subset=\"query\",keep=\"first\",inplace=True)\n",
    "#order the dataframe by evalue\n",
    "df.sort_values(by=\"evalue\",inplace=True)\n",
    "#drop duplicates of old_locus_tag keeping the first with the lowest evalue\n",
    "df.drop_duplicates(subset=\"old_locus_tag\",keep=\"first\",inplace=True)\n",
    "#create a new column with the information of the blastp\n",
    "df[\"info_blastp\"]='id:'+df[\"identity\"].astype(str)+\"%, len:\"+df[\"length\"].astype(str)+\", evalue:\"+df[\"evalue\"].astype(str)\n",
    "#drop the columns that are not useful\n",
    "df.drop(columns=[\"subject\",\"identity\",\"length\",\"evalue\"],inplace=True)\n",
    "#save the dataframe in a new file\n",
    "#join with df_evi\n",
    "df=pd.merge(df,df_evi,how=\"inner\",on=\"old_locus_tag\")\n",
    "df"
   ],
   "metadata": {
    "collapsed": false,
    "ExecuteTime": {
     "end_time": "2024-04-19T08:55:47.823998Z",
     "start_time": "2024-04-19T08:55:47.610123Z"
    }
   },
   "id": "20a51cc54ae652e3",
   "execution_count": 100
  },
  {
   "cell_type": "markdown",
   "source": [],
   "metadata": {
    "collapsed": false
   },
   "id": "f204cddf536a6d27"
  },
  {
   "cell_type": "code",
   "outputs": [
    {
     "data": {
      "text/plain": "              locus                                             motivi  \\\n0     LAU37_RS04245  [tAGTGGTTACTc, aaAGTGTTCTTACTAAACTtt, tAGTTCCT...   \n1     LAU37_RS07840  [cttttAGTAATTAGCCTCACTaaaag, tAGTCTCCATACTt, t...   \n2     LAU37_RS25215  [ggAGTAGCCAAACTcc, ttAGTTTGTACTaa, aAGTAGTTAGC...   \n3     LAU37_RS29710  [aAGTTGACAACTa, gAGTGGGTCAAAATAACTt, taaaAGTAG...   \n4     LAU37_RS28395  [aAGTGCAGGTAGCACTc, tAGTGTTCACTc, aaAGTTTATTAG...   \n...             ...                                                ...   \n2279  LAU37_RS25730                                   [gAGTTTGAAAACTg]   \n2280  LAU37_RS25715                                    [gAGTCAAGCACTa]   \n2281  LAU37_RS25670                                [aaAGTATGAATAACTtt]   \n2282  LAU37_RS25660                               [aaaAGTTTTGAGACTttt]   \n2283  LAU37_RS31410                                  [gAGTTCCATGAACTg]   \n\n                                         product gene      protein_id  \\\n0     2Fe-2S iron-sulfur cluster-binding protein       WP_250124385.1   \n1                            glycosyltransferase       WP_250125026.1   \n2                       cation:proton antiporter       WP_250123190.1   \n3        ribbon-helix-helix protein, CopG family       WP_250126268.1   \n4                         IS5 family transposase       WP_250124042.1   \n...                                          ...  ...             ...   \n2279       methionine gamma-lyase family protein       WP_250123281.1   \n2280                        hypothetical protein       WP_250123278.1   \n2281           DUF2993 domain-containing protein       WP_250123271.1   \n2282                        alpha/beta hydrolase       WP_250123269.1   \n2283                        hypothetical protein       WP_250126523.1   \n\n                                             GO_process  \\\n0                                                         \n1                                                         \n2     GO:0006812 - monoatomic cation transport [Evid...   \n3     GO:0006355 - regulation of DNA-templated trans...   \n4                                                         \n...                                                 ...   \n2279                                                      \n2280                                                      \n2281                                                      \n2282                                                      \n2283                                                      \n\n                                            GO_function  \\\n0     GO:0009055 - electron transfer activity [Evide...   \n1                                                         \n2                                                         \n3                                                         \n4      GO:0004803 - transposase activity [Evidence IEA]   \n...                                                 ...   \n2279                                                      \n2280                                                      \n2281                                                      \n2282                                                      \n2283                                                      \n\n                              GO_component  \\\n0                                            \n1                                            \n2     GO:0016020 - membrane [Evidence IEA]   \n3                                            \n4                                            \n...                                    ...   \n2279                                         \n2280                                         \n2281                                         \n2282                                         \n2283                                         \n\n                                               pathways  \\\n0                                                   NaN   \n1                                                   NaN   \n2                                                   NaN   \n3                                                   NaN   \n4                                                   NaN   \n...                                                 ...   \n2279  Metabolic pathways, Biosynthesis of secondary ...   \n2280                                                NaN   \n2281                                                NaN   \n2282                                                NaN   \n2283                                                NaN   \n\n                                Kegg Brite  n_motivi old_locus_tag  \\\n0                                      NaN         7       asl0884   \n1                                      NaN         6           NaN   \n2                                      NaN         6           NaN   \n3                                      NaN         5           NaN   \n4                                      NaN         5           NaN   \n...                                    ...       ...           ...   \n2279  ko01000 - Enzymes, ko04147 - Exosome         1           NaN   \n2280                                   NaN         1           NaN   \n2281                                   NaN         1           NaN   \n2282                                   NaN         1           NaN   \n2283                                   NaN         1       all4688   \n\n                                            info_blastp gene_omologo  \\\n0     id:77.551%, len:98, evalue:5.7899999999999994e-55         psbM   \n1                                                   NaN          NaN   \n2                                                   NaN          NaN   \n3                                                   NaN          NaN   \n4                                                   NaN          NaN   \n...                                                 ...          ...   \n2279                                                NaN          NaN   \n2280                                                NaN          NaN   \n2281                                                NaN          NaN   \n2282                                                NaN          NaN   \n2283                    id:41.935%, len:31, evalue:0.52          NaN   \n\n     motivo_omologo                                 Organismo/evidenze  \\\n0        tGTAatTACT                           Anabaena PCC 7120: mista   \n1               NaN                                                NaN   \n2               NaN                                                NaN   \n3               NaN                                                NaN   \n4               NaN                                                NaN   \n...             ...                                                ...   \n2279            NaN                                                NaN   \n2280            NaN                                                NaN   \n2281            NaN                                                NaN   \n2282            NaN                                                NaN   \n2283   AGTAccgtTtCT  Anabaena PCC 7120: sovraespressione+RT-qPCR +EMSA   \n\n                Pubblicazione  \n0     Srivastava et al., 2022  \n1                         NaN  \n2                         NaN  \n3                         NaN  \n4                         NaN  \n...                       ...  \n2279                      NaN  \n2280                      NaN  \n2281                      NaN  \n2282                      NaN  \n2283        Kumar et al, 2023  \n\n[2284 rows x 17 columns]",
      "text/html": "<div>\n<style scoped>\n    .dataframe tbody tr th:only-of-type {\n        vertical-align: middle;\n    }\n\n    .dataframe tbody tr th {\n        vertical-align: top;\n    }\n\n    .dataframe thead th {\n        text-align: right;\n    }\n</style>\n<table border=\"1\" class=\"dataframe\">\n  <thead>\n    <tr style=\"text-align: right;\">\n      <th></th>\n      <th>locus</th>\n      <th>motivi</th>\n      <th>product</th>\n      <th>gene</th>\n      <th>protein_id</th>\n      <th>GO_process</th>\n      <th>GO_function</th>\n      <th>GO_component</th>\n      <th>pathways</th>\n      <th>Kegg Brite</th>\n      <th>n_motivi</th>\n      <th>old_locus_tag</th>\n      <th>info_blastp</th>\n      <th>gene_omologo</th>\n      <th>motivo_omologo</th>\n      <th>Organismo/evidenze</th>\n      <th>Pubblicazione</th>\n    </tr>\n  </thead>\n  <tbody>\n    <tr>\n      <th>0</th>\n      <td>LAU37_RS04245</td>\n      <td>[tAGTGGTTACTc, aaAGTGTTCTTACTAAACTtt, tAGTTCCT...</td>\n      <td>2Fe-2S iron-sulfur cluster-binding protein</td>\n      <td></td>\n      <td>WP_250124385.1</td>\n      <td></td>\n      <td>GO:0009055 - electron transfer activity [Evide...</td>\n      <td></td>\n      <td>NaN</td>\n      <td>NaN</td>\n      <td>7</td>\n      <td>asl0884</td>\n      <td>id:77.551%, len:98, evalue:5.7899999999999994e-55</td>\n      <td>psbM</td>\n      <td>tGTAatTACT</td>\n      <td>Anabaena PCC 7120: mista</td>\n      <td>Srivastava et al., 2022</td>\n    </tr>\n    <tr>\n      <th>1</th>\n      <td>LAU37_RS07840</td>\n      <td>[cttttAGTAATTAGCCTCACTaaaag, tAGTCTCCATACTt, t...</td>\n      <td>glycosyltransferase</td>\n      <td></td>\n      <td>WP_250125026.1</td>\n      <td></td>\n      <td></td>\n      <td></td>\n      <td>NaN</td>\n      <td>NaN</td>\n      <td>6</td>\n      <td>NaN</td>\n      <td>NaN</td>\n      <td>NaN</td>\n      <td>NaN</td>\n      <td>NaN</td>\n      <td>NaN</td>\n    </tr>\n    <tr>\n      <th>2</th>\n      <td>LAU37_RS25215</td>\n      <td>[ggAGTAGCCAAACTcc, ttAGTTTGTACTaa, aAGTAGTTAGC...</td>\n      <td>cation:proton antiporter</td>\n      <td></td>\n      <td>WP_250123190.1</td>\n      <td>GO:0006812 - monoatomic cation transport [Evid...</td>\n      <td></td>\n      <td>GO:0016020 - membrane [Evidence IEA]</td>\n      <td>NaN</td>\n      <td>NaN</td>\n      <td>6</td>\n      <td>NaN</td>\n      <td>NaN</td>\n      <td>NaN</td>\n      <td>NaN</td>\n      <td>NaN</td>\n      <td>NaN</td>\n    </tr>\n    <tr>\n      <th>3</th>\n      <td>LAU37_RS29710</td>\n      <td>[aAGTTGACAACTa, gAGTGGGTCAAAATAACTt, taaaAGTAG...</td>\n      <td>ribbon-helix-helix protein, CopG family</td>\n      <td></td>\n      <td>WP_250126268.1</td>\n      <td>GO:0006355 - regulation of DNA-templated trans...</td>\n      <td></td>\n      <td></td>\n      <td>NaN</td>\n      <td>NaN</td>\n      <td>5</td>\n      <td>NaN</td>\n      <td>NaN</td>\n      <td>NaN</td>\n      <td>NaN</td>\n      <td>NaN</td>\n      <td>NaN</td>\n    </tr>\n    <tr>\n      <th>4</th>\n      <td>LAU37_RS28395</td>\n      <td>[aAGTGCAGGTAGCACTc, tAGTGTTCACTc, aaAGTTTATTAG...</td>\n      <td>IS5 family transposase</td>\n      <td></td>\n      <td>WP_250124042.1</td>\n      <td></td>\n      <td>GO:0004803 - transposase activity [Evidence IEA]</td>\n      <td></td>\n      <td>NaN</td>\n      <td>NaN</td>\n      <td>5</td>\n      <td>NaN</td>\n      <td>NaN</td>\n      <td>NaN</td>\n      <td>NaN</td>\n      <td>NaN</td>\n      <td>NaN</td>\n    </tr>\n    <tr>\n      <th>...</th>\n      <td>...</td>\n      <td>...</td>\n      <td>...</td>\n      <td>...</td>\n      <td>...</td>\n      <td>...</td>\n      <td>...</td>\n      <td>...</td>\n      <td>...</td>\n      <td>...</td>\n      <td>...</td>\n      <td>...</td>\n      <td>...</td>\n      <td>...</td>\n      <td>...</td>\n      <td>...</td>\n      <td>...</td>\n    </tr>\n    <tr>\n      <th>2279</th>\n      <td>LAU37_RS25730</td>\n      <td>[gAGTTTGAAAACTg]</td>\n      <td>methionine gamma-lyase family protein</td>\n      <td></td>\n      <td>WP_250123281.1</td>\n      <td></td>\n      <td></td>\n      <td></td>\n      <td>Metabolic pathways, Biosynthesis of secondary ...</td>\n      <td>ko01000 - Enzymes, ko04147 - Exosome</td>\n      <td>1</td>\n      <td>NaN</td>\n      <td>NaN</td>\n      <td>NaN</td>\n      <td>NaN</td>\n      <td>NaN</td>\n      <td>NaN</td>\n    </tr>\n    <tr>\n      <th>2280</th>\n      <td>LAU37_RS25715</td>\n      <td>[gAGTCAAGCACTa]</td>\n      <td>hypothetical protein</td>\n      <td></td>\n      <td>WP_250123278.1</td>\n      <td></td>\n      <td></td>\n      <td></td>\n      <td>NaN</td>\n      <td>NaN</td>\n      <td>1</td>\n      <td>NaN</td>\n      <td>NaN</td>\n      <td>NaN</td>\n      <td>NaN</td>\n      <td>NaN</td>\n      <td>NaN</td>\n    </tr>\n    <tr>\n      <th>2281</th>\n      <td>LAU37_RS25670</td>\n      <td>[aaAGTATGAATAACTtt]</td>\n      <td>DUF2993 domain-containing protein</td>\n      <td></td>\n      <td>WP_250123271.1</td>\n      <td></td>\n      <td></td>\n      <td></td>\n      <td>NaN</td>\n      <td>NaN</td>\n      <td>1</td>\n      <td>NaN</td>\n      <td>NaN</td>\n      <td>NaN</td>\n      <td>NaN</td>\n      <td>NaN</td>\n      <td>NaN</td>\n    </tr>\n    <tr>\n      <th>2282</th>\n      <td>LAU37_RS25660</td>\n      <td>[aaaAGTTTTGAGACTttt]</td>\n      <td>alpha/beta hydrolase</td>\n      <td></td>\n      <td>WP_250123269.1</td>\n      <td></td>\n      <td></td>\n      <td></td>\n      <td>NaN</td>\n      <td>NaN</td>\n      <td>1</td>\n      <td>NaN</td>\n      <td>NaN</td>\n      <td>NaN</td>\n      <td>NaN</td>\n      <td>NaN</td>\n      <td>NaN</td>\n    </tr>\n    <tr>\n      <th>2283</th>\n      <td>LAU37_RS31410</td>\n      <td>[gAGTTCCATGAACTg]</td>\n      <td>hypothetical protein</td>\n      <td></td>\n      <td>WP_250126523.1</td>\n      <td></td>\n      <td></td>\n      <td></td>\n      <td>NaN</td>\n      <td>NaN</td>\n      <td>1</td>\n      <td>all4688</td>\n      <td>id:41.935%, len:31, evalue:0.52</td>\n      <td>NaN</td>\n      <td>AGTAccgtTtCT</td>\n      <td>Anabaena PCC 7120: sovraespressione+RT-qPCR +EMSA</td>\n      <td>Kumar et al, 2023</td>\n    </tr>\n  </tbody>\n</table>\n<p>2284 rows × 17 columns</p>\n</div>"
     },
     "execution_count": 105,
     "metadata": {},
     "output_type": "execute_result"
    }
   ],
   "source": [
    "df2=pd.merge(df_tabella,df,on=\"protein_id\",how=\"left\")\n",
    "df2"
   ],
   "metadata": {
    "collapsed": false,
    "ExecuteTime": {
     "end_time": "2024-04-19T08:56:23.531182Z",
     "start_time": "2024-04-19T08:56:23.517030Z"
    }
   },
   "id": "67b6b06a3fad3183",
   "execution_count": 105
  },
  {
   "cell_type": "code",
   "outputs": [],
   "source": [
    "df2.to_excel(\"/home/davide/Desktop/tabellamotiviCCMEE29conblastp.xlsx\")"
   ],
   "metadata": {
    "collapsed": false,
    "ExecuteTime": {
     "end_time": "2024-04-19T08:56:50.093049Z",
     "start_time": "2024-04-19T08:56:49.801420Z"
    }
   },
   "id": "f5da4b44de44b948",
   "execution_count": 106
  },
  {
   "cell_type": "code",
   "outputs": [],
   "source": [
    "#remove duplicates from df2 of locus\n",
    "df2.drop_duplicates(subset=\"locus\",keep=\"first\",inplace=True)\n",
    "df2.to_excel(\"/home/davide/Desktop/tabellamotiviCCMEE29nodupl.xlsx\")"
   ],
   "metadata": {
    "collapsed": false,
    "ExecuteTime": {
     "end_time": "2024-04-19T09:02:43.189974Z",
     "start_time": "2024-04-19T09:02:42.922172Z"
    }
   },
   "id": "5d3c109255e9870b",
   "execution_count": 107
  },
  {
   "cell_type": "code",
   "outputs": [],
   "source": [
    "#save df_br and df_path to csv\n",
    "df_br.to_csv(\"/home/davide/Desktop/kegg_brite.csv\")\n",
    "df_path.to_csv(\"/home/davide/Desktop/kegg_pathways.csv\")"
   ],
   "metadata": {
    "collapsed": false,
    "ExecuteTime": {
     "end_time": "2024-04-19T10:36:03.088167Z",
     "start_time": "2024-04-19T10:36:03.080063Z"
    }
   },
   "id": "f369d42679d5bdad",
   "execution_count": 108
  },
  {
   "cell_type": "code",
   "outputs": [],
   "source": [],
   "metadata": {
    "collapsed": false
   },
   "id": "1b88a129261455d0"
  }
 ],
 "metadata": {
  "kernelspec": {
   "display_name": "Python 3",
   "language": "python",
   "name": "python3"
  },
  "language_info": {
   "codemirror_mode": {
    "name": "ipython",
    "version": 2
   },
   "file_extension": ".py",
   "mimetype": "text/x-python",
   "name": "python",
   "nbconvert_exporter": "python",
   "pygments_lexer": "ipython2",
   "version": "2.7.6"
  }
 },
 "nbformat": 4,
 "nbformat_minor": 5
}
