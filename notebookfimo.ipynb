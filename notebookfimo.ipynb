{
 "cells": [
  {
   "cell_type": "code",
   "execution_count": 2,
   "id": "initial_id",
   "metadata": {
    "collapsed": true,
    "ExecuteTime": {
     "end_time": "2024-03-08T17:47:02.758268610Z",
     "start_time": "2024-03-08T17:46:50.977047210Z"
    }
   },
   "outputs": [],
   "source": [
    "dir=\"/home/davide/Downloads/fimo\"\n",
    "genbank_dir = \"/home/davide/Desktop/genomiChro/genbanks_prokka\"\n",
    "import os\n",
    "import pandas as pd\n",
    "from Bio import SeqIO\n",
    "import re\n",
    "#open all tsv files in the directory\n",
    "#create new dataframe\n",
    "def get_intergenic_length(fimo_file, locus_tag):\n",
    "    intergen_dir = \"/home/davide/Desktop/genomiChro/intergeniche_tutte\"\n",
    "    #open fasta file with bio python and check the length of the intergenic sequence using len(record.seq)\n",
    "    for fasta in os.listdir(intergen_dir):\n",
    "        if fimo_file[4:-10] in fasta:\n",
    "            for record in SeqIO.parse(os.path.join(intergen_dir,fasta), 'fasta'):\n",
    "                if locus_tag in record.description:\n",
    "                    return len(record.seq)\n",
    "\n",
    "dataframe= pd.DataFrame(columns=['gene'])\n",
    "for file in os.listdir(dir):\n",
    "    #skip hidden files\n",
    "    if file.startswith(\".\"):\n",
    "        continue\n",
    "    data = pd.read_csv(os.path.join(dir, file), delimiter='\\t', index_col=None)\n",
    "    #delete last 4 rows\n",
    "    data = data[:-4]\n",
    "    #reorder columns with seqeunce_name first\n",
    "    data = data[['sequence_name', 'start','matched_sequence']]\n",
    "    data['start'] = data['start'].astype(int)\n",
    "    lunghezze_intergeniche = data['sequence_name'].apply(lambda x: get_intergenic_length(file,x))\n",
    "    data['start'] =  data['start'] - lunghezze_intergeniche\n",
    "    #data['matched_sequence'] = data['matched_sequence'] + \"(\" + data['start'].astype(str) + \")\"\n",
    "    #data = data.drop(columns=['start'])\n",
    "    #print(data.shape)\n",
    "    for file2 in os.listdir(genbank_dir):\n",
    "        if file[4:-10] in file2:\n",
    "            genoma=SeqIO.parse(os.path.join(genbank_dir, file2), 'genbank')\n",
    "            for seq in genoma:\n",
    "                for record in seq.features:\n",
    "                    if record.type=='CDS' and record.qualifiers['locus_tag'][0] in data['sequence_name'].values:\n",
    "                        if record.qualifiers.get('gene',0):\n",
    "                            gene=record.qualifiers['gene'][0]\n",
    "                            locus_tag=record.qualifiers['locus_tag'][0]\n",
    "                            data['sequence_name'] = data['sequence_name'].replace(record.qualifiers['locus_tag'][0], gene)\n",
    "                        else:\n",
    "                            #delete the row that contains the sequence name\n",
    "                            data = data[data.sequence_name != record.qualifiers['locus_tag'][0]]\n",
    "    data['matched_sequence'] = data['matched_sequence'] + \"(\" + data['start'].astype(str) + \")\"\n",
    "    data = data.drop(columns=['start'])\n",
    "    data.rename(columns={'sequence_name':'gene'}, inplace=True)\n",
    "    data.rename(columns={'matched_sequence': file[4:-12]}, inplace=True)\n",
    "    dataframe = pd.merge(dataframe, data, on='gene', how='outer')\n",
    "#reorder rows sort for number of Nan values\n",
    "dataframe = dataframe.reindex(dataframe.isnull().sum(axis=1).sort_values().index)"
   ]
  },
  {
   "cell_type": "code",
   "execution_count": 3,
   "outputs": [
    {
     "data": {
      "text/plain": "<bound method DataFrame.info of        gene           GCF_014696895           GCF_000317125  \\\n130    phrA   TAGTACGAGTGAACTA(-29)   TAGTACGAGTGAACTA(-29)   \n145    recA   TAGTATATCTGCACTA(-66)   TAGTATATCTGCACTA(-66)   \n176   smc_1   CAGTGCATCTGTACTG(-51)   CAGTGCATCTGTACTG(-51)   \n203     xfp   AAGTACAAATACTCAA(-34)   AAGTACAAATACTCAA(-34)   \n189    trpF  TAGTAAAATTGTATTA(-143)  TAGTAAAATTGTATTA(-144)   \n..      ...                     ...                     ...   \n88   htpX_5  GAGTAGATCCGTACTC(-135)                     NaN   \n90     ipsA                     NaN                     NaN   \n91   iscS_1                     NaN                     NaN   \n80   hisC_5                     NaN                     NaN   \n218  zosA_3                     NaN                     NaN   \n\n              GCF_003015105           GCF_032860985           GCF_003991895  \\\n130   TAGTACGAGTGAACTA(-29)   TAGTACGAGTGAACTA(-29)   TAGTACGAGTGAACTA(-29)   \n145   TAGTATATCTGCACTA(-66)   TAGTATATCTGCACTA(-66)   TAGTATATCTGCACTA(-66)   \n176   CAGTGCATCTGTACTG(-51)   CAGTGCATCTGTACTG(-51)   CAGTGCATCTGTACTG(-51)   \n203   AAGTACAAATACTCAA(-34)   AAGTACAAATACTCAA(-34)   AAGTACAAATACTCAA(-34)   \n189  TAGTAAAATTGTATTA(-144)  TAGTAAAATTGTATTA(-144)  TAGTAAAATTGTATTA(-144)   \n..                      ...                     ...                     ...   \n88                      NaN                     NaN                     NaN   \n90                      NaN                     NaN                     NaN   \n91                      NaN                     NaN                     NaN   \n80   TAGTTCAAATACACTG(-124)                     NaN                     NaN   \n218                     NaN  GAGTGCGATCGCACAA(-207)                     NaN   \n\n              GCF_002939305           GCF_034438355           GCF_003003835  \\\n130   TAGTACAAAAGAACTA(-30)   TAGTACGAGTGAACTA(-29)   TAGTACGAGTGAACTA(-29)   \n145   TAGTATATCTGCACTA(-62)   TAGTATATCTGCACTA(-66)   TAGTATATCTGCACTA(-66)   \n176                     NaN   CAGTGCATCTGTACTG(-51)   TAGTACGGTTGTTTTT(-21)   \n203                     NaN   AAGTACAAATACTCAA(-34)   AAGTACAAATACTCAA(-34)   \n189                     NaN  TAGTAAAATTGTATTA(-144)  TAGTAAAATTGTATTA(-144)   \n..                      ...                     ...                     ...   \n88                      NaN                     NaN                     NaN   \n90   TAGTTCATATATACTC(-141)                     NaN                     NaN   \n91                      NaN                     NaN                     NaN   \n80                      NaN                     NaN                     NaN   \n218                     NaN                     NaN                     NaN   \n\n                        CCM           GCF_023546805  \n130   TAGTACATTGTTACTA(-40)   TAGTACGAGTGAACTA(-29)  \n145   TAGTATATCTGCACTA(-66)   TAGTATATCTGCACTA(-66)  \n176   CAGTGCAAATGTACTG(-60)   CAGTGCATCTGTACTG(-51)  \n203                     NaN   AAGTACAAATACTCAA(-34)  \n189                     NaN  TAGTAAAATTGTATTA(-144)  \n..                      ...                     ...  \n88                      NaN                     NaN  \n90                      NaN                     NaN  \n91   AAGTAAACTTGTACTA(-223)                     NaN  \n80                      NaN                     NaN  \n218                     NaN                     NaN  \n\n[219 rows x 11 columns]>"
     },
     "execution_count": 3,
     "metadata": {},
     "output_type": "execute_result"
    }
   ],
   "source": [
    "dataframe.info"
   ],
   "metadata": {
    "collapsed": false,
    "ExecuteTime": {
     "end_time": "2024-03-08T17:47:06.390578401Z",
     "start_time": "2024-03-08T17:47:06.378242365Z"
    }
   },
   "id": "4eafb09827939457"
  },
  {
   "cell_type": "code",
   "execution_count": 4,
   "outputs": [
    {
     "data": {
      "text/plain": "      gene           GCF_014696895           GCF_000317125  \\\n130   phrA   TAGTACGAGTGAACTA(-29)   TAGTACGAGTGAACTA(-29)   \n145   recA   TAGTATATCTGCACTA(-66)   TAGTATATCTGCACTA(-66)   \n176  smc_1   CAGTGCATCTGTACTG(-51)   CAGTGCATCTGTACTG(-51)   \n203    xfp   AAGTACAAATACTCAA(-34)   AAGTACAAATACTCAA(-34)   \n189   trpF  TAGTAAAATTGTATTA(-143)  TAGTAAAATTGTATTA(-144)   \n\n              GCF_003015105           GCF_032860985           GCF_003991895  \\\n130   TAGTACGAGTGAACTA(-29)   TAGTACGAGTGAACTA(-29)   TAGTACGAGTGAACTA(-29)   \n145   TAGTATATCTGCACTA(-66)   TAGTATATCTGCACTA(-66)   TAGTATATCTGCACTA(-66)   \n176   CAGTGCATCTGTACTG(-51)   CAGTGCATCTGTACTG(-51)   CAGTGCATCTGTACTG(-51)   \n203   AAGTACAAATACTCAA(-34)   AAGTACAAATACTCAA(-34)   AAGTACAAATACTCAA(-34)   \n189  TAGTAAAATTGTATTA(-144)  TAGTAAAATTGTATTA(-144)  TAGTAAAATTGTATTA(-144)   \n\n             GCF_002939305           GCF_034438355           GCF_003003835  \\\n130  TAGTACAAAAGAACTA(-30)   TAGTACGAGTGAACTA(-29)   TAGTACGAGTGAACTA(-29)   \n145  TAGTATATCTGCACTA(-62)   TAGTATATCTGCACTA(-66)   TAGTATATCTGCACTA(-66)   \n176                    NaN   CAGTGCATCTGTACTG(-51)   TAGTACGGTTGTTTTT(-21)   \n203                    NaN   AAGTACAAATACTCAA(-34)   AAGTACAAATACTCAA(-34)   \n189                    NaN  TAGTAAAATTGTATTA(-144)  TAGTAAAATTGTATTA(-144)   \n\n                       CCM           GCF_023546805  \n130  TAGTACATTGTTACTA(-40)   TAGTACGAGTGAACTA(-29)  \n145  TAGTATATCTGCACTA(-66)   TAGTATATCTGCACTA(-66)  \n176  CAGTGCAAATGTACTG(-60)   CAGTGCATCTGTACTG(-51)  \n203                    NaN   AAGTACAAATACTCAA(-34)  \n189                    NaN  TAGTAAAATTGTATTA(-144)  ",
      "text/html": "<div>\n<style scoped>\n    .dataframe tbody tr th:only-of-type {\n        vertical-align: middle;\n    }\n\n    .dataframe tbody tr th {\n        vertical-align: top;\n    }\n\n    .dataframe thead th {\n        text-align: right;\n    }\n</style>\n<table border=\"1\" class=\"dataframe\">\n  <thead>\n    <tr style=\"text-align: right;\">\n      <th></th>\n      <th>gene</th>\n      <th>GCF_014696895</th>\n      <th>GCF_000317125</th>\n      <th>GCF_003015105</th>\n      <th>GCF_032860985</th>\n      <th>GCF_003991895</th>\n      <th>GCF_002939305</th>\n      <th>GCF_034438355</th>\n      <th>GCF_003003835</th>\n      <th>CCM</th>\n      <th>GCF_023546805</th>\n    </tr>\n  </thead>\n  <tbody>\n    <tr>\n      <th>130</th>\n      <td>phrA</td>\n      <td>TAGTACGAGTGAACTA(-29)</td>\n      <td>TAGTACGAGTGAACTA(-29)</td>\n      <td>TAGTACGAGTGAACTA(-29)</td>\n      <td>TAGTACGAGTGAACTA(-29)</td>\n      <td>TAGTACGAGTGAACTA(-29)</td>\n      <td>TAGTACAAAAGAACTA(-30)</td>\n      <td>TAGTACGAGTGAACTA(-29)</td>\n      <td>TAGTACGAGTGAACTA(-29)</td>\n      <td>TAGTACATTGTTACTA(-40)</td>\n      <td>TAGTACGAGTGAACTA(-29)</td>\n    </tr>\n    <tr>\n      <th>145</th>\n      <td>recA</td>\n      <td>TAGTATATCTGCACTA(-66)</td>\n      <td>TAGTATATCTGCACTA(-66)</td>\n      <td>TAGTATATCTGCACTA(-66)</td>\n      <td>TAGTATATCTGCACTA(-66)</td>\n      <td>TAGTATATCTGCACTA(-66)</td>\n      <td>TAGTATATCTGCACTA(-62)</td>\n      <td>TAGTATATCTGCACTA(-66)</td>\n      <td>TAGTATATCTGCACTA(-66)</td>\n      <td>TAGTATATCTGCACTA(-66)</td>\n      <td>TAGTATATCTGCACTA(-66)</td>\n    </tr>\n    <tr>\n      <th>176</th>\n      <td>smc_1</td>\n      <td>CAGTGCATCTGTACTG(-51)</td>\n      <td>CAGTGCATCTGTACTG(-51)</td>\n      <td>CAGTGCATCTGTACTG(-51)</td>\n      <td>CAGTGCATCTGTACTG(-51)</td>\n      <td>CAGTGCATCTGTACTG(-51)</td>\n      <td>NaN</td>\n      <td>CAGTGCATCTGTACTG(-51)</td>\n      <td>TAGTACGGTTGTTTTT(-21)</td>\n      <td>CAGTGCAAATGTACTG(-60)</td>\n      <td>CAGTGCATCTGTACTG(-51)</td>\n    </tr>\n    <tr>\n      <th>203</th>\n      <td>xfp</td>\n      <td>AAGTACAAATACTCAA(-34)</td>\n      <td>AAGTACAAATACTCAA(-34)</td>\n      <td>AAGTACAAATACTCAA(-34)</td>\n      <td>AAGTACAAATACTCAA(-34)</td>\n      <td>AAGTACAAATACTCAA(-34)</td>\n      <td>NaN</td>\n      <td>AAGTACAAATACTCAA(-34)</td>\n      <td>AAGTACAAATACTCAA(-34)</td>\n      <td>NaN</td>\n      <td>AAGTACAAATACTCAA(-34)</td>\n    </tr>\n    <tr>\n      <th>189</th>\n      <td>trpF</td>\n      <td>TAGTAAAATTGTATTA(-143)</td>\n      <td>TAGTAAAATTGTATTA(-144)</td>\n      <td>TAGTAAAATTGTATTA(-144)</td>\n      <td>TAGTAAAATTGTATTA(-144)</td>\n      <td>TAGTAAAATTGTATTA(-144)</td>\n      <td>NaN</td>\n      <td>TAGTAAAATTGTATTA(-144)</td>\n      <td>TAGTAAAATTGTATTA(-144)</td>\n      <td>NaN</td>\n      <td>TAGTAAAATTGTATTA(-144)</td>\n    </tr>\n  </tbody>\n</table>\n</div>"
     },
     "execution_count": 4,
     "metadata": {},
     "output_type": "execute_result"
    }
   ],
   "source": [
    "dataframe.head()"
   ],
   "metadata": {
    "collapsed": false,
    "ExecuteTime": {
     "end_time": "2024-03-08T17:47:23.692302386Z",
     "start_time": "2024-03-08T17:47:23.642101652Z"
    }
   },
   "id": "68ac0c39159a53db"
  },
  {
   "cell_type": "code",
   "execution_count": 5,
   "outputs": [
    {
     "data": {
      "text/plain": "       gene           GCF_014696895           GCF_000317125  \\\n130    phrA   TAGTACGAGTGAACTA(-29)   TAGTACGAGTGAACTA(-29)   \n145    recA   TAGTATATCTGCACTA(-66)   TAGTATATCTGCACTA(-66)   \n176   smc_1   CAGTGCATCTGTACTG(-51)   CAGTGCATCTGTACTG(-51)   \n203     xfp   AAGTACAAATACTCAA(-34)   AAGTACAAATACTCAA(-34)   \n189    trpF  TAGTAAAATTGTATTA(-143)  TAGTAAAATTGTATTA(-144)   \n..      ...                     ...                     ...   \n88   htpX_5  GAGTAGATCCGTACTC(-135)                     NaN   \n90     ipsA                     NaN                     NaN   \n91   iscS_1                     NaN                     NaN   \n80   hisC_5                     NaN                     NaN   \n218  zosA_3                     NaN                     NaN   \n\n              GCF_003015105           GCF_032860985           GCF_003991895  \\\n130   TAGTACGAGTGAACTA(-29)   TAGTACGAGTGAACTA(-29)   TAGTACGAGTGAACTA(-29)   \n145   TAGTATATCTGCACTA(-66)   TAGTATATCTGCACTA(-66)   TAGTATATCTGCACTA(-66)   \n176   CAGTGCATCTGTACTG(-51)   CAGTGCATCTGTACTG(-51)   CAGTGCATCTGTACTG(-51)   \n203   AAGTACAAATACTCAA(-34)   AAGTACAAATACTCAA(-34)   AAGTACAAATACTCAA(-34)   \n189  TAGTAAAATTGTATTA(-144)  TAGTAAAATTGTATTA(-144)  TAGTAAAATTGTATTA(-144)   \n..                      ...                     ...                     ...   \n88                      NaN                     NaN                     NaN   \n90                      NaN                     NaN                     NaN   \n91                      NaN                     NaN                     NaN   \n80   TAGTTCAAATACACTG(-124)                     NaN                     NaN   \n218                     NaN  GAGTGCGATCGCACAA(-207)                     NaN   \n\n              GCF_002939305           GCF_034438355           GCF_003003835  \\\n130   TAGTACAAAAGAACTA(-30)   TAGTACGAGTGAACTA(-29)   TAGTACGAGTGAACTA(-29)   \n145   TAGTATATCTGCACTA(-62)   TAGTATATCTGCACTA(-66)   TAGTATATCTGCACTA(-66)   \n176                     NaN   CAGTGCATCTGTACTG(-51)   TAGTACGGTTGTTTTT(-21)   \n203                     NaN   AAGTACAAATACTCAA(-34)   AAGTACAAATACTCAA(-34)   \n189                     NaN  TAGTAAAATTGTATTA(-144)  TAGTAAAATTGTATTA(-144)   \n..                      ...                     ...                     ...   \n88                      NaN                     NaN                     NaN   \n90   TAGTTCATATATACTC(-141)                     NaN                     NaN   \n91                      NaN                     NaN                     NaN   \n80                      NaN                     NaN                     NaN   \n218                     NaN                     NaN                     NaN   \n\n                        CCM           GCF_023546805  \n130   TAGTACATTGTTACTA(-40)   TAGTACGAGTGAACTA(-29)  \n145   TAGTATATCTGCACTA(-66)   TAGTATATCTGCACTA(-66)  \n176   CAGTGCAAATGTACTG(-60)   CAGTGCATCTGTACTG(-51)  \n203                     NaN   AAGTACAAATACTCAA(-34)  \n189                     NaN  TAGTAAAATTGTATTA(-144)  \n..                      ...                     ...  \n88                      NaN                     NaN  \n90                      NaN                     NaN  \n91   AAGTAAACTTGTACTA(-223)                     NaN  \n80                      NaN                     NaN  \n218                     NaN                     NaN  \n\n[219 rows x 11 columns]",
      "text/html": "<div>\n<style scoped>\n    .dataframe tbody tr th:only-of-type {\n        vertical-align: middle;\n    }\n\n    .dataframe tbody tr th {\n        vertical-align: top;\n    }\n\n    .dataframe thead th {\n        text-align: right;\n    }\n</style>\n<table border=\"1\" class=\"dataframe\">\n  <thead>\n    <tr style=\"text-align: right;\">\n      <th></th>\n      <th>gene</th>\n      <th>GCF_014696895</th>\n      <th>GCF_000317125</th>\n      <th>GCF_003015105</th>\n      <th>GCF_032860985</th>\n      <th>GCF_003991895</th>\n      <th>GCF_002939305</th>\n      <th>GCF_034438355</th>\n      <th>GCF_003003835</th>\n      <th>CCM</th>\n      <th>GCF_023546805</th>\n    </tr>\n  </thead>\n  <tbody>\n    <tr>\n      <th>130</th>\n      <td>phrA</td>\n      <td>TAGTACGAGTGAACTA(-29)</td>\n      <td>TAGTACGAGTGAACTA(-29)</td>\n      <td>TAGTACGAGTGAACTA(-29)</td>\n      <td>TAGTACGAGTGAACTA(-29)</td>\n      <td>TAGTACGAGTGAACTA(-29)</td>\n      <td>TAGTACAAAAGAACTA(-30)</td>\n      <td>TAGTACGAGTGAACTA(-29)</td>\n      <td>TAGTACGAGTGAACTA(-29)</td>\n      <td>TAGTACATTGTTACTA(-40)</td>\n      <td>TAGTACGAGTGAACTA(-29)</td>\n    </tr>\n    <tr>\n      <th>145</th>\n      <td>recA</td>\n      <td>TAGTATATCTGCACTA(-66)</td>\n      <td>TAGTATATCTGCACTA(-66)</td>\n      <td>TAGTATATCTGCACTA(-66)</td>\n      <td>TAGTATATCTGCACTA(-66)</td>\n      <td>TAGTATATCTGCACTA(-66)</td>\n      <td>TAGTATATCTGCACTA(-62)</td>\n      <td>TAGTATATCTGCACTA(-66)</td>\n      <td>TAGTATATCTGCACTA(-66)</td>\n      <td>TAGTATATCTGCACTA(-66)</td>\n      <td>TAGTATATCTGCACTA(-66)</td>\n    </tr>\n    <tr>\n      <th>176</th>\n      <td>smc_1</td>\n      <td>CAGTGCATCTGTACTG(-51)</td>\n      <td>CAGTGCATCTGTACTG(-51)</td>\n      <td>CAGTGCATCTGTACTG(-51)</td>\n      <td>CAGTGCATCTGTACTG(-51)</td>\n      <td>CAGTGCATCTGTACTG(-51)</td>\n      <td>NaN</td>\n      <td>CAGTGCATCTGTACTG(-51)</td>\n      <td>TAGTACGGTTGTTTTT(-21)</td>\n      <td>CAGTGCAAATGTACTG(-60)</td>\n      <td>CAGTGCATCTGTACTG(-51)</td>\n    </tr>\n    <tr>\n      <th>203</th>\n      <td>xfp</td>\n      <td>AAGTACAAATACTCAA(-34)</td>\n      <td>AAGTACAAATACTCAA(-34)</td>\n      <td>AAGTACAAATACTCAA(-34)</td>\n      <td>AAGTACAAATACTCAA(-34)</td>\n      <td>AAGTACAAATACTCAA(-34)</td>\n      <td>NaN</td>\n      <td>AAGTACAAATACTCAA(-34)</td>\n      <td>AAGTACAAATACTCAA(-34)</td>\n      <td>NaN</td>\n      <td>AAGTACAAATACTCAA(-34)</td>\n    </tr>\n    <tr>\n      <th>189</th>\n      <td>trpF</td>\n      <td>TAGTAAAATTGTATTA(-143)</td>\n      <td>TAGTAAAATTGTATTA(-144)</td>\n      <td>TAGTAAAATTGTATTA(-144)</td>\n      <td>TAGTAAAATTGTATTA(-144)</td>\n      <td>TAGTAAAATTGTATTA(-144)</td>\n      <td>NaN</td>\n      <td>TAGTAAAATTGTATTA(-144)</td>\n      <td>TAGTAAAATTGTATTA(-144)</td>\n      <td>NaN</td>\n      <td>TAGTAAAATTGTATTA(-144)</td>\n    </tr>\n    <tr>\n      <th>...</th>\n      <td>...</td>\n      <td>...</td>\n      <td>...</td>\n      <td>...</td>\n      <td>...</td>\n      <td>...</td>\n      <td>...</td>\n      <td>...</td>\n      <td>...</td>\n      <td>...</td>\n      <td>...</td>\n    </tr>\n    <tr>\n      <th>88</th>\n      <td>htpX_5</td>\n      <td>GAGTAGATCCGTACTC(-135)</td>\n      <td>NaN</td>\n      <td>NaN</td>\n      <td>NaN</td>\n      <td>NaN</td>\n      <td>NaN</td>\n      <td>NaN</td>\n      <td>NaN</td>\n      <td>NaN</td>\n      <td>NaN</td>\n    </tr>\n    <tr>\n      <th>90</th>\n      <td>ipsA</td>\n      <td>NaN</td>\n      <td>NaN</td>\n      <td>NaN</td>\n      <td>NaN</td>\n      <td>NaN</td>\n      <td>TAGTTCATATATACTC(-141)</td>\n      <td>NaN</td>\n      <td>NaN</td>\n      <td>NaN</td>\n      <td>NaN</td>\n    </tr>\n    <tr>\n      <th>91</th>\n      <td>iscS_1</td>\n      <td>NaN</td>\n      <td>NaN</td>\n      <td>NaN</td>\n      <td>NaN</td>\n      <td>NaN</td>\n      <td>NaN</td>\n      <td>NaN</td>\n      <td>NaN</td>\n      <td>AAGTAAACTTGTACTA(-223)</td>\n      <td>NaN</td>\n    </tr>\n    <tr>\n      <th>80</th>\n      <td>hisC_5</td>\n      <td>NaN</td>\n      <td>NaN</td>\n      <td>TAGTTCAAATACACTG(-124)</td>\n      <td>NaN</td>\n      <td>NaN</td>\n      <td>NaN</td>\n      <td>NaN</td>\n      <td>NaN</td>\n      <td>NaN</td>\n      <td>NaN</td>\n    </tr>\n    <tr>\n      <th>218</th>\n      <td>zosA_3</td>\n      <td>NaN</td>\n      <td>NaN</td>\n      <td>NaN</td>\n      <td>GAGTGCGATCGCACAA(-207)</td>\n      <td>NaN</td>\n      <td>NaN</td>\n      <td>NaN</td>\n      <td>NaN</td>\n      <td>NaN</td>\n      <td>NaN</td>\n    </tr>\n  </tbody>\n</table>\n<p>219 rows × 11 columns</p>\n</div>"
     },
     "execution_count": 5,
     "metadata": {},
     "output_type": "execute_result"
    }
   ],
   "source": [
    "dataframe"
   ],
   "metadata": {
    "collapsed": false,
    "ExecuteTime": {
     "end_time": "2024-03-08T17:47:43.219736747Z",
     "start_time": "2024-03-08T17:47:43.208384087Z"
    }
   },
   "id": "e441066490b420b0"
  },
  {
   "cell_type": "code",
   "execution_count": null,
   "outputs": [],
   "source": [],
   "metadata": {
    "collapsed": false
   },
   "id": "815822f4539ec9b6"
  }
 ],
 "metadata": {
  "kernelspec": {
   "display_name": "Python 3",
   "language": "python",
   "name": "python3"
  },
  "language_info": {
   "codemirror_mode": {
    "name": "ipython",
    "version": 2
   },
   "file_extension": ".py",
   "mimetype": "text/x-python",
   "name": "python",
   "nbconvert_exporter": "python",
   "pygments_lexer": "ipython2",
   "version": "2.7.6"
  }
 },
 "nbformat": 4,
 "nbformat_minor": 5
}
