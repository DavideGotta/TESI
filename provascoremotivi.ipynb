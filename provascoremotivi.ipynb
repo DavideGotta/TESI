{
 "cells": [
  {
   "cell_type": "code",
   "execution_count": 1,
   "id": "initial_id",
   "metadata": {
    "collapsed": true,
    "ExecuteTime": {
     "end_time": "2024-05-29T17:29:49.087785Z",
     "start_time": "2024-05-29T17:29:49.036112Z"
    }
   },
   "outputs": [
    {
     "name": "stdout",
     "output_type": "stream",
     "text": [
      "        0      1      2      3      4      5      6      7      8      9     10     11     12     13     14     15\n",
      "A:   7.00  99.00   0.00   0.00  39.00  25.00  43.00  41.00  19.00  15.00   1.00  12.00  77.00   0.00   0.00  64.00\n",
      "C:  24.00   0.00   0.00   0.00  15.00  55.00  12.00   7.00  26.00   2.00   4.00  22.00  12.00  99.00   0.00  13.00\n",
      "G:   6.00   0.00  99.00   0.00  17.00   9.00  32.00   0.00  10.00   6.00  64.00  17.00   0.00   0.00   0.00  21.00\n",
      "T:  62.00   0.00   0.00  99.00  28.00  10.00  12.00  51.00  44.00  76.00  30.00  48.00  10.00   0.00  99.00   1.00\n"
     ]
    }
   ],
   "source": [
    "from Bio import SeqIO\n",
    "from Bio import motifs\n",
    "def load_motif(file_meme_xml, motif_index):\n",
    "    meme_record = motifs.parse(open(file_meme_xml), 'meme')\n",
    "    motif = meme_record[motif_index]\n",
    "    motif.pseudocounts = 1\n",
    "    return motif\n",
    "motivo= load_motif('/home/davide/Desktop/genomiChro/MEME/motivo8_oops/meme.xml', 0)\n",
    "print(motivo.counts)"
   ]
  },
  {
   "cell_type": "code",
   "outputs": [],
   "source": [
    "import numpy as np\n",
    "from math import log\n",
    "def precompute_values(motif):\n",
    "    q = motif.background\n",
    "    pwm = np.array([motif.pwm[base] for base in \"ACGT\"])\n",
    "\n",
    "    n = motif.num_occurrences\n",
    "    a = (n + 1) / (n + 4) * log(n + 1) - log(n + 4) - 1 / (n + 4) * sum(log(q[b]) for b in \"ACGT\") - n / (n + 4) * log(min(q.values()))\n",
    "\n",
    "    relative_entropy = np.zeros(motif.length)\n",
    "    for i in range(motif.length):\n",
    "        relative_entropy[i] = np.sum(pwm[:, i] * np.log(pwm[:, i] / np.array([q[b] for b in \"ACGT\"]))) / a\n",
    "\n",
    "    return a, relative_entropy\n",
    "\n",
    "for i in range(10000):\n",
    "    a, relative_entropy = precompute_values(motivo)\n"
   ],
   "metadata": {
    "collapsed": false,
    "ExecuteTime": {
     "end_time": "2024-05-29T17:36:46.741634Z",
     "start_time": "2024-05-29T17:36:41.863977Z"
    }
   },
   "id": "221df9944640fff4",
   "execution_count": 12
  },
  {
   "cell_type": "code",
   "outputs": [
    {
     "name": "stdout",
     "output_type": "stream",
     "text": [
      "1.2226043884126738\n",
      "[0.29506897441071567, 0.9999999999999998, 0.9999999999999998, 0.9999999999999998, 0.05563566338923674, 0.1980821349513933, 0.11108714605020387, 0.3533247096368185, 0.0952140136172144, 0.4856962387796685, 0.4179641373130755, 0.10798075931297677, 0.515815240045664, 0.9999999999999998, 0.9999999999999998, 0.34211891465231736]\n"
     ]
    }
   ],
   "source": [
    "def precompute_values2(motif):\n",
    "    q = motif.background\n",
    "    pwm = motif.pwm\n",
    "\n",
    "    n = motif.num_occurrences\n",
    "    a = (n + 1) / (n + 4) * log(n + 1) - log(n + 4) - 1 / (n + 4) * sum(log(q[b]) for b in \"ACGT\") - n / (n + 4) * log(min(q.values()))\n",
    "    def Info(i):\n",
    "        \"\"\" Calcola l'entropia relativa per la posizione i del motivo\"\"\"\n",
    "        somma = sum(pwm[b, i] * log(pwm[b, i] / q[b]) for b in \"ACGT\")\n",
    "        return somma / a\n",
    "    relative_entropy = [Info(i) for i in range(motif.length)]\n",
    "    return a, relative_entropy\n",
    "for i in range(10000):\n",
    "    a, relative_entropy = precompute_values2(motivo)\n",
    "print(a)\n",
    "print(relative_entropy)"
   ],
   "metadata": {
    "collapsed": false,
    "ExecuteTime": {
     "end_time": "2024-05-29T17:37:02.428976Z",
     "start_time": "2024-05-29T17:37:00.126034Z"
    }
   },
   "id": "7a3a5992ce1678db",
   "execution_count": 13
  },
  {
   "cell_type": "code",
   "outputs": [],
   "source": [
    "def sm_score(motif, seq):\n",
    "    q = motif.background\n",
    "    pwm = np.array([motif.pwm[base] for base in \"ACGT\"])\n",
    "\n",
    "    def normalization_factor():\n",
    "        n = motif.num_occurrences\n",
    "        return (n + 1) / (n + 4) * log(n + 1) - log(n + 4) - 1 / (n + 4) * sum(log(q[b]) for b in \"ACGT\") - n / (\n",
    "                    n + 4) * log(min(q.values()))\n",
    "\n",
    "    a = normalization_factor()\n",
    "\n",
    "    def relative_entropy(i):\n",
    "        return np.sum(pwm[:, i] * np.log(pwm[:, i] / np.array([q[b] for b in \"ACGT\"]))) / a\n",
    "\n",
    "    max_score = -float(\"inf\")\n",
    "    max_index = 0\n",
    "    motif_len = motif.length\n",
    "    seq_len = len(seq)\n",
    "\n",
    "    for i in range(seq_len - motif_len + 1):\n",
    "        sub_seq = seq[i:i + motif_len]\n",
    "        sub_seq_indices = np.array([np.where(np.array(list(\"ACGT\")) == base)[0][0] for base in sub_seq])\n",
    "        score = np.sum(\n",
    "            [relative_entropy(j) * log(pwm[sub_seq_indices[j], j] / q[sub_seq[j]]) for j in range(motif_len)])\n",
    "        if score > max_score:\n",
    "            max_score = score\n",
    "            max_index = i\n",
    "\n",
    "    return max_score, seq[max_index:max_index + motif_len], max_index - seq_len\n",
    "seq = \"A\"*motivo.length\n",
    "score, sub_seq, position = sm_score(motivo, seq)\n",
    "for i in range(1000):\n",
    "    score, sub_seq, position = sm_score(motivo, seq)\n"
   ],
   "metadata": {
    "collapsed": false,
    "ExecuteTime": {
     "end_time": "2024-05-29T17:41:04.394659Z",
     "start_time": "2024-05-29T17:41:03.785699Z"
    }
   },
   "id": "7af0a38740643af",
   "execution_count": 15
  },
  {
   "cell_type": "code",
   "outputs": [],
   "source": [
    "import numpy as np\n",
    "from math import log\n",
    "import Bio\n",
    "def sm(motivo: Bio.motifs, seq: str):\n",
    "    \"\"\"\n",
    "    Calcola lo score SM di una sequenza rispetto ad un motivo\n",
    "    :param motivo:  il motivo in formato Bio.motifs\n",
    "    :param seq:     la sequenza su cui calcolare lo score\n",
    "    :return:    lo score migliore nella sequenza intergenica rispetto al motivo, la sottosequenza a cui corrisponde e la usa poszione rispetto a inizio trascrizione\n",
    "    \"\"\"\n",
    "    q = motivo.background  # frequenze delle basi in tutte le sequenze intergeniche\n",
    "    pwm = motivo.pwm  # matrice di probabilità delle basi per ogni posizione del motivo\n",
    "\n",
    "    def a():\n",
    "        \"\"\"\n",
    "        Calcola il fattore di normalizzazione a\n",
    "        :return:    il fattore di normalizzazione a\n",
    "        \"\"\"\n",
    "        n = motivo.num_occurrences  # numero di sequenze con cui è stato costruito il motivo\n",
    "        a = (n + 1) / (n + 4) * log(n + 1) - log(n + 4) - 1 / (n + 4) * sum(log(q[b]) for b in \"ACGT\") - n / (\n",
    "                    n + 4) * log(min(q.values()))\n",
    "        return a\n",
    "\n",
    "    a = a()  # fattore di normalizzazione a\n",
    "\n",
    "    def Info(i):\n",
    "        \"\"\" Calcola l'entropia relativa per la posizione i del motivo\"\"\"\n",
    "        somma = sum(pwm[b, i] * log(pwm[b, i] / q[b]) for b in \"ACGT\")\n",
    "        return somma / a\n",
    "\n",
    "    max = -float(\"inf\")\n",
    "    max_i = 0\n",
    "    for i in range(len(seq) - motivo.length + 1):\n",
    "        h = seq[i:i + motivo.length]  # sottosequenza di lunghezza del motivo(l-mero della sequenza intergenica)\n",
    "        score = sum(Info(i) * log(pwm[h[i], i] / q[h[i]]) for i in range(len(h)))  # score della sottosequenza\n",
    "        if score > max:\n",
    "            max = score\n",
    "            max_i = i\n",
    "    return max, seq[max_i:max_i + motivo.length], max_i - len(seq)\n",
    "seq = \"A\"*motivo.length\n",
    "score, sub_seq, position = sm(motivo, seq)\n",
    "for i in range(1000):\n",
    "    seq=\"\".join(np.random.choice(list(\"ACGT\"), motivo.length))\n",
    "    score, sub_seq, position = sm(motivo, seq)"
   ],
   "metadata": {
    "collapsed": false,
    "ExecuteTime": {
     "end_time": "2024-05-29T17:43:58.938720Z",
     "start_time": "2024-05-29T17:43:58.660739Z"
    }
   },
   "id": "bb6030c888af219b",
   "execution_count": 19
  },
  {
   "cell_type": "code",
   "outputs": [],
   "source": [
    "def hamming_distance(s1, s2):\n",
    "    return np.sum(np.array(list(s1)) != np.array(list(s2)))\n",
    "\n",
    "\n",
    "def ortholog_sequences(pid, intergen_dir, genome_ref):\n",
    "    seqs = []\n",
    "    for file in intergen_dir.iterdir():\n",
    "        if genome_ref not in file.name:\n",
    "            for record in SeqIO.parse(file, \"fasta\"):\n",
    "                if pid in record.description:\n",
    "                    seqs.append(record.seq)\n",
    "    return seqs\n",
    "\n",
    "\n",
    "def refined_score(motif, pid, intergenic_seq, intergen_dir, genome_ref):\n",
    "    orthologs = ortholog_sequences(pid, intergen_dir, genome_ref)\n",
    "    sm_result = sm_score(motif, intergenic_seq)\n",
    "    s = str(sm_result[1])\n",
    "    motif_len = motif.length\n",
    "\n",
    "    ortholog_scores = [\n",
    "        (motif_len - hamming_distance(s, sm_score(motif, seq)[1])) / motif_len * sm_score(motif, seq)[0]\n",
    "        for seq in orthologs if len(seq) >= motif_len and \"N\" not in seq\n",
    "    ]\n",
    "    avg_ortholog_score = np.mean(ortholog_scores) if ortholog_scores else 0\n",
    "    return sm_result[0], sm_result[0] + avg_ortholog_score, s, sm_result[2]"
   ],
   "metadata": {
    "collapsed": false,
    "ExecuteTime": {
     "end_time": "2024-05-29T17:45:10.361279Z",
     "start_time": "2024-05-29T17:45:10.358014Z"
    }
   },
   "id": "696fab853cd5c2f2",
   "execution_count": 20
  },
  {
   "cell_type": "code",
   "outputs": [
    {
     "name": "stdout",
     "output_type": "stream",
     "text": [
      "/home/davide/Desktop/genomiChro/intergeniche_RefSeq/ortologhi/Chroococcidiopsis_sp._CCMEE_29_GCF_023558375_intergen.fasta\n",
      "(2.6811825081050005, 4.266467839766377, 'CAGTGTAATTGCTCGG', -184)\n"
     ]
    }
   ],
   "source": [
    "from pathlib import Path\n",
    "intergen_dir = Path(\"/home/davide/Desktop/genomiChro/intergeniche_RefSeq/ortologhi\")\n",
    "genome_ref = \"CCMEE_29\"\n",
    "for intergen_file in intergen_dir.iterdir():\n",
    "    if genome_ref in intergen_file.name:\n",
    "        intergen_path = str(intergen_file)\n",
    "        break\n",
    "print(intergen_path)\n",
    "for record in SeqIO.parse(intergen_path, \"fasta\"):\n",
    "    if len(record.seq) < len(motivo) or \"N\" in record.seq:\n",
    "        continue\n",
    "    start = record.description.find(\"WP_\")\n",
    "    end = record.description.find(\"'\", start)\n",
    "    pid = record.description[start:end]\n",
    "    result = refined_score(motivo, pid, record.seq, intergen_dir, genome_ref)\n",
    "    print(result)\n",
    "    break"
   ],
   "metadata": {
    "collapsed": false,
    "ExecuteTime": {
     "end_time": "2024-05-29T17:50:38.945728Z",
     "start_time": "2024-05-29T17:50:38.403189Z"
    }
   },
   "id": "a0f7ce32662bd012",
   "execution_count": 24
  },
  {
   "cell_type": "code",
   "outputs": [
    {
     "ename": "KeyboardInterrupt",
     "evalue": "",
     "output_type": "error",
     "traceback": [
      "\u001B[0;31m---------------------------------------------------------------------------\u001B[0m",
      "\u001B[0;31mKeyboardInterrupt\u001B[0m                         Traceback (most recent call last)",
      "Cell \u001B[0;32mIn[32], line 8\u001B[0m\n\u001B[1;32m      6\u001B[0m end \u001B[38;5;241m=\u001B[39m record\u001B[38;5;241m.\u001B[39mdescription\u001B[38;5;241m.\u001B[39mfind(\u001B[38;5;124m\"\u001B[39m\u001B[38;5;124m'\u001B[39m\u001B[38;5;124m\"\u001B[39m, start)\n\u001B[1;32m      7\u001B[0m pid \u001B[38;5;241m=\u001B[39m record\u001B[38;5;241m.\u001B[39mdescription[start:end]\n\u001B[0;32m----> 8\u001B[0m result \u001B[38;5;241m=\u001B[39m \u001B[43mrefined_score\u001B[49m\u001B[43m(\u001B[49m\u001B[43mmotivo\u001B[49m\u001B[43m,\u001B[49m\u001B[43m \u001B[49m\u001B[43mpid\u001B[49m\u001B[43m,\u001B[49m\u001B[43m \u001B[49m\u001B[43mrecord\u001B[49m\u001B[38;5;241;43m.\u001B[39;49m\u001B[43mseq\u001B[49m\u001B[43m,\u001B[49m\u001B[43m \u001B[49m\u001B[43mintergen_dir\u001B[49m\u001B[43m,\u001B[49m\u001B[43m \u001B[49m\u001B[43mgenome_ref\u001B[49m\u001B[43m)\u001B[49m\n\u001B[1;32m      9\u001B[0m i\u001B[38;5;241m+\u001B[39m\u001B[38;5;241m=\u001B[39m\u001B[38;5;241m1\u001B[39m\n\u001B[1;32m     10\u001B[0m \u001B[38;5;28;01mif\u001B[39;00m i\u001B[38;5;241m==\u001B[39m\u001B[38;5;241m100\u001B[39m:\n",
      "Cell \u001B[0;32mIn[20], line 16\u001B[0m, in \u001B[0;36mrefined_score\u001B[0;34m(motif, pid, intergenic_seq, intergen_dir, genome_ref)\u001B[0m\n\u001B[1;32m     15\u001B[0m \u001B[38;5;28;01mdef\u001B[39;00m \u001B[38;5;21mrefined_score\u001B[39m(motif, pid, intergenic_seq, intergen_dir, genome_ref):\n\u001B[0;32m---> 16\u001B[0m     orthologs \u001B[38;5;241m=\u001B[39m \u001B[43mortholog_sequences\u001B[49m\u001B[43m(\u001B[49m\u001B[43mpid\u001B[49m\u001B[43m,\u001B[49m\u001B[43m \u001B[49m\u001B[43mintergen_dir\u001B[49m\u001B[43m,\u001B[49m\u001B[43m \u001B[49m\u001B[43mgenome_ref\u001B[49m\u001B[43m)\u001B[49m\n\u001B[1;32m     17\u001B[0m     sm_result \u001B[38;5;241m=\u001B[39m sm_score(motif, intergenic_seq)\n\u001B[1;32m     18\u001B[0m     s \u001B[38;5;241m=\u001B[39m \u001B[38;5;28mstr\u001B[39m(sm_result[\u001B[38;5;241m1\u001B[39m])\n",
      "Cell \u001B[0;32mIn[20], line 10\u001B[0m, in \u001B[0;36mortholog_sequences\u001B[0;34m(pid, intergen_dir, genome_ref)\u001B[0m\n\u001B[1;32m      8\u001B[0m     \u001B[38;5;28;01mif\u001B[39;00m genome_ref \u001B[38;5;129;01mnot\u001B[39;00m \u001B[38;5;129;01min\u001B[39;00m file\u001B[38;5;241m.\u001B[39mname:\n\u001B[1;32m      9\u001B[0m         \u001B[38;5;28;01mfor\u001B[39;00m record \u001B[38;5;129;01min\u001B[39;00m SeqIO\u001B[38;5;241m.\u001B[39mparse(file, \u001B[38;5;124m\"\u001B[39m\u001B[38;5;124mfasta\u001B[39m\u001B[38;5;124m\"\u001B[39m):\n\u001B[0;32m---> 10\u001B[0m             \u001B[38;5;28;01mif\u001B[39;00m pid \u001B[38;5;129;01min\u001B[39;00m record\u001B[38;5;241m.\u001B[39mdescription:\n\u001B[1;32m     11\u001B[0m                 seqs\u001B[38;5;241m.\u001B[39mappend(record\u001B[38;5;241m.\u001B[39mseq)\n\u001B[1;32m     12\u001B[0m \u001B[38;5;28;01mreturn\u001B[39;00m seqs\n",
      "\u001B[0;31mKeyboardInterrupt\u001B[0m: "
     ]
    }
   ],
   "source": [
    "i=0\n",
    "for record in SeqIO.parse(intergen_path, \"fasta\"):\n",
    "    if len(record.seq) < len(motivo) or \"N\" in record.seq:\n",
    "        continue\n",
    "    start = record.description.find(\"WP_\")\n",
    "    end = record.description.find(\"'\", start)\n",
    "    pid = record.description[start:end]\n",
    "    result = refined_score(motivo, pid, record.seq, intergen_dir, genome_ref)\n",
    "    i+=1\n",
    "    if i==100:\n",
    "        break"
   ],
   "metadata": {
    "collapsed": false,
    "ExecuteTime": {
     "end_time": "2024-05-29T18:05:02.211680Z",
     "start_time": "2024-05-29T18:04:55.781460Z"
    }
   },
   "id": "36be9f33b57f4e98",
   "execution_count": 32
  },
  {
   "cell_type": "code",
   "outputs": [
    {
     "data": {
      "text/plain": "2000.0"
     },
     "execution_count": 30,
     "metadata": {},
     "output_type": "execute_result"
    }
   ],
   "source": [
    "40*5000/100"
   ],
   "metadata": {
    "collapsed": false,
    "ExecuteTime": {
     "end_time": "2024-05-29T18:04:06.618245Z",
     "start_time": "2024-05-29T18:04:06.613985Z"
    }
   },
   "id": "648cb80458f3300f",
   "execution_count": 30
  },
  {
   "cell_type": "code",
   "outputs": [
    {
     "data": {
      "text/plain": "33.333333333333336"
     },
     "execution_count": 31,
     "metadata": {},
     "output_type": "execute_result"
    }
   ],
   "source": [
    "2000/60"
   ],
   "metadata": {
    "collapsed": false,
    "ExecuteTime": {
     "end_time": "2024-05-29T18:04:15.875888Z",
     "start_time": "2024-05-29T18:04:15.871827Z"
    }
   },
   "id": "432c7858c78b9dc6",
   "execution_count": 31
  },
  {
   "cell_type": "code",
   "outputs": [],
   "source": [],
   "metadata": {
    "collapsed": false
   },
   "id": "be6445df3adff101"
  }
 ],
 "metadata": {
  "kernelspec": {
   "display_name": "Python 3",
   "language": "python",
   "name": "python3"
  },
  "language_info": {
   "codemirror_mode": {
    "name": "ipython",
    "version": 2
   },
   "file_extension": ".py",
   "mimetype": "text/x-python",
   "name": "python",
   "nbconvert_exporter": "python",
   "pygments_lexer": "ipython2",
   "version": "2.7.6"
  }
 },
 "nbformat": 4,
 "nbformat_minor": 5
}
