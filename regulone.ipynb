{
 "cells": [
  {
   "cell_type": "code",
   "execution_count": null,
   "id": "initial_id",
   "metadata": {
    "collapsed": true
   },
   "outputs": [],
   "source": [
    "from Bio.motifs import meme\n",
    "from Bio import motifs\n",
    "file_meme_xml=\"/home/davide/Desktop/genomiChro/MEME/motivo8_oops/meme.xml\"\n",
    "# meme_record = meme.read(open(file_meme_xml)) # stessa cosa di sotto in un altro modo\n",
    "meme_record = motifs.parse(open(file_meme_xml), 'meme')\n",
    "motivo = meme_record[0]"
   ]
  },
  {
   "cell_type": "code",
   "outputs": [],
   "source": [
    "print(motivo.consensus)\n",
    "# sequenza consenso del motivo"
   ],
   "metadata": {
    "collapsed": false
   },
   "id": "b46be025aeb5fd05",
   "execution_count": null
  },
  {
   "cell_type": "code",
   "outputs": [],
   "source": [
    "print(motivo.degenerate_consensus)\n",
    "# sequenza consenso degenerato del motivo"
   ],
   "metadata": {
    "collapsed": false
   },
   "id": "77850f0a865a99b1",
   "execution_count": null
  },
  {
   "cell_type": "code",
   "outputs": [],
   "source": [
    "print(motivo.counts)\n",
    "#matrice di conteggio delle basi per ogni posizione del motivo"
   ],
   "metadata": {
    "collapsed": false
   },
   "id": "224cc2001a25d604",
   "execution_count": null
  },
  {
   "cell_type": "code",
   "outputs": [],
   "source": [
    "print(motivo.pwm)\n",
    "#matrice di probabilità delle basi per ogni posizione del motivo"
   ],
   "metadata": {
    "collapsed": false
   },
   "id": "1620ef291f734bc9",
   "execution_count": null
  },
  {
   "cell_type": "code",
   "outputs": [],
   "source": [
    "print(motivo.name)\n",
    "#nome del motivo presente nel file meme.xml"
   ],
   "metadata": {
    "collapsed": false
   },
   "id": "4453da82224633dc",
   "execution_count": null
  },
  {
   "cell_type": "code",
   "outputs": [],
   "source": [
    "print(motivo.length)\n",
    "#lunghezza del motivo"
   ],
   "metadata": {
    "collapsed": false
   },
   "id": "f95540f78ec4c516",
   "execution_count": null
  },
  {
   "cell_type": "code",
   "outputs": [],
   "source": [
    "print(motivo.alignment)\n",
    "#allineamento del motivo con le sequenze con cui è stato formato"
   ],
   "metadata": {
    "collapsed": false
   },
   "id": "e5b170c8d5faeb0c",
   "execution_count": null
  },
  {
   "cell_type": "code",
   "outputs": [],
   "source": [
    "print(motivo.relative_entropy)"
   ],
   "metadata": {
    "collapsed": false
   },
   "id": "1485ba36ecfe7ebd",
   "execution_count": null
  },
  {
   "cell_type": "code",
   "outputs": [],
   "source": [
    "\n",
    "motivo.pseudocounts=1\n",
    "print(motivo.pseudocounts)"
   ],
   "metadata": {
    "collapsed": false
   },
   "id": "67891f5ec2abbf49",
   "execution_count": null
  },
  {
   "cell_type": "code",
   "outputs": [],
   "source": [
    "print(motivo.relative_entropy)"
   ],
   "metadata": {
    "collapsed": false
   },
   "id": "edd67f07ac77c555",
   "execution_count": null
  },
  {
   "cell_type": "code",
   "outputs": [],
   "source": [
    "print(motivo.pwm)"
   ],
   "metadata": {
    "collapsed": false
   },
   "id": "41b53ba3a29eb980",
   "execution_count": null
  },
  {
   "cell_type": "code",
   "outputs": [],
   "source": [],
   "metadata": {
    "collapsed": false
   },
   "id": "4c85c20f5339f54c",
   "execution_count": null
  },
  {
   "cell_type": "code",
   "outputs": [],
   "source": [],
   "metadata": {
    "collapsed": false
   },
   "id": "f6becba2c80d8256"
  },
  {
   "cell_type": "code",
   "outputs": [],
   "source": [
    "from math import log\n",
    "from Bio import motifs\n",
    "import Bio\n",
    "def sm(motivo:Bio.motifs, seq:str):\n",
    "    \"\"\"\n",
    "    Calcola lo score SM di una sequenza rispetto ad un motivo\n",
    "    :param motivo:  il motivo in formato Bio.motifs\n",
    "    :param seq:     la sequenza su cui calcolare lo score\n",
    "    :return:    lo score della sequenza rispetto al motivo\n",
    "    \"\"\"\n",
    "    q=motivo.background #frequenze delle basi in tutte le sequenze intergeniche\n",
    "    pwm=motivo.pwm #matrice di probabilità delle basi per ogni posizione del motivo\n",
    "    def a():\n",
    "        \"\"\"\n",
    "        Calcola il fattore di normalizzazione a\n",
    "        :return:    il fattore di normalizzazione a\n",
    "        \"\"\"\n",
    "        n=len(motivo.instances) #numero di sequenze con cui è stato costruito il motivo\n",
    "        a=(n+1)/(n+4)*log(n+1)-log(n+4)-1/(n+4)*sum(log(q[b]) for b in \"ACGT\")-n/(n+4)*log(min(q.values()))\n",
    "        return a\n",
    "    a=a() #fattore di normalizzazione a\n",
    "    \n",
    "    def Info(i):\n",
    "        \"\"\" Calcola l'entropia relativa per la posizione i del motivo\"\"\"\n",
    "        somma = sum(pwm[b,i]*log(pwm[b,i]/q[b]) for b in \"ACGT\")\n",
    "        return somma/a\n",
    "    \n",
    "    max=-float(\"inf\")\n",
    "    max_i=0\n",
    "    for i in range(len(seq)-motivo.length+1):\n",
    "        h=seq[i:i+motivo.length] #sottosequenza di lunghezza del motivo(l-mero della sequenza intergenica)\n",
    "        score=sum(Info(i)*log(pwm[h[i],i]/q[h[i]]) for i in range(len(h))) #score della sottosequenza\n",
    "        if score>max:\n",
    "            max=score\n",
    "            max_i=i\n",
    "    return max,seq[max_i:max_i+motivo.length],max_i-len(seq)\n",
    "\n",
    "# sequenza consenso del motivo\n",
    "for record in SeqIO.parse(\"/home/davide/Desktop/genomiChro/intergeniche_RefSeq/ortologhi/Chroococcidiopsis_sp._CCMEE_29_GCF_023558375_intergen.fasta\",\"fasta\"):\n",
    "    if \"WP_250121220.1\" in record.description:\n",
    "        print(sm(motivo,record.seq))"
   ],
   "metadata": {
    "collapsed": false
   },
   "id": "a636d46bef585ef7",
   "execution_count": null
  },
  {
   "cell_type": "code",
   "outputs": [],
   "source": [
    "def Hamming(s1:str,s2:str):\n",
    "    \"\"\"\n",
    "    Calcola la distanza di Hamming tra due sequenze\n",
    "    :param s1:  la prima sequenza\n",
    "    :param s2:  la seconda sequenza\n",
    "    :return:    la distanza di Hamming tra le due sequenze\n",
    "    \"\"\"\n",
    "    return sum(1 for i in range(len(s1)) if s1[i]!=s2[i])\n",
    "from pathlib import Path\n",
    "from Bio import SeqIO\n",
    "\n",
    "def ortologhi(pid:str):\n",
    "    \"\"\"\n",
    "    Restituisce la lista delle sequenze intergeniche upstream degli ortologhi del gene\n",
    "    :param pid: l'identificatore del gene(Protein ID)\n",
    "    :return:    la lista delle sequenze intergeniche upstream degli ortologhi del gene\n",
    "    \"\"\"\n",
    "    seq_intergeniche=Path(\"/home/davide/Desktop/genomiChro/intergeniche_RefSeq/ortologhi\")\n",
    "    seqs=[]\n",
    "    for file in seq_intergeniche.iterdir():\n",
    "        if \"CCMEE_29\" not in file.name:\n",
    "            for record in SeqIO.parse(file,\"fasta\"):\n",
    "                if pid in record.description:\n",
    "                    seqs.append(record.seq)\n",
    "    return seqs\n",
    "\n",
    "def refined_score(motivo:Bio.motifs, pid:str, intergenica:str):\n",
    "    \"\"\"\n",
    "    Calcola lo score SM di una sequenza rispetto ad un motivo\n",
    "    :param motivo:  il motivo in formato Bio.motifs\n",
    "    :param pid:     l'identificatore del gene(Protein ID)\n",
    "    :return:    lo score della sequenza rispetto al motivo\n",
    "    \"\"\"\n",
    "    intergeniche_ortologhi=ortologhi(pid)\n",
    "    motivo_len=motivo.length\n",
    "    s=sm(motivo,intergenica)[1] #sequenza  nell'intergenica di CCMEE29 con maggior score\n",
    "    score_ortologhi=[(motivo_len-Hamming(s,seq))/motivo_len*sm(motivo,seq)[0] for seq in intergeniche_ortologhi]\n",
    "    avg=sum(score_ortologhi)/len(score_ortologhi)\n",
    "    return sm(motivo,intergenica)[0]+avg\n",
    "    \n"
   ],
   "metadata": {
    "collapsed": false
   },
   "id": "6170303397bd96f4",
   "execution_count": null
  },
  {
   "cell_type": "code",
   "outputs": [],
   "source": [
    "for record in SeqIO.parse(\"/home/davide/Desktop/genomiChro/intergeniche_RefSeq/ortologhi/Chroococcidiopsis_sp._CCMEE_29_GCF_023558375_intergen.fasta\",\"fasta\"):\n",
    "    if \"WP_250121220.1\" in record.description:\n",
    "        s=record.seq\n",
    "        print(refined_score(motivo,\"WP_250121220.1\",s))"
   ],
   "metadata": {
    "collapsed": false
   },
   "id": "bf12b97573473670",
   "execution_count": null
  },
  {
   "cell_type": "code",
   "outputs": [],
   "source": [],
   "metadata": {
    "collapsed": false
   },
   "id": "455ab79753d203f7"
  }
 ],
 "metadata": {
  "kernelspec": {
   "display_name": "Python 3",
   "language": "python",
   "name": "python3"
  },
  "language_info": {
   "codemirror_mode": {
    "name": "ipython",
    "version": 2
   },
   "file_extension": ".py",
   "mimetype": "text/x-python",
   "name": "python",
   "nbconvert_exporter": "python",
   "pygments_lexer": "ipython2",
   "version": "2.7.6"
  }
 },
 "nbformat": 4,
 "nbformat_minor": 5
}
