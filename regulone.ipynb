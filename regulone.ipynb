{
 "cells": [
  {
   "cell_type": "code",
   "execution_count": 17,
   "id": "initial_id",
   "metadata": {
    "collapsed": true,
    "ExecuteTime": {
     "end_time": "2024-05-20T14:43:36.527513Z",
     "start_time": "2024-05-20T14:43:36.505891Z"
    }
   },
   "outputs": [],
   "source": [
    "from Bio.motifs import meme\n",
    "from Bio import motifs\n",
    "file_meme_xml=\"/home/davide/Desktop/genomiChro/MEME/motivo8_oops/meme.xml\"\n",
    "# meme_record = meme.read(open(file_meme_xml)) # stessa cosa di sotto in un altro modo\n",
    "meme_record = motifs.parse(open(file_meme_xml), 'meme')\n",
    "motivo = meme_record[0]"
   ]
  },
  {
   "cell_type": "code",
   "outputs": [],
   "source": [
    "from collections import Counter\n",
    "motivo.pseudocounts=1\n",
    "def calculate_background(file):\n",
    "    sequences = SeqIO.parse(file, \"fasta\")\n",
    "    all_sequences = \"\".join(str(record.seq) for record in sequences)\n",
    "    nucleotide_frequency = Counter(all_sequences)\n",
    "    total_nucleotides =  sum(nucleotide_frequency.values())\n",
    "    for nucleotide, count in nucleotide_frequency.items():\n",
    "        nucleotide_frequency[nucleotide] = count / total_nucleotides\n",
    "    return nucleotide_frequency\n",
    "file=\"/home/davide/Desktop/genomiChro/intergeniche_RefSeq/ortologhi/Chroococcidiopsis_sp._CCMEE_29_GCF_023558375_intergen.fasta\"\n",
    "motivo.background=calculate_background(file)"
   ],
   "metadata": {
    "collapsed": false,
    "ExecuteTime": {
     "end_time": "2024-05-20T14:44:52.744354Z",
     "start_time": "2024-05-20T14:44:52.657445Z"
    }
   },
   "id": "edd67f07ac77c555",
   "execution_count": 20
  },
  {
   "cell_type": "code",
   "outputs": [],
   "source": [],
   "metadata": {
    "collapsed": false
   },
   "id": "4c85c20f5339f54c",
   "execution_count": null
  },
  {
   "cell_type": "code",
   "outputs": [],
   "source": [],
   "metadata": {
    "collapsed": false
   },
   "id": "f6becba2c80d8256"
  },
  {
   "cell_type": "code",
   "outputs": [
    {
     "name": "stdout",
     "output_type": "stream",
     "text": [
      "(6.9765024606644666, Seq('TAGTACGAATGTTCTA'), -48)\n"
     ]
    }
   ],
   "source": [
    "from math import log\n",
    "from Bio import motifs\n",
    "import Bio\n",
    "def sm(motivo:Bio.motifs, seq:str):\n",
    "    \"\"\"\n",
    "    Calcola lo score SM di una sequenza rispetto ad un motivo\n",
    "    :param motivo:  il motivo in formato Bio.motifs\n",
    "    :param seq:     la sequenza su cui calcolare lo score\n",
    "    :return:    lo score della sequenza rispetto al motivo\n",
    "    \"\"\"\n",
    "    q=motivo.background #frequenze delle basi in tutte le sequenze intergeniche\n",
    "    pwm=motivo.pwm #matrice di probabilità delle basi per ogni posizione del motivo\n",
    "    def a():\n",
    "        \"\"\"\n",
    "        Calcola il fattore di normalizzazione a\n",
    "        :return:    il fattore di normalizzazione a\n",
    "        \"\"\"\n",
    "        n=len(motivo.instances) #numero di sequenze con cui è stato costruito il motivo\n",
    "        a=(n+1)/(n+4)*log(n+1)-log(n+4)-1/(n+4)*sum(log(q[b]) for b in \"ACGT\")-n/(n+4)*log(min(q.values()))\n",
    "        return a\n",
    "    a=a() #fattore di normalizzazione a\n",
    "    \n",
    "    def Info(i):\n",
    "        \"\"\" Calcola l'entropia relativa per la posizione i del motivo\"\"\"\n",
    "        somma = sum(pwm[b,i]*log(pwm[b,i]/q[b]) for b in \"ACGT\")\n",
    "        return somma/a\n",
    "    \n",
    "    max=-float(\"inf\")\n",
    "    max_i=0\n",
    "    for i in range(len(seq)-motivo.length+1):\n",
    "        h=seq[i:i+motivo.length] #sottosequenza di lunghezza del motivo(l-mero della sequenza intergenica)\n",
    "        score=sum(Info(i)*log(pwm[h[i],i]/q[h[i]]) for i in range(len(h))) #score della sottosequenza\n",
    "        if score>max:\n",
    "            max=score\n",
    "            max_i=i\n",
    "    return max,seq[max_i:max_i+motivo.length],max_i-len(seq)\n",
    "\n",
    "# sequenza consenso del motivo\n",
    "for record in SeqIO.parse(\"/home/davide/Desktop/genomiChro/intergeniche_RefSeq/ortologhi/Chroococcidiopsis_sp._CCMEE_29_GCF_023558375_intergen.fasta\",\"fasta\"):\n",
    "    if \"WP_250121220.1\" in record.description:\n",
    "        print(sm(motivo,record.seq))"
   ],
   "metadata": {
    "collapsed": false,
    "ExecuteTime": {
     "end_time": "2024-05-20T14:45:00.146252Z",
     "start_time": "2024-05-20T14:45:00.104166Z"
    }
   },
   "id": "a636d46bef585ef7",
   "execution_count": 21
  },
  {
   "cell_type": "code",
   "outputs": [],
   "source": [
    "def Hamming(s1:str,s2:str):\n",
    "    \"\"\"\n",
    "    Calcola la distanza di Hamming tra due sequenze\n",
    "    :param s1:  la prima sequenza\n",
    "    :param s2:  la seconda sequenza\n",
    "    :return:    la distanza di Hamming tra le due sequenze\n",
    "    \"\"\"\n",
    "    return sum(1 for i in range(len(s1)) if s1[i]!=s2[i])\n",
    "from pathlib import Path\n",
    "from Bio import SeqIO\n",
    "\n",
    "def ortologhi(pid:str):\n",
    "    \"\"\"\n",
    "    Restituisce la lista delle sequenze intergeniche upstream degli ortologhi del gene\n",
    "    :param pid: l'identificatore del gene(Protein ID)\n",
    "    :return:    la lista delle sequenze intergeniche upstream degli ortologhi del gene\n",
    "    \"\"\"\n",
    "    seq_intergeniche=Path(\"/home/davide/Desktop/genomiChro/intergeniche_RefSeq/ortologhi\")\n",
    "    seqs=[]\n",
    "    for file in seq_intergeniche.iterdir():\n",
    "        if \"CCMEE_29\" not in file.name:\n",
    "            for record in SeqIO.parse(file,\"fasta\"):\n",
    "                if pid in record.description:\n",
    "                    seqs.append(record.seq)\n",
    "    return seqs\n",
    "\n",
    "def refined_score(motivo:Bio.motifs, pid:str, intergenica:str):\n",
    "    \"\"\"\n",
    "    Calcola lo score SM di una sequenza rispetto ad un motivo\n",
    "    :param motivo:  il motivo in formato Bio.motifs\n",
    "    :param pid:     l'identificatore del gene(Protein ID)\n",
    "    :return:    lo score della sequenza rispetto al motivo\n",
    "    \"\"\"\n",
    "    intergeniche_ortologhi=ortologhi(pid)\n",
    "    motivo_len=motivo.length\n",
    "    s=sm(motivo,intergenica)[1] #sequenza  nell'intergenica di CCMEE29 con maggior score\n",
    "    score_ortologhi=[(motivo_len-Hamming(s,seq))/motivo_len*sm(motivo,seq)[0] for seq in intergeniche_ortologhi]\n",
    "    avg=sum(score_ortologhi)/len(score_ortologhi)\n",
    "    return sm(motivo,intergenica)[0]+avg\n",
    "    \n"
   ],
   "metadata": {
    "collapsed": false
   },
   "id": "6170303397bd96f4",
   "execution_count": null
  },
  {
   "cell_type": "code",
   "outputs": [],
   "source": [
    "for record in SeqIO.parse(\"/home/davide/Desktop/genomiChro/intergeniche_RefSeq/ortologhi/Chroococcidiopsis_sp._CCMEE_29_GCF_023558375_intergen.fasta\",\"fasta\"):\n",
    "    if \"WP_250121220.1\" in record.description:\n",
    "        s=record.seq\n",
    "        print(refined_score(motivo,\"WP_250121220.1\",s))"
   ],
   "metadata": {
    "collapsed": false
   },
   "id": "bf12b97573473670",
   "execution_count": null
  },
  {
   "cell_type": "code",
   "outputs": [],
   "source": [
    "from Bio import SeqIO\n",
    "def extract_coding_seq(genoma:str):\n",
    "    \"\"\"\n",
    "    Estrae tutte le sequenze codificanti dal genoma genbank\n",
    "    \"\"\"\n",
    "    for record in SeqIO.parse(genoma,\"genbank\"):\n",
    "        for feature in record.features:\n",
    "            if feature.type==\"CDS\":\n",
    "                yield feature.location.extract(record.seq)\n",
    "\n"
   ],
   "metadata": {
    "collapsed": false,
    "ExecuteTime": {
     "end_time": "2024-05-20T14:42:06.623031Z",
     "start_time": "2024-05-20T14:42:06.206097Z"
    }
   },
   "id": "11a077c5f0619ccd",
   "execution_count": 15
  },
  {
   "cell_type": "code",
   "outputs": [],
   "source": [
    "intergen=\"/home/davide/Desktop/genomiChro/intergeniche_RefSeq/ortologhi/Chroococcidiopsis_sp._CCMEE_29_GCF_023558375_intergen.fasta\"\n",
    "def countseqs(fasta_file):\n",
    "        sequences = list(SeqIO.parse(fasta_file, \"fasta\"))\n",
    "        return len(sequences)\n",
    "def LOR(score):\n",
    "    num = sum(1 for record in SeqIO.parse(intergen,\"fasta\") if sm(motivo,record.seq)[0]>score) / countseqs(intergen)\n",
    "    print(num)\n",
    "    coding=extract_coding_seq(\"TESI/annotati_Refseq/Chroococcidiopsis_sp._CCMEE_29_(cyanobacteria)_GCF_023558375.gbff\")\n",
    "    den = sum(1 for seq in coding if sm(motivo,seq)[0]>score)\n",
    "    print(den)\n",
    "    if den == 0:\n",
    "        return 0\n",
    "    else:\n",
    "        return log(num / den)\n",
    "\n",
    "    \n",
    "   \n",
    "    "
   ],
   "metadata": {
    "collapsed": false,
    "ExecuteTime": {
     "end_time": "2024-05-20T15:21:28.177736Z",
     "start_time": "2024-05-20T15:21:28.174705Z"
    }
   },
   "id": "bc0100342e130a02",
   "execution_count": 39
  },
  {
   "cell_type": "code",
   "outputs": [
    {
     "name": "stdout",
     "output_type": "stream",
     "text": [
      "Score SM maggiore: 7.310606849483272 per la sottosequenza TAGTATATCTGCACTA in posizione -67\n",
      "0.0022476119123431356\n",
      "LOR: 0\n"
     ]
    }
   ],
   "source": [
    "for record in SeqIO.parse(file,\"fasta\"):\n",
    "    if \"WP_250121493.1\" in record.description:\n",
    "        s=record.seq\n",
    "        print(f\"Score SM maggiore: {sm(motivo,s)[0]} per la sottosequenza {sm(motivo,s)[1]} in posizione {sm(motivo,s)[2]}\")\n",
    "        score=sm(motivo,s)[0]\n",
    "        print(f\"LOR: {LOR(score)}\")"
   ],
   "metadata": {
    "collapsed": false,
    "ExecuteTime": {
     "end_time": "2024-05-20T15:24:14.799833Z",
     "start_time": "2024-05-20T15:21:29.333345Z"
    }
   },
   "id": "263e9973ea957a06",
   "execution_count": 40
  },
  {
   "cell_type": "code",
   "outputs": [
    {
     "data": {
      "text/plain": "209.25192307692308"
     },
     "execution_count": 38,
     "metadata": {},
     "output_type": "execute_result"
    }
   ],
   "source": [
    "#print avergae length of sequences in seqs_300\n",
    "sum(len(seq) for seq in seqs)/len(seqs)"
   ],
   "metadata": {
    "collapsed": false,
    "ExecuteTime": {
     "end_time": "2024-05-20T15:21:00.583497Z",
     "start_time": "2024-05-20T15:21:00.580809Z"
    }
   },
   "id": "8395647e578d22a9",
   "execution_count": 38
  },
  {
   "cell_type": "code",
   "outputs": [
    {
     "data": {
      "text/plain": "200.60741711931072"
     },
     "execution_count": 37,
     "metadata": {},
     "output_type": "execute_result"
    }
   ],
   "source": [
    "#print average length of sequences in file fasta\n",
    "sum(len(record.seq) for record in SeqIO.parse(intergen,\"fasta\"))/countseqs(intergen)"
   ],
   "metadata": {
    "collapsed": false,
    "ExecuteTime": {
     "end_time": "2024-05-20T15:15:20.976572Z",
     "start_time": "2024-05-20T15:15:20.932952Z"
    }
   },
   "id": "3babad5035079082",
   "execution_count": 37
  },
  {
   "cell_type": "code",
   "outputs": [],
   "source": [],
   "metadata": {
    "collapsed": false
   },
   "id": "dc4dbc2dc97e0b1d"
  },
  {
   "cell_type": "code",
   "outputs": [
    {
     "data": {
      "text/plain": "5339"
     },
     "execution_count": 41,
     "metadata": {},
     "output_type": "execute_result"
    }
   ],
   "source": [
    "countseqs(intergen)"
   ],
   "metadata": {
    "collapsed": false,
    "ExecuteTime": {
     "end_time": "2024-05-20T15:24:14.824333Z",
     "start_time": "2024-05-20T15:24:14.800772Z"
    }
   },
   "id": "c2ea2986899a1f5d",
   "execution_count": 41
  },
  {
   "cell_type": "code",
   "outputs": [
    {
     "name": "stdout",
     "output_type": "stream",
     "text": [
      "0.6719999999999999\n"
     ]
    }
   ],
   "source": [
    "print(0.00224*300)"
   ],
   "metadata": {
    "collapsed": false,
    "ExecuteTime": {
     "end_time": "2024-05-20T15:27:44.310451Z",
     "start_time": "2024-05-20T15:27:44.308176Z"
    }
   },
   "id": "45b7947af5b98082",
   "execution_count": 44
  },
  {
   "cell_type": "code",
   "outputs": [
    {
     "data": {
      "text/plain": "1071043"
     },
     "execution_count": 45,
     "metadata": {},
     "output_type": "execute_result"
    }
   ],
   "source": [
    "sum(len(record.seq) for record in SeqIO.parse(intergen,\"fasta\"))"
   ],
   "metadata": {
    "collapsed": false,
    "ExecuteTime": {
     "end_time": "2024-05-20T15:40:36.420324Z",
     "start_time": "2024-05-20T15:40:36.397461Z"
    }
   },
   "id": "7213042e0d3ba641",
   "execution_count": 45
  },
  {
   "cell_type": "code",
   "outputs": [
    {
     "data": {
      "text/plain": "5387094"
     },
     "execution_count": 46,
     "metadata": {},
     "output_type": "execute_result"
    }
   ],
   "source": [
    "sum(len(seq) for seq in extract_coding_seq(\"/home/davide/Desktop/genomiChro/annotati_Refseq/Chroococcidiopsis_sp._CCMEE_29_GCF_023558375.gbff\"))"
   ],
   "metadata": {
    "collapsed": false,
    "ExecuteTime": {
     "end_time": "2024-05-20T15:41:11.917071Z",
     "start_time": "2024-05-20T15:41:11.484778Z"
    }
   },
   "id": "dd790959b79a774e",
   "execution_count": 46
  },
  {
   "cell_type": "code",
   "outputs": [],
   "source": [],
   "metadata": {
    "collapsed": false
   },
   "id": "6b46657bf9d79119"
  }
 ],
 "metadata": {
  "kernelspec": {
   "display_name": "Python 3",
   "language": "python",
   "name": "python3"
  },
  "language_info": {
   "codemirror_mode": {
    "name": "ipython",
    "version": 2
   },
   "file_extension": ".py",
   "mimetype": "text/x-python",
   "name": "python",
   "nbconvert_exporter": "python",
   "pygments_lexer": "ipython2",
   "version": "2.7.6"
  }
 },
 "nbformat": 4,
 "nbformat_minor": 5
}
